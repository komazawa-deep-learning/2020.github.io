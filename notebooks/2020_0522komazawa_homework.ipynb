{
  "nbformat": 4,
  "nbformat_minor": 0,
  "metadata": {
    "accelerator": "GPU",
    "colab": {
      "name": "2020-0522komazawa_homework.ipynb",
      "provenance": [],
      "collapsed_sections": [],
      "include_colab_link": true
    },
    "kernelspec": {
      "display_name": "Python 3",
      "language": "python",
      "name": "python3"
    },
    "language_info": {
      "codemirror_mode": {
        "name": "ipython",
        "version": 3
      },
      "file_extension": ".py",
      "mimetype": "text/x-python",
      "name": "python",
      "nbconvert_exporter": "python",
      "pygments_lexer": "ipython3",
      "version": "3.7.7"
    }
  },
  "cells": [
    {
      "cell_type": "markdown",
      "metadata": {
        "id": "view-in-github",
        "colab_type": "text"
      },
      "source": [
        "<a href=\"https://colab.research.google.com/github/komazawa-deep-learning/komazawa-deep-learning.github.io/blob/master/notebooks/2020_0522komazawa_homework.ipynb\" target=\"_parent\"><img src=\"https://colab.research.google.com/assets/colab-badge.svg\" alt=\"Open In Colab\"/></a>"
      ]
    },
    {
      "cell_type": "markdown",
      "metadata": {
        "colab_type": "text",
        "id": "hqWLfwr4f5Th"
      },
      "source": [
        "\n",
        "# 2020年度 駒澤大学文学部心理学特講IIIA \n",
        "<div align=\"right\">\n",
        "<img src=\"https://koma-sso.komazawa-u.ac.jp/idp/images/header_logo.png\">\n",
        "</div>\n",
        "\n",
        "課題提出用\n",
        "- 作成者: 浅川伸一\n",
        "- [授業用ページ](https://komazawa-deep-learning.github.io/)\n"
      ]
    },
    {
      "cell_type": "code",
      "metadata": {
        "colab_type": "code",
        "id": "V039nHeuOqcn",
        "colab": {}
      },
      "source": [
        "#@title # facesheet { run: \"auto\", vertical-output: true, display-mode: \"form\" }\n",
        "date = '2020-05-22'  #@param {type: \"date\"}\n",
        "name = '氏名: '  #@param {type: \"string\"}\n",
        "id = '学生番号: '  #@param {type: \"string\"}\n",
        "\n",
        "#@markdown ---\n"
      ],
      "execution_count": 0,
      "outputs": []
    },
    {
      "cell_type": "markdown",
      "metadata": {
        "colab_type": "text",
        "id": "Eof2F-T-eFW3"
      },
      "source": [
        "# 課題ファイルの提出方法\n",
        "\n",
        "1. このファイルのファイル名を次のように変更する **本日の日付+氏名.ipynb**\n",
        "2. 変更したファイル名 で 自分の Google ドライブに保存する\n",
        "3. 下の課題をすべて解いて，必要事項を記入する\n",
        "4. Google ドライブからファイルを選んで，共有情報を入手する\n",
        "5. メールを開いて，以下のような宛先にする\n",
        "    - To: **educ0233@komazawa-u.ac.jp**\n",
        "    - Cc: **1自分の学生番号+イニシャル@komazawa-u.ac.jp**\n",
        "6. メールの件名を **本日の日付(yyyymmdd)+自分の学生番号** とする\n",
        "7. 本文に，Google drive の共有情報を貼り付ける\n",
        "8. 送信ボタンを押下する\n",
        "\n"
      ]
    },
    {
      "cell_type": "code",
      "metadata": {
        "cellView": "form",
        "colab_type": "code",
        "id": "FXldmijXhDud",
        "colab": {}
      },
      "source": [
        "#@title 授業の評価\n",
        "\n",
        "Q1 = '本日の感想' #@param {type:\"string\"}\n",
        "Q2 = '難易度:分かりやすかった' #@param{type:'string'} [\"難易度:分かりやすかった\", \"難易度:どちらとも言えない\", \"難易度:分かりにくかった\"]\n",
        "Q3 = '進み方:速かった' #@param{type:'string'}['進み方:速かった', '進み方:ちょうどよかった', '進み方:ゆっくりすぎた']\n"
      ],
      "execution_count": 0,
      "outputs": []
    },
    {
      "cell_type": "code",
      "metadata": {
        "colab_type": "code",
        "id": "pLIYramOmFBz",
        "colab": {}
      },
      "source": [
        "#@title ## 印象 {display-mode: \"form\"}\n",
        "#@markdown ### 問 1-1. 授業で取り上げた話題の中で <font color='red'>もっとも印象に残っている</font> 話題を一つ挙げよ。また簡単に，1行程度でその理由を記せ\n",
        "topic2_1 = '話題1: '  #@param {type: \"string\"}\n",
        "reason2_1 = '理由1:'  #@param {type: \"string\"}\n",
        "\n",
        "#@markdown ### 問 1-2. 授業で取り上げた話題の中で <font color='red'>2番目に印象に残っている</font> 話題を一つ挙げよ。また簡単に，1行程度でその理由を記せ\n",
        "topic2_2 = '話題2:'  #@param {type: \"string\"}\n",
        "reason2_2 = '理由2:'  #@param {type: \"string\"}\n",
        "\n",
        "#@markdown ### 問 1-3. 授業で取り上げた話題の中で <font color='red'>もっとも興味が持てなかった</font> 話題を一つ挙げよ。また簡単に，1行程度でその理由を記せ\n",
        "topic2_3 = '話題3:'  #@param {type: \"string\"}\n",
        "reason2_3 = '理由3:'  #@param {type: \"string\"}\n",
        "#@markdown ---\n",
        "x1 = \"\"\n"
      ],
      "execution_count": 0,
      "outputs": []
    },
    {
      "cell_type": "markdown",
      "metadata": {
        "id": "8qzUKziCYZ9q",
        "colab_type": "text"
      },
      "source": [
        "---\n",
        "\n",
        "## 先週の実習ファイルで，任意の画像を認識させた結果の画面のスクリーンショットを取り，そのファイルを以下に貼り付けよ。\n",
        "\n",
        "先週 (5月15日) の実習ファイルは [こちら](https://github.com/komazawa-deep-learning/komazawa-deep-learning.github.io/blob/master/notebooks/2020_0515komazawa_ResNet50_demo.ipynb)\n",
        "\n"
      ]
    },
    {
      "cell_type": "code",
      "metadata": {
        "id": "AZoczr-FYd4W",
        "colab_type": "code",
        "colab": {}
      },
      "source": [
        "from google.colab import files\n",
        "\n",
        "uploaded = files.upload()  # 画面の指示に従って，自分の PC に保存したスクリーンショットのファイル名を選択する"
      ],
      "execution_count": 0,
      "outputs": []
    },
    {
      "cell_type": "code",
      "metadata": {
        "id": "gKUjJ2tKZWu5",
        "colab_type": "code",
        "colab": {}
      },
      "source": [
        "# 以下では，仮にアップロードしたファイル名が `Screen Shot 2020-05-22 at 10.56.40.png` だとして例を示しています。\n",
        "import IPython.display\n",
        "\n",
        "IPython.display.Image(filename='Screen Shot 2020-05-16 at 10.56.40.png')"
      ],
      "execution_count": 0,
      "outputs": []
    },
    {
      "cell_type": "markdown",
      "metadata": {
        "id": "LniU45jvbW7f",
        "colab_type": "text"
      },
      "source": [
        "## ヒューベルとウィーゼルの見出した事実を簡潔にまとめよ"
      ]
    },
    {
      "cell_type": "markdown",
      "metadata": {
        "id": "Zrd_L0bzbgQM",
        "colab_type": "text"
      },
      "source": [
        "<font color=\"blue\">このセルをダブルクリックして，回答を入力してください</font>"
      ]
    },
    {
      "cell_type": "markdown",
      "metadata": {
        "id": "-OX6xqqEbW4Y",
        "colab_type": "text"
      },
      "source": [
        ""
      ]
    },
    {
      "cell_type": "markdown",
      "metadata": {
        "id": "BL3bMacIbtuK",
        "colab_type": "text"
      },
      "source": [
        "## ワンアルゴリズム仮説とは何か，簡潔に記せ"
      ]
    },
    {
      "cell_type": "markdown",
      "metadata": {
        "id": "I8_x9IBtbzRy",
        "colab_type": "text"
      },
      "source": [
        "<font color=\"blue\">このセルをダブルクリックして，回答を入力してください</font>\n"
      ]
    },
    {
      "cell_type": "code",
      "metadata": {
        "colab_type": "code",
        "id": "t3gVOhGn40F0",
        "colab": {}
      },
      "source": [
        "#@title ## 全体の感想 {display-mode: \"form\"}\n",
        "#@markdown ### 本日の授業でのトラブルについて，ご意見をお聞かせください\n",
        "opinion = \"意見\" #@param {type: \"string\"}"
      ],
      "execution_count": 0,
      "outputs": []
    },
    {
      "cell_type": "code",
      "metadata": {
        "id": "9Ui5xhATYIkg",
        "colab_type": "code",
        "colab": {}
      },
      "source": [
        ""
      ],
      "execution_count": 0,
      "outputs": []
    }
  ]
}