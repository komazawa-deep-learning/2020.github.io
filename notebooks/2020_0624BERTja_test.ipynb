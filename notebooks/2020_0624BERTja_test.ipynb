{
  "nbformat": 4,
  "nbformat_minor": 0,
  "metadata": {
    "colab": {
      "name": "2020-0624BERTja_test.ipynb",
      "provenance": [],
      "private_outputs": true,
      "authorship_tag": "ABX9TyPguZUnC2xns8qfH+YT4ha5",
      "include_colab_link": true
    },
    "kernelspec": {
      "name": "python3",
      "display_name": "Python 3"
    }
  },
  "cells": [
    {
      "cell_type": "markdown",
      "metadata": {
        "id": "view-in-github",
        "colab_type": "text"
      },
      "source": [
        "<a href=\"https://colab.research.google.com/github/komazawa-deep-learning/komazawa-deep-learning.github.io/blob/master/notebooks/2020_0624BERTja_test.ipynb\" target=\"_parent\"><img src=\"https://colab.research.google.com/assets/colab-badge.svg\" alt=\"Open In Colab\"/></a>"
      ]
    },
    {
      "cell_type": "markdown",
      "metadata": {
        "id": "m6rzcDCA2vT4",
        "colab_type": "text"
      },
      "source": [
        "# juman and bert \n",
        "from https://yag-ays.github.io/project/pytorch_bert_japanese/"
      ]
    },
    {
      "cell_type": "code",
      "metadata": {
        "id": "CemrRklc2YBT",
        "colab_type": "code",
        "colab": {}
      },
      "source": [
        "# fetech source files of juman \n",
        "!wget http://lotus.kuee.kyoto-u.ac.jp/nl-resource/jumanpp/jumanpp-1.01.tar.xz   "
      ],
      "execution_count": null,
      "outputs": []
    },
    {
      "cell_type": "code",
      "metadata": {
        "id": "Q66Zg-Mv2ZLw",
        "colab_type": "code",
        "colab": {}
      },
      "source": [
        "!tar xJvf jumanpp-1.01.tar.xz > /dev/null"
      ],
      "execution_count": null,
      "outputs": []
    },
    {
      "cell_type": "code",
      "metadata": {
        "id": "-SRqGFF04RHS",
        "colab_type": "code",
        "colab": {}
      },
      "source": [
        "!(cd jumanpp-1.01; make install) > /dev/null"
      ],
      "execution_count": null,
      "outputs": []
    },
    {
      "cell_type": "code",
      "metadata": {
        "id": "Tx9q4Dkn29Ym",
        "colab_type": "code",
        "colab": {}
      },
      "source": [
        "#!find jumanpp-1.01 -name jumanpp  # jumanpp-1.01/src/jumanpp\n",
        "#!echo $PATH\n",
        "#!export PATH=`echo $PHATH /content/jumanpp-1.01/src/`\n",
        "!echo \"私もあさって日曜最終日\" | jumanpp\n",
        "#!which jumanpp  # /usr/local/bin/jumanpp"
      ],
      "execution_count": null,
      "outputs": []
    },
    {
      "cell_type": "code",
      "metadata": {
        "id": "-n6CROBd9zYh",
        "colab_type": "code",
        "colab": {}
      },
      "source": [
        "!wget http://nlp.ist.i.kyoto-u.ac.jp/DLcounter/lime.cgi?down=http://nlp.ist.i.kyoto-u.ac.jp/nl-resource/JapaneseBertPretrainedModel/Japanese_L-12_H-768_A-12_E-30_BPE.zip&name=Japanese_L-12_H-768_A-12_E-30_BPE.zip"
      ],
      "execution_count": null,
      "outputs": []
    },
    {
      "cell_type": "code",
      "metadata": {
        "id": "VJi6JCCjPcNN",
        "colab_type": "code",
        "colab": {}
      },
      "source": [
        "#!ls -l\n",
        "#!mv 'lime.cgi?down=http:%2F%2Fnlp.ist.i.kyoto-u.ac.jp%2Fnl-resource%2FJapaneseBertPretrainedModel%2FJapanese_L-12_H-768_A-12_E-30_BPE.zip' Japanese_L-12_H-768_A-12_E-30_BPE.zip\n",
        "!unzip Japanese_L-12_H-768_A-12_E-30_BPE.zip"
      ],
      "execution_count": null,
      "outputs": []
    },
    {
      "cell_type": "code",
      "metadata": {
        "id": "XTGBmdk_89k2",
        "colab_type": "code",
        "colab": {}
      },
      "source": [
        "!pip install pytorch-pretrained-bert\n",
        "!pip install pyknp"
      ],
      "execution_count": null,
      "outputs": []
    },
    {
      "cell_type": "code",
      "metadata": {
        "id": "ujwtkbj-292H",
        "colab_type": "code",
        "colab": {}
      },
      "source": [
        "!git clone https://github.com/yagays/pytorch_bert_japanese.git"
      ],
      "execution_count": null,
      "outputs": []
    },
    {
      "cell_type": "code",
      "metadata": {
        "id": "QNu4RejC73bB",
        "colab_type": "code",
        "colab": {}
      },
      "source": [
        "!cp pytorch_bert_japanese/bert_juman.py ."
      ],
      "execution_count": null,
      "outputs": []
    },
    {
      "cell_type": "code",
      "metadata": {
        "id": "OwoYgEQf75Kp",
        "colab_type": "code",
        "colab": {}
      },
      "source": [
        "from bert_juman import BertWithJumanModel\n",
        "\n",
        "bert = BertWithJumanModel(\"Japanese_L-12_H-768_A-12_E-30_BPE\")\n",
        "bert.get_sentence_embedding(\"吾輩は猫である。\")"
      ],
      "execution_count": null,
      "outputs": []
    },
    {
      "cell_type": "code",
      "metadata": {
        "id": "xFKWD_uJ9h0v",
        "colab_type": "code",
        "colab": {}
      },
      "source": [
        ""
      ],
      "execution_count": null,
      "outputs": []
    }
  ]
}