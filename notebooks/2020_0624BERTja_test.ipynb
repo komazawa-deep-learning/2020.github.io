{
  "nbformat": 4,
  "nbformat_minor": 0,
  "metadata": {
    "colab": {
      "name": "2020-0624BERTja_test.ipynb",
      "provenance": [],
      "private_outputs": true,
      "authorship_tag": "ABX9TyPpQUG4/0wYY68GmTThEdtH",
      "include_colab_link": true
    },
    "kernelspec": {
      "name": "python3",
      "display_name": "Python 3"
    }
  },
  "cells": [
    {
      "cell_type": "markdown",
      "metadata": {
        "id": "view-in-github",
        "colab_type": "text"
      },
      "source": [
        "<a href=\"https://colab.research.google.com/github/komazawa-deep-learning/komazawa-deep-learning.github.io/blob/master/notebooks/2020_0624BERTja_test.ipynb\" target=\"_parent\"><img src=\"https://colab.research.google.com/assets/colab-badge.svg\" alt=\"Open In Colab\"/></a>"
      ]
    },
    {
      "cell_type": "markdown",
      "metadata": {
        "id": "m6rzcDCA2vT4",
        "colab_type": "text"
      },
      "source": [
        "# juman and bert \n",
        "from https://yag-ays.github.io/project/pytorch_bert_japanese/\n",
        "\n",
        "## 注意\n",
        "- 必要なファイルのダウンロードに時間がかかります。\n",
        "- 自習時間に実行してください。\n",
        "- 通信環境によっては数時間必要です。3時間以上かかる場合もあると予想します。\n",
        "- 放っておくと colab の接続が切断してしまうので，30 分以上放置しないようにしてください。\n",
        "- 切断してしまうと，もう一度最初からやり直しかも知れません"
      ]
    },
    {
      "cell_type": "code",
      "metadata": {
        "id": "CemrRklc2YBT",
        "colab_type": "code",
        "colab": {}
      },
      "source": [
        "# 日本語分かち書きのための juman のソースコードをダウンロード\n",
        "!wget http://lotus.kuee.kyoto-u.ac.jp/nl-resource/jumanpp/jumanpp-1.01.tar.xz   "
      ],
      "execution_count": null,
      "outputs": []
    },
    {
      "cell_type": "code",
      "metadata": {
        "id": "Q66Zg-Mv2ZLw",
        "colab_type": "code",
        "colab": {}
      },
      "source": [
        "# 上でダウンロードしたファイルを解凍\n",
        "!tar xJvf jumanpp-1.01.tar.xz > /dev/null"
      ],
      "execution_count": null,
      "outputs": []
    },
    {
      "cell_type": "code",
      "metadata": {
        "id": "dsW1ajFoTYjt",
        "colab_type": "code",
        "colab": {}
      },
      "source": [
        "!ls jumanpp-1.01"
      ],
      "execution_count": null,
      "outputs": []
    },
    {
      "cell_type": "code",
      "metadata": {
        "id": "-SRqGFF04RHS",
        "colab_type": "code",
        "colab": {}
      },
      "source": [
        "# 上で解凍したファイルをコンパイルして juman を作成\n",
        "!(cd jumanpp-1.01; ./configure; make install) > /dev/null"
      ],
      "execution_count": null,
      "outputs": []
    },
    {
      "cell_type": "code",
      "metadata": {
        "id": "Tx9q4Dkn29Ym",
        "colab_type": "code",
        "colab": {}
      },
      "source": [
        "# 上で作成した juman の 動作確認\n",
        "#!find jumanpp-1.01 -name jumanpp  # jumanpp-1.01/src/jumanpp\n",
        "#!echo $PATH\n",
        "#!export PATH=`echo $PHATH /content/jumanpp-1.01/src/`\n",
        "!echo \"私もあさって日曜最終日\" | jumanpp\n",
        "#!which jumanpp  # /usr/local/bin/jumanpp"
      ],
      "execution_count": null,
      "outputs": []
    },
    {
      "cell_type": "code",
      "metadata": {
        "id": "-n6CROBd9zYh",
        "colab_type": "code",
        "colab": {}
      },
      "source": [
        "# 日本語化した BERT のダウンロード special thanks to 京都大学 黒橋，村脇研究室\n",
        "# ここに時間がかかります。\n",
        "!wget http://nlp.ist.i.kyoto-u.ac.jp/DLcounter/lime.cgi?down=http://nlp.ist.i.kyoto-u.ac.jp/nl-resource/JapaneseBertPretrainedModel/Japanese_L-12_H-768_A-12_E-30_BPE.zip&name=Japanese_L-12_H-768_A-12_E-30_BPE.zip"
      ],
      "execution_count": null,
      "outputs": []
    },
    {
      "cell_type": "code",
      "metadata": {
        "id": "VJi6JCCjPcNN",
        "colab_type": "code",
        "colab": {}
      },
      "source": [
        "# 上でダウンロードした日本語化 BERT の解凍\n",
        "#!ls -l\n",
        "#!mv 'lime.cgi?down=http:%2F%2Fnlp.ist.i.kyoto-u.ac.jp%2Fnl-resource%2FJapaneseBertPretrainedModel%2FJapanese_L-12_H-768_A-12_E-30_BPE.zip' Japanese_L-12_H-768_A-12_E-30_BPE.zip\n",
        "!unzip Japanese_L-12_H-768_A-12_E-30_BPE.zip"
      ],
      "execution_count": null,
      "outputs": []
    },
    {
      "cell_type": "code",
      "metadata": {
        "id": "XTGBmdk_89k2",
        "colab_type": "code",
        "colab": {}
      },
      "source": [
        "# PyTorch 版の BERT をインストール\n",
        "!pip install pytorch-pretrained-bert\n",
        "!pip install pyknp"
      ],
      "execution_count": null,
      "outputs": []
    },
    {
      "cell_type": "code",
      "metadata": {
        "id": "ujwtkbj-292H",
        "colab_type": "code",
        "colab": {}
      },
      "source": [
        "# 日本語化 BERT を扱うためのコードをダウンロード\n",
        "!git clone https://github.com/yagays/pytorch_bert_japanese.git"
      ],
      "execution_count": null,
      "outputs": []
    },
    {
      "cell_type": "code",
      "metadata": {
        "id": "QNu4RejC73bB",
        "colab_type": "code",
        "colab": {}
      },
      "source": [
        "# 上でダウンロードしたファイルを適切な場所に移動する\n",
        "!cp pytorch_bert_japanese/bert_juman.py ."
      ],
      "execution_count": null,
      "outputs": []
    },
    {
      "cell_type": "code",
      "metadata": {
        "id": "OwoYgEQf75Kp",
        "colab_type": "code",
        "colab": {}
      },
      "source": [
        "# 上でダウンロードしたファイルを輸入して準備作業はおしまい\n",
        "from bert_juman import BertWithJumanModel\n",
        "\n",
        "# 日本語化 BERT の読み込み\n",
        "bert = BertWithJumanModel(\"Japanese_L-12_H-768_A-12_E-30_BPE\")\n",
        "\n",
        "# 実験\n",
        "bert.get_sentence_embedding(\"吾輩は猫である。\")"
      ],
      "execution_count": null,
      "outputs": []
    },
    {
      "cell_type": "code",
      "metadata": {
        "id": "xFKWD_uJ9h0v",
        "colab_type": "code",
        "colab": {}
      },
      "source": [
        "# この下に自分でサンプル文章を入力して確認"
      ],
      "execution_count": null,
      "outputs": []
    }
  ]
}