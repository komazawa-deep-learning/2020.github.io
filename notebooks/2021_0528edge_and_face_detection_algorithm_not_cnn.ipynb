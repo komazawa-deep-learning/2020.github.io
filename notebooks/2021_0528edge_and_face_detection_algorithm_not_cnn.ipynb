{
  "nbformat": 4,
  "nbformat_minor": 0,
  "metadata": {
    "colab": {
      "name": "2021_0528edge_and_face_detection_algorithm_not_cnn.ipynb",
      "private_outputs": true,
      "provenance": [],
      "authorship_tag": "ABX9TyPH56n+wFmoXN1HjBNQ5H56",
      "include_colab_link": true
    },
    "kernelspec": {
      "name": "python3",
      "display_name": "Python 3"
    },
    "language_info": {
      "name": "python"
    }
  },
  "cells": [
    {
      "cell_type": "markdown",
      "metadata": {
        "id": "view-in-github",
        "colab_type": "text"
      },
      "source": [
        "<a href=\"https://colab.research.google.com/github/komazawa-deep-learning/komazawa-deep-learning.github.io/blob/master/notebooks/2021_0528edge_and_face_detection_algorithm_not_cnn.ipynb\" target=\"_parent\"><img src=\"https://colab.research.google.com/assets/colab-badge.svg\" alt=\"Open In Colab\"/></a>"
      ]
    },
    {
      "cell_type": "markdown",
      "metadata": {
        "id": "VEQfL6GtqE1g"
      },
      "source": [
        "# DOG 等エッジ検出と顔検出の従来手法"
      ]
    },
    {
      "cell_type": "code",
      "metadata": {
        "id": "tN6Ec2hKnR_r"
      },
      "source": [
        "!pip install japanize_matplotlib\n",
        "!wget https://raw.githubusercontent.com/opencv/opencv/master/data/haarcascades/haarcascade_frontalcatface.xml"
      ],
      "execution_count": null,
      "outputs": []
    },
    {
      "cell_type": "code",
      "metadata": {
        "id": "uH61g2k4nYPd"
      },
      "source": [
        "import os\n",
        "import numpy as np\n",
        "import matplotlib.pyplot as plt\n",
        "import japanize_matplotlib\n",
        "%matplotlib inline\n",
        "\n",
        "import cv2 as cv"
      ],
      "execution_count": null,
      "outputs": []
    },
    {
      "cell_type": "code",
      "metadata": {
        "id": "wb_Hp6-xnyw4"
      },
      "source": [
        "#ファイルをアップロードします\n",
        "from google.colab import files\n",
        "#files?\n",
        "files.upload()  # ご自身の PC からファイルをアップロードして下さい"
      ],
      "execution_count": null,
      "outputs": []
    },
    {
      "cell_type": "code",
      "metadata": {
        "id": "o-D0Qsi_ojcM"
      },
      "source": [
        "#アップロードしたファイルの表示\n",
        "img_cv = cv.imread(image_file)\n",
        "plt.figure(figsize = (6, 8))\n",
        "plt.axis('off')\n",
        "plt.imshow(cv.cvtColor(img_cv, cv.COLOR_BGR2RGB))  # OpenCV は RGB ではなく BGR なので変換"
      ],
      "execution_count": null,
      "outputs": []
    },
    {
      "cell_type": "code",
      "metadata": {
        "id": "VR9FGL6tov-z"
      },
      "source": [
        "from skimage.color import rgb2gray\n",
        "\n",
        "img_gray = rgb2gray(img)\n",
        "print('画像のサイズ:', img_gray.shape, '\\n')\n",
        "\n",
        "# 2D pixel map\n",
        "print('画像の画素の値')\n",
        "print(np.round(img_gray, 2), '\\n')\n",
        "\n",
        "# flattened pixel feature vector\n",
        "print('一次元にしてみます', (np.round(img_gray.flatten(), 2)))\n",
        "\n",
        "plt.figure(figsize = (6, 8))  # 表示画像のサイズ単位はインチで横と縦を指定\n",
        "plt.imshow(img_gray, cmap=\"gray\"); plt.show()\n",
        "c_freq, c_bins, c_patches = plt.hist(img_gray.flatten(), bins=30)"
      ],
      "execution_count": null,
      "outputs": []
    },
    {
      "cell_type": "code",
      "metadata": {
        "id": "YwTHE1q6nt_D"
      },
      "source": [
        "# opencv の顔認識モジュールをLoad the classifier and create a cascade object for face detection\n",
        "opencv_base = '.'\n",
        "face_cascade = cv.CascadeClassifier(os.path.join(opencv_base,'haarcascade_frontalcatface.xml'))\n",
        "#face_cascade = cv.CascadeClassifier(os.path.join(opencv_base,'haarcascade_frontalface_alt2.xml'))\n",
        "#face_cascade = cv.CascadeClassifier(os.path.join(opencv_base,'haarcascade_fullbody.xml'))"
      ],
      "execution_count": null,
      "outputs": []
    },
    {
      "cell_type": "code",
      "metadata": {
        "id": "PLdxv_e2oA9-"
      },
      "source": [
        "#DoG 関数の定義\n",
        "def DoG(img, ker1=3, ker2=5):\n",
        "    blur2 = cv.GaussianBlur(img, (ker2, ker2), 0)\n",
        "    blur1 = cv.GaussianBlur(img, (ker1, ker1), 0)\n",
        "\n",
        "    return blur2 - blur1\n"
      ],
      "execution_count": null,
      "outputs": []
    },
    {
      "cell_type": "code",
      "metadata": {
        "id": "Je5fuOEwo4qx"
      },
      "source": [
        "dog_img = DoG(img)\n",
        "plt.imshow(dog_img); plt.show()\n",
        "\n",
        "dog_img = DoG(img, ker1=3, ker2=9)\n",
        "plt.imshow(dog_img); plt.show()"
      ],
      "execution_count": null,
      "outputs": []
    },
    {
      "cell_type": "code",
      "metadata": {
        "id": "ebuhJ_PEo7FS"
      },
      "source": [
        "# Canny アルゴリズムによるエッジ（端点）検出の実演\n",
        "from skimage.feature import canny\n",
        "\n",
        "img_edges = canny(img_gray, sigma=3)\n",
        "\n",
        "plt.figure(figsize = (6, 8))\n",
        "plt.axis('off')\n",
        "plt.imshow(img_edges, cmap='binary')\n"
      ],
      "execution_count": null,
      "outputs": []
    },
    {
      "cell_type": "code",
      "metadata": {
        "id": "EDDHRNFBpEO2"
      },
      "source": [
        "#HOG の実演\n",
        "from skimage.feature import hog\n",
        "from skimage import exposure\n",
        "\n",
        "# 下の orientation の値は 0 から 9 までです。変化させて，結果を観察してください\n",
        "fd_img, img_hog = hog(img_gray, orientations=8, pixels_per_cell=(8, 8), \n",
        "                      cells_per_block=(3, 3), visualize=True)\n",
        "\n",
        "# rescaling intensity to get better plots\n",
        "img_hogs = exposure.rescale_intensity(img_hog, in_range=(0, 0.04))\n",
        "\n",
        "plt.figure(figsize = (6, 8))\n",
        "plt.axis('off')\n",
        "plt.imshow(img_hogs, cmap='binary')\n"
      ],
      "execution_count": null,
      "outputs": []
    },
    {
      "cell_type": "code",
      "metadata": {
        "id": "_ywTJmfFpG6O"
      },
      "source": [
        "files.upload()  # ご自身の PC からファイルをアップロードして下さい"
      ],
      "execution_count": null,
      "outputs": []
    },
    {
      "cell_type": "code",
      "metadata": {
        "id": "rOEl49DSpOhW"
      },
      "source": [
        "face_image_filename = 'IMG_4056.jpg'  # アップロードした顔画像ファイル名に書き換えてください\n",
        "original_image = cv.imread(face_image_filename)\n",
        "\n",
        "# Convert color image to grayscale for Viola-Jones\n",
        "grayscale_image = cv.cvtColor(original_image, cv.COLOR_BGR2GRAY)\n",
        "detected_faces = face_cascade.detectMultiScale(grayscale_image)"
      ],
      "execution_count": null,
      "outputs": []
    },
    {
      "cell_type": "code",
      "metadata": {
        "id": "uV5f5QXHpw8U"
      },
      "source": [
        "for (column, row, width, height) in detected_faces:\n",
        "    cv.rectangle(\n",
        "        original_image,\n",
        "        (column, row),\n",
        "        (column + width, row + height),\n",
        "        (255, 0, 0),\n",
        "        2\n",
        "    )"
      ],
      "execution_count": null,
      "outputs": []
    },
    {
      "cell_type": "code",
      "metadata": {
        "id": "dHfJBKblp55w"
      },
      "source": [
        "plt.figure(figsize=(18,14))\n",
        "plt.axis('off')\n",
        "plt.imshow(original_image, cmap='gray')"
      ],
      "execution_count": null,
      "outputs": []
    },
    {
      "cell_type": "code",
      "metadata": {
        "id": "oMODhUgrp-bG"
      },
      "source": [
        ""
      ],
      "execution_count": null,
      "outputs": []
    },
    {
      "cell_type": "code",
      "metadata": {
        "id": "AlUkdSrCDajt"
      },
      "source": [
        "# カーネルを適切に設定してください\n",
        "W1 = np.array([[0,1,0],\n",
        "               [0,1,0],\n",
        "               [0,1,0]])\n",
        "W2 = np.array([[0,0,0],\n",
        "               [1,1,1],\n",
        "               [0,0,0]])\n",
        "W3 = np.array([[1,0,0],\n",
        "               [0,1,0],\n",
        "               [0,0,1]])\n",
        "W4 = np.array([[0,0,1],\n",
        "               [0,1,0],\n",
        "               [1,0,0]])\n",
        "\n",
        "plt.figure(figsize=(8,4))\n",
        "plt.subplot(1,4,1); plt.imshow(W1, cmap='gray')\n",
        "plt.subplot(1,4,2); plt.imshow(W2, cmap='gray')\n",
        "plt.subplot(1,4,3); plt.imshow(W3, cmap='gray')\n",
        "plt.subplot(1,4,4); plt.imshow(W4, cmap='gray')\n",
        "plt.suptitle(\"カーネル\", fontsize=12)\n",
        "plt.show()"
      ],
      "execution_count": null,
      "outputs": []
    },
    {
      "cell_type": "code",
      "metadata": {
        "id": "OW0q0HHFDbOs"
      },
      "source": [
        "# シンプルな畳み込み層を定義\n",
        "class Conv:\n",
        "    # シンプルな例を考えるため、カーネル幅 Wは 3x3で固定\n",
        "    # strides や padding は考えません\n",
        "    def __init__(self, W):\n",
        "        self.W = W\n",
        "    def f_prop(self, X):\n",
        "        out = np.zeros((X.shape[0]-2, X.shape[1]-2))\n",
        "        for i in range(out.shape[0]):\n",
        "            for j in range(out.shape[1]):\n",
        "                x = X[i:i+3, j:j+3]\n",
        "                # 要素ごとの積の合計をとっています\n",
        "                out[i,j] = np.dot(self.W.flatten(), x.flatten())\n",
        "        return out\n"
      ],
      "execution_count": null,
      "outputs": []
    },
    {
      "cell_type": "code",
      "metadata": {
        "id": "RTLVmxQtEJGz"
      },
      "source": [
        "from skimage.color import rgb2gray\n",
        "\n",
        "image_filename = 'IMG_4056.jpg'  #ファイル名はアップロードしたファイル名に合わせて変更します\n",
        "image_file = os.path.join('.', image_filename) \n",
        "img = plt.imread(image_file)\n",
        "print(img.shape)  # 画像のサイズを表示します\n",
        "\n",
        "img = rgb2gray(img) # 濃淡画像(グレースケール)に変換\n",
        "plt.axis('off')\n",
        "plt.imshow(img, cmap='gray')"
      ],
      "execution_count": null,
      "outputs": []
    },
    {
      "cell_type": "code",
      "metadata": {
        "id": "tQy-amjkDed7"
      },
      "source": [
        "#type(img)\n",
        "# 畳み込み\n",
        "X = np.copy(img)\n",
        "conv1 = Conv(W1); C1 = conv1.f_prop(X)\n",
        "conv2 = Conv(W2); C2 = conv2.f_prop(X)\n",
        "conv3 = Conv(W3); C3 = conv3.f_prop(X)\n",
        "conv4 = Conv(W4); C4 = conv4.f_prop(X)\n"
      ],
      "execution_count": null,
      "outputs": []
    },
    {
      "cell_type": "code",
      "metadata": {
        "id": "0qzhShRlELLM"
      },
      "source": [
        "plt.subplot(1,4,1); plt.imshow(C1,cmap='gray')\n",
        "plt.subplot(1,4,2); plt.imshow(C2,cmap='gray')\n",
        "plt.subplot(1,4,3); plt.imshow(C3,cmap='gray')\n",
        "plt.subplot(1,4,4); plt.imshow(C4,cmap='gray')\n",
        "plt.suptitle(\"畳み込み演算の結果\", fontsize=12)\n",
        "plt.show()"
      ],
      "execution_count": null,
      "outputs": []
    },
    {
      "cell_type": "code",
      "metadata": {
        "id": "w1I4-7ehEi0D"
      },
      "source": [
        ""
      ],
      "execution_count": null,
      "outputs": []
    }
  ]
}