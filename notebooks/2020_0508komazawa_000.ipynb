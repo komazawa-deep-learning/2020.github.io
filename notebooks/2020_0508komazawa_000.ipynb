{
  "nbformat": 4,
  "nbformat_minor": 0,
  "metadata": {
    "kernelspec": {
      "display_name": "Python 3",
      "language": "python",
      "name": "python3"
    },
    "language_info": {
      "codemirror_mode": {
        "name": "ipython",
        "version": 3
      },
      "file_extension": ".py",
      "mimetype": "text/x-python",
      "name": "python",
      "nbconvert_exporter": "python",
      "pygments_lexer": "ipython3",
      "version": "3.7.6"
    },
    "colab": {
      "name": "2020-0508komazawa_000.ipynb",
      "provenance": [],
      "include_colab_link": true
    },
    "accelerator": "GPU"
  },
  "cells": [
    {
      "cell_type": "markdown",
      "metadata": {
        "id": "view-in-github",
        "colab_type": "text"
      },
      "source": [
        "<a href=\"https://colab.research.google.com/github/komazawa-deep-learning/komazawa-deep-learning.github.io/blob/master/notebooks/2020_0508komazawa_000.ipynb\" target=\"_parent\"><img src=\"https://colab.research.google.com/assets/colab-badge.svg\" alt=\"Open In Colab\"/></a>"
      ]
    },
    {
      "cell_type": "markdown",
      "metadata": {
        "id": "hqWLfwr4f5Th",
        "colab_type": "text"
      },
      "source": [
        "# 2020年度 駒澤大学文学部心理学特講IIIA \n",
        "\n",
        "課題提出用\n",
        "\n",
        "<div align=\"left\">\n",
        "<!--<img src=\"https://www.komazawa-u.ac.jp/img/common/header_logo.png\">-->\n",
        "<img src=\"https://www.komazawa-u.ac.jp/about/disclosure/img/archivelist_img.jpg\" width=\"20%\">\n",
        "</div>\n"
      ]
    },
    {
      "cell_type": "code",
      "metadata": {
        "id": "V039nHeuOqcn",
        "colab_type": "code",
        "colab": {}
      },
      "source": [
        "#@title # facesheet0 { run: \"auto\", vertical-output: true, display-mode: \"form\" }\n",
        "date = '2020-05-08'  #@param {type: \"date\"}\n",
        "name = '氏名0: '  #@param {type: \"string\"}\n",
        "id = '学生番号0: '  #@param {type: \"string\"}\n",
        "\n",
        "#@markdown ---\n"
      ],
      "execution_count": 0,
      "outputs": []
    },
    {
      "cell_type": "code",
      "metadata": {
        "colab_type": "code",
        "id": "ADVuqUQB3BdH",
        "colab": {}
      },
      "source": [
        "#@title # facesheet1 {display-mode: \"form\"}\n",
        "date = '2020-05-08'  #@param {type: \"date\"}\n",
        "name = '氏名1: '  #@param {type: \"string\"}\n",
        "id = '学生番号1: '  #@param {type: \"string\"}\n",
        "\n",
        "#@markdown ---\n"
      ],
      "execution_count": 0,
      "outputs": []
    },
    {
      "cell_type": "markdown",
      "metadata": {
        "id": "Eof2F-T-eFW3",
        "colab_type": "text"
      },
      "source": [
        "# 課題ファイルの提出方法\n",
        "\n",
        "1. このファイルのファイル名を次のように変更する **本日の日付+氏名.ipynb**\n",
        "2. 変更したファイル名 で 自分の Google ドライブに保存する\n",
        "3. 下の課題をすべて解いて，必要事項を記入する\n",
        "4. Google ドライブからファイルを選んで，共有情報を入手する\n",
        "5. メールを開いて，以下のような宛先にする\n",
        "    - To: **educ0233@komazawa-u.ac.jp**\n",
        "    - Cc: **1自分の学生番号+イニシャル@komazawa-u.ac.jp**\n",
        "6. メールの件名を **本日の日付+自分の学生番号** とする\n",
        "7. 本文に，Google drive の共有情報を貼り付ける\n",
        "8. 送信ボタンを押下する\n",
        "\n"
      ]
    },
    {
      "cell_type": "code",
      "metadata": {
        "id": "FXldmijXhDud",
        "colab_type": "code",
        "cellView": "form",
        "colab": {}
      },
      "source": [
        "#@title 授業の評価\n",
        "\n",
        "Q1 = '本日の感想' #@param {type:\"string\"}\n",
        "Q2 = '難易度:分かりやすかった' #@param{type:'string'} [\"難易度:分かりやすかった\", \"難易度:どちらとも言えない\", \"難易度:分かりにくかった\"]\n",
        "Q3 = '進み方:速かった' #@param{type:'string'}['進み方:速かった', '進み方:ちょうどよかった', '進み方:ゆっくりすぎた']\n",
        "text_and_dropdown = 'value' #@param {type:'string'} [\"1st option\", \"2nd option\", \"3rd option\"] {allow-input: true}\n",
        "\n",
        "#print(text)\n",
        "#print(dropdown)\n",
        "#print(text_and_dropdown)"
      ],
      "execution_count": 0,
      "outputs": []
    },
    {
      "cell_type": "code",
      "metadata": {
        "id": "AhYfO0IriI6W",
        "colab_type": "code",
        "cellView": "both",
        "colab": {}
      },
      "source": [
        "#@title ## 履修者の情報\n",
        "\n",
        "#@markdown ## <strong><font color=\"teal\" size=\"+2\">2年生対象</a></strong>\n",
        "#@markdown ### 統計学と AI との関係を簡潔にまとめてください。\n",
        "comment_2nd000 = \"\" #@param {type:\"string\"}\n",
        "comment_2nd001 = \"それに対する自分の考えを簡潔に述べてください\" #@param {type:\"string\"}\n",
        "#@markdown ---\n",
        "\n",
        "#@markdown ## <strong><font color=\"teal\" size=\"+2\">3年生対象</a></strong>\n",
        "#@markdown ### 自分の関心のある心理学の一つ領域を挙げ，その領域と AI との関係を簡潔にまとめてください。\n",
        "comment_3rd000 = \"\" #@param {type:\"string\"}\n",
        "comment_3nd001 = \"それに対する自分の考えを簡潔に述べてください\" #@param {type:\"string\"}\n",
        "#@markdown ---\n",
        "\n",
        "#@markdown ## <strong><font color=\"teal\" size=\"+2\">4年生対象</a></strong>\n",
        "#@markdown ### 自分の卒業論文のテーマを簡潔に説明し，そのテーマと AI との関係を簡潔にまとめてください。\n",
        "comment_4th000 = \"\" #@param {type:\"string\"}\n",
        "comment_4th001 = \"それに対する自分の考えを簡潔に述べてください\" #@param {type:\"string\"}\n",
        "#@markdown ---\n",
        "\n"
      ],
      "execution_count": 0,
      "outputs": []
    },
    {
      "cell_type": "code",
      "metadata": {
        "id": "pLIYramOmFBz",
        "colab_type": "code",
        "colab": {}
      },
      "source": [
        "#@title ## 問題 {display-mode: \"form\"}\n",
        "#@markdown ### 問1. 深層学習(ディープラーニング)で用いられる以下の略語の本来の綴りを記し，一行程度でその意味を簡潔に説明せよ\n",
        "term1 = 'CNN: '  #@param {type: \"string\"}\n",
        "description1 = '説明:'  #@param {type: \"string\"}\n",
        "\n",
        "term2 = 'RNN: '  #@param {type: \"string\"}\n",
        "description2 = '説明:'  #@param {type: \"string\"}\n",
        "\n",
        "term3 = 'RL: '  #@param {type: \"string\"}\n",
        "description3 = '説明: '  #@param {type: \"string\"}\n",
        "\n",
        "#@markdown ### 問 2-1. 授業で取り上げた話題の中で <font color='red'>もっとも印象に残っている</font> 話題を一つ挙げよ。また簡単に，1行程度でその理由を記せ\n",
        "topic2_1 = '話題1: '  #@param {type: \"string\"}\n",
        "reason2_1 = '理由1:'  #@param {type: \"string\"}\n",
        "\n",
        "#@markdown ### 問 2-2. 授業で取り上げた話題の中で <font color='red'>2番目に印象に残っている</font> 話題を一つ挙げよ。また簡単に，1行程度でその理由を記せ\n",
        "topic2_2 = '話題2:'  #@param {type: \"string\"}\n",
        "reason2_2 = '理由2:'  #@param {type: \"string\"}\n",
        "\n",
        "#@markdown ### 問 2-3. 授業で取り上げた話題の中で <font color='red'>もっとも興味が持てなかった</font> 話題を一つ挙げよ。また簡単に，1行程度でその理由を記せ\n",
        "topic2_3 = '話題3:'  #@param {type: \"string\"}\n",
        "reason2_3 = '理由3:'  #@param {type: \"string\"}\n",
        "#@markdown ---\n",
        "x1 = \"\"\n"
      ],
      "execution_count": 0,
      "outputs": []
    },
    {
      "cell_type": "code",
      "metadata": {
        "id": "vJgCvq50hxT9",
        "colab_type": "code",
        "outputId": "1e6c0389-47ae-4b39-ab6f-8f0f154ba6ad",
        "colab": {
          "base_uri": "https://localhost:8080/",
          "height": 34
        }
      },
      "source": [
        "!python --version"
      ],
      "execution_count": 0,
      "outputs": [
        {
          "output_type": "stream",
          "text": [
            "Python 3.6.9\n"
          ],
          "name": "stdout"
        }
      ]
    },
    {
      "cell_type": "code",
      "metadata": {
        "id": "t3gVOhGn40F0",
        "colab_type": "code",
        "colab": {}
      },
      "source": [
        ""
      ],
      "execution_count": 0,
      "outputs": []
    }
  ]
}