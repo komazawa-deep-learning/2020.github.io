{
  "nbformat": 4,
  "nbformat_minor": 0,
  "metadata": {
    "kernelspec": {
      "display_name": "Python 3",
      "language": "python",
      "name": "python3"
    },
    "language_info": {
      "codemirror_mode": {
        "name": "ipython",
        "version": 3
      },
      "file_extension": ".py",
      "mimetype": "text/x-python",
      "name": "python",
      "nbconvert_exporter": "python",
      "pygments_lexer": "ipython3",
      "version": "3.7.6"
    },
    "colab": {
      "name": "2020-0508komazawa_000.ipynb",
      "provenance": [],
      "include_colab_link": true
    },
    "accelerator": "GPU"
  },
  "cells": [
    {
      "cell_type": "markdown",
      "metadata": {
        "id": "view-in-github",
        "colab_type": "text"
      },
      "source": [
        "<a href=\"https://colab.research.google.com/github/komazawa-deep-learning/komazawa-deep-learning.github.io/blob/master/notebooks/2020_0508komazawa_000.ipynb\" target=\"_parent\"><img src=\"https://colab.research.google.com/assets/colab-badge.svg\" alt=\"Open In Colab\"/></a>"
      ]
    },
    {
      "cell_type": "markdown",
      "metadata": {
        "id": "hqWLfwr4f5Th",
        "colab_type": "text"
      },
      "source": [
        "# 2020年度 駒澤大学文学部心理学特講IIIA \n",
        "\n",
        "課題提出用\n",
        "\n",
        "<div align=\"left\">\n",
        "<!--<img src=\"https://www.komazawa-u.ac.jp/img/common/header_logo.png\">-->\n",
        "<img src=\"https://www.komazawa-u.ac.jp/about/disclosure/img/archivelist_img.jpg\" width=\"20%\">\n",
        "</div>\n"
      ]
    },
    {
      "cell_type": "code",
      "metadata": {
        "id": "V039nHeuOqcn",
        "colab_type": "code",
        "colab": {}
      },
      "source": [
        "#@title # facesheet0 { run: \"auto\", vertical-output: true, display-mode: \"form\" }\n",
        "date = '2020-05-08'  #@param {type: \"date\"}\n",
        "name = '氏名0: '  #@param {type: \"string\"}\n",
        "id = '学生番号0: '  #@param {type: \"string\"}\n",
        "\n",
        "#@markdown ---\n"
      ],
      "execution_count": 0,
      "outputs": []
    },
    {
      "cell_type": "code",
      "metadata": {
        "colab_type": "code",
        "id": "ADVuqUQB3BdH",
        "colab": {}
      },
      "source": [
        "#@title # facesheet1 {display-mode: \"form\"}\n",
        "date = '2020-05-08'  #@param {type: \"date\"}\n",
        "name = '氏名1: '  #@param {type: \"string\"}\n",
        "id = '学生番号1: '  #@param {type: \"string\"}\n",
        "\n",
        "#@markdown ---\n"
      ],
      "execution_count": 0,
      "outputs": []
    },
    {
      "cell_type": "markdown",
      "metadata": {
        "id": "Eof2F-T-eFW3",
        "colab_type": "text"
      },
      "source": [
        "# 課題ファイルの提出方法\n",
        "\n",
        "1. このファイルのファイル名を次のように変更する **本日の日付+氏名.ipynb**\n",
        "2. 変更したファイル名 で 自分の Google ドライブに保存する\n",
        "3. 下の課題をすべて解いて，必要事項を記入する\n",
        "4. Google ドライブからファイルを選んで，共有情報を入手する\n",
        "5. メールを開いて，以下のような宛先にする\n",
        "    - To: **educ0233@komazawa-u.ac.jp**\n",
        "    - Cc: **1自分の学生番号+イニシャル@komazawa-u.ac.jp**\n",
        "6. メールの件名を **本日の日付+自分の学生番号** とする\n",
        "7. 本文に，Google drive の共有情報を貼り付ける\n",
        "8. 送信ボタンを押下する\n",
        "\n"
      ]
    },
    {
      "cell_type": "code",
      "metadata": {
        "id": "FXldmijXhDud",
        "colab_type": "code",
        "cellView": "form",
        "colab": {}
      },
      "source": [
        "#@title 授業の評価\n",
        "\n",
        "Q1 = '本日の感想' #@param {type:\"string\"}\n",
        "Q2 = '難易度:分かりやすかった' #@param{type:'string'} [\"難易度:分かりやすかった\", \"難易度:どちらとも言えない\", \"難易度:分かりにくかった\"]\n",
        "Q3 = '進み方:速かった' #@param{type:'string'}['進み方:速かった', '進み方:ちょうどよかった', '進み方:ゆっくりすぎた']\n",
        "text_and_dropdown = 'value' #@param {type:'string'} [\"1st option\", \"2nd option\", \"3rd option\"] {allow-input: true}\n",
        "\n",
        "#print(text)\n",
        "#print(dropdown)\n",
        "#print(text_and_dropdown)"
      ],
      "execution_count": 0,
      "outputs": []
    },
    {
      "cell_type": "code",
      "metadata": {
        "id": "AhYfO0IriI6W",
        "colab_type": "code",
        "colab": {},
        "cellView": "both"
      },
      "source": [
        "#@title ## 履修者の情報\n",
        "\n",
        "#@markdown ## <strong><font color=\"teal\" size=\"+2\">2年生対象</a></strong>\n",
        "#@markdown ### 統計学と AI との関係を簡潔にまとめてください。\n",
        "comment_2nd000 = \"\" #@param {type:\"string\"}\n",
        "comment_2nd001 = \"それに対する自分の考えを簡潔に述べてください\" #@param {type:\"string\"}\n",
        "#@markdown ---\n",
        "\n",
        "#@markdown ## <strong><font color=\"teal\" size=\"+2\">3年生対象</a></strong>\n",
        "#@markdown ### 自分の関心のある心理学の一つ領域を挙げ，その領域と AI との関係を簡潔にまとめてください。\n",
        "comment_3rd000 = \"\" #@param {type:\"string\"}\n",
        "comment_3nd001 = \"それに対する自分の考えを簡潔に述べてください\" #@param {type:\"string\"}\n",
        "#@markdown ---\n",
        "\n",
        "#@markdown ## <strong><font color=\"teal\" size=\"+2\">4年生対象</a></strong>\n",
        "#@markdown ### 自分の卒業論文のテーマを簡潔に説明し，そのテーマと AI との関係を簡潔にまとめてください。\n",
        "comment_4th000 = \"\" #@param {type:\"string\"}\n",
        "comment_4th001 = \"それに対する自分の考えを簡潔に述べてください\" #@param {type:\"string\"}\n",
        "#@markdown ---\n",
        "\n"
      ],
      "execution_count": 0,
      "outputs": []
    },
    {
      "cell_type": "code",
      "metadata": {
        "id": "pLIYramOmFBz",
        "colab_type": "code",
        "colab": {}
      },
      "source": [
        "#@title ## 問題 {display-mode: \"form\"}\n",
        "#@markdown ### 問1. 深層学習(ディープラーニング)で用いられる以下の略語の本来の綴りを記し，一行程度でその意味を簡潔に説明せよ\n",
        "term1 = 'CNN: '  #@param {type: \"string\"}\n",
        "description1 = '説明:'  #@param {type: \"string\"}\n",
        "\n",
        "term2 = 'RNN: '  #@param {type: \"string\"}\n",
        "description2 = '説明:'  #@param {type: \"string\"}\n",
        "\n",
        "term3 = 'RL: '  #@param {type: \"string\"}\n",
        "description3 = '説明: '  #@param {type: \"string\"}\n",
        "\n",
        "#@markdown ### 問 2-1. 授業で取り上げた話題の中で <font color='red'>もっとも印象に残っている</font> 話題を一つ挙げよ。また簡単に，1行程度でその理由を記せ\n",
        "topic2_1 = '話題1: '  #@param {type: \"string\"}\n",
        "reason2_1 = '理由1:'  #@param {type: \"string\"}\n",
        "\n",
        "#@markdown ### 問 2-2. 授業で取り上げた話題の中で <font color='red'>2番目に印象に残っている</font> 話題を一つ挙げよ。また簡単に，1行程度でその理由を記せ\n",
        "topic2_2 = '話題2:'  #@param {type: \"string\"}\n",
        "reason2_2 = '理由2:'  #@param {type: \"string\"}\n",
        "\n",
        "#@markdown ### 問 2-3. 授業で取り上げた話題の中で <font color='red'>もっとも興味が持てなかった</font> 話題を一つ挙げよ。また簡単に，1行程度でその理由を記せ\n",
        "topic2_3 = '話題3:'  #@param {type: \"string\"}\n",
        "reason2_3 = '理由3:'  #@param {type: \"string\"}\n",
        "#@markdown ---\n",
        "x1 = \"\"\n"
      ],
      "execution_count": 0,
      "outputs": []
    },
    {
      "cell_type": "code",
      "metadata": {
        "id": "vJgCvq50hxT9",
        "colab_type": "code",
        "outputId": "1e6c0389-47ae-4b39-ab6f-8f0f154ba6ad",
        "colab": {
          "base_uri": "https://localhost:8080/",
          "height": 34
        }
      },
      "source": [
        "!python --version"
      ],
      "execution_count": 0,
      "outputs": [
        {
          "output_type": "stream",
          "text": [
            "Python 3.6.9\n"
          ],
          "name": "stdout"
        }
      ]
    },
    {
      "cell_type": "markdown",
      "metadata": {
        "id": "nIAyV7yU40Fj",
        "colab_type": "text"
      },
      "source": [
        "# 疫学の数理モデルによる導入\n",
        "\n",
        "- Date: 2020-0320\n",
        "- Author: 浅川伸一 asakawa@ieee.org\n",
        "\n",
        "<font color=\"gray\">CoVID-19 の理解に向けて</font>\n",
        "\n",
        "Kermack と McKendrick は 1905 年から 1906 年にかけてインドで発生したコレラの大流行についての疫学的流行モデルを提案した。\n",
        "\n",
        "- $y$: population infected 感染者数\n",
        "- $x$: number of individuals still unaffected 未感染者数\n",
        "- $z$: number who have been removed by recover and death 地域社会から隔離された人口（理由は問わない，隔離，死去，免疫獲得など）\n",
        "- $N$: population density 地域社会の総人口 $N=x+y+z$\n",
        "\n",
        "$\\kappa$ を感染率，$\\ell$ を隔離係数として Kermack=McKendrick モデルは次式で表される:\n",
        "\n",
        "$$\n",
        "\\begin{cases}\n",
        "\\frac{dx}{dt} &= - \\kappa x y\\\\\n",
        "\\frac{dy}{dt} &= \\kappa x y - \\ell y\\\\\n",
        "\\frac{dz}{dt} &= \\ell y\n",
        "\\end{cases}\n",
        "$$\n",
        "\n",
        "- Reference:\n",
        "Kermack and McKendrick (1927) A Contribution to the Mathematical Theory of Epidemics.\n"
      ]
    },
    {
      "cell_type": "code",
      "metadata": {
        "id": "YZCYF2jZ40Fm",
        "colab_type": "code",
        "colab": {}
      },
      "source": [
        "import numpy as np\n",
        "from IPython.display import Image\n",
        "import matplotlib.pyplot as plt\n",
        "%matplotlib inline"
      ],
      "execution_count": 0,
      "outputs": []
    },
    {
      "cell_type": "code",
      "metadata": {
        "id": "oD497lby40Fp",
        "colab_type": "code",
        "outputId": "090eef07-0ea8-4973-8341-67d29de984fc",
        "colab": {
          "base_uri": "https://localhost:8080/",
          "height": 391
        }
      },
      "source": [
        "def KM(x0=99, y0=1, length=100, kappa=1.0, ell=1.0, dt=0.005):\n",
        "    \"\"\"return Kermack and McKendrick models output\"\"\"\n",
        "\n",
        "    X, Y = [], []\n",
        "    x, y = x0, y0\n",
        "    for _ in range(length):\n",
        "        dx = (-kappa * x * y) * dt\n",
        "        dy = (kappa * x * y - ell * y) * dt\n",
        "        x += dx\n",
        "        y += dy\n",
        "        X.append(x)\n",
        "        Y.append(y)\n",
        "\n",
        "    return X, Y\n",
        "\n",
        "kappa = 1.0\n",
        "l1 = 10.\n",
        "l2 = 50.\n",
        "\n",
        "_, Y1 = KM(kappa=1.0, ell=l1, length=100)\n",
        "X, Y2 = KM(kappa=1.0, ell=l2, length=100)\n",
        "T = range(len(X))\n",
        "\n",
        "plt.figure(figsize=(8,6))  # width, height inches\n",
        "plt.plot(T, X, c='g', label='non infected')  # X軸を T, Y軸を X(非感染者) 色(c)を緑(g)で描画\n",
        "plt.plot(T, Y1, c='y', label='Y1 infected')  # X軸を T, Y軸を Y1(感染者, l=l1) 色(c)を黄色(y)で描画\n",
        "plt.plot(T, Y2, c='r', label='Y2 infected')  # X軸を T, Y軸を X2(感染者, l=l2) 色(c)を緑(r)で描画\n",
        "plt.legend()\n",
        "# plt.savefig('KM_model_output.png') グラフの保存"
      ],
      "execution_count": 0,
      "outputs": [
        {
          "output_type": "execute_result",
          "data": {
            "text/plain": [
              "<matplotlib.legend.Legend at 0x7fddf3c57630>"
            ]
          },
          "metadata": {
            "tags": []
          },
          "execution_count": 2
        },
        {
          "output_type": "display_data",
          "data": {
            "image/png": "[encoded data removed]",
            "text/plain": [
              "<Figure size 576x432 with 1 Axes>"
            ]
          },
          "metadata": {
            "tags": []
          }
        }
      ]
    },
    {
      "cell_type": "markdown",
      "metadata": {
        "id": "ic1bFlJN40Ft",
        "colab_type": "text"
      },
      "source": [
        "$\\sinh(x) = \\frac{\\exp(x)-\\exp(-x)}{2}$\n",
        "\n",
        "$\\cosh(x) = \\frac{\\exp(x)+\\exp(-x)}{2}$\n",
        "\n",
        "$\\tanh(x) = \\frac{\\exp(x)-\\exp(-x)}{\\exp(x)+\\exp(-x)}$\n",
        "\n",
        "$\\text{sech}(x) = \\frac{1}{\\cosh(x)}$\n",
        "\n",
        "$\\text{cosech}(x) = \\frac{1}{\\sinh(x)}$\n",
        "\n",
        "$\\coth(x) = \\frac{\\cosh(x)}{\\sinh(x)}$\n"
      ]
    },
    {
      "cell_type": "code",
      "metadata": {
        "id": "as8i3XY540Fu",
        "colab_type": "code",
        "outputId": "3ecf45fe-8e31-429d-a3ff-54b3a24a9b28",
        "colab": {
          "base_uri": "https://localhost:8080/",
          "height": 500
        }
      },
      "source": [
        "x = np.linspace(-3,3)\n",
        "plt.figure(figsize=(8,8))\n",
        "plt.plot(x, 1/np.cosh(x) **2)"
      ],
      "execution_count": 0,
      "outputs": [
        {
          "output_type": "execute_result",
          "data": {
            "text/plain": [
              "[<matplotlib.lines.Line2D at 0x7fddf37393c8>]"
            ]
          },
          "metadata": {
            "tags": []
          },
          "execution_count": 3
        },
        {
          "output_type": "display_data",
          "data": {
            "image/png": "[encoded data removed]",
            "text/plain": [
              "<Figure size 576x576 with 1 Axes>"
            ]
          },
          "metadata": {
            "tags": []
          }
        }
      ]
    },
    {
      "cell_type": "code",
      "metadata": {
        "id": "xM4m4_oE40Fx",
        "colab_type": "code",
        "outputId": "c3aa1939-b2d9-4311-e839-459d1312a7f5",
        "colab": {
          "base_uri": "https://localhost:8080/",
          "height": 785
        }
      },
      "source": [
        "from IPython.display import Image\n",
        "display(Image(url=\"https://raw.githubusercontent.com/ShinAsakawa/ShinAsakawa.github.io/master/assets/1927Kermack_McKendrick_fig.png\", width=480))"
      ],
      "execution_count": 0,
      "outputs": [
        {
          "output_type": "display_data",
          "data": {
            "text/html": [
              "<img src=\"https://raw.githubusercontent.com/ShinAsakawa/ShinAsakawa.github.io/master/assets/1927Kermack_McKendrick_fig.png\" width=\"480\"/>"
            ],
            "text/plain": [
              "<IPython.core.display.Image object>"
            ]
          },
          "metadata": {
            "tags": []
          }
        }
      ]
    },
    {
      "cell_type": "code",
      "metadata": {
        "id": "t3gVOhGn40F0",
        "colab_type": "code",
        "colab": {}
      },
      "source": [
        ""
      ],
      "execution_count": 0,
      "outputs": []
    }
  ]
}