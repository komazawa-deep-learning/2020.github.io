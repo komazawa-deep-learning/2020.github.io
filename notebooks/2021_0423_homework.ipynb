{
  "nbformat": 4,
  "nbformat_minor": 0,
  "metadata": {
    "colab": {
      "name": "2021-0423-homework.ipynb ",
      "provenance": [],
      "collapsed_sections": [],
      "include_colab_link": true
    },
    "kernelspec": {
      "display_name": "Python 3",
      "language": "python",
      "name": "python3"
    },
    "language_info": {
      "codemirror_mode": {
        "name": "ipython",
        "version": 3
      },
      "file_extension": ".py",
      "mimetype": "text/x-python",
      "name": "python",
      "nbconvert_exporter": "python",
      "pygments_lexer": "ipython3",
      "version": "3.7.7"
    }
  },
  "cells": [
    {
      "cell_type": "markdown",
      "metadata": {
        "id": "view-in-github",
        "colab_type": "text"
      },
      "source": [
        "<a href=\"https://colab.research.google.com/github/komazawa-deep-learning/komazawa-deep-learning.github.io/blob/master/notebooks/2021_0423_homework.ipynb\" target=\"_parent\"><img src=\"https://colab.research.google.com/assets/colab-badge.svg\" alt=\"Open In Colab\"/></a>"
      ]
    },
    {
      "cell_type": "markdown",
      "metadata": {
        "id": "snM1KQ6_fg_6"
      },
      "source": [
        "\n",
        "# 2021年度 駒澤大学文学部心理学特講IIIA \n",
        "<div align=\"right\">\n",
        "<img src=\"https://koma-sso.komazawa-u.ac.jp/idp/images/header_logo.png\">\n",
        "</div>\n",
        "\n",
        "課題提出用\n",
        "- 作成者: 浅川伸一\n",
        "- [授業用ページ](https://komazawa-deep-learning.github.io/2021)\n"
      ]
    },
    {
      "cell_type": "code",
      "metadata": {
        "id": "V039nHeuOqcn"
      },
      "source": [
        "#@title # フェイスシート { run: \"auto\", vertical-output: true, display-mode: \"form\" }\n",
        "date = '2021-04-23'  #@param {type: \"date\"}\n",
        "name = '\\u6C0F\\u540D:'  #@param {type: \"string\"}\n",
        "id = '\\u5B66\\u751F\\u756A\\u53F7:  '  #@param {type: \"string\"}\n"
      ],
      "execution_count": null,
      "outputs": []
    },
    {
      "cell_type": "markdown",
      "metadata": {
        "id": "Eof2F-T-eFW3"
      },
      "source": [
        "# 0. 課題ファイルの提出方法\n",
        "\n",
        "1. このファイルの自分の Google Drive に保存する (ウィンドウ左上の「ファイル」メニューから「ドライブにコピーを保存」を選ぶ)\n",
        "1. 上で保存したファイル名を次のように変更する '本日の日付(8桁yyyymmdd)-自分の学生番号(NBから始まる全6桁).ipynb' \n",
        "2. 変更したファイル名 で 自分の Google ドライブに保存する\n",
        "3. 下の課題をすべて解く\n",
        "4. Google ドライブからファイルを選んで，共有情報を入手する\n",
        "5. メールを開いて，以下のような宛先にする\n",
        "    - To: educ0233@komazawa-u.ac.jp\n",
        "    - Cc: 自分のメールアドレス\n",
        "6. メールの件名を 本日の日付(8桁:yyyymmdd)-自分の学生番号 とする\n",
        "7. 本文に，Google drive の共有情報を貼り付ける\n",
        "<!--8. <font color=\"green\">得られた共有情報を Google classroom にも貼り付ける。この項目は前回までと異なる操作</font>-->\n",
        "8. 送信ボタンを押下する"
      ]
    },
    {
      "cell_type": "code",
      "metadata": {
        "id": "uoE7c7fa7ELJ",
        "cellView": "form"
      },
      "source": [
        "#@title # 1. 授業の評価\n",
        "\n",
        "Q1 = '' #@param {type:\"string\"}\n",
        "Q2 = '\\u96E3\\u6613\\u5EA6:\\u3069\\u3061\\u3089\\u3068\\u3082\\u8A00\\u3048\\u306A\\u3044' #@param{type:'string'} [\"難易度:分かりやすかった\", \"難易度:どちらとも言えない\", \"難易度:分かりにくかった\"]\n",
        "Q3 = '\\u9032\\u307F\\u65B9:\\u3061\\u3087\\u3046\\u3069\\u3088\\u304B\\u3063\\u305F' #@param{type:'string'}['進み方:速かった', '進み方:ちょうどよかった', '進み方:ゆっくりすぎた']\n"
      ],
      "execution_count": null,
      "outputs": []
    },
    {
      "cell_type": "code",
      "metadata": {
        "id": "t3gVOhGn40F0"
      },
      "source": [
        "#@title # 2. 本日の授業でのトラブルについて {display-mode: \"form\"}\n",
        "#@markdown ### 本日の授業でのトラブルについて，ご意見や改善提案をお聞かせください\n",
        "opinion = \"\" #@param {type: \"string\"}"
      ],
      "execution_count": null,
      "outputs": []
    },
    {
      "cell_type": "code",
      "metadata": {
        "id": "cSYQD8sE7YyR"
      },
      "source": [
        "#@title # 3. 印象 {display-mode: \"form\"}\n",
        "#@markdown ## 問 3-1. 授業で取り上げた話題の中で もっとも印象に残っている話題を一つ挙げよ。また簡単に，1行程度でその理由を記せ\n",
        "topic3_1 = '\\u8A71\\u984C1: '  #@param {type: \"string\"}\n",
        "reason3_1 = '\\u7406\\u75311:'  #@param {type: \"string\"}\n",
        "\n",
        "#@markdown ## 問 3-2. 授業で取り上げた話題の中で 2番目に印象に残っている話題を一つ挙げよ。また簡単に，1行程度でその理由を記せ\n",
        "topic3_2 = '\\u8A71\\u984C2:\\u3000'  #@param {type: \"string\"}\n",
        "reason3_2 = '\\u7406\\u75312:'  #@param {type: \"string\"}\n",
        "\n",
        "#@markdown ## 問 3-3. 授業で取り上げた話題の中で もっとも興味が持てなかった 話題を一つ挙げよ。また簡単に，1行程度でその理由を記せ\n",
        "topic3_3 = '\\u8A71\\u984C3:\\u3000'  #@param {type: \"string\"}\n",
        "reason3_3 = '\\u7406\\u75313:'  #@param {type: \"string\"}\n",
        "#@markdown ---"
      ],
      "execution_count": null,
      "outputs": []
    },
    {
      "cell_type": "code",
      "metadata": {
        "id": "1dT-bMCnZrCy",
        "cellView": "form"
      },
      "source": [
        "#@title # 4. 今回の実習に関して，以下の問に答えよ\n",
        "q4_1 = 'ANN \\u3068\\u306F\\u4F55\\u306E\\u982D\\u6587\\u5B57\\u3067\\u3042\\u308B\\u304B\\uFF0C\\u539F\\u8A9E\\u3092\\u7B54\\u3048\\u3088:'  #@param {type: \"string\"}\n",
        "q4_2 = 'Python \\u306E\\u7279\\u5FB4\\u3092\\u4E00\\u3064\\u6319\\u3052\\u3088:' #@param{type:\"string\"}\n",
        "q4_3 = '\\u30CB\\u30E5\\u30FC\\u30E9\\u30EB\\u30CD\\u30C3\\u30C8\\u30EF\\u30FC\\u30AF\\u30E2\\u30C7\\u30EB\\u3068\\u300C\\u7BB1\\u3068\\u77E2\\u5370\\u30E2\\u30C7\\u30EB\\u300D\\u306E\\u9055\\u3044\\u3092\\u7C21\\u6F54\\u306B\\u8A18\\u305B:' #@param{type:\"string\"}\n",
        "#@markdown ---"
      ],
      "execution_count": 4,
      "outputs": []
    },
    {
      "cell_type": "code",
      "metadata": {
        "id": "331Js0zrWit2"
      },
      "source": [
        "#@title # 5. 今回の実習を発展させた心理実験を考よその概要を記せ { run: \"auto\", vertical-output: true, display-mode: \"form\" }\n",
        "psychoexp_purpose = '\\u5B9F\\u9A13\\u76EE\\u7684\\u3000'  #@param {type: \"string\"}\n",
        "psychoexp_proca = '\\u624B\\u7D9A\\u304D'  #@param {type: \"string\"}\n",
        "psychoexp_pred = '\\u4E88\\u60F3\\u3055\\u308C\\u308B\\u7D50\\u679C' #@param {type: \"string\"}\n",
        "psychoexp_why = '\\u5B9F\\u9A13\\u3092\\u8A08\\u753B\\u3059\\u308B\\u306B\\u81F3\\u3063\\u305F\\u7406\\u7531:' #@param {type:\"string\"}\n",
        "#@markdown ---"
      ],
      "execution_count": null,
      "outputs": []
    },
    {
      "cell_type": "code",
      "metadata": {
        "id": "HrGNKm58CcOh"
      },
      "source": [
        ""
      ],
      "execution_count": null,
      "outputs": []
    },
    {
      "cell_type": "code",
      "metadata": {
        "id": "OQXRb22HCn_b",
        "cellView": "form"
      },
      "source": [
        "#@title # 6. ニューラルネットワークモデルと機能的脳画像を用いた脳の活動との関係を調べる研究が心理学，あるいは経済学に与える影響について簡単に考察せよ。\n",
        "_exp = ''  #@param {type: \"string\"}\n",
        "#@markdown ---"
      ],
      "execution_count": 1,
      "outputs": []
    },
    {
      "cell_type": "code",
      "metadata": {
        "id": "Eav_qliCfKfP"
      },
      "source": [
        ""
      ],
      "execution_count": null,
      "outputs": []
    }
  ]
}