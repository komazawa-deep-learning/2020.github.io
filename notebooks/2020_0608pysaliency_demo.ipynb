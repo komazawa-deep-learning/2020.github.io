{
  "nbformat": 4,
  "nbformat_minor": 0,
  "metadata": {
    "colab": {
      "name": "2020-0608pysaliency_demo.ipynb",
      "provenance": [],
      "private_outputs": true,
      "collapsed_sections": [],
      "authorship_tag": "ABX9TyOzijRcH5Y0yoaHKcyxppTn",
      "include_colab_link": true
    },
    "kernelspec": {
      "name": "python3",
      "display_name": "Python 3"
    }
  },
  "cells": [
    {
      "cell_type": "markdown",
      "metadata": {
        "id": "view-in-github",
        "colab_type": "text"
      },
      "source": [
        "<a href=\"https://colab.research.google.com/github/komazawa-deep-learning/komazawa-deep-learning.github.io/blob/master/notebooks/2020_0608pysaliency_demo.ipynb\" target=\"_parent\"><img src=\"https://colab.research.google.com/assets/colab-badge.svg\" alt=\"Open In Colab\"/></a>"
      ]
    },
    {
      "cell_type": "code",
      "metadata": {
        "id": "lB4Yiy3t8WxU",
        "colab_type": "code",
        "colab": {}
      },
      "source": [
        "#!dpkg --configure -a"
      ],
      "execution_count": 0,
      "outputs": []
    },
    {
      "cell_type": "code",
      "metadata": {
        "id": "R6N1s7vQ8KZE",
        "colab_type": "code",
        "colab": {}
      },
      "source": [
        "!apt-get install octave > /dev/null\n",
        "!apt-get install octave-image > /dev/null\n",
        "!apt-get install octave-statistics > /dev/null\n",
        "!apt-get install liboctave-dev > /dev/null"
      ],
      "execution_count": 0,
      "outputs": []
    },
    {
      "cell_type": "code",
      "metadata": {
        "id": "pyy3Inxt8Njt",
        "colab_type": "code",
        "colab": {}
      },
      "source": [
        "!pip install --upgrade pysaliency > /dev/null"
      ],
      "execution_count": 0,
      "outputs": []
    },
    {
      "cell_type": "code",
      "metadata": {
        "id": "-ukEJ6jRbni8",
        "colab_type": "code",
        "colab": {}
      },
      "source": [
        "import matplotlib.pyplot as plt\n",
        "import os\n",
        "import numpy as np"
      ],
      "execution_count": 0,
      "outputs": []
    },
    {
      "cell_type": "code",
      "metadata": {
        "id": "I7qn6XgX_ZpF",
        "colab_type": "code",
        "colab": {}
      },
      "source": [
        "import pysaliency\n",
        "import pysaliency.external_datasets\n",
        "\n",
        "#data_location = 'test_datasets'\n",
        "\n",
        "#mit_stimuli, mit_fixations = pysaliency.external_datasets.get_mit1003(location=data_location) # これが動かないから別のデータセットで\n",
        "#mit_stimuli, mit_fixations = pysaliency.external_datasets.get_OSIE(location=data_location)  # OK\n",
        "#mit_stimuli, mit_fixations = pysaliency.external_datasets.get_NUSEF_public(location=data_location)  # NG\n",
        "mit_stimuli, mit_fixations = pysaliency.external_datasets.get_toronto()  # location=data_location)  "
      ],
      "execution_count": 0,
      "outputs": []
    },
    {
      "cell_type": "code",
      "metadata": {
        "id": "312CsKvLXh7H",
        "colab_type": "code",
        "colab": {}
      },
      "source": [
        "import pysaliency\n",
        "\n",
        "#dataset_location = 'datasets'\n",
        "#model_location = 'models'\n",
        "\n",
        "#mit_stimuli, mit_fixations = pysaliency.external_datasets.get_mit1003()  # location=dataset_location)\n",
        "mit_stimuli, mit_fixations = pysaliency.external_datasets.get_OSIE()\n",
        "aim = pysaliency.AIM()  # location=model_location)\n",
        "saliency_map = aim.saliency_map(mit_stimuli.stimuli[0])\n",
        "\n",
        "plt.imshow(saliency_map)\n",
        "\n",
        "auc = aim.AUC(mit_stimuli, mit_fixations)"
      ],
      "execution_count": 0,
      "outputs": []
    },
    {
      "cell_type": "code",
      "metadata": {
        "id": "b9ZpqU10WvTZ",
        "colab_type": "code",
        "colab": {}
      },
      "source": [
        "index = 6\n",
        "plt.figure(figsize=(14,10))\n",
        "plt.imshow(mit_stimuli.stimuli[index])\n",
        "f = mit_fixations[mit_fixations.n == index]\n",
        "plt.scatter(f.x, f.y, color='r')\n",
        "_ = plt.axis('off')"
      ],
      "execution_count": 0,
      "outputs": []
    },
    {
      "cell_type": "code",
      "metadata": {
        "id": "BKqVlqp_bj2Z",
        "colab_type": "code",
        "colab": {}
      },
      "source": [
        "from IPython.display import YouTubeVideo, display\n",
        "video_id = 'egs0XN-xjA0'  # detectron2 \n",
        "display(YouTubeVideo(video_id, width=600, height=400))"
      ],
      "execution_count": 0,
      "outputs": []
    }
  ]
}