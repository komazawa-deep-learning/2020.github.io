{
  "nbformat": 4,
  "nbformat_minor": 0,
  "metadata": {
    "accelerator": "GPU",
    "colab": {
      "name": "2020-0529komazawa_homework.ipynb",
      "provenance": [],
      "collapsed_sections": [],
      "include_colab_link": true
    },
    "kernelspec": {
      "display_name": "Python 3",
      "language": "python",
      "name": "python3"
    },
    "language_info": {
      "codemirror_mode": {
        "name": "ipython",
        "version": 3
      },
      "file_extension": ".py",
      "mimetype": "text/x-python",
      "name": "python",
      "nbconvert_exporter": "python",
      "pygments_lexer": "ipython3",
      "version": "3.7.7"
    }
  },
  "cells": [
    {
      "cell_type": "markdown",
      "metadata": {
        "id": "view-in-github",
        "colab_type": "text"
      },
      "source": [
        "<a href=\"https://colab.research.google.com/github/komazawa-deep-learning/komazawa-deep-learning.github.io/blob/master/notebooks/2020_0529komazawa_homework.ipynb\" target=\"_parent\"><img src=\"https://colab.research.google.com/assets/colab-badge.svg\" alt=\"Open In Colab\"/></a>"
      ]
    },
    {
      "cell_type": "markdown",
      "metadata": {
        "colab_type": "text",
        "id": "hqWLfwr4f5Th"
      },
      "source": [
        "\n",
        "# 2020年度 駒澤大学文学部心理学特講IIIA \n",
        "<div align=\"right\">\n",
        "<img src=\"https://koma-sso.komazawa-u.ac.jp/idp/images/header_logo.png\">\n",
        "</div>\n",
        "\n",
        "課題提出用\n",
        "- 作成者: 浅川伸一\n",
        "- [授業用ページ](https://komazawa-deep-learning.github.io/)\n"
      ]
    },
    {
      "cell_type": "code",
      "metadata": {
        "colab_type": "code",
        "id": "V039nHeuOqcn",
        "colab": {}
      },
      "source": [
        "#@title # facesheet { run: \"auto\", vertical-output: true, display-mode: \"form\" }\n",
        "date = '2020-05-29'  #@param {type: \"date\"}\n",
        "name = '氏名: '  #@param {type: \"string\"}\n",
        "id = '学生番号: '  #@param {type: \"string\"}\n",
        "\n",
        "#@markdown ---\n"
      ],
      "execution_count": 0,
      "outputs": []
    },
    {
      "cell_type": "markdown",
      "metadata": {
        "colab_type": "text",
        "id": "Eof2F-T-eFW3"
      },
      "source": [
        "# 課題ファイルの提出方法\n",
        "\n",
        "1. このファイルの自分の Google Drive に保存する (ウィンドウ左上の「ファイル」メニューから「ドライブにコピーを保存」を選ぶ)\n",
        "1. 上で保存したファイル名を次のように変更する '本日の日付(8桁yyyymmdd)-自分の学生番号(NBから始まる全6桁).ipynb' \n",
        "2. 変更したファイル名 で 自分の Google ドライブに保存する\n",
        "3. 下の課題をすべて解く\n",
        "4. Google ドライブからファイルを選んで，共有情報を入手する\n",
        "5. メールを開いて，以下のような宛先にする\n",
        "    - To: educ0233@komazawa-u.ac.jp\n",
        "    - Cc: 自分のメールアドレス\n",
        "6. メールの件名を 本日の日付(8桁:yyyymmdd)-自分の学生番号 とする\n",
        "7. 本文に，Google drive の共有情報を貼り付ける\n",
        "8. 送信ボタンを押下する\n",
        "\n"
      ]
    },
    {
      "cell_type": "code",
      "metadata": {
        "id": "NK_-z1cBe5fb",
        "colab_type": "code",
        "colab": {}
      },
      "source": [
        "#@title # 次の用語を簡単に解説せよ { run: \"auto\", vertical-output: true, display-mode: \"form\" }\n",
        "epoch = 'エポック epoch:'  #@param {type: \"string\"}\n",
        "lr = '学習率 learning rate: '  #@param {type: \"string\"}\n",
        "activation = '活性化関数 activation: '  #@param {type: \"string\"}\n",
        "regularization = '正則化係数 regularization:' #@param {type:\"string\"}\n",
        "batch = 'バッチ batch:' #@param {type:\"string\"}\n",
        "hidden_layer = \"隠れ層 hidden layers:\" #@param {type:\"string\"}\n",
        "#@markdown ---"
      ],
      "execution_count": 0,
      "outputs": []
    },
    {
      "cell_type": "code",
      "metadata": {
        "id": "uoE7c7fa7ELJ",
        "colab_type": "code",
        "cellView": "form",
        "colab": {}
      },
      "source": [
        "#@title 授業の評価\n",
        "\n",
        "Q1 = '本日の感想' #@param {type:\"string\"}\n",
        "Q2 = '難易度:分かりやすかった' #@param{type:'string'} [\"難易度:分かりやすかった\", \"難易度:どちらとも言えない\", \"難易度:分かりにくかった\"]\n",
        "Q3 = '進み方:速かった' #@param{type:'string'}['進み方:速かった', '進み方:ちょうどよかった', '進み方:ゆっくりすぎた']"
      ],
      "execution_count": 0,
      "outputs": []
    },
    {
      "cell_type": "code",
      "metadata": {
        "colab_type": "code",
        "id": "t3gVOhGn40F0",
        "colab": {}
      },
      "source": [
        "#@title ## 本日の授業でのトラブルについて {display-mode: \"form\"}\n",
        "#@markdown ### 本日の授業でのトラブルについて，ご意見や改善提案をお聞かせください\n",
        "opinion = \"意見\" #@param {type: \"string\"}"
      ],
      "execution_count": 0,
      "outputs": []
    },
    {
      "cell_type": "code",
      "metadata": {
        "id": "cSYQD8sE7YyR",
        "colab_type": "code",
        "colab": {}
      },
      "source": [
        "#@title ## 印象 {display-mode: \"form\"}\n",
        "#@markdown ### 問 1-1. 授業で取り上げた話題の中で <font color='red'>もっとも印象に残っている</font> 話題を一つ挙げよ。また簡単に，1行程度でその理由を記せ\n",
        "topic2_1 = '話題1: '  #@param {type: \"string\"}\n",
        "reason2_1 = '理由1:'  #@param {type: \"string\"}\n",
        "\n",
        "#@markdown ### 問 1-2. 授業で取り上げた話題の中で <font color='red'>2番目に印象に残っている</font> 話題を一つ挙げよ。また簡単に，1行程度でその理由を記せ\n",
        "topic2_2 = '話題2:'  #@param {type: \"string\"}\n",
        "reason2_2 = '理由2:'  #@param {type: \"string\"}\n",
        "\n",
        "#@markdown ### 問 1-3. 授業で取り上げた話題の中で <font color='red'>もっとも興味が持てなかった</font> 話題を一つ挙げよ。また簡単に，1行程度でその理由を記せ\n",
        "topic2_3 = '話題3:'  #@param {type: \"string\"}\n",
        "reason2_3 = '理由3:'  #@param {type: \"string\"}\n",
        "#@markdown ---\n",
        "x1 = \"\"\n"
      ],
      "execution_count": 0,
      "outputs": []
    },
    {
      "cell_type": "code",
      "metadata": {
        "id": "fzkyxDEkLw4Y",
        "colab_type": "code",
        "outputId": "fe44522d-bfd7-4a69-f836-8ebe3630f79e",
        "colab": {
          "base_uri": "https://localhost:8080/",
          "height": 421
        }
      },
      "source": [
        "from IPython.display import YouTubeVideo, display\n",
        "#video_id = 'cofokoZJsA8'\n",
        "video_id = 'KiT_DrDjdDE'  # RT foodly\n",
        "display(YouTubeVideo(video_id, width=600, height=400))"
      ],
      "execution_count": 3,
      "outputs": [
        {
          "output_type": "display_data",
          "data": {
            "text/html": [
              "\n",
              "        <iframe\n",
              "            width=\"600\"\n",
              "            height=\"400\"\n",
              "            src=\"https://www.youtube.com/embed/KiT_DrDjdDE\"\n",
              "            frameborder=\"0\"\n",
              "            allowfullscreen\n",
              "        ></iframe>\n",
              "        "
            ],
            "text/plain": [
              "<IPython.lib.display.YouTubeVideo at 0x7f5d9466a3c8>"
            ],
            "image/jpeg": "[encoded data removed]"
          },
          "metadata": {
            "tags": []
          }
        }
      ]
    },
    {
      "cell_type": "markdown",
      "metadata": {
        "id": "vaEa3I0FgbvG",
        "colab_type": "text"
      },
      "source": [
        "# 上のビデオの感想を下のセルに書いてください"
      ]
    },
    {
      "cell_type": "markdown",
      "metadata": {
        "id": "qDlL1gwtgmmU",
        "colab_type": "text"
      },
      "source": [
        ""
      ]
    }
  ]
}