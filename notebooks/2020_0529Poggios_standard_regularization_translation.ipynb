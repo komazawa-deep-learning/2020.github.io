{
 "cells": [
  {
   "cell_type": "markdown",
   "metadata": {
    "colab_type": "text",
    "id": "view-in-github"
   },
   "source": [
    "<a href=\"https://colab.research.google.com/github/komazawa-deep-learning/komazawa-deep-learning.github.io/blob/master/notebooks/2020_0529Poggios_standard_regularization_translation.ipynb\" target=\"_parent\"><img src=\"https://colab.research.google.com/assets/colab-badge.svg\" alt=\"Open In Colab\"/></a>"
   ]
  },
  {
   "cell_type": "markdown",
   "metadata": {
    "id": "e0Z1YcyD73Hw"
   },
   "source": [
    "データ $y$ から $z$ を見つけ出す不良設定問題の正則化\n",
    "$$\n",
    "Az = y\n",
    "$$\n",
    "では，正則化項 $\\left\\|\\cdot\\right\\|$ の選択と汎関数の安定化項 $\\left\\|Pz\\right\\|$ が必要となる。\n",
    "標準正則化理論においては，$A$ は線形演算子，ノルムは 2 次，\b$P$ は線形である。\n",
    "2 種類の方法が適用可能である。\n",
    "すなわち \n",
    "1. $\\left\\|Az-y\\right\\|\\leqslant\\epsilon$ を満たし，次式を最小化する $z$ を探す\n",
    "$$\n",
    "\\left\\|Pz\\right\\|^2\n",
    "$$\n",
    "\n",
    "2. 次式を最小化する $z$ を探す\n",
    "$$\n",
    "\\left\\|Az-y\\right\\|+\\lambda\\left\\|Pz\\right\\|^2,\n",
    "$$\n",
    "ここで $\\lambda$ はいわゆる正則化パラメータである。\n",
    "\n",
    "最初の方法は，十分にデータを近似し，かつ，「基準」$\\left\\|Pz\\right\\|$ を最小化するという意味で「正則」な $z$ を探す方法である。\n",
    "二番目の方法は，$\\lambda$ が正則化の程度と解のデータへの近似とをコントロールする。\n",
    "標準正則化理論は，最良の $\\lambda$ を決定する手法を提供する。\n",
    "標準正則化の手法は，上式に制約を導入することで変分原理の問題としている。\n",
    "最小化するコストは物理的制約条件を満たす良い解を反映している。\n",
    "すなわち，データへの近似もよく，かつ，正則化項 $\\left\\|Pz\\right\\|^2$ も小さいことを意味する。\n",
    "$P$ は問題の物理的制約を表しており，2 次の変分原理であり，解空間内での唯一解が存在する。\n",
    "標準正則化手法は，不良設定問題に対して注意深い分析が必要であることを注記しておく。\n",
    "ノルム $\\left\\|\\cdot\\right\\|$，正則化関数 $\\left\\|Pz\\right\\|$, および，汎関数空間の選択は数学的性質と，物理的説得性を有する必要がある。\n",
    "これらにより，正しい正則化の詳細条件が定まる。\n",
    "\n",
    "変分原理は物理学，経済学，工学，で幅広く用いられている。例えば物理学における基本法則は変分原理を用いて，\n",
    "エネルギーやラグランジェ関数を用いて簡潔に表現されている。"
   ]
  }
 ],
 "metadata": {
  "colab": {
   "authorship_tag": "ABX9TyO7oFf99GfFIgxldG57IJA7",
   "collapsed_sections": [],
   "include_colab_link": true,
   "name": "2020-0529Poggios_standard_regularization_translation.ipynb",
   "private_outputs": true,
   "provenance": []
  },
  "kernelspec": {
   "display_name": "Python 3 (ipykernel)",
   "language": "python",
   "name": "python3"
  },
  "language_info": {
   "codemirror_mode": {
    "name": "ipython",
    "version": 3
   },
   "file_extension": ".py",
   "mimetype": "text/x-python",
   "name": "python",
   "nbconvert_exporter": "python",
   "pygments_lexer": "ipython3",
   "version": "3.9.12"
  },
  "widgets": {
   "application/vnd.jupyter.widget-state+json": {
    "state": {},
    "version_major": 2,
    "version_minor": 0
   }
  }
 },
 "nbformat": 4,
 "nbformat_minor": 4
}
