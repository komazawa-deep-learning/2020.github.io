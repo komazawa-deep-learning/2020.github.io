{
  "cells": [
    {
      "cell_type": "markdown",
      "metadata": {
        "id": "view-in-github",
        "colab_type": "text"
      },
      "source": [
        "<a href=\"https://colab.research.google.com/github/komazawa-deep-learning/komazawa-deep-learning.github.io/blob/master/notebooks/2023_1027Knd_Ijn_Ask_s2p_p2s.ipynb\" target=\"_parent\"><img src=\"https://colab.research.google.com/assets/colab-badge.svg\" alt=\"Open In Colab\"/></a>"
      ]
    },
    {
      "cell_type": "code",
      "execution_count": null,
      "id": "bc1982d5-b8ec-4d17-83f7-cabacc3e907a",
      "metadata": {
        "tags": [],
        "id": "bc1982d5-b8ec-4d17-83f7-cabacc3e907a"
      },
      "outputs": [],
      "source": [
        "%config InlineBackend.figure_format = 'retina'"
      ]
    },
    {
      "cell_type": "markdown",
      "id": "77b2be91-f5ca-4d9a-b4ee-599d114b1ae0",
      "metadata": {
        "tags": [],
        "id": "77b2be91-f5ca-4d9a-b4ee-599d114b1ae0"
      },
      "source": [
        "* date: 2023_1027\n",
        "* author: 浅川伸一\n",
        "* filename: 2023_1027Knd_Ijn_Ask_s2p_p2s.ipynb\n",
        "\n",
        "# 符号化器‐復号化器 (encoder-decoder a.k.a seq2seq) モデルによる，単語復唱，単語産出，および単語理解処理過程の実装\n",
        "\n",
        "\n",
        "<center>\n",
        "<img src=\"https://raw.githubusercontent.com/ShinAsakawa/ShinAsakawa.github.io/master/assets/2004Harm_Seidenberg_fig4c.svg\"><br/>\n",
        "<img src=\"https://raw.githubusercontent.com/ShinAsakawa/ShinAsakawa.github.io/master/assets/2004Harm_Seidenberg_fig4d.svg\"><br/> -->\n",
        "<img src=\"2004Harm_Seidenberg_fig4ab.svg\"><br/>\n",
        "<!--<img src=\"2004Harm_Seidenberg_fig4c.svg\">\n",
        "<img src=\"2004Harm_Seidenberg_fig4d.svg\"><br/>-->\n",
        "`2004Harm&Seidenberg2004`, Figure 4 c, and d\n",
        "</center>\n",
        "\n",
        "<center>\n",
        "<img src=\"2015Loung_fig1.svg\" width=\"24%\"><br/>\n",
        "ニューラル翻訳モデル。\n",
        "青色がソース言語モデル，赤がターゲット言語モデルである。\n",
        "ソース言語モデルの，最終時刻の中間層状態を，ターゲット言語モデルの開始時の中間層状態として用いる。\n",
        "Loung+2015 Fig.1 より。    \n",
        "</center>\n",
        "\n",
        "\n",
        "* 文献\n",
        "    * Harm & Seidenberg (2004) Computing the Meanings of Words in Reading: Cooperative Division of Labor Between Visual and Phonological Processes, Psychological Review, DOI:10.1037/0033-295X.111.3.662\n",
        "    * Seq2seq 翻訳モデル: Sutskever+ (2014) Sequence to Sequence Learning with Neural Networks, [arXiv:1409.3215](https://arxiv.org/abs/1409.3215)\n",
        "    * 注意つき符号化器‐復号化器モデル: Bahdanau, Cho, & Bengio (2015) NEURAL MACHINE TRANSLATION BY JOINTLY LEARNING TO ALIGN AND TRANSLATE, [arXiv:1409.0473](https://arxiv.org/abs/1409.0473)\n",
        "    * もう一つの注意つき符号化器‐復号化器モデル Luong+ (2015) Effective Approaches to Attention-based Neural Machine Translation, [arXiv:1508.04025](https://arxiv.org/abs/1508.04025)\n"
      ]
    },
    {
      "cell_type": "markdown",
      "id": "97d329e1-040a-4fab-b524-4dab9323c25a",
      "metadata": {
        "id": "97d329e1-040a-4fab-b524-4dab9323c25a"
      },
      "source": [
        "# 0 準備\n",
        "## 0.1 Colab 用 MeCab コンパイル&インストール等"
      ]
    },
    {
      "cell_type": "code",
      "execution_count": 2,
      "id": "a81e137d-f5b3-412d-985d-191972ae9b11",
      "metadata": {
        "tags": [],
        "colab": {
          "base_uri": "https://localhost:8080/"
        },
        "id": "a81e137d-f5b3-412d-985d-191972ae9b11",
        "outputId": "990137ae-a0b8-48f6-ec35-3693c06b7e32"
      },
      "outputs": [
        {
          "output_type": "stream",
          "name": "stdout",
          "text": [
            "Collecting jaconv\n",
            "  Downloading jaconv-0.3.4.tar.gz (16 kB)\n",
            "  Preparing metadata (setup.py) ... \u001b[?25l\u001b[?25hdone\n",
            "Building wheels for collected packages: jaconv\n",
            "  Building wheel for jaconv (setup.py) ... \u001b[?25l\u001b[?25hdone\n",
            "  Created wheel for jaconv: filename=jaconv-0.3.4-py3-none-any.whl size=16416 sha256=a5a21f5b1024ff3c7aef51c17cf7c19a5d2a02abf61d7d1430e0bcbaeab27fbd\n",
            "  Stored in directory: /root/.cache/pip/wheels/46/8f/2e/a730bf1fca05b33e532d5d91dabdf406c9b718ec85b01b1b54\n",
            "Successfully built jaconv\n",
            "Installing collected packages: jaconv\n",
            "Successfully installed jaconv-0.3.4\n",
            "Collecting japanize_matplotlib\n",
            "  Downloading japanize-matplotlib-1.1.3.tar.gz (4.1 MB)\n",
            "\u001b[2K     \u001b[90m━━━━━━━━━━━━━━━━━━━━━━━━━━━━━━━━━━━━━━━━\u001b[0m \u001b[32m4.1/4.1 MB\u001b[0m \u001b[31m47.1 MB/s\u001b[0m eta \u001b[36m0:00:00\u001b[0m\n",
            "\u001b[?25h  Preparing metadata (setup.py) ... \u001b[?25l\u001b[?25hdone\n",
            "Requirement already satisfied: matplotlib in /usr/local/lib/python3.10/dist-packages (from japanize_matplotlib) (3.7.1)\n",
            "Requirement already satisfied: contourpy>=1.0.1 in /usr/local/lib/python3.10/dist-packages (from matplotlib->japanize_matplotlib) (1.1.1)\n",
            "Requirement already satisfied: cycler>=0.10 in /usr/local/lib/python3.10/dist-packages (from matplotlib->japanize_matplotlib) (0.12.1)\n",
            "Requirement already satisfied: fonttools>=4.22.0 in /usr/local/lib/python3.10/dist-packages (from matplotlib->japanize_matplotlib) (4.43.1)\n",
            "Requirement already satisfied: kiwisolver>=1.0.1 in /usr/local/lib/python3.10/dist-packages (from matplotlib->japanize_matplotlib) (1.4.5)\n",
            "Requirement already satisfied: numpy>=1.20 in /usr/local/lib/python3.10/dist-packages (from matplotlib->japanize_matplotlib) (1.23.5)\n",
            "Requirement already satisfied: packaging>=20.0 in /usr/local/lib/python3.10/dist-packages (from matplotlib->japanize_matplotlib) (23.2)\n",
            "Requirement already satisfied: pillow>=6.2.0 in /usr/local/lib/python3.10/dist-packages (from matplotlib->japanize_matplotlib) (9.4.0)\n",
            "Requirement already satisfied: pyparsing>=2.3.1 in /usr/local/lib/python3.10/dist-packages (from matplotlib->japanize_matplotlib) (3.1.1)\n",
            "Requirement already satisfied: python-dateutil>=2.7 in /usr/local/lib/python3.10/dist-packages (from matplotlib->japanize_matplotlib) (2.8.2)\n",
            "Requirement already satisfied: six>=1.5 in /usr/local/lib/python3.10/dist-packages (from python-dateutil>=2.7->matplotlib->japanize_matplotlib) (1.16.0)\n",
            "Building wheels for collected packages: japanize_matplotlib\n",
            "  Building wheel for japanize_matplotlib (setup.py) ... \u001b[?25l\u001b[?25hdone\n",
            "  Created wheel for japanize_matplotlib: filename=japanize_matplotlib-1.1.3-py3-none-any.whl size=4120257 sha256=cab5cdd08f77dba3794f1f4ea90996ae7b110d36270f0d5719916c833e5af123\n",
            "  Stored in directory: /root/.cache/pip/wheels/61/7a/6b/df1f79be9c59862525070e157e62b08eab8ece27c1b68fbb94\n",
            "Successfully built japanize_matplotlib\n",
            "Installing collected packages: japanize_matplotlib\n",
            "Successfully installed japanize_matplotlib-1.1.3\n",
            "Collecting termcolor==1.1\n",
            "  Downloading termcolor-1.1.0.tar.gz (3.9 kB)\n",
            "  Preparing metadata (setup.py) ... \u001b[?25l\u001b[?25hdone\n",
            "Building wheels for collected packages: termcolor\n",
            "  Building wheel for termcolor (setup.py) ... \u001b[?25l\u001b[?25hdone\n",
            "  Created wheel for termcolor: filename=termcolor-1.1.0-py3-none-any.whl size=4832 sha256=f84687eee40a321366dca6e47231dbb24e54f677d2b55b43479719c96dbb37a1\n",
            "  Stored in directory: /root/.cache/pip/wheels/a1/49/46/1b13a65d8da11238af9616b00fdde6d45b0f95d9291bac8452\n",
            "Successfully built termcolor\n",
            "Installing collected packages: termcolor\n",
            "  Attempting uninstall: termcolor\n",
            "    Found existing installation: termcolor 2.3.0\n",
            "    Uninstalling termcolor-2.3.0:\n",
            "      Successfully uninstalled termcolor-2.3.0\n",
            "Successfully installed termcolor-1.1.0\n",
            "Collecting konoha[mecab]\n",
            "  Downloading konoha-5.4.0-py3-none-any.whl (17 kB)\n",
            "Requirement already satisfied: importlib-metadata<7.0.0,>=4.0.0 in /usr/local/lib/python3.10/dist-packages (from konoha[mecab]) (6.8.0)\n",
            "Collecting overrides<4.0.0,>=3.0.0 (from konoha[mecab])\n",
            "  Downloading overrides-3.1.0.tar.gz (11 kB)\n",
            "  Preparing metadata (setup.py) ... \u001b[?25l\u001b[?25hdone\n",
            "Requirement already satisfied: requests<3.0.0,>=2.26.0 in /usr/local/lib/python3.10/dist-packages (from konoha[mecab]) (2.31.0)\n",
            "Collecting natto-py<2.0.0,>=1.0.0 (from konoha[mecab])\n",
            "  Downloading natto-py-1.0.1.tar.gz (36 kB)\n",
            "  Preparing metadata (setup.py) ... \u001b[?25l\u001b[?25hdone\n",
            "Requirement already satisfied: zipp>=0.5 in /usr/local/lib/python3.10/dist-packages (from importlib-metadata<7.0.0,>=4.0.0->konoha[mecab]) (3.17.0)\n",
            "Requirement already satisfied: cffi in /usr/local/lib/python3.10/dist-packages (from natto-py<2.0.0,>=1.0.0->konoha[mecab]) (1.16.0)\n",
            "Requirement already satisfied: charset-normalizer<4,>=2 in /usr/local/lib/python3.10/dist-packages (from requests<3.0.0,>=2.26.0->konoha[mecab]) (3.3.1)\n",
            "Requirement already satisfied: idna<4,>=2.5 in /usr/local/lib/python3.10/dist-packages (from requests<3.0.0,>=2.26.0->konoha[mecab]) (3.4)\n",
            "Requirement already satisfied: urllib3<3,>=1.21.1 in /usr/local/lib/python3.10/dist-packages (from requests<3.0.0,>=2.26.0->konoha[mecab]) (2.0.7)\n",
            "Requirement already satisfied: certifi>=2017.4.17 in /usr/local/lib/python3.10/dist-packages (from requests<3.0.0,>=2.26.0->konoha[mecab]) (2023.7.22)\n",
            "Requirement already satisfied: pycparser in /usr/local/lib/python3.10/dist-packages (from cffi->natto-py<2.0.0,>=1.0.0->konoha[mecab]) (2.21)\n",
            "Building wheels for collected packages: natto-py, overrides\n",
            "  Building wheel for natto-py (setup.py) ... \u001b[?25l\u001b[?25hdone\n",
            "  Created wheel for natto-py: filename=natto_py-1.0.1-py3-none-any.whl size=44821 sha256=dbb680480b63613b7b3a37c76bf1d07151340af5c75772090dc831be90fa4009\n",
            "  Stored in directory: /root/.cache/pip/wheels/0d/47/6f/c481360dc8e1445c947007ec8ccb5dc123776e3236b635d892\n",
            "  Building wheel for overrides (setup.py) ... \u001b[?25l\u001b[?25hdone\n",
            "  Created wheel for overrides: filename=overrides-3.1.0-py3-none-any.whl size=10173 sha256=b1c536d70317bf557f3209a5bd7daa4da3c340ad2fa8eb6f4bf494fea4c4202c\n",
            "  Stored in directory: /root/.cache/pip/wheels/bd/23/63/4d5849844f8f9d32be09e1b9b278e80de2d8314fbf1e28068b\n",
            "Successfully built natto-py overrides\n",
            "Installing collected packages: overrides, natto-py, konoha\n",
            "Successfully installed konoha-5.4.0 natto-py-1.0.1 overrides-3.1.0\n",
            "Cloning into 'ccap'...\n",
            "remote: Enumerating objects: 847, done.\u001b[K\n",
            "remote: Counting objects: 100% (267/267), done.\u001b[K\n",
            "remote: Compressing objects: 100% (119/119), done.\u001b[K\n",
            "remote: Total 847 (delta 143), reused 253 (delta 138), pack-reused 580\u001b[K\n",
            "Receiving objects: 100% (847/847), 38.43 MiB | 20.94 MiB/s, done.\n",
            "Resolving deltas: 100% (169/169), done.\n",
            "Cloning into 'RAM'...\n",
            "remote: Enumerating objects: 93, done.\u001b[K\n",
            "remote: Counting objects: 100% (42/42), done.\u001b[K\n",
            "remote: Compressing objects: 100% (42/42), done.\u001b[K\n",
            "remote: Total 93 (delta 15), reused 0 (delta 0), pack-reused 51\u001b[K\n",
            "Receiving objects: 100% (93/93), 130.05 MiB | 15.35 MiB/s, done.\n",
            "Resolving deltas: 100% (38/38), done.\n",
            "--2023-10-29 21:05:34--  https://shinasakawa.github.io/2023notebooks/kunrei.py\n",
            "Resolving shinasakawa.github.io (shinasakawa.github.io)... 185.199.111.153, 185.199.109.153, 185.199.108.153, ...\n",
            "Connecting to shinasakawa.github.io (shinasakawa.github.io)|185.199.111.153|:443... connected.\n",
            "HTTP request sent, awaiting response... 200 OK\n",
            "Length: 21158 (21K) [application/octet-stream]\n",
            "Saving to: ‘kunrei.py’\n",
            "\n",
            "kunrei.py           100%[===================>]  20.66K  --.-KB/s    in 0.001s  \n",
            "\n",
            "2023-10-29 21:05:35 (23.2 MB/s) - ‘kunrei.py’ saved [21158/21158]\n",
            "\n",
            "CPU times: user 7.36 s, sys: 1.17 s, total: 8.53 s\n",
            "Wall time: 13min 34s\n"
          ]
        }
      ],
      "source": [
        "%%time\n",
        "%config InlineBackend.figure_format = 'retina'\n",
        "# このセルの実行には 15 分程度かかります。\n",
        "import torch\n",
        "device = 'cuda' if torch.cuda.is_available() else 'cpu'\n",
        "\n",
        "import IPython\n",
        "isColab = 'google.colab' in str(IPython.get_ipython())\n",
        "\n",
        "import sys\n",
        "import os\n",
        "import numpy as np\n",
        "from tqdm.notebook import tqdm\n",
        "import time\n",
        "import datetime\n",
        "import matplotlib.pyplot as plt\n",
        "\n",
        "# ローカルと colab との相違を吸収するために必要となるライブラリをインストール\n",
        "try:\n",
        "    import jaconv\n",
        "except ImportError:\n",
        "    !pip install jaconv\n",
        "\n",
        "try:\n",
        "    import japanize_matplotlib\n",
        "except ImportError:\n",
        "    !pip install japanize_matplotlib\n",
        "    import japanize_matplotlib\n",
        "\n",
        "if isColab:\n",
        "    !pip install --upgrade termcolor==1.1\n",
        "from termcolor import colored\n",
        "\n",
        "# MeCab, fugashi, ipadic のインストール\n",
        "if isColab:\n",
        "    !apt install aptitude swig > /dev/null 2>&1\n",
        "    !aptitude install mecab libmecab-dev mecab-ipadic-utf8 git make curl xz-utils file -y > /dev/null 2>&1\n",
        "    !pip install mecab-python3==0.7 > /dev/null 2>&1\n",
        "    !pip install --upgrade ipadic > /dev/null 2>&1\n",
        "    !git clone --depth 1 https://github.com/neologd/mecab-ipadic-neologd.git > /dev/null 2>&1\n",
        "    !echo yes | mecab-ipadic-neologd/bin/install-mecab-ipadic-neologd -n -a > /dev/null 2>&1\n",
        "\n",
        "    import subprocess\n",
        "    cmd='echo `mecab-config --dicdir`\\\"/mecab-ipadic-neologd\\\"'\n",
        "    path_neologd = (subprocess.Popen(cmd, stdout=subprocess.PIPE,\n",
        "                                     shell=True).communicate()[0]).decode('utf-8')\n",
        "\n",
        "    !pip install 'fugashi[unidic]' > /dev/null 2>&1\n",
        "    !python -m unidic download > /dev/null 2>&1\n",
        "    !pip install ipadic > /dev/null 2>&1\n",
        "    !pip install 'konoha[mecab]'\n",
        "\n",
        "\n",
        "# 以下は，開発したライブラリを GitHub より取得してインストール\n",
        "try:\n",
        "    import ccap\n",
        "except ImportError:\n",
        "    !git clone https://github.com/ShinAsakawa/ccap.git\n",
        "    import ccap\n",
        "\n",
        "try:\n",
        "    import RAM\n",
        "except ImportError:\n",
        "    !git clone https://github.com/ShinAsakawa/RAM.git\n",
        "    import RAM\n",
        "\n",
        "# 近藤先生との議論から音韻情報の代替案として，ローマ字表記を採用することとした。\n",
        "# このとき，訓令式の表記にすることとした。ヘボン式，パスポート式ではないことに注意\n",
        "try:\n",
        "    from kunrei import kunrei\n",
        "except ImportError:\n",
        "    !wget https://shinasakawa.github.io/2023notebooks/kunrei.py -O kunrei.py\n",
        "    from kunrei import kunrei"
      ]
    },
    {
      "cell_type": "markdown",
      "id": "0ba9c3bd-6967-4ce7-9425-1552f88cca02",
      "metadata": {
        "id": "0ba9c3bd-6967-4ce7-9425-1552f88cca02"
      },
      "source": [
        "## 0.2 意味表現として word2vec による意味埋め込みベクトルを使う"
      ]
    },
    {
      "cell_type": "code",
      "execution_count": null,
      "id": "18683a3c-01f0-4027-9a3f-c1c881fea0bc",
      "metadata": {
        "tags": [],
        "id": "18683a3c-01f0-4027-9a3f-c1c881fea0bc"
      },
      "outputs": [],
      "source": [
        "%%time\n",
        "# word2vec を読み込む。このセルの実行には 1, 2 分を要します。\n",
        "from ccap import ccap_w2v\n",
        "w2v = ccap_w2v().w2v\n",
        "#w2v = ccap_w2v(isColab=False).w2v\n",
        "\n",
        "# MeCab による yomi を輸入\n",
        "from ccap.mecab_settings import yomi\n",
        "#import MeCab"
      ]
    },
    {
      "cell_type": "markdown",
      "id": "11fb582c-3043-4c72-be98-fab860a4c135",
      "metadata": {
        "id": "11fb582c-3043-4c72-be98-fab860a4c135"
      },
      "source": [
        "## 0.3 データセット Psylex71_Dataset の読み込み"
      ]
    },
    {
      "cell_type": "code",
      "execution_count": null,
      "id": "9057cfa3-bd54-497c-950a-3c34576b8b64",
      "metadata": {
        "tags": [],
        "id": "9057cfa3-bd54-497c-950a-3c34576b8b64",
        "outputId": "64bfc169-0a0b-4b76-8b1a-46bbd2b4ff0b"
      },
      "outputs": [
        {
          "name": "stdout",
          "output_type": "stream",
          "text": [
            "psylex71_ds の単語数:30000\n"
          ]
        }
      ],
      "source": [
        "# データセットとしての Psylex71_Dataset の読み込み\n",
        "from RAM import Psylex71_Dataset\n",
        "\n",
        "psylex71_ds = Psylex71_Dataset(max_words=30000)\n",
        "print(f'psylex71_ds の単語数:{psylex71_ds.__len__()}')"
      ]
    },
    {
      "cell_type": "markdown",
      "id": "bd4995d2-8a4f-4721-8a79-eca7330b961b",
      "metadata": {
        "id": "bd4995d2-8a4f-4721-8a79-eca7330b961b"
      },
      "source": [
        "### データセットのヒストグラム描画"
      ]
    },
    {
      "cell_type": "code",
      "execution_count": null,
      "id": "45ff4af1-2184-4304-bef0-64bf2504e40e",
      "metadata": {
        "tags": [],
        "id": "45ff4af1-2184-4304-bef0-64bf2504e40e"
      },
      "outputs": [],
      "source": [
        "from RAM import draw_word_char_histgram\n",
        "\n",
        "draw_word_char_histgram(_dict=psylex71_ds.data_dict, key='phon', title='音韻', figsize2=(8,3))"
      ]
    },
    {
      "cell_type": "markdown",
      "id": "1ddbc27f-5ebb-4fbd-9d75-da7585048341",
      "metadata": {
        "id": "1ddbc27f-5ebb-4fbd-9d75-da7585048341"
      },
      "source": [
        "## 0.4 psylex71_ds に存在する全単語を word2vec の埋め込みベクトル行列にする"
      ]
    },
    {
      "cell_type": "code",
      "execution_count": null,
      "id": "94cd4aab-6dbb-41f4-bb02-b74f2768043c",
      "metadata": {
        "tags": [],
        "id": "94cd4aab-6dbb-41f4-bb02-b74f2768043c",
        "outputId": "15bec434-e0fb-4763-a8bc-c24831666f07"
      },
      "outputs": [
        {
          "name": "stdout",
          "output_type": "stream",
          "text": [
            "w2v_psylex71.vectors.shape:(26877, 200)\n"
          ]
        }
      ],
      "source": [
        "# psylex71_ds データから word2vec の埋め込みベクトル行列を得る\n",
        "_words = [dct['orth'] for dct in psylex71_ds.data_dict.values()]\n",
        "\n",
        "# gensim() の `vectors_for_all()` 関数を持ちて，望む語彙で構成される word2vec 単語埋め込みモデルを作成\n",
        "w2v_psylex71 = w2v.vectors_for_all(_words)\n",
        "\n",
        "# NaN データが入っている可能性がるので変換\n",
        "w2v_psylex71.vectors = np.nan_to_num(w2v_psylex71.vectors)\n",
        "print(f'w2v_psylex71.vectors.shape:{w2v_psylex71.vectors.shape}')\n",
        "words = w2v_psylex71.index_to_key\n",
        "#len(words)"
      ]
    },
    {
      "cell_type": "markdown",
      "id": "4baeee79-6f53-459d-b1ed-688788eae64b",
      "metadata": {
        "id": "4baeee79-6f53-459d-b1ed-688788eae64b"
      },
      "source": [
        "## 0.5 psylex71 データセット中の単語における w2v の表示テスト"
      ]
    },
    {
      "cell_type": "code",
      "execution_count": null,
      "id": "bf14fdcf-d6b5-461e-ac0a-f5f9fe55a9fd",
      "metadata": {
        "tags": [],
        "id": "bf14fdcf-d6b5-461e-ac0a-f5f9fe55a9fd",
        "outputId": "05e7ba3c-fd05-4eca-80eb-bdce93ecdb07"
      },
      "outputs": [
        {
          "name": "stdin",
          "output_type": "stream",
          "text": [
            "単語を入力してください: 蟻\n"
          ]
        },
        {
          "name": "stdout",
          "output_type": "stream",
          "text": [
            "\u001b[1m\u001b[31m蟻 という単語はありません。\u001b[0m\n"
          ]
        },
        {
          "name": "stdin",
          "output_type": "stream",
          "text": [
            "単語を入力してください (終了するには改行のみを入力): アリ\n"
          ]
        },
        {
          "name": "stdout",
          "output_type": "stream",
          "text": [
            "入力単語 Wrd:\u001b[1m\u001b[34mアリ\u001b[0m, 対応する単語番号 Idx:\u001b[1m\u001b[34m11532\u001b[0m, w2v_psylex71.get_index(アリ):\u001b[1m\u001b[34m11532\u001b[0m\n"
          ]
        },
        {
          "name": "stdin",
          "output_type": "stream",
          "text": [
            "単語を入力してください (終了するには改行のみを入力): \n"
          ]
        }
      ],
      "source": [
        "Wrd = input('単語を入力してください:')\n",
        "color = 'blue'\n",
        "while (Wrd != \"\"):\n",
        "    if Wrd in w2v_psylex71:\n",
        "        Idx = w2v_psylex71.key_to_index[Wrd]\n",
        "        print(f'入力単語 Wrd:{colored(Wrd, color, attrs=[\"bold\"])},',\n",
        "              f'対応する単語番号 Idx:{colored(Idx, color, attrs=[\"bold\"])},',\n",
        "              f'w2v_psylex71.get_index({Wrd}):{colored(w2v_psylex71.get_index(Wrd), color, attrs=[\"bold\"])}')\n",
        "    else:\n",
        "        print(colored(f'{Wrd} という単語はありません。','red', attrs=['bold']))\n",
        "    Wrd = input('単語を入力してください (終了するには改行のみを入力):')"
      ]
    },
    {
      "cell_type": "markdown",
      "id": "f386089a-8e73-4640-a13d-71fbcd59c404",
      "metadata": {
        "id": "f386089a-8e73-4640-a13d-71fbcd59c404"
      },
      "source": [
        "## 0.6 書記素リストの作成"
      ]
    },
    {
      "cell_type": "code",
      "execution_count": null,
      "id": "46064f0e-355d-47cf-8eb5-9fdd983edfd2",
      "metadata": {
        "tags": [],
        "colab": {
          "referenced_widgets": [
            "1ff1f0c27671428bba68d3d84781f3e2"
          ]
        },
        "id": "46064f0e-355d-47cf-8eb5-9fdd983edfd2",
        "outputId": "e74d68d3-f221-4198-876b-0d2be66e370e"
      },
      "outputs": [
        {
          "data": {
            "application/vnd.jupyter.widget-view+json": {
              "model_id": "1ff1f0c27671428bba68d3d84781f3e2",
              "version_major": 2,
              "version_minor": 0
            },
            "text/plain": [
              "  0%|          | 0/26877 [00:00<?, ?it/s]"
            ]
          },
          "metadata": {},
          "output_type": "display_data"
        }
      ],
      "source": [
        "import RAM\n",
        "\n",
        "def _grapheme(words=words):\n",
        "    \"\"\"必要と思われる書記素リストを返す\"\"\"\n",
        "\n",
        "    num_alpha='０１２３４５６７８９ＡＢＣＤＥＦＧＨＩＪＫＬＭＮＯＰＱＲＳＴＵＶＷＸＹＺａｂｃｄｅｆｇｈｉｊｋｌｍｎｏｐｑｒｓｔｕｖｗｘｙｚ'\n",
        "    hira = 'あいうえおかがきぎくぐけげこごさざしじすずせぜそぞただちぢつづてでとどなにぬねのはばぱひびぴふぶぷへべぺほぼぽまみむめもやゆよらりるれろわゐゑをんぁぃぅぇっゃゅょゎ'+'ゔ'\n",
        "    kata = 'アイウエオカガキギクグケゲコゴサザシジスズセゼソゾタダチヂツヅテデトドナニヌネノハバパヒビピフブプヘベペホボポマミムメモヤユヨラリルレロワヰヱヲン'+'ヴヷヸヹヺァィゥヵヶェォッャョュヮ'\n",
        "    symbols='、。，．・：；？！゛゜´｀¨＾‾＿ヽヾゝゞ〃仝々〆〇ー—‐／＼〜‖｜…‥‘’“”（）〔〕［］｛｝〈〉《》「」『』【】＋−±×÷＝≠＜＞≦≧∞∴♂♀°′″℃¥＄¢£％＃＆＊＠§☆★○●◎◇' + '◆□■△▲▽▼※〒→←↑↓〓∈∋⊆⊇⊂⊃∪∩∧∨¬⇒⇔∀∃∠⊥⌒∂∇≡≒≪≫√∽∝∵∫∬Å‰♯♭♪†‡¶◯'\n",
        "    #greek='ΑΒΓΔΕΖΗΘΙΚΛΜΝΞΟΠΡΣΤΥΦΧΨΩαβγδεζηθικλμνξοπρστυφχψω'\n",
        "    #rosian='АБВГДЕЁЖЗИЙКЛМНОПРСТУФХЦЧШЩЪЫЬЭЮЯабвгдеёжзийклмнопрстуфхцчшщъыьэюя'\n",
        "    #digit_symbols='①②③④⑤⑥⑦⑧⑨⑩⑪⑫⑬⑭⑮⑯⑰⑱⑲⑳⑴⑵⑶⑷⑸⑹⑺⑻⑼⑽⑾⑿⒀⒁⒂⒃⒄⒅⒆⒇❶❷❸❹❺❻❼❽❾⒈⒉⒊⒋⒌⒍⒎⒏⒐'\n",
        "    #alpha_symbols='ⅠⅡⅢⅣⅤⅥⅦⅧⅨⅩⅪⅫⅰⅱⅲⅳⅴⅵⅶⅷⅸⅹⅺⅻ⒜⒝⒞⒟⒠⒡⒢⒣⒤⒥⒦⒧⒨⒩⒪⒫⒬⒭⒮⒯⒰⒱⒲⒳⒴⒵'\n",
        "    #units='㎜㎟㎝㎠㎤㎡㎥㎞㎢㎎㎏㏄㎖㎗ℓ㎘㎳㎲㎱㎰℉㏔㏋㎐㎅㎆㎇№㏍℡'\n",
        "    #suits='♤♧♡♢♠♣♥♦〠☎〄☞☜☝☟⇆⇄⇅⇨⇦⇧⇩'\n",
        "    #etc='①②③④⑤⑥⑦⑧⑨⑩⑪⑫⑬⑭⑮⑯⑰⑱⑲⑳ⅠⅡⅢⅣⅤⅥⅦⅧⅨⅩ㍉㌔㌢㍍㌘㌧㌃㌶㍑㍗㌍㌦㌣㌫㍊㌻㎜㎝㎞㎎㎏㏄㎡㍻〝〟№㏍℡㊤㊥㊦㊧㊨㈱㈲㈹㍾㍽㍼≒≡∫∮∑√⊥∠∟⊿∵∩∪㊙'\n",
        "    #etc2='㍉㌢㍍㌔㌖㌅㌳㍎㌃㌶㌘㌕㌧㍑㍊㌹㍗㌍㍂㌣㌦㌻㌫㌀㌞㌪㌱㍇㍾㍽㍼㍻㍿∮∟⊿〝'\n",
        "\n",
        "    # RAM で作成済の常用漢字リストを用いて単漢字リストを作成\n",
        "    # 平成 22 年の改定により常用漢字は 2136 文字ある\n",
        "    chars_list = [ch for ch in num_alpha+hira+kata+symbols]+ RAM.chars_joyo().char_list\n",
        "    not_chars_list = []\n",
        "    for wrd in tqdm(words):\n",
        "        for ch in wrd:\n",
        "            if (ch not in chars_list) and (ch not in not_chars_list):\n",
        "                not_chars_list.append(ch)\n",
        "    not_chars_list = sorted(not_chars_list)\n",
        "    grapheme = chars_list + not_chars_list\n",
        "    # 上記の処理により grapheme には 2768 文字である。\n",
        "    # これに特殊トークン 4 つ ['<PAD>', '<SOW>', '<EOW>', '<UNK>'] を加えたリストを返す\n",
        "\n",
        "    return ['<PAD>', '<SOW>', '<EOW>', '<UNK>'] + grapheme\n",
        "\n",
        "grapheme = _grapheme()"
      ]
    },
    {
      "cell_type": "markdown",
      "id": "2ab15140-dca3-4f07-8080-4d8b10503bcc",
      "metadata": {
        "tags": [],
        "id": "2ab15140-dca3-4f07-8080-4d8b10503bcc"
      },
      "source": [
        "## 0.7 PyTorch 用のデータセット定義"
      ]
    },
    {
      "cell_type": "code",
      "execution_count": null,
      "id": "e1c5962c-2596-4e67-b7e0-3e58bae4f8bf",
      "metadata": {
        "tags": [],
        "id": "e1c5962c-2596-4e67-b7e0-3e58bae4f8bf",
        "outputId": "9b30e776-0f7e-4269-9fde-e6578c7092c1"
      },
      "outputs": [
        {
          "name": "stdout",
          "output_type": "stream",
          "text": [
            "_Wrd:ジョーダン\n",
            " _psylex71_ds.wrd2phon_ids(ジョーダン):[1, 26, 13, 19, 4, 14, 2]\n",
            " _psylex71_ds.phon_ids2phn(_psylex71_ds.wrd2phon_ids(ジョーダン)):<SOW>jo:daN<EOW>\n",
            " _psylex71_ds.wrd2yomi(ジョーダン): ジョーダン\n",
            " _psylex71_ds.wrd2wrd_idx(ジョーダン): 18425\n",
            " _psylex71_ds.wrd2orth_idx(ジョーダン): [167, 236, 265, 175, 221]\n",
            " _psylex71_ds.wrd2info(ジョーダン): {'orth': 'ジョーダン', '品詞': '固名', '頻度': 483, 'ヨミ': 'ジョーダン', 'phon': ['j', 'o:', 'd', 'a', 'N']}\n"
          ]
        }
      ],
      "source": [
        "from torch.utils.data import Dataset\n",
        "import gensim\n",
        "\n",
        "class psylex71_w2v_Dataset(Dataset):\n",
        "    def __init__(self,\n",
        "                 direction='s2p',  # ['s2p', 'p2s']\n",
        "                 source='seme',    # エンコーダ用 入力データ, ['orth', seme', 'phon'] のいずれか一つ\n",
        "                 target='phon',    # デコーダ用 出力データ ,  ['orth', seme', 'phon'] のいずれか一つ\n",
        "                 w2v:gensim.models.keyedvectors.KeyedVectors=w2v_psylex71,\n",
        "                 old_ds:RAM.dataset.Psylex71_Dataset=psylex71_ds,\n",
        "                 mecab_yomi=yomi,\n",
        "                 grapheme:list=grapheme,\n",
        "                ):\n",
        "\n",
        "        super().__init__()\n",
        "\n",
        "        self.direction = 's2p' if direction == 's2p' else direction\n",
        "        self.w2v = w2v\n",
        "        self.old_ds = old_ds\n",
        "        self.mecab_yomi = yomi         # 未知の単語が入力された場合 MeCab を使って読みをえるため\n",
        "        self.grapheme = grapheme\n",
        "\n",
        "        self.words = w2v.index_to_key  # gensim の KeyedVectors を利用して単語リストとする\n",
        "        self.W = w2v.vectors\n",
        "\n",
        "        # 訓令式に従った日本語ローマ字表記 `kurei.py` 参照\n",
        "        self.phoneme = ['<PAD>', '<SOW>', '<EOW>', '<UNK>', # 特殊トークン，純に，埋め草，語頭，語末，未知\n",
        "                        'a', 'i', 'u', 'e', 'o',            # 母音\n",
        "                        'a:', 'i:', 'u:', 'e:', 'o:',       # 長母音\n",
        "                        'N', 'Q',                           # 撥音，拗音\n",
        "                        'b', 'by', 'ch', 'd', 'dy', 'f', 'g', 'gy', 'h', 'hy', # 子音\n",
        "                        'j', 'k', 'ky', 'm', 'my', 'n', 'ny',  'p', 'py', 'r', # 子音\n",
        "                        'ry', 's', 'sy', 't', 'ty', 'w', 'y', 'z', 'zy']       # 子音\n",
        "\n",
        "        self.source, self.target = source, target\n",
        "\n",
        "\n",
        "    def __getitem__(self,\n",
        "                    idx:int):\n",
        "        wrd = self.words[idx]\n",
        "\n",
        "        if self.source == 'phon':\n",
        "            src = torch.LongTensor(self.wrd2phon_ids(wrd))\n",
        "        elif self.source == 'seme':\n",
        "            src = torch.tensor(self.w2v.get_vector(idx))\n",
        "        elif self.source == 'orth':\n",
        "            src = torch.LongTensor(self.wrd2wrd_ids(wrd))\n",
        "        else:\n",
        "            src = None\n",
        "\n",
        "        if self.target == 'phon':\n",
        "            tgt = torch.LongTensor(self.wrd2phon_ids(wrd))\n",
        "        elif self.target == 'seme':\n",
        "            tgt = torch.tensor(self.w2v.get_vector(idx))\n",
        "        elif self.target == 'orth':\n",
        "            tgt = torch.LongTensor(self.wrd2wrd_ids(wrd))\n",
        "        else:\n",
        "            tgt = None\n",
        "\n",
        "        return src, tgt\n",
        "\n",
        "    def __getitem__saved(self,  # 旧バージョン\n",
        "                    idx:int,\n",
        "                    direction:str=None):\n",
        "        wrd = self.words[idx]\n",
        "        if direction == None:\n",
        "            direction = self.direction\n",
        "        if direction == 'p2s':\n",
        "            X = torch.LongTensor(self.wrd2phon_ids(wrd))\n",
        "            y = torch.tensor(self.w2v.get_vector(idx))\n",
        "        else:\n",
        "            y = torch.LongTensor(self.wrd2phon_ids(wrd))\n",
        "            X = torch.tensor(self.w2v.get_vector(idx))\n",
        "\n",
        "        return X, y\n",
        "\n",
        "\n",
        "    def __len__(self):\n",
        "        return len(self.w2v)\n",
        "\n",
        "    def getitem(self,\n",
        "                idx:int):\n",
        "        wrd = self.words[idx]\n",
        "        _yomi = self.wrd2yomi(wrd)\n",
        "        _yomi = kunrei(_yomi).split(' ')\n",
        "        phon_ids = [self.phoneme.index(idx) for idx in _yomi]\n",
        "        orth_ids = [self.grapheme.index(idx) for idx in wrd]\n",
        "        return wrd, _yomi, phon_ids, orth_ids\n",
        "\n",
        "    def wrd2orth_ids(self, wrd:str)->list:\n",
        "        ids = [self.grapheme.index(ch) for ch in wrd]\n",
        "        return ids\n",
        "\n",
        "    def wrd2phon_ids(self, wrd:str)->list:\n",
        "        _yomi = self.wrd2yomi(wrd)\n",
        "        _yomi = kunrei(_yomi).split(' ')\n",
        "        ids = [self.phoneme.index(idx) for idx in _yomi]\n",
        "        ids = [self.phoneme.index('<SOW>')] + ids + [self.phoneme.index('<EOW>')]\n",
        "        return ids\n",
        "\n",
        "    def get_wrdidx_from_word(self, wrd:str):\n",
        "        if wrd in self.words:\n",
        "            wrd_idx = self.w2v.get_index(wrd)\n",
        "        else:\n",
        "            wrd_idx = -1\n",
        "        return wrd_idx\n",
        "\n",
        "    def wrd2emb(self, wrd:str)->np.ndarray:\n",
        "        if wrd in self.words:\n",
        "            return self.w2v.get_vector(wrd)\n",
        "        else:\n",
        "            return None\n",
        "\n",
        "    def wrd2wrd_idx(self, wrd:str)->int:\n",
        "        if wrd in self.words:\n",
        "            return self.words.index(wrd)\n",
        "        else:\n",
        "            return None\n",
        "\n",
        "    def wrd_idx2wrd(self, idx:int)->str:\n",
        "        if 0 <= idx and idx < len(self.words):\n",
        "            return self.words[idx]\n",
        "        else:\n",
        "            return None\n",
        "\n",
        "    def wrd2onehot(self, wrd:str)->np.ndarray:\n",
        "        ret = np.zeros((self.W.shape[0],), dtype=np.int32)\n",
        "        if wrd in self.words:\n",
        "            ret[self.w2v.get_index(wrd)] = 1\n",
        "            return ret\n",
        "        else:\n",
        "            return None\n",
        "\n",
        "    def phon_ids2phn(self, ids:list):\n",
        "        return \"\".join([self.phoneme[idx] for idx in ids])\n",
        "\n",
        "    def wrd2yomi(self, wrd:str)->list:\n",
        "        if wrd in self.words:\n",
        "            _yomi = self.old_ds.orth2info_dict[wrd]['ヨミ']\n",
        "        else:\n",
        "            _yomi = self.mecab_yomi(wrd).strip().split()[0]\n",
        "        return _yomi\n",
        "\n",
        "    def wrd2info(self, wrd:str)->dict:\n",
        "        if wrd in self.words:\n",
        "            return self.old_ds.orth2info_dict[wrd]\n",
        "        else:\n",
        "            return None\n",
        "\n",
        "\n",
        "_psylex71_ds = psylex71_w2v_Dataset(source='seme', target='phon')\n",
        "\n",
        "# 全部で 9 通りのデータセットを定義\n",
        "_psylex71_ds_s2p = psylex71_w2v_Dataset(source='seme', target='phon')\n",
        "_psylex71_ds_s2o = psylex71_w2v_Dataset(source='seme', target='orth')\n",
        "_psylex71_ds_s2s = psylex71_w2v_Dataset(source='seme', target='seme')\n",
        "\n",
        "_psylex71_ds_p2s = psylex71_w2v_Dataset(source='phon', target='seme')\n",
        "_psylex71_ds_p2o = psylex71_w2v_Dataset(source='phon', target='orth')\n",
        "_psylex71_ds_p2p = psylex71_w2v_Dataset(source='phon', target='phon')\n",
        "\n",
        "_psylex71_ds_o2p = psylex71_w2v_Dataset(source='orth', target='phon')\n",
        "_psylex71_ds_o2s = psylex71_w2v_Dataset(source='orth', target='seme')\n",
        "_psylex71_ds_o2o = psylex71_w2v_Dataset(source='orth', target='orth')\n",
        "\n",
        "\n",
        "# 以下確認作業\n",
        "N = np.random.randint(_psylex71_ds.__len__())\n",
        "wrd = _psylex71_ds.wrd_idx2wrd(N)\n",
        "print(f'_Wrd:{wrd}\\n',\n",
        "      f'_psylex71_ds.wrd2phon_ids({wrd}):{_psylex71_ds.wrd2phon_ids(wrd)}\\n',\n",
        "      f'_psylex71_ds.phon_ids2phn(_psylex71_ds.wrd2phon_ids({wrd})):{_psylex71_ds.phon_ids2phn(_psylex71_ds.wrd2phon_ids(wrd))}\\n',\n",
        "      f'_psylex71_ds.wrd2yomi({wrd}): {_psylex71_ds.wrd2yomi(wrd)}\\n',\n",
        "      f'_psylex71_ds.wrd2wrd_idx({wrd}): {_psylex71_ds.wrd2wrd_idx(wrd)}\\n',\n",
        "      f'_psylex71_ds.wrd2orth_idx({wrd}): {_psylex71_ds.wrd2orth_ids(wrd)}\\n',\n",
        "      f'_psylex71_ds.wrd2info({wrd}): {_psylex71_ds.wrd2info(wrd)}')"
      ]
    },
    {
      "cell_type": "markdown",
      "id": "420f9c74-269d-404e-b667-58efd5b5988d",
      "metadata": {
        "tags": [],
        "id": "420f9c74-269d-404e-b667-58efd5b5988d"
      },
      "source": [
        "## 0.8 DataLoader の定義"
      ]
    },
    {
      "cell_type": "code",
      "execution_count": null,
      "id": "6f547a8d-fc60-4317-981a-84187212464e",
      "metadata": {
        "tags": [],
        "id": "6f547a8d-fc60-4317-981a-84187212464e"
      },
      "outputs": [],
      "source": [
        "from torch.utils.data import Dataset, DataLoader\n",
        "#import numpy as np\n",
        "\n",
        "def _collate_fn(batch):\n",
        "    inps, tgts = list(zip(*batch))\n",
        "    inps = list(inps)\n",
        "    tgts = list(tgts)\n",
        "    return inps, tgts\n",
        "\n",
        "batch_size = 1024\n",
        "dataloader = DataLoader(dataset=_psylex71_ds,\n",
        "                        batch_size=batch_size,\n",
        "                        shuffle=True,\n",
        "                        num_workers=0,\n",
        "                        collate_fn=_collate_fn)\n"
      ]
    },
    {
      "cell_type": "code",
      "execution_count": null,
      "id": "c9dfd8e6-7e2e-4417-b66c-fd5c459d8f16",
      "metadata": {
        "tags": [],
        "id": "c9dfd8e6-7e2e-4417-b66c-fd5c459d8f16"
      },
      "outputs": [],
      "source": [
        "N_train = int(_psylex71_ds.__len__() * 0.9)\n",
        "N_test  = _psylex71_ds.__len__() - N_train\n",
        "train_dataset, val_dataset = torch.utils.data.random_split(dataset=_psylex71_ds, lengths=(N_train, N_test))"
      ]
    },
    {
      "cell_type": "markdown",
      "id": "f88af86b-c0a6-4fa0-8c29-653b8c38f8bf",
      "metadata": {
        "id": "f88af86b-c0a6-4fa0-8c29-653b8c38f8bf"
      },
      "source": [
        "# 1. 復唱モデル\n",
        "\n",
        "<div style=\"font-family:serif;font-size:14pt;color:purple;font-weight:900\">\n",
        "\n",
        "PyTorch RNN モデルの実装に対する注意メモ\n",
        "    \n",
        "* Encoder 側のデータと Decoder 側のデータそれぞれに対して Padding の処理を行う。\n",
        "* Encoder 側のデータには Padding 値として `0` で埋める。\n",
        "* Decoder 側のデータをモデルの forward で使う場合には、Padding 値は `0` を埋める。\n",
        "* ただし，Decoder 側のデータを教師データとして使う場合には，Padding 値には -1 を用いて，埋めることに注意。\n",
        "* `nn.Embedding()` のオプションに `padding_idx=O` を付け，`CrosEntropyLoss` のオプションに `ignore_index=-1` を付ける。\n",
        "\n",
        "</div>\n"
      ]
    },
    {
      "cell_type": "markdown",
      "id": "a71ef0c6-39ac-40d3-85bb-e314a7c0c38f",
      "metadata": {
        "id": "a71ef0c6-39ac-40d3-85bb-e314a7c0c38f"
      },
      "source": [
        "## 1.1 モデルの定義"
      ]
    },
    {
      "cell_type": "code",
      "execution_count": null,
      "id": "66e05e9b-1478-41bc-9f85-9d689a3fd03b",
      "metadata": {
        "tags": [],
        "id": "66e05e9b-1478-41bc-9f85-9d689a3fd03b",
        "outputId": "dcaba9f0-6d0b-4b87-cb9e-7eef9159a4cd"
      },
      "outputs": [
        {
          "name": "stdout",
          "output_type": "stream",
          "text": [
            "EncDec_w_Att(\n",
            "  (encoder_emb): Embedding(45, 64, padding_idx=0)\n",
            "  (decoder_emb): Embedding(45, 64, padding_idx=0)\n",
            "  (encoder): LSTM(64, 64, batch_first=True, bidirectional=True)\n",
            "  (decoder): LSTM(64, 64, batch_first=True, bidirectional=True)\n",
            "  (combine_layer): Linear(in_features=256, out_features=64, bias=True)\n",
            "  (out_layer): Linear(in_features=64, out_features=45, bias=True)\n",
            ")\n"
          ]
        }
      ],
      "source": [
        "# Define model\n",
        "import torch.nn as nn\n",
        "import torch.nn.functional as F\n",
        "#import torch.optim as optim\n",
        "#from torch.utils.data import Dataset, DataLoader\n",
        "\n",
        "class EncDec_w_Att(nn.Module):\n",
        "    \"\"\" 注意つき符号化器‐復号化器モデル\n",
        "    Bahdanau, Cho, & Bengio (2015) NEURAL MACHINE TRANSLATION BY JOINTLY LEARNING TO ALIGN AND TRANSLATE, arXiv:1409.0473\n",
        "    \"\"\"\n",
        "    def __init__(self,\n",
        "                 enc_vocab_size:int,\n",
        "                 dec_vocab_size:int,\n",
        "                 n_hid:int,\n",
        "                 n_layers:int=2,\n",
        "                 bidirectional:bool=False):\n",
        "        super().__init__()\n",
        "\n",
        "        # Encoder 側の入力トークン id を多次元ベクトルに変換\n",
        "        self.encoder_emb = nn.Embedding(num_embeddings=enc_vocab_size,\n",
        "                                        embedding_dim=n_hid,\n",
        "                                        padding_idx=0)\n",
        "\n",
        "        # Decoder 側の入力トークン id を多次元ベクトルに変換\n",
        "        self.decoder_emb = nn.Embedding(num_embeddings=dec_vocab_size,\n",
        "                                        embedding_dim=n_hid,\n",
        "                                        padding_idx=0)\n",
        "\n",
        "        # Encoder LSTM 本体\n",
        "        self.encoder = nn.LSTM(input_size=n_hid,\n",
        "                               hidden_size=n_hid,\n",
        "                               num_layers=n_layers,\n",
        "                               batch_first=True,\n",
        "                               bidirectional=bidirectional)\n",
        "\n",
        "        # Decoder LSTM 本体\n",
        "        self.decoder = nn.LSTM(input_size=n_hid,\n",
        "                               hidden_size=n_hid,\n",
        "                               num_layers=n_layers,\n",
        "                               batch_first=True,\n",
        "                               bidirectional=bidirectional)\n",
        "\n",
        "        # 文脈ベクトルと出力ベクトルの合成を合成する層\n",
        "        bi_fact = 2 if bidirectional else 1\n",
        "        self.combine_layer = nn.Linear(bi_fact * 2 * n_hid, n_hid)\n",
        "\n",
        "        # 最終出力層\n",
        "        self.out_layer = nn.Linear(n_hid, dec_vocab_size)\n",
        "\n",
        "    def forward(self, enc_inp, dec_inp):\n",
        "\n",
        "        enc_emb = self.encoder_emb(enc_inp)\n",
        "        enc_out, (hnx, cnx) = self.encoder(enc_emb)\n",
        "\n",
        "        dec_emb = self.decoder_emb(dec_inp)\n",
        "        dec_out, (hny, cny) = self.decoder(dec_emb,(hnx, cnx))\n",
        "\n",
        "        # enc_out は (バッチサイズ，ソースの単語数，中間層の次元数)\n",
        "        # ソース側 (enc_out) の各単語とターゲット側 (dec_out) の各単語との類似度を測定するため\n",
        "        # 両テンソルの内積をとるため ソース側 (enc_out) の軸を入れ替え\n",
        "        enc_outP = enc_out.permute(0,2,1)\n",
        "\n",
        "        # sim の形状は (バッチサイズ, 中間層の次元数，ソースの単語数)\n",
        "        sim = torch.bmm(dec_out, enc_outP)\n",
        "\n",
        "        # sim の各次元のサイズを記録\n",
        "        batch_size, dec_word_size, enc_word_size = sim.shape\n",
        "\n",
        "        # sim に対して，ソフトマックスを行うため形状を変更\n",
        "        simP = sim.reshape(batch_size * dec_word_size, enc_word_size)\n",
        "\n",
        "        # simP のソフトマックスを用いて注意の重み alpha を算出\n",
        "        alpha = F.softmax(simP,dim=1).reshape(batch_size, dec_word_size, enc_word_size)\n",
        "\n",
        "        # 注意の重み alpha に encoder の出力を乗じて，文脈ベクトル c_t とする\n",
        "        c_t = torch.bmm(alpha, enc_out)\n",
        "\n",
        "        # torch.cat だから c_t と dec_out とで合成\n",
        "        dec_out_ = torch.cat([c_t, dec_out], dim=2)\n",
        "        #print(f'c_t.size():{c_t.size()}, dec_out.size():{dec_out.size()}')\n",
        "        #print(f'dec_out_.size():{dec_out.size()}')\n",
        "        dec_out_ = self.combine_layer(dec_out_)\n",
        "        return self.out_layer(dec_out_)\n",
        "\n",
        "\n",
        "# 以下確認作業\n",
        "n_hid = 64\n",
        "n_layers = 1\n",
        "bidirectional=True\n",
        "# 直下行で，enc_vocab_size と dec_vocab_size を phoneme にしているので，音韻複勝課題に相当する\n",
        "enc_dec = EncDec_w_Att(enc_vocab_size=len(_psylex71_ds.phoneme),\n",
        "                       dec_vocab_size=len(_psylex71_ds.phoneme),\n",
        "                       n_layers=n_layers,\n",
        "                       bidirectional=bidirectional,\n",
        "                       n_hid=n_hid).to(device)\n",
        "print(enc_dec.eval())\n",
        "# _init = enc_dec.encoder_emb.weight\n",
        "# print(_init)\n",
        "#\n",
        "# for x, y in dataloader:\n",
        "#     print(x[0].size(), y[0].size())\n",
        "#     break"
      ]
    },
    {
      "cell_type": "markdown",
      "id": "f779cb51-dd4d-4b32-a766-f04c01770c8e",
      "metadata": {
        "id": "f779cb51-dd4d-4b32-a766-f04c01770c8e"
      },
      "source": [
        "## 1.2 訓練の実施"
      ]
    },
    {
      "cell_type": "code",
      "execution_count": null,
      "id": "9251153a-ce76-421b-ab7e-3c6b1b8a9f5d",
      "metadata": {
        "tags": [],
        "id": "9251153a-ce76-421b-ab7e-3c6b1b8a9f5d",
        "outputId": "3a80d617-636d-46cc-b1ad-6e1115285003"
      },
      "outputs": [
        {
          "name": "stdout",
          "output_type": "stream",
          "text": [
            "epoch: 0, batch: 6, loss:3.596\n",
            "epoch: 0, batch:12, loss:3.213\n",
            "epoch: 0, batch:18, loss:2.593\n",
            "epoch: 0, batch:24, loss:2.142\n",
            "epoch: 1, batch: 6, loss:1.566\n",
            "epoch: 1, batch:12, loss:1.263\n",
            "epoch: 1, batch:18, loss:0.994\n",
            "epoch: 1, batch:24, loss:0.764\n",
            "epoch: 2, batch: 6, loss:0.535\n",
            "epoch: 2, batch:12, loss:0.397\n",
            "epoch: 2, batch:18, loss:0.328\n",
            "epoch: 2, batch:24, loss:0.274\n",
            "epoch: 3, batch: 6, loss:0.201\n",
            "epoch: 3, batch:12, loss:0.153\n",
            "epoch: 3, batch:18, loss:0.135\n",
            "epoch: 3, batch:24, loss:0.103\n",
            "epoch: 4, batch: 6, loss:0.069\n",
            "epoch: 4, batch:12, loss:0.063\n",
            "epoch: 4, batch:18, loss:0.053\n",
            "epoch: 4, batch:24, loss:0.042\n",
            "epoch: 5, batch: 6, loss:0.036\n",
            "epoch: 5, batch:12, loss:0.033\n",
            "epoch: 5, batch:18, loss:0.028\n",
            "epoch: 5, batch:24, loss:0.024\n",
            "epoch: 6, batch: 6, loss:0.021\n",
            "epoch: 6, batch:12, loss:0.018\n",
            "epoch: 6, batch:18, loss:0.016\n",
            "epoch: 6, batch:24, loss:0.015\n",
            "epoch: 7, batch: 6, loss:0.014\n",
            "epoch: 7, batch:12, loss:0.012\n",
            "epoch: 7, batch:18, loss:0.010\n",
            "epoch: 7, batch:24, loss:0.011\n",
            "epoch: 8, batch: 6, loss:0.008\n",
            "epoch: 8, batch:12, loss:0.009\n",
            "epoch: 8, batch:18, loss:0.007\n",
            "epoch: 8, batch:24, loss:0.008\n",
            "epoch: 9, batch: 6, loss:0.006\n",
            "epoch: 9, batch:12, loss:0.006\n",
            "epoch: 9, batch:18, loss:0.006\n",
            "epoch: 9, batch:24, loss:0.006\n",
            "Training time 0:37:49\n"
          ]
        },
        {
          "data": {
            "image/png": "[encoded data removed]",
            "text/plain": [
              "<Figure size 640x480 with 1 Axes>"
            ]
          },
          "metadata": {
            "image/png": {
              "height": 433,
              "width": 599
            }
          },
          "output_type": "display_data"
        }
      ],
      "source": [
        "from torch.nn.utils.rnn import pad_sequence\n",
        "\n",
        "start_time = time.time()   # 開始時刻の保存\n",
        "\n",
        "# ハイパーパラメータの設定\n",
        "n_hid = 64\n",
        "n_layers = 1\n",
        "epochs = 10\n",
        "bidirectional=True\n",
        "\n",
        "# モデルの定義\n",
        "model = EncDec_w_Att(enc_vocab_size=len(_psylex71_ds.phoneme),\n",
        "                     dec_vocab_size=len(_psylex71_ds.phoneme),\n",
        "                     n_layers=n_layers,\n",
        "                     bidirectional=bidirectional,\n",
        "                     n_hid=n_hid).to(device)\n",
        "\n",
        "# データローダの定義\n",
        "batch_size = 1024\n",
        "dataloader = DataLoader(dataset=_psylex71_ds_s2p,\n",
        "#dataloader = DataLoader(dataset=_psylex71_ds,\n",
        "                        batch_size=batch_size,\n",
        "                        shuffle=True,\n",
        "                        num_workers=0,\n",
        "                        collate_fn=_collate_fn)\n",
        "\n",
        "# 最適化関数の定義\n",
        "optimizer = optim.Adam(model.parameters(),lr=0.001)\n",
        "# 損失関数\n",
        "criterion = nn.CrossEntropyLoss(ignore_index=-1)\n",
        "\n",
        "# 訓練ループ\n",
        "model.train()\n",
        "interval = int(_psylex71_ds.__len__()/batch_size) >> 2\n",
        "losses = []\n",
        "for epoch in range(epochs):\n",
        "    i = 0\n",
        "    for x, y in dataloader:\n",
        "        enc_inp = pad_sequence(y, batch_first=True).to(device)\n",
        "        #enc_inp = pad_sequence(y, batch_first=True).to(device)[:,:-1]\n",
        "        #enc_inp = pad_sequence(y, batch_first=True).to(device)[:,1:]\n",
        "\n",
        "        dec_inp = pad_sequence(y, batch_first=True).to(device)[:,:]\n",
        "        #dec_inp = pad_sequence(y, batch_first=True).to(device)[:,:-1]\n",
        "        #dec_inp = pad_sequence(y, batch_first=True).to(device)[:,1:]\n",
        "\n",
        "        tch = pad_sequence(y, batch_first=True, padding_value=-1.0).to(device)\n",
        "        #tch = tch[:,1:]\n",
        "\n",
        "        out = model(enc_inp, dec_inp)\n",
        "        loss = criterion(out[0], tch[0])\n",
        "        for h in range(1,len(tch)):\n",
        "            loss += criterion(out[h], tch[h])\n",
        "        losses.append(loss.item()/len(x))\n",
        "\n",
        "        optimizer.zero_grad()\n",
        "        loss.backward()\n",
        "        optimizer.step()\n",
        "        i += 1\n",
        "        if (i % interval) == 0:\n",
        "            print(f'epoch:{epoch:2d}, batch:{i:2d}, loss:{loss.item()/len(x):.3f}')\n",
        "\n",
        "end_time = time.time()\n",
        "total_time = end_time - start_time\n",
        "total_time_str = str(datetime.timedelta(seconds=int(total_time)))\n",
        "print(f'Training time {total_time_str}')\n",
        "\n",
        "plt.plot(losses)\n",
        "plt.title(f'epochs:{epochs}, batch_size:{batch_size}, n_hid:{n_hid}, n_layers:{n_layers}, time collapsed:{total_time_str}')\n",
        "plt.show()"
      ]
    },
    {
      "cell_type": "markdown",
      "id": "77e8ad07-9f93-478f-bd40-3fccb272ae66",
      "metadata": {
        "id": "77e8ad07-9f93-478f-bd40-3fccb272ae66"
      },
      "source": [
        "## 1.3 結果の検証"
      ]
    },
    {
      "cell_type": "code",
      "execution_count": null,
      "id": "3b132dea-fec6-432e-ad42-fde5fc49e0d0",
      "metadata": {
        "tags": [],
        "colab": {
          "referenced_widgets": [
            "2b6e5cda7447451a911127e4971b3d59"
          ]
        },
        "id": "3b132dea-fec6-432e-ad42-fde5fc49e0d0",
        "outputId": "f486fe97-f428-4bcf-b782-56b7e2abc150"
      },
      "outputs": [
        {
          "data": {
            "application/vnd.jupyter.widget-view+json": {
              "model_id": "2b6e5cda7447451a911127e4971b3d59",
              "version_major": 2,
              "version_minor": 0
            },
            "text/plain": [
              "  0%|          | 0/26877 [00:00<?, ?it/s]"
            ]
          },
          "metadata": {},
          "output_type": "display_data"
        },
        {
          "name": "stdout",
          "output_type": "stream",
          "text": [
            "総エラー数:4358 正解率:83.785%\n"
          ]
        }
      ],
      "source": [
        "isPrint = False\n",
        "errors = []\n",
        "model.eval()\n",
        "for N in tqdm(range(_psylex71_ds.__len__())):\n",
        "    x =_psylex71_ds.__getitem__(N)[1].to(device)\n",
        "\n",
        "    enc_inp, dec_inp = x[1:].unsqueeze(0), x[:-1].unsqueeze(0)\n",
        "    y = model(enc_inp, dec_inp).to('cpu')\n",
        "    y_ids = np.argmax(y.squeeze(0).detach().numpy(), axis=1)[1:]\n",
        "    y_phon = _psylex71_ds.phon_ids2phn(y_ids)\n",
        "    grand_truth = _psylex71_ds.getitem(N)\n",
        "\n",
        "    n_correct = np.array((y_ids == grand_truth[2]).sum())\n",
        "    isOK = n_correct == len(grand_truth[2])\n",
        "\n",
        "    if not isOK:\n",
        "        errors.append((N,y_ids))\n",
        "    if isPrint:\n",
        "        color = 'grey' if isOK else 'red'\n",
        "        print(colored((f'idx:{N:5d}',\n",
        "                       f'出力:{y_phon}',\n",
        "                       f'正解:{_psylex71_ds.phon_ids2phn(grand_truth[2])}',\n",
        "                       f'単語:{grand_truth[0]}',\n",
        "                      ), color, attrs=['bold']))\n",
        "    #if color == 'red':\n",
        "    #if N >= 39:\n",
        "    #    break\n",
        "\n",
        "cr = len(errors) / N\n",
        "#cr = len(errors) / _psylex71_ds.__len__()\n",
        "print(f'総エラー数:{len(errors)}',\n",
        "      f'正解率:{(1.-cr)*100:.3f}%')"
      ]
    },
    {
      "cell_type": "code",
      "execution_count": null,
      "id": "72df88f9-cabd-4c85-a217-5b2e4e9bfeea",
      "metadata": {
        "tags": [],
        "id": "72df88f9-cabd-4c85-a217-5b2e4e9bfeea"
      },
      "outputs": [],
      "source": [
        "errors = []\n",
        "model.eval()\n",
        "for N in range(_psylex71_ds.__len__()):\n",
        "#for N in np.random.permutation(_psylex71_ds.__len__())[:100]:\n",
        "    x, y = _psylex71_ds.__getitem__(N)\n",
        "\n",
        "        enc_inp = pad_sequence(y, batch_first=True).to(device)[:,1:]\n",
        "        #enc_inp = pad_sequence(x, batch_ffirst=True).to(device)\n",
        "        dec_inp = pad_sequence(y, batch_first=True).to(device)[:,1:]\n",
        "        tch = pad_sequence(y, batch_first=True, padding_value=-1.0).to(device)\n",
        "\n",
        "    #enc_inp = torch.from_numpy(np.array(x)).to(device).unsqueeze(0)\n",
        "    #dec_inp = pad_sequence(y, batch_first=True).to(device)[:,1:]\n",
        "    #tch = pad_sequence(y, batch_first=True, padding_value=-1.0).to(device)\n",
        "    #tch = tch[:,1:]\n",
        "    #enc_inp.size()\n",
        "    enc_emb = model.enc_transform_layer(enc_inp)\n",
        "    hnx, cnx = enc_emb.clone(), enc_emb.clone()\n",
        "    dec_inp = y\n",
        "    dec_emb = model.decoder_emb(dec_inp)\n",
        "    dec_out, (hny, cny) = model.decoder(dec_emb,(hnx, cnx))\n",
        "    dec_out = model.out_layer(dec_out)\n",
        "    y_ids = np.argmax(dec_out.detach().numpy(),axis=1)\n",
        "\n",
        "    n_correct = np.array((y_ids[1:-1] == _psylex71_ds.getitem(N)[2]).sum())\n",
        "    isOK = n_correct == len(_psylex71_ds.getitem(N)[2])\n",
        "    color = 'grey' if isOK else 'red'\n",
        "\n",
        "    if not isOK:\n",
        "        errors.append((N,y_ids))\n",
        "        print(colored((f'{N:05d}', #y_ids,\n",
        "                       \"\".join(p for p in _psylex71_ds.phon_ids2phn(y_ids[1:-1]))),color,attrs=[\"bold\"]), end=\" \")\n",
        "        print(_psylex71_ds.getitem(N))\n",
        "\n",
        "cr = len(errors) / _psylex71_ds.__len__()\n",
        "print(f'総エラー数:{len(errors)}',\n",
        "      f'正解率:{(1.-cr)*100:.3f}')"
      ]
    },
    {
      "cell_type": "markdown",
      "id": "9e9454ed-decd-460d-9e09-4a2fa220d5c9",
      "metadata": {
        "tags": [],
        "id": "9e9454ed-decd-460d-9e09-4a2fa220d5c9"
      },
      "source": [
        "# 2. 産出モデル 意味から音韻"
      ]
    },
    {
      "cell_type": "markdown",
      "id": "d6134519-69fe-4cff-83e5-f20f34bce841",
      "metadata": {
        "id": "d6134519-69fe-4cff-83e5-f20f34bce841"
      },
      "source": [
        "## 2.1 モデルの定義"
      ]
    },
    {
      "cell_type": "code",
      "execution_count": null,
      "id": "519e8b46-43b8-4b44-a4eb-f4bf706a0b49",
      "metadata": {
        "tags": [],
        "id": "519e8b46-43b8-4b44-a4eb-f4bf706a0b49"
      },
      "outputs": [],
      "source": [
        "# Define model\n",
        "import torch.nn as nn\n",
        "import torch.optim as optim\n",
        "import torch.nn.functional as F\n",
        "from torch.utils.data import Dataset, DataLoader\n",
        "from torch.nn.utils.rnn import pad_sequence\n",
        "\n",
        "class EncDec_s2p(nn.Module):\n",
        "    def __init__(self,\n",
        "                 sem_dim:int,\n",
        "                 dec_vocab_size:int,\n",
        "                 n_hid:int,\n",
        "                 n_layers:int=2,\n",
        "                 bidirectional:bool=False):\n",
        "        super().__init__()\n",
        "\n",
        "        # 単語の意味ベクトル a.k.a 埋め込み表現 を decoder の中間層に接続するための変換層\n",
        "        # 別解としては，入力層に接続する方法があるが，それはまた別実装にする\n",
        "        self.enc_transform_layer = nn.Linear(in_features=sem_dim,\n",
        "                                             out_features=n_hid)\n",
        "        self.decoder_emb = nn.Embedding(num_embeddings=dec_vocab_size,\n",
        "                                        embedding_dim=n_hid,\n",
        "                                        padding_idx=0)\n",
        "\n",
        "        self.decoder = nn.LSTM(input_size=n_hid,\n",
        "                               hidden_size=n_hid,\n",
        "                               num_layers=n_layers,\n",
        "                               batch_first=True,\n",
        "                               bidirectional=bidirectional)\n",
        "\n",
        "        # 最終出力層\n",
        "        self.out_layer = nn.Linear(n_hid, dec_vocab_size)\n",
        "\n",
        "    def forward(self, enc_inp, dec_inp):\n",
        "        enc_emb = self.enc_transform_layer(enc_inp)\n",
        "        hnx, cnx = enc_emb.clone(), enc_emb.clone()\n",
        "        dec_emb = self.decoder_emb(dec_inp)\n",
        "        dec_out, (hny, cny) = self.decoder(dec_emb,(hnx, cnx))\n",
        "        return self.out_layer(dec_out)\n",
        "\n",
        "n_hid = 64\n",
        "n_layers = 1\n",
        "bidirectional=False\n",
        "# 直下行で，enc_vocab_size と dec_vocab_size を phoneme にしているので，音韻複勝課題に相当する\n",
        "enc_dec = EncDec_s2p(sem_dim=_psylex71_ds.w2v.vector_size,\n",
        "                     dec_vocab_size=len(_psylex71_ds.phoneme),\n",
        "                     n_layers=n_layers,\n",
        "                     bidirectional=bidirectional,\n",
        "                     n_hid=n_hid).to(device)\n",
        "enc_dec.eval()"
      ]
    },
    {
      "cell_type": "markdown",
      "id": "e4c4a16a-1010-4434-83de-2c6d9a9a5f5f",
      "metadata": {
        "id": "e4c4a16a-1010-4434-83de-2c6d9a9a5f5f"
      },
      "source": [
        "## 2.2 訓練の実施"
      ]
    },
    {
      "cell_type": "code",
      "execution_count": null,
      "id": "e61ffeaa-1407-4adf-90ba-cc01cfa0d53b",
      "metadata": {
        "tags": [],
        "id": "e61ffeaa-1407-4adf-90ba-cc01cfa0d53b"
      },
      "outputs": [],
      "source": [
        "start_time = time.time()\n",
        "n_hid = 64\n",
        "n_layers = 1\n",
        "epochs = 10\n",
        "bidirectional=False\n",
        "model = EncDec_s2p(sem_dim=_psylex71_ds.w2v.vector_size,\n",
        "                   dec_vocab_size=len(_psylex71_ds.phoneme),\n",
        "                   n_layers=n_layers,\n",
        "                   bidirectional=bidirectional,\n",
        "                   n_hid=n_hid).to(device)\n",
        "\n",
        "optimizer = optim.Adam(model.parameters(),lr=0.001)\n",
        "criterion = nn.CrossEntropyLoss(ignore_index=-1)\n",
        "\n",
        "model.train()\n",
        "interval = int(_psylex71_ds.__len__()/batch_size) >> 2\n",
        "losses = []\n",
        "for epoch in range(epochs):\n",
        "    i = 0\n",
        "    for x, y in dataloader:\n",
        "        enc_inp = torch.from_numpy(np.array(x)).to(device).unsqueeze(0)\n",
        "        dec_inp = pad_sequence(y, batch_first=True).to(device)\n",
        "        tch = pad_sequence(y, batch_first=True, padding_value=-1.0).to(device)\n",
        "        out = model(enc_inp, dec_inp)\n",
        "        loss = criterion(out[0], tch[0])\n",
        "        for h in range(1,len(tch)):\n",
        "            loss += criterion(out[h], tch[h])\n",
        "        losses.append(loss.item()/len(x))\n",
        "\n",
        "        optimizer.zero_grad()\n",
        "        loss.backward()\n",
        "        optimizer.step()\n",
        "        i += 1\n",
        "        if (i % interval) == 0:\n",
        "            print(f'epoch:{epoch:2d}, batch:{i:2d}, loss:{loss.item()/len(x):.3f}')\n",
        "\n",
        "end_time = time.time()\n",
        "total_time = end_time - start_time\n",
        "total_time_str = str(datetime.timedelta(seconds=int(total_time)))\n",
        "print(f'Training time {total_time_str}')\n",
        "\n",
        "plt.plot(losses)\n",
        "plt.title(f'epochs:{epochs}, batch_size:{batch_size}, n_hid:{n_hid}, n_layers:{n_layers}, time collapsed:{total_time_str}')\n",
        "plt.show()"
      ]
    },
    {
      "cell_type": "markdown",
      "id": "02a79f9a-175f-4658-b7dd-4529a32eb4f9",
      "metadata": {
        "id": "02a79f9a-175f-4658-b7dd-4529a32eb4f9"
      },
      "source": [
        "## 2.3 学習結果の評価"
      ]
    },
    {
      "cell_type": "code",
      "execution_count": null,
      "id": "2b87cc89-8294-4abd-8555-20a895bc774c",
      "metadata": {
        "tags": [],
        "id": "2b87cc89-8294-4abd-8555-20a895bc774c"
      },
      "outputs": [],
      "source": [
        "model.eval()\n",
        "isPrint = False\n",
        "errors = []\n",
        "for N in tqdm(range(_psylex71_ds.__len__())):\n",
        "#for N in np.random.permutation(_psylex71_ds.__len__())[:100]:\n",
        "    x, y = _psylex71_ds.__getitem__(N)\n",
        "    enc_inp = torch.from_numpy(np.array(x)).to(device).unsqueeze(0)\n",
        "    enc_emb = model.enc_transform_layer(enc_inp)\n",
        "    hnx, cnx = enc_emb.clone(), enc_emb.clone()\n",
        "    dec_inp = y\n",
        "    dec_emb = model.decoder_emb(dec_inp)\n",
        "    dec_out, (hny, cny) = model.decoder(dec_emb,(hnx, cnx))\n",
        "    dec_out = model.out_layer(dec_out)\n",
        "    y_ids = np.argmax(dec_out.detach().numpy(),axis=1)\n",
        "\n",
        "    n_correct = np.array((y_ids[1:-1] == _psylex71_ds.getitem(N)[2]).sum())\n",
        "    isOK = n_correct == len(_psylex71_ds.getitem(N)[2])\n",
        "    color = 'grey' if isOK else 'red'\n",
        "\n",
        "    if not isOK:\n",
        "        errors.append((N,y_ids))\n",
        "    if isPrint:\n",
        "        print(colored((f'{N:05d}', #y_ids,\n",
        "                       \"\".join(p for p in _psylex71_ds.phon_ids2phn(y_ids[1:-1]))),color,attrs=[\"bold\"]), end=\" \")\n",
        "        print(_psylex71_ds.getitem(N))\n",
        "\n",
        "cr = len(errors) / _psylex71_ds.__len__()\n",
        "print(f'総エラー数:{len(errors)}',\n",
        "      f'正解率:{(1.-cr)*100:.3f}')\n"
      ]
    },
    {
      "cell_type": "markdown",
      "id": "20663884-3b9a-465f-b022-b55449aeacf3",
      "metadata": {
        "id": "20663884-3b9a-465f-b022-b55449aeacf3"
      },
      "source": [
        "# 3 理解モデル 音韻から意味"
      ]
    },
    {
      "cell_type": "markdown",
      "id": "9f782eda-9572-4534-bff9-e7ee2064dac9",
      "metadata": {
        "id": "9f782eda-9572-4534-bff9-e7ee2064dac9"
      },
      "source": [
        "## 3.1 モデルの定義"
      ]
    },
    {
      "cell_type": "code",
      "execution_count": null,
      "id": "cd02de76-695c-49bc-8e5b-ac939a30f5e9",
      "metadata": {
        "id": "cd02de76-695c-49bc-8e5b-ac939a30f5e9"
      },
      "outputs": [],
      "source": [
        "torch.tensor"
      ]
    },
    {
      "cell_type": "code",
      "execution_count": null,
      "id": "29f80e14-e70a-4291-b4d4-12df5e21d1a1",
      "metadata": {
        "tags": [],
        "id": "29f80e14-e70a-4291-b4d4-12df5e21d1a1"
      },
      "outputs": [],
      "source": [
        "import torch.nn as nn\n",
        "import torch.optim as optim\n",
        "import torch.nn.functional as F\n",
        "from torch.utils.data import Dataset, DataLoader\n",
        "from torch.nn.utils.rnn import pad_sequence\n",
        "\n",
        "class EncDec_p2s(nn.Module):\n",
        "    def __init__(self,\n",
        "                 sem_dim:int,\n",
        "                 enc_vocab_size:int,\n",
        "                 n_hid:int,\n",
        "                 n_layers:int=2,\n",
        "                 bidirectional:bool=False):\n",
        "        super().__init__()\n",
        "        self.encoder_emb = nn.Embedding(num_embeddings=enc_vocab_size,\n",
        "                                        embedding_dim=n_hid,\n",
        "                                        padding_idx=0)\n",
        "\n",
        "        self.encoder = nn.LSTM(input_size=n_hid,\n",
        "                               hidden_size=n_hid,\n",
        "                               num_layers=n_layers,\n",
        "                               batch_first=True,\n",
        "                               bidirectional=bidirectional)\n",
        "\n",
        "        bi_fact = 2 if bidirectional else 1\n",
        "        self.out_layer = nn.Linear(in_features=n_hid * bi_fact,\n",
        "                                   out_features=sem_dim)\n",
        "\n",
        "    def forward(self, enc_inp):\n",
        "        enc_emb = self.encoder_emb(enc_inp)\n",
        "        enc_out, (hid, cel) = self.encoder(enc_emb)\n",
        "        _sem = self.out_layer(hid)\n",
        "        return _sem, enc_out\n",
        "\n",
        "\n",
        "n_hid = 64\n",
        "n_layers = 1\n",
        "bidirectional=False\n",
        "model = EncDec_p2s(sem_dim=_psylex71_ds.w2v.vector_size,\n",
        "                   enc_vocab_size=len(_psylex71_ds.phoneme),\n",
        "                   n_hid=n_hid,\n",
        "                   n_layers=n_layers,\n",
        "                   bidirectional=bidirectional)\n",
        "model.eval()"
      ]
    },
    {
      "cell_type": "markdown",
      "id": "a0595172-8be0-4857-aac5-5e9b8c7addbf",
      "metadata": {
        "id": "a0595172-8be0-4857-aac5-5e9b8c7addbf"
      },
      "source": [
        "## 3.2 訓練の実施"
      ]
    },
    {
      "cell_type": "code",
      "execution_count": null,
      "id": "ff95b0c2-67ec-4398-88bc-d6b340a3a2e1",
      "metadata": {
        "tags": [],
        "id": "ff95b0c2-67ec-4398-88bc-d6b340a3a2e1"
      },
      "outputs": [],
      "source": [
        "start_time = time.time()\n",
        "n_hid = 64\n",
        "n_layers = 1\n",
        "epochs = 50\n",
        "bidirectional=False\n",
        "model = EncDec_p2s(sem_dim=_psylex71_ds.w2v.vector_size,\n",
        "                   enc_vocab_size=len(_psylex71_ds.phoneme),\n",
        "                   n_layers=n_layers,\n",
        "                   bidirectional=bidirectional,\n",
        "                   n_hid=n_hid).to(device)\n",
        "\n",
        "optimizer = optim.Adam(model.parameters(),lr=0.001)\n",
        "criterion_dec = nn.MSELoss()\n",
        "criterion_enc = nn.CrossEntropyLoss(ignore_index=-1)\n",
        "\n",
        "model.train()\n",
        "interval = int(_psylex71_ds.__len__()/batch_size) >> 2\n",
        "losses = []\n",
        "for epoch in range(epochs):\n",
        "    i = 0\n",
        "    for x, y in dataloader:\n",
        "        enc_inp = pad_sequence(y, batch_first=True).to(device)\n",
        "        tch = torch.tensor([_x.detach().numpy() for _x in x]).to(device)\n",
        "\n",
        "        out, enc_out = model(enc_inp)\n",
        "        loss = criterion_dec(out, tch)\n",
        "\n",
        "        for _x, _y in zip(enc_out[:,:-1], enc_inp[:,1:]):\n",
        "            loss += criterion_enc(_x, _y)\n",
        "        losses.append(loss.item()/len(x))\n",
        "        optimizer.zero_grad()\n",
        "        loss.backward()\n",
        "        optimizer.step()\n",
        "        i += 1\n",
        "        if (i % interval) == 0:\n",
        "            print(f'epoch:{epoch:2d}, batch:{i:2d}, loss:{loss.item()/len(x):.3f}')\n",
        "\n",
        "end_time = time.time()\n",
        "total_time = end_time - start_time\n",
        "total_time_str = str(datetime.timedelta(seconds=int(total_time)))\n",
        "print(f'Training time {total_time_str}')\n",
        "\n",
        "plt.plot(losses)\n",
        "plt.title(f'epochs:{epochs}, batch_size:{batch_size}, n_hid:{n_hid}, n_layers:{n_layers}, time collapsed:{total_time_str}')\n",
        "plt.show()\n",
        "\n",
        "#outfile = \"attnmt2-\" + str(epoch) + \".model\"\n",
        "#torch.save(net.state_dict(),outfile)"
      ]
    },
    {
      "cell_type": "markdown",
      "id": "46cfb41f-56e3-453b-aeaf-b90616cee4d4",
      "metadata": {
        "id": "46cfb41f-56e3-453b-aeaf-b90616cee4d4"
      },
      "source": [
        "## 3.3 学結果の評価"
      ]
    },
    {
      "cell_type": "code",
      "execution_count": null,
      "id": "a6786703-6b7d-48cf-b139-e1e5842d0ee5",
      "metadata": {
        "tags": [],
        "id": "a6786703-6b7d-48cf-b139-e1e5842d0ee5"
      },
      "outputs": [],
      "source": [
        "model.eval()"
      ]
    },
    {
      "cell_type": "code",
      "execution_count": null,
      "id": "16062529-100f-4899-a0ce-f884c6c4a23f",
      "metadata": {
        "tags": [],
        "id": "16062529-100f-4899-a0ce-f884c6c4a23f"
      },
      "outputs": [],
      "source": [
        "model.eval()\n",
        "isPrint = False\n",
        "errors = []\n",
        "#for N in tqdm(range(_psylex71_ds.__len__())):\n",
        "for N in np.random.permutation(_psylex71_ds.__len__())[:2]:\n",
        "    x, y = _psylex71_ds.__getitem__(N)\n",
        "    enc_inp = y.to(device).unsqueeze(0)\n",
        "    #tch = x.to(device)\n",
        "\n",
        "    out, enc_out = model(enc_inp)\n",
        "    # print(f'type(out):{type(out)}',\n",
        "    #       f'len(out):{len(out)}'\n",
        "    #       f'out.size():{out.size()}'\n",
        "    #      )\n",
        "    out = out.detach().squeeze().numpy()\n",
        "    print(N)\n",
        "    print(_psylex71_ds.getitem(N)[0])\n",
        "    print(_psylex71_ds.w2v.similar_by_vector(out,topn=3))\n",
        "    # print(f'type(out):{type(out)}',\n",
        "    #       f'len(out):{len(out)}'\n",
        "    #       f'out.shape:{out.shape}'\n",
        "    #      )\n",
        "    sys.exit()\n",
        "\n",
        "\n",
        "    n_correct = np.array((y_ids[1:-1] == _psylex71_ds.getitem(N)[2]).sum())\n",
        "    isOK = n_correct == len(_psylex71_ds.getitem(N)[2])\n",
        "    color = 'grey' if isOK else 'red'\n",
        "\n",
        "    if not isOK:\n",
        "        errors.append((N,y_ids))\n",
        "    if isPrint:\n",
        "        print(colored((f'{N:05d}', #y_ids,\n",
        "                       \"\".join(p for p in _psylex71_ds.phon_ids2phn(y_ids[1:-1]))),color,attrs=[\"bold\"]), end=\" \")\n",
        "        print(_psylex71_ds.getitem(N))\n",
        "\n",
        "cr = len(errors) / _psylex71_ds.__len__()\n",
        "print(f'総エラー数:{len(errors)}',\n",
        "      f'正解率:{(1.-cr)*100:.3f}')\n"
      ]
    },
    {
      "cell_type": "code",
      "execution_count": null,
      "id": "d33f3a0e-4a46-489b-ad89-6675ef03fc43",
      "metadata": {
        "tags": [],
        "id": "d33f3a0e-4a46-489b-ad89-6675ef03fc43"
      },
      "outputs": [],
      "source": [
        "help(_psylex71_ds.w2v.similar_by_vector)"
      ]
    },
    {
      "cell_type": "code",
      "execution_count": null,
      "id": "5b45a6d9-f49d-4eae-a768-f3050f022334",
      "metadata": {
        "tags": [],
        "id": "5b45a6d9-f49d-4eae-a768-f3050f022334"
      },
      "outputs": [],
      "source": [
        "import torch.nn as nn\n",
        "import torch.optim as optim\n",
        "import torch.nn.functional as F\n",
        "from torch.utils.data import Dataset, DataLoader\n",
        "from torch.nn.utils.rnn import pad_sequence\n",
        "\n",
        "class EncDec_s2s(nn.Module):\n",
        "    def __init__(self,\n",
        "                 sem_dim:int,\n",
        "                 n_hid:int):\n",
        "        super().__init__()\n",
        "        self.hidden_layer = nn.Linear(in_features=sem_dim,\n",
        "                                      out_features=n_hid)\n",
        "        self.out_layer = nn.Linear(in_features=n_hid,\n",
        "                                   out_features=sem_dim)\n",
        "\n",
        "    def forward(self, enc_inp):\n",
        "        hid = self.hidden_layer(enc_inp)\n",
        "        out = self.out_layer(hid)\n",
        "        return out\n",
        "\n",
        "\n",
        "n_hid = 128\n",
        "#model = EncDec_s2s(sem_dim=_psylex71_ds.w2v.vector_size,\n",
        "#                   n_hid=n_hid)\n",
        "\n",
        "model = nn.Sequential(\n",
        "    nn.Linear(_psylex71_ds.w2v.vector_size, n_hid),\n",
        "    nn.ReLU(),\n",
        "    nn.Linear(n_hid, n_hid),\n",
        "    nn.ReLU(),\n",
        "    nn.Linear(n_hid, _psylex71_ds.w2v.vector_size),\n",
        "    nn.Tanh()\n",
        ")\n",
        "\n",
        "\n",
        "start_time = time.time()\n",
        "epochs = 20\n",
        "optimizer = optim.Adam(model.parameters(),lr=0.001)\n",
        "criterion = nn.MSELoss()\n",
        "\n",
        "model.train()\n",
        "interval = int(_psylex71_ds.__len__()/batch_size) >> 2\n",
        "losses = []\n",
        "for epoch in range(epochs):\n",
        "    i = 0\n",
        "    for x, y in dataloader:\n",
        "        tch = torch.tensor([_x.detach().numpy() for _x in x]).to(device)\n",
        "\n",
        "        out = model(tch)\n",
        "        loss = criterion_dec(out, tch)\n",
        "        losses.append(loss.item())\n",
        "        optimizer.zero_grad()\n",
        "        loss.backward()\n",
        "        optimizer.step()\n",
        "        i += 1\n",
        "        if (i % interval) == 0:\n",
        "            print(f'epoch:{epoch:2d}, batch:{i:2d}, loss:{loss.item():.3f}')\n",
        "\n",
        "end_time = time.time()\n",
        "total_time = end_time - start_time\n",
        "total_time_str = str(datetime.timedelta(seconds=int(total_time)))\n",
        "print(f'Training time {total_time_str}')\n",
        "\n",
        "plt.plot(losses)\n",
        "plt.title(f'epochs:{epochs}, batch_size:{batch_size}, n_hid:{n_hid}, n_layers:{n_layers}, time collapsed:{total_time_str}')\n",
        "plt.show()\n"
      ]
    },
    {
      "cell_type": "markdown",
      "id": "760b3391-743f-480e-bdac-d2be8b040685",
      "metadata": {
        "id": "760b3391-743f-480e-bdac-d2be8b040685"
      },
      "source": [
        "# 4) 書記から意味\n",
        "# 5) 意味から書記\n",
        "# 6) 書記から意味を解して音韻\n",
        "\n",
        "# 7) 書記から意味を介さず音韻\n",
        "# 8) 6 と 7 の比較"
      ]
    },
    {
      "cell_type": "code",
      "execution_count": null,
      "id": "d0171f1b-c674-46ca-8a18-0bfb9a7a9d58",
      "metadata": {
        "tags": [],
        "id": "d0171f1b-c674-46ca-8a18-0bfb9a7a9d58"
      },
      "outputs": [],
      "source": [
        "#help(RAM.chars_joyo)\n",
        "j = RAM.chars_joyo()\n",
        "#print(dir(j))\n",
        "ch_list = ['<PAD>', '<SOW>', '<EOW>', '<UNK>'] + j.char_list\n",
        "not_chlist = []\n",
        "for N in range(_psylex71_ds.__len__()):\n",
        "    wrd = _psylex71_ds.getitem(N)[0]\n",
        "    for ch in wrd:\n",
        "        if (ch not in ch_list) and (ch not in not_chlist):\n",
        "            not_chlist.append(ch)\n",
        "print(len(not_chlist))"
      ]
    },
    {
      "cell_type": "code",
      "execution_count": null,
      "id": "e937129e-1e76-42ad-a198-e3e3a474ed58",
      "metadata": {
        "tags": [],
        "id": "e937129e-1e76-42ad-a198-e3e3a474ed58"
      },
      "outputs": [],
      "source": [
        "print(sorted(not_chlist))"
      ]
    },
    {
      "cell_type": "code",
      "execution_count": null,
      "id": "701c70ce-432e-41cf-a66b-7ad86ccfe0fd",
      "metadata": {
        "tags": [],
        "id": "701c70ce-432e-41cf-a66b-7ad86ccfe0fd"
      },
      "outputs": [],
      "source": [
        "#help(RAM.chars_joyo)\n",
        "print(len(grapheme))\n",
        "#print(grapheme)\n",
        "#print(chars_list + not_chars_list)"
      ]
    },
    {
      "cell_type": "code",
      "execution_count": null,
      "id": "a3c6f638-4cdd-412b-84d2-11a353cff449",
      "metadata": {
        "id": "a3c6f638-4cdd-412b-84d2-11a353cff449"
      },
      "outputs": [],
      "source": []
    }
  ],
  "metadata": {
    "kernelspec": {
      "display_name": "Python 3",
      "name": "python3"
    },
    "language_info": {
      "codemirror_mode": {
        "name": "ipython",
        "version": 3
      },
      "file_extension": ".py",
      "mimetype": "text/x-python",
      "name": "python",
      "nbconvert_exporter": "python",
      "pygments_lexer": "ipython3",
      "version": "3.10.13"
    },
    "colab": {
      "provenance": [],
      "toc_visible": true,
      "gpuType": "T4",
      "include_colab_link": true
    },
    "accelerator": "GPU"
  },
  "nbformat": 4,
  "nbformat_minor": 5
}