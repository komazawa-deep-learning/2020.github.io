{
  "nbformat": 4,
  "nbformat_minor": 0,
  "metadata": {
    "colab": {
      "name": "2021-04514homework.ipynb ",
      "provenance": [],
      "collapsed_sections": [],
      "include_colab_link": true
    },
    "kernelspec": {
      "display_name": "Python 3",
      "language": "python",
      "name": "python3"
    },
    "language_info": {
      "codemirror_mode": {
        "name": "ipython",
        "version": 3
      },
      "file_extension": ".py",
      "mimetype": "text/x-python",
      "name": "python",
      "nbconvert_exporter": "python",
      "pygments_lexer": "ipython3",
      "version": "3.7.7"
    }
  },
  "cells": [
    {
      "cell_type": "markdown",
      "metadata": {
        "id": "view-in-github",
        "colab_type": "text"
      },
      "source": [
        "<a href=\"https://colab.research.google.com/github/komazawa-deep-learning/komazawa-deep-learning.github.io/blob/master/notebooks/2021_04514homework.ipynb\" target=\"_parent\"><img src=\"https://colab.research.google.com/assets/colab-badge.svg\" alt=\"Open In Colab\"/></a>"
      ]
    },
    {
      "cell_type": "markdown",
      "metadata": {
        "id": "snM1KQ6_fg_6"
      },
      "source": [
        "\n",
        "# 2021年度 駒澤大学文学部心理学特講IIIA \n",
        "<div align=\"right\">\n",
        "<img src=\"https://koma-sso.komazawa-u.ac.jp/idp/images/header_logo.png\">\n",
        "</div>\n",
        "\n",
        "課題提出用\n",
        "- 作成者: 浅川伸一\n",
        "- [授業用ページ](https://komazawa-deep-learning.github.io/2021)\n"
      ]
    },
    {
      "cell_type": "code",
      "metadata": {
        "id": "V039nHeuOqcn"
      },
      "source": [
        "#@title # フェイスシート { run: \"auto\", vertical-output: true, display-mode: \"form\" }\n",
        "date = '2021-05-14'  #@param {type: \"date\"}\n",
        "name = '\\u6C0F\\u540D:'  #@param {type: \"string\"}\n",
        "id = '\\u5B66\\u751F\\u756A\\u53F7:  '  #@param {type: \"string\"}\n"
      ],
      "execution_count": null,
      "outputs": []
    },
    {
      "cell_type": "markdown",
      "metadata": {
        "id": "Eof2F-T-eFW3"
      },
      "source": [
        "# 0. 課題ファイルの提出方法\n",
        "\n",
        "1. このファイルの自分の Google Drive に保存する (ウィンドウ左上の「ファイル」メニューから「ドライブにコピーを保存」を選ぶ)\n",
        "1. 上で保存したファイル名を次のように変更する '本日の日付(8桁yyyymmdd)-自分の学生番号(NBから始まる全6桁).ipynb' \n",
        "2. 変更したファイル名 で 自分の Google ドライブに保存する\n",
        "3. 下の課題をすべて解く\n",
        "4. Google ドライブからファイルを選んで，共有情報を入手する\n",
        "5. メールを開いて，以下のような宛先にする\n",
        "    - To: educ0233@komazawa-u.ac.jp\n",
        "    - Cc: 自分のメールアドレス\n",
        "6. メールの件名を 本日の日付(8桁:yyyymmdd)-自分の学生番号 とする\n",
        "7. 本文に，Google drive の共有情報を貼り付ける\n",
        "<!--8. <font color=\"green\">得られた共有情報を Google classroom にも貼り付ける。この項目は前回までと異なる操作</font>-->\n",
        "8. 送信ボタンを押下する"
      ]
    },
    {
      "cell_type": "code",
      "metadata": {
        "id": "uoE7c7fa7ELJ",
        "cellView": "form"
      },
      "source": [
        "#@title # 1. 授業の評価\n",
        "\n",
        "Q1 = '' #@param {type:\"string\"}\n",
        "Q2 = '\\u96E3\\u6613\\u5EA6:\\u3069\\u3061\\u3089\\u3068\\u3082\\u8A00\\u3048\\u306A\\u3044' #@param{type:'string'} [\"難易度:分かりやすかった\", \"難易度:どちらとも言えない\", \"難易度:分かりにくかった\"]\n",
        "Q3 = '\\u9032\\u307F\\u65B9:\\u3061\\u3087\\u3046\\u3069\\u3088\\u304B\\u3063\\u305F' #@param{type:'string'}['進み方:速かった', '進み方:ちょうどよかった', '進み方:ゆっくりすぎた']\n"
      ],
      "execution_count": null,
      "outputs": []
    },
    {
      "cell_type": "code",
      "metadata": {
        "id": "t3gVOhGn40F0"
      },
      "source": [
        "#@title # 2. 本日の授業でのトラブルについて {display-mode: \"form\"}\n",
        "#@markdown ### 本日の授業でのトラブルについて，ご意見や改善提案をお聞かせください\n",
        "opinion = \"\" #@param {type: \"string\"}"
      ],
      "execution_count": null,
      "outputs": []
    },
    {
      "cell_type": "code",
      "metadata": {
        "id": "cSYQD8sE7YyR"
      },
      "source": [
        "#@title # 3. 印象 {display-mode: \"form\"}\n",
        "#@markdown ## 問 3-1. 授業で取り上げた話題の中で もっとも印象に残っている話題を一つ挙げよ。また簡単に，1行程度でその理由を記せ\n",
        "topic3_1 = '\\u8A71\\u984C1: '  #@param {type: \"string\"}\n",
        "reason3_1 = '\\u7406\\u75311:'  #@param {type: \"string\"}\n",
        "\n",
        "#@markdown ## 問 3-2. 授業で取り上げた話題の中で 2番目に印象に残っている話題を一つ挙げよ。また簡単に，1行程度でその理由を記せ\n",
        "topic3_2 = '\\u8A71\\u984C2:\\u3000'  #@param {type: \"string\"}\n",
        "reason3_2 = '\\u7406\\u75312:'  #@param {type: \"string\"}\n",
        "\n",
        "#@markdown ## 問 3-3. 授業で取り上げた話題の中で もっとも興味が持てなかった 話題を一つ挙げよ。また簡単に，1行程度でその理由を記せ\n",
        "topic3_3 = '\\u8A71\\u984C3:\\u3000'  #@param {type: \"string\"}\n",
        "reason3_3 = '\\u7406\\u75313:'  #@param {type: \"string\"}\n",
        "#@markdown ---"
      ],
      "execution_count": null,
      "outputs": []
    },
    {
      "cell_type": "code",
      "metadata": {
        "id": "1dT-bMCnZrCy",
        "cellView": "form"
      },
      "source": [
        "#@title # 4. 今回の授業で取り上げた以下の項目について，少なくとも 1 分以上，ネット等で調べ，自身の感想を含めて簡潔に述べよ。\n",
        "q4_1 = '固有値: ' #@param{type:\"string\"}\n",
        "q4_2 = '変分法: ' #@param{type:\"string\"}\n",
        "q4_3 = 'tSNE:' #@param{type:\"string\"}\n",
        "q4_4 = 'ロジスティック回帰: ' #@param{type:\"string\"}\n",
        "q4_5 = 'シグモイド関数: ' #@param{type:\"string\"}\n",
        "#@markdown ---"
      ],
      "execution_count": null,
      "outputs": []
    },
    {
      "cell_type": "code",
      "metadata": {
        "id": "331Js0zrWit2",
        "cellView": "form"
      },
      "source": [
        "#@title # 5. ワンアルゴリズム仮説を，前回，前々回の話題である 神経義肢 と組み合わせることで予想される社会への変化や影響について，思うところを簡潔に記せ\n",
        "q5_opinition = '  #@param {type: \"string\"}\n",
        "#@markdown ---"
      ],
      "execution_count": null,
      "outputs": []
    }
  ]
}