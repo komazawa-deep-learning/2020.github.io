{
  "nbformat": 4,
  "nbformat_minor": 0,
  "metadata": {
    "colab": {
      "name": "2020-0517komazawa_colab_primers.ipynb",
      "provenance": [],
      "private_outputs": true,
      "include_colab_link": true
    },
    "kernelspec": {
      "name": "python3",
      "display_name": "Python 3"
    }
  },
  "cells": [
    {
      "cell_type": "markdown",
      "metadata": {
        "id": "view-in-github",
        "colab_type": "text"
      },
      "source": [
        "<a href=\"https://colab.research.google.com/github/komazawa-deep-learning/komazawa-deep-learning.github.io/blob/master/notebooks/2020_0517komazawa_colab_primers.ipynb\" target=\"_parent\"><img src=\"https://colab.research.google.com/assets/colab-badge.svg\" alt=\"Open In Colab\"/></a>"
      ]
    },
    {
      "cell_type": "markdown",
      "metadata": {
        "id": "DtE6_e6TVIkt",
        "colab_type": "text"
      },
      "source": [
        "# 駒澤大学 2020年度開講 心理学特講IIIA\n",
        "- author: 浅川伸一\n",
        "- date: 2020-0517\n",
        "- note: colab の基本操作"
      ]
    },
    {
      "cell_type": "code",
      "metadata": {
        "id": "aSFQ8OSNh_Dr",
        "colab_type": "code",
        "colab": {}
      },
      "source": [
        "import IPython\n",
        "IPython.display.Image(url=\"https://koma-sso.komazawa-u.ac.jp/idp/images/header_logo.png\")"
      ],
      "execution_count": 0,
      "outputs": []
    },
    {
      "cell_type": "markdown",
      "metadata": {
        "id": "M2lLl5gYPZ3D",
        "colab_type": "text"
      },
      "source": [
        "# `コード` と `テキスト` の挿入\n",
        "\n",
        "# マークダウン\n",
        "\n",
        "# コピー アンド ペースト\n",
        "- Mac: Cmd + c, Cmd + v\n",
        "- Windows: Cntrl + c, Cntl + v\n",
        "\n",
        "## 行頭の `!` の意味\n",
        "\t`ls`, `pwd`, `wget`\n",
        "\n",
        "- `import colab` による download, upload\n",
        "- matplotlib PIL IPython.Image\t\n",
        "\n",
        "## ローカル ファイル システムからファイルをアップロードする\n",
        "\n",
        "```python\n",
        "from google.colab import files\n",
        "uploaded = files.upload()\n",
        "```\n",
        "\n",
        "## ローカル ファイル システムにファイルをダウンロードする\n",
        "\n",
        "```python\n",
        "from google.colab import files\n",
        "\n",
        "files.download('example.txt')\n",
        "```\n",
        "\n",
        "## Google ドライブをローカルにマウントする\n",
        "\n",
        "```python\n",
        "from google.colab import drive\n",
        "drive.mount('/content/drive')\n",
        "```\n",
        "\n",
        "## matplotlib.pyplot, IPython, cv2\n",
        "\n",
        "```python\n",
        "import cv2\n",
        "import numpy as np\n",
        "from PIL import Image\n",
        "\n",
        "img = cv2.imread(\"path/to/img.png\")\n",
        "\n",
        "# You may need to convert the color.\n",
        "img = cv2.cvtColor(img, cv2.COLOR_BGR2RGB)\n",
        "im_pil = Image.fromarray(img)\n",
        "\n",
        "# For reversing the operation:\n",
        "im_np = np.asarray(im_pil)\n",
        "```\n"
      ]
    },
    {
      "cell_type": "code",
      "metadata": {
        "id": "OdAF0y9NQMFy",
        "colab_type": "code",
        "colab": {}
      },
      "source": [
        "import IPython"
      ],
      "execution_count": 0,
      "outputs": []
    },
    {
      "cell_type": "code",
      "metadata": {
        "id": "7TS86QCoRCyJ",
        "colab_type": "code",
        "colab": {}
      },
      "source": [
        "#help(IPython)\n",
        "#help(IPython.display)\n",
        "#print(dir(IPython.display))\n",
        "#help(IPython.display.Image)"
      ],
      "execution_count": 0,
      "outputs": []
    },
    {
      "cell_type": "code",
      "metadata": {
        "id": "KSRBj4ugRGk6",
        "colab_type": "code",
        "colab": {}
      },
      "source": [
        "#!wget https://upload.wikimedia.org/wikipedia/en/b/ba/Ex-machina-uk-poster.jpg\n",
        "#IPython.display.Image(filename='Ex-machina-uk-poster.jpg')"
      ],
      "execution_count": 0,
      "outputs": []
    },
    {
      "cell_type": "code",
      "metadata": {
        "id": "qGSplsD2R7P_",
        "colab_type": "code",
        "colab": {}
      },
      "source": [
        "#import matplotlib.pyplot as plt\n",
        "# #hlep(plt.imshow)\n",
        "# #help(plt.imread)\n",
        "#plt.imshow(plt.imread(fname='Ex-machina-uk-poster.jpg'))"
      ],
      "execution_count": 0,
      "outputs": []
    },
    {
      "cell_type": "code",
      "metadata": {
        "id": "GR4fHsAwSCYu",
        "colab_type": "code",
        "colab": {}
      },
      "source": [
        "import cv2"
      ],
      "execution_count": 0,
      "outputs": []
    },
    {
      "cell_type": "code",
      "metadata": {
        "id": "ZvFwCuuwSgaB",
        "colab_type": "code",
        "colab": {}
      },
      "source": [
        "#help(cv2)\n",
        "#print(dir(cv2))"
      ],
      "execution_count": 0,
      "outputs": []
    },
    {
      "cell_type": "code",
      "metadata": {
        "id": "fZIePZLAShoq",
        "colab_type": "code",
        "colab": {}
      },
      "source": [
        "from google.colab.patches import cv2_imshow\n",
        "img = cv2.imread('Ex-machina-uk-poster.jpg',0)\n",
        "#cv2.imshow(img)\n",
        "cv2_imshow(img)"
      ],
      "execution_count": 0,
      "outputs": []
    },
    {
      "cell_type": "markdown",
      "metadata": {
        "id": "U80goooyU11A",
        "colab_type": "text"
      },
      "source": [
        "## CV2 Images について\n",
        "- source: https://colab.research.google.com/notebooks/snippets/advanced_outputs.ipynb#scrollTo=zo9YYDL4SYZr\n",
        "\n",
        "`cv2.imshow()` と `cv.imshow()` は Jupyter notebook と互換性がありません (参照 https://github.com/jupyter/notebook/issues/3935)\n",
        "従って以下のような互換コマンドを使います。\n",
        "\n",
        "```python\n",
        "from google.colab.patches import cv2_imshow\n",
        "import cv2\n",
        "img = cv2.imread('画像のファイル名', cv2.IMREAD_UNCHANGED)\n",
        "cv2_imshow(img)\n",
        "```\n"
      ]
    },
    {
      "cell_type": "code",
      "metadata": {
        "id": "K_lClIyMTO5_",
        "colab_type": "code",
        "colab": {}
      },
      "source": [
        "from google.colab.patches import cv2_imshow\n",
        "!curl -o logo.png https://colab.research.google.com/img/colab_favicon_256px.png\n",
        "import cv2\n",
        "img = cv2.imread('logo.png', cv2.IMREAD_UNCHANGED)\n",
        "cv2_imshow(img)"
      ],
      "execution_count": 0,
      "outputs": []
    },
    {
      "cell_type": "code",
      "metadata": {
        "id": "b67OTwJhTgdo",
        "colab_type": "code",
        "colab": {}
      },
      "source": [
        "import os\n",
        "from google.colab import drive\n",
        "drive.mount(\"/content/gdrive\")\n",
        "os.listdir(\"/content/gdrive/My Drive/\")\n"
      ],
      "execution_count": 0,
      "outputs": []
    },
    {
      "cell_type": "code",
      "metadata": {
        "id": "EJTCd9web0vS",
        "colab_type": "code",
        "colab": {}
      },
      "source": [
        "!pip install PyDrive"
      ],
      "execution_count": 0,
      "outputs": []
    },
    {
      "cell_type": "code",
      "metadata": {
        "id": "slsC3onOcrDY",
        "colab_type": "code",
        "colab": {}
      },
      "source": [
        "#import authentication modules\n",
        "from pydrive.auth import GoogleAuth\n",
        "from pydrive.drive import GoogleDrive\n",
        "from google.colab import auth\n",
        "from oauth2client.client import GoogleCredentials"
      ],
      "execution_count": 0,
      "outputs": []
    },
    {
      "cell_type": "code",
      "metadata": {
        "id": "Tca-ITqQcu3G",
        "colab_type": "code",
        "colab": {}
      },
      "source": [
        "#Authenticate and create the PyDrive client\n",
        "auth.authenticate_user()\n",
        "gauth = GoogleAuth()\n",
        "gauth.credentials = GoogleCredentials.get_application_default()\n",
        "drive = GoogleDrive(gauth)"
      ],
      "execution_count": 0,
      "outputs": []
    },
    {
      "cell_type": "code",
      "metadata": {
        "id": "QWpqnHBxc8by",
        "colab_type": "code",
        "colab": {}
      },
      "source": [
        "#https://drive.google.com/open?id=1OarkTI7WiLeVOMpVKsNJ2v04hX-RGORO\n",
        "downloaded = drive.CreateFile({'id':\"1OarkTI7WiLeVOMpVKsNJ2v04hX-RGORO\"})   # replace the id with id of file you want to access\n",
        "downloaded.GetContentFile('imagenet_sample_imgs.tgz')   "
      ],
      "execution_count": 0,
      "outputs": []
    },
    {
      "cell_type": "code",
      "metadata": {
        "id": "lcDSRWLRdauP",
        "colab_type": "code",
        "colab": {}
      },
      "source": [
        "#!ls *.tgz\n",
        "#!mkdir data\n",
        "#!tar xzf imagenet_sample_imgs.tgz\n",
        "!mv *.JPEG data"
      ],
      "execution_count": 0,
      "outputs": []
    },
    {
      "cell_type": "code",
      "metadata": {
        "id": "nGisZ3pOhq-B",
        "colab_type": "code",
        "colab": {}
      },
      "source": [
        "import matplotlib.pyplot as plt"
      ],
      "execution_count": 0,
      "outputs": []
    },
    {
      "cell_type": "code",
      "metadata": {
        "id": "TYn3wOIkedb8",
        "colab_type": "code",
        "colab": {}
      },
      "source": [
        "import glob\n",
        "a = glob.glob('data/*.JPEG')\n",
        "for f in a[3:7]:\n",
        "    print(f)\n",
        "    #IPython.display.Image(filename=f)\n",
        "    plt.imshow(plt.imread(f))\n",
        "    plt.show()"
      ],
      "execution_count": 0,
      "outputs": []
    },
    {
      "cell_type": "code",
      "metadata": {
        "id": "_GLQTCWtet9j",
        "colab_type": "code",
        "colab": {}
      },
      "source": [
        "IPython.display.Image(filename='data/ILSVRC2012_val_00000051.JPEG')"
      ],
      "execution_count": 0,
      "outputs": []
    },
    {
      "cell_type": "code",
      "metadata": {
        "id": "OGV8IxIzhHPo",
        "colab_type": "code",
        "colab": {}
      },
      "source": [
        ""
      ],
      "execution_count": 0,
      "outputs": []
    }
  ]
}