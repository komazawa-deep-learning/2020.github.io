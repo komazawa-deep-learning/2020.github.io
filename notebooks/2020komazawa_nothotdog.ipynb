{
  "nbformat": 4,
  "nbformat_minor": 0,
  "metadata": {
    "colab": {
      "name": "Copy of 2020komazawa_nothotdog.ipynb",
      "provenance": [],
      "private_outputs": true,
      "authorship_tag": "ABX9TyPG7hnGmhRYEShzqAz9rOte",
      "include_colab_link": true
    },
    "kernelspec": {
      "name": "python3",
      "display_name": "Python 3"
    }
  },
  "cells": [
    {
      "cell_type": "markdown",
      "metadata": {
        "id": "view-in-github",
        "colab_type": "text"
      },
      "source": [
        "<a href=\"https://colab.research.google.com/github/komazawa-deep-learning/komazawa-deep-learning.github.io/blob/master/notebooks/2020komazawa_nothotdog.ipynb\" target=\"_parent\"><img src=\"https://colab.research.google.com/assets/colab-badge.svg\" alt=\"Open In Colab\"/></a>"
      ]
    },
    {
      "cell_type": "markdown",
      "metadata": {
        "id": "XDshSTQuPAtE",
        "colab_type": "text"
      },
      "source": [
        "- date: 2020-0427\n",
        "- author: Shin Asakawa <asakawa@ieee.org>\n",
        "- filename: 2020komazawa_nothotdog.ipynb\n",
        "- note: not hotdog のデモ"
      ]
    },
    {
      "cell_type": "markdown",
      "metadata": {
        "id": "PNncjSLPDdJ9",
        "colab_type": "text"
      },
      "source": [
        "# 深層学習の応用例 not hotdog\n",
        "\n",
        "- 2017年アメリカ合衆国のケーブルテレビのチャンネル [HBO](https://www.hbo.com/) のコメディー番組 [シリコンバレ\n",
        "ー](https://www.hbo.com/silicon-valley)において，シーズン 4 のエピソード 4 では，[ジミー欧陽](https://en.wikipedia.org/wiki/Jimmy_O._Yang)(中国名:歐陽萬成)がホットドッグかホットドッグではないかを見分けるアプリ [not hotdog](https://www.seefoodtechnologies.com/nothotdog/) を作り，[iOS](https://itunes.apple.com/app/not-hotdog/id1212457521), [Andoroid](https://play.google.com/store/apps/details?id=com.seefoodtechnologies.nothotdog) アプリとして公開されました。\n",
        "(残念ながら日本からは利用できません)ここで用いられた技術が深層学習です。\n",
        "ちなみにこのアプリは 2018 年度の\n",
        "[エミー賞](https://ja.wikipedia.org/wiki%E3%82%A8%E3%83%9F%E3%83%BC%E8%B3%9E#%E3%83%87%E3%82%A4%E3%82%BF%E3%82%A4%E3%83%A0%E3%83%BB%E3%82%A8%E3%83%9F%E3%83%BC%E8%B3%9E) に [ノミネート](http://www.emmys.com/awards/nominees-winners/2018/outstanding-creative-achievement-in-interactive-media-within-a-scripted-program)され\n",
        "ています。\n",
        "\n",
        "この技術のカラクリを探ってみることにしましょう。"
      ]
    },
    {
      "cell_type": "code",
      "metadata": {
        "id": "N7qLSkbGEz4r",
        "colab_type": "code",
        "colab": {}
      },
      "source": [
        "from IPython.display import YouTubeVideo, display\n",
        "video = YouTubeVideo(\"vIci3C4JkL0\", width=600, height=400)\n",
        "display(video) "
      ],
      "execution_count": 0,
      "outputs": []
    },
    {
      "cell_type": "code",
      "metadata": {
        "id": "UzeYE16MHjFK",
        "colab_type": "code",
        "colab": {}
      },
      "source": [
        "#from IPython.display import Image\n",
        "#from IPython.core.display import HTML \n",
        "\n",
        "#Image(url=\"https://pbs.twimg.com/media/DAFtwTYVoAQ0k_L.jpg\", width=128)\n",
        "#Image(url=\"https://pbs.twimg.com/media/DAFtwTZU0AENB2p.jpg\", width=128)\n",
        "\n",
        "from IPython.core.display import Image, display\n",
        "#display(Image('https://i.ytimg.com/vi/j22DmsZEv30/maxresdefault.jpg', width=1900, unconfined=True))\n",
        "#display(Image('https://i.ytimg.com/vi/j22DmsZEv30/maxresdefault.jpg', width=190))\n",
        "display(Image('https://pbs.twimg.com/media/DAFtwTYVoAQ0k_L.jpg', width=128),\n",
        "        Image('https://pbs.twimg.com/media/DAFtwTZU0AENB2p.jpg', width=128))"
      ],
      "execution_count": 0,
      "outputs": []
    },
    {
      "cell_type": "markdown",
      "metadata": {
        "id": "VUebu9jUEHnr",
        "colab_type": "text"
      },
      "source": [
        "\n",
        "- その後のエピソード <a href=\"https://youtu.be/A48AJ_5nWsc?list=RDvIci3C4JkL0\" target=\"_blank\">その後</a>\n",
        "\n",
        "<!--\n",
        "このアプリはホットドッグかそうでないかを認識します。\n",
        "\n",
        "<div align=\"center\">\n",
        "<img src=\"https://pbs.twimg.com/media/DAFtwTYVoAQ0k_L.jpg\" width=\"128\" alt=\"#nothotdog\" >\n",
        "<img src=\"https://pbs.twimg.com/media/DAFtwTZU0AENB2p.jpg\" width=\"128\">\n",
        "</div>\n",
        "\n",
        "<!-- <img src=\"https://pbs.twimg.com/media/DAFtwTYVoAQ0k_L.jpg\" alt=\"If there's ketchup, it's a hotdog\" style=\"width:29%\"></br>\n",
        "\n",
        "- [source](https://twitter.com/david__kha/status/865093285886304256/photo/1)\n",
        "- [source](https://pbs.twimg.com/media/DAFtwTZU0AENB2p.jpg)\n",
        "-->"
      ]
    },
    {
      "cell_type": "markdown",
      "metadata": {
        "id": "3jZQ8eAjJuma",
        "colab_type": "text"
      },
      "source": [
        "以前 CNN の人気トーク番組でメインキャストをつとめた [ラリー・キング](https://en.wikipedia.org/wiki/Larry_King)の番組[ラリー・キングナウ](https://en.wikipedia.org/wiki/Larry_King_Now)でも取り上げられています。<a href=\"https://youtu.be/s1G-cmx_zrg\">こちら</a><br/>\n",
        "<!--\n",
        "[img](https://twitter.com/ProductHunt/status/874453786390966272)\n",
        "---\n",
        "-->\n",
        "- not hotdog のホームページ: <https://www.seefoodtechnologies.com/nothotdog/>"
      ]
    },
    {
      "cell_type": "code",
      "metadata": {
        "id": "u1JUY4nsMd-l",
        "colab_type": "code",
        "colab": {}
      },
      "source": [
        "import numpy as np\n",
        "from keras.applications.resnet50 import ResNet50\n",
        "from keras.preprocessing import image\n",
        "from keras.applications.resnet50 import preprocess_input, decode_predictions\n",
        "\n",
        "def recognize(image_path='cat.jpg'):\n",
        "    model = ResNet50(weights='imagenet')\n",
        "    img = image.load_img(image_path, target_size=(224, 224))\n",
        "    x = image.img_to_array(img)\n",
        "    x = np.expand_dims(x, axis=0)\n",
        "    x = preprocess_input(x)\n",
        "\n",
        "    preds = model.predict(x)\n",
        "    p = decode_predictions(preds)\n",
        "    for pp in p:\n",
        "        for pp2 in pp:\n",
        "            print('{0}:{1:.05f}'.format(pp2[1],pp2[2]))"
      ],
      "execution_count": 0,
      "outputs": []
    },
    {
      "cell_type": "code",
      "metadata": {
        "id": "QAJsdNsbNfq7",
        "colab_type": "code",
        "colab": {}
      },
      "source": [
        "!wget https://cdn-ak.f.st-hatena.com/images/fotolife/u/uralatokyo/20170125/20170125153458.jpg\n",
        "img_file = '20170125153458.jpg'"
      ],
      "execution_count": 0,
      "outputs": []
    },
    {
      "cell_type": "code",
      "metadata": {
        "id": "URByvsrtNoRS",
        "colab_type": "code",
        "colab": {}
      },
      "source": [
        "import matplotlib.pyplot as plt\n",
        "%matplotlib inline\n",
        "from PIL import Image\n",
        "plt.imshow(Image.open(img_file))"
      ],
      "execution_count": 0,
      "outputs": []
    },
    {
      "cell_type": "code",
      "metadata": {
        "id": "4amjGSfdNtk-",
        "colab_type": "code",
        "colab": {}
      },
      "source": [
        "recognize(img_file)"
      ],
      "execution_count": 0,
      "outputs": []
    },
    {
      "cell_type": "code",
      "metadata": {
        "id": "Ij6MXcEXN2G_",
        "colab_type": "code",
        "colab": {}
      },
      "source": [
        "#!wget https://pbs.twimg.com/media/DAFtwTYVoAQ0k_L.jpg\n",
        "!wget https://pbs.twimg.com/media/DAFtwTZU0AENB2p.jpg\n",
        "#img_file='DAFtwTYVoAQ0k_L.jpg'\n",
        "img_file='DAFtwTZU0AENB2p.jpg'\n",
        "\n",
        "plt.imshow(Image.open(img_file))\n",
        "recognize(img_file)"
      ],
      "execution_count": 0,
      "outputs": []
    },
    {
      "cell_type": "code",
      "metadata": {
        "id": "G7Lv_F8SOUKX",
        "colab_type": "code",
        "colab": {}
      },
      "source": [
        ""
      ],
      "execution_count": 0,
      "outputs": []
    }
  ]
}