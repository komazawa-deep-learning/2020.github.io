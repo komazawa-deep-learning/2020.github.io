{
  "nbformat": 4,
  "nbformat_minor": 0,
  "metadata": {
    "kernelspec": {
      "display_name": "Python 3",
      "language": "python",
      "name": "python3"
    },
    "language_info": {
      "codemirror_mode": {
        "name": "ipython",
        "version": 3
      },
      "file_extension": ".py",
      "mimetype": "text/x-python",
      "name": "python",
      "nbconvert_exporter": "python",
      "pygments_lexer": "ipython3",
      "version": "3.7.7"
    },
    "colab": {
      "name": "2020-0514komazawa_visualise_first_layers.ipynb",
      "provenance": [],
      "include_colab_link": true
    },
    "widgets": {
      "application/vnd.jupyter.widget-state+json": {
        "2bd453b5a2734f5a953bf67575bf6dca": {
          "model_module": "@jupyter-widgets/controls",
          "model_name": "HBoxModel",
          "state": {
            "_view_name": "HBoxView",
            "_dom_classes": [],
            "_model_name": "HBoxModel",
            "_view_module": "@jupyter-widgets/controls",
            "_model_module_version": "1.5.0",
            "_view_count": null,
            "_view_module_version": "1.5.0",
            "box_style": "",
            "layout": "IPY_MODEL_aebca921f6d04e278aa273d35329461f",
            "_model_module": "@jupyter-widgets/controls",
            "children": [
              "IPY_MODEL_9682a71d7f2f4f40a998cdff79aa6f13",
              "IPY_MODEL_78cc13aaa5a14403a5a0a72ac5fb2201"
            ]
          }
        },
        "aebca921f6d04e278aa273d35329461f": {
          "model_module": "@jupyter-widgets/base",
          "model_name": "LayoutModel",
          "state": {
            "_view_name": "LayoutView",
            "grid_template_rows": null,
            "right": null,
            "justify_content": null,
            "_view_module": "@jupyter-widgets/base",
            "overflow": null,
            "_model_module_version": "1.2.0",
            "_view_count": null,
            "flex_flow": null,
            "width": null,
            "min_width": null,
            "border": null,
            "align_items": null,
            "bottom": null,
            "_model_module": "@jupyter-widgets/base",
            "top": null,
            "grid_column": null,
            "overflow_y": null,
            "overflow_x": null,
            "grid_auto_flow": null,
            "grid_area": null,
            "grid_template_columns": null,
            "flex": null,
            "_model_name": "LayoutModel",
            "justify_items": null,
            "grid_row": null,
            "max_height": null,
            "align_content": null,
            "visibility": null,
            "align_self": null,
            "height": null,
            "min_height": null,
            "padding": null,
            "grid_auto_rows": null,
            "grid_gap": null,
            "max_width": null,
            "order": null,
            "_view_module_version": "1.2.0",
            "grid_template_areas": null,
            "object_position": null,
            "object_fit": null,
            "grid_auto_columns": null,
            "margin": null,
            "display": null,
            "left": null
          }
        },
        "9682a71d7f2f4f40a998cdff79aa6f13": {
          "model_module": "@jupyter-widgets/controls",
          "model_name": "FloatProgressModel",
          "state": {
            "_view_name": "ProgressView",
            "style": "IPY_MODEL_c920684d096f462db3cdd3dec29c7afe",
            "_dom_classes": [],
            "description": "100%",
            "_model_name": "FloatProgressModel",
            "bar_style": "success",
            "max": 553433881,
            "_view_module": "@jupyter-widgets/controls",
            "_model_module_version": "1.5.0",
            "value": 553433881,
            "_view_count": null,
            "_view_module_version": "1.5.0",
            "orientation": "horizontal",
            "min": 0,
            "description_tooltip": null,
            "_model_module": "@jupyter-widgets/controls",
            "layout": "IPY_MODEL_fe0ea3420750437aaf8642fa264b1057"
          }
        },
        "78cc13aaa5a14403a5a0a72ac5fb2201": {
          "model_module": "@jupyter-widgets/controls",
          "model_name": "HTMLModel",
          "state": {
            "_view_name": "HTMLView",
            "style": "IPY_MODEL_44a1694d72a440b48239bb34911cb012",
            "_dom_classes": [],
            "description": "",
            "_model_name": "HTMLModel",
            "placeholder": "​",
            "_view_module": "@jupyter-widgets/controls",
            "_model_module_version": "1.5.0",
            "value": " 528M/528M [00:09&lt;00:00, 58.2MB/s]",
            "_view_count": null,
            "_view_module_version": "1.5.0",
            "description_tooltip": null,
            "_model_module": "@jupyter-widgets/controls",
            "layout": "IPY_MODEL_493640947f034e09b76af1b71ae9276d"
          }
        },
        "c920684d096f462db3cdd3dec29c7afe": {
          "model_module": "@jupyter-widgets/controls",
          "model_name": "ProgressStyleModel",
          "state": {
            "_view_name": "StyleView",
            "_model_name": "ProgressStyleModel",
            "description_width": "initial",
            "_view_module": "@jupyter-widgets/base",
            "_model_module_version": "1.5.0",
            "_view_count": null,
            "_view_module_version": "1.2.0",
            "bar_color": null,
            "_model_module": "@jupyter-widgets/controls"
          }
        },
        "fe0ea3420750437aaf8642fa264b1057": {
          "model_module": "@jupyter-widgets/base",
          "model_name": "LayoutModel",
          "state": {
            "_view_name": "LayoutView",
            "grid_template_rows": null,
            "right": null,
            "justify_content": null,
            "_view_module": "@jupyter-widgets/base",
            "overflow": null,
            "_model_module_version": "1.2.0",
            "_view_count": null,
            "flex_flow": null,
            "width": null,
            "min_width": null,
            "border": null,
            "align_items": null,
            "bottom": null,
            "_model_module": "@jupyter-widgets/base",
            "top": null,
            "grid_column": null,
            "overflow_y": null,
            "overflow_x": null,
            "grid_auto_flow": null,
            "grid_area": null,
            "grid_template_columns": null,
            "flex": null,
            "_model_name": "LayoutModel",
            "justify_items": null,
            "grid_row": null,
            "max_height": null,
            "align_content": null,
            "visibility": null,
            "align_self": null,
            "height": null,
            "min_height": null,
            "padding": null,
            "grid_auto_rows": null,
            "grid_gap": null,
            "max_width": null,
            "order": null,
            "_view_module_version": "1.2.0",
            "grid_template_areas": null,
            "object_position": null,
            "object_fit": null,
            "grid_auto_columns": null,
            "margin": null,
            "display": null,
            "left": null
          }
        },
        "44a1694d72a440b48239bb34911cb012": {
          "model_module": "@jupyter-widgets/controls",
          "model_name": "DescriptionStyleModel",
          "state": {
            "_view_name": "StyleView",
            "_model_name": "DescriptionStyleModel",
            "description_width": "",
            "_view_module": "@jupyter-widgets/base",
            "_model_module_version": "1.5.0",
            "_view_count": null,
            "_view_module_version": "1.2.0",
            "_model_module": "@jupyter-widgets/controls"
          }
        },
        "493640947f034e09b76af1b71ae9276d": {
          "model_module": "@jupyter-widgets/base",
          "model_name": "LayoutModel",
          "state": {
            "_view_name": "LayoutView",
            "grid_template_rows": null,
            "right": null,
            "justify_content": null,
            "_view_module": "@jupyter-widgets/base",
            "overflow": null,
            "_model_module_version": "1.2.0",
            "_view_count": null,
            "flex_flow": null,
            "width": null,
            "min_width": null,
            "border": null,
            "align_items": null,
            "bottom": null,
            "_model_module": "@jupyter-widgets/base",
            "top": null,
            "grid_column": null,
            "overflow_y": null,
            "overflow_x": null,
            "grid_auto_flow": null,
            "grid_area": null,
            "grid_template_columns": null,
            "flex": null,
            "_model_name": "LayoutModel",
            "justify_items": null,
            "grid_row": null,
            "max_height": null,
            "align_content": null,
            "visibility": null,
            "align_self": null,
            "height": null,
            "min_height": null,
            "padding": null,
            "grid_auto_rows": null,
            "grid_gap": null,
            "max_width": null,
            "order": null,
            "_view_module_version": "1.2.0",
            "grid_template_areas": null,
            "object_position": null,
            "object_fit": null,
            "grid_auto_columns": null,
            "margin": null,
            "display": null,
            "left": null
          }
        }
      }
    }
  },
  "cells": [
    {
      "cell_type": "markdown",
      "metadata": {
        "id": "view-in-github",
        "colab_type": "text"
      },
      "source": [
        "<a href=\"https://colab.research.google.com/github/komazawa-deep-learning/komazawa-deep-learning.github.io/blob/master/notebooks/2020_0514komazawa_visualise_first_layers.ipynb\" target=\"_parent\"><img src=\"https://colab.research.google.com/assets/colab-badge.svg\" alt=\"Open In Colab\"/></a>"
      ]
    },
    {
      "cell_type": "markdown",
      "metadata": {
        "id": "k76qyvh_Fmzm",
        "colab_type": "text"
      },
      "source": [
        "# PyTorch で定義されている第一層目の結合の視覚化\n",
        "\n",
        "<font size=\"+2\" color=\"teal\"><strong>ヒューベルとウィーゼルの受容野，線分の方位選択性，色ブロッブが形成されていることを確認する</strong></font>\n",
        "\n",
        "- date: 2020-0514\n",
        "- author: 浅川伸一\n",
        "- note: 定義済モデルの第一層を視覚化するデモ\n"
      ]
    },
    {
      "cell_type": "code",
      "metadata": {
        "id": "_2CiS4dFFmzn",
        "colab_type": "code",
        "colab": {}
      },
      "source": [
        "from IPython.display import clear_output, Image, display\n",
        "import numpy as np\n",
        "import PIL.Image\n",
        "\n",
        "import matplotlib.pyplot as plt\n",
        "%matplotlib inline"
      ],
      "execution_count": 0,
      "outputs": []
    },
    {
      "cell_type": "code",
      "metadata": {
        "id": "SSdYhiyMFmzq",
        "colab_type": "code",
        "colab": {}
      },
      "source": [
        "import IPython.display"
      ],
      "execution_count": 0,
      "outputs": []
    },
    {
      "cell_type": "code",
      "metadata": {
        "id": "VlU-pdIYFmzt",
        "colab_type": "code",
        "colab": {}
      },
      "source": [
        "import torch\n",
        "import torchvision.models as models\n",
        "from matplotlib import pyplot as plt\n",
        "import torchvision"
      ],
      "execution_count": 0,
      "outputs": []
    },
    {
      "cell_type": "code",
      "metadata": {
        "id": "IVUGb5LEFmzv",
        "colab_type": "code",
        "colab": {}
      },
      "source": [
        "#help(dir)"
      ],
      "execution_count": 0,
      "outputs": []
    },
    {
      "cell_type": "code",
      "metadata": {
        "id": "CSOo2eeNFmzx",
        "colab_type": "code",
        "colab": {
          "base_uri": "https://localhost:8080/",
          "height": 54
        },
        "outputId": "f4373e7d-b3b2-4689-c798-2ce8ae4cf638"
      },
      "source": [
        "# ここで Pytorch にはどのようなモデルが定義されているか探してみましょう。\n",
        "print(dir(models))"
      ],
      "execution_count": 5,
      "outputs": [
        {
          "output_type": "stream",
          "text": [
            "['AlexNet', 'DenseNet', 'GoogLeNet', 'GoogLeNetOutputs', 'Inception3', 'InceptionOutputs', 'MNASNet', 'MobileNetV2', 'ResNet', 'ShuffleNetV2', 'SqueezeNet', 'VGG', '_GoogLeNetOutputs', '_InceptionOutputs', '__builtins__', '__cached__', '__doc__', '__file__', '__loader__', '__name__', '__package__', '__path__', '__spec__', '_utils', 'alexnet', 'densenet', 'densenet121', 'densenet161', 'densenet169', 'densenet201', 'detection', 'googlenet', 'inception', 'inception_v3', 'mnasnet', 'mnasnet0_5', 'mnasnet0_75', 'mnasnet1_0', 'mnasnet1_3', 'mobilenet', 'mobilenet_v2', 'quantization', 'resnet', 'resnet101', 'resnet152', 'resnet18', 'resnet34', 'resnet50', 'resnext101_32x8d', 'resnext50_32x4d', 'segmentation', 'shufflenet_v2_x0_5', 'shufflenet_v2_x1_0', 'shufflenet_v2_x1_5', 'shufflenet_v2_x2_0', 'shufflenetv2', 'squeezenet', 'squeezenet1_0', 'squeezenet1_1', 'utils', 'vgg', 'vgg11', 'vgg11_bn', 'vgg13', 'vgg13_bn', 'vgg16', 'vgg16_bn', 'vgg19', 'vgg19_bn', 'video', 'wide_resnet101_2', 'wide_resnet50_2']\n"
          ],
          "name": "stdout"
        }
      ]
    },
    {
      "cell_type": "code",
      "metadata": {
        "id": "oTMSu6e5Fmz0",
        "colab_type": "code",
        "colab": {}
      },
      "source": [
        "# ResNet を見てみましょう\n",
        "model = models.resnet50(pretrained=True)\n",
        "w = model.conv1.weight.data\n",
        "\n",
        "grid = torchvision.utils.make_grid(w, nrow=8, normalize=True, scale_each=True)\n",
        "plt.figure(figsize=(8, 8))\n",
        "plt.axis('off')\n",
        "plt.imshow(grid.permute(1, 2, 0))"
      ],
      "execution_count": 0,
      "outputs": []
    },
    {
      "cell_type": "code",
      "metadata": {
        "id": "SrnWF2KmFmz3",
        "colab_type": "code",
        "colab": {}
      },
      "source": [
        "# 続いて AlexNet\n",
        "model = models.alexnet(pretrained=True)\n",
        "w = model.features[0].weight.data\n",
        "\n",
        "grid = torchvision.utils.make_grid(w, nrow=8, normalize=True, scale_each=True)\n",
        "plt.figure(figsize=(8, 8))\n",
        "plt.axis('off')\n",
        "plt.imshow(grid.permute(1, 2, 0))"
      ],
      "execution_count": 0,
      "outputs": []
    },
    {
      "cell_type": "code",
      "metadata": {
        "id": "6qT4Oc6mFmz5",
        "colab_type": "code",
        "colab": {}
      },
      "source": [
        "# こんどは MNasNet です\n",
        "model = models.mnasnet1_0(pretrained=True)\n",
        "\n",
        "w = model.layers[0].weight.data\n",
        "grid = torchvision.utils.make_grid(w, nrow=8, normalize=True, scale_each=True)\n",
        "plt.figure(figsize=(8, 8))\n",
        "plt.axis('off')\n",
        "plt.imshow(grid.permute(1, 2, 0))"
      ],
      "execution_count": 0,
      "outputs": []
    },
    {
      "cell_type": "code",
      "metadata": {
        "id": "sZBOUR8yFmz8",
        "colab_type": "code",
        "colab": {}
      },
      "source": [
        "model = models.mnasnet0_5(pretrained=True)\n",
        "\n",
        "w = model.layers[0].weight.data\n",
        "grid = torchvision.utils.make_grid(w, nrow=8, normalize=True, scale_each=True)\n",
        "plt.figure(figsize=(8, 8))\n",
        "plt.axis('off')\n",
        "plt.imshow(grid.permute(1, 2, 0))"
      ],
      "execution_count": 0,
      "outputs": []
    },
    {
      "cell_type": "code",
      "metadata": {
        "id": "kGdg13KBFmz-",
        "colab_type": "code",
        "colab": {
          "base_uri": "https://localhost:8080/",
          "height": 83,
          "referenced_widgets": [
            "2bd453b5a2734f5a953bf67575bf6dca",
            "aebca921f6d04e278aa273d35329461f",
            "9682a71d7f2f4f40a998cdff79aa6f13",
            "78cc13aaa5a14403a5a0a72ac5fb2201",
            "c920684d096f462db3cdd3dec29c7afe",
            "fe0ea3420750437aaf8642fa264b1057",
            "44a1694d72a440b48239bb34911cb012",
            "493640947f034e09b76af1b71ae9276d"
          ]
        },
        "outputId": "40ef82d9-1fb5-4f62-877d-72ac0b51ac59"
      },
      "source": [
        "model = models.vgg16(pretrained=True)"
      ],
      "execution_count": 10,
      "outputs": [
        {
          "output_type": "stream",
          "text": [
            "Downloading: \"https://download.pytorch.org/models/vgg16-397923af.pth\" to /root/.cache/torch/checkpoints/vgg16-397923af.pth\n"
          ],
          "name": "stderr"
        },
        {
          "output_type": "display_data",
          "data": {
            "application/vnd.jupyter.widget-view+json": {
              "model_id": "2bd453b5a2734f5a953bf67575bf6dca",
              "version_minor": 0,
              "version_major": 2
            },
            "text/plain": [
              "HBox(children=(FloatProgress(value=0.0, max=553433881.0), HTML(value='')))"
            ]
          },
          "metadata": {
            "tags": []
          }
        },
        {
          "output_type": "stream",
          "text": [
            "\n"
          ],
          "name": "stdout"
        }
      ]
    },
    {
      "cell_type": "code",
      "metadata": {
        "id": "XR3kxu0iFmz_",
        "colab_type": "code",
        "colab": {}
      },
      "source": [
        "#print(dir(model.features[0]))\n",
        "#print(model.features[0].weight.data)\n",
        "w = model.features[0].weight.data\n",
        "grid = torchvision.utils.make_grid(w, nrow=8, normalize=True, scale_each=True)\n",
        "plt.figure(figsize=(8, 8))\n",
        "plt.axis('off')\n",
        "plt.imshow(grid.permute(1, 2, 0))"
      ],
      "execution_count": 0,
      "outputs": []
    },
    {
      "cell_type": "code",
      "metadata": {
        "id": "V4iLG6SsFm0C",
        "colab_type": "code",
        "colab": {}
      },
      "source": [
        "model.features"
      ],
      "execution_count": 0,
      "outputs": []
    },
    {
      "cell_type": "code",
      "metadata": {
        "id": "BLNN31QEFm0D",
        "colab_type": "code",
        "colab": {}
      },
      "source": [
        "!wget https://raw.githubusercontent.com/komazawa-deep-learning/komazawa-deep-learning.github.io/master/assets/1991Felleman_VanEssen_fig2.jpg\n"
      ],
      "execution_count": 0,
      "outputs": []
    },
    {
      "cell_type": "code",
      "metadata": {
        "id": "jlETlM43Fm0F",
        "colab_type": "code",
        "colab": {}
      },
      "source": [
        "filename = \"1991Felleman_VanEssen_fig2.jpg\"\n",
        "\n",
        "plt.figure(figsize=(10,10))\n",
        "plt.axis('off')\n",
        "plt.imshow(plt.imread(filename))\n"
      ],
      "execution_count": 0,
      "outputs": []
    },
    {
      "cell_type": "code",
      "metadata": {
        "id": "PChj7KWiFm0H",
        "colab_type": "code",
        "colab": {}
      },
      "source": [
        "#!ls *.{jpg,png} \n",
        "\n",
        "#plt.imshow(plt.imread('hogehoge.png'))\n",
        "\n",
        "##display(PIL.Image.open('keras-vgg16-model_09.png'))\n",
        "#IPython.display.Image(filename='hogehoge.png')\n",
        "##help(clear_output)\n",
        "##help(Image)\n",
        "##help(display)\n",
        "\n",
        "#import IPython.display\n",
        "#help(IPython.display)\n",
        "#help(Image)\n",
        "# help(display)\n",
        "\n",
        "#plt.imshow(plt.imread('deer.jpg'));plt.show()\n",
        "#display(PIL.Image.open('deer.jpg'))\n",
        "#IPython.display.Image(filename=\"deer.jpg\")\n",
        "\n",
        "#!ls ${HOME}/study/2020chuo/assets/*.pdf"
      ],
      "execution_count": 0,
      "outputs": []
    },
    {
      "cell_type": "code",
      "metadata": {
        "id": "orlrjKzhFm0J",
        "colab_type": "code",
        "colab": {}
      },
      "source": [
        "# source: https://discuss.pytorch.org/t/understanding-deep-network-visualize-weights/2060/7\n",
        "import torch\n",
        "import torchvision.models as models\n",
        "from matplotlib import pyplot as plt\n",
        "\n",
        "#def plot_kernels(tensor, num_cols=6):\n",
        "def plot_kernels(tensor, num_cols=8):\n",
        "    if not tensor.ndim==4:\n",
        "        raise Exception(\"assumes a 4D tensor\")\n",
        "    if not tensor.shape[-1]==3:\n",
        "        raise Exception(\"last dim needs to be 3 to plot\")\n",
        "    num_kernels = tensor.shape[0]\n",
        "    num_rows = 1+ num_kernels // num_cols\n",
        "    fig = plt.figure(figsize=(num_cols,num_rows))\n",
        "    for i in range(tensor.shape[0]):\n",
        "        ax1 = fig.add_subplot(num_rows,num_cols,i+1)\n",
        "        #ax1.imshow(tensor[i])\n",
        "        ax1.imshow((255 * tensor[i]).astype('uint8'))\n",
        "        ax1.axis('off')\n",
        "        ax1.set_xticklabels([])\n",
        "        ax1.set_yticklabels([])\n",
        "\n",
        "    plt.subplots_adjust(wspace=0.1, hspace=0.1)\n",
        "    plt.show()\n",
        "    \n",
        "  \n",
        "vgg = models.vgg16(pretrained=True)\n",
        "mm = vgg.double()\n",
        "filters = mm.modules\n",
        "body_model = [i for i in mm.children()][0]\n",
        "layer1 = body_model[0]\n",
        "tensor = layer1.weight.data.numpy()\n",
        "plot_kernels(tensor)"
      ],
      "execution_count": 0,
      "outputs": []
    }
  ]
}