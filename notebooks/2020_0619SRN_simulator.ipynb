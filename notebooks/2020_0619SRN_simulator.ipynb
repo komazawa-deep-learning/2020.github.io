{
  "nbformat": 4,
  "nbformat_minor": 0,
  "metadata": {
    "colab": {
      "name": "2020-0619SRN_simulator.ipynb",
      "provenance": [],
      "include_colab_link": true
    },
    "language_info": {
      "codemirror_mode": {
        "name": "ipython",
        "version": 3
      },
      "file_extension": ".py",
      "mimetype": "text/x-python",
      "name": "python",
      "nbconvert_exporter": "python",
      "pygments_lexer": "ipython3",
      "version": "3.7.3"
    },
    "kernelspec": {
      "display_name": "Python 3",
      "language": "python",
      "name": "python3"
    }
  },
  "cells": [
    {
      "cell_type": "markdown",
      "metadata": {
        "id": "view-in-github",
        "colab_type": "text"
      },
      "source": [
        "<a href=\"https://colab.research.google.com/github/komazawa-deep-learning/komazawa-deep-learning.github.io/blob/master/notebooks/2020_0619SRN_simulator.ipynb\" target=\"_parent\"><img src=\"https://colab.research.google.com/assets/colab-badge.svg\" alt=\"Open In Colab\"/></a>"
      ]
    },
    {
      "cell_type": "markdown",
      "metadata": {
        "id": "GsrK3R7kNW84",
        "colab_type": "text"
      },
      "source": [
        "# SRN simulator\n",
        "\n",
        "<a href=\"http://www.cis.twcu.ac.jp/~asakawa/\">浅川 伸一</a> &lt;asakawa@ieee.org&gt;"
      ]
    },
    {
      "cell_type": "markdown",
      "metadata": {
        "id": "Lmn8XOElNW86",
        "colab_type": "text"
      },
      "source": [
        "# SRN\n",
        "\n",
        "SRN の基本は以下の式である。\n",
        "\\begin{equation}\n",
        "\\mathbf{y} = \\sigma\\left(\\mathbf{Xw}_{in}+\\mathbf{Hw}_{rec}+\\mathbf{b}\\right)\n",
        "\\end{equation}\n",
        "\n",
        "ここで $\\mathbf{X}$ はデータ行列で $n$ 行，$d$ 列 のデータ行列である。一時刻あたり一行のデータである。\n",
        "時間発展を考えると $\\mathbf{X}$ は逐次実行してまず $\\mathbf{H}$ を作らなければならない。"
      ]
    },
    {
      "cell_type": "code",
      "metadata": {
        "id": "s512VRnmO9jQ",
        "colab_type": "code",
        "colab": {}
      },
      "source": [
        "# ユーティリティ関数群を輸入するための Google Drive の認証をする準備\n",
        "!pip install -U -q PyDrive\n",
        "from pydrive.auth import GoogleAuth\n",
        "\n",
        "from pydrive.drive import GoogleDrive\n",
        "from pydrive.auth import GoogleAuth\n",
        "from pydrive.drive import GoogleDrive\n",
        "from google.colab import auth\n",
        "from oauth2client.client import GoogleCredentials"
      ],
      "execution_count": null,
      "outputs": []
    },
    {
      "cell_type": "code",
      "metadata": {
        "id": "XiPqwOlWPApk",
        "colab_type": "code",
        "colab": {}
      },
      "source": [
        "# 認証キーを取得してください。komazawa-u.ac.jp のアカウントである必要があります。\n",
        "auth.authenticate_user()\n",
        "gauth = GoogleAuth()\n",
        "gauth.credentials = GoogleCredentials.get_application_default()\n",
        "drive = GoogleDrive(gauth)"
      ],
      "execution_count": null,
      "outputs": []
    },
    {
      "cell_type": "code",
      "metadata": {
        "id": "q60I2hgZPBoJ",
        "colab_type": "code",
        "colab": {}
      },
      "source": [
        "# Google Drive から zip ファイルを取得します\n",
        "#https://drive.google.com/file/d/1k9i8hxUjF0bY9DWm1O_npdjCZd19C6FQ/view?usp=sharing\n",
        "download = drive.CreateFile({'id': '1k9i8hxUjF0bY9DWm1O_npdjCZd19C6FQ'})\n",
        "download.GetContentFile('__utils.py.zip')"
      ],
      "execution_count": null,
      "outputs": []
    },
    {
      "cell_type": "code",
      "metadata": {
        "id": "TBUP3iBDPRjX",
        "colab_type": "code",
        "colab": {
          "base_uri": "https://localhost:8080/",
          "height": 85
        },
        "outputId": "f02cbfce-fa1e-4df4-9131-5ef17daf3ba8"
      },
      "source": [
        "# 取得したファイルの展開\n",
        "!unzip __utils.py.zip"
      ],
      "execution_count": null,
      "outputs": [
        {
          "output_type": "stream",
          "text": [
            "Archive:  __utils.py.zip\n",
            "replace __utils.py? [y]es, [n]o, [A]ll, [N]one, [r]ename: A\n",
            "  inflating: __utils.py              \n",
            "  inflating: __MACOSX/.___utils.py   \n"
          ],
          "name": "stdout"
        }
      ]
    },
    {
      "cell_type": "code",
      "metadata": {
        "id": "EJgF-DRVNW87",
        "colab_type": "code",
        "colab": {}
      },
      "source": [
        "# 必要なファイルの輸入\n",
        "import os\n",
        "import sys\n",
        "import time\n",
        "import numpy as np\n",
        "import matplotlib.pyplot as plt\n",
        "\n",
        "from __utils import xavier_initializer\n",
        "from __utils import sigmoid, tanh, relu, elu, identity, softsign, softplus, sat, clu\n",
        "from __utils import fc_layer, softmax_layer, srn_layer\n",
        "#from __utils import fetch_mnist, view_mnist\n",
        "from __utils import one_hot_vector, txt2data"
      ],
      "execution_count": null,
      "outputs": []
    },
    {
      "cell_type": "code",
      "metadata": {
        "scrolled": true,
        "id": "s4VzPrN5NW8-",
        "colab_type": "code",
        "colab": {}
      },
      "source": [
        "# 下準備\n",
        "### preparation to draw graphs\n",
        "plt.rcParams['figure.figsize'] = (12, 8) # set default size of plots\n",
        "plt.rcParams['image.interpolation'] = 'nearest'\n",
        "plt.rcParams['image.cmap'] = 'gray'\n",
        "\n",
        "np.set_printoptions(precision=3, suppress=True)\n",
        "np.random.seed(seed=None)"
      ],
      "execution_count": null,
      "outputs": []
    },
    {
      "cell_type": "markdown",
      "metadata": {
        "id": "pzqkeRZLNW9A",
        "colab_type": "text"
      },
      "source": [
        "---"
      ]
    },
    {
      "cell_type": "code",
      "metadata": {
        "scrolled": false,
        "id": "IZ6yrEsvNW9B",
        "colab_type": "code",
        "colab": {}
      },
      "source": [
        "# 実際の SRN の定義\n",
        "class elman(object):\n",
        "    \"\"\"A simple elman network model demo.\n",
        "\n",
        "    Parameters:\n",
        "        hidden_layer_sizes : tuple, length = n_layers - 2, default (100,)\n",
        "            The ith element represents the number of neurons in the ith\n",
        "            hidden layer.\n",
        "\n",
        "        activation : {identity, sigmoid, tanh, relu, elu, clu}, default tanh\n",
        "            Activation function for the hidden layer.\n",
        "\n",
        "        solver : {'sgd', 'adagrad', 'adadelta, 'rmsprop, 'adam', 'nadam'}, \n",
        "            default 'adam'.  The solver for weight optimization. \n",
        "            **NOT IMPLEMENTED**\n",
        "\n",
        "        lambda_ : float, optional, default 1e-4\n",
        "            L2 penalty (regularization term) parameter.\n",
        "\n",
        "        lr : the learning ratio: float\n",
        "        lr_init: float, default 1e-2\n",
        "        \n",
        "        random_state : int, RandomState instance or None, optional, default None\n",
        "            If int, random_state is the seed used by the random number generator;\n",
        "            If RandomState instance, random_state is the random number generator;\n",
        "            If None, the random number generator is the RandomState instance used\n",
        "            by `np.random`.\n",
        "\n",
        "        tol : float, optional, default 1e-4\n",
        "            Tolerance for the optimization. When the loss or score is not improving\n",
        "            by at least tol for two consecutive iterations, unless `learning_rate`\n",
        "            is set to 'adaptive', convergence is considered to be reached and\n",
        "            training stops.\n",
        "\n",
        "        verbose : bool, optional, default False\n",
        "            Whether to print progress messages to stdout.\n",
        "\n",
        "    \"\"\"\n",
        "    \n",
        "    def __init__(self, X, y, \\\n",
        "                 n_hid=128, \\\n",
        "                 max_iter=1e+3, \\\n",
        "                 lr=1e-2, \\\n",
        "                 activation=tanh, \\\n",
        "                 verbose=False):\n",
        "        self.max_iter = max_iter if max_iter is not None else 200\n",
        "        self.n_hid = n_hid if n_hid is not None else 128\n",
        "        self.X, self.y = np.copy(X), np.copy(y)\n",
        "        self.activation = activation if activation is not None else tanh\n",
        "        self.verbose = verbose if verbose is not None else False\n",
        "\n",
        "        self.n_inp = self.X.shape[1]\n",
        "        self.n_out = self.n_inp\n",
        "        self.H = srn_layer(self.n_inp, self.n_hid, activation=activation)\n",
        "        self.O = softmax_layer(self.n_hid, self.n_out)\n",
        "\n",
        "    def fit(self, X, y, lr=1e-2, max_iter=1000, verbose=False):\n",
        "        \"\"\"Fit the model to data matrix X and target y.\n",
        "\n",
        "        Parameters:\n",
        "            X : array-like or sparse matrix, shape (n_samples, n_features)\n",
        "                The input data.\n",
        "\n",
        "            y : array-like, shape (n_samples,) or (n_samples, n_outputs)\n",
        "                The target values (class labels in classification).\n",
        "\n",
        "        Returns:\n",
        "            self : returns a trained MLP model.\n",
        "        \"\"\"\n",
        "        return self.train(X, y, max_iter=max_iter, verbose=verbose)\n",
        "        #return self.train(self, X, y, lr=lr, max_iter=max_iter, verbose=verbose)\n",
        "\n",
        "     \n",
        "    def train(self, X, y, lr=1e-2, max_iter=1000, verbose=False):\n",
        "        \"\"\"Train the model to data matrix X and target y.\n",
        "\n",
        "        Parameters:\n",
        "            X : array-like or sparse matrix, shape (n_samples, n_features)\n",
        "                The input data.\n",
        "\n",
        "            y : array-like, shape (n_samples,) or (n_samples, n_outputs)\n",
        "                The target values (class labels in classification).\n",
        "\n",
        "        Returns:\n",
        "            self : returns a trained the Elman network model.\n",
        "        \"\"\"\n",
        "        X = self.X if X is None else X\n",
        "        y = self.y if y is None else y\n",
        "        verbose = verbose if verbose is not None else self.verbose\n",
        "        max_iter = max_iter if max_iter is not None else self.max_iter\n",
        "        hInit = np.zeros((1, self.n_hid),dtype=np.float32)\n",
        "        state = np.zeros((X.shape[0],self.n_hid),dtype=np.float32)\n",
        "        lossList = list()\n",
        "        for iter in range(max_iter):\n",
        "            inp = X\n",
        "            Hout, state = self.H.forward(X, state, hInit)\n",
        "            y_ = self.O.forward(Hout)\n",
        "\n",
        "            Err = y_ - y\n",
        "            loss = np.mean(Err**2)\n",
        "            lossList.append(loss)\n",
        "            if (iter % (max_iter>>3) == 0) and verbose:\n",
        "                print('Iter={0:05d} loss={1:0.3f}'.format(iter, loss))\n",
        "        \n",
        "            delta = Err\n",
        "            gradW2 = self.O.backward(delta, Hout)\n",
        "            delta = np.dot(delta, self.O.W.T)\n",
        "            gradW1, gradWr, _ = self.H.backward(X, state, delta)\n",
        "    \n",
        "            self.O.W -= lr * gradW2\n",
        "            self.O.bias -= lr * np.mean(gradW2)\n",
        "            self.H.W -= lr * gradW1\n",
        "            self.H.bias -= lr * np.mean(gradW1)\n",
        "            self.H.Wr -= lr * gradWr\n",
        "        \n",
        "        if verbose:\n",
        "            plt.plot(lossList)\n",
        "            plt.show()  \n",
        "        return y_, lossList\n",
        "\n",
        "    \n",
        "    def predict(self, X):\n",
        "        \"\"\"Predict using this elman neural network.\n",
        "\n",
        "        Parameters:\n",
        "            X : {array-like, matrix}, shape (n_samples, n_features)\n",
        "            The input data.\n",
        "\n",
        "        Returns:\n",
        "            y : array-like, shape (n_samples,) or (n_samples, n_classes)\n",
        "            The predicted classes.\n",
        "        \"\"\"\n",
        "\n",
        "        hInit = np.zeros((1, self.n_hid),dtype=np.float32)\n",
        "        state = np.zeros((X.shape[0],self.n_hid),dtype=np.float32)\n",
        "        Hout, state = self.H.forward(X, state, hInit)\n",
        "        y_ = self.O.forward(Hout)\n",
        "        return y_\n",
        "\n",
        "    \n",
        "    def predict_log_prob(self, X):\n",
        "        \"\"\"Return the log of probability estimates.\n",
        "\n",
        "        Parameters:\n",
        "            X : array-like, shape (n_samples, n_features)\n",
        "                The input data.\n",
        "\n",
        "        Returns:\n",
        "            log_y_prob : array-like, shape (n_samples, n_classes)\n",
        "                The predicted log-probability of the sample for each class\n",
        "                in the model, where classes are ordered as they are in\n",
        "                `self.classes_`. Equivalent to log(predict_proba(X))\n",
        "        \"\"\"\n",
        "        yprob_ = self.predict_prob(X)\n",
        "        return np.log(yprob_, out=yprob_)\n",
        "\n",
        "    def predict_prob(self, X):\n",
        "        \"\"\"Probability estimates.\n",
        "\n",
        "        Parameters:\n",
        "            X : {array-like, sparse matrix}, shape (n_samples, n_features)\n",
        "                The input data.\n",
        "\n",
        "        Returns:\n",
        "            y_prob : array-like, shape (n_samples, n_classes)\n",
        "                The predicted probability of the sample for each class in the\n",
        "                model, where classes are ordered as they are in `self.classes_`.\n",
        "        \"\"\"\n",
        "        y_ = self._predict(X)\n",
        "\n",
        "        if self.n_outputs_ == 1:\n",
        "            y_ = y_.ravel()\n",
        "\n",
        "        if y_.ndim == 1:\n",
        "            return np.vstack([1 - y_, y_]).T\n",
        "        else:\n",
        "            return y_\n"
      ],
      "execution_count": null,
      "outputs": []
    },
    {
      "cell_type": "code",
      "metadata": {
        "id": "saDE_6XzNW9G",
        "colab_type": "code",
        "colab": {}
      },
      "source": [
        "#!ls j_*.txt\n",
        "\n",
        "!echo \"日本国民は、正当に選挙された国会における代表者を通じて行動し、われらとわれらの子孫のために、諸国民との協和による成果と、わが国全土にわたつて自由のもたらす恵沢を確保し、政府の行為によつて再び戦争の惨禍が起ることのないやうにすることを決意し、ここに主権が国民に存することを宣言し、この憲法を確定する。\" > j_constitution9.txt\n",
        "!echo \"そもそも国政は、国民の厳粛な信託によるものであつて、その権威は国民に由来し、その権力は国民の代表者がこれを行使し、その福利は国民がこれを享受する。\" >> j_constitution9.txt\n",
        "!echo \"これは人類普遍の原理であり、この憲法は、かかる原理に基くものである。\" >> j_constitution9.txt\n",
        "!echo \"われらは、これに反する一切の憲法、法令及び詔勅を排除する。\" >> j_constitution9.txt\n",
        "!echo \"日本国民は、恒久の平和を念願し、人間相互の関係を支配する崇高な理想を深く自覚するのであつて、平和を愛する諸国民の公正と信義に信頼して、われらの安全と生存を保持しようと決意した。\" >> j_constitution9.txt\n",
        "!echo \"われらは、平和を維持し、専制と隷従、圧迫と偏狭を地上から永遠に除去しようと努めてゐる国際社会において、名誉ある地位を占めたいと思ふ。\" >> j_constitution9.txt\n",
        "!echo \"われらは、全世界の国民が、ひとしく恐怖と欠乏から免かれ、平和のうちに生存する権利を有することを確認する。\" >> j_constitution9.txt\n",
        "!echo \"われらは、いづれの国家も、自国のことのみに専念して他国を無視してはならないのであつて、政治道徳の法則は、普遍的なものであり、この法則に従ふことは、自国の主権を維持し、他国と対等関係に立たうとする各国の責務であると信ずる。\" >> j_constitution9.txt\n",
        "!echo \"日本国民は、国家の名誉にかけ、全力をあげてこの崇高な理想と目的を達成することを誓ふ。\" >> j_constitution9.txt\n"
      ],
      "execution_count": null,
      "outputs": []
    },
    {
      "cell_type": "code",
      "metadata": {
        "id": "kUEoE4GyNW9I",
        "colab_type": "code",
        "colab": {}
      },
      "source": [
        "!ls *.txt\n",
        "!cat j_constitution9.txt"
      ],
      "execution_count": null,
      "outputs": []
    },
    {
      "cell_type": "code",
      "metadata": {
        "id": "QNu7oS6GNW9K",
        "colab_type": "code",
        "colab": {
          "base_uri": "https://localhost:8080/",
          "height": 34
        },
        "outputId": "40a339f0-1e4e-4014-f903-7e0128b60e10"
      },
      "source": [
        "clear(model)"
      ],
      "execution_count": null,
      "outputs": [
        {
          "output_type": "stream",
          "text": [
            "\u001b[H\u001b[2J"
          ],
          "name": "stdout"
        }
      ]
    },
    {
      "cell_type": "code",
      "metadata": {
        "scrolled": false,
        "id": "cnmI-9kfNW9N",
        "colab_type": "code",
        "colab": {
          "base_uri": "https://localhost:8080/",
          "height": 102
        },
        "outputId": "7c84d5bf-a2f8-402d-e1b0-a290dfbeaf69"
      },
      "source": [
        "filename = 'j_constitution9.txt'\n",
        "nHid = 128\n",
        "activation = tanh\n",
        "max_iter = 100\n",
        "lr = 1e-1\n",
        "X, y, idx2wrd, wrd2idx = txt2data(filename)\n",
        "model = elman(X, y, n_hid=nHid, lr=lr, max_iter=max_iter, activation=activation)\n",
        "start_time = time.time()\n",
        "#y_, lossList = model.train(X, y, max_iter=max_iter,verbose=True)\n",
        "y_, _ = model.fit(X, y, max_iter=max_iter, verbose=True)\n",
        "end_time = time.time()\n",
        "print('time elasped {}'.format(end_time - start_time))"
      ],
      "execution_count": null,
      "outputs": [
        {
          "output_type": "stream",
          "text": [
            "filename=j_constitution9.txt\n",
            "Iter=00000 loss=0.005\n",
            "Iter=00012 loss=0.005\n",
            "Iter=00024 loss=0.004\n",
            "Iter=00036 loss=0.004\n"
          ],
          "name": "stdout"
        }
      ]
    },
    {
      "cell_type": "code",
      "metadata": {
        "id": "qYJjzuVJNW9P",
        "colab_type": "code",
        "colab": {}
      },
      "source": [
        "for x in [y, y_]:\n",
        "    print('---\\n')    \n",
        "    for xi in x:\n",
        "        print('{}'.format(idx2wrd[np.argmax(xi)]), end='')\n",
        "    print()"
      ],
      "execution_count": null,
      "outputs": []
    },
    {
      "cell_type": "code",
      "metadata": {
        "id": "0UG8eFSNNW9T",
        "colab_type": "code",
        "colab": {}
      },
      "source": [
        "# このセルは無視してください\n",
        "def main(filename=None, max_iter=1000, nHid=16, activation=tanh, lr=1e-2, verbose=False):\n",
        "    X, y, idx2wrd, wrd2idx = txt2data(filename)\n",
        "    model = elman(X, y, n_hid=nHid, lr=lr, max_iter=max_iter, activation=tanh, verbose=verbose)\n",
        "    y_, lossList = model.train(X, y, max_iter=max_iter, verbose=verbose)\n",
        "    \n",
        "    return model, X, y_, lossList, idx2wrd, wrd2idx"
      ],
      "execution_count": null,
      "outputs": []
    },
    {
      "cell_type": "code",
      "metadata": {
        "id": "BuK7lg4RNW9Y",
        "colab_type": "code",
        "colab": {}
      },
      "source": [
        ""
      ],
      "execution_count": null,
      "outputs": []
    }
  ]
}