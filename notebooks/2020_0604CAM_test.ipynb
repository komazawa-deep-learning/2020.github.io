{
  "nbformat": 4,
  "nbformat_minor": 0,
  "metadata": {
    "colab": {
      "name": "2020-0604CAM_test.ipynb",
      "provenance": [],
      "private_outputs": true,
      "authorship_tag": "ABX9TyNvGbGM2vTlcw98OunBhqLM",
      "include_colab_link": true
    },
    "kernelspec": {
      "name": "python3",
      "display_name": "Python 3"
    }
  },
  "cells": [
    {
      "cell_type": "markdown",
      "metadata": {
        "id": "view-in-github",
        "colab_type": "text"
      },
      "source": [
        "<a href=\"https://colab.research.google.com/github/komazawa-deep-learning/komazawa-deep-learning.github.io/blob/master/notebooks/2020_0604CAM_test.ipynb\" target=\"_parent\"><img src=\"https://colab.research.google.com/assets/colab-badge.svg\" alt=\"Open In Colab\"/></a>"
      ]
    },
    {
      "cell_type": "markdown",
      "metadata": {
        "id": "7zVvimzeYTd4",
        "colab_type": "text"
      },
      "source": [
        "CAM: Category Associated Mapping のデモ\n",
        "- source: https://github.com/zhoubolei/CAM/blob/master/pytorch_CAM.py\n",
        "- note: simple implementation of CAM in PyTorch for the networks such as ResNet, DenseNet, SqueezeNet, Inception\n",
        "- date: 2020-0604\n",
        "- auhtor: 浅川伸一"
      ]
    },
    {
      "cell_type": "code",
      "metadata": {
        "id": "aPVBd2IUYOU9",
        "colab_type": "code",
        "colab": {}
      },
      "source": [
        "import io\n",
        "import requests\n",
        "from PIL import Image\n",
        "from torchvision import models, transforms\n",
        "from torch.autograd import Variable\n",
        "from torch.nn import functional as F\n",
        "import numpy as np\n",
        "import cv2\n",
        "import pdb\n",
        "\n",
        "# input image\n",
        "LABELS_URL = 'https://s3.amazonaws.com/outcome-blog/imagenet/labels.json'\n",
        "IMG_URL = 'http://media.mlive.com/news_impact/photo/9933031-large.jpg'\n",
        "\n",
        "# networks such as googlenet, resnet, densenet already use global average pooling at the end, so CAM could be used directly.\n",
        "model_id = 2\n",
        "if model_id == 1:\n",
        "    net = models.squeezenet1_1(pretrained=True)\n",
        "    finalconv_name = 'features' # this is the last conv layer of the network\n",
        "elif model_id == 2:\n",
        "    net = models.resnet18(pretrained=True)\n",
        "    finalconv_name = 'layer4'\n",
        "elif model_id == 3:\n",
        "    net = models.densenet161(pretrained=True)\n",
        "    finalconv_name = 'features'"
      ],
      "execution_count": 0,
      "outputs": []
    },
    {
      "cell_type": "code",
      "metadata": {
        "id": "rJw7V_i0Yurg",
        "colab_type": "code",
        "colab": {}
      },
      "source": [
        "net.eval()"
      ],
      "execution_count": 0,
      "outputs": []
    },
    {
      "cell_type": "code",
      "metadata": {
        "id": "UuuwS8BiY1BA",
        "colab_type": "code",
        "colab": {}
      },
      "source": [
        "# hook the feature extractor\n",
        "features_blobs = []\n",
        "def hook_feature(module, input, output):\n",
        "    features_blobs.append(output.data.cpu().numpy())\n",
        "\n",
        "net._modules.get(finalconv_name).register_forward_hook(hook_feature)\n",
        "\n",
        "# get the softmax weight\n",
        "params = list(net.parameters())\n",
        "weight_softmax = np.squeeze(params[-2].data.numpy())\n",
        "\n",
        "def returnCAM(feature_conv, weight_softmax, class_idx):\n",
        "    # generate the class activation maps upsample to 256x256\n",
        "    size_upsample = (256, 256)\n",
        "    bz, nc, h, w = feature_conv.shape\n",
        "    output_cam = []\n",
        "    for idx in class_idx:\n",
        "        cam = weight_softmax[idx].dot(feature_conv.reshape((nc, h*w)))\n",
        "        cam = cam.reshape(h, w)\n",
        "        cam = cam - np.min(cam)\n",
        "        cam_img = cam / np.max(cam)\n",
        "        cam_img = np.uint8(255 * cam_img)\n",
        "        output_cam.append(cv2.resize(cam_img, size_upsample))\n",
        "    return output_cam"
      ],
      "execution_count": 0,
      "outputs": []
    },
    {
      "cell_type": "code",
      "metadata": {
        "id": "pf1MWMluY3wv",
        "colab_type": "code",
        "colab": {}
      },
      "source": [
        "normalize = transforms.Normalize(\n",
        "   mean=[0.485, 0.456, 0.406],\n",
        "   std=[0.229, 0.224, 0.225]\n",
        ")\n",
        "preprocess = transforms.Compose([\n",
        "   transforms.Resize((224,224)),\n",
        "   transforms.ToTensor(),\n",
        "   normalize\n",
        "])"
      ],
      "execution_count": 0,
      "outputs": []
    },
    {
      "cell_type": "code",
      "metadata": {
        "id": "5rSVjzCpY8lI",
        "colab_type": "code",
        "colab": {}
      },
      "source": [
        "response = requests.get(IMG_URL)\n",
        "img_pil = Image.open(io.BytesIO(response.content))\n",
        "img_pil.save('test.jpg')"
      ],
      "execution_count": 0,
      "outputs": []
    },
    {
      "cell_type": "code",
      "metadata": {
        "id": "p46RVkD1Y-en",
        "colab_type": "code",
        "colab": {}
      },
      "source": [
        "import IPython\n",
        "IPython.display.Image(url=IMG_URL)"
      ],
      "execution_count": 0,
      "outputs": []
    },
    {
      "cell_type": "code",
      "metadata": {
        "id": "_suG_3o0ZJOs",
        "colab_type": "code",
        "colab": {}
      },
      "source": [
        "img_tensor = preprocess(img_pil)\n",
        "img_variable = Variable(img_tensor.unsqueeze(0))\n",
        "logit = net(img_variable)"
      ],
      "execution_count": 0,
      "outputs": []
    },
    {
      "cell_type": "code",
      "metadata": {
        "id": "eLoqKvSqZOmL",
        "colab_type": "code",
        "colab": {}
      },
      "source": [
        "# download the imagenet category list\n",
        "classes = {int(key):value for (key, value)\n",
        "          in requests.get(LABELS_URL).json().items()}"
      ],
      "execution_count": 0,
      "outputs": []
    },
    {
      "cell_type": "code",
      "metadata": {
        "id": "FHzuqlZSZV8j",
        "colab_type": "code",
        "colab": {}
      },
      "source": [
        "LABELS_ja_URL= 'https://gist.githubusercontent.com/PonDad/4dcb4b242b9358e524b4ddecbee385e9/raw/dda9454f74aa4fafee991ca8b848c9ab6ae0e732/imagenet_class_index.json'\n",
        "classes_ja = {int(i):val['ja'] for i, val in enumerate(requests.get(LABELS_ja_URL).json())}"
      ],
      "execution_count": 0,
      "outputs": []
    },
    {
      "cell_type": "code",
      "metadata": {
        "id": "SMbaR-5Ya-Br",
        "colab_type": "code",
        "colab": {}
      },
      "source": [
        "classes = classes_ja\n",
        "h_x = F.softmax(logit, dim=1).data.squeeze()\n",
        "probs, idx = h_x.sort(0, True)\n",
        "probs = probs.numpy()\n",
        "idx = idx.numpy()\n",
        "\n",
        "# output the prediction\n",
        "for i in range(0, 5):\n",
        "    print('{0}:p({1:.3f}) -> {2}'.format(i, probs[i], classes[idx[i]]))\n",
        "    #print('{:.3f} -> {}'.format(probs[i], classes_ja[idx[i]]))"
      ],
      "execution_count": 0,
      "outputs": []
    },
    {
      "cell_type": "code",
      "metadata": {
        "id": "UQlGHwJKa_dF",
        "colab_type": "code",
        "colab": {}
      },
      "source": [
        "# generate class activation mapping for the top1 prediction\n",
        "candidate = 3\n",
        "CAMs = returnCAM(features_blobs[0], weight_softmax, [idx[candidate]])\n",
        "\n",
        "# render the CAM and output\n",
        "print('CAM の出力 {0}: {1}'. format(candidate,  classes[idx[candidate]]))\n",
        "\n",
        "img = cv2.imread('test.jpg')\n",
        "height, width, _ = img.shape\n",
        "heatmap = cv2.applyColorMap(cv2.resize(CAMs[0],(width, height)), cv2.COLORMAP_JET)\n",
        "result = heatmap * 0.3 + img * 0.5\n",
        "cv2.imwrite('CAM.jpg', result)\n",
        "IPython.display.Image('CAM.jpg')"
      ],
      "execution_count": 0,
      "outputs": []
    },
    {
      "cell_type": "code",
      "metadata": {
        "id": "UTHRd19Ddxks",
        "colab_type": "code",
        "colab": {}
      },
      "source": [
        "import matplotlib.pyplot as plt\n",
        "from PIL import Image as pil_img\n",
        "%matplotlib inline"
      ],
      "execution_count": 0,
      "outputs": []
    },
    {
      "cell_type": "code",
      "metadata": {
        "id": "jwkH1C0QbfD4",
        "colab_type": "code",
        "colab": {}
      },
      "source": [
        "for candidate in range(5):\n",
        "    # generate class activation mapping for the top1 prediction\n",
        "    CAMs = returnCAM(features_blobs[0], weight_softmax, [idx[candidate]])\n",
        "\n",
        "    # render the CAM and output\n",
        "    print('CAM の出力 {0}: {1}'. format(candidate,  classes[idx[candidate]]))\n",
        "\n",
        "    img = cv2.imread('test.jpg')\n",
        "    height, width, _ = img.shape\n",
        "    heatmap = cv2.applyColorMap(cv2.resize(CAMs[0],(width, height)), cv2.COLORMAP_JET)\n",
        "    result = heatmap * 0.3 + img * 0.5\n",
        "    cv2.imwrite('CAM.jpg', result)\n",
        "    #IPython.display.Image('CAM.jpg')\n",
        "    plt.axis(False); plt.imshow(pil_img.open('CAM.jpg'))\n",
        "    plt.show()"
      ],
      "execution_count": 0,
      "outputs": []
    },
    {
      "cell_type": "code",
      "metadata": {
        "id": "DbAVRmUAb9id",
        "colab_type": "code",
        "colab": {}
      },
      "source": [
        "# まとめて関数化\n",
        "def CAM5(img_url, n=5):\n",
        "    response = requests.get(img_url)\n",
        "    img_pil = Image.open(io.BytesIO(response.content))\n",
        "    img_pil.save('test.jpg')\n",
        "    \n",
        "    img_tensor = preprocess(img_pil)\n",
        "    img_variable = Variable(img_tensor.unsqueeze(0))\n",
        "    logit = net(img_variable)\n",
        "\n",
        "    h_x = F.softmax(logit, dim=1).data.squeeze()\n",
        "    probs, idx = h_x.sort(0, True)\n",
        "    probs = probs.numpy()\n",
        "    idx = idx.numpy()\n",
        "\n",
        "    for candidate in range(n):\n",
        "        # generate class activation mapping for the top1 prediction\n",
        "        CAMs = returnCAM(features_blobs[0], weight_softmax, [idx[candidate]])\n",
        "\n",
        "        # render the CAM and output\n",
        "        print('CAM の出力 {0}: {1}'. format(candidate,  classes[idx[candidate]]))\n",
        "\n",
        "        img = cv2.imread('test.jpg')\n",
        "        height, width, _ = img.shape\n",
        "        heatmap = cv2.applyColorMap(cv2.resize(CAMs[0],(width, height)), cv2.COLORMAP_JET)\n",
        "        result = heatmap * 0.3 + img * 0.5\n",
        "        cv2.imwrite('CAM.jpg', result)\n",
        "        #IPython.display.Image('CAM.jpg')\n",
        "        plt.axis(False); plt.imshow(pil_img.open('CAM.jpg'))\n",
        "        plt.show()\n",
        "\n"
      ],
      "execution_count": 0,
      "outputs": []
    },
    {
      "cell_type": "code",
      "metadata": {
        "id": "HtN3tFgzlntp",
        "colab_type": "code",
        "colab": {}
      },
      "source": [
        "#url_img = 'https://drive.google.com/file/d/1phQB4S3pMOYMkyHkw5NiMUR9fqGdr-Ly/view?usp=sharing'\n",
        "url_img = 'https://raw.githubusercontent.com/komazawa-deep-learning/komazawa-deep-learning.github.io/master/assets/2012AlexNetResult.jpg'\n",
        "CAM5(url_img)"
      ],
      "execution_count": 0,
      "outputs": []
    },
    {
      "cell_type": "code",
      "metadata": {
        "id": "H68AQbYJp1Cb",
        "colab_type": "code",
        "colab": {}
      },
      "source": [
        "!wget https://drive.google.com/file/d/1phQB4S3pMOYMkyHkw5NiMUR9fqGdr-Ly/view?usp=sharing -O test2.jpg"
      ],
      "execution_count": 0,
      "outputs": []
    },
    {
      "cell_type": "code",
      "metadata": {
        "id": "-aEqtIRhp-zd",
        "colab_type": "code",
        "colab": {}
      },
      "source": [
        "IPython.display.Image('test2.jpg')"
      ],
      "execution_count": 0,
      "outputs": []
    },
    {
      "cell_type": "code",
      "metadata": {
        "id": "4elA2_lnqGff",
        "colab_type": "code",
        "colab": {}
      },
      "source": [
        "!ls -l *.jpg"
      ],
      "execution_count": 0,
      "outputs": []
    },
    {
      "cell_type": "code",
      "metadata": {
        "id": "ZRxFVVjLqHuA",
        "colab_type": "code",
        "colab": {}
      },
      "source": [
        ""
      ],
      "execution_count": 0,
      "outputs": []
    }
  ]
}