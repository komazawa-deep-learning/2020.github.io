{
  "nbformat": 4,
  "nbformat_minor": 0,
  "metadata": {
    "kernelspec": {
      "display_name": "Python 3",
      "language": "python",
      "name": "python3"
    },
    "language_info": {
      "codemirror_mode": {
        "name": "ipython",
        "version": 3
      },
      "file_extension": ".py",
      "mimetype": "text/x-python",
      "name": "python",
      "nbconvert_exporter": "python",
      "pygments_lexer": "ipython3",
      "version": "3.7.4"
    },
    "colab": {
      "name": "2021_0604Data Augmentation.ipynb",
      "provenance": [],
      "include_colab_link": true
    },
    "accelerator": "GPU"
  },
  "cells": [
    {
      "cell_type": "markdown",
      "metadata": {
        "id": "view-in-github",
        "colab_type": "text"
      },
      "source": [
        "<a href=\"https://colab.research.google.com/github/komazawa-deep-learning/komazawa-deep-learning.github.io/blob/master/notebooks/2021_0604Data_Augmentation.ipynb\" target=\"_parent\"><img src=\"https://colab.research.google.com/assets/colab-badge.svg\" alt=\"Open In Colab\"/></a>"
      ]
    },
    {
      "cell_type": "markdown",
      "metadata": {
        "id": "_L5_36IDwJPK"
      },
      "source": [
        "- date: 2021_0604\n",
        "- source: https://github.com/DhruvilKarani/ResNet-Augmentation"
      ]
    },
    {
      "cell_type": "code",
      "metadata": {
        "id": "yg62rdKaoInB"
      },
      "source": [
        "import numpy as np\n",
        "import torch\n",
        "import torch.nn as nn\n",
        "import torchvision\n",
        "from torchvision.datasets import CIFAR10\n",
        "from torchvision import transforms\n",
        "from torchvision.transforms import Compose\n",
        "import sys\n",
        "import os\n",
        "import matplotlib.pyplot as plt\n",
        "from collections import Counter\n",
        "import random\n",
        "import sys\n",
        "import time"
      ],
      "execution_count": null,
      "outputs": []
    },
    {
      "cell_type": "code",
      "metadata": {
        "colab": {
          "base_uri": "https://localhost:8080/"
        },
        "id": "CaWrCJJjoInE",
        "outputId": "290156a8-b9b4-4460-8554-67430025b786"
      },
      "source": [
        "device = 'cuda' if torch.cuda.is_available() else 'cpu'\n",
        "print(device)"
      ],
      "execution_count": null,
      "outputs": [
        {
          "output_type": "stream",
          "text": [
            "cuda\n"
          ],
          "name": "stdout"
        }
      ]
    },
    {
      "cell_type": "code",
      "metadata": {
        "id": "Uj9NReEUoInF"
      },
      "source": [
        "train_transform = Compose([\n",
        "    transforms.RandomHorizontalFlip(p=0.5),\n",
        "    transforms.RandomCrop(32, padding=4),\n",
        "    transforms.ToTensor(),\n",
        "    transforms.Normalize([0, 0, 0], [1, 1, 1])\n",
        "])\n",
        "\n",
        "test_transform = Compose([\n",
        "    transforms.ToTensor(),\n",
        "    transforms.Normalize([0, 0, 0], [1, 1, 1])\n",
        "])\n",
        "\n",
        "cifar10_train = CIFAR10(root = \"/data\", train=True, download = True, transform=train_transform)\n",
        "train_loader = torch.utils.data.DataLoader(cifar10_train, batch_size=128, shuffle=True)\n",
        "\n",
        "cifar10_test = CIFAR10(root = \"/data\", train=False, download = True, transform=test_transform)\n",
        "test_loader = torch.utils.data.DataLoader(cifar10_test, batch_size=128, shuffle=True)\n",
        "\n",
        "cifar10 = CIFAR10(root = \"/data\", train=True, download = True)\n",
        "\n",
        "y = cifar10.targets\n",
        "X = cifar10.data\n",
        "\n",
        "X_mean = torch.Tensor(np.mean(X,0))\n",
        "\n",
        "print(X.shape)"
      ],
      "execution_count": null,
      "outputs": []
    },
    {
      "cell_type": "code",
      "metadata": {
        "id": "HN61kQKjoInF"
      },
      "source": [
        "Counter(y)\n",
        "#uniform distribution"
      ],
      "execution_count": null,
      "outputs": []
    },
    {
      "cell_type": "code",
      "metadata": {
        "id": "xbewXQWGoInF"
      },
      "source": [
        "cifar10.class_to_idx"
      ],
      "execution_count": null,
      "outputs": []
    },
    {
      "cell_type": "code",
      "metadata": {
        "id": "ef8SQOwHoInG"
      },
      "source": [
        "def show_example(X, y, label, grid = (3,3)):\n",
        "    y_label = [i for i, tag in enumerate(y) if label == tag]\n",
        "    random.shuffle(y_label)\n",
        "    \n",
        "    rows = grid[0]\n",
        "    columns = grid[1]\n",
        "    \n",
        "    fig, axes = plt.subplots(rows, columns)\n",
        "    fig.set_figheight(7)\n",
        "    fig.set_figwidth(7)\n",
        " \n",
        "    for row in axes:\n",
        "        for col in row:\n",
        "            col.imshow(X[y_label.pop()])\n",
        "    plt.show()"
      ],
      "execution_count": null,
      "outputs": []
    },
    {
      "cell_type": "code",
      "metadata": {
        "id": "2N3ghnURoInG"
      },
      "source": [
        "#airplane\n",
        "show_example(X, y, 0)"
      ],
      "execution_count": null,
      "outputs": []
    },
    {
      "cell_type": "code",
      "metadata": {
        "id": "U6R_QcL3oInG"
      },
      "source": [
        "#automobile\n",
        "show_example(X, y, 1)"
      ],
      "execution_count": null,
      "outputs": []
    },
    {
      "cell_type": "code",
      "metadata": {
        "id": "TIdTVFopoInG"
      },
      "source": [
        "#frog\n",
        "show_example(X, y, 6)"
      ],
      "execution_count": null,
      "outputs": []
    },
    {
      "cell_type": "code",
      "metadata": {
        "id": "Es764rK7oInH"
      },
      "source": [
        "#deer\n",
        "show_example(X, y, 4)"
      ],
      "execution_count": null,
      "outputs": []
    },
    {
      "cell_type": "code",
      "metadata": {
        "id": "cZ3kkWp9oInH"
      },
      "source": [
        "class _Block(nn.Module):\n",
        "    def __init__(self, kernel_dim, n_filters, in_channels, stride, padding):\n",
        "        super(_Block, self).__init__()\n",
        "        self._layer_one = nn.Conv2d(in_channels=in_channels, out_channels=n_filters, \n",
        "                                  kernel_size=kernel_dim, stride=stride[0], padding=padding, bias=False)\n",
        "        self._layer_two = nn.Conv2d(in_channels=n_filters, out_channels=n_filters, \n",
        "                                  kernel_size=kernel_dim, stride=stride[1], padding=padding, bias=False)\n",
        "        self.relu = nn.ReLU()\n",
        "        self.bn1 = nn.BatchNorm2d(n_filters)\n",
        "        self.bn2 = nn.BatchNorm2d(n_filters)\n",
        "\n",
        "    def forward(self, X, skip = None):\n",
        "        h = self._layer_one(X)\n",
        "        h = self.bn1(h)\n",
        "        h = self.relu(h)\n",
        "        h = self._layer_two(h)\n",
        "        h = self.bn2(h)\n",
        "        h = self.relu(h)\n",
        "        if isinstance(skip, torch.Tensor):\n",
        "            return h + skip\n",
        "        return h + X\n",
        "\n",
        "\n",
        "class ResNet(nn.Module):\n",
        "    def __init__(self, input_dim, n_classes):\n",
        "        super(ResNet, self).__init__()\n",
        "        self.n_classes = n_classes\n",
        "        self.conv1 = nn.Conv2d(3, 64, 4, 2)\n",
        "        self.block1 = _Block(5, 64, 64, (1,1), 2)\n",
        "        self.block2 = _Block(5, 64, 64, (1,1), 2)\n",
        "        self.block3 = _Block(5, 64, 64, (1,1), 2)\n",
        "        self.transition1 = nn.Conv2d(64, 128, 1, 2, 0, bias=False)\n",
        "        self.block4 = _Block(3, 128, 64, (2,1), 1)\n",
        "        self.block5 = _Block(3, 128, 128, (1,1), 1)\n",
        "        self.block6 = _Block(3, 128, 128, (1,1), 1)\n",
        "        self.transition2 = nn.Conv2d(128, 256, 3, 2, 1, bias=False)\n",
        "        self.block7 = _Block(3, 256, 128, (2,1), 1)\n",
        "        self.block8 = _Block(3, 256, 256, (1,1), 1)\n",
        "        self.block9 = _Block(3, 256, 256, (1,1), 1)\n",
        "        self.transition3 = nn.Conv2d(256, 512, 3, 2, 1, bias=False)\n",
        "        self.block10 = _Block(3, 512, 256, (2,1), 1)\n",
        "        self.block11 = _Block(3, 512, 512, (1,1), 1)\n",
        "        self.block12 = _Block(3, 512, 512, (1,1), 1)\n",
        "        self.linear1 = nn.Linear(2048, n_classes)\n",
        "\n",
        "\n",
        "    def forward(self, X):\n",
        "        h = self.conv1(X)\n",
        "        h = self.block1(h)\n",
        "        h = self.block2(h)\n",
        "        h = self.block3(h)\n",
        "        skip1 = self.transition1(h)\n",
        "        h = self.block4(h, skip1)\n",
        "        h = self.block5(h)\n",
        "        h = self.block6(h)\n",
        "        skip2 = self.transition2(h)\n",
        "        h = self.block7(h, skip2)\n",
        "        h = self.block8(h)\n",
        "        h = self.block9(h)\n",
        "        skip3 = self.transition3(h)\n",
        "        h = self.block10(h, skip3)\n",
        "        h = self.block11(h)\n",
        "        h = self.block12(h)\n",
        "        h = output.view(-1, 2048)\n",
        "        h = self.linear1(h)\n",
        "        return h\n",
        "\n"
      ],
      "execution_count": null,
      "outputs": []
    },
    {
      "cell_type": "code",
      "metadata": {
        "id": "Vqa8mxj1oInH"
      },
      "source": [
        "model = ResNet(32, 10)"
      ],
      "execution_count": null,
      "outputs": []
    },
    {
      "cell_type": "code",
      "metadata": {
        "scrolled": false,
        "id": "VSEYZ1eaoInH"
      },
      "source": [
        "test_input = torch.FloatTensor(X[0:1]).permute(0,3,2,1)\n",
        "output = model(test_input)"
      ],
      "execution_count": null,
      "outputs": []
    },
    {
      "cell_type": "markdown",
      "metadata": {
        "id": "22fStg0NoInI"
      },
      "source": [
        ""
      ]
    },
    {
      "cell_type": "code",
      "metadata": {
        "id": "53F15efIoInI"
      },
      "source": [
        "model = model.to(device)\n",
        "\n",
        "loss_fn = nn.CrossEntropyLoss()\n",
        "LR = 0.001\n",
        "optim = torch.optim.Adam(model.parameters(), lr = LR, weight_decay=0.0001)"
      ],
      "execution_count": null,
      "outputs": []
    },
    {
      "cell_type": "code",
      "metadata": {
        "id": "nnMm9fO-oInI"
      },
      "source": [
        "#EPOCHS = 20\n",
        "max_epochs = 2\n",
        "epoch_loss = []\n",
        "val_loss = []\n",
        "acc = []\n",
        "train_time = 0"
      ],
      "execution_count": null,
      "outputs": []
    },
    {
      "cell_type": "code",
      "metadata": {
        "scrolled": false,
        "id": "JCBw9eiOoInI"
      },
      "source": [
        "for i in range(max_epochs):\n",
        "    start_time = time.time()\n",
        "    ep = 0\n",
        "    model.train()\n",
        "    for X_b, y_b in train_loader:\n",
        "        optim.zero_grad()\n",
        "        X_b = X_b.to(device)\n",
        "        y_b = y_b.to(device)\n",
        "\n",
        "        output = model(X_b)\n",
        "\n",
        "        loss = loss_fn(output, y_b)\n",
        "\n",
        "        loss.backward()\n",
        "        ep += loss.item()\n",
        "        optim.step()\n",
        "    epoch_loss.append(ep)\n",
        "    train_time += time.time() - start_time\n",
        "    print(f'Epoch {i+1}: 損失:{ep:.03f} 所要時間:{train_time:.2f}')\n",
        "    \n",
        "    correct = 0\n",
        "    total = 0\n",
        "    val = 0\n",
        "    model.eval()\n",
        "    for X_b, y_b in test_loader:\n",
        "        X_b = X_b.to(device)\n",
        "        y_b = y_b.to(device)\n",
        "        output = model(X_b)\n",
        "        loss = loss_fn(output, y_b)\n",
        "        val += loss.item()\n",
        "        probs = torch.functional.F.softmax(output, 1)\n",
        "        label = torch.argmax(probs, dim=1)\n",
        "        correct += torch.sum(label == y_b).item()\n",
        "        total += y_b.shape[0]\n",
        "    val_loss.append(val)\n",
        "    acc.append(correct/total)\n",
        "    \n",
        "    print(f'精度: {correct:.3f} 検証データ損失: {val:.3f}')\n",
        "\n",
        "print(f'--- 所要時間:{train_time} ---')"
      ],
      "execution_count": null,
      "outputs": []
    },
    {
      "cell_type": "code",
      "metadata": {
        "id": "NhxF4VHOoInI"
      },
      "source": [
        "fig, ax = plt.subplots(figsize=(15, 8))\n",
        "plt.plot(range(max_epochs), epoch_loss , color='r')\n",
        "plt.plot(range(max_epochs), val_loss, color='b')\n",
        "plt.legend([\"Train Loss\", \"Validation Loss\"])\n",
        "plt.xlabel(\"Epochs\")\n",
        "plt.ylabel(\"Loss\")\n",
        "plt.title(\"No Augmentation\")\n",
        "ax.grid(True)"
      ],
      "execution_count": null,
      "outputs": []
    },
    {
      "cell_type": "code",
      "metadata": {
        "id": "7i-ibOK0oInJ"
      },
      "source": [
        "fig, ax = plt.subplots(figsize=(15, 8))\n",
        "plt.plot(range(max_epochs), acc , color='g')\n",
        "plt.legend([\"Validation Accuracy\"])\n",
        "plt.xlabel(\"Epochs\")\n",
        "plt.ylabel(\"Accuracy\")\n",
        "plt.title(\"No Augmentation\")\n",
        "ax.grid(True)"
      ],
      "execution_count": null,
      "outputs": []
    },
    {
      "cell_type": "code",
      "metadata": {
        "id": "T2cpEpbeoInJ"
      },
      "source": [
        "no_aug = [895.7, 602.43, 490.93, 411.63, 349.29, 300.45, 256.92, 213.5, 174.24, 144.04, 117.22, 98.63, 77.69, 77.81]\n",
        "paper = [732.75, 557.27, 463.47, 339.8]"
      ],
      "execution_count": null,
      "outputs": []
    },
    {
      "cell_type": "code",
      "metadata": {
        "id": "hqVb_Yo_oInJ"
      },
      "source": [
        "B.shape"
      ],
      "execution_count": null,
      "outputs": []
    },
    {
      "cell_type": "code",
      "metadata": {
        "id": "UCblfg7QoInJ"
      },
      "source": [
        "C.shape"
      ],
      "execution_count": null,
      "outputs": []
    },
    {
      "cell_type": "code",
      "metadata": {
        "id": "qU89W-XboInK"
      },
      "source": [
        "t4d = torch.empty(3, 3, 4, 2)"
      ],
      "execution_count": null,
      "outputs": []
    },
    {
      "cell_type": "code",
      "metadata": {
        "id": "RVJldNT1oInK"
      },
      "source": [
        "t4d[:2, :2, :, :].shape"
      ],
      "execution_count": null,
      "outputs": []
    },
    {
      "cell_type": "code",
      "metadata": {
        "id": "K7uyvk_WoInK"
      },
      "source": [
        "torch.sub()"
      ],
      "execution_count": null,
      "outputs": []
    },
    {
      "cell_type": "code",
      "metadata": {
        "id": "vwzPQdeSoInK"
      },
      "source": [
        ""
      ],
      "execution_count": null,
      "outputs": []
    }
  ]
}