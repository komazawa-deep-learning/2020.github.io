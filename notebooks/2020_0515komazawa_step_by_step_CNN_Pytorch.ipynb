{
 "cells": [
  {
   "cell_type": "markdown",
   "metadata": {
    "colab_type": "text",
    "id": "view-in-github"
   },
   "source": [
    "<a href=\"https://colab.research.google.com/github/komazawa-deep-learning/komazawa-deep-learning.github.io/blob/master/notebooks/2020_0515komazawa_step_by_step_CNN_Pytorch.ipynb\" target=\"_parent\"><img src=\"https://colab.research.google.com/assets/colab-badge.svg\" alt=\"Open In Colab\"/></a>"
   ]
  },
  {
   "cell_type": "markdown",
   "metadata": {
    "colab_type": "text",
    "id": "Pys6dGWIpGGt"
   },
   "source": [
    "# ステップ・バイ・ステップで画像認識の基礎\n",
    "\n",
    "<font color=\"teal\" size=\"+3\"><strong>PyTorch 編</strong></font>\n",
    "\n",
    "- Date: 2020-0320\n",
    "- Author: Shin Asakawa <asakawa@ieee.org>\n",
    "- Filename: 2020-0515komazawa_step-by-step-CNN-PyTorch.ipynb\n",
    "<!--- note: Original がどこかにあるはずなのだが，忘れた。見つからない 2020-0513-->"
   ]
  },
  {
   "cell_type": "code",
   "execution_count": 1,
   "metadata": {
    "colab": {},
    "colab_type": "code",
    "id": "_Qn8Mq1lpGGu"
   },
   "outputs": [],
   "source": [
    "import numpy as np\n",
    "import PIL\n",
    "import matplotlib.pyplot as plt\n",
    "%matplotlib inline"
   ]
  },
  {
   "cell_type": "code",
   "execution_count": 2,
   "metadata": {
    "colab": {
     "base_uri": "https://localhost:8080/",
     "height": 34
    },
    "colab_type": "code",
    "id": "w4ZZoJ-JpGGx",
    "outputId": "8bc771d5-513c-4011-a9c8-22a26330afb8"
   },
   "outputs": [
    {
     "name": "stdout",
     "output_type": "stream",
     "text": [
      "1.4.0 0.5.0\n"
     ]
    }
   ],
   "source": [
    "import torch\n",
    "import torchvision\n",
    "print(torch.__version__, torchvision.__version__)"
   ]
  },
  {
   "cell_type": "code",
   "execution_count": 3,
   "metadata": {
    "colab": {},
    "colab_type": "code",
    "id": "YJfEEwVGpGGz"
   },
   "outputs": [],
   "source": [
    "#help(torchvision.models._utils)\n",
    "#help(torchvision.models.alexnet)\n",
    "alex = torchvision.models.alexnet(pretrained=True)"
   ]
  },
  {
   "cell_type": "code",
   "execution_count": null,
   "metadata": {
    "colab": {},
    "colab_type": "code",
    "id": "_dO-WbSMpGG2"
   },
   "outputs": [],
   "source": [
    "import IPython.display\n",
    "filename=\"https://miro.medium.com/max/2812/1*bD_DMBtKwveuzIkQTwjKQQ.png\"\n",
    "IPython.display.Image(url=filename)\n",
    "# from https://towardsdatascience.com/the-w3h-of-alexnet-vggnet-resnet-and-inception-7baaaecccc96"
   ]
  },
  {
   "cell_type": "code",
   "execution_count": null,
   "metadata": {
    "colab": {},
    "colab_type": "code",
    "id": "yr43vwuCpGG4"
   },
   "outputs": [],
   "source": [
    "#filename=\"https://miro.medium.com/max/3684/1*vXBvV_Unz3JAxytc5iSeoQ.png\"\n",
    "#IPython.display.Image(url=filename)"
   ]
  },
  {
   "cell_type": "code",
   "execution_count": 4,
   "metadata": {
    "colab": {},
    "colab_type": "code",
    "id": "oNr4ODTBpGG6"
   },
   "outputs": [
    {
     "name": "stdout",
     "output_type": "stream",
     "text": [
      "AlexNet(\n",
      "  (features): Sequential(\n",
      "    (0): Conv2d(3, 64, kernel_size=(11, 11), stride=(4, 4), padding=(2, 2))\n",
      "    (1): ReLU(inplace=True)\n",
      "    (2): MaxPool2d(kernel_size=3, stride=2, padding=0, dilation=1, ceil_mode=False)\n",
      "    (3): Conv2d(64, 192, kernel_size=(5, 5), stride=(1, 1), padding=(2, 2))\n",
      "    (4): ReLU(inplace=True)\n",
      "    (5): MaxPool2d(kernel_size=3, stride=2, padding=0, dilation=1, ceil_mode=False)\n",
      "    (6): Conv2d(192, 384, kernel_size=(3, 3), stride=(1, 1), padding=(1, 1))\n",
      "    (7): ReLU(inplace=True)\n",
      "    (8): Conv2d(384, 256, kernel_size=(3, 3), stride=(1, 1), padding=(1, 1))\n",
      "    (9): ReLU(inplace=True)\n",
      "    (10): Conv2d(256, 256, kernel_size=(3, 3), stride=(1, 1), padding=(1, 1))\n",
      "    (11): ReLU(inplace=True)\n",
      "    (12): MaxPool2d(kernel_size=3, stride=2, padding=0, dilation=1, ceil_mode=False)\n",
      "  )\n",
      "  (avgpool): AdaptiveAvgPool2d(output_size=(6, 6))\n",
      "  (classifier): Sequential(\n",
      "    (0): Dropout(p=0.5, inplace=False)\n",
      "    (1): Linear(in_features=9216, out_features=4096, bias=True)\n",
      "    (2): ReLU(inplace=True)\n",
      "    (3): Dropout(p=0.5, inplace=False)\n",
      "    (4): Linear(in_features=4096, out_features=4096, bias=True)\n",
      "    (5): ReLU(inplace=True)\n",
      "    (6): Linear(in_features=4096, out_features=1000, bias=True)\n",
      "  )\n",
      ")\n"
     ]
    }
   ],
   "source": [
    "#help(alex)\n",
    "print(alex)"
   ]
  },
  {
   "cell_type": "markdown",
   "metadata": {
    "colab_type": "text",
    "id": "PFUSF4ULpGG8"
   },
   "source": [
    "- 下から上に昇って見ていくと Linear は通常の全結合数であるので in_features=4096 out_features=100 だから，4096 ニューロンを 1000 ニューロンに変換している\n",
    "- その上は 4096 から 4096 に変換\n",
    "- 次の (avgpool) のところで出力サイズが (6,6) になっているので penultimate 層では x=6, y=6, チャンネル数（特徴数）= 256 である。\n",
    "したがって $256\\times 6 \\times 6 = 9126$ となる。ただし原著論文では平均プーリングではなく最大値プーリングである。\n",
    "\n",
    "np.sqrt(9216 / 256)"
   ]
  },
  {
   "cell_type": "code",
   "execution_count": 5,
   "metadata": {
    "colab": {},
    "colab_type": "code",
    "id": "e2idv8UvpGG9"
   },
   "outputs": [],
   "source": [
    "import torchsummary"
   ]
  },
  {
   "cell_type": "code",
   "execution_count": 6,
   "metadata": {
    "colab": {},
    "colab_type": "code",
    "id": "k1ljmBY3pGHA"
   },
   "outputs": [
    {
     "name": "stdout",
     "output_type": "stream",
     "text": [
      "----------------------------------------------------------------\n",
      "        Layer (type)               Output Shape         Param #\n",
      "================================================================\n",
      "            Conv2d-1           [-1, 64, 55, 55]          23,296\n",
      "              ReLU-2           [-1, 64, 55, 55]               0\n",
      "         MaxPool2d-3           [-1, 64, 27, 27]               0\n",
      "            Conv2d-4          [-1, 192, 27, 27]         307,392\n",
      "              ReLU-5          [-1, 192, 27, 27]               0\n",
      "         MaxPool2d-6          [-1, 192, 13, 13]               0\n",
      "            Conv2d-7          [-1, 384, 13, 13]         663,936\n",
      "              ReLU-8          [-1, 384, 13, 13]               0\n",
      "            Conv2d-9          [-1, 256, 13, 13]         884,992\n",
      "             ReLU-10          [-1, 256, 13, 13]               0\n",
      "           Conv2d-11          [-1, 256, 13, 13]         590,080\n",
      "             ReLU-12          [-1, 256, 13, 13]               0\n",
      "        MaxPool2d-13            [-1, 256, 6, 6]               0\n",
      "AdaptiveAvgPool2d-14            [-1, 256, 6, 6]               0\n",
      "          Dropout-15                 [-1, 9216]               0\n",
      "           Linear-16                 [-1, 4096]      37,752,832\n",
      "             ReLU-17                 [-1, 4096]               0\n",
      "          Dropout-18                 [-1, 4096]               0\n",
      "           Linear-19                 [-1, 4096]      16,781,312\n",
      "             ReLU-20                 [-1, 4096]               0\n",
      "           Linear-21                 [-1, 1000]       4,097,000\n",
      "================================================================\n",
      "Total params: 61,100,840\n",
      "Trainable params: 61,100,840\n",
      "Non-trainable params: 0\n",
      "----------------------------------------------------------------\n",
      "Input size (MB): 0.57\n",
      "Forward/backward pass size (MB): 8.38\n",
      "Params size (MB): 233.08\n",
      "Estimated Total Size (MB): 242.03\n",
      "----------------------------------------------------------------\n"
     ]
    }
   ],
   "source": [
    "torchsummary.summary(alex,input_size=(3,224,224))"
   ]
  },
  {
   "cell_type": "code",
   "execution_count": null,
   "metadata": {
    "colab": {},
    "colab_type": "code",
    "id": "FpXjwRGipT6z"
   },
   "outputs": [],
   "source": [
    "!pip install torchviz"
   ]
  },
  {
   "cell_type": "code",
   "execution_count": 7,
   "metadata": {
    "colab": {},
    "colab_type": "code",
    "id": "S-8fDuVvpGHC"
   },
   "outputs": [
    {
     "data": {
      "image/svg+xml": [
       "<?xml version=\"1.0\" encoding=\"UTF-8\" standalone=\"no\"?>\n",
       "<!DOCTYPE svg PUBLIC \"-//W3C//DTD SVG 1.1//EN\"\n",
       " \"http://www.w3.org/Graphics/SVG/1.1/DTD/svg11.dtd\">\n",
       "<!-- Generated by graphviz version 2.44.0 (20200408.0750)\n",
       " -->\n",
       "<!-- Pages: 1 -->\n",
       "<svg width=\"506pt\" height=\"896pt\"\n",
       " viewBox=\"0.00 0.00 506.30 896.00\" xmlns=\"http://www.w3.org/2000/svg\" xmlns:xlink=\"http://www.w3.org/1999/xlink\">\n",
       "<g id=\"graph0\" class=\"graph\" transform=\"scale(0.6 0.6) rotate(0) translate(4 1479)\">\n",
       "<polygon fill=\"white\" stroke=\"transparent\" points=\"-4,4 -4,-1479 834,-1479 834,4 -4,4\"/>\n",
       "<!-- 140298335002960 -->\n",
       "<g id=\"node1\" class=\"node\">\n",
       "<title>140298335002960</title>\n",
       "<polygon fill=\"#caff70\" stroke=\"black\" points=\"712,-21 614,-21 614,0 712,0 712,-21\"/>\n",
       "<text text-anchor=\"middle\" x=\"663\" y=\"-7.4\" font-family=\"Times,serif\" font-size=\"12.00\">MeanBackward0</text>\n",
       "</g>\n",
       "<!-- 140298335002704 -->\n",
       "<g id=\"node2\" class=\"node\">\n",
       "<title>140298335002704</title>\n",
       "<polygon fill=\"lightgrey\" stroke=\"black\" points=\"715,-78 611,-78 611,-57 715,-57 715,-78\"/>\n",
       "<text text-anchor=\"middle\" x=\"663\" y=\"-64.4\" font-family=\"Times,serif\" font-size=\"12.00\">AddmmBackward</text>\n",
       "</g>\n",
       "<!-- 140298335002704&#45;&gt;140298335002960 -->\n",
       "<g id=\"edge1\" class=\"edge\">\n",
       "<title>140298335002704&#45;&gt;140298335002960</title>\n",
       "<path fill=\"none\" stroke=\"black\" d=\"M663,-56.92C663,-49.91 663,-40.14 663,-31.47\"/>\n",
       "<polygon fill=\"black\" stroke=\"black\" points=\"666.5,-31.34 663,-21.34 659.5,-31.34 666.5,-31.34\"/>\n",
       "</g>\n",
       "<!-- 140298335002832 -->\n",
       "<g id=\"node3\" class=\"node\">\n",
       "<title>140298335002832</title>\n",
       "<polygon fill=\"lightblue\" stroke=\"black\" points=\"597.5,-148 508.5,-148 508.5,-114 597.5,-114 597.5,-148\"/>\n",
       "<text text-anchor=\"middle\" x=\"553\" y=\"-134.4\" font-family=\"Times,serif\" font-size=\"12.00\">classifier.6.bias</text>\n",
       "<text text-anchor=\"middle\" x=\"553\" y=\"-121.4\" font-family=\"Times,serif\" font-size=\"12.00\"> (1000)</text>\n",
       "</g>\n",
       "<!-- 140298335002832&#45;&gt;140298335002704 -->\n",
       "<g id=\"edge2\" class=\"edge\">\n",
       "<title>140298335002832&#45;&gt;140298335002704</title>\n",
       "<path fill=\"none\" stroke=\"black\" d=\"M581.9,-113.84C598.93,-104.32 620.3,-92.37 636.83,-83.13\"/>\n",
       "<polygon fill=\"black\" stroke=\"black\" points=\"638.91,-85.98 645.93,-78.04 635.5,-79.87 638.91,-85.98\"/>\n",
       "</g>\n",
       "<!-- 140299133291600 -->\n",
       "<g id=\"node4\" class=\"node\">\n",
       "<title>140299133291600</title>\n",
       "<polygon fill=\"lightgrey\" stroke=\"black\" points=\"710,-141.5 616,-141.5 616,-120.5 710,-120.5 710,-141.5\"/>\n",
       "<text text-anchor=\"middle\" x=\"663\" y=\"-127.9\" font-family=\"Times,serif\" font-size=\"12.00\">ReluBackward1</text>\n",
       "</g>\n",
       "<!-- 140299133291600&#45;&gt;140298335002704 -->\n",
       "<g id=\"edge3\" class=\"edge\">\n",
       "<title>140299133291600&#45;&gt;140298335002704</title>\n",
       "<path fill=\"none\" stroke=\"black\" d=\"M663,-120.39C663,-111.87 663,-99.14 663,-88.42\"/>\n",
       "<polygon fill=\"black\" stroke=\"black\" points=\"666.5,-88.24 663,-78.24 659.5,-88.24 666.5,-88.24\"/>\n",
       "</g>\n",
       "<!-- 140298597198096 -->\n",
       "<g id=\"node5\" class=\"node\">\n",
       "<title>140298597198096</title>\n",
       "<polygon fill=\"lightgrey\" stroke=\"black\" points=\"710,-211.5 606,-211.5 606,-190.5 710,-190.5 710,-211.5\"/>\n",
       "<text text-anchor=\"middle\" x=\"658\" y=\"-197.9\" font-family=\"Times,serif\" font-size=\"12.00\">AddmmBackward</text>\n",
       "</g>\n",
       "<!-- 140298597198096&#45;&gt;140299133291600 -->\n",
       "<g id=\"edge4\" class=\"edge\">\n",
       "<title>140298597198096&#45;&gt;140299133291600</title>\n",
       "<path fill=\"none\" stroke=\"black\" d=\"M658.72,-190.26C659.45,-180.26 660.62,-164.42 661.55,-151.78\"/>\n",
       "<polygon fill=\"black\" stroke=\"black\" points=\"665.04,-151.95 662.28,-141.72 658.06,-151.44 665.04,-151.95\"/>\n",
       "</g>\n",
       "<!-- 140298597197072 -->\n",
       "<g id=\"node6\" class=\"node\">\n",
       "<title>140298597197072</title>\n",
       "<polygon fill=\"lightblue\" stroke=\"black\" points=\"594.5,-288 505.5,-288 505.5,-254 594.5,-254 594.5,-288\"/>\n",
       "<text text-anchor=\"middle\" x=\"550\" y=\"-274.4\" font-family=\"Times,serif\" font-size=\"12.00\">classifier.4.bias</text>\n",
       "<text text-anchor=\"middle\" x=\"550\" y=\"-261.4\" font-family=\"Times,serif\" font-size=\"12.00\"> (4096)</text>\n",
       "</g>\n",
       "<!-- 140298597197072&#45;&gt;140298597198096 -->\n",
       "<g id=\"edge5\" class=\"edge\">\n",
       "<title>140298597197072&#45;&gt;140298597198096</title>\n",
       "<path fill=\"none\" stroke=\"black\" d=\"M575.59,-253.88C593.17,-242.82 616.37,-228.21 633.67,-217.32\"/>\n",
       "<polygon fill=\"black\" stroke=\"black\" points=\"636,-219.99 642.6,-211.7 632.27,-214.06 636,-219.99\"/>\n",
       "</g>\n",
       "<!-- 140298597104336 -->\n",
       "<g id=\"node7\" class=\"node\">\n",
       "<title>140298597104336</title>\n",
       "<polygon fill=\"lightgrey\" stroke=\"black\" points=\"703.5,-281.5 612.5,-281.5 612.5,-260.5 703.5,-260.5 703.5,-281.5\"/>\n",
       "<text text-anchor=\"middle\" x=\"658\" y=\"-267.9\" font-family=\"Times,serif\" font-size=\"12.00\">MulBackward0</text>\n",
       "</g>\n",
       "<!-- 140298597104336&#45;&gt;140298597198096 -->\n",
       "<g id=\"edge6\" class=\"edge\">\n",
       "<title>140298597104336&#45;&gt;140298597198096</title>\n",
       "<path fill=\"none\" stroke=\"black\" d=\"M658,-260.26C658,-250.26 658,-234.42 658,-221.78\"/>\n",
       "<polygon fill=\"black\" stroke=\"black\" points=\"661.5,-221.72 658,-211.72 654.5,-221.72 661.5,-221.72\"/>\n",
       "</g>\n",
       "<!-- 140298597196752 -->\n",
       "<g id=\"node8\" class=\"node\">\n",
       "<title>140298597196752</title>\n",
       "<polygon fill=\"lightgrey\" stroke=\"black\" points=\"701,-351.5 607,-351.5 607,-330.5 701,-330.5 701,-351.5\"/>\n",
       "<text text-anchor=\"middle\" x=\"654\" y=\"-337.9\" font-family=\"Times,serif\" font-size=\"12.00\">ReluBackward1</text>\n",
       "</g>\n",
       "<!-- 140298597196752&#45;&gt;140298597104336 -->\n",
       "<g id=\"edge7\" class=\"edge\">\n",
       "<title>140298597196752&#45;&gt;140298597104336</title>\n",
       "<path fill=\"none\" stroke=\"black\" d=\"M654.57,-330.26C655.16,-320.26 656.09,-304.42 656.84,-291.78\"/>\n",
       "<polygon fill=\"black\" stroke=\"black\" points=\"660.33,-291.91 657.43,-281.72 653.35,-291.5 660.33,-291.91\"/>\n",
       "</g>\n",
       "<!-- 140298597103760 -->\n",
       "<g id=\"node9\" class=\"node\">\n",
       "<title>140298597103760</title>\n",
       "<polygon fill=\"lightgrey\" stroke=\"black\" points=\"706,-415 602,-415 602,-394 706,-394 706,-415\"/>\n",
       "<text text-anchor=\"middle\" x=\"654\" y=\"-401.4\" font-family=\"Times,serif\" font-size=\"12.00\">AddmmBackward</text>\n",
       "</g>\n",
       "<!-- 140298597103760&#45;&gt;140298597196752 -->\n",
       "<g id=\"edge8\" class=\"edge\">\n",
       "<title>140298597103760&#45;&gt;140298597196752</title>\n",
       "<path fill=\"none\" stroke=\"black\" d=\"M654,-393.89C654,-385.37 654,-372.64 654,-361.92\"/>\n",
       "<polygon fill=\"black\" stroke=\"black\" points=\"657.5,-361.74 654,-351.74 650.5,-361.74 657.5,-361.74\"/>\n",
       "</g>\n",
       "<!-- 140297794942224 -->\n",
       "<g id=\"node10\" class=\"node\">\n",
       "<title>140297794942224</title>\n",
       "<polygon fill=\"lightblue\" stroke=\"black\" points=\"590.5,-485 501.5,-485 501.5,-451 590.5,-451 590.5,-485\"/>\n",
       "<text text-anchor=\"middle\" x=\"546\" y=\"-471.4\" font-family=\"Times,serif\" font-size=\"12.00\">classifier.1.bias</text>\n",
       "<text text-anchor=\"middle\" x=\"546\" y=\"-458.4\" font-family=\"Times,serif\" font-size=\"12.00\"> (4096)</text>\n",
       "</g>\n",
       "<!-- 140297794942224&#45;&gt;140298597103760 -->\n",
       "<g id=\"edge9\" class=\"edge\">\n",
       "<title>140297794942224&#45;&gt;140298597103760</title>\n",
       "<path fill=\"none\" stroke=\"black\" d=\"M574.38,-450.84C591.09,-441.32 612.08,-429.37 628.31,-420.13\"/>\n",
       "<polygon fill=\"black\" stroke=\"black\" points=\"630.29,-423.03 637.24,-415.04 626.82,-416.95 630.29,-423.03\"/>\n",
       "</g>\n",
       "<!-- 140297794941200 -->\n",
       "<g id=\"node11\" class=\"node\">\n",
       "<title>140297794941200</title>\n",
       "<polygon fill=\"lightgrey\" stroke=\"black\" points=\"699.5,-478.5 608.5,-478.5 608.5,-457.5 699.5,-457.5 699.5,-478.5\"/>\n",
       "<text text-anchor=\"middle\" x=\"654\" y=\"-464.9\" font-family=\"Times,serif\" font-size=\"12.00\">MulBackward0</text>\n",
       "</g>\n",
       "<!-- 140297794941200&#45;&gt;140298597103760 -->\n",
       "<g id=\"edge10\" class=\"edge\">\n",
       "<title>140297794941200&#45;&gt;140298597103760</title>\n",
       "<path fill=\"none\" stroke=\"black\" d=\"M654,-457.39C654,-448.87 654,-436.14 654,-425.42\"/>\n",
       "<polygon fill=\"black\" stroke=\"black\" points=\"657.5,-425.24 654,-415.24 650.5,-425.24 657.5,-425.24\"/>\n",
       "</g>\n",
       "<!-- 140298597103568 -->\n",
       "<g id=\"node12\" class=\"node\">\n",
       "<title>140298597103568</title>\n",
       "<polygon fill=\"lightgrey\" stroke=\"black\" points=\"695.5,-548.5 604.5,-548.5 604.5,-527.5 695.5,-527.5 695.5,-548.5\"/>\n",
       "<text text-anchor=\"middle\" x=\"650\" y=\"-534.9\" font-family=\"Times,serif\" font-size=\"12.00\">ViewBackward</text>\n",
       "</g>\n",
       "<!-- 140298597103568&#45;&gt;140297794941200 -->\n",
       "<g id=\"edge11\" class=\"edge\">\n",
       "<title>140298597103568&#45;&gt;140297794941200</title>\n",
       "<path fill=\"none\" stroke=\"black\" d=\"M650.57,-527.26C651.16,-517.26 652.09,-501.42 652.84,-488.78\"/>\n",
       "<polygon fill=\"black\" stroke=\"black\" points=\"656.33,-488.91 653.43,-478.72 649.35,-488.5 656.33,-488.91\"/>\n",
       "</g>\n",
       "<!-- 140298335149776 -->\n",
       "<g id=\"node13\" class=\"node\">\n",
       "<title>140298335149776</title>\n",
       "<polygon fill=\"lightgrey\" stroke=\"black\" points=\"732.5,-612 567.5,-612 567.5,-591 732.5,-591 732.5,-612\"/>\n",
       "<text text-anchor=\"middle\" x=\"650\" y=\"-598.4\" font-family=\"Times,serif\" font-size=\"12.00\">AdaptiveAvgPool2DBackward</text>\n",
       "</g>\n",
       "<!-- 140298335149776&#45;&gt;140298597103568 -->\n",
       "<g id=\"edge12\" class=\"edge\">\n",
       "<title>140298335149776&#45;&gt;140298597103568</title>\n",
       "<path fill=\"none\" stroke=\"black\" d=\"M650,-590.89C650,-582.37 650,-569.64 650,-558.92\"/>\n",
       "<polygon fill=\"black\" stroke=\"black\" points=\"653.5,-558.74 650,-548.74 646.5,-558.74 653.5,-558.74\"/>\n",
       "</g>\n",
       "<!-- 140298335149904 -->\n",
       "<g id=\"node14\" class=\"node\">\n",
       "<title>140298335149904</title>\n",
       "<polygon fill=\"lightgrey\" stroke=\"black\" points=\"740.5,-669 559.5,-669 559.5,-648 740.5,-648 740.5,-669\"/>\n",
       "<text text-anchor=\"middle\" x=\"650\" y=\"-655.4\" font-family=\"Times,serif\" font-size=\"12.00\">MaxPool2DWithIndicesBackward</text>\n",
       "</g>\n",
       "<!-- 140298335149904&#45;&gt;140298335149776 -->\n",
       "<g id=\"edge13\" class=\"edge\">\n",
       "<title>140298335149904&#45;&gt;140298335149776</title>\n",
       "<path fill=\"none\" stroke=\"black\" d=\"M650,-647.92C650,-640.91 650,-631.14 650,-622.47\"/>\n",
       "<polygon fill=\"black\" stroke=\"black\" points=\"653.5,-622.34 650,-612.34 646.5,-622.34 653.5,-622.34\"/>\n",
       "</g>\n",
       "<!-- 140298335150032 -->\n",
       "<g id=\"node15\" class=\"node\">\n",
       "<title>140298335150032</title>\n",
       "<polygon fill=\"lightgrey\" stroke=\"black\" points=\"697,-726 603,-726 603,-705 697,-705 697,-726\"/>\n",
       "<text text-anchor=\"middle\" x=\"650\" y=\"-712.4\" font-family=\"Times,serif\" font-size=\"12.00\">ReluBackward1</text>\n",
       "</g>\n",
       "<!-- 140298335150032&#45;&gt;140298335149904 -->\n",
       "<g id=\"edge14\" class=\"edge\">\n",
       "<title>140298335150032&#45;&gt;140298335149904</title>\n",
       "<path fill=\"none\" stroke=\"black\" d=\"M650,-704.92C650,-697.91 650,-688.14 650,-679.47\"/>\n",
       "<polygon fill=\"black\" stroke=\"black\" points=\"653.5,-679.34 650,-669.34 646.5,-679.34 653.5,-679.34\"/>\n",
       "</g>\n",
       "<!-- 140298335182992 -->\n",
       "<g id=\"node16\" class=\"node\">\n",
       "<title>140298335182992</title>\n",
       "<polygon fill=\"lightgrey\" stroke=\"black\" points=\"731,-783 569,-783 569,-762 731,-762 731,-783\"/>\n",
       "<text text-anchor=\"middle\" x=\"650\" y=\"-769.4\" font-family=\"Times,serif\" font-size=\"12.00\">MkldnnConvolutionBackward</text>\n",
       "</g>\n",
       "<!-- 140298335182992&#45;&gt;140298335150032 -->\n",
       "<g id=\"edge15\" class=\"edge\">\n",
       "<title>140298335182992&#45;&gt;140298335150032</title>\n",
       "<path fill=\"none\" stroke=\"black\" d=\"M650,-761.92C650,-754.91 650,-745.14 650,-736.47\"/>\n",
       "<polygon fill=\"black\" stroke=\"black\" points=\"653.5,-736.34 650,-726.34 646.5,-736.34 653.5,-736.34\"/>\n",
       "</g>\n",
       "<!-- 140298335183120 -->\n",
       "<g id=\"node17\" class=\"node\">\n",
       "<title>140298335183120</title>\n",
       "<polygon fill=\"lightgrey\" stroke=\"black\" points=\"580,-846.5 486,-846.5 486,-825.5 580,-825.5 580,-846.5\"/>\n",
       "<text text-anchor=\"middle\" x=\"533\" y=\"-832.9\" font-family=\"Times,serif\" font-size=\"12.00\">ReluBackward1</text>\n",
       "</g>\n",
       "<!-- 140298335183120&#45;&gt;140298335182992 -->\n",
       "<g id=\"edge16\" class=\"edge\">\n",
       "<title>140298335183120&#45;&gt;140298335182992</title>\n",
       "<path fill=\"none\" stroke=\"black\" d=\"M551.28,-825.39C570.51,-815.28 600.99,-799.26 622.99,-787.7\"/>\n",
       "<polygon fill=\"black\" stroke=\"black\" points=\"624.62,-790.79 631.85,-783.04 621.37,-784.6 624.62,-790.79\"/>\n",
       "</g>\n",
       "<!-- 140298335183376 -->\n",
       "<g id=\"node18\" class=\"node\">\n",
       "<title>140298335183376</title>\n",
       "<polygon fill=\"lightgrey\" stroke=\"black\" points=\"614,-910 452,-910 452,-889 614,-889 614,-910\"/>\n",
       "<text text-anchor=\"middle\" x=\"533\" y=\"-896.4\" font-family=\"Times,serif\" font-size=\"12.00\">MkldnnConvolutionBackward</text>\n",
       "</g>\n",
       "<!-- 140298335183376&#45;&gt;140298335183120 -->\n",
       "<g id=\"edge17\" class=\"edge\">\n",
       "<title>140298335183376&#45;&gt;140298335183120</title>\n",
       "<path fill=\"none\" stroke=\"black\" d=\"M533,-888.89C533,-880.37 533,-867.64 533,-856.92\"/>\n",
       "<polygon fill=\"black\" stroke=\"black\" points=\"536.5,-856.74 533,-846.74 529.5,-856.74 536.5,-856.74\"/>\n",
       "</g>\n",
       "<!-- 140298335183504 -->\n",
       "<g id=\"node19\" class=\"node\">\n",
       "<title>140298335183504</title>\n",
       "<polygon fill=\"lightgrey\" stroke=\"black\" points=\"466,-973.5 372,-973.5 372,-952.5 466,-952.5 466,-973.5\"/>\n",
       "<text text-anchor=\"middle\" x=\"419\" y=\"-959.9\" font-family=\"Times,serif\" font-size=\"12.00\">ReluBackward1</text>\n",
       "</g>\n",
       "<!-- 140298335183504&#45;&gt;140298335183376 -->\n",
       "<g id=\"edge18\" class=\"edge\">\n",
       "<title>140298335183504&#45;&gt;140298335183376</title>\n",
       "<path fill=\"none\" stroke=\"black\" d=\"M436.81,-952.39C455.47,-942.33 484.98,-926.41 506.4,-914.85\"/>\n",
       "<polygon fill=\"black\" stroke=\"black\" points=\"508.17,-917.87 515.31,-910.04 504.85,-911.71 508.17,-917.87\"/>\n",
       "</g>\n",
       "<!-- 140298335183760 -->\n",
       "<g id=\"node20\" class=\"node\">\n",
       "<title>140298335183760</title>\n",
       "<polygon fill=\"lightgrey\" stroke=\"black\" points=\"500,-1037 338,-1037 338,-1016 500,-1016 500,-1037\"/>\n",
       "<text text-anchor=\"middle\" x=\"419\" y=\"-1023.4\" font-family=\"Times,serif\" font-size=\"12.00\">MkldnnConvolutionBackward</text>\n",
       "</g>\n",
       "<!-- 140298335183760&#45;&gt;140298335183504 -->\n",
       "<g id=\"edge19\" class=\"edge\">\n",
       "<title>140298335183760&#45;&gt;140298335183504</title>\n",
       "<path fill=\"none\" stroke=\"black\" d=\"M419,-1015.89C419,-1007.37 419,-994.64 419,-983.92\"/>\n",
       "<polygon fill=\"black\" stroke=\"black\" points=\"422.5,-983.74 419,-973.74 415.5,-983.74 422.5,-983.74\"/>\n",
       "</g>\n",
       "<!-- 140298335183888 -->\n",
       "<g id=\"node21\" class=\"node\">\n",
       "<title>140298335183888</title>\n",
       "<polygon fill=\"lightgrey\" stroke=\"black\" points=\"351.5,-1100.5 170.5,-1100.5 170.5,-1079.5 351.5,-1079.5 351.5,-1100.5\"/>\n",
       "<text text-anchor=\"middle\" x=\"261\" y=\"-1086.9\" font-family=\"Times,serif\" font-size=\"12.00\">MaxPool2DWithIndicesBackward</text>\n",
       "</g>\n",
       "<!-- 140298335183888&#45;&gt;140298335183760 -->\n",
       "<g id=\"edge20\" class=\"edge\">\n",
       "<title>140298335183888&#45;&gt;140298335183760</title>\n",
       "<path fill=\"none\" stroke=\"black\" d=\"M285.69,-1079.39C312.36,-1069.01 355.03,-1052.4 384.89,-1040.78\"/>\n",
       "<polygon fill=\"black\" stroke=\"black\" points=\"386.44,-1043.93 394.49,-1037.04 383.9,-1037.41 386.44,-1043.93\"/>\n",
       "</g>\n",
       "<!-- 140298335184144 -->\n",
       "<g id=\"node22\" class=\"node\">\n",
       "<title>140298335184144</title>\n",
       "<polygon fill=\"lightgrey\" stroke=\"black\" points=\"308,-1164 214,-1164 214,-1143 308,-1143 308,-1164\"/>\n",
       "<text text-anchor=\"middle\" x=\"261\" y=\"-1150.4\" font-family=\"Times,serif\" font-size=\"12.00\">ReluBackward1</text>\n",
       "</g>\n",
       "<!-- 140298335184144&#45;&gt;140298335183888 -->\n",
       "<g id=\"edge21\" class=\"edge\">\n",
       "<title>140298335184144&#45;&gt;140298335183888</title>\n",
       "<path fill=\"none\" stroke=\"black\" d=\"M261,-1142.89C261,-1134.37 261,-1121.64 261,-1110.92\"/>\n",
       "<polygon fill=\"black\" stroke=\"black\" points=\"264.5,-1110.74 261,-1100.74 257.5,-1110.74 264.5,-1110.74\"/>\n",
       "</g>\n",
       "<!-- 140298335184272 -->\n",
       "<g id=\"node23\" class=\"node\">\n",
       "<title>140298335184272</title>\n",
       "<polygon fill=\"lightgrey\" stroke=\"black\" points=\"342,-1221 180,-1221 180,-1200 342,-1200 342,-1221\"/>\n",
       "<text text-anchor=\"middle\" x=\"261\" y=\"-1207.4\" font-family=\"Times,serif\" font-size=\"12.00\">MkldnnConvolutionBackward</text>\n",
       "</g>\n",
       "<!-- 140298335184272&#45;&gt;140298335184144 -->\n",
       "<g id=\"edge22\" class=\"edge\">\n",
       "<title>140298335184272&#45;&gt;140298335184144</title>\n",
       "<path fill=\"none\" stroke=\"black\" d=\"M261,-1199.92C261,-1192.91 261,-1183.14 261,-1174.47\"/>\n",
       "<polygon fill=\"black\" stroke=\"black\" points=\"264.5,-1174.34 261,-1164.34 257.5,-1174.34 264.5,-1174.34\"/>\n",
       "</g>\n",
       "<!-- 140298335184464 -->\n",
       "<g id=\"node24\" class=\"node\">\n",
       "<title>140298335184464</title>\n",
       "<polygon fill=\"lightgrey\" stroke=\"black\" points=\"193.5,-1284.5 12.5,-1284.5 12.5,-1263.5 193.5,-1263.5 193.5,-1284.5\"/>\n",
       "<text text-anchor=\"middle\" x=\"103\" y=\"-1270.9\" font-family=\"Times,serif\" font-size=\"12.00\">MaxPool2DWithIndicesBackward</text>\n",
       "</g>\n",
       "<!-- 140298335184464&#45;&gt;140298335184272 -->\n",
       "<g id=\"edge23\" class=\"edge\">\n",
       "<title>140298335184464&#45;&gt;140298335184272</title>\n",
       "<path fill=\"none\" stroke=\"black\" d=\"M127.69,-1263.39C154.36,-1253.01 197.03,-1236.4 226.89,-1224.78\"/>\n",
       "<polygon fill=\"black\" stroke=\"black\" points=\"228.44,-1227.93 236.49,-1221.04 225.9,-1221.41 228.44,-1227.93\"/>\n",
       "</g>\n",
       "<!-- 140298335184720 -->\n",
       "<g id=\"node25\" class=\"node\">\n",
       "<title>140298335184720</title>\n",
       "<polygon fill=\"lightgrey\" stroke=\"black\" points=\"150,-1348 56,-1348 56,-1327 150,-1327 150,-1348\"/>\n",
       "<text text-anchor=\"middle\" x=\"103\" y=\"-1334.4\" font-family=\"Times,serif\" font-size=\"12.00\">ReluBackward1</text>\n",
       "</g>\n",
       "<!-- 140298335184720&#45;&gt;140298335184464 -->\n",
       "<g id=\"edge24\" class=\"edge\">\n",
       "<title>140298335184720&#45;&gt;140298335184464</title>\n",
       "<path fill=\"none\" stroke=\"black\" d=\"M103,-1326.89C103,-1318.37 103,-1305.64 103,-1294.92\"/>\n",
       "<polygon fill=\"black\" stroke=\"black\" points=\"106.5,-1294.74 103,-1284.74 99.5,-1294.74 106.5,-1294.74\"/>\n",
       "</g>\n",
       "<!-- 140298335184912 -->\n",
       "<g id=\"node26\" class=\"node\">\n",
       "<title>140298335184912</title>\n",
       "<polygon fill=\"lightgrey\" stroke=\"black\" points=\"184,-1405 22,-1405 22,-1384 184,-1384 184,-1405\"/>\n",
       "<text text-anchor=\"middle\" x=\"103\" y=\"-1391.4\" font-family=\"Times,serif\" font-size=\"12.00\">MkldnnConvolutionBackward</text>\n",
       "</g>\n",
       "<!-- 140298335184912&#45;&gt;140298335184720 -->\n",
       "<g id=\"edge25\" class=\"edge\">\n",
       "<title>140298335184912&#45;&gt;140298335184720</title>\n",
       "<path fill=\"none\" stroke=\"black\" d=\"M103,-1383.92C103,-1376.91 103,-1367.14 103,-1358.47\"/>\n",
       "<polygon fill=\"black\" stroke=\"black\" points=\"106.5,-1358.34 103,-1348.34 99.5,-1358.34 106.5,-1358.34\"/>\n",
       "</g>\n",
       "<!-- 140298335185104 -->\n",
       "<g id=\"node27\" class=\"node\">\n",
       "<title>140298335185104</title>\n",
       "<polygon fill=\"lightblue\" stroke=\"black\" points=\"98,-1475 0,-1475 0,-1441 98,-1441 98,-1475\"/>\n",
       "<text text-anchor=\"middle\" x=\"49\" y=\"-1461.4\" font-family=\"Times,serif\" font-size=\"12.00\">features.0.weight</text>\n",
       "<text text-anchor=\"middle\" x=\"49\" y=\"-1448.4\" font-family=\"Times,serif\" font-size=\"12.00\"> (64, 3, 11, 11)</text>\n",
       "</g>\n",
       "<!-- 140298335185104&#45;&gt;140298335184912 -->\n",
       "<g id=\"edge26\" class=\"edge\">\n",
       "<title>140298335185104&#45;&gt;140298335184912</title>\n",
       "<path fill=\"none\" stroke=\"black\" d=\"M63.19,-1440.84C70.77,-1432.21 80.1,-1421.58 87.82,-1412.79\"/>\n",
       "<polygon fill=\"black\" stroke=\"black\" points=\"90.65,-1414.87 94.62,-1405.04 85.39,-1410.25 90.65,-1414.87\"/>\n",
       "</g>\n",
       "<!-- 140298335185168 -->\n",
       "<g id=\"node28\" class=\"node\">\n",
       "<title>140298335185168</title>\n",
       "<polygon fill=\"lightblue\" stroke=\"black\" points=\"200,-1475 116,-1475 116,-1441 200,-1441 200,-1475\"/>\n",
       "<text text-anchor=\"middle\" x=\"158\" y=\"-1461.4\" font-family=\"Times,serif\" font-size=\"12.00\">features.0.bias</text>\n",
       "<text text-anchor=\"middle\" x=\"158\" y=\"-1448.4\" font-family=\"Times,serif\" font-size=\"12.00\"> (64)</text>\n",
       "</g>\n",
       "<!-- 140298335185168&#45;&gt;140298335184912 -->\n",
       "<g id=\"edge27\" class=\"edge\">\n",
       "<title>140298335185168&#45;&gt;140298335184912</title>\n",
       "<path fill=\"none\" stroke=\"black\" d=\"M143.55,-1440.84C135.75,-1432.12 126.13,-1421.37 118.22,-1412.52\"/>\n",
       "<polygon fill=\"black\" stroke=\"black\" points=\"120.81,-1410.16 111.53,-1405.04 115.59,-1414.83 120.81,-1410.16\"/>\n",
       "</g>\n",
       "<!-- 140298335184528 -->\n",
       "<g id=\"node29\" class=\"node\">\n",
       "<title>140298335184528</title>\n",
       "<polygon fill=\"lightblue\" stroke=\"black\" points=\"310,-1291 212,-1291 212,-1257 310,-1257 310,-1291\"/>\n",
       "<text text-anchor=\"middle\" x=\"261\" y=\"-1277.4\" font-family=\"Times,serif\" font-size=\"12.00\">features.3.weight</text>\n",
       "<text text-anchor=\"middle\" x=\"261\" y=\"-1264.4\" font-family=\"Times,serif\" font-size=\"12.00\"> (192, 64, 5, 5)</text>\n",
       "</g>\n",
       "<!-- 140298335184528&#45;&gt;140298335184272 -->\n",
       "<g id=\"edge28\" class=\"edge\">\n",
       "<title>140298335184528&#45;&gt;140298335184272</title>\n",
       "<path fill=\"none\" stroke=\"black\" d=\"M261,-1256.84C261,-1249.01 261,-1239.54 261,-1231.28\"/>\n",
       "<polygon fill=\"black\" stroke=\"black\" points=\"264.5,-1231.04 261,-1221.04 257.5,-1231.04 264.5,-1231.04\"/>\n",
       "</g>\n",
       "<!-- 140298335184592 -->\n",
       "<g id=\"node30\" class=\"node\">\n",
       "<title>140298335184592</title>\n",
       "<polygon fill=\"lightblue\" stroke=\"black\" points=\"412,-1291 328,-1291 328,-1257 412,-1257 412,-1291\"/>\n",
       "<text text-anchor=\"middle\" x=\"370\" y=\"-1277.4\" font-family=\"Times,serif\" font-size=\"12.00\">features.3.bias</text>\n",
       "<text text-anchor=\"middle\" x=\"370\" y=\"-1264.4\" font-family=\"Times,serif\" font-size=\"12.00\"> (192)</text>\n",
       "</g>\n",
       "<!-- 140298335184592&#45;&gt;140298335184272 -->\n",
       "<g id=\"edge29\" class=\"edge\">\n",
       "<title>140298335184592&#45;&gt;140298335184272</title>\n",
       "<path fill=\"none\" stroke=\"black\" d=\"M341.36,-1256.84C324.49,-1247.32 303.31,-1235.37 286.93,-1226.13\"/>\n",
       "<polygon fill=\"black\" stroke=\"black\" points=\"288.34,-1222.91 277.91,-1221.04 284.9,-1229 288.34,-1222.91\"/>\n",
       "</g>\n",
       "<!-- 140298335183952 -->\n",
       "<g id=\"node31\" class=\"node\">\n",
       "<title>140298335183952</title>\n",
       "<polygon fill=\"lightblue\" stroke=\"black\" points=\"468,-1107 370,-1107 370,-1073 468,-1073 468,-1107\"/>\n",
       "<text text-anchor=\"middle\" x=\"419\" y=\"-1093.4\" font-family=\"Times,serif\" font-size=\"12.00\">features.6.weight</text>\n",
       "<text text-anchor=\"middle\" x=\"419\" y=\"-1080.4\" font-family=\"Times,serif\" font-size=\"12.00\"> (384, 192, 3, 3)</text>\n",
       "</g>\n",
       "<!-- 140298335183952&#45;&gt;140298335183760 -->\n",
       "<g id=\"edge30\" class=\"edge\">\n",
       "<title>140298335183952&#45;&gt;140298335183760</title>\n",
       "<path fill=\"none\" stroke=\"black\" d=\"M419,-1072.84C419,-1065.01 419,-1055.54 419,-1047.28\"/>\n",
       "<polygon fill=\"black\" stroke=\"black\" points=\"422.5,-1047.04 419,-1037.04 415.5,-1047.04 422.5,-1047.04\"/>\n",
       "</g>\n",
       "<!-- 140298335184016 -->\n",
       "<g id=\"node32\" class=\"node\">\n",
       "<title>140298335184016</title>\n",
       "<polygon fill=\"lightblue\" stroke=\"black\" points=\"570,-1107 486,-1107 486,-1073 570,-1073 570,-1107\"/>\n",
       "<text text-anchor=\"middle\" x=\"528\" y=\"-1093.4\" font-family=\"Times,serif\" font-size=\"12.00\">features.6.bias</text>\n",
       "<text text-anchor=\"middle\" x=\"528\" y=\"-1080.4\" font-family=\"Times,serif\" font-size=\"12.00\"> (384)</text>\n",
       "</g>\n",
       "<!-- 140298335184016&#45;&gt;140298335183760 -->\n",
       "<g id=\"edge31\" class=\"edge\">\n",
       "<title>140298335184016&#45;&gt;140298335183760</title>\n",
       "<path fill=\"none\" stroke=\"black\" d=\"M499.36,-1072.84C482.49,-1063.32 461.31,-1051.37 444.93,-1042.13\"/>\n",
       "<polygon fill=\"black\" stroke=\"black\" points=\"446.34,-1038.91 435.91,-1037.04 442.9,-1045 446.34,-1038.91\"/>\n",
       "</g>\n",
       "<!-- 140298335183568 -->\n",
       "<g id=\"node33\" class=\"node\">\n",
       "<title>140298335183568</title>\n",
       "<polygon fill=\"lightblue\" stroke=\"black\" points=\"582,-980 484,-980 484,-946 582,-946 582,-980\"/>\n",
       "<text text-anchor=\"middle\" x=\"533\" y=\"-966.4\" font-family=\"Times,serif\" font-size=\"12.00\">features.8.weight</text>\n",
       "<text text-anchor=\"middle\" x=\"533\" y=\"-953.4\" font-family=\"Times,serif\" font-size=\"12.00\"> (256, 384, 3, 3)</text>\n",
       "</g>\n",
       "<!-- 140298335183568&#45;&gt;140298335183376 -->\n",
       "<g id=\"edge32\" class=\"edge\">\n",
       "<title>140298335183568&#45;&gt;140298335183376</title>\n",
       "<path fill=\"none\" stroke=\"black\" d=\"M533,-945.84C533,-938.01 533,-928.54 533,-920.28\"/>\n",
       "<polygon fill=\"black\" stroke=\"black\" points=\"536.5,-920.04 533,-910.04 529.5,-920.04 536.5,-920.04\"/>\n",
       "</g>\n",
       "<!-- 140298335183632 -->\n",
       "<g id=\"node34\" class=\"node\">\n",
       "<title>140298335183632</title>\n",
       "<polygon fill=\"lightblue\" stroke=\"black\" points=\"684,-980 600,-980 600,-946 684,-946 684,-980\"/>\n",
       "<text text-anchor=\"middle\" x=\"642\" y=\"-966.4\" font-family=\"Times,serif\" font-size=\"12.00\">features.8.bias</text>\n",
       "<text text-anchor=\"middle\" x=\"642\" y=\"-953.4\" font-family=\"Times,serif\" font-size=\"12.00\"> (256)</text>\n",
       "</g>\n",
       "<!-- 140298335183632&#45;&gt;140298335183376 -->\n",
       "<g id=\"edge33\" class=\"edge\">\n",
       "<title>140298335183632&#45;&gt;140298335183376</title>\n",
       "<path fill=\"none\" stroke=\"black\" d=\"M613.36,-945.84C596.49,-936.32 575.31,-924.37 558.93,-915.13\"/>\n",
       "<polygon fill=\"black\" stroke=\"black\" points=\"560.34,-911.91 549.91,-910.04 556.9,-918 560.34,-911.91\"/>\n",
       "</g>\n",
       "<!-- 140298335183184 -->\n",
       "<g id=\"node35\" class=\"node\">\n",
       "<title>140298335183184</title>\n",
       "<polygon fill=\"lightblue\" stroke=\"black\" points=\"702,-853 598,-853 598,-819 702,-819 702,-853\"/>\n",
       "<text text-anchor=\"middle\" x=\"650\" y=\"-839.4\" font-family=\"Times,serif\" font-size=\"12.00\">features.10.weight</text>\n",
       "<text text-anchor=\"middle\" x=\"650\" y=\"-826.4\" font-family=\"Times,serif\" font-size=\"12.00\"> (256, 256, 3, 3)</text>\n",
       "</g>\n",
       "<!-- 140298335183184&#45;&gt;140298335182992 -->\n",
       "<g id=\"edge34\" class=\"edge\">\n",
       "<title>140298335183184&#45;&gt;140298335182992</title>\n",
       "<path fill=\"none\" stroke=\"black\" d=\"M650,-818.84C650,-811.01 650,-801.54 650,-793.28\"/>\n",
       "<polygon fill=\"black\" stroke=\"black\" points=\"653.5,-793.04 650,-783.04 646.5,-793.04 653.5,-793.04\"/>\n",
       "</g>\n",
       "<!-- 140298335183248 -->\n",
       "<g id=\"node36\" class=\"node\">\n",
       "<title>140298335183248</title>\n",
       "<polygon fill=\"lightblue\" stroke=\"black\" points=\"810,-853 720,-853 720,-819 810,-819 810,-853\"/>\n",
       "<text text-anchor=\"middle\" x=\"765\" y=\"-839.4\" font-family=\"Times,serif\" font-size=\"12.00\">features.10.bias</text>\n",
       "<text text-anchor=\"middle\" x=\"765\" y=\"-826.4\" font-family=\"Times,serif\" font-size=\"12.00\"> (256)</text>\n",
       "</g>\n",
       "<!-- 140298335183248&#45;&gt;140298335182992 -->\n",
       "<g id=\"edge35\" class=\"edge\">\n",
       "<title>140298335183248&#45;&gt;140298335182992</title>\n",
       "<path fill=\"none\" stroke=\"black\" d=\"M734.79,-818.84C716.82,-809.23 694.22,-797.15 676.88,-787.87\"/>\n",
       "<polygon fill=\"black\" stroke=\"black\" points=\"678.31,-784.67 667.84,-783.04 675.01,-790.84 678.31,-784.67\"/>\n",
       "</g>\n",
       "<!-- 140297794942608 -->\n",
       "<g id=\"node37\" class=\"node\">\n",
       "<title>140297794942608</title>\n",
       "<polygon fill=\"lightgrey\" stroke=\"black\" points=\"797.5,-478.5 724.5,-478.5 724.5,-457.5 797.5,-457.5 797.5,-478.5\"/>\n",
       "<text text-anchor=\"middle\" x=\"761\" y=\"-464.9\" font-family=\"Times,serif\" font-size=\"12.00\">TBackward</text>\n",
       "</g>\n",
       "<!-- 140297794942608&#45;&gt;140298597103760 -->\n",
       "<g id=\"edge36\" class=\"edge\">\n",
       "<title>140297794942608&#45;&gt;140298597103760</title>\n",
       "<path fill=\"none\" stroke=\"black\" d=\"M744.28,-457.39C726.93,-447.42 699.57,-431.69 679.51,-420.16\"/>\n",
       "<polygon fill=\"black\" stroke=\"black\" points=\"681.02,-416.99 670.6,-415.04 677.53,-423.06 681.02,-416.99\"/>\n",
       "</g>\n",
       "<!-- 140298335149648 -->\n",
       "<g id=\"node38\" class=\"node\">\n",
       "<title>140298335149648</title>\n",
       "<polygon fill=\"lightblue\" stroke=\"black\" points=\"816,-555 714,-555 714,-521 816,-521 816,-555\"/>\n",
       "<text text-anchor=\"middle\" x=\"765\" y=\"-541.4\" font-family=\"Times,serif\" font-size=\"12.00\">classifier.1.weight</text>\n",
       "<text text-anchor=\"middle\" x=\"765\" y=\"-528.4\" font-family=\"Times,serif\" font-size=\"12.00\"> (4096, 9216)</text>\n",
       "</g>\n",
       "<!-- 140298335149648&#45;&gt;140297794942608 -->\n",
       "<g id=\"edge37\" class=\"edge\">\n",
       "<title>140298335149648&#45;&gt;140297794942608</title>\n",
       "<path fill=\"none\" stroke=\"black\" d=\"M764.05,-520.88C763.49,-511.31 762.77,-499.09 762.17,-488.91\"/>\n",
       "<polygon fill=\"black\" stroke=\"black\" points=\"765.66,-488.67 761.58,-478.89 758.68,-489.08 765.66,-488.67\"/>\n",
       "</g>\n",
       "<!-- 140298597104016 -->\n",
       "<g id=\"node39\" class=\"node\">\n",
       "<title>140298597104016</title>\n",
       "<polygon fill=\"lightgrey\" stroke=\"black\" points=\"802.5,-281.5 729.5,-281.5 729.5,-260.5 802.5,-260.5 802.5,-281.5\"/>\n",
       "<text text-anchor=\"middle\" x=\"766\" y=\"-267.9\" font-family=\"Times,serif\" font-size=\"12.00\">TBackward</text>\n",
       "</g>\n",
       "<!-- 140298597104016&#45;&gt;140298597198096 -->\n",
       "<g id=\"edge38\" class=\"edge\">\n",
       "<title>140298597104016&#45;&gt;140298597198096</title>\n",
       "<path fill=\"none\" stroke=\"black\" d=\"M750.53,-260.26C732.54,-248.93 702.66,-230.12 681.73,-216.94\"/>\n",
       "<polygon fill=\"black\" stroke=\"black\" points=\"683.42,-213.87 673.1,-211.51 679.69,-219.8 683.42,-213.87\"/>\n",
       "</g>\n",
       "<!-- 140298597104464 -->\n",
       "<g id=\"node40\" class=\"node\">\n",
       "<title>140298597104464</title>\n",
       "<polygon fill=\"lightblue\" stroke=\"black\" points=\"821,-358 719,-358 719,-324 821,-324 821,-358\"/>\n",
       "<text text-anchor=\"middle\" x=\"770\" y=\"-344.4\" font-family=\"Times,serif\" font-size=\"12.00\">classifier.4.weight</text>\n",
       "<text text-anchor=\"middle\" x=\"770\" y=\"-331.4\" font-family=\"Times,serif\" font-size=\"12.00\"> (4096, 4096)</text>\n",
       "</g>\n",
       "<!-- 140298597104464&#45;&gt;140298597104016 -->\n",
       "<g id=\"edge39\" class=\"edge\">\n",
       "<title>140298597104464&#45;&gt;140298597104016</title>\n",
       "<path fill=\"none\" stroke=\"black\" d=\"M769.05,-323.88C768.49,-314.31 767.77,-302.09 767.17,-291.91\"/>\n",
       "<polygon fill=\"black\" stroke=\"black\" points=\"770.66,-291.67 766.58,-281.89 763.68,-292.08 770.66,-291.67\"/>\n",
       "</g>\n",
       "<!-- 140298597199696 -->\n",
       "<g id=\"node41\" class=\"node\">\n",
       "<title>140298597199696</title>\n",
       "<polygon fill=\"lightgrey\" stroke=\"black\" points=\"810.5,-141.5 737.5,-141.5 737.5,-120.5 810.5,-120.5 810.5,-141.5\"/>\n",
       "<text text-anchor=\"middle\" x=\"774\" y=\"-127.9\" font-family=\"Times,serif\" font-size=\"12.00\">TBackward</text>\n",
       "</g>\n",
       "<!-- 140298597199696&#45;&gt;140298335002704 -->\n",
       "<g id=\"edge40\" class=\"edge\">\n",
       "<title>140298597199696&#45;&gt;140298335002704</title>\n",
       "<path fill=\"none\" stroke=\"black\" d=\"M756.66,-120.39C738.57,-110.37 710.01,-94.55 689.18,-83.01\"/>\n",
       "<polygon fill=\"black\" stroke=\"black\" points=\"690.67,-79.83 680.22,-78.04 687.27,-85.95 690.67,-79.83\"/>\n",
       "</g>\n",
       "<!-- 140298597199312 -->\n",
       "<g id=\"node42\" class=\"node\">\n",
       "<title>140298597199312</title>\n",
       "<polygon fill=\"lightblue\" stroke=\"black\" points=\"830,-218 728,-218 728,-184 830,-184 830,-218\"/>\n",
       "<text text-anchor=\"middle\" x=\"779\" y=\"-204.4\" font-family=\"Times,serif\" font-size=\"12.00\">classifier.6.weight</text>\n",
       "<text text-anchor=\"middle\" x=\"779\" y=\"-191.4\" font-family=\"Times,serif\" font-size=\"12.00\"> (1000, 4096)</text>\n",
       "</g>\n",
       "<!-- 140298597199312&#45;&gt;140298597199696 -->\n",
       "<g id=\"edge41\" class=\"edge\">\n",
       "<title>140298597199312&#45;&gt;140298597199696</title>\n",
       "<path fill=\"none\" stroke=\"black\" d=\"M777.82,-183.88C777.11,-174.31 776.21,-162.09 775.46,-151.91\"/>\n",
       "<polygon fill=\"black\" stroke=\"black\" points=\"778.95,-151.61 774.73,-141.89 771.97,-152.12 778.95,-151.61\"/>\n",
       "</g>\n",
       "</g>\n",
       "</svg>\n"
      ],
      "text/plain": [
       "<graphviz.dot.Digraph at 0x7f99c06ba190>"
      ]
     },
     "execution_count": 7,
     "metadata": {},
     "output_type": "execute_result"
    }
   ],
   "source": [
    "import torchviz\n",
    "\n",
    "#help(torchviz.make_dot)\n",
    "x = torch.rand([1,3,255,255])\n",
    "y = alex.forward(x)\n",
    "torchviz.make_dot(y.mean(), params=dict(alex.named_parameters()))"
   ]
  },
  {
   "cell_type": "code",
   "execution_count": null,
   "metadata": {
    "colab": {},
    "colab_type": "code",
    "id": "Yiic1IyRpGHE"
   },
   "outputs": [],
   "source": [
    "import random\n",
    "import torch.nn as nn"
   ]
  },
  {
   "cell_type": "code",
   "execution_count": null,
   "metadata": {
    "colab": {},
    "colab_type": "code",
    "id": "b1mr3jKfpGHG"
   },
   "outputs": [],
   "source": [
    "random.seed(1)\n",
    "torch.manual_seed(1)\n",
    "gpu = False\n",
    "alex.cpu()\n",
    "torch.no_grad()\n",
    "alex.eval()"
   ]
  },
  {
   "cell_type": "code",
   "execution_count": null,
   "metadata": {
    "colab": {},
    "colab_type": "code",
    "id": "EOGPOrgjpGHI"
   },
   "outputs": [],
   "source": [
    "#help(torch.rand)\n",
    "#help(torch.random)\n",
    "#alex.eval()\n",
    "#alex.parameters\n",
    "#alex.modules\n",
    "#print(dir(alex))\n",
    "#help(alex.eval())  # alex.eval() でモードをセットする\n",
    "#help(alex.forward(torch.rand([1,3,255,255])))\n",
    "out = alex.forward(torch.rand([1,3,255,255]))  \n",
    "# ということなので，[チャンネル数，x, y] という tensor を nn.Module.forward() の引数として渡せば良い\n",
    "print(type(out), out.size())\n",
    "print(np.argmax(out.detach().numpy()))\n",
    "#torch.rand([1,3,255,255])"
   ]
  },
  {
   "cell_type": "code",
   "execution_count": null,
   "metadata": {
    "colab": {},
    "colab_type": "code",
    "id": "YgYEwgmJpdJJ"
   },
   "outputs": [],
   "source": [
    "from google.colab import files\n",
    "uploaded = files.upload()"
   ]
  },
  {
   "cell_type": "code",
   "execution_count": null,
   "metadata": {
    "colab": {},
    "colab_type": "code",
    "id": "uVSWpMBopGHK"
   },
   "outputs": [],
   "source": [
    "#!ls *.jpg *.png\n",
    "from PIL import Image\n",
    "img = Image.open('cat.jpg')\n",
    "print(img)\n",
    "np.asarray(img).shape  # (534,600,3) のように，(y, x, チャンネル) となっている。\n",
    "print(torch.from_numpy(np.asarray(img)).size())\n",
    "torch.from_numpy(np.asarray(img)).view(-1,862,1298,3).transpose(1,3).size()\n",
    "# troch.view() や np.reshape() では転置できないのかしら？という疑問が湧く\n",
    "# 答え：torch.view() は見かけだけを変更するので不可。"
   ]
  },
  {
   "cell_type": "code",
   "execution_count": null,
   "metadata": {
    "colab": {},
    "colab_type": "code",
    "id": "sRO68KZUpGHM"
   },
   "outputs": [],
   "source": [
    "# Pytorch の tensor における view と size の使い方\n",
    "#a = torch.range(1, 16)\n",
    "a = torch.arange(1,17)\n",
    "print(a)\n",
    "print(a.view(-1,4,4))"
   ]
  },
  {
   "cell_type": "code",
   "execution_count": null,
   "metadata": {
    "colab": {},
    "colab_type": "code",
    "id": "SADK7rRRpGHO"
   },
   "outputs": [],
   "source": [
    "# すなわち PyTorch の tensor における view は numpy における reshape と同等\n",
    "np.random.rand(16).reshape(-1,4,4)"
   ]
  },
  {
   "cell_type": "code",
   "execution_count": null,
   "metadata": {
    "colab": {},
    "colab_type": "code",
    "id": "QA90ozBlpGHQ"
   },
   "outputs": [],
   "source": [
    "#help(a.view)\n",
    "x = torch.randn(4, 4)  # 乱数行列の生成\n",
    "x.size() # torch.Size([4, 4])  size() 関数は行列の次数を返す関数\n",
    "y = x.view(16)  # view() 関数は numpy.reshape() 関数と同等\n",
    "y\n",
    "y.size()  # torch.Size([16])\n",
    "z = x.view(-1, 8)  # -1 は与えられたデータから類推せよという意味\n",
    "z\n",
    "z.size()  # torch.Size([2,8])  \n",
    "\n",
    "a = torch.randn(1,2,3,4)  # 1 行，2 列, 3 カラム, 4 カラム＋1次 の乱数で初期化された tensor \n",
    "#a\n",
    "a.size()  # torch.Size([1,2,3,4])\n",
    "b = a.transpose(1,2)  # 2 番目と 3 番目を転置 transpose\n",
    "#b\n",
    "b.size()  # torch.Size([1,3,2,4])\n",
    "c = a.view(1,3,2,4)  # c は見え方を変えるだけで内部は変化しない\n",
    "print(b); print(c)\n",
    "torch.equal(b,c)"
   ]
  },
  {
   "cell_type": "code",
   "execution_count": null,
   "metadata": {
    "colab": {},
    "colab_type": "code",
    "id": "gpcRZkA-pGHS"
   },
   "outputs": [],
   "source": [
    "!ls *.jpg"
   ]
  },
  {
   "cell_type": "code",
   "execution_count": null,
   "metadata": {
    "colab": {},
    "colab_type": "code",
    "id": "AI8DpaHGpGHU"
   },
   "outputs": [],
   "source": [
    "jpg_file = 'cat.jpg'\n",
    "#IPython.display.Image(jpg_file)\n",
    "plt.figure(figsize=(10,8))\n",
    "plt.axis(False)\n",
    "plt.imshow(plt.imread(jpg_file))"
   ]
  },
  {
   "cell_type": "code",
   "execution_count": null,
   "metadata": {
    "colab": {},
    "colab_type": "code",
    "id": "rAGI8gflpGHV"
   },
   "outputs": [],
   "source": [
    "img = Image.open(jpg_file)"
   ]
  },
  {
   "cell_type": "code",
   "execution_count": null,
   "metadata": {
    "colab": {},
    "colab_type": "code",
    "id": "eg2dyV8MpGHX"
   },
   "outputs": [],
   "source": [
    "from torchvision import transforms"
   ]
  },
  {
   "cell_type": "code",
   "execution_count": null,
   "metadata": {
    "colab": {},
    "colab_type": "code",
    "id": "AvK_53YppGHY"
   },
   "outputs": [],
   "source": [
    "class BaseTransform():\n",
    "    \"\"\"\n",
    "    画像のサイズをリサイズし、色を標準化する。\n",
    "\n",
    "    Attributes\n",
    "    ----------\n",
    "    sizes : int\n",
    "        リサイズ先の画像の大きさ。\n",
    "    mean : (R, G, B)\n",
    "        各色チャネルの平均値。\n",
    "    std : (R, G, B)\n",
    "        各色チャネルの標準偏差。\n",
    "    \"\"\"\n",
    "\n",
    "    def __init__(self, sizes, mean, std):\n",
    "        self.base_transform = transforms.Compose([\n",
    "            transforms.Resize(sizes),  # 短い辺の長さがresizeの大きさになる\n",
    "            transforms.CenterCrop(sizes),  # 画像中央をresize × resizeで切り取り\n",
    "            transforms.ToTensor(),  # Torchテンソルに変換\n",
    "            transforms.Normalize(mean, std)  # 色情報の標準化\n",
    "        ])\n",
    "\n",
    "    def __call__(self, img):\n",
    "        return self.base_transform(img)"
   ]
  },
  {
   "cell_type": "code",
   "execution_count": null,
   "metadata": {
    "colab": {},
    "colab_type": "code",
    "id": "OyIKdfa-pGHa"
   },
   "outputs": [],
   "source": [
    "# 3. 画像の前処理と処理済み画像の表示\n",
    "resize = 224\n",
    "mean = (0.485, 0.456, 0.406)\n",
    "std = (0.229, 0.224, 0.225)\n",
    "transform = BaseTransform(resize, mean, std)\n",
    "img_transformed = transform(img)  # torch.Size([3, 224, 224])\n"
   ]
  },
  {
   "cell_type": "code",
   "execution_count": null,
   "metadata": {
    "colab": {},
    "colab_type": "code",
    "id": "hLvRx3P0pGHf"
   },
   "outputs": [],
   "source": [
    "#IPython.display.Image(img_transformed.numpy())\n",
    "type(img_transformed)\n",
    "img_transformed.size()"
   ]
  },
  {
   "cell_type": "code",
   "execution_count": null,
   "metadata": {
    "colab": {},
    "colab_type": "code",
    "id": "bDtDl1CIpGHg"
   },
   "outputs": [],
   "source": [
    "a = img_transformed.numpy().transpose((1,2,0))\n",
    "a = np.clip(a, 0, 1)\n",
    "plt.axis(False)\n",
    "plt.imshow(a)"
   ]
  },
  {
   "cell_type": "code",
   "execution_count": null,
   "metadata": {
    "colab": {},
    "colab_type": "code",
    "id": "2McY1MVmpGHi"
   },
   "outputs": [],
   "source": [
    "#IPython.display.display(PIL.Image.fromarray(a.transpose(2,0,1)))\n",
    "#IPython.display.display(a.transpose((2,0,1)))\n",
    "#from ipython_display import imshow\n",
    "#imshow(a)\n",
    "#a.transpose((2,0,1)).shape\n",
    "#a.shape\n",
    "#IPython.display.display(IPython.display.Image(data=a))  # ValueError: ndarray is not C-contiguous\n",
    "#IPython.display.display(a)  # nG\n",
    "#IPython.display.display(PIL.Image.fromarray(a))"
   ]
  },
  {
   "cell_type": "code",
   "execution_count": null,
   "metadata": {
    "colab": {},
    "colab_type": "code",
    "id": "wQPs7680pGHk"
   },
   "outputs": [],
   "source": [
    "plt.axis(False)\n",
    "plt.imshow(img)"
   ]
  },
  {
   "cell_type": "code",
   "execution_count": null,
   "metadata": {
    "colab": {},
    "colab_type": "code",
    "id": "FMh3JrCNpGHm"
   },
   "outputs": [],
   "source": [
    "# 前処理の後、バッチサイズの次元を追加する\n",
    "transform = BaseTransform(resize, mean, std)  # 前処理クラス作成\n",
    "img_transformed = transform(img)  # torch.Size([3, 224, 224])\n",
    "inputs = img_transformed.unsqueeze_(0)  # torch.Size([1, 3, 224, 224])"
   ]
  },
  {
   "cell_type": "code",
   "execution_count": null,
   "metadata": {
    "colab": {},
    "colab_type": "code",
    "id": "oVYVF1ZgpGHo"
   },
   "outputs": [],
   "source": [
    "# モデルに入力し、モデル出力をラベルに変換する\n",
    "out = alex(inputs)  # torch.Size([1, 1000])"
   ]
  },
  {
   "cell_type": "code",
   "execution_count": null,
   "metadata": {
    "colab": {},
    "colab_type": "code",
    "id": "Q8T2vIPIpGHp"
   },
   "outputs": [],
   "source": [
    "out.detach().numpy().argmax()"
   ]
  },
  {
   "cell_type": "code",
   "execution_count": null,
   "metadata": {
    "colab": {},
    "colab_type": "code",
    "id": "Z5dPHGx7qowQ"
   },
   "outputs": [],
   "source": [
    "import json\n",
    "!wget https://gist.githubusercontent.com/PonDad/4dcb4b242b9358e524b4ddecbee385e9/raw/dda9454f74aa4fafee991ca8b848c9ab6ae0e732/imagenet_class_index.json\n",
    "\n",
    "# ImageNet のラベル一覧の読み込み\n",
    "with open('imagenet_class_index.json') as f:\n",
    "    data = json.load(f)\n",
    "    class_names = np.array([row['ja'] for row in data])"
   ]
  },
  {
   "cell_type": "code",
   "execution_count": 36,
   "metadata": {
    "colab": {
     "base_uri": "https://localhost:8080/",
     "height": 34
    },
    "colab_type": "code",
    "id": "z9oy_10ppGHr",
    "outputId": "e1f9f39d-f6ce-433f-9221-c4d9de943376"
   },
   "outputs": [
    {
     "data": {
      "text/plain": [
       "{'en': 'Egyptian_cat', 'ja': 'エジプトの猫', 'num': 'n02124075'}"
      ]
     },
     "execution_count": 36,
     "metadata": {
      "tags": []
     },
     "output_type": "execute_result"
    }
   ],
   "source": [
    "# ILSVRCのラベル情報をロードし辞意書型変数を生成します\n",
    "import json\n",
    "ILSVRC_class_index = json.load(open('imagenet_class_index.json', 'r'))\n",
    "#print(ILSVRC_class_index)\n",
    "len(ILSVRC_class_index)\n",
    "ILSVRC_class_index[285]"
   ]
  },
  {
   "cell_type": "code",
   "execution_count": null,
   "metadata": {
    "colab": {},
    "colab_type": "code",
    "id": "aH91hIyqpGHt"
   },
   "outputs": [],
   "source": [
    "test_img = np.random.random((224,224,3))\n",
    "#test_img = PIL.Image.fromarray(test_img)\n",
    "#plt.imshow(test_img)\n",
    "#img_transformed2 = transform(test_img)\n",
    "#inputs = img_transformed.unsqueeze_(0)\n",
    "inputs = torch.from_numpy(test_img).unsqueeze_(0)"
   ]
  },
  {
   "cell_type": "code",
   "execution_count": null,
   "metadata": {
    "colab": {},
    "colab_type": "code",
    "id": "X84mZFbGpGHu"
   },
   "outputs": [],
   "source": [
    "#inputs.size()\n",
    "#out = alex.forward(inputs)\n",
    "a = torch.rand([1,3,224,224])\n",
    "out = alex.forward(a)\n",
    "#alex.forward(torch.from_numpy(np.random.random((1,224,224,3))))"
   ]
  },
  {
   "cell_type": "code",
   "execution_count": null,
   "metadata": {
    "colab": {},
    "colab_type": "code",
    "id": "ErcHiWR-pGHw"
   },
   "outputs": [],
   "source": [
    "ILSVRC_class_index[out.detach().numpy().argmax()]"
   ]
  },
  {
   "cell_type": "code",
   "execution_count": null,
   "metadata": {
    "colab": {},
    "colab_type": "code",
    "id": "xPrDo1-SpGHx"
   },
   "outputs": [],
   "source": [
    "!wget https://blog.counselor.or.jp/wp-content/uploads/2019/06/image001-20.jpg\n",
    "!mv image001-20.jpg cat.jpg\n"
   ]
  },
  {
   "cell_type": "code",
   "execution_count": null,
   "metadata": {
    "colab": {},
    "colab_type": "code",
    "id": "Bqlckl5fpGHz"
   },
   "outputs": [],
   "source": [
    "jpg_file = 'cat.jpg'\n",
    "#IPython.display.Image(jpg_file)\n",
    "img = Image.open(jpg_file)\n",
    "img_transformed = transform(img)  # torch.Size([3, 224, 224])\n",
    "inputs = img_transformed.unsqueeze_(0)  # torch.Size([1, 3, 224, 224])\n",
    "out = alex(inputs)  # torch.Size([1, 1000])"
   ]
  },
  {
   "cell_type": "code",
   "execution_count": null,
   "metadata": {
    "colab": {},
    "colab_type": "code",
    "id": "yP37kfzMpGH0"
   },
   "outputs": [],
   "source": [
    "ILSVRC_class_index[out.detach().numpy().argmax()]"
   ]
  }
 ],
 "metadata": {
  "colab": {
   "include_colab_link": true,
   "name": "2020-0515komazawa_step-by-step-CNN-Pytorch.ipynb",
   "provenance": []
  },
  "kernelspec": {
   "display_name": "Python 3",
   "language": "python",
   "name": "python3"
  },
  "language_info": {
   "codemirror_mode": {
    "name": "ipython",
    "version": 3
   },
   "file_extension": ".py",
   "mimetype": "text/x-python",
   "name": "python",
   "nbconvert_exporter": "python",
   "pygments_lexer": "ipython3",
   "version": "3.7.7"
  }
 },
 "nbformat": 4,
 "nbformat_minor": 4
}
