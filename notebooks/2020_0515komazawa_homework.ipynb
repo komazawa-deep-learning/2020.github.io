{
  "nbformat": 4,
  "nbformat_minor": 0,
  "metadata": {
    "kernelspec": {
      "display_name": "Python 3",
      "language": "python",
      "name": "python3"
    },
    "language_info": {
      "codemirror_mode": {
        "name": "ipython",
        "version": 3
      },
      "file_extension": ".py",
      "mimetype": "text/x-python",
      "name": "python",
      "nbconvert_exporter": "python",
      "pygments_lexer": "ipython3",
      "version": "3.7.6"
    },
    "colab": {
      "name": "2020-0515komazawa_homework.ipynb",
      "provenance": [],
      "collapsed_sections": [],
      "include_colab_link": true
    },
    "accelerator": "GPU"
  },
  "cells": [
    {
      "cell_type": "markdown",
      "metadata": {
        "id": "view-in-github",
        "colab_type": "text"
      },
      "source": [
        "<a href=\"https://colab.research.google.com/github/komazawa-deep-learning/komazawa-deep-learning.github.io/blob/master/notebooks/2020_0515komazawa_homework.ipynb\" target=\"_parent\"><img src=\"https://colab.research.google.com/assets/colab-badge.svg\" alt=\"Open In Colab\"/></a>"
      ]
    },
    {
      "cell_type": "markdown",
      "metadata": {
        "id": "hqWLfwr4f5Th",
        "colab_type": "text"
      },
      "source": [
        "\n",
        "# 2020年度 駒澤大学文学部心理学特講IIIA \n",
        "<div align=\"right\">\n",
        "<img src=\"https://koma-sso.komazawa-u.ac.jp/idp/images/header_logo.png\">\n",
        "</div>\n",
        "\n",
        "課題提出用\n",
        "- 作成者: 浅川伸一\n",
        "- [授業用ページ](https://komazawa-deep-learning.github.io/)\n"
      ]
    },
    {
      "cell_type": "code",
      "metadata": {
        "id": "V039nHeuOqcn",
        "colab_type": "code",
        "colab": {}
      },
      "source": [
        "#@title # facesheet { run: \"auto\", vertical-output: true, display-mode: \"form\" }\n",
        "date = '2020-05-15'  #@param {type: \"date\"}\n",
        "name = '氏名: '  #@param {type: \"string\"}\n",
        "id = '学生番号: '  #@param {type: \"string\"}\n",
        "\n",
        "#@markdown ---\n"
      ],
      "execution_count": 0,
      "outputs": []
    },
    {
      "cell_type": "markdown",
      "metadata": {
        "id": "Eof2F-T-eFW3",
        "colab_type": "text"
      },
      "source": [
        "# 課題ファイルの提出方法\n",
        "\n",
        "1. このファイルのファイル名を次のように変更する **本日の日付+氏名.ipynb**\n",
        "2. 変更したファイル名 で 自分の Google ドライブに保存する\n",
        "3. 下の課題をすべて解いて，必要事項を記入する\n",
        "4. Google ドライブからファイルを選んで，共有情報を入手する\n",
        "5. メールを開いて，以下のような宛先にする\n",
        "    - To: **educ0233@komazawa-u.ac.jp**\n",
        "    - Cc: **1自分の学生番号+イニシャル@komazawa-u.ac.jp**\n",
        "6. メールの件名を **本日の日付+自分の学生番号** とする\n",
        "7. 本文に，Google drive の共有情報を貼り付ける\n",
        "8. 送信ボタンを押下する\n",
        "\n"
      ]
    },
    {
      "cell_type": "code",
      "metadata": {
        "id": "FXldmijXhDud",
        "colab_type": "code",
        "cellView": "form",
        "colab": {}
      },
      "source": [
        "#@title 授業の評価\n",
        "\n",
        "Q1 = '本日の感想' #@param {type:\"string\"}\n",
        "Q2 = '難易度:分かりやすかった' #@param{type:'string'} [\"難易度:分かりやすかった\", \"難易度:どちらとも言えない\", \"難易度:分かりにくかった\"]\n",
        "Q3 = '進み方:速かった' #@param{type:'string'}['進み方:速かった', '進み方:ちょうどよかった', '進み方:ゆっくりすぎた']\n",
        "text_and_dropdown = 'value' #@param {type:'string'} [\"1st option\", \"2nd option\", \"3rd option\"] {allow-input: true}\n",
        "\n",
        "#print(text)\n",
        "#print(dropdown)\n",
        "#print(text_and_dropdown)"
      ],
      "execution_count": 0,
      "outputs": []
    },
    {
      "cell_type": "code",
      "metadata": {
        "id": "pLIYramOmFBz",
        "colab_type": "code",
        "colab": {}
      },
      "source": [
        "#@title ## 印象 {display-mode: \"form\"}\n",
        "#@markdown ### 問 1-1. 授業で取り上げた話題の中で <font color='red'>もっとも印象に残っている</font> 話題を一つ挙げよ。また簡単に，1行程度でその理由を記せ\n",
        "topic2_1 = '話題1: '  #@param {type: \"string\"}\n",
        "reason2_1 = '理由1:'  #@param {type: \"string\"}\n",
        "\n",
        "#@markdown ### 問 1-2. 授業で取り上げた話題の中で <font color='red'>2番目に印象に残っている</font> 話題を一つ挙げよ。また簡単に，1行程度でその理由を記せ\n",
        "topic2_2 = '話題2:'  #@param {type: \"string\"}\n",
        "reason2_2 = '理由2:'  #@param {type: \"string\"}\n",
        "\n",
        "#@markdown ### 問 1-3. 授業で取り上げた話題の中で <font color='red'>もっとも興味が持てなかった</font> 話題を一つ挙げよ。また簡単に，1行程度でその理由を記せ\n",
        "topic2_3 = '話題3:'  #@param {type: \"string\"}\n",
        "reason2_3 = '理由3:'  #@param {type: \"string\"}\n",
        "#@markdown ---\n",
        "x1 = \"\"\n"
      ],
      "execution_count": 0,
      "outputs": []
    },
    {
      "cell_type": "code",
      "metadata": {
        "id": "Nqv8lopfAIKg",
        "colab_type": "code",
        "colab": {}
      },
      "source": [
        "#@title ## 問題1: 以下の単語がそれぞれ何を表すかを調べ，簡潔に説明せよ {display-mode:\"form\"}\n",
        "#@markdown ### 問1_1: arXiv\n",
        "A1_1 = 'arXiv とは' #@param{type:\"string\"}\n",
        "\n",
        "#@markdown ### 問1_2: colab\n",
        "A1_2 = 'colab とは' #@param{type:\"string\"}\n",
        "\n",
        "#@markdown ### 問1_3: GitHub\n",
        "A1_3 = 'GitHub とは' #@param{type:\"string\"}\n",
        "\n",
        "#@markdown ### 問1_4: GPU\n",
        "A1_4 = 'stack overfow とは' #@param{type:\"string\"}\n",
        "\n",
        "#@markdown ### 問1_5: Reddit\n",
        "A1_5 = 'Reddit とは' #@param{type:\"string\"}\n",
        "\n",
        "#@markdown ### 問1_6: Stack Overflow\n",
        "A1_6 = 'StackOverflow とは' #@param{type:\"string\"}"
      ],
      "execution_count": 0,
      "outputs": []
    },
    {
      "cell_type": "code",
      "metadata": {
        "colab_type": "code",
        "id": "-K2AKsBD7qFu",
        "colab": {}
      },
      "source": [
        "#@title ## 問題2: 以下の単語がそれぞれ何を表すかを調べ，簡潔に説明せよ {display-mode:\"form\"}\n",
        "#@markdown ### 問2_1: ANN\n",
        "A2_1 = 'ANN とは' #@param{type:\"string\"}\n",
        "\n",
        "#@markdown ### 問2_2: BNN\n",
        "A2_2 = 'BNN とは' #@param{type:\"string\"}\n",
        "\n",
        "#@markdown ### 問2_3: CNN\n",
        "A2_3 = 'CNN とは' #@param{type:\"string\"}\n",
        "\n",
        "#@markdown ### 問2_4: GPU\n",
        "A2_4 = 'DNN とは' #@param{type:\"string\"}\n"
      ],
      "execution_count": 0,
      "outputs": []
    },
    {
      "cell_type": "code",
      "metadata": {
        "id": "vJgCvq50hxT9",
        "colab_type": "code",
        "colab": {}
      },
      "source": [
        "#@title ## 次の [知識を拡張する道具から pdf ファイル](https://komazawa-deep-learning.github.io/2019laborNews.pdf) を入手し，要約して感想を記せ {display-mode:\"form\"}\n",
        "#@markdown ### 要約\n",
        "summary = '要約: ' #@param{type:\"string\"}\n",
        "\n",
        "#@markdown ### 感想\n",
        "discussion = '感想:' #@param{type:\"string\"}\n"
      ],
      "execution_count": 0,
      "outputs": []
    },
    {
      "cell_type": "code",
      "metadata": {
        "id": "t3gVOhGn40F0",
        "colab_type": "code",
        "colab": {}
      },
      "source": [
        "#@title ## 全体の感想 {display-mode: \"form\"}\n",
        "#@markdown ### 本日の授業でのトラブルについて，ご意見をお聞かせください\n",
        "opinion = \"意見\" #@param {type: \"string\"}"
      ],
      "execution_count": 0,
      "outputs": []
    }
  ]
}