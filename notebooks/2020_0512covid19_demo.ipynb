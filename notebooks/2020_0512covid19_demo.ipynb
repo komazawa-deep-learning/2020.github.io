{
  "nbformat": 4,
  "nbformat_minor": 0,
  "metadata": {
    "kernelspec": {
      "display_name": "Python 3",
      "language": "python",
      "name": "python3"
    },
    "language_info": {
      "codemirror_mode": {
        "name": "ipython",
        "version": 3
      },
      "file_extension": ".py",
      "mimetype": "text/x-python",
      "name": "python",
      "nbconvert_exporter": "python",
      "pygments_lexer": "ipython3",
      "version": "3.7.7"
    },
    "colab": {
      "name": "2020-0512covid-19_demo.ipynb",
      "provenance": [],
      "include_colab_link": true
    }
  },
  "cells": [
    {
      "cell_type": "markdown",
      "metadata": {
        "id": "view-in-github",
        "colab_type": "text"
      },
      "source": [
        "<a href=\"https://colab.research.google.com/github/komazawa-deep-learning/komazawa-deep-learning.github.io/blob/master/notebooks/2020_0512covid19_demo.ipynb\" target=\"_parent\"><img src=\"https://colab.research.google.com/assets/colab-badge.svg\" alt=\"Open In Colab\"/></a>"
      ]
    },
    {
      "cell_type": "markdown",
      "metadata": {
        "id": "eZijuBok3Koa",
        "colab_type": "text"
      },
      "source": [
        "# 中国共産党ウィルス covid-19 の動向を知りながら colab に慣れよう\n",
        "- date: 2020-0518\n",
        "- author: 浅川伸一\n",
        "- source: https://towardsdatascience.com/say-goodbye-to-excel-a-simple-evaluation-of-python-grid-studio-using-covid-19-data-90624f322b81\n",
        "- note: 駒澤大学 2020 年度教材"
      ]
    },
    {
      "cell_type": "markdown",
      "metadata": {
        "id": "UbLQzgIu3Kob",
        "colab_type": "text"
      },
      "source": [
        "# まずは世界編"
      ]
    },
    {
      "cell_type": "code",
      "metadata": {
        "id": "XFSkuoAk3Kob",
        "colab_type": "code",
        "colab": {}
      },
      "source": [
        "import numpy as np\n",
        "import pandas as pd\n",
        "import json"
      ],
      "execution_count": 62,
      "outputs": []
    },
    {
      "cell_type": "code",
      "metadata": {
        "id": "qvwL6e5z3Kof",
        "colab_type": "code",
        "colab": {}
      },
      "source": [
        "# Read all data\n",
        "df = pd.read_csv(\"https://opendata.ecdc.europa.eu/covid19/casedistribution/csv\").dropna()\n",
        "print(df.head())"
      ],
      "execution_count": null,
      "outputs": []
    },
    {
      "cell_type": "code",
      "metadata": {
        "id": "RIOAym2L3Koi",
        "colab_type": "code",
        "colab": {}
      },
      "source": [
        "# Convert date to integer (because of Grid Studio limitation)\n",
        "df.dateRep = pd.to_datetime(df.dateRep, format='%d/%m/%Y').dt.strftime('%Y%m%d').astype(int)"
      ],
      "execution_count": 3,
      "outputs": []
    },
    {
      "cell_type": "code",
      "metadata": {
        "id": "GKadYqBN3Kok",
        "colab_type": "code",
        "colab": {}
      },
      "source": [
        "# 日本のデータを表示\n",
        "df_jp = df[df.countriesAndTerritories == 'Japan']\n",
        "df_jp"
      ],
      "execution_count": null,
      "outputs": []
    },
    {
      "cell_type": "code",
      "metadata": {
        "id": "kRRskU-A3Kon",
        "colab_type": "code",
        "colab": {}
      },
      "source": [
        "#df_jp['cases'].plot()\n",
        "import matplotlib.pyplot as plt\n",
        "\n",
        "last = 30\n",
        "d = [x for x in range(len(df_jp['dateRep'][:last]))]\n",
        "plt.plot(df_jp['deaths'][:30])  # 死者数のプロット"
      ],
      "execution_count": null,
      "outputs": []
    },
    {
      "cell_type": "code",
      "metadata": {
        "id": "3TkGNcgA3Kop",
        "colab_type": "code",
        "colab": {}
      },
      "source": [
        "df_jp['deaths'].sum()  # 死者数総計"
      ],
      "execution_count": null,
      "outputs": []
    },
    {
      "cell_type": "code",
      "metadata": {
        "id": "1F1KiNbV3Kos",
        "colab_type": "code",
        "colab": {}
      },
      "source": [
        "df['deaths'].sum()  # 全世界の死者数総計"
      ],
      "execution_count": null,
      "outputs": []
    },
    {
      "cell_type": "code",
      "metadata": {
        "id": "wUKkpn-43Kou",
        "colab_type": "code",
        "colab": {}
      },
      "source": [
        "#df[df.countriesAndTerritories == 'Japan']['deaths'].sum()\n",
        "df[df.countriesAndTerritories == 'Japan']['popData2019']  # 日本の人口数を表示"
      ],
      "execution_count": null,
      "outputs": []
    },
    {
      "cell_type": "code",
      "metadata": {
        "id": "KgZ9Gpad3Kox",
        "colab_type": "code",
        "colab": {}
      },
      "source": [
        "countries = set(sorted(df.countriesAndTerritories))\n",
        "# 登録されている国名を表示\n",
        "for i, c in  enumerate(sorted(countries)):\n",
        "    if (i+1) % 10  == 0:\n",
        "        print('')\n",
        "    print(c,end=\" \")"
      ],
      "execution_count": null,
      "outputs": []
    },
    {
      "cell_type": "code",
      "metadata": {
        "id": "SdUM8PuV3Koz",
        "colab_type": "code",
        "colab": {}
      },
      "source": [
        "unit = 10000  # 単位を 1 万人あたりの死者数に変換するための数\n",
        "for c in ['Japan', 'Taiwan', 'United_States_of_America', 'Spain', 'Italy']:\n",
        "    death_total = df[df.countriesAndTerritories == c]['deaths'].sum()\n",
        "    population =  df[df.countriesAndTerritories == c]['popData2019'].iloc[0]\n",
        "    death_ratio = death_total / population * unit\n",
        "    print('{0:24s} {1:7d} {2:10d} {3:7.4f}'.format(c, death_total, int(population), death_ratio))"
      ],
      "execution_count": null,
      "outputs": []
    },
    {
      "cell_type": "markdown",
      "metadata": {
        "id": "9wx4zu793Ko1",
        "colab_type": "text"
      },
      "source": [
        "# ここから先は東京都のデータ"
      ]
    },
    {
      "cell_type": "code",
      "metadata": {
        "id": "VXS_NR1Z3Ko1",
        "colab_type": "code",
        "colab": {}
      },
      "source": [
        "import json\n",
        "import urllib.request\n",
        "\n",
        "# 東京都の感染者数は https://dev-covid19-tokyo.netlify.app/ で日々公開されている \n",
        "# このサイトのソースコードは以下の GitHub で公開されているので利用させていただく\n",
        "# source: https://github.com/tokyo-metropolitan-gov/covid19\n",
        "tokyo_json_file = 'https://raw.githubusercontent.com/tokyo-metropolitan-gov/covid19/development/data/data.json'\n",
        "\n",
        "# 実際のデータ入手\n",
        "req = urllib.request.Request(tokyo_json_file)\n",
        "with urllib.request.urlopen(req) as response:\n",
        "    data = json.load(response)"
      ],
      "execution_count": 57,
      "outputs": []
    },
    {
      "cell_type": "code",
      "metadata": {
        "id": "3WdxXuLA3Ko4",
        "colab_type": "code",
        "colab": {}
      },
      "source": [
        "# 入手したデータの中身を確認\n",
        "for k in data.keys():\n",
        "    print(k)"
      ],
      "execution_count": null,
      "outputs": []
    },
    {
      "cell_type": "code",
      "metadata": {
        "id": "gQI4CLTe5FIV",
        "colab_type": "code",
        "colab": {}
      },
      "source": [
        "# いくつかのデータを表示\n",
        "print(data['lastUpdate'])\n",
        "data['main_summary']"
      ],
      "execution_count": null,
      "outputs": []
    },
    {
      "cell_type": "code",
      "metadata": {
        "id": "m95s704H3Ko6",
        "colab_type": "code",
        "colab": {}
      },
      "source": [
        "# 別のデータを表示\n",
        "data['main_summary']['children']"
      ],
      "execution_count": null,
      "outputs": []
    },
    {
      "cell_type": "code",
      "metadata": {
        "id": "XaiB73po3Ko8",
        "colab_type": "code",
        "colab": {}
      },
      "source": [
        "# 過去 n_last 日分の感染者データを表示\n",
        "n_last = 7\n",
        "data['patients_summary']['data'][-n_last:]\n",
        "for x in data['patients_summary']['data'][-n_last:]:\n",
        "    print(x['小計'])"
      ],
      "execution_count": null,
      "outputs": []
    },
    {
      "cell_type": "code",
      "metadata": {
        "id": "jowVeB3X3Ko-",
        "colab_type": "code",
        "colab": {}
      },
      "source": [
        "# 過去 n_last 日分の感染者数を描画\n",
        "n_last = 118\n",
        "\n",
        "plt.figure(figsize=(12, 8)) # 画像のサイズ指定 (横(インチ), 縦(インチ))\n",
        "patients_ = [x['小計'] for x in data['patients_summary']['data'][-n_last:]]\n",
        "#plt.plot(patients_)\n",
        "plt.bar(range(len(patients_)), patients_)\n",
        "save_file_name = '2020-0518Tokyo_covid19_patients_summary.png'\n",
        "plt.savefig(save_file_name)"
      ],
      "execution_count": null,
      "outputs": []
    },
    {
      "cell_type": "code",
      "metadata": {
        "id": "-QRJCmHH6tf-",
        "colab_type": "code",
        "colab": {}
      },
      "source": [
        "# 自分の PC にグラフをダウンロード\n",
        "from google.colab import files\n",
        "files.download(save_file_name)"
      ],
      "execution_count": null,
      "outputs": []
    },
    {
      "cell_type": "code",
      "metadata": {
        "id": "9Q9XqI-w3KpA",
        "colab_type": "code",
        "colab": {}
      },
      "source": [
        "plt.plot(patients_)"
      ],
      "execution_count": null,
      "outputs": []
    },
    {
      "cell_type": "code",
      "metadata": {
        "id": "tvDHmSIb3KpC",
        "colab_type": "code",
        "colab": {}
      },
      "source": [
        "print(data['inspection_persons']['datasets'][0]['label'])\n",
        "print(data['inspection_persons']['datasets'][0]['data'])\n",
        "plt.plot(data['inspection_persons']['datasets'][0]['data'][-n_last:])"
      ],
      "execution_count": null,
      "outputs": []
    },
    {
      "cell_type": "code",
      "metadata": {
        "id": "TRCIJBUn3KpE",
        "colab_type": "code",
        "colab": {}
      },
      "source": [
        "data['main_summary']"
      ],
      "execution_count": null,
      "outputs": []
    },
    {
      "cell_type": "code",
      "metadata": {
        "id": "F8Mo45Cg3KpG",
        "colab_type": "code",
        "colab": {}
      },
      "source": [
        ""
      ],
      "execution_count": null,
      "outputs": []
    }
  ]
}