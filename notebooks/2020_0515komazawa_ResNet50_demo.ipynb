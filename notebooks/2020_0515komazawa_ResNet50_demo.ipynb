{
  "nbformat": 4,
  "nbformat_minor": 0,
  "metadata": {
    "colab": {
      "name": "2020-0515komazawa_ResNet50_demo.ipynb",
      "provenance": [],
      "private_outputs": true,
      "authorship_tag": "ABX9TyMnc8FuOMjO5mBqM31XiQwt",
      "include_colab_link": true
    },
    "kernelspec": {
      "name": "python3",
      "display_name": "Python 3"
    },
    "accelerator": "GPU"
  },
  "cells": [
    {
      "cell_type": "markdown",
      "metadata": {
        "id": "view-in-github",
        "colab_type": "text"
      },
      "source": [
        "<a href=\"https://colab.research.google.com/github/komazawa-deep-learning/komazawa-deep-learning.github.io/blob/master/notebooks/2020_0515komazawa_ResNet50_demo.ipynb\" target=\"_parent\"><img src=\"https://colab.research.google.com/assets/colab-badge.svg\" alt=\"Open In Colab\"/></a>"
      ]
    },
    {
      "cell_type": "markdown",
      "metadata": {
        "id": "2vLZu8Yf-EWW",
        "colab_type": "text"
      },
      "source": [
        "# 2020年度駒澤大学 心理学特講IIIA  画像認識デモ\n",
        "- date: 2020-0515\n",
        "- author: 浅川伸一\n",
        "- note\b\b: 初めての画像認識"
      ]
    },
    {
      "cell_type": "code",
      "metadata": {
        "id": "mByQBshCL0r1",
        "colab_type": "code",
        "colab": {}
      },
      "source": [
        "import numpy as np\n",
        "import PIL\n",
        "import matplotlib.pyplot as plt\n",
        "%matplotlib inline\n",
        "\n",
        "from keras.applications.resnet50 import ResNet50\n",
        "from keras.applications.resnet50 import preprocess_input, decode_predictions\n",
        "from keras.preprocessing import image"
      ],
      "execution_count": 0,
      "outputs": []
    },
    {
      "cell_type": "code",
      "metadata": {
        "id": "wCfR2BOMf4aJ",
        "colab_type": "code",
        "colab": {}
      },
      "source": [
        "import json\n",
        "!wget https://gist.githubusercontent.com/PonDad/4dcb4b242b9358e524b4ddecbee385e9/raw/dda9454f74aa4fafee991ca8b848c9ab6ae0e732/imagenet_class_index.json\n",
        "\n",
        "# ImageNet のラベル一覧の読み込み\n",
        "with open('imagenet_class_index.json') as f:\n",
        "    data = json.load(f)\n",
        "    class_names = np.array([row['ja'] for row in data])\n"
      ],
      "execution_count": 0,
      "outputs": []
    },
    {
      "cell_type": "code",
      "metadata": {
        "id": "KM3Oc_2CgBSm",
        "colab_type": "code",
        "colab": {}
      },
      "source": [
        "def recognize(image_path='cat.jpg'):\n",
        "    model = ResNet50(weights='imagenet')\n",
        "    img = image.load_img(image_path, target_size=(224, 224))\n",
        "    x = image.img_to_array(img)\n",
        "    x = np.expand_dims(x, axis=0)\n",
        "    x = preprocess_input(x)\n",
        "\n",
        "    preds = model.predict(x)\n",
        "    scores = preds[0]\n",
        "    top5_classes = scores.argsort()[-5:][::-1]  # トップ5\n",
        "\n",
        "    # 推論結果の表示\n",
        "    for name, score in zip(class_names[top5_classes], scores[top5_classes]):\n",
        "        print('{}: {:.2%}'.format(name, score))\n",
        "    #return preds"
      ],
      "execution_count": 0,
      "outputs": []
    },
    {
      "cell_type": "code",
      "metadata": {
        "id": "51SfwbOjMC5j",
        "colab_type": "code",
        "colab": {}
      },
      "source": [
        "model = ResNet50()\n",
        "model.summary()\n",
        "print('model.input_shape', model.input_shape)  # model.input_shape (None, 224, 224, 3)\n",
        "from keras.preprocessing import image as kimage"
      ],
      "execution_count": 0,
      "outputs": []
    },
    {
      "cell_type": "code",
      "metadata": {
        "id": "rgcbDoQSML_a",
        "colab_type": "code",
        "colab": {}
      },
      "source": [
        "# インターネット上に転がっている画像を持ってきます。ただし著作権に注意してください\n",
        "!wget https://www.axa-direct.co.jp/pet/pet-ms/img/media/2018/07/img_akita_kind-dog_kv.jpg\n",
        "!ln -s img_akita_kind-dog_kv.jpg image.jpg"
      ],
      "execution_count": 0,
      "outputs": []
    },
    {
      "cell_type": "code",
      "metadata": {
        "id": "bzmcbaN3b6hu",
        "colab_type": "code",
        "colab": {}
      },
      "source": [
        "# 画像を表示\n",
        "import matplotlib.pyplot as plt\n",
        "%matplotlib inline\n",
        "from PIL import Image\n",
        "plt.imshow(Image.open('image.jpg'))"
      ],
      "execution_count": 0,
      "outputs": []
    },
    {
      "cell_type": "code",
      "metadata": {
        "id": "xU4_qGWEbsvi",
        "colab_type": "code",
        "colab": {}
      },
      "source": [
        "recognize(image_path='image.jpg')"
      ],
      "execution_count": 0,
      "outputs": []
    },
    {
      "cell_type": "code",
      "metadata": {
        "id": "wPo4g0cTN3-i",
        "colab_type": "code",
        "colab": {}
      },
      "source": [
        "# 他の画像も試してみましょう\n",
        "#https://www.newsweekjapan.jp/stories/world/2019/05/post-12204.php\n",
        "!wget https://www.newsweekjapan.jp/stories/assets_c/2019/05/botsuwana-105701467-thumb-720xauto-160450.jpg\n",
        "!rm image.jpg\n",
        "!ln -s botsuwana-105701467-thumb-720xauto-160450.jpg image.jpg"
      ],
      "execution_count": 0,
      "outputs": []
    },
    {
      "cell_type": "code",
      "metadata": {
        "id": "l1e_EtabOQSS",
        "colab_type": "code",
        "colab": {}
      },
      "source": [
        "plt.imshow(Image.open('image.jpg'))  # 画像の表示\n",
        "preds = recognize(image_path='image.jpg')  # 認識"
      ],
      "execution_count": 0,
      "outputs": []
    },
    {
      "cell_type": "code",
      "metadata": {
        "id": "CVAFqH0cOfUQ",
        "colab_type": "code",
        "colab": {}
      },
      "source": [
        "# 自分の PC に入っている画像を試してみましょう\n",
        "from google.colab import files\n",
        "uploaded = files.upload()"
      ],
      "execution_count": 0,
      "outputs": []
    },
    {
      "cell_type": "code",
      "metadata": {
        "id": "ikw_GnS29Hmf",
        "colab_type": "code",
        "colab": {}
      },
      "source": [
        "!ls"
      ],
      "execution_count": 0,
      "outputs": []
    },
    {
      "cell_type": "code",
      "metadata": {
        "id": "BQRkPu3b9S8H",
        "colab_type": "code",
        "colab": {}
      },
      "source": [
        "plt.show(Image.open('2018Feb_AIacceralator.jpg'))   # PCからアップロードしたファイル名を書く\n",
        "#preds =  recognize(image_path='2018Feb_AIacceralator.jpg')"
      ],
      "execution_count": 0,
      "outputs": []
    },
    {
      "cell_type": "code",
      "metadata": {
        "id": "4gA111Nl9wI7",
        "colab_type": "code",
        "colab": {}
      },
      "source": [
        ""
      ],
      "execution_count": 0,
      "outputs": []
    }
  ]
}