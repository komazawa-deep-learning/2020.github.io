{
  "nbformat": 4,
  "nbformat_minor": 0,
  "metadata": {
    "colab": {
      "name": "2020-0619word2vec.ipynb",
      "provenance": [],
      "collapsed_sections": [],
      "include_colab_link": true
    },
    "kernelspec": {
      "display_name": "Python 3",
      "language": "python",
      "name": "python3"
    }
  },
  "cells": [
    {
      "cell_type": "markdown",
      "metadata": {
        "id": "view-in-github",
        "colab_type": "text"
      },
      "source": [
        "<a href=\"https://colab.research.google.com/github/komazawa-deep-learning/komazawa-deep-learning.github.io/blob/master/notebooks/2020_0619word2vec.ipynb\" target=\"_parent\"><img src=\"https://colab.research.google.com/assets/colab-badge.svg\" alt=\"Open In Colab\"/></a>"
      ]
    },
    {
      "cell_type": "markdown",
      "metadata": {
        "id": "b31yw4PFDP7r",
        "colab_type": "text"
      },
      "source": [
        "# 2020 word2vec によるアナロジー\n",
        "\n",
        "<div align='right'>\n",
        "<a href='mailto:asakawa@ieee.org'>Shin Aasakawa</a>, all rights reserved.<br>\n",
        "Date: 19/Jun/2020<br>\n",
        " MIT license\n",
        "</div>\n",
        "\n"
      ]
    },
    {
      "cell_type": "markdown",
      "metadata": {
        "id": "2AxEXTJtQ2OD",
        "colab_type": "text"
      },
      "source": [
        "<center>\n",
        "\n",
        "<img src=\"https://komazawa-deep-learning.github.io/assets/2013Mikolov_KingQueenFig.svg\" width=\"600\"><br/>\n",
        "From Mikolov et. al (2013) Linguistic Regularities in Continuous SpaceWord Representations, Fig. 2<br/>\n",
        "<br/>\n",
        "<br/>\n",
        "\n",
        "<img src=\"https://komazawa-deep-learning.github.io/assets/2013Mikolov_FigCountries.svg\" width=\"680\"><br/>\n",
        "Modified from Mikolv et. al (2013) Distributed Representations of Words and Phrases and their Compositionality, Fig. 2</br/>\n",
        "\n",
        "<br/><br/>\n",
        "<img src=\"https://komazawa-deep-learning.github.io/assets/2013Mikolov_Fig1.svg\" width=\"840\"><br/>\n",
        "</center>\n"
      ]
    },
    {
      "cell_type": "markdown",
      "metadata": {
        "id": "aXK5jC53WmWi",
        "colab_type": "text"
      },
      "source": [
        "\n",
        "$$\n",
        "\\ell=\\frac{1}{T}\\sum_{t=1}^{T}\\sum_{-c\\ge j\\ge c,j\\ne0}\\log p\\left(w_{t+1}\\vert w_{t}\\right),\n",
        "$$\n",
        "\n",
        "$$\n",
        "p\\left(w_o\\vert w_i\\right)=\\frac{\\exp(v_{w_{o}}^\\top v_{w_{w_i}})}{\\sum\\exp(v_{w_{o}}^\\top v_{w_{w_i}})}\n",
        "$$"
      ]
    },
    {
      "cell_type": "code",
      "metadata": {
        "id": "5NOJVZZMC0TJ",
        "colab_type": "code",
        "colab": {}
      },
      "source": [
        "# -*- coding: utf-8 -*-\n",
        "from six.moves.urllib import request\n",
        "\n",
        "import numpy as np\n",
        "import os\n",
        "import sys\n",
        "import gensim"
      ],
      "execution_count": null,
      "outputs": []
    },
    {
      "cell_type": "code",
      "metadata": {
        "id": "f4JI08HKVC_W",
        "colab_type": "code",
        "colab": {}
      },
      "source": [
        "!wget http://www.cis.twcu.ac.jp/~asakawa/2017jpa/2017Jul_jawiki-wakati_neologd_hid200_win20_neg20_cbow.bin.gz\n",
        "#!wget http://www.cis.twcu.ac.jp/~asakawa/2017jpa/2017Jul_jawiki-wakati_neologd_hid200_win20_neg20_sgns.bin.gz\n",
        "#!wget http://www.cis.twcu.ac.jp/~asakawa/2017jpa/2017Jul_jawiki-wakati_neologd_hid300_win20_neg20_sgns.bin.gz'\n",
        "#!wget http://www.cis.twcu.ac.jp/~asakawa/2017jpa/2017Jul_jawiki-wakati_neologd_hid200_win20_neg20_cbow.bin.g"
      ],
      "execution_count": null,
      "outputs": []
    },
    {
      "cell_type": "code",
      "metadata": {
        "id": "Yqfd5fBcC0Tw",
        "colab_type": "code",
        "colab": {}
      },
      "source": [
        "word2vec_file='2017Jul_jawiki-wakati_neologd_hid200_win20_neg20_cbow.bin.gz'\n",
        "model = gensim.models.KeyedVectors.load_word2vec_format(word2vec_file, \n",
        "                                                        encoding='utf-8', \n",
        "                                                        unicode_errors='replace', \n",
        "                                                        binary=True)"
      ],
      "execution_count": null,
      "outputs": []
    },
    {
      "cell_type": "code",
      "metadata": {
        "id": "MLgAKPceC0T2",
        "colab_type": "code",
        "colab": {}
      },
      "source": [
        "model.most_similar(positive=['woman', 'king'], negative=['man'], topn=5)"
      ],
      "execution_count": null,
      "outputs": []
    },
    {
      "cell_type": "code",
      "metadata": {
        "id": "dORxdWn4C0T7",
        "colab_type": "code",
        "colab": {}
      },
      "source": [
        "model.most_similar(positive=['王','女'], negative=['男'], topn=10)"
      ],
      "execution_count": null,
      "outputs": []
    },
    {
      "cell_type": "code",
      "metadata": {
        "id": "6-43g9qSC0T_",
        "colab_type": "code",
        "colab": {}
      },
      "source": [
        "model.most_similar(positive=['日本心理学会'], negative=['心理学'], topn=10)\n",
        "model.most_similar(positive=['心理学'], negative=['科学'], topn=10)\n",
        "model.most_similar(positive=['心理学'], negative=['実験'], topn=10)"
      ],
      "execution_count": null,
      "outputs": []
    },
    {
      "cell_type": "code",
      "metadata": {
        "id": "ZbsVQ2ZaC0UC",
        "colab_type": "code",
        "colab": {}
      },
      "source": [
        "model.most_similar(positive=['言語','実験'], topn=10)\n",
        "model.most_similar(positive=['言語学','心理学'], topn=10)"
      ],
      "execution_count": null,
      "outputs": []
    },
    {
      "cell_type": "code",
      "metadata": {
        "id": "JwDbFhUmC0UE",
        "colab_type": "code",
        "colab": {}
      },
      "source": [
        "model.most_similar(positive=['聴覚','認知科学'], topn=5)\n",
        "model.most_similar(positive=['視覚','認知科学'], topn=5)\n",
        "model.most_similar(positive=['視覚','認知心理学'], topn=5)\n",
        "model.most_similar(positive=['言語','思考'], topn=5)"
      ],
      "execution_count": null,
      "outputs": []
    },
    {
      "cell_type": "code",
      "metadata": {
        "id": "e1jHd_H1C0UH",
        "colab_type": "code",
        "colab": {}
      },
      "source": [
        "model.most_similar(positive=['ユニクロ','錦織圭'], negative=['テニス'], topn=10)"
      ],
      "execution_count": null,
      "outputs": []
    },
    {
      "cell_type": "code",
      "metadata": {
        "id": "TDEXEKtHC0UK",
        "colab_type": "code",
        "colab": {}
      },
      "source": [
        "model.most_similar(positive=['ジャイアンツ','アメリカ'], negative=['日本'], topn=10)"
      ],
      "execution_count": null,
      "outputs": []
    },
    {
      "cell_type": "code",
      "metadata": {
        "id": "3quDlVwpC0UN",
        "colab_type": "code",
        "colab": {}
      },
      "source": [
        "model.most_similar(positive=['ユニクロ'], negative=['アパレル'], topn=10)\n",
        "model.most_similar(positive=['ユニクロ','アメリカ'], negative=['日本'], topn=10)\n",
        "model.most_similar(positive=['ユニクロ','ソフトバンク'], negative=['アパレル'], topn=10)"
      ],
      "execution_count": null,
      "outputs": []
    },
    {
      "cell_type": "code",
      "metadata": {
        "id": "KCPDGV0PC0UR",
        "colab_type": "code",
        "colab": {}
      },
      "source": [
        "model.most_similar(positive=['1','10'], negative=['+'], topn=5)\n",
        "model.most_similar(positive=['2','1'], negative=['+'], topn=5)\n",
        "model.most_similar(positive=['2','1','-'], topn=5)"
      ],
      "execution_count": null,
      "outputs": []
    },
    {
      "cell_type": "code",
      "metadata": {
        "id": "1c308SFDC0UU",
        "colab_type": "code",
        "colab": {}
      },
      "source": [
        "model.most_similar(positive=['NTT', '中国'], topn=10)"
      ],
      "execution_count": null,
      "outputs": []
    },
    {
      "cell_type": "code",
      "metadata": {
        "id": "0slKlslIC0UW",
        "colab_type": "code",
        "colab": {}
      },
      "source": [
        "model.most_similar(positive=['東京', '皇居'], topn=10)\n",
        "model.most_similar(positive=['ユニクロ', '楽天'], negative=['IT企業'], topn=10)\n",
        "model.most_similar(positive=['ユニクロ', '無印良品'], topn=10)"
      ],
      "execution_count": null,
      "outputs": []
    },
    {
      "cell_type": "code",
      "metadata": {
        "id": "MYJmb27mC0UY",
        "colab_type": "code",
        "colab": {}
      },
      "source": [
        "model.similarity('女性', '男性')"
      ],
      "execution_count": null,
      "outputs": []
    },
    {
      "cell_type": "code",
      "metadata": {
        "id": "YRpEWDtWC0Ua",
        "colab_type": "code",
        "colab": {}
      },
      "source": [
        "model['computer']  # raw NumPy vector of a word"
      ],
      "execution_count": null,
      "outputs": []
    },
    {
      "cell_type": "code",
      "metadata": {
        "id": "d65m-1raC0Uc",
        "colab_type": "code",
        "colab": {}
      },
      "source": [
        "model['コンピュータ']  # raw NumPy vector of a word"
      ],
      "execution_count": null,
      "outputs": []
    },
    {
      "cell_type": "code",
      "metadata": {
        "id": "14qdfOJ6C0Ue",
        "colab_type": "code",
        "colab": {}
      },
      "source": [
        "model.similarity('computer', 'コンピュータ')"
      ],
      "execution_count": null,
      "outputs": []
    },
    {
      "cell_type": "code",
      "metadata": {
        "id": "2Ynaeq3mC0Uh",
        "colab_type": "code",
        "colab": {}
      },
      "source": [
        "model.similarity('女性', '女')"
      ],
      "execution_count": null,
      "outputs": []
    },
    {
      "cell_type": "code",
      "metadata": {
        "id": "ZDT_IqOKC0Ui",
        "colab_type": "code",
        "colab": {}
      },
      "source": [
        "model.similarity('コーヒー', '紅茶')"
      ],
      "execution_count": null,
      "outputs": []
    },
    {
      "cell_type": "code",
      "metadata": {
        "id": "4xl2jP8eC0Uk",
        "colab_type": "code",
        "colab": {}
      },
      "source": [
        "model.similarity('ビール', '日本酒')"
      ],
      "execution_count": null,
      "outputs": []
    },
    {
      "cell_type": "code",
      "metadata": {
        "id": "Q5FiigpyC0Un",
        "colab_type": "code",
        "colab": {}
      },
      "source": [
        "model.most_similar(positive=['Berlin', 'Germany'], negative=['Paris'], topn=1)"
      ],
      "execution_count": null,
      "outputs": []
    },
    {
      "cell_type": "code",
      "metadata": {
        "id": "Hj5ODmY5C0Uo",
        "colab_type": "code",
        "colab": {}
      },
      "source": [
        "model.most_similar(positive=['ドイツ','フランス'], negative=['ベルリン'], topn=5)"
      ],
      "execution_count": null,
      "outputs": []
    },
    {
      "cell_type": "code",
      "metadata": {
        "id": "D0hwUP9KC0Uq",
        "colab_type": "code",
        "colab": {}
      },
      "source": [
        "model.most_similar(positive=['京都','皇居'], negative=['東京'], topn=5)"
      ],
      "execution_count": null,
      "outputs": []
    },
    {
      "cell_type": "code",
      "metadata": {
        "id": "iMPsMhThC0Ur",
        "colab_type": "code",
        "colab": {}
      },
      "source": [
        "model.most_similar(positive=['東京','早稲田大学'], negative=['大阪'], topn=5)"
      ],
      "execution_count": null,
      "outputs": []
    },
    {
      "cell_type": "code",
      "metadata": {
        "id": "VOha6Wm3C0Ut",
        "colab_type": "code",
        "colab": {}
      },
      "source": [
        "model.most_similar(positive=['納豆','豆腐'], negative=['大豆'],topn=10)"
      ],
      "execution_count": null,
      "outputs": []
    },
    {
      "cell_type": "code",
      "metadata": {
        "id": "-D-SJw8QC0Uu",
        "colab_type": "code",
        "colab": {}
      },
      "source": [
        "model.most_similar(positive=['権力', '麻薬'], topn=10)"
      ],
      "execution_count": null,
      "outputs": []
    },
    {
      "cell_type": "code",
      "metadata": {
        "id": "QFOD8pTXC0Uv",
        "colab_type": "code",
        "colab": {}
      },
      "source": [
        "model.most_similar(positive=['治療', '修理'], topn=10)"
      ],
      "execution_count": null,
      "outputs": []
    },
    {
      "cell_type": "code",
      "metadata": {
        "id": "NMorvt0hC0Ux",
        "colab_type": "code",
        "colab": {}
      },
      "source": [
        "model.most_similar(positive=['月', 'お盆'], topn=10)"
      ],
      "execution_count": null,
      "outputs": []
    },
    {
      "cell_type": "code",
      "metadata": {
        "id": "qHPl4VALC0Uy",
        "colab_type": "code",
        "colab": {}
      },
      "source": [
        ""
      ],
      "execution_count": null,
      "outputs": []
    }
  ]
}