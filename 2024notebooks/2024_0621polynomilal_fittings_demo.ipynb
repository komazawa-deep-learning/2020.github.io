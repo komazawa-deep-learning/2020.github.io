{
  "nbformat": 4,
  "nbformat_minor": 0,
  "metadata": {
    "colab": {
      "private_outputs": true,
      "provenance": [],
      "authorship_tag": "ABX9TyNOmvSmPQPy20MQT0D3kWAL",
      "include_colab_link": true
    },
    "kernelspec": {
      "name": "python3",
      "display_name": "Python 3"
    }
  },
  "cells": [
    {
      "cell_type": "markdown",
      "metadata": {
        "id": "view-in-github",
        "colab_type": "text"
      },
      "source": [
        "<a href=\"https://colab.research.google.com/github/komazawa-deep-learning/komazawa-deep-learning.github.io/blob/master/2024notebooks/2024_0621polynomilal_fittings_demo.ipynb\" target=\"_parent\"><img src=\"https://colab.research.google.com/assets/colab-badge.svg\" alt=\"Open In Colab\"/></a>"
      ]
    },
    {
      "cell_type": "markdown",
      "metadata": {
        "id": "Frdmnsb8V8t7"
      },
      "source": [
        "# 多項式回帰と多層パーセプトロン (MLP: Multi-Layered Perceptrons)  によるアンダーフィッティング，オーバーフィッテイング\n",
        "\n",
        "- author: 浅川伸一\n",
        "- date: 2024_0621\n"
      ]
    },
    {
      "cell_type": "code",
      "metadata": {
        "id": "vK-H16gcPkcn"
      },
      "source": [
        "%config InlineBackend.figure_format = 'retina'\n",
        "# 準備作業必要なライブラリを輸入\n",
        "import numpy as np\n",
        "import sys\n",
        "import matplotlib.pyplot as plt\n",
        "try:\n",
        "    import japanize_matplotlib\n",
        "except ImportError:\n",
        "    !pip install japanize_matplotlib\n",
        "    import japanize_matplotlib"
      ],
      "execution_count": null,
      "outputs": []
    },
    {
      "cell_type": "code",
      "metadata": {
        "id": "DhC3yXkRPmKm"
      },
      "source": [
        "# データの作成。ここではサイン曲線を用いる\n",
        "N_sample = 100   # データ数\n",
        "X = np.linspace(0, 6 * np.pi, N_sample)  # 0 から 6 π の範囲を X 入力値とする\n",
        "y = np.sin(X)                            # X の範囲の正弦（サイン）関数の値を y とする\n",
        "\n",
        "plt.figure(figsize=(8, 4))   # 表示サイズ，単位はインチ\n",
        "plt.title('正弦波 (sine) 曲線')\n",
        "plt.plot(X, y)               # X, y の値で図を描画\n",
        "plt.show()"
      ],
      "execution_count": null,
      "outputs": []
    },
    {
      "cell_type": "code",
      "metadata": {
        "id": "7SguTr3LPtEo"
      },
      "source": [
        "def make_poly(points, n_ord):\n",
        "    # n_ord 次の多項式を定義 ここで n_ord: 1, 2, ..., n_ord すなわち 1 次から n_ord 字までの多項式を指定\n",
        "    n_points = len(points)\n",
        "    data = [np.ones(n_points)]\n",
        "    for n in range(n_ord):\n",
        "        data.append(points ** (n+1))  # Python では記号 ** でべき乗を意味する\n",
        "    return np.vstack(data).T"
      ],
      "execution_count": null,
      "outputs": []
    },
    {
      "cell_type": "markdown",
      "source": [
        "線形回帰，重回帰モデルは，$\\displaystyle\\mathbf{Y}=\\mathbf{XW}$ と書くことができる。\n",
        "\n",
        "ここで，$\\mathbf{X}$  はデータ行列，$\\mathbf{Y}$ は予測すべき変数行列，$\\mathbf{W}$ は係数行列である。\n",
        "与式を $\\mathbf{W}$ について解けば，以下のようになる:\n",
        "\n",
        "$$\\begin{aligned}\n",
        "\\mathbf{Y} &= \\mathbf{XW}\\\\\n",
        "\\mathbf{X}^{\\top}\\mathbf{Y} &=\\mathbf{X}^{\\top}\\mathbf{XW}\\\\\n",
        "\\left(\\mathbf{X}^{\\top}\\mathbf{X}\\right)^{-1}\\mathbf{X}^{\\top}\\mathbf{Y} &= \\left(\\mathbf{X}^{\\top}\\mathbf{X}\\right)^{-1}\\mathbf{X}^{\\top}\\mathbf{XW}.\\\\\n",
        "\\end{aligned}$$\n",
        "\n",
        "従って，係数行列 $\\mathbf{W}$ は次式のように書くことができる:\n",
        "$$\n",
        "\\mathbf{W} = \\left(\\mathbf{X}^{\\top}\\mathbf{X}\\right)^{-1} \\mathbf{X}^{\\top}\\mathbf{Y}\n",
        "$$\n",
        "\n",
        "このことから，データ $\\mathbf{X}$ と $\\mathbf{Y}$ とが与えられたとき，回帰モデルによる予測値 $\\mathbf{Y}^{\\star}$ は，\n",
        "$\\mathbf{P}=\\mathbf{X}\\left(\\mathbf{X}^{\\top}\\mathbf{X}\\right)^{-1}\\mathbf{X}$ とすれば，\n",
        "$\\displaystyle{\\mathbf{\\hat{Y}}}=\\mathbf{PY}$ のように表すことができる。"
      ],
      "metadata": {
        "id": "E-X0pd4sCPVU"
      }
    },
    {
      "cell_type": "code",
      "metadata": {
        "id": "KFg5PvqoPvbr"
      },
      "source": [
        "def linfit(X, Y):\n",
        "    # 重回帰による近似解を返す関数\n",
        "    return np.linalg.solve(np.dot(X.T,X), np.dot(X.T,Y))"
      ],
      "execution_count": null,
      "outputs": []
    },
    {
      "cell_type": "markdown",
      "source": [
        "なお，`numpy` では，行列の積を `.dot` で表し，行列の転置 を `.T` で表す。\n",
        "従って，上のセルでは，回帰方程式 $\\mathbf{X}^{\\top}\\mathbf{X}=\\mathbf{X}^{\\top}\\mathbf{Y}$ を解く関数が `np.linalg.solve()` 関数である。"
      ],
      "metadata": {
        "id": "27tB67ZVGWXq"
      }
    },
    {
      "cell_type": "code",
      "metadata": {
        "id": "acIY5Hc_P4lo"
      },
      "source": [
        "n_samples = 10  # データから n_sample 個の点をサンプリングするために使う\n",
        "n_data = len(X)\n",
        "\n",
        "# 実際のサンプリング\n",
        "# n_data 個のデータ点から n_samples 個のデータをランダムサンプリングして train_idx に保存\n",
        "train_idx = np.random.choice(n_data, n_samples)\n",
        "\n",
        "X_train = X[train_idx]   # サンプリングされた X の値\n",
        "y_train = y[train_idx]   # サンプリングされた y の値\n",
        "\n",
        "# 次行 in の後のカッコ内の数字の多項式を用いた回帰式を計算し描画\n",
        "for n in (2, 3, 4, 5, 6, 7):\n",
        "#for n in (6, 7, 8, 30):\n",
        "\n",
        "    n_ord = n + 1  # プラス 1 するのはお約束\n",
        "    Xtrain_poly = make_poly(X_train, n_ord)  # 多項式回帰のための準備\n",
        "    w = linfit(Xtrain_poly, y_train)         # 実際の多項式に当てはめた時の回帰係数\n",
        "\n",
        "    X_poly = make_poly(X, n_ord)             # 真の値\n",
        "    y_hat = np.dot(X_poly, w)                # 予測値を y_hat として計算し保存\n",
        "\n",
        "    plt.figure(figsize=(8, 4))               # 横 8 インチ，縦 4 インチの図の枠組みを指定\n",
        "\n",
        "    plt.plot(X, y)                           # オリジナルのデータ曲線，サイン波の描画\n",
        "    plt.plot(X, y_hat)                       # 多項回帰に基づく曲線の描画\n",
        "    plt.scatter(X_train, y_train)            # サンプリングされた点の描画\n",
        "    plt.title(f\"{n_ord} 次式回帰\")           # 図のタイトルの表示\n",
        "\n",
        "    plt.ylim(-1.5,2.5)                       # y 軸の範囲を設定\n",
        "    plt.show()"
      ],
      "execution_count": null,
      "outputs": []
    },
    {
      "cell_type": "markdown",
      "source": [
        "上のセルで，多項回帰の次数を変えて描画せよ。"
      ],
      "metadata": {
        "id": "Zq5_b69kIMXJ"
      }
    },
    {
      "cell_type": "markdown",
      "source": [
        "# MLP による回帰"
      ],
      "metadata": {
        "id": "1RhKIxzcIWJS"
      }
    },
    {
      "cell_type": "code",
      "source": [
        "import sys"
      ],
      "metadata": {
        "id": "0b7Kg8GnPACq"
      },
      "execution_count": null,
      "outputs": []
    },
    {
      "cell_type": "code",
      "source": [
        "# scikit-learn から多層パーセプトロン分類器を輸入\n",
        "from sklearn.neural_network import MLPRegressor\n",
        "\n",
        "def fit_and_display(X:np.array,\n",
        "                    y:np.array,\n",
        "                    X_train:np.array,\n",
        "                    y_train:np.array,\n",
        "                    #n_samples:int,\n",
        "                    n_ord:int):\n",
        "\n",
        "    mlp = MLPRegressor()  #alpha=0.01,hidden_layer_sizes=(n_ord,),verbose=False,max_iter=1000)\n",
        "    X_poly = make_poly(X_train, n_ord)\n",
        "    mlp.fit(X_poly, y_train)\n",
        "\n",
        "    X_poly_ = make_poly(X, n_ord)\n",
        "    y_hat = mlp.predict(X_poly_)\n",
        "\n",
        "    plt.figure(figsize=(8, 4))               # 横 8 インチ，縦 4 インチの図の枠組みを指定\n",
        "    plt.plot(X, y)\n",
        "    plt.scatter(X_train, y_train)\n",
        "    plt.plot(X, y_hat)\n",
        "    plt.title(f\"{n_ord} 次近似\")\n",
        "    plt.ylim(-1.5,2.5)                       # y 軸の範囲を設定\n",
        "\n",
        "    plt.show()\n",
        "\n",
        "X = np.linspace(0, 6 * np.pi, N_sample)  # 0 から 6 π の範囲を X 入力値とする\n",
        "y = np.sin(X)                            # X の範囲の正弦（サイン）関数の値を y とする\n",
        "\n",
        "n_samples = 10  # データから n_sample 個の点をサンプリングするために使う\n",
        "n_data = len(X)\n",
        "train_idx = np.random.choice(n_data, n_samples)\n",
        "X_train = np.array(X[train_idx])\n",
        "y_train = np.array(y[train_idx])\n",
        "\n",
        "for n_ord in (1,2,4,8,10):\n",
        "    fit_and_display(X, y, X_train, y_train, n_ord)\n"
      ],
      "metadata": {
        "id": "ger2Uajb3xde"
      },
      "execution_count": null,
      "outputs": []
    },
    {
      "cell_type": "code",
      "source": [],
      "metadata": {
        "id": "JmhTnIypQuQs"
      },
      "execution_count": null,
      "outputs": []
    }
  ]
}