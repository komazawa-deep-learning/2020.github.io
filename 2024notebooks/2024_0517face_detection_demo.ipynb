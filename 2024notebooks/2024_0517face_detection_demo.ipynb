{
  "cells": [
    {
      "cell_type": "markdown",
      "metadata": {
        "id": "view-in-github",
        "colab_type": "text"
      },
      "source": [
        "<a href=\"https://colab.research.google.com/github/komazawa-deep-learning/komazawa-deep-learning.github.io/blob/master/2024notebooks/2024_0517face_detection_demo.ipynb\" target=\"_parent\"><img src=\"https://colab.research.google.com/assets/colab-badge.svg\" alt=\"Open In Colab\"/></a>"
      ]
    },
    {
      "cell_type": "markdown",
      "metadata": {
        "id": "-TzXNGcT5C5F"
      },
      "source": [
        "<!-- <div align=\"center\">\n",
        "<img src=\"https://koma-sso.komazawa-u.ac.jp/idp/images/header_logo.png\">\n",
        "</div>\n",
        " -->\n",
        "# 顔検出デモ\n",
        "\n",
        "- date: 2024_0516\n",
        "- original date: 2020-0529\n",
        "- author: 浅川伸一\n",
        "\n",
        "<div align='right'>\n",
        "<a href='mailto:educ0233@komazawa-u.ac.jp'>Shin Aasakawa</a>, all rights reserved.<br>\n",
        "Date: 17/May/2024<br/>\n",
        "Appache 2.0 license<br/>\n",
        "</div>\n"
      ]
    },
    {
      "cell_type": "code",
      "execution_count": null,
      "metadata": {
        "id": "1KM3DIdcYy49"
      },
      "outputs": [],
      "source": [
        "import cv2\n",
        "import numpy as np\n",
        "import matplotlib.pyplot as plt\n",
        "import dlib\n",
        "\n",
        "import IPython\n",
        "isColab = 'google.colab' in str(IPython.get_ipython())\n",
        "\n",
        "try:\n",
        "    import japanize_matplotlib\n",
        "except ImportError:\n",
        "    !pip install japanize_matplotlib\n",
        "    import japanize_matplotlib\n",
        "\n",
        "# 訓練済の顔検出データを持って，解凍します\n",
        "try:\n",
        "    dnnFaceDetector = dlib.cnn_face_detection_model_v1(\"mmod_human_face_detector.dat\")\n",
        "except:\n",
        "    !wget https://github.com/davisking/dlib-models/raw/master/mmod_human_face_detector.dat.bz2\n",
        "    !bunzip2 mmod_human_face_detector.dat.bz2\n",
        "    dnnFaceDetector = dlib.cnn_face_detection_model_v1(\"mmod_human_face_detector.dat\")"
      ]
    },
    {
      "cell_type": "markdown",
      "metadata": {
        "id": "F1L7mfotex5j"
      },
      "source": [
        "-  外部から画像を読み込みには `!wget <URL>`\n",
        "- あるいは自分の PC からアップロードするには以下のセルを参照してください"
      ]
    },
    {
      "cell_type": "code",
      "execution_count": null,
      "metadata": {
        "id": "66Y4GewbcScm"
      },
      "outputs": [],
      "source": [
        "from google.colab import files\n",
        "files.upload()"
      ]
    },
    {
      "cell_type": "code",
      "execution_count": null,
      "metadata": {
        "id": "0UU-VDNieNs9"
      },
      "outputs": [],
      "source": [
        "# 上でアップロードしたファイルのファイル名を `face.jpg` というファイル名に変更します\n",
        "!mv 19960222_004.jpg face.jpg"
      ]
    },
    {
      "cell_type": "code",
      "execution_count": null,
      "metadata": {
        "id": "9DjJ7aWmZsY4"
      },
      "outputs": [],
      "source": [
        "#!wget https://img.freepik.com/premium-photo/girl-with-sad-look-her-face_81048-26310.jpg -O face.jpg\n",
        "#!wget -O face.jpg https://img.freepik.com/premium-photo/collage-of-the-same-woman-making-diferent-expressions_118342-33763.jpg\n",
        "#!wget -O face.jpg https://img.freepik.com/free-photo/monochrome-portrait-of-sad-woman_23-2150761738.jpg\n",
        "!wget -O face.jpg https://img.freepik.com/premium-photo/young-pretty-oriental-asian-girl-smiling-and-taking-photo-outdoors-with-exquisite-facial-features_912113-286238.jpg\n",
        "\n",
        "# イラスト顔\n",
        "#!wget -O face.jpg https://img.freepik.com/free-vector/sketches-people-avatars-with-colourful-clothes_23-2148456358.jpg\n",
        "#!wget -O face.jpg https://t.pimg.jp/110/469/658/1/110469658.jpg\n",
        "#!wget -O face.jpg https://as2.ftcdn.net/v2/jpg/04/31/88/13/1000_F_431881391_xS8k3QIKo8v2OIpsp1cWLiVf3SSsulli.jpg"
      ]
    },
    {
      "cell_type": "code",
      "execution_count": null,
      "metadata": {
        "id": "h11g_DGNepNU"
      },
      "outputs": [],
      "source": [
        "# 画像を表示してみます\n",
        "import PIL\n",
        "\n",
        "img = np.array(PIL.Image.open('face.jpg').convert('RGB'))\n",
        "#print(img.convert('RGB'))\n",
        "# img = plt.imread('face.jpg')\n",
        "plt.figure(figsize=(6,6))\n",
        "plt.axis('off')\n",
        "plt.title(f'画像のサイズ:{img.shape}')\n",
        "plt.imshow(img)\n",
        "plt.show()"
      ]
    },
    {
      "cell_type": "code",
      "execution_count": null,
      "metadata": {
        "id": "dHistlItnILV"
      },
      "outputs": [],
      "source": [
        "dnnFaceDetector = dlib.cnn_face_detection_model_v1(\"mmod_human_face_detector.dat\")\n",
        "\n",
        "# 顔領域を検出します。\n",
        "rects = dnnFaceDetector(np.array(img), 1)\n",
        "\n",
        "# 検出した顔領域にバウンディングボックスを描きます\n",
        "for (i, rect) in enumerate(rects):\n",
        "\n",
        "    x1 = rect.rect.left()\n",
        "    y1 = rect.rect.top()\n",
        "    x2 = rect.rect.right()\n",
        "    y2 = rect.rect.bottom()\n",
        "\n",
        "    # Rectangle around the face\n",
        "    #cv2.rectangle(img, (x1, y1), (x2, y2), (255, 255, 255), 3)\n",
        "    cv2.rectangle(img, (x1, y1), (x2, y2), (255, 0, 0), 3)"
      ]
    },
    {
      "cell_type": "code",
      "execution_count": null,
      "metadata": {
        "id": "7WsSLiv2pdgV",
        "scrolled": true
      },
      "outputs": [],
      "source": [
        "# 結果を表示します\n",
        "plt.figure(figsize=(6,6))\n",
        "plt.title(f'検出できた顔領域の数:{len(rects)}')\n",
        "plt.axis(\"off\")\n",
        "plt.imshow(img)\n",
        "plt.show()"
      ]
    },
    {
      "cell_type": "code",
      "execution_count": null,
      "metadata": {
        "id": "v7-t_DZTrtpu"
      },
      "outputs": [],
      "source": []
    }
  ],
  "metadata": {
    "accelerator": "GPU",
    "colab": {
      "private_outputs": true,
      "provenance": [],
      "include_colab_link": true
    },
    "kernelspec": {
      "display_name": "Python 3 (ipykernel)",
      "language": "python",
      "name": "python3"
    },
    "language_info": {
      "codemirror_mode": {
        "name": "ipython",
        "version": 3
      },
      "file_extension": ".py",
      "mimetype": "text/x-python",
      "name": "python",
      "nbconvert_exporter": "python",
      "pygments_lexer": "ipython3",
      "version": "3.10.13"
    }
  },
  "nbformat": 4,
  "nbformat_minor": 0
}