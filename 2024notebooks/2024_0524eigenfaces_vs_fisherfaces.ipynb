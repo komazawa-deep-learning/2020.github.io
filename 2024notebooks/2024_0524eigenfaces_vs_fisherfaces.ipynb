{
  "nbformat": 4,
  "nbformat_minor": 0,
  "metadata": {
    "colab": {
      "private_outputs": true,
      "provenance": [],
      "authorship_tag": "ABX9TyPLegRZ8pIn8Q73QIKHVu8m",
      "include_colab_link": true
    },
    "kernelspec": {
      "name": "python3",
      "display_name": "Python 3"
    },
    "language_info": {
      "name": "python"
    }
  },
  "cells": [
    {
      "cell_type": "markdown",
      "metadata": {
        "id": "view-in-github",
        "colab_type": "text"
      },
      "source": [
        "<a href=\"https://colab.research.google.com/github/komazawa-deep-learning/komazawa-deep-learning.github.io/blob/master/2024notebooks/2024_0524eigenfaces_vs_fisherfaces.ipynb\" target=\"_parent\"><img src=\"https://colab.research.google.com/assets/colab-badge.svg\" alt=\"Open In Colab\"/></a>"
      ]
    },
    {
      "cell_type": "code",
      "execution_count": null,
      "metadata": {
        "id": "lKKl2T1oofh_"
      },
      "outputs": [],
      "source": [
        "import os\n",
        "import sys\n",
        "import PIL.Image as Image\n",
        "import numpy as np\n",
        "import matplotlib.pyplot as plt\n",
        "\n",
        "np.set_printoptions(precision=2, suppress=True)\n",
        "\n",
        "import IPython\n",
        "isColab = 'google.colab' in str(IPython.get_ipython())\n",
        "\n",
        "try:\n",
        "    import japanize_matplotlib\n",
        "except ImportError:\n",
        "    !pip install japanize_matplotlib\n",
        "    import japanize_matplotlib"
      ]
    },
    {
      "cell_type": "markdown",
      "source": [
        "$$\n",
        "\\newcommand{\\mb}[1]{\\mathbf{#1}}\n",
        "\\newcommand{\\Brc}[1]{\\left(#1\\right)}\n",
        "\\newcommand{\\Rank}{\\text{rank}\\;}\n",
        "\\newcommand{\\Hat}[1]{\\widehat{#1}}\n",
        "\\newcommand{\\Prj}[1]{\\mb{#1}\\Brc{\\mb{#1}^{\\top}\\mb{#1}}^{-1}\\mb{#1}^{\\top}}\n",
        "\\newcommand{\\RegP}[2]{\\Brc{\\mb{#1}^{\\top}\\mb{#1}}^{-1}\\mb{#1}^{\\top}\\mb{#2}}\n",
        "\\newcommand{\\NSQ}[1]{\\left|\\mb{#1}\\right|^2}\n",
        "\\newcommand{\\Norm}[1]{\\left|#1\\right|}\n",
        "\\newcommand{\\IP}[2]{\\left({#1}\\cdot{#2}\\right)}\n",
        "\\newcommand{\\Bar}[1]{\\overline{\\;#1\\;}}\n",
        "$$\n",
        "\n",
        "\n",
        "$$\\begin{aligned}\n",
        "\\mb{Y}               &= \\mb{XW}               & & \\text{:オリジナル問題 中学数学 $y=ax$ の一般化}\\\\\n",
        "\\mb{X}^{\\top} \\mb{Y} &= \\mb{X}^{\\top} \\mb{XW} & & \\text{:両辺に左から $\\mb{X}$ の転置行列を掛ける}\\\\\n",
        "\\left(\\mb{X}^{\\top} \\mb{X}\\right)^{-1} \\mb{X}^{\\top} \\mb{Y} &= \\left(\\mb{X}^{\\top} \\mb{X}\\right)^{-1} \\left(\\mb{X}^{\\top} \\mb{X}\\right) \\mb{W}\n",
        "& & \\text{: 両辺に左から $\\mb{X}^{\\top}\\mb{X}$ の逆行列を掛ける}\\\\\n",
        "\\left(\\mb{X}^{\\top} \\mb{X}\\right)^{-1} \\mb{X}^{\\top} \\mb{Y} &= \\mb{W} & & \\text{: $\\mb{A}^{-1}\\mb{A}=\\mb{I}$ すなわち単位行列となるので右辺 RHS の $\\mb{X}$ に関連する因子は消える}\\\\\n",
        "\\end{aligned}$$\n",
        "\n",
        "\n",
        "上式 $\\mb{W} = \\left(\\mb{X}^{\\top} \\mb{X}\\right)^{-1} \\mb{X}^{\\top} \\mb{Y}$ を元の式に代入すると，$\\mb{Y}$ の予測行列 $\\Hat{\\mb{Y}}$ の推定値を得ることができる:\n",
        "\n",
        "$$\\Hat{\\mb{Y}} = \\mb{X} \\left(\\mb{X}^{\\top} \\mb{X}\\right)^{-1} \\mb{X}^{\\top} \\mb{Y}\n",
        "$$\n",
        "\n",
        "$\\mb{X} \\left(\\mb{X}^{\\top} \\mb{X}\\right)^{-1} \\mb{X}^{\\top} = \\mb{P}$ を $\\mb{X}$ で張られる空間への射影行列と呼ぶ。\n"
      ],
      "metadata": {
        "id": "wFrxC8isojx3"
      }
    },
    {
      "cell_type": "code",
      "source": [
        "import numpy as np\n",
        "from sklearn.datasets import fetch_olivetti_faces\n",
        "from sklearn import datasets\n",
        "\n",
        "data = fetch_olivetti_faces()\n",
        "D, y = data.data, data.target\n",
        "\n",
        "X = D - D.mean(axis=0)\n",
        "Cov = X.T @ X\n",
        "Cov_inv = np.linalg.inv(Cov)\n",
        "\n",
        "P = X @ Cov_inv @ X.T\n",
        "print(f'P.shape:{P.shape}')\n",
        "\n",
        "Y = np.zeros((len(y),len(set(y))))\n",
        "for i, _y in enumerate(y):\n",
        "    Y[i,_y]= 1\n",
        "\n",
        "print(\n",
        "    f\"X.T.shape:{X.T.shape}\\n\",\n",
        "    f\"Cov.shape:{Cov.shape}\\n\",\n",
        "f\"Cov_inv.shape:{Cov_inv.shape}\\n\",\n",
        "f\"P.shape:{P.shape}\\n\",\n",
        "f\"Y.shape:{Y.shape}\")"
      ],
      "metadata": {
        "id": "rT65zMsmogEJ"
      },
      "execution_count": null,
      "outputs": []
    },
    {
      "cell_type": "code",
      "source": [
        "def Prj(D:np.array)->np.array:\n",
        "    mu = D.mean(axis=0)\n",
        "    X = D - mu\n",
        "    Cov = X.T @ X\n",
        "    Cov_inv = np.linalg.inv(Cov)\n",
        "    det_Cov = np.linalg.det(Cov)\n",
        "    P = X @ Cov_inv @ X.T\n",
        "    return P, Cov, mu, det_Cov\n",
        "\n",
        "X, y = data.data, data.target\n",
        "Y = np.zeros((len(y),len(set(y))))\n",
        "for i, _y in enumerate(y):\n",
        "    Y[i,_y]= 1\n",
        "\n",
        "#Eig_val, Eig_vec, mu = pca(X, n_components=5)"
      ],
      "metadata": {
        "id": "2nxoDLTqowBa"
      },
      "execution_count": null,
      "outputs": []
    },
    {
      "cell_type": "code",
      "source": [
        "def pca(X, n_components=0):\n",
        "    [n,d] = X.shape\n",
        "    if (n_components <= 0) or (n_components>n):\n",
        "        n_components = n\n",
        "    mu = X.mean(axis=0)\n",
        "    X = X - mu\n",
        "\n",
        "    if n>d:\n",
        "        Cov = X.T @ X\n",
        "        [Eig_val, Eig_vec] = np.linalg.eigh(Cov)\n",
        "    else:\n",
        "        Cov = X @ X.T\n",
        "        [Eig_val, Eig_vec] = np.linalg.eigh(Cov)\n",
        "        Eig_vec = X.T @ Eig_vec\n",
        "        for i in range(n):\n",
        "            Eig_vec[:,i] = Eig_vec[:,i]/np.linalg.norm(Eig_vec[:,i])\n",
        "\n",
        "    # 別解として，特異値分解 SVD を用いて固有値を算出する方法もある。\n",
        "    # Eig_vec, Eig_val, Var = np.linalg.svd(X.T, full_matrices=False)\n",
        "\n",
        "    # 固有値の大きい順に並べ替え\n",
        "    idx = np.argsort(-Eig_val)\n",
        "    Eig_val = Eig_val[idx]\n",
        "    Eig_vec = Eig_vec[:,idx]\n",
        "\n",
        "    # 引数で与えられた成分だけを取り出す\n",
        "    Eig_val = Eig_val[:n_components].copy()\n",
        "    Eig_vec = Eig_vec[:,0:n_components].copy()\n",
        "    return [Eig_val, Eig_vec, mu]"
      ],
      "metadata": {
        "id": "sziSmKd1ozyY"
      },
      "execution_count": null,
      "outputs": []
    },
    {
      "cell_type": "code",
      "source": [
        "[E_val, E_vec, mu] = pca(X, n_components=14 ** 2)"
      ],
      "metadata": {
        "id": "r1bP9tNqo3Lx"
      },
      "execution_count": null,
      "outputs": []
    },
    {
      "cell_type": "code",
      "source": [
        "def normalize(X, low, high, dtype=None):\n",
        "    X = np.asarray(X)\n",
        "    minX, maxX = np.min(X), np.max(X)\n",
        "\n",
        "    # normalize to [0...1].\n",
        "    X = X - float(minX)\n",
        "    X = X / float((maxX - minX))\n",
        "\n",
        "    # scale to [low...high].\n",
        "    X = X * (high-low)\n",
        "    X = X + low\n",
        "    if dtype is None:\n",
        "        return np.asarray(X)\n",
        "    return np.asarray(X, dtype=dtype)"
      ],
      "metadata": {
        "id": "U0RfefKYo8A9"
      },
      "execution_count": null,
      "outputs": []
    },
    {
      "cell_type": "code",
      "source": [
        "E = []\n",
        "for i in range(64):\n",
        "#for i in range(min(len(X), 14 * 14)):\n",
        "    e = E_vec[:,i]\n",
        "    #e = W[:,i].reshape(X[0].shape)\n",
        "    E.append(normalize(e,0,255))\n"
      ],
      "metadata": {
        "id": "6p9_s1J2pB9o"
      },
      "execution_count": null,
      "outputs": []
    },
    {
      "cell_type": "code",
      "source": [
        "from sklearn.model_selection import train_test_split\n",
        "# split into a training and testing set\n",
        "X_train, X_test, y_train, y_test = train_test_split(\n",
        "    X, y, test_size=0.1, random_state=42)"
      ],
      "metadata": {
        "id": "UL9Grn9ZpFZ3"
      },
      "execution_count": null,
      "outputs": []
    },
    {
      "cell_type": "code",
      "source": [
        "num_features = n_components = 150\n",
        "num_features = n_components = 49\n",
        "\n",
        "print(f\"上位 {n_components:d} 成分の固有顔を {X_train.shape[0]:d} から抽出\")\n"
      ],
      "metadata": {
        "id": "pDvCBYpkpo91"
      },
      "execution_count": null,
      "outputs": []
    },
    {
      "cell_type": "code",
      "source": [
        "nrows = 7   # nrows 人分のデータを表示\n",
        "ncols = 7\n",
        "fig, fig_axes = plt.subplots(ncols=ncols, nrows=nrows, figsize=(ncols * 1.4, nrows * 1.4), constrained_layout=True)\n",
        "# constrained_layout は subplot や 凡例やカラーバーなどの装飾を自動的に調整して，\n",
        "# ユーザが要求する論理的なレイアウトをできるだけ維持しながら， 図ウィンドウに収まるようにします。\n",
        "\n",
        "for i in range(nrows):\n",
        "    for j in range(ncols):\n",
        "        x = i * 7 + j\n",
        "        fig_axes[i][j].imshow(E_vec[:,x].reshape(64,64), cmap='gray')\n",
        "        fig_axes[i][j].axis('off')\n",
        "        fig_axes[i][j].set_title(f'num:{x}, ID:{y[x]}')"
      ],
      "metadata": {
        "id": "w3FjT6hXpxzx"
      },
      "execution_count": null,
      "outputs": []
    },
    {
      "cell_type": "code",
      "source": [
        "class AbstractDistance(object):\n",
        "    def __init__(self, name):\n",
        "        self._name = name\n",
        "\n",
        "    def __call__(self,p,q):\n",
        "        raise NotImplementedError(\"Every AbstractDistance must implement the __call__ method.\")\n",
        "\n",
        "    @property\n",
        "    def name(self):\n",
        "        return self._name\n",
        "\n",
        "    def __repr__(self):\n",
        "        return self._name\n",
        "\n",
        "\n",
        "class EuclideanDistance(AbstractDistance):\n",
        "    def __init__(self):\n",
        "        AbstractDistance.__init__(self,\"EuclideanDistance\")\n",
        "\n",
        "    def __call__(self, p, q):\n",
        "        p = np.asarray(p).flatten()\n",
        "        q = np.asarray(q).flatten()\n",
        "        return np.sqrt(np.sum(np.power((p-q),2)))\n",
        "\n",
        "\n",
        "class CosineDistance(AbstractDistance):\n",
        "\n",
        "        def __init__(self):\n",
        "            AbstractDistance.__init__(self,\"CosineDistance\")\n",
        "\n",
        "        def __call__(self, p, q):\n",
        "            p = np.asarray(p).flatten()\n",
        "            q = np.asarray(q).flatten()\n",
        "            return -np.dot(p.T,q) / (np.sqrt(np.dot(p,p.T)*np.dot(q,q.T)))\n"
      ],
      "metadata": {
        "id": "YWb0Tvsdp8Cw"
      },
      "execution_count": null,
      "outputs": []
    },
    {
      "cell_type": "code",
      "source": [
        "class BaseModel(object):\n",
        "    def __init__(self,\n",
        "                 X=None, y=None,\n",
        "                 dist_metric=EuclideanDistance(),\n",
        "                 num_components=0):\n",
        "        self.dist_metric = dist_metric\n",
        "        self.num_components = 0\n",
        "        self.Proj = []\n",
        "        self.W = []\n",
        "        self.mu = []\n",
        "        if (X is not None) and (y is not None):\n",
        "            self.compute(X,y)\n",
        "\n",
        "        def compute(self, X, y):\n",
        "            raise NotImplementedError(\"Every BaseModel must implement the compute method.\")\n",
        "\n",
        "        def predict(self, X):\n",
        "            minDist = np.finfo('float').max\n",
        "            minClass = -1\n",
        "            Q = project(self.W, X.reshape(1,-1), self.mu)\n",
        "            for i in range(len(self.Proj)):\n",
        "                dist = self.dist_metric(self.projections[i], Q)\n",
        "                if dist < minDist:\n",
        "                    minDist = dist\n",
        "                    minClass = self.y[i]\n",
        "            return minClass\n",
        "\n",
        "\n",
        "class EigenfacesModel(BaseModel):\n",
        "\n",
        "        def __init__(self,\n",
        "                     X=None, y=None,\n",
        "                     dist_metric=EuclideanDistance(),\n",
        "                     num_components=0):\n",
        "            super().__init__(\n",
        "                X=X,\n",
        "                y=y,\n",
        "                dist_metric=dist_metric,\n",
        "                num_components=num_components)\n",
        "\n",
        "        def compute(self, X, y):\n",
        "            [D, self.W, self.mu] = pca(asRowMatrix(X),y, self.num_components)\n",
        "\n",
        "            # store labels\n",
        "            self.y = y\n",
        "\n",
        "            # store projections\n",
        "            for xi in X:\n",
        "                self.projections.append(project(self.W, xi.reshape(1,-1), self.mu))\n",
        "\n",
        "\n",
        "class FisherfacesModel(BaseModel):\n",
        "\n",
        "        def __init__(self,\n",
        "                     X=None, y=None,\n",
        "                     dist_metric=EuclideanDistance(),\n",
        "                     num_components=0):\n",
        "            super().__init__(\n",
        "                X=X,\n",
        "                y=y,\n",
        "                dist_metric=dist_metric,\n",
        "                num_components=num_components)\n",
        "\n",
        "        def compute(self, X, y):\n",
        "            [D, self.W, self.mu] = fisherfaces(asRowMatrix(X),y, self.num_components)\n",
        "\n",
        "            # store labels\n",
        "            self.y = y\n",
        "\n",
        "            # store projections\n",
        "            for xi in X:\n",
        "                self.Proj.append(project(self.W, xi.reshape(1,-1), self.mu))"
      ],
      "metadata": {
        "id": "zuGt7Rc2qCNT"
      },
      "execution_count": null,
      "outputs": []
    },
    {
      "cell_type": "code",
      "source": [
        "def project(W, X, mu=None):\n",
        "    if mu is None:\n",
        "        return np.dot(X,W)\n",
        "    return np.dot(X - mu, W)\n",
        "\n",
        "def reconstruct(W, Y, mu=None):\n",
        "    if mu is None:\n",
        "        return np.dot(Y,W.T)\n",
        "    return np.dot(Y, W.T) + mu"
      ],
      "metadata": {
        "id": "blHoX12PrQYE"
      },
      "execution_count": null,
      "outputs": []
    },
    {
      "cell_type": "code",
      "source": [
        "def lda(X, y, n_components=0):\n",
        "    y = np.asarray(y)\n",
        "    [n,d] = X.shape\n",
        "\n",
        "    c = np.unique(y)\n",
        "    if (n_components <= 0) or (n_component>(len(c)-1)):\n",
        "        n_components = (len(c)-1)\n",
        "    meanTotal = X.mean(axis=0)\n",
        "\n",
        "    Sw = np.zeros((d, d), dtype=np.float32)\n",
        "    Sb = np.zeros((d, d), dtype=np.float32)\n",
        "\n",
        "    for i in c:\n",
        "        Xi = X[np.where(y==i)[0],:]\n",
        "        meanClass = Xi.mean(axis=0)\n",
        "        Sw = Sw + np.dot((Xi-meanClass).T, (Xi-meanClass))\n",
        "        Sb = Sb + n * np.dot((meanClass - meanTotal).T, (meanClass - meanTotal))\n",
        "\n",
        "    Eig_val, Eig_vec = np.linalg.eig(np.linalg.inv(Sw)*Sb)\n",
        "    idx = np.argsort(-Eig_val.real)\n",
        "    Eig_val, Eig_vec = Eig_val[idx], Eig_vec[:,idx]\n",
        "    Eig_val = np.array(Eig_val[0:n_components].real, dtype=np.float32, copy=True)\n",
        "    Eig_vec = np.array(Eig_vec[0:,0:n_components].real, dtype=np.float32, copy=True)\n",
        "    return [Eig_val, Eig_vec]\n",
        "\n",
        "\n",
        "def fisherfaces(X,y,n_components=0):\n",
        "    y = np.asarray(y)\n",
        "    [n,d] = X.shape\n",
        "    c = len(np.unique(y))\n",
        "    [Eig_val_pca, Eig_vec_pca, mu_pca] = pca(X, (n-c))\n",
        "    [Eig_val_lda, Eig_vec_lda] = lda(project(Eig_vec_pca, X, mu_pca), y, n_components)\n",
        "    Eig_vec = np.dot(Eig_vec_pca, Eig_vec_lda)\n",
        "    return [Eig_val_lda, Eig_vec, mu_pca]"
      ],
      "metadata": {
        "id": "aKrig15sqCd0"
      },
      "execution_count": null,
      "outputs": []
    },
    {
      "cell_type": "code",
      "source": [
        "[D, W, mu] = fisherfaces (X, y)\n",
        "\n",
        "E = []\n",
        "for i in range(36):\n",
        "    e = W[:,i] #.reshape (X[0].shape)\n",
        "    E.append(normalize(e,0,255))\n",
        "\n",
        "\n",
        "# plot them and store the plot to\n",
        "nrows = 6   # nrows 人分のデータを表示\n",
        "ncols = 6\n",
        "fig, fig_axes = plt.subplots(ncols=ncols, nrows=nrows, figsize=(ncols * 1.4, nrows * 1.4), constrained_layout=True)\n",
        "# constrained_layout は subplot や 凡例やカラーバーなどの装飾を自動的に調整して，\n",
        "# ユーザが要求する論理的なレイアウトをできるだけ維持しながら， 図ウィンドウに収まるようにします。\n",
        "\n",
        "for i in range(nrows):\n",
        "    for j in range(ncols):\n",
        "        x = i * 4 + j\n",
        "        fig_axes[i][j].imshow(E[x].reshape(64,64), cmap='gray')\n",
        "        fig_axes[i][j].axis('off')\n",
        "        fig_axes[i][j].set_title(f'num:{x}, ID:{y[x]}')"
      ],
      "metadata": {
        "id": "JEGLPc8ZqK2f"
      },
      "execution_count": null,
      "outputs": []
    },
    {
      "cell_type": "code",
      "source": [],
      "metadata": {
        "id": "Fi5kPMuOqM0f"
      },
      "execution_count": null,
      "outputs": []
    }
  ]
}