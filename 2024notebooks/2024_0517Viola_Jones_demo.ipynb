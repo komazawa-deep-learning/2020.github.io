{
  "nbformat": 4,
  "nbformat_minor": 0,
  "metadata": {
    "colab": {
      "private_outputs": true,
      "provenance": [],
      "authorship_tag": "ABX9TyMOQfY5rc9PjF8+DZYy8cum",
      "include_colab_link": true
    },
    "kernelspec": {
      "name": "python3",
      "display_name": "Python 3"
    },
    "language_info": {
      "name": "python"
    }
  },
  "cells": [
    {
      "cell_type": "markdown",
      "metadata": {
        "id": "view-in-github",
        "colab_type": "text"
      },
      "source": [
        "<a href=\"https://colab.research.google.com/github/komazawa-deep-learning/komazawa-deep-learning.github.io/blob/master/2024notebooks/2024_0517Viola_Jones_demo.ipynb\" target=\"_parent\"><img src=\"https://colab.research.google.com/assets/colab-badge.svg\" alt=\"Open In Colab\"/></a>"
      ]
    },
    {
      "cell_type": "markdown",
      "source": [
        "# ヴィオラ=ジョーンズ アルゴリズム (従来手法) による顔認識実験\n",
        "\n",
        "- author: 浅川伸一\n",
        "- date: 2024_0517\n",
        "- original_date: 2021_0930\n",
        "- filename: 2021_0930viola_jones.ipynb\n",
        "- licence: MIT license\n",
        "- original dataset: http://www.ai.mit.edu/courses/6.899/lectures/faces.tar.gz"
      ],
      "metadata": {
        "id": "lYTpp2lqdGqc"
      }
    },
    {
      "cell_type": "code",
      "execution_count": null,
      "metadata": {
        "id": "WDWVXM2ObQXn"
      },
      "outputs": [],
      "source": [
        "import IPython\n",
        "isColab = 'google.colab' in str(IPython.get_ipython())\n",
        "\n",
        "try:\n",
        "    import violajones.IntegralImage as integralimage\n",
        "except ImportError:\n",
        "    # ライブラリの読み込み\n",
        "    !git clone https://github.com/Simon-Hohberg/Viola-Jones.git\n",
        "    !mv Viola-Jones/violajones .\n",
        "\n",
        "    import violajones.IntegralImage as integralimage\n",
        "\n",
        "import violajones.AdaBoost as adaboost\n",
        "#import violajones.Utils as utils\n",
        "#from IPython.core.display import Image, display\n",
        "import violajones.IntegralImage as integralimage"
      ]
    },
    {
      "cell_type": "code",
      "source": [
        "# データの読み込み\n",
        "# 元データは http://www.ai.mit.edu/courses/6.899/lectures/faces.tar.gz\n",
        "# 授業用にデータ数を少なくしてあります\n",
        "\n",
        "if isColab:\n",
        "    !wget https://komazawa-deep-learning.github.io/2021komazawa_faces.tgz -O 2021komazawa_faces.tgz\n",
        "    !tar xzf 2021komazawa_faces.tgz"
      ],
      "metadata": {
        "id": "wuks8h9Lbids"
      },
      "execution_count": null,
      "outputs": []
    },
    {
      "cell_type": "code",
      "source": [
        "# test/non-face のデータが 23k もあって時間がかかるので，0.1 倍にした\n",
        "pos_training_path = 'data/train/face'\n",
        "neg_training_path = 'data/train/non-face'\n",
        "pos_testing_path = 'data/test/face'\n",
        "neg_testing_path = 'data/test/non-face'\n",
        "\n",
        "num_classifiers = 20\n",
        "# For performance reasons restricting feature size\n",
        "min_feature_height = 4\n",
        "max_feature_height = 10\n",
        "min_feature_width = 4\n",
        "max_feature_width = 10\n",
        "\n",
        "import os\n",
        "import numpy as np\n",
        "from PIL import Image\n",
        "\n",
        "def _load_images(path):\n",
        "    images = []\n",
        "    fnames = []\n",
        "    for _file in os.listdir(path):\n",
        "        if _file.endswith('.png'):\n",
        "            fnames.append(_file)\n",
        "            img_arr = np.array(Image.open((os.path.join(path, _file))), dtype=float)\n",
        "            img_arr /= img_arr.max()\n",
        "            images.append(img_arr)\n",
        "    return images, fnames\n",
        "\n",
        "print('訓練用顔画像の読み込み...', end=\"\")\n",
        "faces_training, train_pos_fnames = _load_images(pos_training_path)\n",
        "faces_ii_training = list(map(integralimage.to_integral_image, faces_training))\n",
        "print(f'..done. {len(faces_training)} 枚の顔画像を読み込みました.')\n",
        "print('訓練用非顔画像の読み込み...', end=\"\")\n",
        "non_faces_training, train_neg_fnames = _load_images(neg_training_path)\n",
        "non_faces_ii_training = list(map(integralimage.to_integral_image, non_faces_training))\n",
        "print(f'..done. {len(non_faces_training)} 枚の非顔画像を読み込みました.')\n",
        "\n",
        "print('検証用顔画像の読み込み..', end=\"\")\n",
        "faces_testing, test_pos_fnames = _load_images(pos_testing_path)\n",
        "faces_ii_testing = list(map(integralimage.to_integral_image, faces_testing))\n",
        "print(f'..done. {len(faces_testing)} 枚の顔画像を読み込みました.')\n",
        "print('検証用非顔画像の読み込み..', end=\"\")\n",
        "non_faces_testing, test_neg_fnames = _load_images(neg_testing_path)\n",
        "non_faces_ii_testing = list(map(integralimage.to_integral_image, non_faces_testing))\n",
        "print(f'..done. {len(non_faces_testing)} 枚の非顔画像を読み込みました.')"
      ],
      "metadata": {
        "id": "UstqGgJZcl9C"
      },
      "execution_count": null,
      "outputs": []
    },
    {
      "cell_type": "code",
      "source": [
        "%%time\n",
        "# このセルを実行すると時間がかかります 20−30 分くらい\n",
        "classifiers = adaboost.learn(faces_ii_training, non_faces_ii_training,\n",
        "                             num_classifiers,\n",
        "                             min_feature_height, max_feature_height,\n",
        "                             min_feature_width, max_feature_width)"
      ],
      "metadata": {
        "id": "taqBHN6Ccope"
      },
      "execution_count": null,
      "outputs": []
    },
    {
      "cell_type": "code",
      "source": [
        "print('Testing selected classifiers..', end=\"\")\n",
        "correct_faces = sum(utils.ensemble_vote_all(faces_ii_testing, classifiers))\n",
        "correct_non_faces = len(non_faces_testing) - sum(utils.ensemble_vote_all(non_faces_ii_testing, classifiers))\n",
        "print('..done.)\n",
        "\n",
        "print('Result:')\n",
        "print(f'  顔: {correct_faces:>5d}/{len(faces_testing):>5d}',\n",
        "      f'({float(correct_faces)/len(faces_testing) * 100:.3f}%)')\n",
        "print(f' 非顔: {correct_non_faces:>5d}/{len(non_faces_testing):>5d}',\n",
        "      f'({float(correct_non_faces)/len(non_faces_testing) * 100:.3f}%)')\n",
        "\n",
        "tp = correct_faces\n",
        "fp = len(non_faces_testing) - correct_non_faces\n",
        "fn = len(face_testing) - correct_faces\n",
        "precision = tp / (tp + fp)\n",
        "recall = tp / (tp + fp)\n",
        "f1 = 1/(1/precision + 1/recall))\n",
        "\n",
        "print(f'精度: {precision:.3f}')\n",
        "print(f'再現率: {recall:.3f}')\n",
        "print(f'F1 値: {f1:.3f}')\n",
        "\n"
      ],
      "metadata": {
        "id": "yUE5j-Hhc1xn"
      },
      "execution_count": null,
      "outputs": []
    }
  ]
}