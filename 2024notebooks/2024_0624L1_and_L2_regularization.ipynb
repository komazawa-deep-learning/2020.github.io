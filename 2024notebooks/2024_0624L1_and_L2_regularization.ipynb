{
  "nbformat": 4,
  "nbformat_minor": 0,
  "metadata": {
    "colab": {
      "private_outputs": true,
      "provenance": [],
      "toc_visible": true,
      "authorship_tag": "ABX9TyO7+v9zMWTf1KJ9Wvg+tWbD",
      "include_colab_link": true
    },
    "kernelspec": {
      "name": "python3",
      "display_name": "Python 3"
    },
    "language_info": {
      "name": "python"
    }
  },
  "cells": [
    {
      "cell_type": "markdown",
      "metadata": {
        "id": "view-in-github",
        "colab_type": "text"
      },
      "source": [
        "<a href=\"https://colab.research.google.com/github/komazawa-deep-learning/komazawa-deep-learning.github.io/blob/master/2024notebooks/2024_0624L1_and_L2_regularization.ipynb\" target=\"_parent\"><img src=\"https://colab.research.google.com/assets/colab-badge.svg\" alt=\"Open In Colab\"/></a>"
      ]
    },
    {
      "cell_type": "markdown",
      "source": [
        "# L1, L2 正則化\n",
        "\n",
        "* Source: [Understanding L1 and L2 regularization with analytical and probabilistic views](https://medium.com/intuition/understanding-l1-and-l2-regularization-with-analytical-and-probabilistic-views-8386285210fc)\n",
        "<!--\n",
        "```wget https://gist.githubusercontent.com/tanukon/5bf850ab27b012835da2d1e7a5dd0e19/raw/e3c1365fa2dd88508416ea32652aac03d7502c50/L1%20and%20L2%20regularization.ipynb``` -->\n",
        "\n",
        "<img src=\"https://miro.medium.com/v2/resize:fit:1204/format:webp/0*IgQLm-qC3bBLMHc5.png\">\n"
      ],
      "metadata": {
        "id": "pv-VPuTMu4dw"
      }
    },
    {
      "cell_type": "code",
      "execution_count": null,
      "metadata": {
        "id": "cgBGNIZUu1Nc"
      },
      "outputs": [],
      "source": [
        "import IPython\n",
        "isColab = 'google.colab' in str(IPython.get_ipython())\n",
        "\n",
        "import matplotlib.pyplot as plt\n",
        "try:\n",
        "    import japanize_matplotlib\n",
        "except ImportError:\n",
        "    !pip install japanize_matplotlib\n",
        "    import japanize_matplotlib\n",
        "\n",
        "import numpy as np\n",
        "import matplotlib.pyplot as plt\n",
        "import matplotlib.patches as patches\n",
        "\n",
        "from scipy.stats import laplace, norm\n",
        "\n",
        "from sklearn.preprocessing import PolynomialFeatures\n",
        "from sklearn.linear_model import LinearRegression, Ridge, Lasso\n",
        "\n",
        "try:\n",
        "    from celluloid import Camera\n",
        "except ImportError:\n",
        "    !pip install celluloid\n",
        "    from celluloid import Camera"
      ]
    },
    {
      "cell_type": "markdown",
      "source": [
        "# データの作成"
      ],
      "metadata": {
        "id": "6I7lSD-dvJHc"
      }
    },
    {
      "cell_type": "code",
      "source": [
        "n_samples = 30\n",
        "#n_samples = 50\n",
        "\n",
        "# データ点を等間隔とする\n",
        "x_points = np.linspace(- 2 * np.pi, 2 * np.pi, 300)\n",
        "#x_points = np.linspace(0, 2 * np.pi, 100)\n",
        "\n",
        "# データ点から n_samples 点だけサンプリングする\n",
        "x_sampled = np.random.choice(x_points, n_samples)\n",
        "x = np.sort(x_sampled)\n",
        "\n",
        "# 真の値を決める\n",
        "x_true = np.cos(x)\n",
        "\n",
        "# ノイズを定義\n",
        "noise = np.random.rand(n_samples) / 1.\n",
        "\n",
        "# 真の値とノイズを加えて y とする\n",
        "y = x_true + noise\n",
        "print((x, y))\n",
        "plt.scatter(x, y)"
      ],
      "metadata": {
        "id": "8uD7GNKJ4gqg"
      },
      "execution_count": null,
      "outputs": []
    },
    {
      "cell_type": "markdown",
      "source": [
        "# 多項回帰モデル"
      ],
      "metadata": {
        "id": "r-z-A9zvvQLj"
      }
    },
    {
      "cell_type": "code",
      "source": [
        "#poly = PolynomialFeatures(degree=10)\n",
        "poly = PolynomialFeatures(degree=15)\n",
        "poly_features = poly.fit_transform(x.reshape(-1, 1))\n",
        "\n",
        "poly_regression_model = LinearRegression()\n",
        "poly_regression_model.fit(poly_features, y)\n",
        "\n",
        "y_hat_wo_regularization = poly_regression_model.predict(poly_features)\n",
        "\n",
        "ridge_model = Ridge(alpha=0.01)\n",
        "#ridge_model = Ridge(alpha=0.001)\n",
        "ridge_model.fit(poly_features, y)\n",
        "\n",
        "y_hat_w_regularization = ridge_model.predict(poly_features)"
      ],
      "metadata": {
        "id": "fQhIF9n1vIBp"
      },
      "execution_count": null,
      "outputs": []
    },
    {
      "cell_type": "code",
      "source": [
        "#fig, ax = plt.subplots(1, 2, figsize=(10, 5))\n",
        "fig, ax = plt.subplots(1, 2, figsize=(13, 4))\n",
        "\n",
        "ax[0].plot(x, y_hat_wo_regularization, label='当てはめた曲線', color='orange')\n",
        "ax[0].scatter(x, y, label='サンプリングしたデータ')\n",
        "ax[0].set_xlabel('x')\n",
        "ax[0].set_ylabel('y')\n",
        "ax[0].legend()\n",
        "ax[0].set_title('正則化なし')\n",
        "\n",
        "ax[1].plot(x, y_hat_w_regularization, label='当てはめた曲線', color='orange')\n",
        "ax[1].scatter(x, y, label='サンプリングしたデータ')\n",
        "ax[1].set_xlabel('x')\n",
        "ax[1].set_ylabel('y')\n",
        "ax[1].legend()\n",
        "ax[1].set_title('正則化あり')\n",
        "\n",
        "plt.show()"
      ],
      "metadata": {
        "id": "773Ma29RvRoh"
      },
      "execution_count": null,
      "outputs": []
    },
    {
      "cell_type": "code",
      "source": [
        "# polynomial regession without regularization\n",
        "poly_regression_model.coef_"
      ],
      "metadata": {
        "id": "SLEoZMdKvTUQ"
      },
      "execution_count": null,
      "outputs": []
    },
    {
      "cell_type": "markdown",
      "source": [
        "# LASSO regression"
      ],
      "metadata": {
        "id": "UNVmCBhlvZ1a"
      }
    },
    {
      "cell_type": "code",
      "source": [
        "# the regularization term visualization\n",
        "\n",
        "def func1(x, c = 1):\n",
        "    return x - c\n",
        "\n",
        "def func2(x, c = 1):\n",
        "    return x + c\n",
        "\n",
        "def func3(x, c = 1):\n",
        "    return -x + c\n",
        "\n",
        "def func4(x, c = 1):\n",
        "    return -x - c\n",
        "\n",
        "\n",
        "x = np.linspace(-1, 1, 100)\n",
        "c = 1\n",
        "\n",
        "y1 = func1(x[(x >= 0) & (x <= c)])\n",
        "y2 = func2(x[(x >= -c) & (x <= 0)])\n",
        "y3 = func3(x[(x >= 0) & (x <= c)])\n",
        "y4 = func4(x[(x >= -c) & (x <= 0)])\n",
        "\n",
        "plt.plot(x[(x >= 0) & (x <= c)], y1, color='blue')\n",
        "plt.plot(x[(x >= -c) & (x <= 0)], y2, color='blue')\n",
        "plt.plot(x[(x >= 0) & (x <= c)], y3, color='blue')\n",
        "plt.plot(x[(x >= -c) & (x <= 0)], y4, color='blue')\n",
        "\n",
        "plt.axis('equal')\n",
        "plt.xlabel('w0')\n",
        "plt.ylabel('w1')\n",
        "plt.grid()\n",
        "plt.show()"
      ],
      "metadata": {
        "id": "ONVbce9BvVkC"
      },
      "execution_count": null,
      "outputs": []
    },
    {
      "cell_type": "code",
      "source": [
        "class LassoRegression:\n",
        "    def __init__(self, penalty: float = 1e-6, iterations: int = 30, step: float = 0.1, intercept: bool = False):\n",
        "        self.penalty = penalty\n",
        "        self.iterations = iterations\n",
        "        self.step = step\n",
        "        self.intercept = intercept\n",
        "\n",
        "        self.parameter_list = []\n",
        "\n",
        "    def soft_threshold(self, a, z):\n",
        "        return np.sign(a) * np.maximum(np.abs(a) - self.penalty, 0.) / z\n",
        "\n",
        "    def get_parameters(self, beta):\n",
        "        b0 = beta[0, 0]\n",
        "        b1 = beta[0, 1]\n",
        "\n",
        "        return b0, b1\n",
        "\n",
        "    def fit(self, X, y):\n",
        "        # dataset\n",
        "        self.X = X #/ (np.linalg.norm(X, axis = 0, keepdims=True))\n",
        "        self.y = y\n",
        "\n",
        "        # parameters\n",
        "        self.n, self.p = X.shape\n",
        "        self.beta = np.array([-5, 5]).reshape(-1, 2)\n",
        "\n",
        "        b0, b1 = self.get_parameters(self.beta)\n",
        "        self.parameter_list.append([b0, b1])\n",
        "\n",
        "        # coordinate descent\n",
        "        for i in range(self.iterations):\n",
        "            self.update_parameters()\n",
        "\n",
        "        return self\n",
        "\n",
        "    def update_parameters(self):\n",
        "        # update parameters based on the coordinate descent formula\n",
        "\n",
        "        z = (self. X ** 2).sum(axis=0)\n",
        "\n",
        "        for i in range(self.p):\n",
        "\n",
        "            X_i = self.X[:, i].reshape(-1, 1)\n",
        "\n",
        "            Y_pred_wo_i = np.dot(np.delete(self.X, i, axis=1), np.delete(self.beta, i, axis=1))\n",
        "\n",
        "            a = np.dot(X_i.T, self.y - Y_pred_wo_i)\n",
        "\n",
        "            if self.intercept == True:\n",
        "                if i == 0:\n",
        "                    self.beta[0, i] = a\n",
        "                else:\n",
        "                    self.beta[0, i] = self.soft_threshold(a, z[i])\n",
        "            else:\n",
        "                self.beta[0, i] = self.soft_threshold(a, z[i])\n",
        "\n",
        "        b0, b1 = self.get_parameters(self.beta)\n",
        "        self.parameter_list.append([b0, b1])\n",
        "\n",
        "    def contour_cost_function(self):\n",
        "        b1 = np.arange(-5, 5, self.step)\n",
        "        b2 = np.arange(-5, 5, self.step)\n",
        "\n",
        "        B1, B2 = np.meshgrid(b1, b2)\n",
        "        self.B1 = B1\n",
        "        self.B2 = B2\n",
        "\n",
        "        self.Z = np.array([(1/2) * (1/100) * (np.linalg.norm(Y - X @ np.array([b0, b1]).reshape(1, 2).T) + (abs(b0) + abs(b1))/2) for b0, b1 in zip(np.ravel(B1), np.ravel(B2))]).reshape(B1.shape)\n",
        "\n",
        "    def visualize(self):\n",
        "\n",
        "        self.contour_cost_function()\n",
        "\n",
        "        # create an animation\n",
        "        fig, ax = plt.subplots()\n",
        "        camera = Camera(fig)\n",
        "\n",
        "        for i in range(len(self.parameter_list)):\n",
        "            current_b = self.parameter_list[i]\n",
        "\n",
        "            cs = ax.contour(self.B1, self.B2, self.Z, 30, cmap='jet')\n",
        "            ax.clabel(cs, inline=True, fontsize=10)\n",
        "\n",
        "            x = np.linspace(-1, 1, 100)\n",
        "            c = 1\n",
        "\n",
        "            ax.scatter(x=current_b[0], y=current_b[1], color='red')\n",
        "            ax.annotate(f'iteration {str(i)}', (0.05, 0.9), xycoords='axes fraction')\n",
        "            ax.annotate(f'b0={format(current_b[0], \".2f\")}, b1={format(current_b[1], \".2f\")}', (0.05, 0.8), xycoords='axes fraction')\n",
        "            ax.set_xlabel('b0')\n",
        "            ax.set_ylabel('b1')\n",
        "            ax.set_aspect('equal', adjustable='box')\n",
        "\n",
        "            camera.snap()\n",
        "\n",
        "        animation = camera.animate()\n",
        "        animation.save('output.mp4')\n"
      ],
      "metadata": {
        "id": "RYSuThYevbjD"
      },
      "execution_count": null,
      "outputs": []
    },
    {
      "cell_type": "code",
      "source": [
        "# sample data\n",
        "X = np.random.randn(100, 2)\n",
        "beta = np.array([2, 3]).reshape(1, 2)\n",
        "Y = X @ beta.T + np.random.normal(beta.shape[0])"
      ],
      "metadata": {
        "id": "9RQoXThnvdn6"
      },
      "execution_count": null,
      "outputs": []
    },
    {
      "cell_type": "code",
      "source": [
        "lasso_reg = LassoRegression(penalty=1)\n",
        "lasso_reg.fit(X, Y)"
      ],
      "metadata": {
        "id": "4gy8ezMFvfYa"
      },
      "execution_count": null,
      "outputs": []
    },
    {
      "cell_type": "code",
      "source": [
        "lasso_reg.visualize()"
      ],
      "metadata": {
        "id": "5BlDEDdqvgr5"
      },
      "execution_count": null,
      "outputs": []
    },
    {
      "cell_type": "code",
      "source": [],
      "metadata": {
        "id": "j98jFGvDviIL"
      },
      "execution_count": null,
      "outputs": []
    }
  ]
}