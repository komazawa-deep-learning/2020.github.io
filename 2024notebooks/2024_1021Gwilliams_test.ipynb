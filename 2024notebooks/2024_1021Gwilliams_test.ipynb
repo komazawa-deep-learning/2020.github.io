{
  "nbformat": 4,
  "nbformat_minor": 0,
  "metadata": {
    "colab": {
      "private_outputs": true,
      "provenance": [],
      "mount_file_id": "17TF-yLDZHCM5h-7AjdMTJCYpUGbBAdMY",
      "authorship_tag": "ABX9TyP6NZpdLJ8CiI8+LYORuAjk",
      "include_colab_link": true
    },
    "kernelspec": {
      "name": "python3",
      "display_name": "Python 3"
    },
    "language_info": {
      "name": "python"
    }
  },
  "cells": [
    {
      "cell_type": "markdown",
      "metadata": {
        "id": "view-in-github",
        "colab_type": "text"
      },
      "source": [
        "<a href=\"https://colab.research.google.com/github/komazawa-deep-learning/komazawa-deep-learning.github.io/blob/master/2024notebooks/2024_1021Gwilliams_test.ipynb\" target=\"_parent\"><img src=\"https://colab.research.google.com/assets/colab-badge.svg\" alt=\"Open In Colab\"/></a>"
      ]
    },
    {
      "cell_type": "code",
      "execution_count": null,
      "metadata": {
        "id": "XVnbRndwGD66"
      },
      "outputs": [],
      "source": [
        "# MNE のインストール\n",
        "# https://mne.tools/stable/index.html\n",
        "# MNE: Open-source Python package for exploring, visualizing, and analyzing human neurophysiological data: MEG, EEG, sEEG, ECoG, NIRS, and more.\n",
        "!pip install --upgrade mne"
      ]
    },
    {
      "cell_type": "code",
      "source": [
        "!ls -l \"drive/Shareddrives/#2024認知心理学研究(1)b/浅川先生/2020Gwilliams/fig1\"\n",
        "!pwd"
      ],
      "metadata": {
        "id": "JgAM1OPXGzuq"
      },
      "execution_count": null,
      "outputs": []
    },
    {
      "cell_type": "code",
      "source": [
        "import mne\n",
        "sample_data_folder = mne.datasets.sample.data_path()\n",
        "sample_data_raw_file = (\n",
        "    sample_data_folder / \"MEG\" / \"sample\" / \"sample_audvis_filt-0-40_raw.fif\"\n",
        ")\n",
        "raw = mne.io.read_raw_fif(sample_data_raw_file)\n",
        "\n",
        "print(raw)\n",
        "print(raw.info)"
      ],
      "metadata": {
        "id": "cwXOoEx2IseO"
      },
      "execution_count": null,
      "outputs": []
    },
    {
      "cell_type": "code",
      "source": [
        "import numpy as np\n",
        "from mne import read_source_estimate\n",
        "import os\n",
        "\n",
        "gw2000_base = '/content/drive/Shareddrives/#2024認知心理学研究(1)b/浅川先生/2020Gwilliams'\n",
        "fname = 'fig1/grand_average_response-lh.stc'\n",
        "stc = read_source_estimate(os.path.join(gw2000_base, fname))\n",
        "stc"
      ],
      "metadata": {
        "id": "p9WIQxjhG3ZM"
      },
      "execution_count": null,
      "outputs": []
    },
    {
      "cell_type": "code",
      "source": [
        "#!ls -lh 'drive/Shareddrives/#2024認知心理学研究(1)b/浅川先生/2020Gwilliams/fig2/scores_time-stimlock'\n",
        "fname = 'fig2/scores_time-stimlock/all_scores_ambiguity.npy'\n",
        "C = np.load(os.path.join(gw2000_base,fname))\n",
        "print(C.shape, C.dtype)"
      ],
      "metadata": {
        "id": "THD71lshZxwN"
      },
      "execution_count": null,
      "outputs": []
    },
    {
      "cell_type": "code",
      "source": [],
      "metadata": {
        "id": "bjnaR0DPkEd5"
      },
      "execution_count": null,
      "outputs": []
    }
  ]
}