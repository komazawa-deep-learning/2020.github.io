{
  "nbformat": 4,
  "nbformat_minor": 0,
  "metadata": {
    "colab": {
      "private_outputs": true,
      "provenance": [],
      "toc_visible": true,
      "gpuType": "V28",
      "authorship_tag": "ABX9TyPrtMOCNrzXPlAlgSV23RjF",
      "include_colab_link": true
    },
    "kernelspec": {
      "name": "python3",
      "display_name": "Python 3"
    },
    "language_info": {
      "name": "python"
    },
    "accelerator": "TPU"
  },
  "cells": [
    {
      "cell_type": "markdown",
      "metadata": {
        "id": "view-in-github",
        "colab_type": "text"
      },
      "source": [
        "<a href=\"https://colab.research.google.com/github/komazawa-deep-learning/komazawa-deep-learning.github.io/blob/master/2024notebooks/2024_0620LFW_classifcaition_demo.ipynb\" target=\"_parent\"><img src=\"https://colab.research.google.com/assets/colab-badge.svg\" alt=\"Open In Colab\"/></a>"
      ]
    },
    {
      "cell_type": "markdown",
      "source": [
        "\n",
        "# いくつかの分類器を用いた顔分類\n",
        "\n",
        "* 参考 URL\n",
        "[Faces recognition example using eigenfaces and SVM](https://scikit-learn.org/stable/auto_examples/applications/plot_face_recognition.html#sphx-glr-auto-examples-applications-plot-face-recognition-py)\n",
        "\n",
        "# 準備"
      ],
      "metadata": {
        "id": "LdCNoqr1pour"
      }
    },
    {
      "cell_type": "code",
      "source": [
        "#from time import time\n",
        "import numpy as np\n",
        "import matplotlib.pyplot as plt\n",
        "from scipy.stats import loguniform\n",
        "\n",
        "from sklearn.datasets import fetch_lfw_people\n",
        "from sklearn.decomposition import PCA\n",
        "from sklearn.metrics import ConfusionMatrixDisplay, classification_report\n",
        "from sklearn.model_selection import RandomizedSearchCV, train_test_split\n",
        "from sklearn.preprocessing import StandardScaler\n",
        "from sklearn.svm import SVC"
      ],
      "metadata": {
        "id": "Cah_uWBSpntk"
      },
      "execution_count": null,
      "outputs": []
    },
    {
      "cell_type": "markdown",
      "source": [
        "# LFW データセットの読み込み\n",
        "LFW とは Labeled Face in the Wild の略"
      ],
      "metadata": {
        "id": "m3JBVEEYp5b7"
      }
    },
    {
      "cell_type": "code",
      "execution_count": null,
      "metadata": {
        "id": "eNshl_NuplQ3"
      },
      "outputs": [],
      "source": [
        "lfw_people = fetch_lfw_people(min_faces_per_person=70, resize=0.4)\n",
        "\n",
        "# introspect the images arrays to find the shapes (for plotting)\n",
        "n_samples, height, width = lfw_people.images.shape\n",
        "\n",
        "# for machine learning we use the 2 data directly (as relative pixel positions info is ignored by this model)\n",
        "X = lfw_people.data\n",
        "n_features = X.shape[1]\n",
        "\n",
        "# the label to predict is the id of the person\n",
        "y = lfw_people.target\n",
        "target_names = lfw_people.target_names\n",
        "n_classes = target_names.shape[0]\n",
        "\n",
        "print(\"総データセットサイズ\")\n",
        "print(\"サンプル数: %d\" % n_samples)\n",
        "print(\"特徴数: %d\" % n_features)\n",
        "print(\"クラス数 (識別すべき人物数): %d\" % n_classes)\n",
        "print(f'ターゲット名:{target_names}')"
      ]
    },
    {
      "cell_type": "markdown",
      "source": [
        "# データの表示"
      ],
      "metadata": {
        "id": "3aqpzrxcqkPc"
      }
    },
    {
      "cell_type": "code",
      "source": [
        "j_max = 7\n",
        "i_max = 5\n",
        "Ns = np.random.permutation(len(X))\n",
        "fig, ax = plt.subplots(i_max, j_max, figsize=(j_max+1,i_max+3))\n",
        "\n",
        "i, j = 0, 0\n",
        "for idx in Ns[:i_max * j_max]:\n",
        "    img = X[idx].reshape(height,width)\n",
        "    ax[i,j].imshow(img, cmap='gray')\n",
        "    ax[i,j].set_xticks([])\n",
        "    ax[i,j].set_yticks([])\n",
        "    ax[i,j].set_title(target_names[y[idx]].split(' ')[-1])\n",
        "    j += 1\n",
        "    if j == j_max:\n",
        "        i+=1; j=0\n",
        "\n",
        "plt.tight_layout()\n",
        "plt.show()"
      ],
      "metadata": {
        "id": "Td-nO61Mp8Xa"
      },
      "execution_count": null,
      "outputs": []
    },
    {
      "cell_type": "markdown",
      "source": [
        "# データセットを訓練データと検証データへ分割"
      ],
      "metadata": {
        "id": "h1ILidpUq42z"
      }
    },
    {
      "cell_type": "code",
      "source": [
        "X_train, X_test, y_train, y_test = train_test_split(\n",
        "    X, y, test_size=0.25, random_state=42\n",
        ")\n",
        "\n",
        "scaler = StandardScaler()\n",
        "X_train = scaler.fit_transform(X_train)\n",
        "X_test = scaler.transform(X_test)\n",
        "\n",
        "# scaler.inverse_transform(X_train)[0].reshape(h,w).max()"
      ],
      "metadata": {
        "id": "wKQAA0isqnyS"
      },
      "execution_count": null,
      "outputs": []
    },
    {
      "cell_type": "markdown",
      "source": [
        "# 固有顔 (主成分分析) による特徴エンジニアリング"
      ],
      "metadata": {
        "id": "kblkDg1yrDXG"
      }
    },
    {
      "cell_type": "code",
      "source": [
        "# 抽出する主成分数\n",
        "n_components = 150\n",
        "\n",
        "print(f\"最大固有値上位 {n_components} 成分による固有顔，元データの次元数 {X_train.shape[0]} faces\")\n",
        "pca = PCA(n_components=n_components, svd_solver=\"randomized\", whiten=True).fit(X_train)\n",
        "eigenfaces = pca.components_.reshape((n_components, height, width))\n",
        "\n",
        "print(\"入力データを固有顔による直交基底へ射影\")\n",
        "X_train_pca = pca.transform(X_train)\n",
        "X_test_pca = pca.transform(X_test)"
      ],
      "metadata": {
        "id": "7UEDlRW_rCi_"
      },
      "execution_count": null,
      "outputs": []
    },
    {
      "cell_type": "markdown",
      "source": [
        "# サポートベクターマシンによる分類"
      ],
      "metadata": {
        "id": "yoEwWAMwrPu-"
      }
    },
    {
      "cell_type": "code",
      "source": [
        "svc = SVC(kernel='rbf', class_weight='balanced') # , C=3155.325849438, gamma=0.0012014060871781294)\n",
        "svc = svc.fit(X_train_pca, y_train)\n",
        "preds = svc.predict(X_test_pca)\n",
        "print(f'テストデータの分類結果: {(np.array(preds == y_test) * 1).mean() * 100:.2f}%')\n",
        "\n",
        "preds = svc.predict(X_train_pca)\n",
        "print(f'訓練データの分類結果  : {(np.array(preds == y_train) * 1).mean() * 100:.2f}%')"
      ],
      "metadata": {
        "id": "qtHg1sZvrGa_"
      },
      "execution_count": null,
      "outputs": []
    },
    {
      "cell_type": "code",
      "source": [
        "print(\"テストデータを用いた人物分類\")\n",
        "y_pred = svc.predict(X_test_pca)\n",
        "\n",
        "print(classification_report(y_test, y_pred, target_names=target_names))\n",
        "ConfusionMatrixDisplay.from_estimator(\n",
        "    svc, X_test_pca, y_test, display_labels=target_names, xticks_rotation=\"vertical\"\n",
        ")\n",
        "plt.tight_layout()\n",
        "plt.show()"
      ],
      "metadata": {
        "id": "7uCuv5DCrUEl"
      },
      "execution_count": null,
      "outputs": []
    },
    {
      "cell_type": "markdown",
      "source": [
        "# [XGBoost](https://xgboost.readthedocs.io/en/stable/) による分類"
      ],
      "metadata": {
        "id": "NLOfUGONrybV"
      }
    },
    {
      "cell_type": "code",
      "source": [
        "try:\n",
        "    from xgboost import XGBClassifier\n",
        "except ImportError:\n",
        "    !pip install xgboost\n",
        "    from xgboost import XGBClassifier"
      ],
      "metadata": {
        "id": "SFVhMolRsyNX"
      },
      "execution_count": null,
      "outputs": []
    },
    {
      "cell_type": "code",
      "source": [
        "xgb = XGBClassifier(n_estimators=10, max_depth=5, learning_rate=1, objective='binary:logistic')\n",
        "#xgb = XGBClassifier(n_estimators=2, max_depth=2, learning_rate=1, objective='binary:logistic')\n",
        "\n",
        "# fit model\n",
        "xgb.fit(X_train_pca, y_train)\n",
        "\n",
        "preds = xgb.predict(X_test_pca)\n",
        "print(f'テストデータの分類結果: {(np.array(preds == y_test) * 1).mean() * 100:.2f}%')\n",
        "\n",
        "preds = xgb.predict(X_train_pca)\n",
        "print(f'訓練データの分類結果  : {(np.array(preds == y_train) * 1).mean() * 100:.2f}%')\n"
      ],
      "metadata": {
        "id": "KH24E04priuf"
      },
      "execution_count": null,
      "outputs": []
    },
    {
      "cell_type": "code",
      "source": [
        "print(\"テストデータを用いた人物分類\")\n",
        "y_pred = xgb.predict(X_test_pca)\n",
        "\n",
        "print(classification_report(y_test, y_pred, target_names=target_names))\n",
        "ConfusionMatrixDisplay.from_estimator(\n",
        "    xgb, X_test_pca, y_test, display_labels=target_names, xticks_rotation=\"vertical\"\n",
        ")\n",
        "plt.tight_layout()\n",
        "plt.show()"
      ],
      "metadata": {
        "id": "D2qYX21DspP7"
      },
      "execution_count": null,
      "outputs": []
    },
    {
      "cell_type": "markdown",
      "source": [
        "# ナイーブベイズによる分類"
      ],
      "metadata": {
        "id": "8zcQbuXpuACa"
      }
    },
    {
      "source": [
        "from sklearn.naive_bayes import MultinomialNB\n",
        "\n",
        "mNB = MultinomialNB()\n",
        "\n",
        "# Use MinMaxScaler to scale the data to the range [0, 1]\n",
        "from sklearn.preprocessing import MinMaxScaler\n",
        "scaler = MinMaxScaler()\n",
        "X_train_scaled = scaler.fit_transform(X_train)\n",
        "X_test_scaled = scaler.transform(X_test)\n",
        "\n",
        "# Fit the MultinomialNB model with non-negative scaled data\n",
        "mNB.fit(X_train_scaled, y_train)\n",
        "\n",
        "# Predict on scaled test data\n",
        "preds = mNB.predict(X_test_scaled)\n",
        "print(f'テストデータの分類結果: {(np.array(preds == y_test) * 1).mean() * 100:.2f}%')\n",
        "\n",
        "# Predict on scaled train data\n",
        "preds = mNB.predict(X_train_scaled)\n",
        "print(f'訓練データの分類結果  : {(np.array(preds == y_train) * 1).mean() * 100:.2f}%')"
      ],
      "cell_type": "code",
      "metadata": {
        "id": "4gO-UjAIvRoU"
      },
      "execution_count": null,
      "outputs": []
    },
    {
      "cell_type": "code",
      "source": [
        "print(\"テストデータを用いた人物分類\")\n",
        "y_pred = mNB.predict(X_test_scaled)\n",
        "\n",
        "print(classification_report(y_test, y_pred, target_names=target_names))\n",
        "ConfusionMatrixDisplay.from_estimator(\n",
        "    mNB, X_test_scaled, y_test, display_labels=target_names, xticks_rotation=\"vertical\"\n",
        ")\n",
        "plt.tight_layout()\n",
        "plt.show()"
      ],
      "metadata": {
        "id": "WhkJgFhyvSVz"
      },
      "execution_count": null,
      "outputs": []
    },
    {
      "cell_type": "markdown",
      "source": [
        "# ランダムフォレストによる分類"
      ],
      "metadata": {
        "id": "kZ9jnmj6wIV_"
      }
    },
    {
      "cell_type": "code",
      "source": [
        "from sklearn.ensemble import RandomForestClassifier\n",
        "rf = RandomForestClassifier(\n",
        "    random_state=42,\n",
        "    n_jobs=-1,\n",
        "    max_depth=5,\n",
        "    n_estimators=100, oob_score=True\n",
        ")"
      ],
      "metadata": {
        "id": "nIZ-84ONv3oU"
      },
      "execution_count": null,
      "outputs": []
    },
    {
      "cell_type": "code",
      "source": [
        "rf.fit(X_train_pca, y_train)\n",
        "\n",
        "print(rf.oob_score_)\n",
        "\n",
        "preds = rf.predict(X_test_pca)\n",
        "print(f'テストデータの分類結果: {(np.array(preds == y_test) * 1).mean() * 100:.2f}%')\n",
        "\n",
        "preds = rf.predict(X_train_pca)\n",
        "print(f'訓練データの分類結果  : {(np.array(preds == y_train) * 1).mean() * 100:.2f}%')\n"
      ],
      "metadata": {
        "id": "YkmlDhiYw04D"
      },
      "execution_count": null,
      "outputs": []
    },
    {
      "cell_type": "code",
      "source": [
        "print(\"テストデータを用いた人物分類\")\n",
        "preds = rf.predict(X_test_pca)\n",
        "\n",
        "print(classification_report(y_test, preds, target_names=target_names))\n",
        "ConfusionMatrixDisplay.from_estimator(\n",
        "    rf, X_test_pca, y_test, display_labels=target_names, xticks_rotation=\"vertical\"\n",
        ")\n",
        "plt.tight_layout()\n",
        "plt.show()"
      ],
      "metadata": {
        "id": "q7yEAWWPxFdQ"
      },
      "execution_count": null,
      "outputs": []
    },
    {
      "cell_type": "code",
      "source": [],
      "metadata": {
        "id": "YVeblstux-B_"
      },
      "execution_count": null,
      "outputs": []
    }
  ]
}