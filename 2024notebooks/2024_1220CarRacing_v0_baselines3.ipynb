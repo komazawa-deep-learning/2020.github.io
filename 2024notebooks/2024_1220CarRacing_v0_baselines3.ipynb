{
  "cells": [
    {
      "cell_type": "markdown",
      "metadata": {
        "id": "view-in-github",
        "colab_type": "text"
      },
      "source": [
        "<a href=\"https://colab.research.google.com/github/komazawa-deep-learning/komazawa-deep-learning.github.io/blob/master/2024notebooks/2024_1220CarRacing_v0_baselines3.ipynb\" target=\"_parent\"><img src=\"https://colab.research.google.com/assets/colab-badge.svg\" alt=\"Open In Colab\"/></a>"
      ]
    },
    {
      "cell_type": "markdown",
      "metadata": {
        "id": "MCWBUoJgqfz7"
      },
      "source": [
        "---\n",
        "date: 2024_1220\n",
        "author: 浅川伸一\n",
        "---\n",
        "\n",
        "# Demo for `CarRacing-v3` from stable-baselines3\n",
        "\n",
        "source from [https://araffin.github.io/post/sb3/](https://araffin.github.io/post/sb3/)\n"
      ]
    },
    {
      "cell_type": "code",
      "execution_count": null,
      "metadata": {
        "id": "1vW_7SwBl8_I",
        "tags": []
      },
      "outputs": [],
      "source": [
        "from IPython import get_ipython\n",
        "\n",
        "isColab = \"google.colab\" in str(get_ipython())\n",
        "\n",
        "# try:\n",
        "#     import jupyter_black\n",
        "# except ImportError:\n",
        "#     !pip install jupyter-black\n",
        "#     import jupyter_black\n",
        "\n",
        "# # for autoformatting\n",
        "# %load_ext jupyter_black\n",
        "\n",
        "if isColab:\n",
        "    !apt-get install ffmpeg freeglut3-dev xvfb  # For visualization\n",
        "    !pip install \"stable-baselines3[extra]>=2.0.0a4\" --upgrade\n",
        "    !pip install swig --upgrade\n",
        "    !pip install 'gymnasium[box2d]' --upgrade\n",
        "    !pip install 'gymnasium[other]' --upgrade\n",
        "\n",
        "import gymnasium as gym\n",
        "import numpy as np"
      ]
    },
    {
      "cell_type": "code",
      "execution_count": null,
      "metadata": {
        "id": "Ycq5uSLxml0T",
        "tags": []
      },
      "outputs": [],
      "source": [
        "# source form <https://araffin.github.io/post/sb3/>\n",
        "# import gym\n",
        "\n",
        "from stable_baselines3 import PPO  # Proximal Policy Optimization\n",
        "from stable_baselines3 import A2C  # Asynchronous Advantage Actor Critic (A3C)\n",
        "from stable_baselines3 import DDPG  # Deep Deterministic Policy Gradient\n",
        "from stable_baselines3 import DQN  # Deep Q Network\n",
        "from stable_baselines3 import SAC  # Soft Actor Critic\n",
        "\n",
        "from stable_baselines3.common.monitor import Monitor\n",
        "from stable_baselines3.common.callbacks import CheckpointCallback, EvalCallback\n",
        "\n",
        "# 途中経過 `checkpoint` を 5000 ステップ毎に保存\n",
        "checkpoint_callback = CheckpointCallback(\n",
        "    save_freq=5000, save_path=\"./logs/\", name_prefix=\"rl_model\"\n",
        ")\n",
        "\n",
        "# モデルを定期的に評価，最適モデルと評価を保存\n",
        "# モニターラッパーを使用して，エピソードの統計情報を報告\n",
        "eval_env = Monitor(gym.make(\"CarRacing-v3\"))\n",
        "\n",
        "# 評価のために決定論的な行動を使う\n",
        "eval_callback = EvalCallback(\n",
        "    eval_env,\n",
        "    best_model_save_path=\"./logs/\",\n",
        "    log_path=\"./logs/\",\n",
        "    eval_freq=2000,\n",
        "    deterministic=True,\n",
        "    render=False,\n",
        ")\n",
        "\n",
        "# Train an agent using A2C on CarRacing-v3\n",
        "# model = A2C(\"MlpPolicy\", \"CarRacing-v3\", verbose=1)\n",
        "\n",
        "# Train an agent using A2C on CarRacing-v3\n",
        "model = PPO(\"MlpPolicy\", \"CarRacing-v3\", verbose=1)\n",
        "model.learn(total_timesteps=20000, callback=[checkpoint_callback, eval_callback])\n",
        "\n",
        "# Retrieve and reset the environment\n",
        "env = model.get_env()\n",
        "obs = env.reset()\n",
        "\n",
        "# Query the agent (stochastic action here)\n",
        "action, _ = model.predict(obs, deterministic=False)"
      ]
    },
    {
      "cell_type": "markdown",
      "metadata": {
        "id": "PuQ0j75MpHB8"
      },
      "source": [
        "### 動画撮影の準備 <!-- ### Prepare video recording -->"
      ]
    },
    {
      "cell_type": "code",
      "execution_count": null,
      "metadata": {
        "id": "v5_33ibLmmxs",
        "tags": []
      },
      "outputs": [],
      "source": [
        "# フェイク画面のセットアップ，そうしないとレンダリングに失敗する\n",
        "import os\n",
        "\n",
        "os.system(\"Xvfb :1 -screen 0 1024x768x24 &\")\n",
        "os.environ[\"DISPLAY\"] = \":1\""
      ]
    },
    {
      "cell_type": "code",
      "execution_count": null,
      "metadata": {
        "id": "5dyG3VChpJBn"
      },
      "outputs": [],
      "source": [
        "import base64\n",
        "from pathlib import Path\n",
        "\n",
        "from IPython import display as ipythondisplay\n",
        "\n",
        "\n",
        "def show_videos(video_path=\"\", prefix=\"\"):\n",
        "    \"\"\"\n",
        "    https://github.com/eleurent/highway-env より援用\n",
        "\n",
        "    :param video_path: (str) 動画が格納されているフォルダのパス\n",
        "    :param prefix: (str) この接頭辞のついた動画のみを表示する\n",
        "    \"\"\"\n",
        "    html = []\n",
        "    for mp4 in Path(video_path).glob(\"{}*.mp4\".format(prefix)):\n",
        "        video_b64 = base64.b64encode(mp4.read_bytes())\n",
        "        html.append(\n",
        "            \"\"\"<video alt=\"{}\" autoplay\n",
        "                    loop controls style=\"height: 400px;\">\n",
        "                    <source src=\"data:video/mp4;base64,{}\" type=\"video/mp4\" />\n",
        "                </video>\"\"\".format(\n",
        "                mp4, video_b64.decode(\"ascii\")\n",
        "            )\n",
        "        )\n",
        "    ipythondisplay.display(ipythondisplay.HTML(data=\"<br>\".join(html)))"
      ]
    },
    {
      "cell_type": "code",
      "execution_count": null,
      "metadata": {
        "id": "VNuNt-fvpLLx"
      },
      "outputs": [],
      "source": [
        "from stable_baselines3.common.vec_env import VecVideoRecorder, DummyVecEnv\n",
        "\n",
        "\n",
        "def record_video(env_id, model, video_length=500, prefix=\"\", video_folder=\"videos/\"):\n",
        "    \"\"\"\n",
        "    :param env_id: (str)\n",
        "    :param model: (RL model)\n",
        "    :param video_length: (int)\n",
        "    :param prefix: (str)\n",
        "    :param video_folder: (str)\n",
        "    \"\"\"\n",
        "    eval_env = DummyVecEnv([lambda: gym.make(env_id, render_mode=\"rgb_array\")])\n",
        "    # Start the video at step=0 and record 500 steps\n",
        "    eval_env = VecVideoRecorder(\n",
        "        eval_env,\n",
        "        video_folder=video_folder,\n",
        "        record_video_trigger=lambda step: step == 0,\n",
        "        video_length=video_length,\n",
        "        name_prefix=prefix,\n",
        "    )\n",
        "\n",
        "    obs = eval_env.reset()\n",
        "    for _ in range(video_length):\n",
        "        action, _ = model.predict(obs)\n",
        "        obs, _, _, _ = eval_env.step(action)\n",
        "\n",
        "    # Close the video recorder\n",
        "    eval_env.close()"
      ]
    },
    {
      "cell_type": "code",
      "execution_count": null,
      "metadata": {
        "id": "gzVaiVO2pN-d"
      },
      "outputs": [],
      "source": [
        "record_video(\"CarRacing-v3\", model, video_length=500, prefix=\"CarRacing-v3\")"
      ]
    },
    {
      "cell_type": "code",
      "execution_count": null,
      "metadata": {
        "id": "CMEirPUQpWFJ"
      },
      "outputs": [],
      "source": [
        "show_videos(video_path=\"videos\", prefix=\"CarRacing-v3\")"
      ]
    },
    {
      "cell_type": "code",
      "execution_count": null,
      "metadata": {
        "id": "NvYYRG53p2t_"
      },
      "outputs": [],
      "source": []
    }
  ],
  "metadata": {
    "accelerator": "GPU",
    "colab": {
      "gpuType": "T4",
      "machine_shape": "hm",
      "private_outputs": true,
      "provenance": [],
      "include_colab_link": true
    },
    "kernelspec": {
      "display_name": "Python 3 (ipykernel)",
      "language": "python",
      "name": "python3"
    },
    "language_info": {
      "codemirror_mode": {
        "name": "ipython",
        "version": 3
      },
      "file_extension": ".py",
      "mimetype": "text/x-python",
      "name": "python",
      "nbconvert_exporter": "python",
      "pygments_lexer": "ipython3",
      "version": "3.12.7"
    }
  },
  "nbformat": 4,
  "nbformat_minor": 0
}