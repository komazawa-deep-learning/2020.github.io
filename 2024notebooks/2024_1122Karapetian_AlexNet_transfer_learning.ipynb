{
  "nbformat": 4,
  "nbformat_minor": 0,
  "metadata": {
    "colab": {
      "private_outputs": true,
      "provenance": [],
      "authorship_tag": "ABX9TyMT/Dq8B6CsF70diqtCBWMN",
      "include_colab_link": true
    },
    "kernelspec": {
      "name": "python3",
      "display_name": "Python 3"
    },
    "language_info": {
      "name": "python"
    }
  },
  "cells": [
    {
      "cell_type": "markdown",
      "metadata": {
        "id": "view-in-github",
        "colab_type": "text"
      },
      "source": [
        "<a href=\"https://colab.research.google.com/github/komazawa-deep-learning/komazawa-deep-learning.github.io/blob/master/2024notebooks/2024_1122Karapetian_AlexNet_transfer_learning.ipynb\" target=\"_parent\"><img src=\"https://colab.research.google.com/assets/colab-badge.svg\" alt=\"Open In Colab\"/></a>"
      ]
    },
    {
      "cell_type": "markdown",
      "source": [
        "Karapetian+ (2023), Empirically Identifying and Computationally Modeling the Brain–Behavior Relationship for Human Scene Categorization, Journal of Cognitive Neuroscience 35:11, pp. 1879–1897, doi:10.1162/jocn_a_02043\n",
        "\n",
        "データは，https://osf.io/4fdky/ より入手して，駒澤 Gdrive で共有"
      ],
      "metadata": {
        "id": "efVCILMpecgZ"
      }
    },
    {
      "cell_type": "code",
      "execution_count": null,
      "metadata": {
        "id": "-DOLPhQKeYO6"
      },
      "outputs": [],
      "source": [
        "import torch\n",
        "device = 'cuda' if torch.cuda.is_available() else 'mps' if torch.backends.mps.is_available() else 'cpu'\n",
        "print(f'device:{device}')\n",
        "\n",
        "import os\n",
        "import numpy as np\n",
        "import sys\n",
        "import zipfile\n",
        "import glob\n",
        "\n",
        "import IPython\n",
        "isColab = 'google.colab' in str(IPython.get_ipython())\n",
        "\n",
        "if isColab:\n",
        "    from google.colab import drive\n",
        "    drive.mount('/content/drive')\n",
        "\n",
        "    basedir = '/content/drive/Shareddrives/#2024認知心理学研究(1)b/浅川先生/2023Karapetian+OSF/Stimuli'\n",
        "    fnames = list(sorted(glob.glob(os.path.join(basedir,'*.jpg'))))\n",
        "else:\n",
        "    HOME = os.environ['HOME']\n",
        "    basedir = os.path.join(HOME, 'study/2024Agnessa14_Perceptual-decision-making.git/Stimuli')\n",
        "    fnames = list(sorted(glob.glob(os.path.join(basedir,'*.jpg'))))\n",
        "\n",
        "import matplotlib.pyplot as plt\n",
        "import PIL\n",
        "\n",
        "try:\n",
        "    import japanize_matplotlib\n",
        "except ImportError:\n",
        "    !pip install japanize_matplotlib\n",
        "    import japanize_matplotlib"
      ]
    },
    {
      "cell_type": "markdown",
      "source": [
        "# 刺激画像の表示"
      ],
      "metadata": {
        "id": "4WAIZlQceivO"
      }
    },
    {
      "cell_type": "code",
      "source": [
        "# 刺激画像の表示\n",
        "nrows, ncols = 6, 10\n",
        "fig, ax = plt.subplots(nrows=nrows, ncols=ncols, figsize=(12,9))\n",
        "#fig, ax = plt.subplots(nrows=nrows, ncols=ncols, figsize=(14,10))\n",
        "\n",
        "i=0\n",
        "for row in range(nrows):\n",
        "    for col in range(ncols):\n",
        "        #img = PIL.Image.open(os.path.join(basedir, 'Stimuli/'+str(i+1)+'.jpg')).convert('RGB')\n",
        "        img = PIL.Image.open(os.path.join(basedir, str(i+1)+'.jpg')).convert('RGB')\n",
        "        ax[row][col].imshow(img)\n",
        "        ax[row][col].axis('off')\n",
        "        ax[row][col].set_title(f'{i+1}')\n",
        "        i += 1\n",
        "\n",
        "# 1-10: アパート\n",
        "#11-20: ベッド\n",
        "#21-30: 高速道路\n",
        "#31-40: 海岸\n",
        "#41-50: 峡谷\n",
        "#51-60: 森林\n",
        "# 1-30 は，人工物情景であり，31-60 は，自然情景"
      ],
      "metadata": {
        "id": "XamRG-IeefeW"
      },
      "execution_count": null,
      "outputs": []
    },
    {
      "cell_type": "code",
      "source": [
        "# データセットの作成\n",
        "import torchvision\n",
        "from torchvision import transforms\n",
        "from sklearn.model_selection import train_test_split\n",
        "#import torch\n",
        "#import numpy as np\n",
        "import random\n",
        "\n",
        "# 乱数シード固定（再現性の担保）\n",
        "def fix_seed(seed):\n",
        "    random.seed(seed)\n",
        "    np.random.seed(seed)\n",
        "    torch.manual_seed(seed)\n",
        "    torch.cuda.manual_seed_all(seed)\n",
        "    torch.backends.cudnn.deterministic = True\n",
        "    torch.backends.cudnn.benchmark = False\n",
        "\n",
        "seed = 42\n",
        "fix_seed(seed)\n",
        "\n",
        "# データローダーのサブプロセスの乱数の seed 固定\n",
        "def worker_init_fn(worker_id):\n",
        "    np.random.seed(np.random.get_state()[1][0] + worker_id)\n",
        "\n",
        "for i in range(8):\n",
        "    worker_init_fn(i)\n",
        "\n",
        "class Agressa2023_dataset(torch.utils.data.Dataset):\n",
        "    def __init__(self,\n",
        "                 task:str='cat',\n",
        "# 'cat': カテゴリー化課題 (人工物か自然物か)，\n",
        "# 'desc': 判別課題 (1-10:アパート，11-20:ベッド，21-30:高速道路, 31-40:海岸, 41-50:峡谷, 51-60:森林\n",
        "                 ):\n",
        "        super().__init__()\n",
        "        if task == 'desc':\n",
        "            self.task = 'desc'\n",
        "        else:\n",
        "            self.task = 'cat'\n",
        "\n",
        "        if isColab:\n",
        "            self.basedir = '/content/drive/Shareddrives/#2024認知心理学研究(1)b/浅川先生/2023Karapetian+OSF/Stimuli'\n",
        "            self.fnames = list(sorted(glob.glob(os.path.join(basedir,'*.jpg'))))\n",
        "        else:\n",
        "            HOME = os.environ['HOME']\n",
        "            self.basedir = os.path.join(HOME, 'study/2024Agnessa14_Perceptual-decision-making.git/Stimuli')\n",
        "            self.fnames = list(sorted(glob.glob(os.path.join(basedir,'*.jpg'))))\n",
        "        self.fname = fnames\n",
        "\n",
        "        self.Img_transform = transforms.Compose([\n",
        "            transforms.ToTensor(),\n",
        "            transforms.Resize(224),\n",
        "            transforms.Normalize(mean=(0.485, 0.456, 0.406), std=(0.229, 0.224, 0.225))])\n",
        "\n",
        "    def __len__(self):\n",
        "        return len(self.fname)\n",
        "\n",
        "    def __getitem__(self, idx):\n",
        "        img_fname = self.fname[idx]\n",
        "        #img = PIL.Image.open(os.path.join(basedir, 'Stimuli/'+str(idx+1)+'.jpg')).convert('RGB')\n",
        "        img = PIL.Image.open(os.path.join(self.basedir, str(idx+1)+'.jpg')).convert('RGB')\n",
        "        #X = torchvision.transforms.functional.pil_to_tensor(img)\n",
        "        X = self.Img_transform(img)\n",
        "\n",
        "        if self.task == 'cat':\n",
        "            label = idx // 30\n",
        "        else:\n",
        "            label = idx // 10\n",
        "\n",
        "        return X, label\n",
        "\n",
        "ds = Agressa2023_dataset(task='desc')\n",
        "\n",
        "train_dl = torch.utils.data.DataLoader(ds,\n",
        "                                       batch_size=12,    # バッチサイズ\n",
        "                                       shuffle=True,     # データシャッフル\n",
        "                                       num_workers=0,    # 高速化\n",
        "                                       pin_memory=True,  # 高速化\n",
        "                                       worker_init_fn=worker_init_fn\n",
        "                                      )"
      ],
      "metadata": {
        "id": "Jepi5kPDesv1"
      },
      "execution_count": null,
      "outputs": []
    },
    {
      "cell_type": "code",
      "source": [
        "from torchvision import models\n",
        "\n",
        "a_model = models.alexnet(weights='DEFAULT', progress=True)\n",
        "#a_model = models.resnet18(weights='DEFAULT', progress=True)\n",
        "#a_model = AlexNet(weights='DEFAULT', progress=True)\n",
        "a_model.eval()"
      ],
      "metadata": {
        "id": "SE9cx4lLew1v"
      },
      "execution_count": null,
      "outputs": []
    },
    {
      "cell_type": "code",
      "source": [
        "a_parameters = {name:param for name, param in a_model.named_parameters()}\n",
        "a_modules = {name:param for name, param in a_model.named_modules()}\n",
        "\n",
        "print(f'パラメータ名:{a_parameters.keys()}')\n",
        "print(f'モジュール名:{a_modules.keys()}')"
      ],
      "metadata": {
        "id": "fioptnP5ezIl"
      },
      "execution_count": null,
      "outputs": []
    },
    {
      "cell_type": "code",
      "source": [
        "a_model.classifier[6] = torch.nn.Linear(in_features=4096, out_features=6)\n",
        "a_model.eval()"
      ],
      "metadata": {
        "id": "SQra0tR-e1fC"
      },
      "execution_count": null,
      "outputs": []
    },
    {
      "cell_type": "code",
      "source": [
        "update_param_names = ['classifier.6.weight', 'classifier.6.bias']\n",
        "params_to_update = []\n",
        "for name, param in a_model.named_parameters():\n",
        "    if name in update_param_names:\n",
        "        param.requires_grad = True\n",
        "        params_to_update.append(param)\n",
        "        print(name)\n",
        "    else:\n",
        "        param.requires_grad = False\n",
        "#print(f'parmas_to_update:{params_to_update}')\n"
      ],
      "metadata": {
        "id": "IMKfF_Kje3dK"
      },
      "execution_count": null,
      "outputs": []
    },
    {
      "cell_type": "code",
      "source": [
        "# 最適化手法の設定\n",
        "lr = 0.01\n",
        "optimizer = torch.optim.Adam(params=params_to_update, lr=lr)\n",
        "\n",
        "# 評価基準\n",
        "criterion = torch.nn.CrossEntropyLoss()\n",
        "\n",
        "n_epochs = 5\n",
        "a_model.train()\n",
        "for epoch in range(n_epochs):\n",
        "    epoch_loss = 0.\n",
        "    for X, y in train_dl:\n",
        "        optimizer.zero_grad()\n",
        "        out = a_model(X)\n",
        "        print(f'エポック:{epoch+1}',\n",
        "              f'教師:{y.detach().numpy()}',\n",
        "              f'出力:{out.argmax(dim=1).numpy()}')\n",
        "        loss = criterion(out, y)\n",
        "        loss.backward()\n",
        "        optimizer.step()\n",
        "        epoch_loss += loss.item()\n",
        "    print(f'epoch_loss:{epoch_loss}')\n",
        "\n",
        ""
      ],
      "metadata": {
        "id": "zsWnODSRe55g"
      },
      "execution_count": null,
      "outputs": []
    },
    {
      "cell_type": "code",
      "source": [],
      "metadata": {
        "id": "LBhBsrWKfHbn"
      },
      "execution_count": null,
      "outputs": []
    }
  ]
}