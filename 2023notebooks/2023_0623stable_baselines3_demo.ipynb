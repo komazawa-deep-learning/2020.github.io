{
  "cells": [
    {
      "cell_type": "markdown",
      "metadata": {
        "id": "view-in-github",
        "colab_type": "text"
      },
      "source": [
        "<a href=\"https://colab.research.google.com/github/komazawa-deep-learning/komazawa-deep-learning.github.io/blob/master/2023notebooks/2023_0623stable_baselines3_demo.ipynb\" target=\"_parent\"><img src=\"https://colab.research.google.com/assets/colab-badge.svg\" alt=\"Open In Colab\"/></a>"
      ]
    },
    {
      "cell_type": "markdown",
      "metadata": {
        "id": "MCWBUoJgqfz7"
      },
      "source": [
        "---\n",
        "date: 2023_0619\n",
        "author: 浅川伸一\n",
        "---\n",
        "\n",
        "# stable-baselines3 を用いた強化学習のデモ\n",
        "\n",
        "source from [https://araffin.github.io/post/sb3/](https://araffin.github.io/post/sb3/)\n",
        "\n",
        "<!-- <center>\n",
        "<div>\n",
        "<video controls src=\"https://youtu.be/M1_qCqvW-u4\" muted=\"false\">\n",
        "</video>\n",
        "</center>\n",
        " -->"
      ]
    },
    {
      "cell_type": "code",
      "execution_count": null,
      "metadata": {
        "id": "I125iMj7mEZ4",
        "tags": []
      },
      "outputs": [],
      "source": [
        "from IPython import get_ipython\n",
        "isColab =  'google.colab' in str(get_ipython())\n",
        "\n",
        "# Google Colaboratory 上で実行するなら，必要なライブラリをインストールする\n",
        "if isColab:\n",
        "    !apt-get install ffmpeg freeglut3-dev xvfb  # For visualization\n",
        "    !pip install \"stable-baselines3[extra]>=2.0.0a4\" --upgrade\n",
        "    !pip install swig --upgrade\n",
        "    !pip install 'gymnasium[box2d]' --upgrade\n",
        "\n",
        "import gymnasium as gym\n",
        "import numpy as np"
      ]
    },
    {
      "cell_type": "markdown",
      "metadata": {
        "id": "PuQ0j75MpHB8"
      },
      "source": [
        "### 0. 動画撮影の準備\n",
        "\n",
        "フェイク画面のセットアップ，そうしないとレンダリングに失敗する.\n",
        "\n",
        "MacOS 上での実行には，以下のコマンドライン操作が，一度だけ必要\n",
        "\n",
        "```bash\n",
        "mkdir /private/tmp/.X11-unix\n",
        "sudo chown root /private/tmp/.X11-unix\n",
        "sudo chmod 1777 /private/tmp/.X11-unix\n",
        "```\n"
      ]
    },
    {
      "cell_type": "code",
      "execution_count": null,
      "metadata": {
        "id": "v5_33ibLmmxs",
        "tags": []
      },
      "outputs": [],
      "source": [
        "# フェイク画面のセットアップ，そうしないとレンダリングに失敗する\n",
        "# MacOS 上での実行には，以下のコマンドライン操作が，一度だけ必要\n",
        "#\n",
        "#```bash\n",
        "# mkdir /private/tmp/.X11-unix\n",
        "# sudo chown root /private/tmp/.X11-unix\n",
        "# sudo chmod 1777 /private/tmp/.X11-unix\n",
        "#```\n",
        "import os\n",
        "os.system(\"Xvfb :1 -screen 0 1024x768x24 &\")\n",
        "os.environ['DISPLAY'] = ':1'"
      ]
    },
    {
      "cell_type": "code",
      "execution_count": null,
      "metadata": {
        "id": "VNuNt-fvpLLx"
      },
      "outputs": [],
      "source": [
        "import base64\n",
        "from pathlib import Path\n",
        "from IPython import display as ipythondisplay\n",
        "\n",
        "def show_videos(video_path=\"\", prefix=\"\"):\n",
        "    \"\"\"\n",
        "    保存してある動画を再生\n",
        "\n",
        "    :param video_path: (str) 動画が格納されているフォルダのパス\n",
        "    :param prefix: (str) この接頭辞のついた動画のみを表示する\n",
        "\n",
        "    https://github.com/eleurent/highway-env より借用\n",
        "    \"\"\"\n",
        "    html = []\n",
        "    for mp4 in Path(video_path).glob(\"{}*.mp4\".format(prefix)):\n",
        "        video_b64 = base64.b64encode(mp4.read_bytes())\n",
        "        html.append(\n",
        "            \"\"\"<video alt=\"{}\" autoplay\n",
        "                    loop controls style=\"height: 400px;\">\n",
        "                    <source src=\"data:video/mp4;base64,{}\" type=\"video/mp4\" />\n",
        "                </video>\"\"\".format(\n",
        "                mp4, video_b64.decode(\"ascii\")\n",
        "            )\n",
        "        )\n",
        "    ipythondisplay.display(ipythondisplay.HTML(data=\"<br>\".join(html)))\n",
        "\n",
        "from stable_baselines3.common.vec_env import VecVideoRecorder, DummyVecEnv\n",
        "\n",
        "def record_video(env_id,\n",
        "                 model, video_length=500,\n",
        "                 prefix=\"\",\n",
        "                 video_folder=\"videos/\"):\n",
        "    \"\"\"エージェントの動作を動画にして保存\n",
        "\n",
        "    :param env_id: (str)\n",
        "    :param model: (RL model)\n",
        "    :param video_length: (int)\n",
        "    :param prefix: (str)\n",
        "    :param video_folder: (str)\n",
        "    \"\"\"\n",
        "    eval_env = DummyVecEnv([lambda: gym.make(env_id, render_mode=\"rgb_array\")])\n",
        "    # Start the video at step=0 and record 500 steps\n",
        "    eval_env = VecVideoRecorder(\n",
        "        eval_env,\n",
        "        video_folder=video_folder,\n",
        "        record_video_trigger=lambda step: step == 0,\n",
        "        video_length=video_length,\n",
        "        name_prefix=prefix,\n",
        "    )\n",
        "\n",
        "    obs = eval_env.reset()\n",
        "    for _ in range(video_length):\n",
        "        action, _ = model.predict(obs)\n",
        "        obs, _, _, _ = eval_env.step(action)\n",
        "\n",
        "    # Close the video recorder\n",
        "    eval_env.close()"
      ]
    },
    {
      "cell_type": "markdown",
      "metadata": {
        "id": "Dchfu9auMzHw"
      },
      "source": [
        "# 1. 強化学習モデルの定義と訓練の実施\n",
        "\n",
        "stable baselines3 の公式ドキュメントによれば，`LunarLander` を実行するには，`bod2d` モジュールが必要になる。\n",
        "[ローカル文書](file:///Users/_asakawa/study/2021DLR-RM_stable-baselines3.git/docs/_build/html/guide/examples.html#basic-usage-training-saving-loading)\n",
        "```\n",
        "LunarLander requires the python package box2d.\n",
        "You can install it using `apt install swig` and then `pip install box2d box2d-kengz`\n",
        "```"
      ]
    },
    {
      "cell_type": "code",
      "execution_count": null,
      "metadata": {
        "id": "Ycq5uSLxml0T",
        "tags": []
      },
      "outputs": [],
      "source": [
        "# source form <https://araffin.github.io/post/sb3/>\n",
        "from stable_baselines3 import PPO  # Proximal Policy Optimization\n",
        "from stable_baselines3 import A2C  # Asynchronous Advantage Actor Critic (A3C)\n",
        "from stable_baselines3 import DDPG # Deep Deterministic Policy Gradient\n",
        "from stable_baselines3 import DQN  # Deep Q Network\n",
        "from stable_baselines3 import SAC  # Soft Actor Critic\n",
        "from stable_baselines3.common.monitor import Monitor\n",
        "from stable_baselines3.common.callbacks import CheckpointCallback, EvalCallback\n",
        "\n",
        "# 途中経過 `checkpoint` を 5000 ステップ毎に保存\n",
        "checkpoint_callback = CheckpointCallback(save_freq=5000,\n",
        "                                         save_path=\"./logs/\",\n",
        "                                         name_prefix=\"rl_model\")\n",
        "\n",
        "# モデルを定期的に評価し，最良モデルを自動的に保存する\n",
        "# エピソードの統計量を報告させるには，適切なモニターラッパが必要\n",
        "game_id = 'Breakout'  # 'CartPole-v2', 'LunarLander-v2', 'Tennis'\n",
        "game_id = 'Tennis'\n",
        "game_id = 'Boxing'\n",
        "game_id = 'Gopher'\n",
        "game_id = 'CartPole-v1'\n",
        "eval_env = Monitor(gym.make(game_id))\n",
        "#eval_env = Monitor(gym.make(\"LunarLander-v2\"))\n",
        "\n",
        "# 評価のためには，決定論的な行動が必要\n",
        "eval_callback = EvalCallback(eval_env,                        # モニター環境\n",
        "                             best_model_save_path=\"./logs/\",  # 最良モデルの保存場所\n",
        "                             log_path=\"./logs/\",              # ログの保存場所\n",
        "                             eval_freq=2000,                  # 観察頻度\n",
        "                             deterministic=True,              # 決定論的行動\n",
        "                             render=False)                    # レンダリング\n",
        "\n",
        "# 動作主 (エージェント) を訓練\n",
        "model = PPO(\"MlpPolicy\", game_id, verbose=0)\n",
        "\n",
        "# 実際の学習\n",
        "model.learn(total_timesteps=20000,\n",
        "            callback=[checkpoint_callback, eval_callback])\n",
        "\n",
        "# 環境の呼び出しとリセット\n",
        "env = model.get_env()\n",
        "obs = env.reset()\n",
        "\n",
        "# モデルを呼び出して，確率論的な動作をさせる\n",
        "action, _ = model.predict(obs, deterministic=False)\n"
      ]
    },
    {
      "cell_type": "code",
      "execution_count": null,
      "metadata": {
        "id": "gzVaiVO2pN-d"
      },
      "outputs": [],
      "source": [
        "env_id=game_id\n",
        "prefix=game_id\n",
        "record_video(env_id=env_id,\n",
        "             model=model,\n",
        "             video_length=500,\n",
        "             prefix=prefix)"
      ]
    },
    {
      "cell_type": "code",
      "execution_count": null,
      "metadata": {
        "id": "CMEirPUQpWFJ"
      },
      "outputs": [],
      "source": [
        "show_videos(video_path=\"videos\", prefix=prefix)"
      ]
    },
    {
      "cell_type": "code",
      "execution_count": null,
      "metadata": {
        "id": "NvYYRG53p2t_"
      },
      "outputs": [],
      "source": []
    }
  ],
  "metadata": {
    "accelerator": "GPU",
    "colab": {
      "gpuType": "A100",
      "machine_shape": "hm",
      "private_outputs": true,
      "provenance": [],
      "include_colab_link": true
    },
    "kernelspec": {
      "display_name": "Python 3 (ipykernel)",
      "language": "python",
      "name": "python3"
    },
    "language_info": {
      "codemirror_mode": {
        "name": "ipython",
        "version": 3
      },
      "file_extension": ".py",
      "mimetype": "text/x-python",
      "name": "python",
      "nbconvert_exporter": "python",
      "pygments_lexer": "ipython3",
      "version": "3.9.13"
    }
  },
  "nbformat": 4,
  "nbformat_minor": 0
}