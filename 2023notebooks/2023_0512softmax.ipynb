{
  "nbformat": 4,
  "nbformat_minor": 0,
  "metadata": {
    "colab": {
      "private_outputs": true,
      "provenance": [],
      "authorship_tag": "ABX9TyO4l3pUIVvjkOqfekuszm6Z",
      "include_colab_link": true
    },
    "kernelspec": {
      "name": "python3",
      "display_name": "Python 3"
    },
    "language_info": {
      "name": "python"
    }
  },
  "cells": [
    {
      "cell_type": "markdown",
      "metadata": {
        "id": "view-in-github",
        "colab_type": "text"
      },
      "source": [
        "<a href=\"https://colab.research.google.com/github/komazawa-deep-learning/komazawa-deep-learning.github.io/blob/master/2023notebooks/2023_0512softmax.ipynb\" target=\"_parent\"><img src=\"https://colab.research.google.com/assets/colab-badge.svg\" alt=\"Open In Colab\"/></a>"
      ]
    },
    {
      "cell_type": "code",
      "execution_count": null,
      "metadata": {
        "id": "dXcGpouNSTx_"
      },
      "outputs": [],
      "source": [
        "import numpy as np\n",
        "import matplotlib.pyplot as plt\n",
        "try:\n",
        "    import japanize_matplotlib\n",
        "except ImportError:\n",
        "    !pip install japanize_matplotlib\n",
        "    import japanize_matplotlib"
      ]
    },
    {
      "cell_type": "code",
      "source": [
        "# 乱数の種を設定\n",
        "np.random.seed(42)\n",
        "\n",
        "# N 個の一様乱数を生成して X とする\n",
        "N = 3\n",
        "X = np.random.rand(3)\n",
        "print(f'生成された X:{X}')\n",
        "\n",
        "plt.ylim(0,1.1)\n",
        "plt.xticks(range(len(X)))\n",
        "plt.bar(range(len(X)), X)\n",
        "plt.show()"
      ],
      "metadata": {
        "id": "UKJ7KrrUSWJG"
      },
      "execution_count": null,
      "outputs": []
    },
    {
      "cell_type": "code",
      "source": [
        "def softmax(X, beta=1.0):\n",
        "    Z = np.exp(X/beta).sum()\n",
        "    return np.exp(X/beta)/Z\n",
        "\n",
        "print(X, softmax(X), softmax(X).sum())\n",
        "\n",
        "beta = 1\n",
        "plt.ylim(0,1.1)\n",
        "plt.xticks(range(len(X)))\n",
        "plt.bar(range(len(X)), softmax(X,beta=beta))\n",
        "plt.show()"
      ],
      "metadata": {
        "id": "ajgVcaGySZ56"
      },
      "execution_count": null,
      "outputs": []
    },
    {
      "cell_type": "code",
      "source": [
        "beta = 0.03\n",
        "#seed = 42\n",
        "#np.random.seed(seed)\n",
        "np.set_printoptions(formatter={'float_kind':'{:.3f}'.format})\n",
        "\n",
        "members = ['浅川 伸一', '濱田 龍', '宮近 芽依', '星野 総一', 'タカハシ ホノカ', '星 優花', \n",
        "           '米盛 希々子', '桂木 爽多', '荘 佑誠', '柴嵜 開士', '三方 陽登', '岩井 萌香', \n",
        "           '横瀬 悠樹', '横田 啓人', '海老沼 朱歩', '新井 雄大', '橋本 理央', '小林 優斗', \n",
        "           '池田 浩志', '鷹野 皓亮', '大森 一輝', '宮澤 康生', '冨岡 敬樹', '今井 夢乃', \n",
        "           '高野 颯馬', '畠山 耀介', '貝瀬 浩太', '藤山 侑太', '安納 大翔', '廣木 春斗', '宇佐美 篤己']\n",
        "\n",
        "# メンバー分の乱数を生成し vals に格納する\n",
        "vals = np.random.rand(len(members))\n",
        "\n",
        "# 上で生成した乱数 vals をソフトマックス関数にかけて確率に変換する\n",
        "P = softmax(vals, beta=beta)\n",
        "print(f'オリジナルの乱数 vals:{vals}',\n",
        "      f'\\nsoftmax 変換後の値 P:{P}')\n",
        "\n",
        "plt.figure(figsize=(8,3))\n",
        "\n",
        "# 棒グラフを作成\n",
        "plt.bar(range(len(members)), P)\n",
        "\n",
        "# X 軸に，参加者名を載せる\n",
        "plt.xticks(np.arange(len(members)), [member for member in members], rotation=90, fontsize=8)\n",
        "\n",
        "# Y 軸の，上限と下限を設定\n",
        "#plt.ylim(0,1)\n",
        "\n",
        "member_selected = members[np.random.choice(len(members), p=P)]\n",
        "plt.title(f'{member_selected} さんが選ばれました')\n",
        "\n",
        "# グラフの描画\n",
        "plt.show()\n",
        "\n"
      ],
      "metadata": {
        "id": "cK4sw4kKSfCv"
      },
      "execution_count": null,
      "outputs": []
    },
    {
      "cell_type": "code",
      "source": [],
      "metadata": {
        "id": "cjzyHxT8So2S"
      },
      "execution_count": null,
      "outputs": []
    }
  ]
}