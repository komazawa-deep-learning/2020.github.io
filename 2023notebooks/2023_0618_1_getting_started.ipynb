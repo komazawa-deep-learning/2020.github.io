{
  "cells": [
    {
      "cell_type": "markdown",
      "metadata": {
        "id": "view-in-github",
        "colab_type": "text"
      },
      "source": [
        "<a href=\"https://colab.research.google.com/github/komazawa-deep-learning/komazawa-deep-learning.github.io/blob/master/2023notebooks/2023_0618_1_getting_started.ipynb\" target=\"_parent\"><img src=\"https://colab.research.google.com/assets/colab-badge.svg\" alt=\"Open In Colab\"/></a>"
      ]
    },
    {
      "cell_type": "markdown",
      "source": [
        "---\n",
        "date: 2023_0618\n",
        "---\n",
        "\n",
        "stablebaselines3\n",
        "from <https://araffin.github.io/post/sb3/>"
      ],
      "metadata": {
        "id": "8i5xrt688kId"
      }
    },
    {
      "cell_type": "markdown",
      "metadata": {
        "id": "hyyN-2qyK_T2"
      },
      "source": [
        "# Stable Baselines3 Tutorial - Getting Started\n",
        "\n",
        "Github repo: https://github.com/araffin/rl-tutorial-jnrr19/tree/sb3/\n",
        "\n",
        "Stable-Baselines3: https://github.com/DLR-RM/stable-baselines3\n",
        "\n",
        "Documentation: https://stable-baselines3.readthedocs.io/en/master/\n",
        "\n",
        "SB3-Contrib: https://github.com/Stable-Baselines-Team/stable-baselines3-contrib\n",
        "\n",
        "RL Baselines3 zoo: https://github.com/DLR-RM/rl-baselines3-zoo\n",
        "\n",
        "[RL Baselines3 Zoo](https://github.com/DLR-RM/rl-baselines3-zoo) は，Stable Baselines3 を用いた強化学習 (RL) のための訓練フレームワーク。\n",
        "<!-- [RL Baselines3 Zoo](https://github.com/DLR-RM/rl-baselines3-zoo) is a training framework for Reinforcement Learning (RL), using Stable Baselines3.-->\n",
        "\n",
        "訓練，エージェントの評価，ハイパーパラメータの調整，結果のプロット，ビデオ撮影のためのスクリプトが用意されている。\n",
        "<!-- It provides scripts for training, evaluating agents, tuning hyperparameters, plotting results and recording videos. -->\n",
        "\n",
        "\n",
        "## はじめに <!-- ## Introduction-->\n",
        "\n",
        "このノートブックでは，stable baselines ライブラリの基本的な使い方，つまり RL モデルの作成方法，訓練方法，評価方法を学ぶ。\n",
        "すべてのアルゴリズムは同じインターフェイスを共有しているため，あるアルゴリズムから別のアルゴリズムへの切り替えがいかに簡単であるかを確認することができる。\n",
        "<!--In this notebook, you will learn the basics for using stable baselines library: how to create a RL model, train it and evaluate it.\n",
        "Because all algorithms share the same interface, we will see how simple it is to switch from one algorithm to another. -->\n",
        "\n",
        "\n",
        "##  Pip を用いた依存関係と安定した Baselines3 のインストール <!-- ## Install Dependencies and Stable Baselines3 Using Pip-->\n",
        "\n",
        "完全な依存関係のリストは [README](https://github.com/DLR-RM/stable-baselines3) に記載されている。\n",
        "<!-- List of full dependencies can be found in the [README](https://github.com/DLR-RM/stable-baselines3). -->\n",
        "\n",
        "\n",
        "Zsh などを使っている M1 Mac などでは，シングルクォートが必須\n",
        "```\n",
        "pip install 'stable-baselines3[extra]'\n",
        "```"
      ]
    },
    {
      "cell_type": "code",
      "source": [
        "from IPython import get_ipython\n",
        "isColab =  'google.colab' in str(get_ipython())\n",
        "if isColab:\n",
        "    !pip install jupyter-black"
      ],
      "metadata": {
        "id": "JjFyFoUpGIkR"
      },
      "execution_count": null,
      "outputs": []
    },
    {
      "cell_type": "code",
      "execution_count": 20,
      "metadata": {
        "id": "PSqxDQ-48T41",
        "colab": {
          "base_uri": "https://localhost:8080/",
          "height": 17
        },
        "outputId": "c06368f0-e7ad-406f-d17e-098105e4a8f1"
      },
      "outputs": [
        {
          "output_type": "display_data",
          "data": {
            "text/plain": [
              "<IPython.core.display.HTML object>"
            ],
            "text/html": [
              "\n",
              "                <script type=\"application/javascript\" id=\"jupyter_black\">\n",
              "                (function() {\n",
              "                    if (window.IPython === undefined) {\n",
              "                        return\n",
              "                    }\n",
              "                    var msg = \"WARNING: it looks like you might have loaded \" +\n",
              "                        \"jupyter_black in a non-lab notebook with \" +\n",
              "                        \"`is_lab=True`. Please double check, and if \" +\n",
              "                        \"loading with `%load_ext` please review the README!\"\n",
              "                    console.log(msg)\n",
              "                    alert(msg)\n",
              "                })()\n",
              "                </script>\n",
              "                "
            ]
          },
          "metadata": {}
        }
      ],
      "source": [
        "# for autoformatting\n",
        "%load_ext jupyter_black"
      ]
    },
    {
      "cell_type": "code",
      "execution_count": 21,
      "metadata": {
        "id": "gWskDE2c9WoN"
      },
      "outputs": [],
      "source": [
        "if isColab:\n",
        "    !apt-get install ffmpeg freeglut3-dev xvfb  # For visualization\n",
        "    !pip install \"stable-baselines3[extra]>=2.0.0a4\""
      ]
    },
    {
      "cell_type": "markdown",
      "metadata": {
        "id": "FtY8FhliLsGm"
      },
      "source": [
        "## 輸入 Imports"
      ]
    },
    {
      "cell_type": "markdown",
      "metadata": {
        "id": "gcX8hEcaUpR0"
      },
      "source": [
        "Stable-Baselines3は、[gym interface](https://stable-baselines3.readthedocs.io/en/master/guide/custom_env.html)に従った環境上で動作する。\n",
        "利用可能な環境のリストは [こちら](https://gymnasium.farama.org/environments/classic_control/) で見ることができる。\n",
        "<!-- Stable-Baselines3 works on environments that follow the [gym interface](https://stable-baselines3.readthedocs.io/en/master/guide/custom_env.html).\n",
        "You can find a list of available environment [here](https://gymnasium.farama.org/environments/classic_control/).-->\n",
        "\n",
        "すべてのアルゴリズムがすべての行動空間で動作するわけではない。\n",
        "詳しくはこの [総括表](https://stable-baselines3.readthedocs.io/en/master/guide/algos.html) 参照。\n",
        "<!-- Not all algorithms can work with all action spaces, you can find more in this [recap table](https://stable-baselines3.readthedocs.io/en/master/guide/algos.html) -->"
      ]
    },
    {
      "cell_type": "code",
      "execution_count": 23,
      "metadata": {
        "id": "BIedd7Pz9sOs"
      },
      "outputs": [],
      "source": [
        "import gymnasium as gym\n",
        "import numpy as np"
      ]
    },
    {
      "cell_type": "markdown",
      "metadata": {
        "id": "Ae32CtgzTG3R"
      },
      "source": [
        "最初に輸入する必要があるのは RL モデルで，どの問題で何が使えるかはドキュメントを確認せよ。\n",
        "<!-- The first thing you need to import is the RL model, check the documentation to know what you can use on which problem -->"
      ]
    },
    {
      "cell_type": "code",
      "execution_count": 24,
      "metadata": {
        "id": "R7tKaBFrTR0a"
      },
      "outputs": [],
      "source": [
        "from stable_baselines3 import PPO"
      ]
    },
    {
      "cell_type": "markdown",
      "metadata": {
        "id": "-0_8OQbOTTNT"
      },
      "source": [
        "次に輸入する必要があるのは，(方針/価値関数の) ネットワークを作成するために使用される方針クラスである。\n",
        "コンストラクタで直接文字列を使用することができるので，このステップはオプションである：\n",
        "<!-- The next thing you need to import is the policy class that will be used to create the networks (for the policy/value functions).\n",
        "This step is optional as you can directly use strings in the constructor: -->\n",
        "\n",
        "`PPO(MlpPolicy, env)` の替わりに `PPO('MlpPolicy', env)`\n",
        "\n",
        "SAC のようないくつかのアルゴリズムは，独自の `MlpPolicy` を持つので，方針に文字列を使うことが推奨される。\n",
        "<!-- Note that some algorithms like `SAC` have their own `MlpPolicy`, that's why using string for the policy is the recommended option. -->"
      ]
    },
    {
      "cell_type": "code",
      "execution_count": 25,
      "metadata": {
        "id": "ROUJr675TT01"
      },
      "outputs": [],
      "source": [
        "from stable_baselines3.ppo.policies import MlpPolicy"
      ]
    },
    {
      "cell_type": "markdown",
      "metadata": {
        "id": "RapkYvTXL7Cd"
      },
      "source": [
        "## Gym env の作成とエージェントの実体化 <!-- ## Create the Gym env and instantiate the agent-->\n",
        "\n",
        "この例では，古典的な制御問題である CartPole 環境を使用する。\n",
        "<!--For this example, we will use CartPole environment, a classic control problem.-->\n",
        "\n",
        "“ポールは，摩擦のない軌道を移動するカートに，(アクチュエータなしの) ジョイントで取り付けられている。\n",
        "この系は，カートに +1 または -1 の力を加えることで制御される。\n",
        "振り子は直立した状態でスタートし，倒れないようにすることが目標となる。\n",
        "振り子が直立したままであれば，1 タイムステップごとに +1 の報酬が与えられる。\"\n",
        "<!-- \"A pole is attached by an un-actuated joint to a cart, which moves along a frictionless track.\n",
        "The system is controlled by applying a force of +1 or -1 to the cart.\n",
        "The pendulum starts upright, and the goal is to prevent it from falling over.\n",
        "A reward of +1 is provided for every timestep that the pole remains upright. \" -->\n",
        "\n",
        "倒立振子 (Cartpole) 環境  <!--environment-->: [https://gymnasium.farama.org/environments/classic_control/cart_pole/](https://gymnasium.farama.org/environments/classic_control/cart_pole/)\n",
        "\n",
        "<center>\n",
        "<img src=\"https://cdn-images-1.medium.com/max/1143/1*h4WTQNVIsvMXJTCpXm_TAw.gif\" width=\"33%\">\n",
        "</center>\n",
        "\n",
        "<!-- ![Cartpole](https://cdn-images-1.medium.com/max/1143/1*h4WTQNVIsvMXJTCpXm_TAw.gif) -->\n",
        "\n",
        "MlpPolicy を選んだのは，倒立振子 (CartPole) 課題の観測が画像ではなく，特徴ベクトルであるためである。\n",
        "<!-- We chose the MlpPolicy because the observation of the CartPole task is a feature vector, not images.-->\n",
        "\n",
        "使用する行動の種類 (離散／連続) は，環境の行動空間から自動的に推論される。\n",
        "<!-- The type of action to use (discrete/continuous) will be automatically deduced from the environment action space -->\n",
        "\n",
        "ここでは [近位方針最適化 Proximal Policy Optimization](https://stable-baselines3.readthedocs.io/en/master/modules/ppo.html) アルゴリズムを使用している。\n",
        "これは アクター・クリティック (Actor-Critic) 法の一つで，価値関数を使用して方針の勾配降下を (分散を減らすことによって) 改善するアルゴリズムである。\n",
        "<!-- Here we are using the [Proximal Policy Optimization](https://stable-baselines3.readthedocs.io/en/master/modules/ppo.html) algorithm, which is an Actor-Critic method: it uses a value function to improve the policy gradient descent (by reducing the variance). -->\n",
        "\n",
        "[A2C](https://stable-baselines3.readthedocs.io/en/master/modules/a2c.html) (複数のワーカーを持ち，探索にエントロピーボーナスを使う) と [信頼領域方針最適化 TRPO](https://stable-baselines.readthedocs.io/en/master/modules/trpo.html) (信頼領域を用い，安定性を向上させて性能の壊滅的低下を回避する) のアイデアを組み合わせたものである。\n",
        "<!-- It combines ideas from [A2C](https://stable-baselines3.readthedocs.io/en/master/modules/a2c.html) (having multiple workers and using an entropy bonus for exploration) and [TRPO](https://stable-baselines.readthedocs.io/en/master/modules/trpo.html) (it uses a trust region to improve stability and avoid catastrophic drops in performance).-->\n",
        "\n",
        "PPO はオンポリシーアルゴリズムであり，ネットワークの更新に使用する軌跡は最新のポリシーを使用して収集されなければならないことを意味する。\n",
        "通常，[DQN](https://stable-baselines.readthedocs.io/en/master/modules/dqn.html), [SAC](https://stable-baselines3.readthedocs.io/en/master/modules/sac.html), [TD3](https://stable-baselines3.readthedocs.io/en/master/modules/td3.html) のようなオフポリシーアルゴリズムよりもサンプル効率が劣るが，ウォールクロック時間に関してははるかに高速である。\n",
        "<!--PPO is an on-policy algorithm, which means that the trajectories used to update the networks must be collected using the latest policy.\n",
        "It is usually less sample efficient than off-policy alorithms like [DQN](https://stable-baselines.readthedocs.io/en/master/modules/dqn.html), [SAC](https://stable-baselines3.readthedocs.io/en/master/modules/sac.html) or [TD3](https://stable-baselines3.readthedocs.io/en/master/modules/td3.html), but is much faster regarding wall-clock time. -->\n"
      ]
    },
    {
      "cell_type": "code",
      "execution_count": 26,
      "metadata": {
        "id": "pUWGZp3i9wyf"
      },
      "outputs": [],
      "source": [
        "env = gym.make(\"CartPole-v1\")\n",
        "\n",
        "model = PPO(MlpPolicy, env, verbose=0)"
      ]
    },
    {
      "cell_type": "markdown",
      "metadata": {
        "id": "4efFdrQ7MBvl"
      },
      "source": [
        "エージェントを評価するためのヘルパー関数を作成する：\n",
        "<!-- We create a helper function to evaluate the agent: -->"
      ]
    },
    {
      "cell_type": "code",
      "execution_count": 27,
      "metadata": {
        "id": "63M8mSKR-6Zt"
      },
      "outputs": [],
      "source": [
        "from stable_baselines3.common.base_class import BaseAlgorithm\n",
        "\n",
        "\n",
        "def evaluate(\n",
        "    model: BaseAlgorithm,\n",
        "    num_episodes: int = 100,\n",
        "    deterministic: bool = True,\n",
        ") -> float:\n",
        "    \"\"\"\n",
        "    `num_eposodes` に渡って強化学習エージェントを評価する\n",
        "\n",
        "    :param model: 強化学習エージェント\n",
        "    :param env: gym 環境\n",
        "    :param num_episodes: 評価のためのエピソード回数\n",
        "    :param deterministic: 決定論的行動を用いるか否かのフラグ\n",
        "    :return: 直近 `num_episodes` の平均報酬\n",
        "    \"\"\"\n",
        "    # この関数は，単一環境でのみ動作する\n",
        "    vec_env = model.get_env()\n",
        "    obs = vec_env.reset()\n",
        "    all_episode_rewards = []\n",
        "    for _ in range(num_episodes):\n",
        "        episode_rewards = []\n",
        "        done = False\n",
        "        # 注: SB3 VecEnv は自動的にリセットされる\n",
        "        # https://stable-baselines3.readthedocs.io/en/master/guide/vec_envs.html#vecenv-api-vs-gym-api\n",
        "        # obs = vec_env.reset()\n",
        "        while not done:\n",
        "            # _states は LSTM 方針で有益\n",
        "            # `deterministic` は決定論的行動を行うか否か\n",
        "            action, _states = model.predict(obs, deterministic=deterministic)\n",
        "            # `action`, `rewards`, `dones` は配列\n",
        "            # vectorized env を用いているため\n",
        "            obs, reward, done, _info = vec_env.step(action)\n",
        "            episode_rewards.append(reward)\n",
        "\n",
        "        all_episode_rewards.append(sum(episode_rewards))\n",
        "\n",
        "    mean_episode_reward = np.mean(all_episode_rewards)\n",
        "    print(f\"Mean reward: {mean_episode_reward:.2f} - Num episodes: {num_episodes}\")\n",
        "\n",
        "    return mean_episode_reward"
      ]
    },
    {
      "cell_type": "markdown",
      "metadata": {
        "id": "zjEVOIY8NVeK"
      },
      "source": [
        "訓練されていないエージェントを評価してみる。\n",
        "このために，初期状態はランダムなエージェントである。\n",
        "<!-- Let's evaluate the un-trained agent, this should be a random agent. -->"
      ]
    },
    {
      "cell_type": "code",
      "execution_count": 28,
      "metadata": {
        "id": "xDHLMA6NFk95",
        "colab": {
          "base_uri": "https://localhost:8080/"
        },
        "outputId": "7622a1fa-c982-4699-e56c-95d97a57dea9"
      },
      "outputs": [
        {
          "output_type": "stream",
          "name": "stdout",
          "text": [
            "Mean reward: 41.50 - Num episodes: 100\n"
          ]
        }
      ],
      "source": [
        "# 訓練前の乱数で初期化された動作主\n",
        "mean_reward_before_train = evaluate(model, num_episodes=100, deterministic=True)"
      ]
    },
    {
      "cell_type": "markdown",
      "metadata": {
        "id": "QjjPxrwkYJ2i"
      },
      "source": [
        "Stable-Baselines はすでにそのヘルパーを提供している：\n",
        "<!-- Stable-Baselines already provides you with that helper: -->"
      ]
    },
    {
      "cell_type": "code",
      "execution_count": 29,
      "metadata": {
        "id": "8z6K9YImYJEx"
      },
      "outputs": [],
      "source": [
        "from stable_baselines3.common.evaluation import evaluate_policy"
      ]
    },
    {
      "cell_type": "code",
      "execution_count": 30,
      "metadata": {
        "id": "4oPTHjxyZSOL",
        "colab": {
          "base_uri": "https://localhost:8080/"
        },
        "outputId": "873ad393-1da9-44c7-f6f5-2336252f9d20"
      },
      "outputs": [
        {
          "output_type": "stream",
          "name": "stdout",
          "text": [
            "mean_reward: 42.50 +/- 14.37\n"
          ]
        }
      ],
      "source": [
        "mean_reward, std_reward = evaluate_policy(model, env, n_eval_episodes=100, warn=False)\n",
        "\n",
        "print(f\"mean_reward: {mean_reward:.2f} +/- {std_reward:.2f}\")"
      ]
    },
    {
      "cell_type": "markdown",
      "metadata": {
        "id": "r5UoXTZPNdFE"
      },
      "source": [
        "## Train the agent and evaluate it"
      ]
    },
    {
      "cell_type": "code",
      "execution_count": 31,
      "metadata": {
        "id": "e4cfSXIB-pTF",
        "colab": {
          "base_uri": "https://localhost:8080/"
        },
        "outputId": "dacd91b2-3483-4523-fa46-fee342a5de28"
      },
      "outputs": [
        {
          "output_type": "execute_result",
          "data": {
            "text/plain": [
              "<stable_baselines3.ppo.ppo.PPO at 0x7f60bf66b5e0>"
            ]
          },
          "metadata": {},
          "execution_count": 31
        }
      ],
      "source": [
        "# 動作主を 10000 ステップ訓練\n",
        "model.learn(total_timesteps=10_000)"
      ]
    },
    {
      "cell_type": "code",
      "execution_count": 32,
      "metadata": {
        "id": "ygl_gVmV_QP7",
        "colab": {
          "base_uri": "https://localhost:8080/"
        },
        "outputId": "8b0771b8-9a04-47f5-e709-35bafc0b1b51"
      },
      "outputs": [
        {
          "output_type": "stream",
          "name": "stderr",
          "text": [
            "/usr/local/lib/python3.10/dist-packages/stable_baselines3/common/evaluation.py:67: UserWarning: Evaluation environment is not wrapped with a ``Monitor`` wrapper. This may result in reporting modified episode lengths and rewards, if other wrappers happen to modify these. Consider wrapping environment first with ``Monitor`` wrapper.\n",
            "  warnings.warn(\n"
          ]
        },
        {
          "output_type": "stream",
          "name": "stdout",
          "text": [
            "mean_reward:442.79 +/- 76.04\n"
          ]
        }
      ],
      "source": [
        "# 訓練済の動作主を評価\n",
        "mean_reward, std_reward = evaluate_policy(model, env, n_eval_episodes=100)\n",
        "\n",
        "print(f\"mean_reward:{mean_reward:.2f} +/- {std_reward:.2f}\")"
      ]
    },
    {
      "cell_type": "markdown",
      "metadata": {
        "id": "A00W6yY3NkHG"
      },
      "source": [
        "訓練はうまくいったようで，平均報酬は大きく伸びた！\n",
        "<!-- Apparently the training went well, the mean reward increased a lot ! -->"
      ]
    },
    {
      "cell_type": "markdown",
      "metadata": {
        "id": "xVm9QPNVwKXN"
      },
      "source": [
        "### 動画撮影の準備 <!-- ### Prepare video recording -->"
      ]
    },
    {
      "cell_type": "code",
      "execution_count": 33,
      "metadata": {
        "id": "MPyfQxD5z26J"
      },
      "outputs": [],
      "source": [
        "# フェイク画面のセットアップ，そうしないとレンダリングに失敗する\n",
        "import os\n",
        "os.system(\"Xvfb :1 -screen 0 1024x768x24 &\")\n",
        "os.environ['DISPLAY'] = ':1'"
      ]
    },
    {
      "cell_type": "code",
      "execution_count": 34,
      "metadata": {
        "id": "SLzXxO8VMD6N"
      },
      "outputs": [],
      "source": [
        "import base64\n",
        "from pathlib import Path\n",
        "\n",
        "from IPython import display as ipythondisplay\n",
        "\n",
        "\n",
        "def show_videos(video_path=\"\", prefix=\"\"):\n",
        "    \"\"\"\n",
        "    https://github.com/eleurent/highway-env より援用\n",
        "\n",
        "    :param video_path: (str) 動画が格納されているフォルダのパス\n",
        "    :param prefix: (str) この接頭辞のついた動画のみを表示する\n",
        "    \"\"\"\n",
        "    html = []\n",
        "    for mp4 in Path(video_path).glob(\"{}*.mp4\".format(prefix)):\n",
        "        video_b64 = base64.b64encode(mp4.read_bytes())\n",
        "        html.append(\n",
        "            \"\"\"<video alt=\"{}\" autoplay\n",
        "                    loop controls style=\"height: 400px;\">\n",
        "                    <source src=\"data:video/mp4;base64,{}\" type=\"video/mp4\" />\n",
        "                </video>\"\"\".format(\n",
        "                mp4, video_b64.decode(\"ascii\")\n",
        "            )\n",
        "        )\n",
        "    ipythondisplay.display(ipythondisplay.HTML(data=\"<br>\".join(html)))"
      ]
    },
    {
      "cell_type": "markdown",
      "metadata": {
        "id": "LTRNUfulOGaF"
      },
      "source": [
        "[VecVideoRecorder](https://stable-baselines3.readthedocs.io/en/master/guide/vec_envs.html#vecvideorecorder) ラッパーを使って動画を録画する。\n",
        "このラッパーについては，次のノートブックで学ぶ。\n",
        "<!-- We will record a video using the [VecVideoRecorder](https://stable-baselines3.readthedocs.io/en/master/guide/vec_envs.html#vecvideorecorder) wrapper, you will learn about those wrapper in the next notebook. -->"
      ]
    },
    {
      "cell_type": "code",
      "execution_count": 35,
      "metadata": {
        "id": "Trag9dQpOIhx"
      },
      "outputs": [],
      "source": [
        "from stable_baselines3.common.vec_env import VecVideoRecorder, DummyVecEnv\n",
        "\n",
        "\n",
        "def record_video(env_id, model, video_length=500, prefix=\"\", video_folder=\"videos/\"):\n",
        "    \"\"\"\n",
        "    :param env_id: (str)\n",
        "    :param model: (RL model)\n",
        "    :param video_length: (int)\n",
        "    :param prefix: (str)\n",
        "    :param video_folder: (str)\n",
        "    \"\"\"\n",
        "    eval_env = DummyVecEnv([lambda: gym.make(env_id, render_mode=\"rgb_array\")])\n",
        "    # Start the video at step=0 and record 500 steps\n",
        "    eval_env = VecVideoRecorder(\n",
        "        eval_env,\n",
        "        video_folder=video_folder,\n",
        "        record_video_trigger=lambda step: step == 0,\n",
        "        video_length=video_length,\n",
        "        name_prefix=prefix,\n",
        "    )\n",
        "\n",
        "    obs = eval_env.reset()\n",
        "    for _ in range(video_length):\n",
        "        action, _ = model.predict(obs)\n",
        "        obs, _, _, _ = eval_env.step(action)\n",
        "\n",
        "    # Close the video recorder\n",
        "    eval_env.close()"
      ]
    },
    {
      "cell_type": "markdown",
      "metadata": {
        "id": "KOObbeu5MMlR"
      },
      "source": [
        "### 学習済みエージェントの可視化\n",
        "<!-- ### Visualize trained agent -->\n"
      ]
    },
    {
      "cell_type": "code",
      "execution_count": 36,
      "metadata": {
        "id": "iATu7AiyMQW2",
        "colab": {
          "base_uri": "https://localhost:8080/"
        },
        "outputId": "452e8c4d-2b6a-4007-a669-3e41f828eaa2"
      },
      "outputs": [
        {
          "output_type": "stream",
          "name": "stdout",
          "text": [
            "Saving video to /content/videos/ppo-cartpole-step-0-to-step-500.mp4\n",
            "Moviepy - Building video /content/videos/ppo-cartpole-step-0-to-step-500.mp4.\n",
            "Moviepy - Writing video /content/videos/ppo-cartpole-step-0-to-step-500.mp4\n",
            "\n"
          ]
        },
        {
          "output_type": "stream",
          "name": "stderr",
          "text": []
        },
        {
          "output_type": "stream",
          "name": "stdout",
          "text": [
            "Moviepy - Done !\n",
            "Moviepy - video ready /content/videos/ppo-cartpole-step-0-to-step-500.mp4\n"
          ]
        }
      ],
      "source": [
        "record_video(\"CartPole-v1\", model, video_length=500, prefix=\"ppo-cartpole\")"
      ]
    },
    {
      "cell_type": "code",
      "execution_count": 37,
      "metadata": {
        "id": "-n4i-fW3NojZ",
        "colab": {
          "base_uri": "https://localhost:8080/",
          "height": 421
        },
        "outputId": "5a9b8cbd-936b-426b-cbf6-f2958c3964fa"
      },
      "outputs": [
        {
          "output_type": "display_data",
          "data": {
            "text/plain": [
              "<IPython.core.display.HTML object>"
            ],
            "text/html": [
              "<video alt=\"videos/ppo-cartpole-step-0-to-step-500.mp4\" autoplay\n",
              "                    loop controls style=\"height: 400px;\">\n",
              "                    <source src=\"data:video/mp4;base64,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\" type=\"video/mp4\" />\n",
              "                </video>"
            ]
          },
          "metadata": {}
        }
      ],
      "source": [
        "show_videos(\"videos\", prefix=\"ppo\")"
      ]
    },
    {
      "cell_type": "markdown",
      "metadata": {
        "id": "9Y8zg4V566qD"
      },
      "source": [
        "## ボーナス：1 行で RL モデルを訓練 <!-- ## Bonus: Train a RL Model in One Line -->\n",
        "\n",
        "使用するポリシークラスが推論され，環境も自動的に作成される。\n",
        "どちらも [登録済 (registered)](https://stable-baselines3.readthedocs.io/en/master/guide/quickstart.html) であるため，動作する。\n",
        "<!-- The policy class to use will be inferred and the environment will be automatically created.\n",
        "This works because both are [registered](https://stable-baselines3.readthedocs.io/en/master/guide/quickstart.html). -->"
      ]
    },
    {
      "cell_type": "code",
      "execution_count": 38,
      "metadata": {
        "id": "iaOPfOrwWEP4",
        "colab": {
          "base_uri": "https://localhost:8080/"
        },
        "outputId": "1d69f346-4a82-4000-fdaa-9509e3d8b7e5"
      },
      "outputs": [
        {
          "output_type": "stream",
          "name": "stdout",
          "text": [
            "Using cuda device\n",
            "Creating environment from the given name 'CartPole-v1'\n",
            "Wrapping the env with a `Monitor` wrapper\n",
            "Wrapping the env in a DummyVecEnv.\n",
            "---------------------------------\n",
            "| rollout/           |          |\n",
            "|    ep_len_mean     | 22       |\n",
            "|    ep_rew_mean     | 22       |\n",
            "| time/              |          |\n",
            "|    fps             | 750      |\n",
            "|    iterations      | 1        |\n",
            "|    time_elapsed    | 2        |\n",
            "|    total_timesteps | 2048     |\n",
            "---------------------------------\n"
          ]
        }
      ],
      "source": [
        "model = PPO('MlpPolicy', \"CartPole-v1\", verbose=1).learn(1000)"
      ]
    },
    {
      "cell_type": "markdown",
      "metadata": {
        "id": "FrI6f5fWnzp-"
      },
      "source": [
        "## まとめ <!-- ## Conclusion-->\n",
        "\n",
        "このノートブックでは\n",
        "* stablebaselines3 を使って RL モデルを定義，訓練する方法を示した。たった 1 行のコードで可能である ;)\n",
        "\n",
        "<!-- In this notebook we have seen:\n",
        "- how to define and train a RL model using stable baselines3, it takes only one line of code ;) -->"
      ]
    },
    {
      "cell_type": "code",
      "execution_count": null,
      "metadata": {
        "id": "73ji3gbNDkf7"
      },
      "outputs": [],
      "source": []
    }
  ],
  "metadata": {
    "accelerator": "GPU",
    "colab": {
      "provenance": [],
      "include_colab_link": true
    },
    "kernelspec": {
      "display_name": "Python 3 (ipykernel)",
      "language": "python",
      "name": "python3"
    },
    "language_info": {
      "codemirror_mode": {
        "name": "ipython",
        "version": 3
      },
      "file_extension": ".py",
      "mimetype": "text/x-python",
      "name": "python",
      "nbconvert_exporter": "python",
      "pygments_lexer": "ipython3",
      "version": "3.10.9"
    }
  },
  "nbformat": 4,
  "nbformat_minor": 0
}