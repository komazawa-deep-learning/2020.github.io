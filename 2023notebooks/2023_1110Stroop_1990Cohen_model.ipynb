{
  "nbformat": 4,
  "nbformat_minor": 0,
  "metadata": {
    "colab": {
      "private_outputs": true,
      "provenance": [],
      "authorship_tag": "ABX9TyOoaa0ZGCAoj3YjrOqPeZ2a",
      "include_colab_link": true
    },
    "kernelspec": {
      "name": "python3",
      "display_name": "Python 3"
    },
    "language_info": {
      "name": "python"
    }
  },
  "cells": [
    {
      "cell_type": "markdown",
      "metadata": {
        "id": "view-in-github",
        "colab_type": "text"
      },
      "source": [
        "<a href=\"https://colab.research.google.com/github/komazawa-deep-learning/komazawa-deep-learning.github.io/blob/master/2023notebooks/2023_1110Stroop_1990Cohen_model.ipynb\" target=\"_parent\"><img src=\"https://colab.research.google.com/assets/colab-badge.svg\" alt=\"Open In Colab\"/></a>"
      ]
    },
    {
      "cell_type": "markdown",
      "source": [
        "# 1990 年代の Stroop 効果のシミュレーション\n",
        "\n",
        "\n",
        "<center>\n",
        "<img src=\"https://raw.githubusercontent.com/komazawa-deep-learning/komazawa-deep-learning.github.io/master/2023assets/1990Cohen_McClelland_stroop_fig3.svg\" width=\"88%\">\n",
        "<div style=\"color:teal;width:77%;text-align:left\">\n",
        "\n",
        "図 3. 単語読解と色名学習後の接続強度を示すネットワーク図。\n",
        "(強度は接続の横に示され，中間ユニットのバイアスはユニットの内側に示されている。\n",
        "課題要求ユニットから中間ユニットへの注意強度は固定され，中間ユニットのバイアスも固定された。\n",
        "課題要求ユニットがオンのとき，対応する経路のユニットの基本入力が 0.0 になり，もう一方の経路のユニットの基本入力が，実験によって -4.0 から -4.9 の範囲になるように選ばれた)。\n",
        "<!-- Figure 3. Diagram of the network showing the connection strengths after training on the word-reading and color-naming tasks.\n",
        "(Strengths are shown next to connections; biases on the intermediate units are shown inside the units.\n",
        "Attention strengths-from task demand units to intermediate units-were fixed, as were biases for the intermediate units.\n",
        "The values were chosen so that when the task demand unit was on, the base input for units in the corresponding pathway was 0.0, whereas the base input to units in the other pathway was in the range of -4.0 to -4.9, depending on the experiment.) -->\n",
        "</div>\n",
        "</center>\n",
        "\n",
        "出典: Cohen, Dunber, & McClelland (1990) __On the Control of Automatic Processes: A Parallel Distributed Processing Account of the Stroop Effect__, Psychological Review, 1990, Vol. 97, No. 3, 332-361.\n"
      ],
      "metadata": {
        "id": "mTGhUG3ya64_"
      }
    },
    {
      "cell_type": "code",
      "execution_count": null,
      "metadata": {
        "id": "6rL2tL_fayaP"
      },
      "outputs": [],
      "source": [
        "import numpy as np\n",
        "\n",
        "ink_color = [\"red\", \"green\"]\n",
        "words = [\"RED\", \"GREEN\"]\n",
        "task_demand = [\"color_namming\", \"word_reading\"]\n",
        "\n",
        "input_tags = ink_color + words + task_demand\n",
        "\n",
        "# 以下は ink_color:red, words:RED, task_demand:color_naminng を表す。\n",
        "inp = [1, 0, 1, 0, 1, 0]\n",
        "\n",
        "# 入力層から中間層への結合係数行列\n",
        "W_h = [[ 2.2,-2.2, 0.0, 0.0],\n",
        "       [-2.2, 2.2, 0.0, 0.0],\n",
        "       [ 0.0, 0.0, 2.6,-2.6],\n",
        "       [ 0.0, 0.0,-2.6, 2.6],\n",
        "       [ 4.0, 4.0, 0.0, 0.0],\n",
        "       [ 0.0, 0.0, 4.0, 4.0]]\n",
        "\n",
        "# 中間層のバイアス\n",
        "bias = [-4.0, -4.0, -4.0, -4.0]\n",
        "\n",
        "# 中間層から出力層への結合係数行列\n",
        "W_x = [[ 1.3,-1.3],\n",
        "       [-1.3, 1.3],\n",
        "       [ 2.5,-2.5],\n",
        "       [-2.5, 2.5]]\n",
        "\n",
        "# 計算のため，上で定義した 2 つの結合係数行列とバイアスを numpy 配列に変換\n",
        "W_h, bias, W_x = np.array(W_h), np.array(bias), np.array(W_x)\n",
        "\n",
        "# 入力データを numpy 配列に変換\n",
        "inp = np.array(inp)\n",
        "\n",
        "# 入力データに中間層への結合係数行列を掛けて中間層の値を計算\n",
        "H = inp @ W_h\n",
        "print(f'中間層の値:               {H}')\n",
        "\n",
        "# 中間層の値をシグモイド関数を用いて変換\n",
        "H = 1.0 / (1.0 + np.exp(-H))\n",
        "print(f'シグモイド変換後の中間層の値:{H}')\n",
        "\n",
        "# 中間層の値に，出力層への結合係数行列を掛けて出力層の値を計算\n",
        "O = H @ W_x\n",
        "print(f'出力層の値:               {O}')\n",
        "\n",
        "# 出力層の値をシグモイド変換\n",
        "O = 1.0 / (1.0 + np.exp(-O))\n",
        "print(f'シグモイド変換後の出力層の値:{O}')"
      ]
    }
  ]
}