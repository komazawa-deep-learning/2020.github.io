{
  "cells": [
    {
      "cell_type": "markdown",
      "metadata": {
        "id": "view-in-github",
        "colab_type": "text"
      },
      "source": [
        "<a href=\"https://colab.research.google.com/github/komazawa-deep-learning/komazawa-deep-learning.github.io/blob/master/2023notebooks/2023_0614karpathy_Policy_gradient_pong.ipynb\" target=\"_parent\"><img src=\"https://colab.research.google.com/assets/colab-badge.svg\" alt=\"Open In Colab\"/></a>"
      ]
    },
    {
      "cell_type": "markdown",
      "metadata": {
        "id": "f5O0FoWNg7Kx"
      },
      "source": [
        "# Deep Reinforcement Learning: Pong from Pixels\n",
        "\n",
        "## 方策勾配法 (Policy gradient) を用いた強化学習エージェントの学習 (OpenAI gym)\n",
        "\n",
        "- [Original `pg-pong.py`](https://gist.github.com/karpathy/a4166c7fe253700972fcbc77e4ea32c5)\n",
        "- このファイルは Andrej Karpathy の [ブログ記事](http://karpathy.github.io/2016/05/31/rl/) にあった `pg-pong.py` を Python3 で動くように修正し，かつ colaboratory で実行できるよう修正したものです。優れたブログ記事を書いた Karpathy に敬意を評します。\n",
        "\n",
        "---\n",
        "\n",
        "<div>\n",
        "    <center>\n",
        "        <img src=\"http://karpathy.github.io/assets/rl/preview.jpeg\" style=\"width:69%\"><br>\n",
        "        <strong>市井の強化学習。左からアタリのゲームをするディープ Q ネット，アルファ碁，バークレイロボットによるレゴ積み木，四足歩行の物理シミュレーション Karpathy のブログより</strong>\n",
        "    </center>\n",
        "</div>\n",
        "\n",
        "ちなみに Karpathy はこのブログの中で，最近の進歩は次の 4 点が大きいと書いています。\n",
        "\n",
        "1. 計算  (the obvious one: Moore’s Law, GPUs, ASICs),\n",
        "1. データ (in a nice form, not just out there somewhere on the internet - e.g. ImageNet),\n",
        "1. アルゴリズム (research and ideas, e.g. backprop, CNN, LSTM), and\n",
        "1. インフラ (software under you - Linux, TCP/IP, Git, ROS, PR2, AWS, AMT, TensorFlow, etc.).\n",
        "---\n",
        "\n",
        "<div>\n",
        "    <center>\n",
        "        <img src=\"http://karpathy.github.io/assets/rl/policy.png\" style=\"width:39%\"><br>\n",
        "        <strong>2層のポリシーネットワーク</strong>\n",
        "    </center>\n",
        "</div>\n",
        "\n",
        "---\n",
        "\n",
        "次の2つの図は通常の教師ありニューラルネットワークと強化学習との違いを表しています。\n",
        "<div>\n",
        "    <center>\n",
        "        <img src=\"http://karpathy.github.io/assets/rl/sl.png\" style=\"width:74%\"><br>\n",
        "        <strong>通常のニューラルネットワーク</strong>\n",
        "    </center>\n",
        "</div>\n",
        "\n",
        "<div>\n",
        "    <center>\n",
        "        <img src=\"http://karpathy.github.io/assets/rl/rl.png\" style=\"width:74%\"><br>\n",
        "        <strong>強化学習</strong>\n",
        "    </center>\n",
        "</div>\n",
        "\n",
        "\\begin{align}\n",
        "\\nabla_{\\theta} \\mathbb{E}_x\\left[f(x)\\right] &= \\nabla_{\\theta} \\sum_x p(x) f(x) & \\text{期待値の定義 definition of expectation} \\\\\n",
        "& = \\sum_x \\nabla_{\\theta} p(x) f(x) & \\text{総和と勾配の入れ替え swap sum and gradient} \\\\\n",
        "& = \\sum_x p(x) \\frac{\\nabla_{\\theta} p(x)}{p(x)} f(x) & \\text{掛けて割る both multiply and divide by } p(x) \\\\\n",
        "& = \\sum_x p(x) \\nabla_{\\theta} \\log p(x) f(x) & \\text{次の公式を用いる use the fact that } \\nabla_{\\theta} \\log(z) = \\frac{1}{z} \\nabla_{\\theta} z \\\\\n",
        "& = \\mathbb{E}_x\\left[f(x) \\nabla_{\\theta} \\log p(x) \\right] & \\text{definition of expectation}\n",
        "\\end{align}\n"
      ]
    },
    {
      "cell_type": "code",
      "source": [
        "#何が起こっているかを知りたい場合には下のコマンド中不等号以下をremove \" > /dev/null 2>&1\" を削除してください\n",
        "!pip install gym pyvirtualdisplay > /dev/null 2>&1\n",
        "!apt-get install -y xvfb python-opengl ffmpeg > /dev/null 2>&1\n",
        "\n",
        "!apt-get update > /dev/null 2>&1\n",
        "!apt-get install cmake > /dev/null 2>&1\n",
        "!pip install --upgrade setuptools 2>&1\n",
        "#!pip install ez_setup > /dev/null 2>&1\n",
        "\n",
        "import urllib.request\n",
        "urllib.request.urlretrieve('http://www.atarimania.com/roms/Roms.rar','Roms.rar')\n",
        "!pip install unrar\n",
        "!unrar x Roms.rar\n",
        "!mkdir rars\n",
        "!mv HC\\ ROMS.zip   rars\n",
        "!mv ROMS.zip  rars\n",
        "!python -m atari_py.import_roms rars\n",
        "\n",
        "\n",
        "# 2022_1122\n",
        "# gym のバージョンの違いが影響するらしい\n",
        "#!pip install gym==0.25.2\n",
        "# 2023_0614 更新，最新バージョンにしてみる\n",
        "!pip install 'gym[atari, accept-rom-license]'\n",
        "#!pip install 'gym[atari, accept-rom-license]'==0.22.0\n",
        "!pip install ale-py==0.7.4\n",
        "\n",
        "\"\"\" Trains an agent with (stochastic) Policy Gradients on Pong. Uses OpenAI Gym. \"\"\"\n",
        "from __future__ import print_function\n",
        "from six.moves import xrange\n",
        "from six.moves import cPickle\n",
        "\n",
        "import numpy as np\n",
        "#import cPickle as pickle\n",
        "import pickle\n",
        "import gym"
      ],
      "metadata": {
        "id": "HkhsPl0DhV-G"
      },
      "execution_count": null,
      "outputs": []
    },
    {
      "cell_type": "code",
      "execution_count": 2,
      "metadata": {
        "tags": [],
        "id": "WIwcUJUWg7K1"
      },
      "outputs": [],
      "source": [
        "\"\"\" Trains an agent with (stochastic) Policy Gradients on Pong. Uses OpenAI Gym. \"\"\"\n",
        "from __future__ import print_function\n",
        "from six.moves import xrange\n",
        "from six.moves import cPickle\n",
        "\n",
        "import numpy as np\n",
        "#import cPickle as pickle\n",
        "import pickle\n",
        "import gym"
      ]
    },
    {
      "cell_type": "code",
      "execution_count": 3,
      "metadata": {
        "tags": [],
        "id": "YWr79tkYg7K1"
      },
      "outputs": [],
      "source": [
        "# hyperparameters\n",
        "H = 200 # 中間層のニューロン数\n",
        "batch_size = 10 # パラメータ更新を行うエピソード回数 every how many episodes to do a param update?\n",
        "learning_rate = 1e-4 # 学習率\n",
        "gamma = 0.99 # 報酬の割引率 discount factor for reward\n",
        "decay_rate = 0.99 # 勾配の 2 乗 に対する RMSProp の崩壊率 decay factor for RMSProp leaky sum of grad^2\n",
        "resume = False # 以前学習した情報を用いるか否か resume from previous checkpoint?\n",
        "render = False"
      ]
    },
    {
      "cell_type": "code",
      "execution_count": 4,
      "metadata": {
        "tags": [],
        "id": "fiCS0CQXg7K1"
      },
      "outputs": [],
      "source": [
        "# model initialization\n",
        "D = 80 * 80 # input dimensionality: 80x80 grid\n",
        "if resume:\n",
        "    model = pickle.load(open('save.p', 'rb'))\n",
        "else:\n",
        "    model = {}\n",
        "    model['W1'] = np.random.randn(H,D) / np.sqrt(D) # ザビエルの初期化 \"Xavier\" initialization\n",
        "    model['W2'] = np.random.randn(H) / np.sqrt(H)\n",
        "\n",
        "#update buffers that add up gradients over a batch\n",
        "#grad_buffer = { k : np.zeros_like(v) for k,v in model.iteritems() }\n",
        "grad_buffer = {k:np.zeros_like(v) for k,v in model.items()}     # python 3 対応のため書き換え\n",
        "\n",
        "#RMSProm 用の記憶バッファ rmsprop memory\n",
        "#rmsprop_cache = { k : np.zeros_like(v) for k,v in model.iteritems() }\n",
        "rmsprop_cache = {k:np.zeros_like(v) for k,v in model.items()}\n",
        "\n",
        "def sigmoid(x):\n",
        "    return 1.0 / (1.0 + np.exp(-x)) # sigmoid \"squashing\" function to interval [0,1]\n",
        "\n",
        "def prepro(I):\n",
        "    \"\"\" prepro 210x160x3 uint8 frame into 6400 (80x80) 1D float vector \"\"\"\n",
        "    I = I[35:195] # crop\n",
        "    I = I[::2,::2,0] # downsample by factor of 2\n",
        "    I[I == 144] = 0 # erase background (background type 1)\n",
        "    I[I == 109] = 0 # erase background (background type 2)\n",
        "    I[I != 0] = 1 # everything else (paddles, ball) just set to 1\n",
        "    return I.astype(float).ravel()\n",
        "    #return I.astype(np.float).ravel()\n",
        "\n",
        "def discount_rewards(r):\n",
        "    \"\"\" take 1D float array of rewards and compute discounted reward \"\"\"\n",
        "    discounted_r = np.zeros_like(r)\n",
        "    running_add = 0\n",
        "    for t in reversed(xrange(0, r.size)):\n",
        "        if r[t] != 0: running_add = 0 # reset the sum, since this was a game boundary (pong specific!)\n",
        "        running_add = running_add * gamma + r[t]\n",
        "        discounted_r[t] = running_add\n",
        "    return discounted_r\n",
        "\n",
        "def policy_forward(x):\n",
        "    h = np.dot(model['W1'], x)\n",
        "    h[h<0] = 0 # ReLU nonlinearity\n",
        "    logp = np.dot(model['W2'], h)\n",
        "    p = sigmoid(logp)\n",
        "    return p, h # return probability of taking action 2, and hidden state\n",
        "\n",
        "def policy_backward(eph, epdlogp):\n",
        "    \"\"\" backward pass. (eph is array of intermediate hidden states) \"\"\"\n",
        "    dW2 = np.dot(eph.T, epdlogp).ravel()\n",
        "    dh = np.outer(epdlogp, model['W2'])\n",
        "    dh[eph <= 0] = 0 # backpro prelu\n",
        "    dW1 = np.dot(dh.T, epx)\n",
        "    return {'W1':dW1, 'W2':dW2}"
      ]
    },
    {
      "cell_type": "code",
      "execution_count": 5,
      "metadata": {
        "tags": [],
        "colab": {
          "base_uri": "https://localhost:8080/"
        },
        "id": "JoLoJu8hg7K2",
        "outputId": "a326ee73-2d5d-488b-f2c7-ab366710eeb0"
      },
      "outputs": [
        {
          "output_type": "stream",
          "name": "stderr",
          "text": [
            "/usr/local/lib/python3.10/dist-packages/gym/envs/registration.py:593: UserWarning: \u001b[33mWARN: The environment Pong-v0 is out of date. You should consider upgrading to version `v4`.\u001b[0m\n",
            "  logger.warn(\n",
            "/usr/local/lib/python3.10/dist-packages/gym/utils/seeding.py:159: DeprecationWarning: \u001b[33mWARN: Function `hash_seed(seed, max_bytes)` is marked as deprecated and will be removed in the future. \u001b[0m\n",
            "  deprecation(\n",
            "/usr/local/lib/python3.10/dist-packages/gym/utils/seeding.py:203: DeprecationWarning: \u001b[33mWARN: Function `_bigint_from_bytes(bytes)` is marked as deprecated and will be removed in the future. \u001b[0m\n",
            "  deprecation(\n",
            "/usr/local/lib/python3.10/dist-packages/gym/core.py:317: DeprecationWarning: \u001b[33mWARN: Initializing wrapper in old step API which returns one bool instead of two. It is recommended to set `new_step_api=True` to use new step API. This will be the default behaviour in future.\u001b[0m\n",
            "  deprecation(\n",
            "/usr/local/lib/python3.10/dist-packages/gym/wrappers/step_api_compatibility.py:39: DeprecationWarning: \u001b[33mWARN: Initializing environment in old step API which returns one bool instead of two. It is recommended to set `new_step_api=True` to use new step API. This will be the default behaviour in future.\u001b[0m\n",
            "  deprecation(\n",
            "/usr/local/lib/python3.10/dist-packages/gym/utils/passive_env_checker.py:195: UserWarning: \u001b[33mWARN: Future gym versions will require that `Env.reset` can be passed `options` to allow the environment initialisation to be passed additional information.\u001b[0m\n",
            "  logger.warn(\n"
          ]
        }
      ],
      "source": [
        "#env = gym.make(\"Pong-v4\")\n",
        "env = gym.make(\"Pong-v0\")\n",
        "observation = env.reset()\n",
        "prev_x = None # used in computing the difference frame\n",
        "xs,hs,dlogps,drs = [],[],[],[]\n",
        "running_reward = None\n",
        "reward_sum = 0\n",
        "episode_number = 0"
      ]
    },
    {
      "cell_type": "markdown",
      "metadata": {
        "id": "RVu3asf1g7K2"
      },
      "source": [
        "---\n",
        "\n",
        "<font size=\"+2\" color=\"red\">注:以下を実行すると無限ループです。適当なところで止めてください</font>\n"
      ]
    },
    {
      "cell_type": "code",
      "execution_count": 6,
      "metadata": {
        "tags": [],
        "id": "fwvQR-xTg7K2"
      },
      "outputs": [],
      "source": [
        "render = True"
      ]
    },
    {
      "cell_type": "code",
      "execution_count": null,
      "metadata": {
        "tags": [],
        "id": "9JTGHk0Ug7K3"
      },
      "outputs": [],
      "source": [
        "while True:\n",
        "    if render:\n",
        "        env.render(mode='ansi')\n",
        "        #env.render(mode='rgb_array')\n",
        "        #env.render(mode='human') # error\n",
        "        #env.render()\n",
        "\n",
        "    # preprocess the observation, set input to network to be difference image\n",
        "    cur_x = prepro(observation)\n",
        "    x = cur_x - prev_x if prev_x is not None else np.zeros(D)\n",
        "    prev_x = cur_x\n",
        "\n",
        "    # forward the policy network and sample an action from the returned probability\n",
        "    aprob, h = policy_forward(x)\n",
        "    action = 2 if np.random.uniform() < aprob else 3 # roll the dice!\n",
        "\n",
        "    # record various intermediates (needed later for backprop)\n",
        "    xs.append(x) # observation\n",
        "    hs.append(h) # hidden state\n",
        "    y = 1 if action == 2 else 0 # a \"fake label\"\n",
        "    dlogps.append(y - aprob)\n",
        "    # grad that encourages the action that was taken to be taken\n",
        "    #(see http://cs231n.github.io/neural-networks-2/#losses if confused)\n",
        "\n",
        "    # step the environment and get new measurements\n",
        "    observation, reward, done, info = env.step(action)\n",
        "    reward_sum += reward\n",
        "\n",
        "    drs.append(reward) # record reward (has to be done after we call step()\n",
        "                       #  to get reward for previous action)\n",
        "\n",
        "    if done: # an episode finished\n",
        "        episode_number += 1\n",
        "\n",
        "        # stack together all inputs, hidden states, action gradients, and rewards for this episode\n",
        "        epx = np.vstack(xs)\n",
        "        eph = np.vstack(hs)\n",
        "        epdlogp = np.vstack(dlogps)\n",
        "        epr = np.vstack(drs)\n",
        "        xs,hs,dlogps,drs = [],[],[],[] # reset array memory\n",
        "\n",
        "        # compute the discounted reward backwards through time\n",
        "        discounted_epr = discount_rewards(epr)\n",
        "        # standardize the rewards to be unit normal (helps control the gradient estimator variance)\n",
        "        discounted_epr -= np.mean(discounted_epr)\n",
        "        discounted_epr /= np.std(discounted_epr)\n",
        "\n",
        "        epdlogp *= discounted_epr # modulate the gradient with advantage (PG magic happens right here.)\n",
        "        grad = policy_backward(eph, epdlogp)\n",
        "        for k in model: grad_buffer[k] += grad[k] # accumulate grad over batch\n",
        "\n",
        "        # perform rmsprop parameter update every batch_size episodes\n",
        "        if episode_number % batch_size == 0:\n",
        "            for k,v in model.items():\n",
        "                g = grad_buffer[k] # gradient\n",
        "                rmsprop_cache[k] = decay_rate * rmsprop_cache[k] + (1 - decay_rate) * g**2\n",
        "                model[k] += learning_rate * g / (np.sqrt(rmsprop_cache[k]) + 1e-5)\n",
        "                grad_buffer[k] = np.zeros_like(v) # reset batch gradient buffer\n",
        "\n",
        "        # boring book-keeping\n",
        "        running_reward = reward_sum if running_reward is None else running_reward * 0.99 + reward_sum * 0.01\n",
        "        print('resetting env. episode reward total was %f. running mean: %f' % (reward_sum, running_reward))\n",
        "        if episode_number % 100 == 0: pickle.dump(model, open('save.p', 'wb'))\n",
        "        reward_sum = 0\n",
        "        observation = env.reset() # reset env\n",
        "        prev_x = None\n",
        "\n",
        "    if reward != 0: # Pong has either +1 or -1 reward exactly when game ends.\n",
        "        print('ep %d: game finished, reward: %f' % (episode_number, reward), end='')\n",
        "        print('') if reward == -1 else ' !!!!!!!!'"
      ]
    }
  ],
  "metadata": {
    "kernelspec": {
      "display_name": "Python 3 (ipykernel)",
      "language": "python",
      "name": "python3"
    },
    "language_info": {
      "codemirror_mode": {
        "name": "ipython",
        "version": 3
      },
      "file_extension": ".py",
      "mimetype": "text/x-python",
      "name": "python",
      "nbconvert_exporter": "python",
      "pygments_lexer": "ipython3",
      "version": "3.9.13"
    },
    "colab": {
      "provenance": [],
      "include_colab_link": true
    }
  },
  "nbformat": 4,
  "nbformat_minor": 0
}