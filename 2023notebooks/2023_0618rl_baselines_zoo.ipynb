{
  "cells": [
    {
      "cell_type": "markdown",
      "metadata": {
        "id": "view-in-github",
        "colab_type": "text"
      },
      "source": [
        "<a href=\"https://colab.research.google.com/github/komazawa-deep-learning/komazawa-deep-learning.github.io/blob/master/2023notebooks/2023_0618rl_baselines_zoo.ipynb\" target=\"_parent\"><img src=\"https://colab.research.google.com/assets/colab-badge.svg\" alt=\"Open In Colab\"/></a>"
      ]
    },
    {
      "cell_type": "markdown",
      "metadata": {
        "id": "XJy9QoDC7XA7"
      },
      "source": [
        "# RL Baselines3 Zoo: Training in Colab\n",
        "\n",
        "\n",
        "\n",
        "Github Repo: [https://github.com/DLR-RM/rl-baselines3-zoo](https://github.com/DLR-RM/rl-baselines3-zoo)\n",
        "\n",
        "Stable-Baselines3 Repo: [https://github.com/DLR-RM/rl-baselines3-zoo](https://github.com/DLR-RM/stable-baselines3)\n",
        "\n",
        "\n",
        "# Install Dependencies\n",
        "\n"
      ]
    },
    {
      "cell_type": "code",
      "execution_count": null,
      "metadata": {
        "id": "twwaF6JKaXH8",
        "outputId": "158ac701-6343-4415-df25-71459f6d90f6"
      },
      "outputs": [
        {
          "data": {
            "text/html": [
              "\n",
              "                <script type=\"application/javascript\" id=\"jupyter_black\">\n",
              "                (function() {\n",
              "                    if (window.IPython === undefined) {\n",
              "                        return\n",
              "                    }\n",
              "                    var msg = \"WARNING: it looks like you might have loaded \" +\n",
              "                        \"jupyter_black in a non-lab notebook with \" +\n",
              "                        \"`is_lab=True`. Please double check, and if \" +\n",
              "                        \"loading with `%load_ext` please review the README!\"\n",
              "                    console.log(msg)\n",
              "                    alert(msg)\n",
              "                })()\n",
              "                </script>\n",
              "                "
            ],
            "text/plain": [
              "<IPython.core.display.HTML object>"
            ]
          },
          "metadata": {},
          "output_type": "display_data"
        }
      ],
      "source": [
        "# for autoformatting\n",
        "# %load_ext jupyter_black"
      ]
    },
    {
      "cell_type": "code",
      "execution_count": null,
      "metadata": {
        "id": "AXVDDlTn02M9"
      },
      "outputs": [],
      "source": [
        "!apt-get update && apt-get install swig cmake ffmpeg freeglut3-dev xvfb"
      ]
    },
    {
      "cell_type": "markdown",
      "metadata": {
        "id": "kDjF3qRg7oGH"
      },
      "source": [
        "## Clone RL Baselines3 Zoo Repo"
      ]
    },
    {
      "cell_type": "code",
      "execution_count": 3,
      "metadata": {
        "id": "SCjGikdT1DFy",
        "colab": {
          "base_uri": "https://localhost:8080/"
        },
        "outputId": "1972f85c-c607-4f31-dcc7-cc8e3e76da93"
      },
      "outputs": [
        {
          "output_type": "stream",
          "name": "stdout",
          "text": [
            "Cloning into 'rl-baselines3-zoo'...\n",
            "remote: Enumerating objects: 5235, done.\u001b[K\n",
            "remote: Counting objects: 100% (76/76), done.\u001b[K\n",
            "remote: Compressing objects: 100% (51/51), done.\u001b[K\n",
            "remote: Total 5235 (delta 34), reused 41 (delta 22), pack-reused 5159\u001b[K\n",
            "Receiving objects: 100% (5235/5235), 3.78 MiB | 24.99 MiB/s, done.\n",
            "Resolving deltas: 100% (3456/3456), done.\n"
          ]
        }
      ],
      "source": [
        "!git clone https://github.com/DLR-RM/rl-baselines3-zoo"
      ]
    },
    {
      "cell_type": "code",
      "execution_count": 4,
      "metadata": {
        "id": "REMQlh-ezyVt",
        "colab": {
          "base_uri": "https://localhost:8080/"
        },
        "outputId": "bc0a2c76-76c8-45c7-82d2-0c9f7d8fdf5d"
      },
      "outputs": [
        {
          "output_type": "stream",
          "name": "stdout",
          "text": [
            "/content/rl-baselines3-zoo\n"
          ]
        }
      ],
      "source": [
        "%cd /content/rl-baselines3-zoo/"
      ]
    },
    {
      "cell_type": "markdown",
      "metadata": {
        "id": "5tmD_QTBqTMb"
      },
      "source": [
        "### Install pip dependencies"
      ]
    },
    {
      "cell_type": "code",
      "execution_count": null,
      "metadata": {
        "id": "OWIDzgJTqShY"
      },
      "outputs": [],
      "source": [
        "!pip install -r requirements.txt"
      ]
    },
    {
      "cell_type": "markdown",
      "metadata": {
        "id": "6gJ-pAbF7zRZ"
      },
      "source": [
        "## RL 動作主を訓練 <!-- ## Train an RL Agent-->\n",
        "\n",
        "train エージェントは `logs/` フォルダに格納されてい。<!-- The train agent can be found in the `logs/` folder. -->\n",
        "\n",
        "ここでは，A2C を CartPole-v1 環境で 100 000 ステップ学習させる。\n",
        "<!-- Here we will train A2C on CartPole-v1 environment for 100 000 steps. -->\n",
        "\n",
        "Pong(Atari) で訓練するには `--env PongNoFrameskip-v4` を渡すだけである。\n",
        "<!-- To train it on Pong (Atari), you just have to pass `--env PongNoFrameskip-v4` -->\n",
        "\n",
        "注：新しい環境をサポートするために `hyperparams/algo.yml` を更新する必要がある。Google Colab のサイドパネルからアクセスすることができる。\n",
        "(https://stackoverflow.com/questions/46986398/import-data-into-google-colaboratory 参照)\n",
        "<!-- Note: You need to update `hyperparams/algo.yml` to support new environments. You can access it in the side panel of Google Colab.\n",
        "(see https://stackoverflow.com/questions/46986398/import-data-into-google-colaboratory) -->"
      ]
    },
    {
      "cell_type": "code",
      "execution_count": null,
      "metadata": {
        "id": "9bIR_N7R11XI"
      },
      "outputs": [],
      "source": [
        "!python -m rl_zoo3.train --algo a2c --env CartPole-v1 --n-timesteps 100000"
      ]
    },
    {
      "cell_type": "markdown",
      "metadata": {
        "id": "-fHBq73665yD"
      },
      "source": [
        "#### Evaluate trained agent\n",
        "\n",
        "\n",
        "You can remove the `--folder logs/` to evaluate pretrained agent."
      ]
    },
    {
      "cell_type": "code",
      "execution_count": null,
      "metadata": {
        "id": "Bw8YuEgU6bT3"
      },
      "outputs": [],
      "source": [
        "!python -m rl_zoo3.enjoy --algo a2c --env CartPole-v1 --no-render --n-timesteps 5000 --folder logs/"
      ]
    },
    {
      "cell_type": "markdown",
      "metadata": {
        "id": "w5Il2J0VHPLC"
      },
      "source": [
        "#### Tune Hyperparameters\n",
        "\n",
        "We use [Optuna](https://optuna.org/) for optimizing the hyperparameters.\n",
        "\n",
        "Tune the hyperparameters for PPO, using a tpe sampler and median pruner, 2 parallels jobs,\n",
        "with a budget of 1000 trials and a maximum of 50000 steps"
      ]
    },
    {
      "cell_type": "code",
      "execution_count": null,
      "metadata": {
        "id": "w2sC22eGHTH-"
      },
      "outputs": [],
      "source": [
        "!python -m rl_zoo3.train --algo ppo --env MountainCar-v0 -n 50000 -optimize --n-trials 1000 --n-jobs 2 --sampler tpe --pruner median"
      ]
    },
    {
      "cell_type": "markdown",
      "metadata": {
        "id": "xVm9QPNVwKXN"
      },
      "source": [
        "### Record  a Video"
      ]
    },
    {
      "cell_type": "code",
      "execution_count": 7,
      "metadata": {
        "id": "MPyfQxD5z26J"
      },
      "outputs": [],
      "source": [
        "# Set up display; otherwise rendering will fail\n",
        "import os\n",
        "os.system(\"Xvfb :1 -screen 0 1024x768x24 &\")\n",
        "os.environ['DISPLAY'] = ':1'"
      ]
    },
    {
      "cell_type": "code",
      "execution_count": 8,
      "metadata": {
        "id": "ip3AauLzwNGP",
        "colab": {
          "base_uri": "https://localhost:8080/"
        },
        "outputId": "230ad656-372b-4d59-e37f-8b1002320ec1"
      },
      "outputs": [
        {
          "output_type": "stream",
          "name": "stdout",
          "text": [
            "2023-06-17 22:23:26.951585: I tensorflow/core/platform/cpu_feature_guard.cc:182] This TensorFlow binary is optimized to use available CPU instructions in performance-critical operations.\n",
            "To enable the following instructions: AVX2 AVX512F FMA, in other operations, rebuild TensorFlow with the appropriate compiler flags.\n",
            "2023-06-17 22:23:28.331715: W tensorflow/compiler/tf2tensorrt/utils/py_utils.cc:38] TF-TRT Warning: Could not find TensorRT\n",
            "Loading latest experiment, id=1\n",
            "Loading logs/a2c/CartPole-v1_1/CartPole-v1.zip\n",
            "Loading logs/a2c/CartPole-v1_1/CartPole-v1.zip\n",
            "Saving video to /content/rl-baselines3-zoo/logs/a2c/CartPole-v1_1/videos/final-model-a2c-CartPole-v1-step-0-to-step-1000.mp4\n",
            "Moviepy - Building video /content/rl-baselines3-zoo/logs/a2c/CartPole-v1_1/videos/final-model-a2c-CartPole-v1-step-0-to-step-1000.mp4.\n",
            "Moviepy - Writing video /content/rl-baselines3-zoo/logs/a2c/CartPole-v1_1/videos/final-model-a2c-CartPole-v1-step-0-to-step-1000.mp4\n",
            "\n",
            "Moviepy - Done !\n",
            "Moviepy - video ready /content/rl-baselines3-zoo/logs/a2c/CartPole-v1_1/videos/final-model-a2c-CartPole-v1-step-0-to-step-1000.mp4\n"
          ]
        }
      ],
      "source": [
        "!python -m rl_zoo3.record_video --algo a2c --env CartPole-v1 --exp-id 0 -f logs/ -n 1000"
      ]
    },
    {
      "cell_type": "markdown",
      "metadata": {
        "id": "qBuUfnzI8DN6"
      },
      "source": [
        "### Display the video"
      ]
    },
    {
      "cell_type": "code",
      "execution_count": 9,
      "metadata": {
        "id": "ZC3OTfpf8CXu"
      },
      "outputs": [],
      "source": [
        "import base64\n",
        "from pathlib import Path\n",
        "\n",
        "from IPython import display as ipythondisplay\n",
        "\n",
        "\n",
        "def show_videos(video_path=\"\", prefix=\"\"):\n",
        "    \"\"\"\n",
        "    Taken from https://github.com/eleurent/highway-env\n",
        "\n",
        "    :param video_path: (str) Path to the folder containing videos\n",
        "    :param prefix: (str) Filter the video, showing only the only starting with this prefix\n",
        "    \"\"\"\n",
        "    html = []\n",
        "    for mp4 in Path(video_path).glob(\"{}*.mp4\".format(prefix)):\n",
        "        video_b64 = base64.b64encode(mp4.read_bytes())\n",
        "        html.append(\n",
        "            \"\"\"<video alt=\"{}\" autoplay\n",
        "                    loop controls style=\"height: 400px;\">\n",
        "                    <source src=\"data:video/mp4;base64,{}\" type=\"video/mp4\" />\n",
        "                </video>\"\"\".format(\n",
        "                mp4, video_b64.decode(\"ascii\")\n",
        "            )\n",
        "        )\n",
        "    ipythondisplay.display(ipythondisplay.HTML(data=\"<br>\".join(html)))"
      ]
    },
    {
      "cell_type": "code",
      "execution_count": 10,
      "metadata": {
        "id": "oKOjFuwK9HI0",
        "colab": {
          "base_uri": "https://localhost:8080/",
          "height": 421
        },
        "outputId": "ff1bb032-8a5d-4328-ba65-23929c11d20d"
      },
      "outputs": [
        {
          "output_type": "display_data",
          "data": {
            "text/plain": [
              "<IPython.core.display.HTML object>"
            ],
            "text/html": [
              "<video alt=\"logs/a2c/CartPole-v1_1/videos/final-model-a2c-CartPole-v1-step-0-to-step-1000.mp4\" autoplay\n",
              "                    loop controls style=\"height: 400px;\">\n",
              "                    <source src=\"data:video/mp4;base64,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\" type=\"video/mp4\" />\n",
              "                </video>"
            ]
          },
          "metadata": {}
        }
      ],
      "source": [
        "show_videos(video_path='logs/a2c/CartPole-v1_1/videos/', prefix='')"
      ]
    },
    {
      "cell_type": "markdown",
      "metadata": {
        "id": "RjdpP0HE8D2p"
      },
      "source": [
        "### Continue Training\n",
        "\n",
        "Here, we will continue training of the previous model"
      ]
    },
    {
      "cell_type": "code",
      "execution_count": null,
      "metadata": {
        "id": "zgMZQJJF6u1C"
      },
      "outputs": [],
      "source": [
        "!python -m rl_zoo3.train --algo a2c --env CartPole-v1 --n-timesteps 50000 -i logs/a2c/CartPole-v1_1/CartPole-v1.zip"
      ]
    },
    {
      "cell_type": "code",
      "execution_count": null,
      "metadata": {
        "id": "GSaoyiAE8cVj"
      },
      "outputs": [],
      "source": [
        "!python -m rl_zoo3.enjoy --algo a2c --env CartPole-v1 --no-render --n-timesteps 1000 --folder logs/"
      ]
    },
    {
      "cell_type": "code",
      "execution_count": null,
      "metadata": {
        "id": "jL9u4I1H-48O"
      },
      "outputs": [],
      "source": []
    }
  ],
  "metadata": {
    "accelerator": "GPU",
    "colab": {
      "provenance": [],
      "include_colab_link": true
    },
    "kernelspec": {
      "display_name": "Python 3 (ipykernel)",
      "language": "python",
      "name": "python3"
    },
    "language_info": {
      "codemirror_mode": {
        "name": "ipython",
        "version": 3
      },
      "file_extension": ".py",
      "mimetype": "text/x-python",
      "name": "python",
      "nbconvert_exporter": "python",
      "pygments_lexer": "ipython3",
      "version": "3.10.6"
    },
    "vscode": {
      "interpreter": {
        "hash": "767d51c1340bd893661ea55ea3124f6de3c7a262a8b4abca0554b478b1e2ff90"
      }
    }
  },
  "nbformat": 4,
  "nbformat_minor": 0
}