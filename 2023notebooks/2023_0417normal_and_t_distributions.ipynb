{
  "cells": [
    {
      "cell_type": "markdown",
      "metadata": {
        "id": "view-in-github",
        "colab_type": "text"
      },
      "source": [
        "<a href=\"https://colab.research.google.com/github/komazawa-deep-learning/komazawa-deep-learning.github.io/blob/master/2023notebooks/2023_0417normal_and_t_distributions.ipynb\" target=\"_parent\"><img src=\"https://colab.research.google.com/assets/colab-badge.svg\" alt=\"Open In Colab\"/></a>"
      ]
    },
    {
      "cell_type": "code",
      "execution_count": null,
      "id": "1e329d01-5145-4fda-a2ff-f6a8526b32db",
      "metadata": {
        "id": "1e329d01-5145-4fda-a2ff-f6a8526b32db"
      },
      "outputs": [],
      "source": [
        "import math\n",
        "import numpy as np\n",
        "import matplotlib.pyplot as plt\n",
        "try:\n",
        "    import japanize_matplotlib\n",
        "except ImportError:\n",
        "    !pip install japanize_matplotlib\n",
        "    import japanize_matplotlib"
      ]
    },
    {
      "cell_type": "code",
      "execution_count": null,
      "id": "481dc1c5-3d6b-41f5-9570-bb1979fcdaac",
      "metadata": {
        "id": "481dc1c5-3d6b-41f5-9570-bb1979fcdaac"
      },
      "outputs": [],
      "source": [
        "X = np.linspace(-3,3)\n",
        "\n",
        "norm_d = 1 / math.sqrt(2 * math.pi) * np.exp(-0.5 * X **2)\n",
        "t_d = 1/(math.pi) * (1 / (1 + X**2) )\n",
        "\n",
        "plt.plot(X, t_d, label=\"自由度 1 の t-分布\")\n",
        "plt.plot(X, norm_d, label=\"標準正規分布\")\n",
        "plt.legend()\n",
        "plt.show()"
      ]
    },
    {
      "cell_type": "markdown",
      "id": "8994d37c-9293-4b5a-9289-742431248362",
      "metadata": {
        "id": "8994d37c-9293-4b5a-9289-742431248362"
      },
      "source": [
        "\n",
        "[Wikipedia](https://en.wikipedia.org/wiki/Student%27s_t-distribution) より t 分布の確率密度関数は，次式で与えられる:\n",
        "\n",
        "$$\n",
        "\\frac{\\Gamma\\left(\\frac{\\nu+1}{2}\\right)}{\\sqrt{\\nu\\pi}\\,\\Gamma\\left(\\frac{\\nu}{2}\\right)}\n",
        "\\left(\n",
        "1+\\frac{x^2}{\\nu}\n",
        "\\right)^{-\\frac{\\nu+1}{2}}\\tag{1}\n",
        "$$\n",
        "\n",
        "式 (1) 中の $\\Gamma$ はガンマ関数である。\n",
        "ガンマ関数では $\\Gamma(n+1)=n!$ が成り立つ。\n",
        "\n",
        "* $\\Gamma(1/2) = \\sqrt{\\pi}$\n",
        "* $\\Gamma(2) = 1$\n",
        "* $\\Gamma(1) = 1$\n",
        "\n",
        "上式に $\\nu=1$ を代入すれば，自由度 1 の t-分布が得られる。\n",
        "\n",
        "William Gosett: \n",
        "<img src=\"https://upload.wikimedia.org/wikipedia/commons/thumb/4/42/William_Sealy_Gosset.jpg/340px-William_Sealy_Gosset.jpg\">\n",
        "\n",
        "\n"
      ]
    },
    {
      "cell_type": "code",
      "execution_count": null,
      "id": "06e08220-b246-46e9-a281-67921f7a4d68",
      "metadata": {
        "id": "06e08220-b246-46e9-a281-67921f7a4d68"
      },
      "outputs": [],
      "source": [
        "import numpy as np\n",
        "from scipy.special import gamma, factorial\n",
        "\n",
        "print(gamma([0, 0.5, 1, 2, 3, 4, 5]))\n",
        "print(math.sqrt(math.pi))"
      ]
    },
    {
      "cell_type": "code",
      "execution_count": null,
      "id": "ced36506-7a05-4138-a8c5-09a645c729e9",
      "metadata": {
        "id": "ced36506-7a05-4138-a8c5-09a645c729e9"
      },
      "outputs": [],
      "source": [
        "import matplotlib.pyplot as plt\n",
        "\n",
        "#x = np.linspace(-3.5, 5.5, 2251)\n",
        "x = np.linspace(0, 5.2, 2000) \n",
        "y = gamma(x)\n",
        "\n",
        "plt.plot(x, y, 'b', alpha=0.6, label='gamma(x)')\n",
        "k = np.arange(1, 7)\n",
        "plt.plot(k, factorial(k-1), 'k*', alpha=0.6, markersize=14,\n",
        "         label='(x-1)!, x = 1, 2, ...')\n",
        "plt.xlim(-0.1, 5.5)\n",
        "#plt.xlim(-3.5, 5.5)\n",
        "#plt.ylim(-10, 25)\n",
        "plt.ylim(-1, 10)\n",
        "plt.grid()\n",
        "plt.xlabel('x')\n",
        "plt.legend(loc='lower right')\n",
        "plt.show()"
      ]
    }
  ],
  "metadata": {
    "kernelspec": {
      "display_name": "Python 3 (ipykernel)",
      "language": "python",
      "name": "python3"
    },
    "language_info": {
      "codemirror_mode": {
        "name": "ipython",
        "version": 3
      },
      "file_extension": ".py",
      "mimetype": "text/x-python",
      "name": "python",
      "nbconvert_exporter": "python",
      "pygments_lexer": "ipython3",
      "version": "3.9.13"
    },
    "colab": {
      "provenance": [],
      "include_colab_link": true
    }
  },
  "nbformat": 4,
  "nbformat_minor": 5
}