{
  "nbformat": 4,
  "nbformat_minor": 0,
  "metadata": {
    "colab": {
      "private_outputs": true,
      "provenance": [],
      "authorship_tag": "ABX9TyPdT2zTtu6H7BsSChMlrRu1",
      "include_colab_link": true
    },
    "kernelspec": {
      "name": "python3",
      "display_name": "Python 3"
    },
    "language_info": {
      "name": "python"
    }
  },
  "cells": [
    {
      "cell_type": "markdown",
      "metadata": {
        "id": "view-in-github",
        "colab_type": "text"
      },
      "source": [
        "<a href=\"https://colab.research.google.com/github/komazawa-deep-learning/komazawa-deep-learning.github.io/blob/master/2023notebooks/2023_1215vae.ipynb\" target=\"_parent\"><img src=\"https://colab.research.google.com/assets/colab-badge.svg\" alt=\"Open In Colab\"/></a>"
      ]
    },
    {
      "cell_type": "code",
      "execution_count": null,
      "metadata": {
        "id": "-wQC01ArFEeW"
      },
      "outputs": [],
      "source": [
        "import os\n",
        "import numpy as np\n",
        "import torch\n",
        "from torch import nn, optim\n",
        "from torch.nn import functional as F\n",
        "from torchvision import datasets, transforms\n",
        "from torchvision.utils import save_image\n",
        "\n",
        "device = torch.device(\"cuda:0\") if torch.cuda.is_available() else torch.device(\"cpu\")"
      ]
    },
    {
      "cell_type": "code",
      "source": [
        "class VAE(nn.Module):\n",
        "    def __init__(self, data_dim=784, z_dim=10, hidden_dim=500):\n",
        "        \"\"\"\n",
        "        VAE basic model.\n",
        "        Args:\n",
        "            data_dim (int): dimension of flatten input\n",
        "            z_dim (int): dimension of manifold\n",
        "            hidden_dim (int): dimension of hidden layers between input and manifold\n",
        "        \"\"\"\n",
        "        super(VAE, self).__init__()\n",
        "\n",
        "        self.fc1 = nn.Linear(data_dim, hidden_dim)\n",
        "        self.hidden2mu = nn.Linear(hidden_dim, z_dim)\n",
        "        self.hidden2log_var = nn.Linear(hidden_dim, z_dim)\n",
        "        self.fc3 = nn.Linear(z_dim, hidden_dim)\n",
        "        self.fc4 = nn.Linear(hidden_dim, data_dim)\n",
        "        self.sigmoid = nn.Sigmoid()\n",
        "\n",
        "    def encode(self, x):\n",
        "        h1 = F.relu(self.fc1(x))\n",
        "        return self.hidden2mu(h1), self.hidden2log_var(h1)\n",
        "\n",
        "    def decode(self, z):\n",
        "        h3 = F.relu(self.fc3(z))\n",
        "        return self.sigmoid(self.fc4(h3))\n",
        "\n",
        "    def reparam(self, mu, log_var):\n",
        "        std = torch.exp(0.5*log_var)\n",
        "        eps = torch.randn_like(std)\n",
        "        return mu + eps * std\n",
        "\n",
        "    def forward(self, x):\n",
        "        mu, log_var = self.encode(x.view(-1, 784))\n",
        "        z = self.reparam(mu, log_var)\n",
        "        return self.decode(z), mu, log_var\n",
        "\n",
        "\n",
        "def train(data_loader,\n",
        "          model,\n",
        "          loss_func,\n",
        "          epoch):\n",
        "    model.train()\n",
        "    train_loss = 0\n",
        "\n",
        "    for data, _ in data_loader:\n",
        "        data = data.to(device)\n",
        "        optimizer.zero_grad()\n",
        "        recon_batch, mu, log_var = model(data)\n",
        "        loss = loss_func(recon_batch, data, mu, log_var)\n",
        "        loss.backward()\n",
        "        train_loss += loss.item()\n",
        "        optimizer.step()\n",
        "\n",
        "    print(f'エポック: {epoch:03d}',\n",
        "          f'平均損失: {train_loss/len(data_loader.dataset):.3f}', end=\" \")\n",
        "\n",
        "\n",
        "def test(data_loader, model, loss_func):\n",
        "    model.eval()\n",
        "    test_loss = 0\n",
        "    with torch.no_grad():\n",
        "        for i, (data, _) in enumerate(data_loader):\n",
        "            data = data.to(device)\n",
        "            recon_batch, mu, log_var = model(data)\n",
        "            test_loss += loss_func(recon_batch, data, mu, log_var).item()\n",
        "\n",
        "    test_loss /= len(data_loader.dataset)\n",
        "    print(f'検査損失: {test_loss:.3f}')"
      ],
      "metadata": {
        "id": "uJsgCVigFKzR"
      },
      "execution_count": null,
      "outputs": []
    },
    {
      "cell_type": "code",
      "source": [
        "np.random.seed(42)\n",
        "torch.manual_seed(42)\n",
        "\n",
        "config = {\n",
        "    'epochs': 50,\n",
        "    'z_dim': 30,\n",
        "    'input_dim': 784,\n",
        "    'hidden_dim': 200,\n",
        "    'batch_size': 128,\n",
        "    'lr': 0.001,\n",
        "}"
      ],
      "metadata": {
        "id": "_zrl4EDKFM3w"
      },
      "execution_count": null,
      "outputs": []
    },
    {
      "cell_type": "code",
      "source": [
        "def loss_func(x_reconstructed, x, mu, log_var):\n",
        "    \"\"\"\n",
        "    Loss function for VAE\n",
        "    Args:\n",
        "        x_reconstructed (torch.Tenor): decoder output [batch_size, input_size]\n",
        "        x (torch.Tensor): input data [batch_size, input_size]\n",
        "        mu (torch.Tensor): [batch_size, z_dim]\n",
        "        log_var (torch.Tensor): [batch_size, z_dim]\n",
        "\n",
        "        Returns (torch.Tensor): tensor of single loss value\n",
        "        \"\"\"\n",
        "    # Reconstruction loss\n",
        "    bce = F.binary_cross_entropy(x_reconstructed, x.view(-1, input_dim), reduction=\"sum\")\n",
        "\n",
        "    # KL divergence\n",
        "    kld = -0.5 * torch.sum(1 + log_var - mu.pow(2) - log_var.exp())\n",
        "    return bce + kld"
      ],
      "metadata": {
        "id": "0hBXeUKKFPq5"
      },
      "execution_count": null,
      "outputs": []
    },
    {
      "cell_type": "code",
      "source": [
        "epochs = config['epochs']\n",
        "batch_size = config['batch_size']\n",
        "input_dim = config['input_dim']\n",
        "z_dim = config['z_dim']\n",
        "hidden_dim = config['hidden_dim']\n",
        "lr = config['lr']\n",
        "\n",
        "# Create directory for resulting images\n",
        "if not os.path.exists('results/reconstruction'):\n",
        "    os.makedirs('results/reconstruction')\n",
        "\n",
        "# Load data\n",
        "train_loader = torch.utils.data.DataLoader(\n",
        "    datasets.MNIST('data',\n",
        "                   train=True,\n",
        "                   download=True,\n",
        "                   transform=transforms.ToTensor()),\n",
        "    batch_size=batch_size,\n",
        "    shuffle=True)\n",
        "\n",
        "test_loader = torch.utils.data.DataLoader(\n",
        "    datasets.MNIST('data', train=False,\n",
        "                   transform=transforms.ToTensor()),\n",
        "    batch_size=batch_size,\n",
        "    shuffle=True)\n",
        "\n",
        "model = VAE(input_dim, z_dim, hidden_dim).to(device)\n",
        "optimizer = optim.Adam(model.parameters(), lr=lr)"
      ],
      "metadata": {
        "id": "KbhePtuUFSFO"
      },
      "execution_count": null,
      "outputs": []
    },
    {
      "cell_type": "code",
      "source": [
        "for epoch in range(1, epochs+1):\n",
        "        train(train_loader, model, loss_func, epoch)\n",
        "        test(test_loader, model, loss_func)\n",
        "        with torch.no_grad():\n",
        "            sample = torch.randn(20, z_dim).to(device)\n",
        "            sample = model.decode(sample).cpu()\n",
        "            save_image(sample.view(20, 1, 28, 28), f'results/sample_{epoch:03d}.png', nrow=10)"
      ],
      "metadata": {
        "id": "UmbHU4U7FUPc"
      },
      "execution_count": null,
      "outputs": []
    },
    {
      "cell_type": "code",
      "source": [],
      "metadata": {
        "id": "G9WXuEakFZRO"
      },
      "execution_count": null,
      "outputs": []
    }
  ]
}