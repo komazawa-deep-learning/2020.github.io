{
  "cells": [
    {
      "cell_type": "markdown",
      "metadata": {
        "id": "view-in-github",
        "colab_type": "text"
      },
      "source": [
        "<a href=\"https://colab.research.google.com/github/komazawa-deep-learning/komazawa-deep-learning.github.io/blob/master/2023notebooks/2023_1110Stroop_test.ipynb\" target=\"_parent\"><img src=\"https://colab.research.google.com/assets/colab-badge.svg\" alt=\"Open In Colab\"/></a>"
      ]
    },
    {
      "cell_type": "code",
      "execution_count": null,
      "id": "bc1982d5-b8ec-4d17-83f7-cabacc3e907a",
      "metadata": {
        "tags": [],
        "id": "bc1982d5-b8ec-4d17-83f7-cabacc3e907a",
        "outputId": "bb21c76e-4a97-4dd5-b3b7-f390dc2398da"
      },
      "outputs": [
        {
          "name": "stdout",
          "output_type": "stream",
          "text": [
            "日付: \u001b[1m\u001b[32m2023-11-13\u001b[0m\n",
            "HOSTNAME: \u001b[1m\u001b[32mPasiphae\u001b[0m\n",
            "ユーザ名: \u001b[1m\u001b[32masakawa\u001b[0m\n",
            "HOME: \u001b[1m\u001b[32m/Users/asakawa\u001b[0m\n",
            "ファイル名: \u001b[1m\u001b[32mstudy/2023notebooks/2023_1110Stroop_test.ipynb\u001b[0m\n",
            "torch.__version__: \u001b[1m\u001b[32m2.0.1\u001b[0m\n"
          ]
        }
      ],
      "source": [
        "%config InlineBackend.figure_format = 'retina'\n",
        "import torch\n",
        "device = 'cuda' if torch.cuda.is_available() else 'cpu'\n",
        "\n",
        "import IPython\n",
        "isColab = 'google.colab' in str(IPython.get_ipython())\n",
        "\n",
        "try:\n",
        "    import japanize_matplotlib\n",
        "except ImportError:\n",
        "    !pip install japanize_matplotlib\n",
        "    import japanize_matplotlib\n",
        "\n",
        "try:\n",
        "    import bit\n",
        "except ImportError:\n",
        "    !pip install ipynbname --upgrade\n",
        "    !git clone https://github.com/ShinAsakawa/bit.git\n",
        "    import bit\n",
        "\n",
        "import os\n",
        "HOME = os.environ['HOME']"
      ]
    },
    {
      "cell_type": "code",
      "execution_count": null,
      "id": "2b07c9ae-77ec-485e-ad0e-5da075c036e2",
      "metadata": {
        "tags": [],
        "id": "2b07c9ae-77ec-485e-ad0e-5da075c036e2"
      },
      "outputs": [],
      "source": [
        "# 乱数のシードを設定\n",
        "import numpy as np\n",
        "import random\n",
        "import sys\n",
        "\n",
        "seed=42\n",
        "torch.manual_seed(seed=seed)\n",
        "np.random.seed(seed=seed)\n",
        "random.seed(seed)\n",
        "batch_size = 64"
      ]
    },
    {
      "cell_type": "code",
      "execution_count": null,
      "id": "6ae93b24-0768-4d97-b42b-54703cb93db1",
      "metadata": {
        "tags": [],
        "id": "6ae93b24-0768-4d97-b42b-54703cb93db1"
      },
      "outputs": [],
      "source": [
        "from bit import get_text_img\n",
        "from torch.utils.data import Dataset\n",
        "from torch.utils.data import DataLoader\n",
        "import os\n",
        "from glob import  glob\n",
        "import numpy as np\n",
        "import matplotlib.pyplot as plt\n",
        "from PIL import Image, ImageDraw, ImageFont\n",
        "\n",
        "class stroop_Dataset(Dataset):\n",
        "    def __init__(self):\n",
        "\n",
        "        super().__init__()\n",
        "        self.width, self.height = 224, 224\n",
        "        self.bgcolor = (255,255,255)\n",
        "        self.font_sizes=[28, 42, 56, 70, 84, 98]\n",
        "        self.colors = ['black', 'red', 'green', 'blue', 'yellow']\n",
        "        self.words  = ['黒', '赤', '緑', '青', '黄']\n",
        "        fonts = []\n",
        "        for font_size in self.font_sizes:\n",
        "            _fonts = bit.get_notojp_fonts(fontsize=font_size, verbose=False)\n",
        "            for _fontname, _font in _fonts.items():\n",
        "                font_name = str(f'{font_size:03d}')+_fontname\n",
        "                fonts.append((font_name, _font))\n",
        "        self.fonts = fonts\n",
        "        # self.image_transform = ImageTransform()\n",
        "\n",
        "        cond = []\n",
        "        for font in fonts:\n",
        "            #_font = font\n",
        "            size = int(font[0][:3])\n",
        "            for color in self.colors:\n",
        "                for word in self.words:\n",
        "                    cond.append((color, word, size, font))\n",
        "        self.cond = cond\n",
        "\n",
        "    def __len__(self):\n",
        "        return len(self.colors) * len(self.words) * len(self.fonts)\n",
        "\n",
        "    def __getitem__(self, idx:int):\n",
        "\n",
        "        color_ = self.cond[idx][0]\n",
        "        word_  = self.cond[idx][1]\n",
        "        size_  = self.cond[idx][2]\n",
        "        font_name  = self.cond[idx][3][0]\n",
        "        font_  = self.cond[idx][3][1]\n",
        "\n",
        "        color_idx = self.colors.index(color_)\n",
        "        word_idx  = self.words.index(word_)\n",
        "        size_idx  = self.font_sizes.index(size_)\n",
        "\n",
        "        # col = self.colors[color_idx]\n",
        "        # wrd = self.words[word_idx]\n",
        "        # font_size = int(self.fonts[font_idx][0][:3])\n",
        "        # font_name = self.fonts[font_idx][0][3:]\n",
        "        # font = self.fonts[font_idx][1]\n",
        "\n",
        "        img, draw_canvas, bbox = get_text_img(\n",
        "            text=word_,\n",
        "            #text=wrd,\n",
        "            color=color_,\n",
        "            #color=col,\n",
        "            draw_bbox=False,\n",
        "            font=font_,\n",
        "            #font=font,\n",
        "        )\n",
        "\n",
        "        # 画像を torch.Tensor に変換しないと，DataLoader でハンドリングできない\n",
        "        _img = torch.tensor(\n",
        "            (np.array(img)/255).clip(0,1).transpose(2,0,1),\n",
        "            device=device,\n",
        "            dtype=torch.float32,\n",
        "        )\n",
        "\n",
        "        return _img, {'color':self.colors.index(color_),\n",
        "                     'word':self.words.index(word_),\n",
        "                     'font_size':size_, 'font_name':font_name}\n",
        "\n",
        "stroop_ds = stroop_Dataset()"
      ]
    },
    {
      "cell_type": "code",
      "execution_count": null,
      "id": "614b0a9d-7333-496a-91db-d4d0159cddc8",
      "metadata": {
        "tags": [],
        "id": "614b0a9d-7333-496a-91db-d4d0159cddc8"
      },
      "outputs": [],
      "source": [
        "def _collate_fn(batch):\n",
        "    inps, tgts = list(zip(*batch))\n",
        "    inps = list(inps)\n",
        "    tgts = list(tgts)\n",
        "    return inps, tgts\n",
        "\n",
        "N_train = int(stroop_ds.__len__() * 0.9)\n",
        "N_test  = stroop_ds.__len__() - N_train\n",
        "train_ds, val_ds = torch.utils.data.random_split(dataset=stroop_ds, lengths=(N_train, N_test))\n",
        "\n",
        "train_dl = DataLoader(\n",
        "    train_ds,\n",
        "    batch_size=batch_size,\n",
        "    shuffle=True,\n",
        "    collate_fn=_collate_fn\n",
        ")\n",
        "\n",
        "val_dl = DataLoader(\n",
        "    val_ds,\n",
        "    batch_size=batch_size,\n",
        "    shuffle=False,\n",
        "    collate_fn=_collate_fn\n",
        ")\n",
        "\n",
        "train_dl.name = 'train'\n",
        "val_dl.name = 'val'"
      ]
    },
    {
      "cell_type": "code",
      "execution_count": null,
      "id": "86f02e07-26df-4488-89d0-fe4620c1b072",
      "metadata": {
        "tags": [],
        "id": "86f02e07-26df-4488-89d0-fe4620c1b072",
        "outputId": "209344fd-3809-4e4c-af0a-e509ae845cc3"
      },
      "outputs": [
        {
          "name": "stdout",
          "output_type": "stream",
          "text": [
            "149 {'color': 4, 'word': 4, 'font_size': 28, 'font_name': '028NotoSerifJP-SemiBold'}\n",
            "1898 {'color': 4, 'word': 3, 'font_size': 98, 'font_name': '098NotoSerifJP-SemiBold'}\n",
            "1943 {'color': 3, 'word': 3, 'font_size': 98, 'font_name': '098NotoSansJP-Thin'}\n",
            "1813 {'color': 2, 'word': 3, 'font_size': 98, 'font_name': '098NotoSansJP-Regular'}\n",
            "734 {'color': 1, 'word': 4, 'font_size': 56, 'font_name': '056NotoSerifJP-Medium'}\n",
            "1128 {'color': 0, 'word': 3, 'font_size': 70, 'font_name': '070NotoSansJP-Medium'}\n",
            "934 {'color': 1, 'word': 4, 'font_size': 56, 'font_name': '056NotoSansJP-Bold'}\n",
            "690 {'color': 3, 'word': 0, 'font_size': 42, 'font_name': '042NotoSansJP-Black'}\n",
            "2098 {'color': 4, 'word': 3, 'font_size': 98, 'font_name': '098NotoSansJP-Black'}\n",
            "1871 {'color': 4, 'word': 1, 'font_size': 98, 'font_name': '098NotoSansJP-Light'}\n",
            "298 {'color': 4, 'word': 3, 'font_size': 28, 'font_name': '028NotoSerifJP-Black'}\n",
            "1751 {'color': 0, 'word': 1, 'font_size': 98, 'font_name': '098NotoSerifJP-Bold'}\n",
            "889 {'color': 2, 'word': 4, 'font_size': 56, 'font_name': '056NotoSansJP-Thin'}\n",
            "692 {'color': 3, 'word': 2, 'font_size': 42, 'font_name': '042NotoSansJP-Black'}\n",
            "1003 {'color': 0, 'word': 3, 'font_size': 56, 'font_name': '056NotoSerifJP-ExtraLight'}\n",
            "296 {'color': 4, 'word': 1, 'font_size': 28, 'font_name': '028NotoSerifJP-Black'}\n",
            "1921 {'color': 4, 'word': 1, 'font_size': 98, 'font_name': '098NotoSerifJP-Light'}\n",
            "1983 {'color': 1, 'word': 3, 'font_size': 98, 'font_name': '098NotoSansJP-Bold'}\n",
            "1765 {'color': 3, 'word': 0, 'font_size': 98, 'font_name': '098NotoSerifJP-Bold'}\n",
            "2050 {'color': 0, 'word': 0, 'font_size': 98, 'font_name': '098NotoSerifJP-ExtraLight'}\n",
            "1427 {'color': 0, 'word': 2, 'font_size': 84, 'font_name': '084NotoSerifJP-Medium'}\n",
            "1653 {'color': 0, 'word': 3, 'font_size': 84, 'font_name': '084NotoSansJP-DemiLight'}\n",
            "1906 {'color': 1, 'word': 1, 'font_size': 98, 'font_name': '098NotoSerifJP-Light'}\n",
            "2085 {'color': 2, 'word': 0, 'font_size': 98, 'font_name': '098NotoSansJP-Black'}\n",
            "143 {'color': 3, 'word': 3, 'font_size': 28, 'font_name': '028NotoSerifJP-SemiBold'}\n",
            "746 {'color': 4, 'word': 1, 'font_size': 56, 'font_name': '056NotoSerifJP-Medium'}\n",
            "1119 {'color': 3, 'word': 4, 'font_size': 70, 'font_name': '070NotoSansJP-Regular'}\n",
            "1046 {'color': 4, 'word': 1, 'font_size': 56, 'font_name': '056NotoSansJP-Black'}\n",
            "144 {'color': 3, 'word': 4, 'font_size': 28, 'font_name': '028NotoSerifJP-SemiBold'}\n",
            "84 {'color': 1, 'word': 4, 'font_size': 28, 'font_name': '028NotoSansJP-Medium'}\n",
            "1285 {'color': 2, 'word': 0, 'font_size': 70, 'font_name': '070NotoSansJP-Bold'}\n",
            "2029 {'color': 0, 'word': 4, 'font_size': 98, 'font_name': '098NotoSerifJP-Black'}\n",
            "1790 {'color': 3, 'word': 0, 'font_size': 98, 'font_name': '098NotoSerifJP-Medium'}\n",
            "71 {'color': 4, 'word': 1, 'font_size': 28, 'font_name': '028NotoSansJP-Regular'}\n",
            "877 {'color': 0, 'word': 2, 'font_size': 56, 'font_name': '056NotoSansJP-Thin'}\n",
            "401 {'color': 0, 'word': 1, 'font_size': 42, 'font_name': '042NotoSansJP-Regular'}\n"
          ]
        },
        {
          "data": {
            "image/png": "[encoded data removed]",
            "text/plain": [
              "<Figure size 1400x1000 with 36 Axes>"
            ]
          },
          "metadata": {
            "image/png": {
              "height": 790,
              "width": 1060
            }
          },
          "output_type": "display_data"
        }
      ],
      "source": [
        "fig, ax = plt.subplots(6, 6, figsize=(14, 10))\n",
        "i, j = 0, 0\n",
        "j_max = 6\n",
        "\n",
        "Ns = np.random.permutation(stroop_ds.__len__())\n",
        "for idx in Ns[:36]:\n",
        "#for idx in range(36):\n",
        "    #img, y = val_ds.__getitem__(idx)\n",
        "    img, y = stroop_ds.__getitem__(idx)\n",
        "    _img = img.detach().squeeze(0).numpy().transpose(1,2,0) # * 255\n",
        "    print(idx,y)\n",
        "    ax[i,j].imshow(_img)\n",
        "    #ax[i,j].imshow(img)\n",
        "    ax[i,j].set_xticks([])\n",
        "    ax[i,j].set_yticks([])\n",
        "    j += 1\n",
        "    if j == j_max:\n",
        "        i+=1; j=0\n",
        "\n",
        "#plt.show()"
      ]
    },
    {
      "cell_type": "code",
      "execution_count": null,
      "id": "dd8452f0-aaaf-4983-84db-bab32947f555",
      "metadata": {
        "tags": [],
        "id": "dd8452f0-aaaf-4983-84db-bab32947f555",
        "outputId": "1f588230-3aca-4415-9698-6ca2473fc11e"
      },
      "outputs": [
        {
          "name": "stdout",
          "output_type": "stream",
          "text": [
            "fc.weight\n",
            "fc.bias\n",
            "[Parameter containing:\n",
            "tensor([[-0.0136,  0.0333, -0.0354,  ..., -0.0116, -0.0278,  0.0031],\n",
            "        [-0.0424,  0.0305,  0.0172,  ..., -0.0375, -0.0318,  0.0245],\n",
            "        [-0.0172,  0.0045, -0.0080,  ..., -0.0006, -0.0337,  0.0357],\n",
            "        [-0.0404,  0.0115,  0.0264,  ...,  0.0059, -0.0214,  0.0222],\n",
            "        [-0.0253, -0.0328, -0.0243,  ...,  0.0231, -0.0084, -0.0267]],\n",
            "       requires_grad=True), Parameter containing:\n",
            "tensor([ 0.0412, -0.0061, -0.0356,  0.0050, -0.0174], requires_grad=True)]\n"
          ]
        }
      ],
      "source": [
        "# 各モデルを定義し，訓練済み結合係数をダウンロード\n",
        "import torchvision\n",
        "from torchvision import models\n",
        "\n",
        "DNNs = {}\n",
        "DNNs['resnet18'] = models.resnet18(weights=\"DEFAULT\", progress=True)\n",
        "# DNNs['alexnet'] = models.alexnet(weights=\"DEFAULT\", progress=True)\n",
        "# DNNs['vgg16'] = models.vgg16(weights=\"DEFAULT\", progress=True)\n",
        "# DNNs['squeezenet']= models.squeezenet1_0(weights=\"DEFAULT\", progress=True)\n",
        "# DNNs['densenet'] = models.densenet161(weights=\"DEFAULT\", progress=True)\n",
        "# DNNs['inception'] = models.inception_v3(weights=\"DEFAULT\", progress=True)\n",
        "# DNNs['googlenet'] = models.googlenet(weights=\"DEFAULT\", progress=True)\n",
        "# DNNs['shufflenet'] = models.shufflenet_v2_x1_0(weights=\"DEFAULT\", progress=True)\n",
        "# DNNs['mobilenet'] = models.mobilenet_v2(weights=\"DEFAULT\", progress=True)\n",
        "# DNNs['resnext50_32x4d'] = models.resnext50_32x4d(weights=\"DEFAULT\", progress=True)\n",
        "# DNNs['wide_resnet50_2'] = models.wide_resnet50_2(weights=\"DEFAULT\", progress=True)\n",
        "# DNNs['mnasnet'] = models.mnasnet1_0(weights=\"DEFAULT\", progress=True)\n",
        "\n",
        "cnn_col = DNNs['resnet18'].to(device)\n",
        "cnn_wrd = DNNs['resnet18'].to(device)\n",
        "\n",
        "cnn_col_parameters = {name:param for name, param in cnn_col.named_parameters()}\n",
        "cnn_col_modules = {name:param for name, param in cnn_col.named_modules()}\n",
        "cnn_wrd_parameters = {name:param for name, param in cnn_wrd.named_parameters()}\n",
        "cnn_wrd_modules = {name:param for name, param in cnn_wrd.named_modules()}\n",
        "\n",
        "# cnn model の最終層入れ替え\n",
        "cnn_col.fc = torch.nn.Linear(in_features=512, out_features=len(stroop_ds.colors))\n",
        "cnn_wrd.fc = torch.nn.Linear(in_features=512, out_features=len(stroop_ds.words))\n",
        "\n",
        "# 転移学習で学習させるパラメータを `params_to_update` に格納\n",
        "params_to_update = []\n",
        "\n",
        "# 学習させるパラメータ名\n",
        "update_param_names = [\"fc.weight\", \"fc.bias\"]\n",
        "\n",
        "# 学習させるパラメータ以外は勾配計算をなくし、変化しないように設定\n",
        "for name, param in cnn_col.named_parameters():\n",
        "    if name in update_param_names:\n",
        "        param.requires_grad = True\n",
        "        params_to_update.append(param)\n",
        "        print(name)\n",
        "    else:\n",
        "        param.requires_grad = False\n",
        "\n",
        "# params_to_updateの中身を確認\n",
        "print(params_to_update)"
      ]
    },
    {
      "cell_type": "code",
      "execution_count": null,
      "id": "69bfb284-809e-4ceb-9337-b9befe489d8c",
      "metadata": {
        "tags": [],
        "id": "69bfb284-809e-4ceb-9337-b9befe489d8c",
        "outputId": "7a9d1fdd-a99f-4974-958c-d5de18f91e2b"
      },
      "outputs": [
        {
          "name": "stdout",
          "output_type": "stream",
          "text": [
            "エポック 01/05 val   損失: 1.6241 精度: 0.205\n",
            "エポック 02/05 train 損失: 0.8775 精度: 0.798\n",
            "エポック 02/05 val   損失: 0.5126 精度: 0.976\n",
            "エポック 03/05 train 損失: 0.2730 精度: 0.994\n",
            "エポック 03/05 val   損失: 0.1464 精度: 1.000\n",
            "エポック 04/05 train 損失: 0.1486 精度: 0.995\n",
            "エポック 04/05 val   損失: 0.0913 精度: 1.000\n",
            "エポック 05/05 train 損失: 0.1021 精度: 0.997\n",
            "エポック 05/05 val   損失: 0.0648 精度: 1.000\n",
            "エポック 01/05 val   損失: 0.0648 精度: 1.000\n",
            "エポック 02/05 train 損失: 0.0764 精度: 0.998\n",
            "エポック 02/05 val   損失: 0.0466 精度: 1.000\n",
            "エポック 03/05 train 損失: 0.0617 精度: 0.999\n",
            "エポック 03/05 val   損失: 0.0390 精度: 1.000\n",
            "エポック 04/05 train 損失: 0.0495 精度: 0.998\n",
            "エポック 04/05 val   損失: 0.0318 精度: 1.000\n",
            "エポック 05/05 train 損失: 0.0445 精度: 0.999\n",
            "エポック 05/05 val   損失: 0.0247 精度: 1.000\n"
          ]
        },
        {
          "data": {
            "text/plain": [
              "({'train': [0.07635086263140674,\n",
              "   0.06166593492346466,\n",
              "   0.04952126562831894,\n",
              "   0.04449697706513304],\n",
              "  'val': [0.06480201326665425,\n",
              "   0.04658879048767544,\n",
              "   0.038993577872003825,\n",
              "   0.03183583844275702,\n",
              "   0.02467679711324828]},\n",
              " {'train': [array(0.9984127),\n",
              "   array(0.9989418),\n",
              "   array(0.9978836),\n",
              "   array(0.9989418)],\n",
              "  'val': [array(1.), array(1.), array(1.), array(1.), array(1.)]})"
            ]
          },
          "execution_count": 27,
          "metadata": {},
          "output_type": "execute_result"
        }
      ],
      "source": [
        "# %%time\n",
        "criterion = torch.nn.CrossEntropyLoss()\n",
        "optimizer = torch.optim.Adam(params=params_to_update)\n",
        "\n",
        "# モデルを学習させる関数\n",
        "def train_model(\n",
        "    net:torchvision.models=cnn_col,\n",
        "    target:str='color',  # ['color', 'word']\n",
        "    train_dl:torch.utils.data.dataloader=train_dl,\n",
        "    val_dl:torch.utils.data.dataloader=val_dl,\n",
        "    criterion:torch.nn.modules=criterion,\n",
        "    optimizer:torch.optim=optimizer,\n",
        "    epochs:int=5):\n",
        "\n",
        "    losses, accs = {'train':[], 'val':[]}, {'train':[],'val':[]}\n",
        "    for epoch in range(epochs):\n",
        "\n",
        "        # epochごとの学習と検証のループ\n",
        "        for phase in [train_dl, val_dl]:\n",
        "            if phase.name == 'train':\n",
        "                net.train()  # モデルを訓練モード\n",
        "            else:\n",
        "                net.eval()   # モデルを検証モード\n",
        "\n",
        "            epoch_loss = 0.     # epochの損失和\n",
        "            epoch_corrects = 0  # epochの正解数\n",
        "\n",
        "            # 未学習時の検証性能を確かめるため、epoch=0の訓練は省略\n",
        "            if (epoch == 0) and (phase.name == 'train'):\n",
        "                continue\n",
        "\n",
        "            # データローダーからミニバッチを取り出すループ\n",
        "            for inputs, labels in phase:\n",
        "                #inputs = torch.tensor(np.array([inp for inp in inputs])).to(device)\n",
        "                inputs = torch.tensor(np.array([inp.detach().numpy() for inp in inputs])).to(device)\n",
        "                labels = torch.LongTensor([label['color'] for label in labels])\n",
        "\n",
        "                optimizer.zero_grad() # optimizerを初期化\n",
        "\n",
        "                # 順伝搬（forward）計算\n",
        "                with torch.set_grad_enabled(phase.name =='train'):\n",
        "                    outputs = net(inputs)\n",
        "                    loss = criterion(outputs, labels)  # 損失を計算\n",
        "                    _, preds = torch.max(outputs, 1)   # ラベルを予測\n",
        "\n",
        "                    # 訓練時はバックプロパゲーション\n",
        "                    if phase.name == 'train':\n",
        "                        loss.backward()\n",
        "                        optimizer.step()\n",
        "\n",
        "                    epoch_loss += loss.item() * inputs.size(0)\n",
        "                    # 正解数の合計を更新\n",
        "                    epoch_corrects += torch.sum(preds == labels.data)\n",
        "\n",
        "            # epoch ごとの loss と正解率を表示\n",
        "            N = train_ds.__len__() if phase.name == 'train' else val_ds.__len__()\n",
        "            epoch_loss = epoch_loss / N\n",
        "            epoch_acc = epoch_corrects.double() / N\n",
        "\n",
        "            losses[phase.name].append(epoch_loss)\n",
        "            #losses[phase.name].append(epoch_loss)\n",
        "            accs[phase.name].append(epoch_acc.detach().numpy()) # [0])\n",
        "\n",
        "            print(f'エポック {epoch+1:02d}/{epochs:02d}',\n",
        "                  f'{phase.name:5s}',\n",
        "                  f'損失: {epoch_loss:.4f}',\n",
        "                  f'精度: {epoch_acc:.3f}')\n",
        "    return losses, accs\n",
        "\n",
        "train_model(net=cnn_col, target='color', epochs=5)  # 色名呼称課題\n",
        "train_model(net=cnn_wrd, target='word', epochs=5)   # 文字音読課題"
      ]
    },
    {
      "cell_type": "code",
      "execution_count": null,
      "id": "5d8aaa3e-763e-40fd-bdd4-3f92b0fb9c57",
      "metadata": {
        "id": "5d8aaa3e-763e-40fd-bdd4-3f92b0fb9c57",
        "outputId": "e4214e3d-6b85-4890-c7dc-a3e24b31819d"
      },
      "outputs": [
        {
          "name": "stdout",
          "output_type": "stream",
          "text": [
            "エポック 01/02 val   損失: 0.0247 精度: 1.000\n",
            "エポック 02/02 train 損失: 0.0414 精度: 0.999\n",
            "エポック 02/02 val   損失: 0.0217 精度: 1.000\n"
          ]
        }
      ],
      "source": [
        "losses, accs = train_model(net=cnn_wrd, target='word', epochs=2)   # 文字音読課題\n"
      ]
    },
    {
      "cell_type": "code",
      "execution_count": null,
      "id": "532dde16-b9ce-4ac5-989a-19a346c598f4",
      "metadata": {
        "tags": [],
        "id": "532dde16-b9ce-4ac5-989a-19a346c598f4"
      },
      "outputs": [],
      "source": [
        "imgs, labels = next(iter(val_dl))\n",
        "len(imgs)\n",
        "type(imgs[0])\n",
        "inputs = torch.tensor(np.array([inp.detach().numpy() for inp in imgs])).to(device)\n",
        "# print(dir(val_ds))\n",
        "# len(val_ds.indices)\n",
        "# val_ds.__len__()"
      ]
    },
    {
      "cell_type": "code",
      "execution_count": null,
      "id": "5681cdfe-cec1-4aa2-8df8-e25007962438",
      "metadata": {
        "tags": [],
        "id": "5681cdfe-cec1-4aa2-8df8-e25007962438"
      },
      "outputs": [],
      "source": [
        "val_ds.indices[0]\n",
        "#val_ds.__getitem__(0)"
      ]
    },
    {
      "cell_type": "code",
      "execution_count": null,
      "id": "7eb1dde7-4589-43d1-ae66-6fd0ec1f77de",
      "metadata": {
        "tags": [],
        "id": "7eb1dde7-4589-43d1-ae66-6fd0ec1f77de"
      },
      "outputs": [],
      "source": [
        "X = np.random.choice(val_ds.__len__())\n",
        "img, label = val_ds.__getitem__(X)\n",
        "idx = val_ds.indices[X]\n",
        "_color = stroop_ds.colors[label['color']]\n",
        "_word  = stroop_ds.words[label['word']]\n",
        "#print(f'X:{X} 色:{_color}, 文字:{_word}')\n",
        "cnn_col.eval()\n",
        "pred = cnn_col(img.unsqueeze(0)).detach().numpy().argmax()\n",
        "print(pred, stroop_ds.colors[pred])\n",
        "\n",
        "plt.title(f'x:{X}, 応答:{stroop_ds.colors[pred]}, 色:{_color}, 文字:{_word}')\n",
        "plt.imshow(img.detach().numpy().transpose(1,2,0))\n"
      ]
    },
    {
      "cell_type": "code",
      "execution_count": null,
      "id": "a81e137d-f5b3-412d-985d-191972ae9b11",
      "metadata": {
        "tags": [],
        "id": "a81e137d-f5b3-412d-985d-191972ae9b11"
      },
      "outputs": [],
      "source": [
        "import torch\n",
        "device = torch.device(\"cuda:0\" if torch.cuda.is_available() else \"cpu\")\n",
        "\n",
        "import IPython\n",
        "isColab = 'google.colab' in str(IPython.get_ipython())\n",
        "\n",
        "import os\n",
        "import numpy as np\n",
        "from tqdm.notebook import tqdm\n",
        "\n",
        "# ローカルと colab との相違を吸収するために必要となるライブラリをインストール\n",
        "try:\n",
        "    import jaconv\n",
        "except ImportError:\n",
        "    !pip install jaconv\n",
        "\n",
        "try:\n",
        "    import japanize_matplotlib\n",
        "except ImportError:\n",
        "    !pip install japanize_matplotlib\n",
        "    import japanize_matplotlib\n",
        "\n",
        "if isColab:\n",
        "    !pip install --upgrade termcolor==1.1\n",
        "from termcolor import colored\n",
        "\n",
        "# MeCab, fugashi, ipadic のインストール\n",
        "if isColab:\n",
        "    !apt install aptitude swig > /dev/null 2>&1\n",
        "    !aptitude install mecab libmecab-dev mecab-ipadic-utf8 git make curl xz-utils file -y > /dev/null 2>&1\n",
        "    !pip install mecab-python3==0.7 > /dev/null 2>&1\n",
        "    !pip install --upgrade ipadic > /dev/null 2>&1\n",
        "    !git clone --depth 1 https://github.com/neologd/mecab-ipadic-neologd.git > /dev/null 2>&1\n",
        "    !echo yes | mecab-ipadic-neologd/bin/install-mecab-ipadic-neologd -n -a > /dev/null 2>&1\n",
        "\n",
        "    import subprocess\n",
        "    cmd='echo `mecab-config --dicdir`\\\"/mecab-ipadic-neologd\\\"'\n",
        "    path_neologd = (subprocess.Popen(cmd, stdout=subprocess.PIPE,\n",
        "                                     shell=True).communicate()[0]).decode('utf-8')\n",
        "\n",
        "    !pip install 'fugashi[unidic]' > /dev/null 2>&1\n",
        "    !python -m unidic download > /dev/null 2>&1\n",
        "    !pip install ipadic > /dev/null 2>&1\n",
        "    !pip install 'konoha[mecab]'\n",
        "\n",
        "\n",
        "try:\n",
        "    import ccap\n",
        "except ImportError:\n",
        "    !git clone https://github.com/ShinAsakawa/ccap.git\n",
        "    import ccap\n",
        "\n",
        "try:\n",
        "    import RAM\n",
        "except ImportError:\n",
        "    !git clone https://github.com/ShinAsakawa/RAM.git\n",
        "    import RAM"
      ]
    },
    {
      "cell_type": "markdown",
      "id": "0ba9c3bd-6967-4ce7-9425-1552f88cca02",
      "metadata": {
        "id": "0ba9c3bd-6967-4ce7-9425-1552f88cca02"
      },
      "source": [
        "## 意味表現として word2vec による意味埋め込みベクトルを使う"
      ]
    },
    {
      "cell_type": "code",
      "execution_count": null,
      "id": "18683a3c-01f0-4027-9a3f-c1c881fea0bc",
      "metadata": {
        "tags": [],
        "id": "18683a3c-01f0-4027-9a3f-c1c881fea0bc"
      },
      "outputs": [],
      "source": [
        "%%time\n",
        "# word2vec を読み込む\n",
        "from ccap import ccap_w2v\n",
        "w2v = ccap_w2v().w2v\n",
        "#w2v = ccap_w2v(isColab=False).w2v\n",
        "\n",
        "# MeCab による yomi を輸入\n",
        "from ccap.mecab_settings import yomi\n",
        "#import MeCab"
      ]
    },
    {
      "cell_type": "markdown",
      "id": "11fb582c-3043-4c72-be98-fab860a4c135",
      "metadata": {
        "id": "11fb582c-3043-4c72-be98-fab860a4c135"
      },
      "source": [
        "## データセット Psylex71_Dataset の読み込み"
      ]
    },
    {
      "cell_type": "code",
      "execution_count": null,
      "id": "9057cfa3-bd54-497c-950a-3c34576b8b64",
      "metadata": {
        "tags": [],
        "id": "9057cfa3-bd54-497c-950a-3c34576b8b64"
      },
      "outputs": [],
      "source": [
        "from kunrei import kunrei\n",
        "\n",
        "# データセットとしての Psylex71_Dataset の読み込み\n",
        "from RAM import Psylex71_Dataset\n",
        "\n",
        "psylex71_ds = Psylex71_Dataset(max_words=30000)\n",
        "print(f'psylex71_ds の単語数:{psylex71_ds.__len__()}')"
      ]
    },
    {
      "cell_type": "markdown",
      "id": "bd4995d2-8a4f-4721-8a79-eca7330b961b",
      "metadata": {
        "id": "bd4995d2-8a4f-4721-8a79-eca7330b961b"
      },
      "source": [
        "### データセットのヒストグラム描画"
      ]
    },
    {
      "cell_type": "code",
      "execution_count": null,
      "id": "45ff4af1-2184-4304-bef0-64bf2504e40e",
      "metadata": {
        "tags": [],
        "id": "45ff4af1-2184-4304-bef0-64bf2504e40e"
      },
      "outputs": [],
      "source": [
        "from RAM import draw_word_char_histgram\n",
        "\n",
        "draw_word_char_histgram(_dict=psylex71_ds.data_dict, key='phon', title='音韻', figsize2=(8,3))"
      ]
    },
    {
      "cell_type": "markdown",
      "id": "1ddbc27f-5ebb-4fbd-9d75-da7585048341",
      "metadata": {
        "id": "1ddbc27f-5ebb-4fbd-9d75-da7585048341"
      },
      "source": [
        "## psylex71_ds データをすべて word2vec の埋め込みベクトル行列を得る"
      ]
    },
    {
      "cell_type": "code",
      "execution_count": null,
      "id": "94cd4aab-6dbb-41f4-bb02-b74f2768043c",
      "metadata": {
        "tags": [],
        "id": "94cd4aab-6dbb-41f4-bb02-b74f2768043c"
      },
      "outputs": [],
      "source": [
        "# psylex71_ds データをすべて word2vec の埋め込みベクトル行列を得る\n",
        "_f = [dct['orth'] for dct in psylex71_ds.data_dict.values()]\n",
        "\n",
        "# gensim() の `vectors_for_all()` 関数を使えば，望む語彙からなる word2vec 単語埋め込みモデルを作成できる\n",
        "w2v_psylex71 = w2v.vectors_for_all(_f)\n",
        "\n",
        "# NaN データが入っている可能性がるので変換\n",
        "w2v_psylex71.vectors = np.nan_to_num(w2v_psylex71.vectors)\n",
        "print(f'w2v_psylex71.vectors.shape:{w2v_psylex71.vectors.shape}')"
      ]
    },
    {
      "cell_type": "markdown",
      "id": "4baeee79-6f53-459d-b1ed-688788eae64b",
      "metadata": {
        "id": "4baeee79-6f53-459d-b1ed-688788eae64b"
      },
      "source": [
        "## psylex71 データセット中の単語における w2v を表示してテストする"
      ]
    },
    {
      "cell_type": "code",
      "execution_count": null,
      "id": "bf14fdcf-d6b5-461e-ac0a-f5f9fe55a9fd",
      "metadata": {
        "tags": [],
        "id": "bf14fdcf-d6b5-461e-ac0a-f5f9fe55a9fd"
      },
      "outputs": [],
      "source": [
        "#from tqdm.notebook import tqdm\n",
        "Emb = w2v_psylex71.vectors\n",
        "\n",
        "Wrd = input('単語を入力してください:')\n",
        "color = 'blue'\n",
        "while (Wrd != \"\"):\n",
        "    if Wrd in w2v_psylex71:\n",
        "        Idx = w2v_psylex71.key_to_index[Wrd]\n",
        "        print(f'入力単語 Wrd:{colored(Wrd, color, attrs=[\"bold\"])},',\n",
        "              f'対応する単語番号 Idx:{colored(Idx, color, attrs=[\"bold\"])},',\n",
        "              f'w2v_psylex71.get_index({Wrd}):{colored(w2v_psylex71.get_index(Wrd), color, attrs=[\"bold\"])}')\n",
        "    else:\n",
        "        print(colored(f'{Wrd} という単語はありません。','red', attrs=['bold']))\n",
        "    Wrd = input('単語を入力してください (終了するには改行のみを入力):')"
      ]
    },
    {
      "cell_type": "markdown",
      "id": "2ab15140-dca3-4f07-8080-4d8b10503bcc",
      "metadata": {
        "id": "2ab15140-dca3-4f07-8080-4d8b10503bcc"
      },
      "source": [
        "## PyTorch 用のデータセット定義"
      ]
    },
    {
      "cell_type": "code",
      "execution_count": null,
      "id": "e1c5962c-2596-4e67-b7e0-3e58bae4f8bf",
      "metadata": {
        "tags": [],
        "id": "e1c5962c-2596-4e67-b7e0-3e58bae4f8bf"
      },
      "outputs": [],
      "source": [
        "from torch.utils.data import Dataset\n",
        "import gensim\n",
        "\n",
        "class psylex71_w2v_Dataset(Dataset):\n",
        "    def __init__(self,\n",
        "                 direction='s2p',  # ['s2p', 'p2s']\n",
        "                 #source='seme',    # エンコーダ用 入力データ, ['orth', seme', 'phon'] のいずれか一つ\n",
        "                 #target='phon',    # デコーダ用 出力データ ,  ['orth', seme', 'phon'] のいずれか一つ\n",
        "                 w2v:gensim.models.keyedvectors.KeyedVectors=w2v_psylex71,\n",
        "                 old_ds:RAM.dataset.Psylex71_Dataset=psylex71_ds,\n",
        "                 mecab_yomi=yomi,\n",
        "                ):\n",
        "        self.direction = 's2p' if direction == 's2p' else direction\n",
        "        self.w2v = w2v\n",
        "        self.old_ds = old_ds\n",
        "        self.mecab_yomi = yomi\n",
        "\n",
        "        _wrds = []\n",
        "        for idx in range(len(w2v)):\n",
        "            _wrds.append(w2v.index_to_key[idx])\n",
        "        self.words = _wrds\n",
        "        self.W = w2v.vectors\n",
        "\n",
        "        # 訓令式に従った日本語ローマ字表記 `kurei.py` 参照\n",
        "        self.phoneme = ['<PAD>', '<SOW>', '<EOW>', '<UNK>', # 特殊トークン，純に，埋め草，語頭，語末，未知\n",
        "                        'a', 'i', 'u', 'e', 'o',            # 母音\n",
        "                        'a:', 'i:', 'u:', 'e:', 'o:',       # 長母音\n",
        "                        'N', 'Q',                           # 撥音，拗音\n",
        "                        'b', 'by', 'ch', 'd', 'dy', 'f', 'g', 'gy', 'h', 'hy', # 子音\n",
        "                        'j', 'k', 'ky', 'm', 'my', 'n', 'ny',  'p', 'py', 'r', # 子音\n",
        "                        'ry', 's', 'sy', 't', 'ty', 'w', 'y', 'z', 'zy']       # 子音\n",
        "\n",
        "    def __getitem__(self,\n",
        "                    idx:int,\n",
        "                    direction:str=None):\n",
        "        wrd = self.words[idx]\n",
        "        if direction == None:\n",
        "            direction = self.direction\n",
        "        if direction == 'p2s':\n",
        "            X = torch.LongTensor(self.wrd2phon_ids(wrd))\n",
        "            y = torch.tensor(self.w2v.get_vector(idx))\n",
        "        else:\n",
        "            y = torch.LongTensor(self.wrd2phon_ids(wrd))\n",
        "            X = torch.tensor(self.w2v.get_vector(idx))\n",
        "\n",
        "        return X, y\n",
        "\n",
        "\n",
        "    def __len__(self):\n",
        "        return len(self.w2v)\n",
        "\n",
        "    def wrd2phon_ids(self, wrd:str)->list:\n",
        "        _yomi = self.wrd2yomi(wrd)\n",
        "        _yomi = kunrei(_yomi).split(' ')\n",
        "        ids = [self.phoneme.index(idx) for idx in _yomi]\n",
        "        ids = [self.phoneme.index('<SOW>')] + ids + [self.phoneme.index('<EOW>')]\n",
        "        return ids #, _yomi\n",
        "\n",
        "    def get_wrdidx_from_word(self, wrd:str):\n",
        "        if wrd in self.words:\n",
        "            wrd_idx = self.w2v.get_index(wrd)\n",
        "        return wrd_idx\n",
        "\n",
        "    def wrd2emb(self, wrd:str)->np.ndarray:\n",
        "        if wrd in self.words:\n",
        "            return self.w2v.get_vector(wrd)\n",
        "        else:\n",
        "            return None\n",
        "\n",
        "    def wrd2wrd_idx(self, wrd:str)->int:\n",
        "        if wrd in self.words:\n",
        "            return self.words.index(wrd)\n",
        "        else:\n",
        "            return None\n",
        "\n",
        "    def wrd_idx2wrd(self, idx:int)->str:\n",
        "        if 0 <= idx and idx < len(self.words):\n",
        "            return self.words[idx]\n",
        "        else:\n",
        "            return None\n",
        "\n",
        "    def wrd2onehot(self, wrd:str)->np.ndarray:\n",
        "        ret = np.zeros((self.W.shape[0],), dtype=np.int32)\n",
        "        if wrd in self.words:\n",
        "            ret[self.w2v.get_index(wrd)] = 1\n",
        "            return ret\n",
        "        else:\n",
        "            return None\n",
        "\n",
        "    def phon_ids2phn(self, ids:list):\n",
        "        return \"\".join([self.phoneme[idx] for idx in ids])\n",
        "\n",
        "    def wrd2yomi(self, wrd:str)->list:\n",
        "        if wrd in self.words:\n",
        "            _yomi = self.old_ds.orth2info_dict[wrd]['ヨミ']\n",
        "        else:\n",
        "            _yomi = self.mecab_yomi(wrd).strip().split()[0]\n",
        "        return _yomi\n",
        "\n",
        "    def wrd2info(self, wrd:str)->dict:\n",
        "        if wrd in self.words:\n",
        "            return self.old_ds.orth2info_dict[wrd]\n",
        "        else:\n",
        "            return None\n",
        "\n",
        "\n",
        "_psylex71_ds = psylex71_w2v_Dataset()\n",
        "\n",
        "# 以下確認作業\n",
        "N = np.random.randint(_psylex71_ds.__len__())\n",
        "wrd = _psylex71_ds.wrd_idx2wrd(N)\n",
        "print(f'_Wrd:{wrd}\\n',\n",
        "      f'_psylex71_ds.wrd2phon_ids({wrd}):{_psylex71_ds.wrd2phon_ids(wrd)}\\n',\n",
        "      f'_psylex71_ds.phon_ids2phn(_psylex71_ds.wrd2phon_ids({wrd})):{_psylex71_ds.phon_ids2phn(_psylex71_ds.wrd2phon_ids(wrd))}\\n',\n",
        "      f'_psylex71_ds.wrd2yomi({wrd}): {_psylex71_ds.wrd2yomi(wrd)}\\n',\n",
        "      f'_psylex71_ds.wrd2wrd_idx({wrd}): {_psylex71_ds.wrd2wrd_idx(wrd)}\\n',\n",
        "      f'_psylex71_ds.wrd2info({wrd}): {_psylex71_ds.wrd2info(wrd)}')"
      ]
    },
    {
      "cell_type": "markdown",
      "id": "420f9c74-269d-404e-b667-58efd5b5988d",
      "metadata": {
        "id": "420f9c74-269d-404e-b667-58efd5b5988d"
      },
      "source": [
        "# DataLoader の設定"
      ]
    },
    {
      "cell_type": "code",
      "execution_count": null,
      "id": "6f547a8d-fc60-4317-981a-84187212464e",
      "metadata": {
        "tags": [],
        "id": "6f547a8d-fc60-4317-981a-84187212464e"
      },
      "outputs": [],
      "source": [
        "from torch.utils.data import Dataset, DataLoader\n",
        "from torch.nn.utils.rnn import pad_sequence\n",
        "import numpy as np\n",
        "\n",
        "def my_collate_fn(batch):\n",
        "    images, targets= list(zip(*batch))\n",
        "    xs = list(images)\n",
        "    ys = list(targets)\n",
        "    return xs, ys\n",
        "\n",
        "batch_size = 1024\n",
        "dataloader = DataLoader(_psylex71_ds,\n",
        "                        batch_size=batch_size,\n",
        "                        shuffle=True,\n",
        "                        collate_fn=my_collate_fn)"
      ]
    },
    {
      "cell_type": "markdown",
      "id": "f88af86b-c0a6-4fa0-8c29-653b8c38f8bf",
      "metadata": {
        "id": "f88af86b-c0a6-4fa0-8c29-653b8c38f8bf"
      },
      "source": [
        "# model definition"
      ]
    },
    {
      "cell_type": "code",
      "execution_count": null,
      "id": "66e05e9b-1478-41bc-9f85-9d689a3fd03b",
      "metadata": {
        "tags": [],
        "id": "66e05e9b-1478-41bc-9f85-9d689a3fd03b"
      },
      "outputs": [],
      "source": [
        "# Define model\n",
        "import torch.nn as nn\n",
        "import torch.optim as optim\n",
        "import torch.nn.functional as F\n",
        "from torch.utils.data import Dataset, DataLoader\n",
        "from torch.nn.utils.rnn import pad_sequence\n",
        "\n",
        "class EncDec_w_Att(nn.Module):\n",
        "    def __init__(self,\n",
        "                 enc_vocab_size:int,\n",
        "                 dec_vocab_size:int,\n",
        "                 n_hid:int,\n",
        "                 n_layers:int=2,\n",
        "                 bidirectional:bool=False,\n",
        "                ):\n",
        "        super().__init__()\n",
        "        self.encoder_emb = nn.Embedding(num_embeddings=enc_vocab_size,\n",
        "                                        embedding_dim=n_hid,\n",
        "                                        padding_idx=0)\n",
        "        self.decoder_emb = nn.Embedding(num_embeddings=dec_vocab_size,\n",
        "                                        embedding_dim=n_hid,\n",
        "                                        padding_idx=0)\n",
        "        self.encoder = nn.LSTM(input_size=n_hid,\n",
        "                               hidden_size=n_hid,\n",
        "                               num_layers=n_layers,\n",
        "                               batch_first=True,\n",
        "                               bidirectional=bidirectional)\n",
        "\n",
        "        self.decoder = nn.LSTM(input_size=n_hid,\n",
        "                               hidden_size=n_hid,\n",
        "                               num_layers=n_layers,\n",
        "                               batch_first=True,\n",
        "                               bidirectional=bidirectional)\n",
        "\n",
        "        self.Wc = nn.Linear(2*n_hid, n_hid)\n",
        "        self.W = nn.Linear(n_hid, dec_vocab_size)\n",
        "\n",
        "    def forward(self, enc_inp, dec_inp):\n",
        "\n",
        "        enc_emb = self.encoder_emb(enc_inp)\n",
        "        enc_out, (hnx, cnx) = self.encoder(enc_emb)\n",
        "\n",
        "        dec_emb = self.decoder_emb(dec_inp)\n",
        "        dec_out, (hny, cny) = self.decoder(dec_emb,(hnx, cnx))\n",
        "\n",
        "        # enc_out は バッチサイズ，ソースの単語数，中間層の次元数である。\n",
        "        # dec_out の各単語に対して，ソースの各単語との類似度を内積をとることによって測るため enc_out の軸を入れ替える\n",
        "        enc_outP = enc_out.permute(0,2,1)\n",
        "\n",
        "        # 直下の sim の形状は (バッチサイズ, 中間層の次元数，ソースの単語数) となる\n",
        "        sim = torch.bmm(dec_out, enc_outP)\n",
        "\n",
        "        batch_size, dec_word_size, enc_word_size = sim.shape\n",
        "\n",
        "        # sim に対して，ソフトマックスを使うため，sim の形状を変形\n",
        "        simP = sim.reshape(batch_size * dec_word_size, enc_word_size)\n",
        "\n",
        "        # 注意の重みを alpha とする\n",
        "        alpha = F.softmax(simP,dim=1).reshape(batch_size, dec_word_size, enc_word_size)\n",
        "\n",
        "        # 注意の重み alpha に encoder の出力を乗じて，文脈ベクトル ct とする\n",
        "        ct = torch.bmm(alpha, enc_out)\n",
        "\n",
        "        dec_out1 = torch.cat([ct,dec_out],dim=2)\n",
        "        dec_out2 = self.Wc(dec_out1)\n",
        "\n",
        "        return self.W(dec_out2)\n",
        "\n",
        "n_hid = 64\n",
        "n_layers = 1\n",
        "enc_dec = EncDec_w_Att(enc_vocab_size=len(_psylex71_ds.phoneme),\n",
        "                       dec_vocab_size=len(_psylex71_ds.phoneme),\n",
        "                       n_layers=n_layers,\n",
        "                       n_hid=n_hid).to(device)\n",
        "# _init = enc_dec.encoder_emb.weight\n",
        "# print(_init)\n",
        "\n",
        "# for x, y in dataloader:\n",
        "#     print(x[0].size(), y[0].size())\n",
        "#     break"
      ]
    },
    {
      "cell_type": "code",
      "execution_count": null,
      "id": "9251153a-ce76-421b-ab7e-3c6b1b8a9f5d",
      "metadata": {
        "tags": [],
        "id": "9251153a-ce76-421b-ab7e-3c6b1b8a9f5d"
      },
      "outputs": [],
      "source": [
        "%%time\n",
        "\n",
        "n_hid = 64\n",
        "n_layers = 1\n",
        "epochs = 10\n",
        "model = EncDec_w_Att(enc_vocab_size=len(_psylex71_ds.phoneme),\n",
        "                     dec_vocab_size=len(_psylex71_ds.phoneme),\n",
        "                     n_layers=n_layers,\n",
        "                     n_hid=n_hid).to(device)\n",
        "\n",
        "\n",
        "optimizer = optim.Adam(model.parameters(),lr=0.001)\n",
        "#optimizer = optim.Adam(model.parameters(),lr=0.01)\n",
        "#optimizer = optim.SGD(net.parameters(),lr=0.01)\n",
        "\n",
        "criterion = nn.CrossEntropyLoss(ignore_index=-1)\n",
        "\n",
        "model.train()\n",
        "interval = int(_psylex71_ds.__len__()/batch_size) >> 2\n",
        "losses = []\n",
        "for epoch in range(epochs):\n",
        "    i = 0\n",
        "    for x, y in dataloader:\n",
        "        enc_inp = pad_sequence(y, batch_first=True).to(device)[:,1:]\n",
        "        #enc_inp = pad_sequence(x, batch_first=True).to(device)\n",
        "        dec_inp = pad_sequence(y, batch_first=True).to(device)[:,1:]\n",
        "        tch = pad_sequence(y, batch_first=True, padding_value=-1.0).to(device)\n",
        "        tch = tch[:,1:]\n",
        "        out = model(enc_inp, dec_inp)\n",
        "        loss = criterion(out[0], tch[0])\n",
        "        for h in range(1,len(tch)):\n",
        "            loss += criterion(out[h], tch[h])\n",
        "        losses.append(loss.item()/len(x))\n",
        "\n",
        "        optimizer.zero_grad()\n",
        "        loss.backward()\n",
        "        optimizer.step()\n",
        "        i += 1\n",
        "        if (i % interval) == 0:\n",
        "            print(f'epoch:{epoch:3d}, batch:{i:3d}, loss:{loss.item()/len(x):.3f}')\n",
        "\n",
        "#outfile = \"attnmt2-\" + str(epoch) + \".model\"\n",
        "#torch.save(net.state_dict(),outfile)"
      ]
    },
    {
      "cell_type": "code",
      "execution_count": null,
      "id": "90ec4b9d-d48a-4340-aaa0-f5a6abe95309",
      "metadata": {
        "tags": [],
        "id": "90ec4b9d-d48a-4340-aaa0-f5a6abe95309"
      },
      "outputs": [],
      "source": [
        "losses_save = losses.copy()"
      ]
    },
    {
      "cell_type": "code",
      "execution_count": null,
      "id": "605d1b02-0fdf-4159-80ae-2e1e95fd1da4",
      "metadata": {
        "tags": [],
        "id": "605d1b02-0fdf-4159-80ae-2e1e95fd1da4"
      },
      "outputs": [],
      "source": [
        "# epoch:  4, batch: 24, loss:0.775, n_hid=64, n_layers=3\n",
        "# epoch:  4, batch: 24, loss:0.100, n_hid=64, n_layers=1\n",
        "# epoch:  4, batch: 24, loss:0.148, n_hid=64, n_layers=2 CPU times: user 3min, sys: 1min 3s, total: 4min 3s\n",
        "\n",
        "print(f'batch_size:{batch_size}',\n",
        "      f'n_hid:{n_hid}',\n",
        "      f'n_layers:{n_layers}',\n",
        "      f'losses[-1]:{losses[-1]:.3f}')\n",
        "\n",
        "import matplotlib.pyplot as plt\n",
        "plt.plot(losses)\n",
        "#type(losses[0])"
      ]
    },
    {
      "cell_type": "code",
      "execution_count": null,
      "id": "b3723ae1-64f6-4b21-a191-041bd90949ae",
      "metadata": {
        "tags": [],
        "id": "b3723ae1-64f6-4b21-a191-041bd90949ae"
      },
      "outputs": [],
      "source": [
        "losses[-2:]"
      ]
    },
    {
      "cell_type": "code",
      "execution_count": null,
      "id": "519e8b46-43b8-4b44-a4eb-f4bf706a0b49",
      "metadata": {
        "tags": [],
        "id": "519e8b46-43b8-4b44-a4eb-f4bf706a0b49"
      },
      "outputs": [],
      "source": [
        "# Define model\n",
        "import torch.nn as nn\n",
        "import torch.optim as optim\n",
        "import torch.nn.functional as F\n",
        "from torch.utils.data import Dataset, DataLoader\n",
        "from torch.nn.utils.rnn import pad_sequence\n",
        "\n",
        "class EncDec_s2p(nn.Module):\n",
        "    def __init__(self,\n",
        "                 sem_dim:int,\n",
        "                 dec_vocab_size:int,\n",
        "                 n_hid:int,\n",
        "                 n_layers:int=2,\n",
        "                 bidirectional:bool=False,\n",
        "                ):\n",
        "        super().__init__()\n",
        "        self.encoder_emb = nn.Embedding(num_embeddings=sem_dim,\n",
        "                                        embedding_dim=n_hid,\n",
        "                                        padding_idx=0)\n",
        "        self.decoder_emb = nn.Embedding(num_embeddings=dec_vocab_size,\n",
        "                                        embedding_dim=n_hid,\n",
        "                                        padding_idx=0)\n",
        "        self.encoder = nn.LSTM(input_size=n_hid,\n",
        "                               hidden_size=n_hid,\n",
        "                               num_layers=n_layers,\n",
        "                               batch_first=True,\n",
        "                               bidirectional=bidirectional)\n",
        "\n",
        "        self.decoder = nn.LSTM(input_size=n_hid,\n",
        "                               hidden_size=n_hid,\n",
        "                               num_layers=n_layers,\n",
        "                               batch_first=True,\n",
        "                               bidirectional=bidirectional)\n",
        "\n",
        "        self.Wc = nn.Linear(2*n_hid, n_hid)\n",
        "        self.W = nn.Linear(n_hid, dec_vocab_size)\n",
        "\n",
        "    def forward(self, enc_inp, dec_inp):\n",
        "\n",
        "        enc_emb = self.encoder_emb(enc_inp)\n",
        "        enc_out, (hnx, cnx) = self.encoder(enc_emb)\n",
        "\n",
        "        dec_emb = self.decoder_emb(dec_inp)\n",
        "        dec_out, (hny, cny) = self.decoder(dec_emb,(hnx, cnx))\n",
        "\n",
        "        # enc_out は バッチサイズ，ソースの単語数，中間層の次元数である。\n",
        "        # dec_out の各単語に対して，ソースの各単語との類似度を内積をとることによって測るため enc_out の軸を入れ替える\n",
        "        enc_outP = enc_out.permute(0,2,1)\n",
        "\n",
        "        # 直下の sim の形状は (バッチサイズ, 中間層の次元数，ソースの単語数) となる\n",
        "        sim = torch.bmm(dec_out, enc_outP)\n",
        "\n",
        "        batch_size, dec_word_size, enc_word_size = sim.shape\n",
        "\n",
        "        # sim に対して，ソフトマックスを使うため，sim の形状を変形\n",
        "        simP = sim.reshape(batch_size * dec_word_size, enc_word_size)\n",
        "\n",
        "        # 注意の重みを alpha とする\n",
        "        alpha = F.softmax(simP,dim=1).reshape(batch_size, dec_word_size, enc_word_size)\n",
        "\n",
        "        # 注意の重み alpha に encoder の出力を乗じて，文脈ベクトル ct とする\n",
        "        ct = torch.bmm(alpha, enc_out)\n",
        "\n",
        "        dec_out1 = torch.cat([ct,dec_out],dim=2)\n",
        "        dec_out2 = self.Wc(dec_out1)\n",
        "\n",
        "        return self.W(dec_out2)"
      ]
    }
  ],
  "metadata": {
    "kernelspec": {
      "display_name": "Python 3 (ipykernel)",
      "language": "python",
      "name": "python3"
    },
    "language_info": {
      "codemirror_mode": {
        "name": "ipython",
        "version": 3
      },
      "file_extension": ".py",
      "mimetype": "text/x-python",
      "name": "python",
      "nbconvert_exporter": "python",
      "pygments_lexer": "ipython3",
      "version": "3.9.16"
    },
    "colab": {
      "provenance": [],
      "include_colab_link": true
    }
  },
  "nbformat": 4,
  "nbformat_minor": 5
}