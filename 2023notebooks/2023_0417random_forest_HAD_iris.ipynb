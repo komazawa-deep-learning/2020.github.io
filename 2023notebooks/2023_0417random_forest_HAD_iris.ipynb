{
  "cells": [
    {
      "cell_type": "markdown",
      "metadata": {
        "id": "view-in-github",
        "colab_type": "text"
      },
      "source": [
        "<a href=\"https://colab.research.google.com/github/komazawa-deep-learning/komazawa-deep-learning.github.io/blob/master/2023notebooks/2023_0417random_forest_HAD_iris.ipynb\" target=\"_parent\"><img src=\"https://colab.research.google.com/assets/colab-badge.svg\" alt=\"Open In Colab\"/></a>"
      ]
    },
    {
      "cell_type": "markdown",
      "id": "a91ed59a-6684-4760-b3b4-0b51b5a2b566",
      "metadata": {
        "id": "a91ed59a-6684-4760-b3b4-0b51b5a2b566"
      },
      "source": [
        "* sepal (萼片 がくべん)： 花の外側の部分 (多くの場合緑色で葉のようなもの) で発達中の蕾を包む。\n",
        "* petal (花弁，花びら)：花の外側の部分で，しばしば目立つ色をしている。\n",
        "\n",
        "<img src=\"https://dictionary.goo.ne.jp/img/daijisen/ref/113205.jpg\"><br/>\n",
        "Goo 国語辞典より\n",
        "\n"
      ]
    },
    {
      "cell_type": "code",
      "execution_count": 1,
      "id": "8e9355ea-fd83-44a9-9af4-51924a5d85f6",
      "metadata": {
        "id": "8e9355ea-fd83-44a9-9af4-51924a5d85f6"
      },
      "outputs": [],
      "source": [
        "# 必要なライブラリを輸入\n",
        "import pandas as pd, numpy as np\n",
        "import matplotlib.pyplot as plt, seaborn as sns\n",
        "%matplotlib inline"
      ]
    },
    {
      "cell_type": "code",
      "execution_count": null,
      "id": "1346cd09-3db5-4f1e-8488-f30782ed529b",
      "metadata": {
        "id": "1346cd09-3db5-4f1e-8488-f30782ed529b"
      },
      "outputs": [],
      "source": [
        "# HAD データの取得\n",
        "import IPython\n",
        "isColab = 'google.colab' in str(IPython.get_ipython())\n",
        "if isColab:\n",
        "    !pip install --upgrade xlrd\n",
        "    !pip install --upgrade pandas\n",
        "\n",
        "    # HAD サンプルデータをダウンロード\n",
        "    !wget 'https://files.au-1.osf.io/v1/resources/32cyp/providers/osfstorage/5fb340145502ac018d8c86ab/?zip=' -O had.zip\n",
        "    !unzip had.zip\n",
        "\n",
        "# HAD のサンプルデータ読み込み\n",
        "df = pd.read_excel('HAD_sample_data.xls', sheet_name=\"iris\", index_col='ID')\n",
        "df"
      ]
    },
    {
      "cell_type": "code",
      "execution_count": 3,
      "id": "d5eb7c67-e70f-4645-9cb9-2540fde35eb4",
      "metadata": {
        "id": "d5eb7c67-e70f-4645-9cb9-2540fde35eb4"
      },
      "outputs": [],
      "source": [
        "# 説明変数を X とする\n",
        "X = df.drop('Species', axis=1)\n",
        "\n",
        "# 被説明変数を y とする\n",
        "y = df['Species']"
      ]
    },
    {
      "cell_type": "code",
      "execution_count": null,
      "id": "cf8718eb-6ba7-419b-85ef-eb0ed05d2524",
      "metadata": {
        "id": "cf8718eb-6ba7-419b-85ef-eb0ed05d2524"
      },
      "outputs": [],
      "source": [
        "# データセットを訓練データとテストデータに分割\n",
        "from sklearn.model_selection import train_test_split\n",
        "\n",
        "# ランダムにデータを訓練用と検証用に振り分ける\n",
        "X_train, X_test, y_train, y_test = train_test_split(X, y, train_size=0.8, random_state=42)\n",
        "print(f'訓練データ:{X_train.shape}, 検証データ:{X_test.shape}')"
      ]
    },
    {
      "cell_type": "code",
      "execution_count": 5,
      "id": "1a62088f-ca25-452b-91ba-b74ac47d90ce",
      "metadata": {
        "id": "1a62088f-ca25-452b-91ba-b74ac47d90ce"
      },
      "outputs": [],
      "source": [
        "# ランダムフォレスト分類器を輸入して，定義\n",
        "from sklearn.ensemble import RandomForestClassifier\n",
        "classifier_rf = RandomForestClassifier(random_state=42, \n",
        "                                       n_jobs=-1, \n",
        "                                       max_depth=5,\n",
        "                                       n_estimators=100, \n",
        "                                       criterion=\"entropy\",  # ['gini', 'entropy']\n",
        "                                       oob_score=True)\n",
        "\n",
        "# oob_score: OOB は out of the bag の意味。\n",
        "# ランダムフォレストの交差検証法の一つ。\n",
        "# この方法では，サンプルの 3 分の 1 はデータの訓練に使用されず，代わりに性能の評価に使用される。\n",
        "# これらのサンプルは out-of-bag サンプルと呼ばれる。"
      ]
    },
    {
      "cell_type": "code",
      "execution_count": null,
      "id": "a4e22654-b322-4aaa-b96d-6442e580b73c",
      "metadata": {
        "id": "a4e22654-b322-4aaa-b96d-6442e580b73c"
      },
      "outputs": [],
      "source": [
        "%%time\n",
        "classifier_rf.fit(X_train, y_train)\n",
        "\n",
        "# oob 得点の出力\n",
        "print(f'oob 得点:{classifier_rf.oob_score_:.3f}')"
      ]
    },
    {
      "cell_type": "code",
      "execution_count": 12,
      "id": "46d5a895-c1a5-4103-a8d2-3d5d0eaf0a5b",
      "metadata": {
        "id": "46d5a895-c1a5-4103-a8d2-3d5d0eaf0a5b"
      },
      "outputs": [],
      "source": [
        "# `GridSearchCV` を用いたランダムフォレストのハイパーパラメータチューニング\n",
        "rf = RandomForestClassifier(random_state=42, \n",
        "                            n_jobs=-1,\n",
        "                            criterion='entropy',\n",
        "                           )\n",
        "params = {\n",
        "    'max_depth': [2,3,5,10,20],\n",
        "    'min_samples_leaf': [5,10,20,50,100,200],\n",
        "    'n_estimators': [10,25,30,50,100,200]\n",
        "}\n",
        "\n",
        "from sklearn.model_selection import GridSearchCV\n",
        "# グリッド探索モデルの実体化\n",
        "grid_search = GridSearchCV(estimator=rf,\n",
        "                           param_grid=params,\n",
        "                           cv = 4,\n",
        "                           n_jobs=1, \n",
        "                           #n_jobs=-1, \n",
        "                           verbose=1, \n",
        "                           scoring=\"accuracy\")"
      ]
    },
    {
      "cell_type": "code",
      "execution_count": null,
      "id": "35b63704-8d16-4f34-a428-6b38848d6847",
      "metadata": {
        "id": "35b63704-8d16-4f34-a428-6b38848d6847"
      },
      "outputs": [],
      "source": [
        "%%time\n",
        "grid_search.fit(X_train, y_train)"
      ]
    },
    {
      "cell_type": "code",
      "execution_count": null,
      "id": "9640e534-3343-4c30-822e-cfc0472a0a04",
      "metadata": {
        "id": "9640e534-3343-4c30-822e-cfc0472a0a04"
      },
      "outputs": [],
      "source": [
        "print(f'グリッドサーチによる最良モデルの得点:{grid_search.best_score_:.3f}')"
      ]
    },
    {
      "cell_type": "code",
      "execution_count": null,
      "id": "047486ba-f4bf-4ea7-a3e7-fb819dd68adb",
      "metadata": {
        "id": "047486ba-f4bf-4ea7-a3e7-fb819dd68adb"
      },
      "outputs": [],
      "source": [
        "rf_best = grid_search.best_estimator_\n",
        "rf_best"
      ]
    },
    {
      "cell_type": "code",
      "execution_count": null,
      "id": "2d2ba27e-d082-47ff-b1db-3f0f0e7add35",
      "metadata": {
        "id": "2d2ba27e-d082-47ff-b1db-3f0f0e7add35"
      },
      "outputs": [],
      "source": [
        "from sklearn.tree import plot_tree\n",
        "plt.figure(figsize=(10,4))\n",
        "#plt.figure(figsize=(80,40))\n",
        "plot_tree(rf_best.estimators_[3], \n",
        "          feature_names=X.columns,\n",
        "          class_names=['1','2','3'],\n",
        "          filled=True)"
      ]
    },
    {
      "cell_type": "code",
      "execution_count": null,
      "id": "a9116f21-6ea0-4d8c-befb-a6fbe45c83d7",
      "metadata": {
        "id": "a9116f21-6ea0-4d8c-befb-a6fbe45c83d7"
      },
      "outputs": [],
      "source": [
        "from sklearn.tree import plot_tree\n",
        "plt.figure(figsize=(8,4))\n",
        "#plt.figure(figsize=(80,40))\n",
        "plot_tree(rf_best.estimators_[7], \n",
        "          feature_names = X.columns,\n",
        "          class_names=['1','2','3'],\n",
        "          filled=True)"
      ]
    },
    {
      "cell_type": "code",
      "execution_count": null,
      "id": "6b34ebcb-b418-492f-b468-8face0376019",
      "metadata": {
        "id": "6b34ebcb-b418-492f-b468-8face0376019"
      },
      "outputs": [],
      "source": [
        "print(rf_best.feature_importances_)\n",
        "\n",
        "imp_df = pd.DataFrame({\n",
        "    \"変数\": X_train.columns,\n",
        "    \"重要度\": rf_best.feature_importances_\n",
        "})\n",
        "imp_df.sort_values(by=\"重要度\", ascending=False)"
      ]
    },
    {
      "cell_type": "code",
      "execution_count": null,
      "id": "d05bf759-5169-43ad-bd57-18097ac2c656",
      "metadata": {
        "id": "d05bf759-5169-43ad-bd57-18097ac2c656"
      },
      "outputs": [],
      "source": []
    }
  ],
  "metadata": {
    "kernelspec": {
      "display_name": "Python 3 (ipykernel)",
      "language": "python",
      "name": "python3"
    },
    "language_info": {
      "codemirror_mode": {
        "name": "ipython",
        "version": 3
      },
      "file_extension": ".py",
      "mimetype": "text/x-python",
      "name": "python",
      "nbconvert_exporter": "python",
      "pygments_lexer": "ipython3",
      "version": "3.9.13"
    },
    "colab": {
      "provenance": [],
      "include_colab_link": true
    }
  },
  "nbformat": 4,
  "nbformat_minor": 5
}