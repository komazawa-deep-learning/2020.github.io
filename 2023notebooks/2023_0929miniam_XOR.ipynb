{
  "nbformat": 4,
  "nbformat_minor": 0,
  "metadata": {
    "colab": {
      "private_outputs": true,
      "provenance": [],
      "authorship_tag": "ABX9TyM8CEDwW7gmmr55IBg1M7Xb",
      "include_colab_link": true
    },
    "kernelspec": {
      "name": "python3",
      "display_name": "Python 3"
    },
    "language_info": {
      "name": "python"
    }
  },
  "cells": [
    {
      "cell_type": "markdown",
      "metadata": {
        "id": "view-in-github",
        "colab_type": "text"
      },
      "source": [
        "<a href=\"https://colab.research.google.com/github/komazawa-deep-learning/komazawa-deep-learning.github.io/blob/master/2023notebooks/2023_0929miniam_XOR.ipynb\" target=\"_parent\"><img src=\"https://colab.research.google.com/assets/colab-badge.svg\" alt=\"Open In Colab\"/></a>"
      ]
    },
    {
      "cell_type": "code",
      "execution_count": null,
      "metadata": {
        "id": "I7CD_f7nDTTc"
      },
      "outputs": [],
      "source": [
        "# 準備\n",
        "import numpy as np                                 # numpy ライブラリの輸入\n",
        "np.set_printoptions(precision=2)                   # 表示桁数の設定\n",
        "np.random.seed(42)                                 # 乱数系列の初期化\n",
        "\n",
        "X = np.array([ [0,0,1],[0,1,1],[1,0,1],[1,1,1] ])  # X は入力データ行列\n",
        "y = np.array([[0,1,1,0]]).T                        # y は教師データ\n",
        "w0 = 2 * np.random.random((3,4)) - 1               # 結合係数 入力層->中間層\n",
        "w1 = 2 * np.random.random((4,1)) - 1               # 結合係数 中間層->出力層\n",
        "for i in range(300):                               # 訓練，学習の反復\n",
        "    l1 = np.tanh(np.dot(X,w0))                     # 入力データを中間層へ変換 tanh\n",
        "    #l1 = 1/(1+np.exp(-(np.dot(X,w0))))            # sigmoid\n",
        "    l2 = 1/(1+np.exp(-(np.dot(l1,w1))))            # 中間層データを出力層データへ変換\n",
        "    dl2 = (y - l2) * (l2 * (1 - l2))               # 教師信号と出力データから誤差を計算\n",
        "    dl1 = dl2.dot(w1.T) * (1 - l1 ** 2)            # 誤差の伝播 tanh\n",
        "    #dl1 = dl2.dot(w1.T) * (11 * (1-l1))           # sigmoid\n",
        "    w1 += np.dot(l1.T, dl2)                        # 誤差に基づいて中間層->出力層の結合係数 (重み) を更新\n",
        "    w0 += np.dot(X.T, dl1)                         # 誤差に基づいて入力層->中間層の結合係数 (重み) を更新\n",
        "    print(f'i:{i:4d} {l2.T}') if i % 100 == 0 else None  # 結果の出力\n"
      ]
    }
  ]
}