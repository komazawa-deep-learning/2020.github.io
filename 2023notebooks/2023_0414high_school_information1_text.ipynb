{
  "nbformat": 4,
  "nbformat_minor": 0,
  "metadata": {
    "colab": {
      "private_outputs": true,
      "provenance": [],
      "authorship_tag": "ABX9TyO/omJkV2ficDdUVwHJ0DUy",
      "include_colab_link": true
    },
    "kernelspec": {
      "name": "python3",
      "display_name": "Python 3"
    },
    "language_info": {
      "name": "python"
    }
  },
  "cells": [
    {
      "cell_type": "markdown",
      "metadata": {
        "id": "view-in-github",
        "colab_type": "text"
      },
      "source": [
        "<a href=\"https://colab.research.google.com/github/komazawa-deep-learning/komazawa-deep-learning.github.io/blob/master/2023notebooks/2023_0414high_school_information1_text.ipynb\" target=\"_parent\"><img src=\"https://colab.research.google.com/assets/colab-badge.svg\" alt=\"Open In Colab\"/></a>"
      ]
    },
    {
      "cell_type": "markdown",
      "source": [
        "# 高等学校 「情報I」研修教員教材より\n",
        "\n",
        "[高等学校情報科「情報Ⅰ」教員研修用教材（本編）](https://www.mext.go.jp/a_menu/shotou/zyouhou/detail/1416756.htm)\n",
        "\n",
        "[第3章　コンピュータとプログラミング (PDF:9.3MB) PDF](https://www.mext.go.jp/content/20200722-mxt_jogai02-100013300_005.pdf)"
      ],
      "metadata": {
        "id": "riIINfyNZUi1"
      }
    },
    {
      "cell_type": "code",
      "execution_count": null,
      "metadata": {
        "id": "pGDHr9-VYQ4T"
      },
      "outputs": [],
      "source": [
        "# 101 ページ\n",
        "import sys                     # 変数や関数のライブラリを呼び出し\n",
        "x=sys.float_info.max           # float 型で表せる最大値を x に代入\n",
        "print(x)                       # 画面に x の値を表示\n",
        "x=1.797693134862315799999e+308 # float 型の小数点以下に5 桁「9」の追加した値を代入\n",
        "print(x)                       # 画面に x の値を表示\n",
        "x=1.8e+308                     # float 型の最大値より大きな値を代入\n",
        "print(x)                       # 画面にx の値を表示"
      ]
    },
    {
      "cell_type": "code",
      "source": [
        "# 102 ページ 「整数」のみで減算した結果と「小数」のみで減算した結果を表示するプログラム\n",
        "x = 28-27     # x に28-27 の計算結果を入れる\n",
        "print(x)      # 画面にx の値を表示\n",
        "y = 0.28-0.27 # y に0.28-0.27 の計算結果を入れる\n",
        "print(y)      # 画面y の値を表示"
      ],
      "metadata": {
        "id": "zyXOgq53Y7I3"
      },
      "execution_count": null,
      "outputs": []
    },
    {
      "cell_type": "code",
      "source": [
        "# 122 ページ\n",
        "a=[56,3,62,17,87,22,36,83,21,12] # リストa の定義\n",
        "goukei = 0\n",
        "goukei = a[3]+a[7]\n",
        "print(goukei)\n",
        "\n"
      ],
      "metadata": {
        "id": "xrtiPkMKZwwP"
      },
      "execution_count": null,
      "outputs": []
    },
    {
      "cell_type": "code",
      "source": [
        "# 122 ページ\n",
        "a=[56,3,62,17,87,22,36,83,21,12]\n",
        "goukei = 0\n",
        "for i in range(0,10,1):\n",
        "    goukei = goukei+a[i] #a[0] ～ a[9] まで全て加えていく\n",
        "print(goukei)"
      ],
      "metadata": {
        "id": "TL2USSjsaA2T"
      },
      "execution_count": null,
      "outputs": []
    },
    {
      "cell_type": "code",
      "source": [
        "# 123 ページ 図表4　乱数を用いたプログラムの例1\n",
        "import random #random モジュールを読み込む\n",
        "a = 5\n",
        "r = random.randrange(10) #0 ～ 9 までの整数をランダムに発生\n",
        "if a==r:\n",
        "    print(\" 当たり\")\n",
        "elif a>r:\n",
        "    print(\"a の方が大きい\")\n",
        "elif a<r:\n",
        "    print(\"a の方が小さい\")"
      ],
      "metadata": {
        "id": "OgmSZDvMaD4P"
      },
      "execution_count": null,
      "outputs": []
    },
    {
      "cell_type": "code",
      "source": [
        "# 123 ページ 図表5\n",
        "import random\n",
        "r = random.randrange(10)+1\n",
        "print(r)"
      ],
      "metadata": {
        "id": "WWbTICjIaLgk"
      },
      "execution_count": null,
      "outputs": []
    },
    {
      "cell_type": "code",
      "source": [
        "# 124 ページ 図表 9　関数で分割したプログラムの例\n",
        "def listgoukei(a): # 合計を求める関数listgoukei を作成\n",
        "    goukei = 0\n",
        "    for i in range(0,len(a),1):\n",
        "        goukei = goukei+a[i]\n",
        "    return goukei\n",
        "\n",
        "a = [56,3,62,17,87,22,36,83,21,12]\n",
        "goukei = listgoukei(a) # 作った関数listgoukei を呼び出し\n",
        "print(goukei)"
      ],
      "metadata": {
        "id": "bt2RR1qSaYro"
      },
      "execution_count": null,
      "outputs": []
    },
    {
      "cell_type": "code",
      "source": [
        "# 125 ページ 図表 11 WebAPI を用いたプログラムの例\n",
        "import requests\n",
        "import json\n",
        "url = \"http://zipcloud.ibsnet.co.jp/api/search\" # 使用するWebAPI のURL\n",
        "param = {\"zipcode\": \"100-0013\"}                 # WebAPI の引数\n",
        "res = requests.get(url,params=param)            # WebAPI の戻り値がres へ\n",
        "response = json.loads(res.text)\n",
        "address = response[\"results\"][0]\n",
        "print(address[\"address1\"] + address[\"address2\"] + address[\"address3\"])"
      ],
      "metadata": {
        "id": "CKFWDb9oalbC"
      },
      "execution_count": null,
      "outputs": []
    },
    {
      "cell_type": "code",
      "source": [
        "# 128 ページ\n",
        "def linsearch(a,p):\n",
        "    for i in range(0,len(a),1):\n",
        "        if a[i]==p:\n",
        "            print(\" 見つかりました\")\n",
        "            break\n",
        "a = [61,15,82,77,21,32,53]\n",
        "p = 82\n",
        "linsearch(a,p)"
      ],
      "metadata": {
        "id": "XFlJSvfdayD4"
      },
      "execution_count": null,
      "outputs": []
    },
    {
      "cell_type": "code",
      "source": [
        "# 129 ページ\n",
        "def binsearch(a,p):\n",
        "    i = 0\n",
        "    j = len(a)-1\n",
        "    while i<=j:\n",
        "        m = int((i+j)/2)\n",
        "        if a[m]==p:\n",
        "            print(\" 見つかりました\")\n",
        "            break\n",
        "        else:\n",
        "            if a[m]>p:\n",
        "                j=m-1\n",
        "            else:\n",
        "                i=m+1\n",
        "a = [25,33,43,51,66,71,88]\n",
        "p = 43\n",
        "binsearch(a,p)"
      ],
      "metadata": {
        "id": "OApaG4ZvcubE"
      },
      "execution_count": null,
      "outputs": []
    },
    {
      "cell_type": "code",
      "source": [
        "# 130 ページ\n",
        "def selectionsort(a):\n",
        "    for i in range(0,len(a),1):\n",
        "        for j in range(i+1,len(a),1):\n",
        "            if a[j]<a[i]:\n",
        "                temp = a[i]\n",
        "                a[i] = a[j]\n",
        "                a[j] = temp\n",
        "                \n",
        "a = [7,22,11,34,17,52,26,13,40,20,10,5,16,8,4,2,1]\n",
        "print(\" ソート前\",a)\n",
        "selectionsort(a)\n",
        "print(\" ソート後\",a)"
      ],
      "metadata": {
        "id": "vmdoZqCfc-aw"
      },
      "execution_count": null,
      "outputs": []
    },
    {
      "cell_type": "code",
      "source": [
        "# 131 ページ\n",
        "def quicksort(a,start,end):\n",
        "    m = int((start+end)/2)\n",
        "    i = start\n",
        "    j = end\n",
        "    while (i<j):\n",
        "        while a[i] < a[m]:\n",
        "            i = i+1\n",
        "        while a[j] > a[m]:\n",
        "            j = j-1\n",
        "        if i>=j:\n",
        "            break\n",
        "        temp = a[i]\n",
        "        a[i] = a[j]\n",
        "        a[j] = temp\n",
        "        if i==m:\n",
        "            m = j\n",
        "        elif j==m:\n",
        "            m = i\n",
        "        i = i+1\n",
        "        j = j-1\n",
        "    if start < i-1:\n",
        "        quicksort(a,start,m-1)\n",
        "    if end > j+1:\n",
        "        quicksort(a,m+1,end)\n",
        "\n",
        "a = [7,22,11,34,17,52,26,13,40,20,10,5,16,8,4,2,1]\n",
        "print(\" ソート前\",a)\n",
        "quicksort(a,0,len(a)-1)\n",
        "print(\" ソート後\",a)"
      ],
      "metadata": {
        "id": "C6PP-GKTdHdW"
      },
      "execution_count": null,
      "outputs": []
    },
    {
      "cell_type": "code",
      "source": [
        "# 137 ページ\n",
        "yokin = 100000 # 預金\n",
        "riritsu = 0.05 # 利率\n",
        "for i in range(10): #i の値を 0 から 9 まで 10 回繰り返す\n",
        "    risoku = yokin*riritsu # その年の利息\n",
        "    yokin = yokin + risoku # 預金に利息を加える\n",
        "    print(i+1,\" 年目:\",yokin) # 画面に表示"
      ],
      "metadata": {
        "id": "qgZsjUNedjn-"
      },
      "execution_count": null,
      "outputs": []
    },
    {
      "cell_type": "code",
      "source": [
        "# 137 ページ\n",
        "import matplotlib.pyplot as plt # プロットオブジェクトをインポート\n",
        "riritsu = 0.05                  # 利率\n",
        "yokin = [100000]                # 預金配列の最初の値は10 万\n",
        "for i in range(10):             # i の値を0 〜 9 まで、10 回繰り返す\n",
        "    risoku = int(yokin[i]*riritsu)  # 利息は現在の預金額× 利率( 整数化)\n",
        "    yokin.append(yokin[i]+risoku)   # 配列に計算結果を追加\n",
        "\n",
        "plt.title(\"FUKURI KEISAN\")      # グラフのタイトル\n",
        "plt.xlabel(\"Year\")              # X 軸のラベル\n",
        "plt.ylabel(\"Yokin[YEN]\")        # Y 軸のラベル\n",
        "plt.plot(yokin, marker=\"o\")     # グラフをプロット\n",
        "plt.show()                      # プロットオブジェクトを表示"
      ],
      "metadata": {
        "id": "hlH5pyXcd90V"
      },
      "execution_count": null,
      "outputs": []
    },
    {
      "cell_type": "code",
      "source": [
        "# 138 ページ\n",
        "import numpy.random as rd # 乱数を発生させる関数の呼び出し\n",
        "ransuu = rd.rand() #0 〜 1 の乱数を1 個生成\n",
        "print(\" 乱数\", ransuu) # 乱数の値を表示"
      ],
      "metadata": {
        "id": "6YTQWsCWeOgA"
      },
      "execution_count": null,
      "outputs": []
    },
    {
      "cell_type": "code",
      "source": [
        "# 138 ページ\n",
        "import numpy as np # 整数をカウントするための関数呼び出し\n",
        "import numpy.random as rd # 乱数を発生させる関数の呼び出し\n",
        "saikoro = rd.randint(1, 6+1, 100) # サイコロを100 回振る\n",
        "print(saikoro) # 乱数の値を表示\n",
        "deme = [ ] # 出目の数を数える配列\n",
        "for i in range(6):\n",
        "    deme.append(np.count_nonzero(saikoro==i+1)) # 出現回数を数えて配列に追加\n",
        "print(\" 出現数:\",deme) # 乱数の値を表示"
      ],
      "metadata": {
        "id": "pJOvcH8Xeiya"
      },
      "execution_count": null,
      "outputs": []
    },
    {
      "cell_type": "code",
      "source": [
        "# 139 ページ\n",
        "import numpy as np # 整数をカウントするための関数呼び出し\n",
        "import numpy.random as rd # 乱数を発生させる関数の呼び出し\n",
        "import matplotlib.pyplot as plt # グラフプロットの呼び出し\n",
        "saikoro = rd.randint(1, 6+1, 100) # サイコロを100 回振る\n",
        "deme = [ ] # 出目の数を数える配列\n",
        "for i in range(6):\n",
        "    deme.append(np.count_nonzero(saikoro==i+1)) # 数を数えて配列に追加\n",
        "\n",
        "left = [1, 2, 3, 4, 5, 6] # グラフの左方向の値指定用\n",
        "plt.title(\"SAIKORO SIMULATION\") # グラフのタイトル\n",
        "plt.xlabel(\"ME\") #X 軸のラベル\n",
        "plt.ylabel(\"KAISUU\") #Y 軸のラベル\n",
        "plt.bar(left, deme, align=\"center\") # グラフをプロット\n",
        "plt.show() # プロットオブジェクトを表示"
      ],
      "metadata": {
        "id": "SyI7tzaAepud"
      },
      "execution_count": null,
      "outputs": []
    },
    {
      "cell_type": "code",
      "source": [
        "# 139 ページ\n",
        "import numpy.random as rd # 乱数を発生させる関数の呼び出し\n",
        "totalcount = 1000 # ランダムに打つ点の総数\n",
        "incount = 0 # 円に入った点の数\n",
        "for i in range(totalcount):\n",
        "    x = rd.random() #0-1 の範囲の値\n",
        "    y = rd.random() #0-1 の範囲の値\n",
        "    if x**2 + y**2 < 1.0: # 単位円の中に入ったら\n",
        "        incount += 1 # 入ったカウンターに１を加える\n",
        "print(\" 円周率:\", incount * 4.0 / totalcount) # 求まった円周率"
      ],
      "metadata": {
        "id": "ejLrt7A1ey15"
      },
      "execution_count": null,
      "outputs": []
    },
    {
      "cell_type": "code",
      "source": [
        "# 140 ページ\n",
        "import numpy.random as rd       # 乱数を発生させる関数の呼び出し\n",
        "import matplotlib.pyplot as plt # グラフプロットの呼び出し\n",
        "totalcount = 2000               # ランダムに打つ点の総数\n",
        "incount = 0                     # 円に入った点の数\n",
        "for i in range(totalcount):\n",
        "    x = rd.random()             # 0-1 の範囲の値\n",
        "    y = rd.random()             # 0-1 の範囲の値\n",
        "    if x**2 + y**2 < 1.0:       # 単位円の中に入ったら\n",
        "        incount += 1 # 入ったカウンターに１を加える\n",
        "        plt.scatter(x, y, c=\"red\") # 赤色でプロット\n",
        "    else:\n",
        "        plt.scatter(x, y, c=\"blue\") # 青色でプロット\n",
        "print(\" 円周率:\", incount * 4.0 / totalcount) # 求まった円周率\n",
        "plt.title(\"Monte Carlo method\") # グラフのタイトル\n",
        "plt.show()"
      ],
      "metadata": {
        "id": "3CZ5jIpFe6so"
      },
      "execution_count": null,
      "outputs": []
    },
    {
      "cell_type": "code",
      "source": [
        "# 145 ページ\n",
        "import math as math # 数値計算ライブラリ\n",
        "import matplotlib.pyplot as plt # グラフ描画ライブラリ\n",
        "dt = 0.01 # 微小時間( 時間間隔)\n",
        "v0 = 30 # 初速度\n",
        "g = 9.8 # 重力加速度\n",
        "x = [0] # 水平位置の初期値0\n",
        "y = [0] # 鉛直位置の初期値は0\n",
        "angle = 45.0 * math.pi / 180.0 # 投げ上げ角度\n",
        "vx = [v0*math.cos(angle)] # 水平方向の初速度\n",
        "vy = [v0*math.sin(angle)] # 鉛直方向の初速度\n",
        "for i in range(1000):\n",
        "    vx.append(vx[i]) # 微小時間後の水平方向の速度\n",
        "    vy.append(vy[i]-g*dt) # 微小時間後の鉛直方向の速度\n",
        "    x.append(x[i]+vx[i]*dt) # 微小時間後の水平位置\n",
        "    y.append(y[i]+(vy[i]+vy[i+1])/2.0*dt) # 微小時間後の鉛直位置\n",
        "    if y[i] < 0 : # もし鉛直位置が0 を下回ったら\n",
        "        break # ループ中断\n",
        "plt.plot(x,y) # 位置の配列をプロット\n",
        "plt.title(\"parabollic motion\") # グラフのタイトル\n",
        "plt.xlabel(\"distance\") #x 軸ラベル\n",
        "plt.ylabel(\"height\") #y 軸ラベル\n",
        "plt.show()"
      ],
      "metadata": {
        "id": "2Jo3MaDcfPPb"
      },
      "execution_count": null,
      "outputs": []
    },
    {
      "cell_type": "code",
      "source": [
        "# 146 ページ\n",
        "import matplotlib.pyplot as plt # グラフ描画ライブラリ\n",
        "zouka = 0.01                    # 増加率\n",
        "capacity = 1000                 # 環境収容数\n",
        "n = [10]                        # 最初の個体数\n",
        "for i in range(1000):\n",
        "    zoukasuu = n[i]*zouka        # 増加数\n",
        "    gensyousuu = n[i]*(n[i]/capacity)*zouka  # 減少数\n",
        "    n.append(n[i]+(zoukasuu - gensyousuu))   # 個体数\n",
        "plt.plot(n)                                  # グラフにプロット\n",
        "plt.title(\"number of life\")                  # グラフのタイトル\n",
        "plt.xlabel(\"time\")                           # x 軸のラベル\n",
        "plt.ylabel(\"number\")                         # y 軸のラベル\n",
        "plt.show()"
      ],
      "metadata": {
        "id": "jC3SRu_Hfp7E"
      },
      "execution_count": null,
      "outputs": []
    },
    {
      "cell_type": "code",
      "source": [],
      "metadata": {
        "id": "N-LE9oORgBoi"
      },
      "execution_count": null,
      "outputs": []
    }
  ]
}