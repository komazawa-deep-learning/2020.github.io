{
  "nbformat": 4,
  "nbformat_minor": 0,
  "metadata": {
    "colab": {
      "name": "2020-0703homework.ipynb",
      "provenance": [],
      "collapsed_sections": [],
      "include_colab_link": true
    },
    "kernelspec": {
      "display_name": "Python 3",
      "language": "python",
      "name": "python3"
    },
    "language_info": {
      "codemirror_mode": {
        "name": "ipython",
        "version": 3
      },
      "file_extension": ".py",
      "mimetype": "text/x-python",
      "name": "python",
      "nbconvert_exporter": "python",
      "pygments_lexer": "ipython3",
      "version": "3.7.7"
    }
  },
  "cells": [
    {
      "cell_type": "markdown",
      "metadata": {
        "id": "view-in-github",
        "colab_type": "text"
      },
      "source": [
        "<a href=\"https://colab.research.google.com/github/komazawa-deep-learning/komazawa-deep-learning.github.io/blob/master/notebooks/2020_0703homework.ipynb\" target=\"_parent\"><img src=\"https://colab.research.google.com/assets/colab-badge.svg\" alt=\"Open In Colab\"/></a>"
      ]
    },
    {
      "cell_type": "markdown",
      "metadata": {
        "colab_type": "text",
        "id": "hqWLfwr4f5Th"
      },
      "source": [
        "\n",
        "# 2020年度 駒澤大学文学部心理学特講IIIA \n",
        "<div align=\"right\">\n",
        "<img src=\"https://koma-sso.komazawa-u.ac.jp/idp/images/header_logo.png\">\n",
        "</div>\n",
        "\n",
        "課題提出用\n",
        "- 作成者: 浅川伸一\n",
        "- [授業用ページ](https://komazawa-deep-learning.github.io/)\n"
      ]
    },
    {
      "cell_type": "code",
      "metadata": {
        "colab_type": "code",
        "id": "V039nHeuOqcn",
        "colab": {}
      },
      "source": [
        "#@title # フェイスシート { run: \"auto\", vertical-output: true, display-mode: \"form\" }\n",
        "date = '2020-07-03'  #@param {type: \"date\"}\n",
        "name = '氏名: '  #@param {type: \"string\"}\n",
        "id = '学生番号: '  #@param {type: \"string\"}\n"
      ],
      "execution_count": null,
      "outputs": []
    },
    {
      "cell_type": "markdown",
      "metadata": {
        "colab_type": "text",
        "id": "Eof2F-T-eFW3"
      },
      "source": [
        "# 0. 課題ファイルの提出方法\n",
        "\n",
        "1. このファイルの自分の Google Drive に保存する (ウィンドウ左上の「ファイル」メニューから「ドライブにコピーを保存」を選ぶ)\n",
        "1. 上で保存したファイル名を次のように変更する '本日の日付(8桁yyyymmdd)-自分の学生番号(NBから始まる全6桁)_ペアの学生番号.ipynb' \n",
        "2. 変更したファイル名 で 自分の Google ドライブに保存する\n",
        "3. 下の課題をすべて解く\n",
        "4. Google ドライブからファイルを選んで，共有情報を入手する\n",
        "5. メールを開いて，以下のような宛先にする\n",
        "    - To: educ0233@komazawa-u.ac.jp\n",
        "    - Cc: 自分のメールアドレス\n",
        "6. メールの件名を 本日の日付(8桁:yyyymmdd)-自分の学生番号 とする\n",
        "7. 本文に，Google drive の共有情報を貼り付ける\n",
        "<!--8. <font color=\"green\">得られた共有情報を Google classroom にも貼り付ける。この項目は前回までと異なる操作</font>-->\n",
        "8. 送信ボタンを押下する"
      ]
    },
    {
      "cell_type": "code",
      "metadata": {
        "id": "uoE7c7fa7ELJ",
        "colab_type": "code",
        "cellView": "form",
        "colab": {}
      },
      "source": [
        "#@title # 1. 授業の評価\n",
        "\n",
        "Q1 = '\\u672C\\u65E5\\u306E\\u6388\\u696D\\u306E\\u5185\\u5BB9\\u3092\\u6570\\u884C\\u7A0B\\u5EA6\\u3067\\u7C21\\u6F54\\u306B\\u8981\\u7D04\\u305B\\u3088' #@param {type:\"string\"}\n",
        "Q2 = '難易度:分かりやすかった' #@param{type:'string'} [\"難易度:分かりやすかった\", \"難易度:どちらとも言えない\", \"難易度:分かりにくかった\"]\n",
        "Q3 = '進み方:速かった' #@param{type:'string'}['進み方:速かった', '進み方:ちょうどよかった', '進み方:ゆっくりすぎた']\n"
      ],
      "execution_count": null,
      "outputs": []
    },
    {
      "cell_type": "code",
      "metadata": {
        "colab_type": "code",
        "id": "t3gVOhGn40F0",
        "colab": {}
      },
      "source": [
        "#@title # 2. 本日の授業でのトラブルについて {display-mode: \"form\"}\n",
        "#@markdown ### 本日の授業でのトラブルについて，ご意見や改善提案をお聞かせください\n",
        "opinion = \"意見\" #@param {type: \"string\"}"
      ],
      "execution_count": null,
      "outputs": []
    },
    {
      "cell_type": "code",
      "metadata": {
        "id": "cSYQD8sE7YyR",
        "colab_type": "code",
        "colab": {}
      },
      "source": [
        "#@title # 3. 印象 {display-mode: \"form\"}\n",
        "#@markdown ## 問 3-1. 授業で取り上げた話題の中で もっとも印象に残っている話題を一つ挙げよ。また簡単に，1行程度でその理由を記せ\n",
        "topic3_1 = '話題1: '  #@param {type: \"string\"}\n",
        "reason3_1 = '理由1:'  #@param {type: \"string\"}\n",
        "\n",
        "#@markdown ## 問 3-2. 授業で取り上げた話題の中で 2番目に印象に残っている話題を一つ挙げよ。また簡単に，1行程度でその理由を記せ\n",
        "topic3_2 = '話題2:'  #@param {type: \"string\"}\n",
        "reason3_2 = '理由2:'  #@param {type: \"string\"}\n",
        "\n",
        "#@markdown ## 問 3-3. 授業で取り上げた話題の中で もっとも興味が持てなかった 話題を一つ挙げよ。また簡単に，1行程度でその理由を記せ\n",
        "topic3_3 = '話題3:'  #@param {type: \"string\"}\n",
        "reason3_3 = '理由3:'  #@param {type: \"string\"}\n",
        "#@markdown ---"
      ],
      "execution_count": null,
      "outputs": []
    },
    {
      "cell_type": "code",
      "metadata": {
        "id": "1dT-bMCnZrCy",
        "colab_type": "code",
        "colab": {
          "base_uri": "https://localhost:8080/",
          "height": 34
        },
        "cellView": "form",
        "outputId": "38420304-feb5-46bd-ecd5-62e40923ec0b"
      },
      "source": [
        "#@title # 4. 今回の実習に関して，以下の問に答えよ\n",
        "q4_1 = '画像を文章に変換する技術を何というか:'  #@param {type: \"string\"}\n",
        "q4_2 = '文章から画像を検索する際に用いられる技術で使用されている手法の名前を一つ挙げよ:' #@param{type:\"string\"}\n",
        "q4_3 = '文章を与えて類似した文章を検索する際に用いらている技術の名称を一つ挙げよ:' #@param{type:\"string\"}\n",
        "q4_4 = 'Colab で GPU を使う際の手順について簡潔に記せ:'#@param{type:\"string\"}\n",
        "#@markdown ---"
      ],
      "execution_count": 1,
      "outputs": [
        {
          "output_type": "stream",
          "text": [
            "画像を文章に変換する技術をなんというか:\n"
          ],
          "name": "stdout"
        }
      ]
    },
    {
      "cell_type": "code",
      "metadata": {
        "colab_type": "code",
        "id": "331Js0zrWit2",
        "colab": {}
      },
      "source": [
        "#@title # 5. 今回の実習を発展させた心理実験を考よその概要を記せ { run: \"auto\", vertical-output: true, display-mode: \"form\" }\n",
        "psychoexp_purpose = '実験目的'  #@param {type: \"string\"}\n",
        "psychoexp_proca = '手続き'  #@param {type: \"string\"}\n",
        "psychoexp_pred = '予想される結果' #@param {type: \"string\"}\n",
        "psychoexp_why = '実験を計画するに至った理由:' #@param {type:\"string\"}\n",
        "#@markdown ---"
      ],
      "execution_count": 2,
      "outputs": []
    },
    {
      "cell_type": "code",
      "metadata": {
        "id": "HrGNKm58CcOh",
        "colab_type": "code",
        "colab": {}
      },
      "source": [
        ""
      ],
      "execution_count": null,
      "outputs": []
    },
    {
      "cell_type": "code",
      "metadata": {
        "colab_type": "code",
        "id": "OQXRb22HCn_b",
        "colab": {},
        "cellView": "form"
      },
      "source": [
        "#@title # 6. 冒頭で紹介した BERT と 機能的脳画像を用いた脳の活動との関係を調べる研究が心理学，あるいは経済学に与える影響について簡単に考察せよ。\n",
        "bert_exp = '影響:'  #@param {type: \"string\"}\n",
        "#@markdown ---"
      ],
      "execution_count": null,
      "outputs": []
    }
  ]
}