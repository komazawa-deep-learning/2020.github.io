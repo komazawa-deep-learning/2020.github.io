{
 "cells": [
  {
   "cell_type": "markdown",
   "metadata": {
    "colab_type": "text",
    "id": "view-in-github"
   },
   "source": [
    "<a href=\"https://colab.research.google.com/github/komazawa-deep-learning/komazawa-deep-learning.github.io/blob/master/notebooks/2020_0724vae.ipynb\" target=\"_parent\"><img src=\"https://colab.research.google.com/assets/colab-badge.svg\" alt=\"Open In Colab\"/></a>"
   ]
  },
  {
   "cell_type": "markdown",
   "metadata": {
    "colab_type": "text",
    "id": "46n8ed1ufXHF"
   },
   "source": [
    "# 簡単な変分自己符号化モデルのデモ\n",
    "\n",
    "- date: 2020-0724\n",
    "- author: 浅川 伸一\n",
    "- reference: \n",
    "    - Kingma and Wellings (2014), [Auto-Encoding Variational Bayes](https://arxiv.org/pdf/1312.6114.pdf)\n",
    "    - Kingma and Welling, (2019) [An Introduction to Variational Autoencoders](https://arxiv.org/pdf/1906.02691.pdf) \n"
   ]
  },
  {
   "cell_type": "code",
   "execution_count": null,
   "metadata": {
    "colab": {},
    "colab_type": "code",
    "id": "FLIuPVPdn7hz"
   },
   "outputs": [],
   "source": [
    "# このセルは実行しないで良いです。ハーバード大大学院生たちの ELBO についての\bおふざけ動画です\n",
    "# もちろん，肘を表す英単語 elbow と，変分下限 ELBO: Evidence Lower BOund とは同じ発音なので\n",
    "from IPython.display import YouTubeVideo, display\n",
    "youtube_id = 'jugUBL4rEIM'\n",
    "display(YouTubeVideo(youtube_id, width=600, height=480))"
   ]
  },
  {
   "cell_type": "code",
   "execution_count": 1,
   "metadata": {
    "colab": {},
    "colab_type": "code",
    "id": "7IFS-N4pcCqf"
   },
   "outputs": [],
   "source": [
    "import os\n",
    "import torch\n",
    "import torch.utils.data\n",
    "from torch import nn, optim\n",
    "from torch.nn import functional as F\n",
    "from torchvision import datasets, transforms\n",
    "from torchvision.utils import save_image"
   ]
  },
  {
   "cell_type": "code",
   "execution_count": 3,
   "metadata": {
    "colab": {},
    "colab_type": "code",
    "id": "GC8fpkk6cFbw"
   },
   "outputs": [
    {
     "data": {
      "text/plain": [
       "<torch._C.Generator at 0x7f8a20444450>"
      ]
     },
     "execution_count": 3,
     "metadata": {},
     "output_type": "execute_result"
    }
   ],
   "source": [
    "cuda = torch.cuda.is_available()\n",
    "device = torch.device(\"cuda\" if cuda else \"cpu\")\n",
    "\n",
    "seed = 42\n",
    "torch.manual_seed(seed)"
   ]
  },
  {
   "cell_type": "code",
   "execution_count": 4,
   "metadata": {
    "colab": {},
    "colab_type": "code",
    "id": "0uqvnGQocOYb"
   },
   "outputs": [
    {
     "name": "stdout",
     "output_type": "stream",
     "text": [
      "Downloading http://yann.lecun.com/exdb/mnist/train-images-idx3-ubyte.gz\n",
      "Downloading http://yann.lecun.com/exdb/mnist/train-images-idx3-ubyte.gz to ./data/MNIST/raw/train-images-idx3-ubyte.gz\n"
     ]
    },
    {
     "data": {
      "application/vnd.jupyter.widget-view+json": {
       "model_id": "187e83c0e7fb494ab329c58fba142389",
       "version_major": 2,
       "version_minor": 0
      },
      "text/plain": [
       "  0%|          | 0/9912422 [00:00<?, ?it/s]"
      ]
     },
     "metadata": {},
     "output_type": "display_data"
    },
    {
     "name": "stdout",
     "output_type": "stream",
     "text": [
      "Extracting ./data/MNIST/raw/train-images-idx3-ubyte.gz to ./data/MNIST/raw\n",
      "\n",
      "Downloading http://yann.lecun.com/exdb/mnist/train-labels-idx1-ubyte.gz\n",
      "Downloading http://yann.lecun.com/exdb/mnist/train-labels-idx1-ubyte.gz to ./data/MNIST/raw/train-labels-idx1-ubyte.gz\n"
     ]
    },
    {
     "data": {
      "application/vnd.jupyter.widget-view+json": {
       "model_id": "b42999f3c6fb441db2889aad48d0f762",
       "version_major": 2,
       "version_minor": 0
      },
      "text/plain": [
       "  0%|          | 0/28881 [00:00<?, ?it/s]"
      ]
     },
     "metadata": {},
     "output_type": "display_data"
    },
    {
     "name": "stdout",
     "output_type": "stream",
     "text": [
      "Extracting ./data/MNIST/raw/train-labels-idx1-ubyte.gz to ./data/MNIST/raw\n",
      "\n",
      "Downloading http://yann.lecun.com/exdb/mnist/t10k-images-idx3-ubyte.gz\n",
      "Downloading http://yann.lecun.com/exdb/mnist/t10k-images-idx3-ubyte.gz to ./data/MNIST/raw/t10k-images-idx3-ubyte.gz\n"
     ]
    },
    {
     "data": {
      "application/vnd.jupyter.widget-view+json": {
       "model_id": "b473279274d9428d8b0338622a410c33",
       "version_major": 2,
       "version_minor": 0
      },
      "text/plain": [
       "  0%|          | 0/1648877 [00:00<?, ?it/s]"
      ]
     },
     "metadata": {},
     "output_type": "display_data"
    },
    {
     "name": "stdout",
     "output_type": "stream",
     "text": [
      "Extracting ./data/MNIST/raw/t10k-images-idx3-ubyte.gz to ./data/MNIST/raw\n",
      "\n",
      "Downloading http://yann.lecun.com/exdb/mnist/t10k-labels-idx1-ubyte.gz\n",
      "Downloading http://yann.lecun.com/exdb/mnist/t10k-labels-idx1-ubyte.gz to ./data/MNIST/raw/t10k-labels-idx1-ubyte.gz\n"
     ]
    },
    {
     "data": {
      "application/vnd.jupyter.widget-view+json": {
       "model_id": "38ca3d8820e348789199aec8f8c98b8c",
       "version_major": 2,
       "version_minor": 0
      },
      "text/plain": [
       "  0%|          | 0/4542 [00:00<?, ?it/s]"
      ]
     },
     "metadata": {},
     "output_type": "display_data"
    },
    {
     "name": "stdout",
     "output_type": "stream",
     "text": [
      "Extracting ./data/MNIST/raw/t10k-labels-idx1-ubyte.gz to ./data/MNIST/raw\n",
      "\n"
     ]
    },
    {
     "name": "stderr",
     "output_type": "stream",
     "text": [
      "/opt/anaconda3/lib/python3.9/site-packages/torchvision/datasets/mnist.py:498: UserWarning: The given NumPy array is not writeable, and PyTorch does not support non-writeable tensors. This means you can write to the underlying (supposedly non-writeable) NumPy array using the tensor. You may want to copy the array to protect its data or make it writeable before converting it to a tensor. This type of warning will be suppressed for the rest of this program. (Triggered internally at  ../torch/csrc/utils/tensor_numpy.cpp:180.)\n",
      "  return torch.from_numpy(parsed.astype(m[2], copy=False)).view(*s)\n"
     ]
    }
   ],
   "source": [
    "batch_size = 64\n",
    "\n",
    "train_loader = torch.utils.data.DataLoader(\n",
    "    datasets.MNIST('./data', \n",
    "                   train=True, \n",
    "                   download=True,\n",
    "                   transform=transforms.ToTensor()),\n",
    "    batch_size=batch_size, shuffle=True)\n",
    "\n",
    "test_loader = torch.utils.data.DataLoader(\n",
    "    datasets.MNIST('./data', \n",
    "                   train=False, \n",
    "                   transform=transforms.ToTensor()),\n",
    "    batch_size=batch_size, shuffle=True,)\n"
   ]
  },
  {
   "cell_type": "code",
   "execution_count": 5,
   "metadata": {
    "colab": {},
    "colab_type": "code",
    "id": "4Zmt4YlwdHfk"
   },
   "outputs": [],
   "source": [
    "class VAE(nn.Module):\n",
    "    def __init__(self):\n",
    "        super(VAE, self).__init__()\n",
    "\n",
    "        self.fc1 = nn.Linear(784, 400)\n",
    "        self.fc21 = nn.Linear(400, 20)\n",
    "        self.fc22 = nn.Linear(400, 20)\n",
    "        self.fc3 = nn.Linear(20, 400)\n",
    "        self.fc4 = nn.Linear(400, 784)\n",
    "\n",
    "    def encode(self, x):\n",
    "        h1 = F.relu(self.fc1(x))\n",
    "        return self.fc21(h1), self.fc22(h1)\n",
    "\n",
    "    def reparameterize(self, mu, logvar):\n",
    "        std = torch.exp(0.5*logvar)\n",
    "        eps = torch.randn_like(std)\n",
    "        return mu + eps*std\n",
    "\n",
    "    def decode(self, z):\n",
    "        h3 = F.relu(self.fc3(z))\n",
    "        return torch.sigmoid(self.fc4(h3))\n",
    "\n",
    "    def forward(self, x):\n",
    "        mu, logvar = self.encode(x.view(-1, 784))\n",
    "        z = self.reparameterize(mu, logvar)\n",
    "        return self.decode(z), mu, logvar"
   ]
  },
  {
   "cell_type": "code",
   "execution_count": 6,
   "metadata": {
    "colab": {},
    "colab_type": "code",
    "id": "SwvwUHTzdPMx"
   },
   "outputs": [],
   "source": [
    "model = VAE().to(device)\n",
    "optimizer = optim.Adam(model.parameters(), lr=1e-3)\n"
   ]
  },
  {
   "cell_type": "code",
   "execution_count": 7,
   "metadata": {
    "colab": {},
    "colab_type": "code",
    "id": "VORUxuLDdV1E"
   },
   "outputs": [],
   "source": [
    "# Reconstruction + KL divergence losses summed over all elements and batch\n",
    "def loss_function(recon_x, x, mu, logvar):\n",
    "    BCE = F.binary_cross_entropy(recon_x, x.view(-1, 784), reduction='sum')\n",
    "\n",
    "    # see Appendix B from VAE paper:\n",
    "    # Kingma and Welling. Auto-Encoding Variational Bayes. ICLR, 2014\n",
    "    # https://arxiv.org/abs/1312.6114\n",
    "    # 0.5 * sum(1 + log(sigma^2) - mu^2 - sigma^2)\n",
    "    KLD = -0.5 * torch.sum(1 + logvar - mu.pow(2) - logvar.exp())\n",
    "\n",
    "    return BCE + KLD\n"
   ]
  },
  {
   "cell_type": "code",
   "execution_count": 8,
   "metadata": {
    "colab": {},
    "colab_type": "code",
    "id": "3blUjstgdZn1"
   },
   "outputs": [],
   "source": [
    "def train(epoch):\n",
    "    model.train()\n",
    "    train_loss = 0\n",
    "    for batch_idx, (data, _) in enumerate(train_loader):\n",
    "        data = data.to(device)\n",
    "        optimizer.zero_grad()\n",
    "        recon_batch, mu, logvar = model(data)\n",
    "        loss = loss_function(recon_batch, data, mu, logvar)\n",
    "        loss.backward()\n",
    "        train_loss += loss.item()\n",
    "        optimizer.step()\n",
    "        if batch_idx % log_interval == 0:\n",
    "            print('Train Epoch: {} [{}/{} ({:.0f}%)]\\tLoss: {:.6f}'.format(\n",
    "                epoch, batch_idx * len(data), len(train_loader.dataset),\n",
    "                100. * batch_idx / len(train_loader),\n",
    "                loss.item() / len(data)))\n",
    "\n",
    "    print('====> Epoch: {} Average loss: {:.4f}'.format(\n",
    "          epoch, train_loss / len(train_loader.dataset)))\n"
   ]
  },
  {
   "cell_type": "code",
   "execution_count": 9,
   "metadata": {
    "colab": {},
    "colab_type": "code",
    "id": "H7urWmHpdde4"
   },
   "outputs": [],
   "source": [
    "def test(epoch):\n",
    "    model.eval()\n",
    "    test_loss = 0\n",
    "    with torch.no_grad():\n",
    "        for i, (data, _) in enumerate(test_loader):\n",
    "            data = data.to(device)\n",
    "            recon_batch, mu, logvar = model(data)\n",
    "            test_loss += loss_function(recon_batch, data, mu, logvar).item()\n",
    "            if i == 0:\n",
    "                n = min(data.size(0), 8)\n",
    "                comparison = torch.cat([data[:n],\n",
    "                                        recon_batch.view(batch_size, 1, 28, 28)[:n]])\n",
    "                save_image(comparison.cpu(), 'results/reconstruction_' + str(epoch) + '.png', nrow=n)\n",
    "\n",
    "    test_loss /= len(test_loader.dataset)\n",
    "    print('====> Test set loss: {:.4f}'.format(test_loss))\n"
   ]
  },
  {
   "cell_type": "code",
   "execution_count": 10,
   "metadata": {
    "colab": {},
    "colab_type": "code",
    "id": "eNi4Ry3qePh2"
   },
   "outputs": [],
   "source": [
    "if not os.path.exists('results'):\n",
    "    os.mkdir('results')"
   ]
  },
  {
   "cell_type": "code",
   "execution_count": 13,
   "metadata": {
    "colab": {},
    "colab_type": "code",
    "id": "KT6q_5brdgUy"
   },
   "outputs": [
    {
     "name": "stdout",
     "output_type": "stream",
     "text": [
      "Train Epoch: 1 [0/60000 (0%)]\tLoss: 108.964584\n",
      "====> Epoch: 1 Average loss: 106.6091\n",
      "====> Test set loss: 106.1576\n",
      "Train Epoch: 2 [0/60000 (0%)]\tLoss: 108.421814\n",
      "====> Epoch: 2 Average loss: 106.1209\n",
      "====> Test set loss: 105.6119\n",
      "Train Epoch: 3 [0/60000 (0%)]\tLoss: 110.899719\n",
      "====> Epoch: 3 Average loss: 105.6826\n",
      "====> Test set loss: 105.3344\n",
      "Train Epoch: 4 [0/60000 (0%)]\tLoss: 105.745026\n",
      "====> Epoch: 4 Average loss: 105.3982\n",
      "====> Test set loss: 105.2125\n",
      "Train Epoch: 5 [0/60000 (0%)]\tLoss: 108.553146\n",
      "====> Epoch: 5 Average loss: 105.1546\n",
      "====> Test set loss: 104.6012\n",
      "Train Epoch: 6 [0/60000 (0%)]\tLoss: 102.237633\n",
      "====> Epoch: 6 Average loss: 104.9078\n",
      "====> Test set loss: 105.1303\n",
      "Train Epoch: 7 [0/60000 (0%)]\tLoss: 104.325768\n",
      "====> Epoch: 7 Average loss: 104.6284\n",
      "====> Test set loss: 104.2933\n",
      "Train Epoch: 8 [0/60000 (0%)]\tLoss: 104.935333\n",
      "====> Epoch: 8 Average loss: 104.4719\n",
      "====> Test set loss: 104.2108\n",
      "Train Epoch: 9 [0/60000 (0%)]\tLoss: 103.903336\n",
      "====> Epoch: 9 Average loss: 104.2949\n",
      "====> Test set loss: 104.2093\n",
      "Train Epoch: 10 [0/60000 (0%)]\tLoss: 104.803604\n",
      "====> Epoch: 10 Average loss: 104.1382\n",
      "====> Test set loss: 104.0765\n",
      "Train Epoch: 11 [0/60000 (0%)]\tLoss: 103.070122\n",
      "====> Epoch: 11 Average loss: 103.9828\n",
      "====> Test set loss: 103.7297\n",
      "Train Epoch: 12 [0/60000 (0%)]\tLoss: 106.510834\n",
      "====> Epoch: 12 Average loss: 103.8404\n",
      "====> Test set loss: 103.7738\n",
      "Train Epoch: 13 [0/60000 (0%)]\tLoss: 103.225090\n",
      "====> Epoch: 13 Average loss: 103.6735\n",
      "====> Test set loss: 103.9164\n",
      "Train Epoch: 14 [0/60000 (0%)]\tLoss: 106.190994\n",
      "====> Epoch: 14 Average loss: 103.6029\n",
      "====> Test set loss: 103.8546\n",
      "Train Epoch: 15 [0/60000 (0%)]\tLoss: 102.012650\n",
      "====> Epoch: 15 Average loss: 103.4382\n",
      "====> Test set loss: 103.2988\n",
      "Train Epoch: 16 [0/60000 (0%)]\tLoss: 104.620224\n",
      "====> Epoch: 16 Average loss: 103.3457\n",
      "====> Test set loss: 103.3156\n",
      "Train Epoch: 17 [0/60000 (0%)]\tLoss: 101.607285\n",
      "====> Epoch: 17 Average loss: 103.2626\n",
      "====> Test set loss: 103.3830\n",
      "Train Epoch: 18 [0/60000 (0%)]\tLoss: 104.154114\n",
      "====> Epoch: 18 Average loss: 103.1885\n",
      "====> Test set loss: 103.1958\n",
      "Train Epoch: 19 [0/60000 (0%)]\tLoss: 106.773628\n",
      "====> Epoch: 19 Average loss: 103.0878\n",
      "====> Test set loss: 102.9444\n",
      "Train Epoch: 20 [0/60000 (0%)]\tLoss: 105.136444\n",
      "====> Epoch: 20 Average loss: 102.9796\n",
      "====> Test set loss: 103.0127\n",
      "Train Epoch: 21 [0/60000 (0%)]\tLoss: 104.252457\n",
      "====> Epoch: 21 Average loss: 102.9194\n",
      "====> Test set loss: 103.0095\n",
      "Train Epoch: 22 [0/60000 (0%)]\tLoss: 99.011879\n",
      "====> Epoch: 22 Average loss: 102.8364\n",
      "====> Test set loss: 102.7636\n",
      "Train Epoch: 23 [0/60000 (0%)]\tLoss: 105.193604\n",
      "====> Epoch: 23 Average loss: 102.7343\n",
      "====> Test set loss: 102.5956\n",
      "Train Epoch: 24 [0/60000 (0%)]\tLoss: 100.846359\n",
      "====> Epoch: 24 Average loss: 102.7112\n",
      "====> Test set loss: 102.7314\n",
      "Train Epoch: 25 [0/60000 (0%)]\tLoss: 102.306412\n",
      "====> Epoch: 25 Average loss: 102.5550\n",
      "====> Test set loss: 102.6400\n",
      "Train Epoch: 26 [0/60000 (0%)]\tLoss: 99.761986\n",
      "====> Epoch: 26 Average loss: 102.5095\n",
      "====> Test set loss: 102.3936\n",
      "Train Epoch: 27 [0/60000 (0%)]\tLoss: 102.104477\n",
      "====> Epoch: 27 Average loss: 102.4668\n",
      "====> Test set loss: 102.4697\n",
      "Train Epoch: 28 [0/60000 (0%)]\tLoss: 103.654205\n",
      "====> Epoch: 28 Average loss: 102.3756\n",
      "====> Test set loss: 102.4203\n",
      "Train Epoch: 29 [0/60000 (0%)]\tLoss: 100.108650\n",
      "====> Epoch: 29 Average loss: 102.3241\n",
      "====> Test set loss: 102.7252\n",
      "Train Epoch: 30 [0/60000 (0%)]\tLoss: 101.415543\n",
      "====> Epoch: 30 Average loss: 102.2690\n",
      "====> Test set loss: 102.2798\n"
     ]
    }
   ],
   "source": [
    "epochs = 30\n",
    "log_interval = 1000\n",
    "for epoch in range(1, epochs + 1):\n",
    "    train(epoch)\n",
    "    test(epoch)\n",
    "    with torch.no_grad():\n",
    "        sample = torch.randn(64, 20).to(device)\n",
    "        sample = model.decode(sample).cpu()\n",
    "        save_image(sample.view(64, 1, 28, 28), 'results/sample_' + str(epoch) + '.png')"
   ]
  },
  {
   "cell_type": "code",
   "execution_count": 14,
   "metadata": {
    "colab": {},
    "colab_type": "code",
    "id": "l_sAJGY0dwhd"
   },
   "outputs": [
    {
     "name": "stdout",
     "output_type": "stream",
     "text": [
      "reconstruction_1.png  reconstruction_28.png sample_19.png\n",
      "reconstruction_10.png reconstruction_29.png sample_2.png\n",
      "reconstruction_11.png reconstruction_3.png  sample_20.png\n",
      "reconstruction_12.png reconstruction_30.png sample_21.png\n",
      "reconstruction_13.png reconstruction_4.png  sample_22.png\n",
      "reconstruction_14.png reconstruction_5.png  sample_23.png\n",
      "reconstruction_15.png reconstruction_6.png  sample_24.png\n",
      "reconstruction_16.png reconstruction_7.png  sample_25.png\n",
      "reconstruction_17.png reconstruction_8.png  sample_26.png\n",
      "reconstruction_18.png reconstruction_9.png  sample_27.png\n",
      "reconstruction_19.png sample_1.png          sample_28.png\n",
      "reconstruction_2.png  sample_10.png         sample_29.png\n",
      "reconstruction_20.png sample_11.png         sample_3.png\n",
      "reconstruction_21.png sample_12.png         sample_30.png\n",
      "reconstruction_22.png sample_13.png         sample_4.png\n",
      "reconstruction_23.png sample_14.png         sample_5.png\n",
      "reconstruction_24.png sample_15.png         sample_6.png\n",
      "reconstruction_25.png sample_16.png         sample_7.png\n",
      "reconstruction_26.png sample_17.png         sample_8.png\n",
      "reconstruction_27.png sample_18.png         sample_9.png\n"
     ]
    }
   ],
   "source": [
    "!ls results"
   ]
  },
  {
   "cell_type": "code",
   "execution_count": 15,
   "metadata": {
    "colab": {},
    "colab_type": "code",
    "id": "n4Hf5o9fepME"
   },
   "outputs": [
    {
     "data": {
      "image/png": "[encoded data removed]",
      "text/plain": [
       "<Figure size 432x288 with 1 Axes>"
      ]
     },
     "metadata": {
      "image/png": {
       "height": 100,
       "width": 349
      },
      "needs_background": "light"
     },
     "output_type": "display_data"
    }
   ],
   "source": [
    "import PIL.Image as PILImage\n",
    "import matplotlib.pyplot as plt\n",
    "\n",
    "img = PILImage.open('results/reconstruction_2.png')\n",
    "plt.axis(False); plt.imshow(img); plt.show()\n",
    "\n"
   ]
  },
  {
   "cell_type": "code",
   "execution_count": null,
   "metadata": {
    "colab": {},
    "colab_type": "code",
    "id": "a66PXX7Ze8Ai"
   },
   "outputs": [],
   "source": []
  }
 ],
 "metadata": {
  "accelerator": "GPU",
  "colab": {
   "authorship_tag": "ABX9TyOCcruTMyKwlQZkPKKA1D3P",
   "collapsed_sections": [],
   "include_colab_link": true,
   "name": "2020-0724vae.ipynb",
   "private_outputs": true,
   "provenance": []
  },
  "kernelspec": {
   "display_name": "Python 3 (ipykernel)",
   "language": "python",
   "name": "python3"
  },
  "language_info": {
   "codemirror_mode": {
    "name": "ipython",
    "version": 3
   },
   "file_extension": ".py",
   "mimetype": "text/x-python",
   "name": "python",
   "nbconvert_exporter": "python",
   "pygments_lexer": "ipython3",
   "version": "3.9.7"
  },
  "widgets": {
   "application/vnd.jupyter.widget-state+json": {
    "state": {
     "034ed7de914d4e479a55f05878159312": {
      "model_module": "@jupyter-widgets/controls",
      "model_module_version": "1.5.0",
      "model_name": "ProgressStyleModel",
      "state": {
       "description_width": ""
      }
     },
     "09b9aaed1c4f41b885f5d616ebb90e28": {
      "model_module": "@jupyter-widgets/base",
      "model_module_version": "1.2.0",
      "model_name": "LayoutModel",
      "state": {}
     },
     "0bd6f2030cd44817a0d644b2e0a24171": {
      "model_module": "@jupyter-widgets/controls",
      "model_module_version": "1.5.0",
      "model_name": "FloatProgressModel",
      "state": {
       "bar_style": "success",
       "layout": "IPY_MODEL_947044ea7b294207bc8518adb089a5c8",
       "max": 1648877,
       "style": "IPY_MODEL_3301adadfa364cd3b9f841a88970b37e",
       "value": 1648877
      }
     },
     "0f5f819d6209467c8e23d431408fd368": {
      "model_module": "@jupyter-widgets/controls",
      "model_module_version": "1.5.0",
      "model_name": "ProgressStyleModel",
      "state": {
       "description_width": ""
      }
     },
     "187e83c0e7fb494ab329c58fba142389": {
      "model_module": "@jupyter-widgets/controls",
      "model_module_version": "1.5.0",
      "model_name": "HBoxModel",
      "state": {
       "children": [
        "IPY_MODEL_3fa5a348bb394922bdd2ee9a967f97f1",
        "IPY_MODEL_c648c86af68e4102b80d8f5d57e18062",
        "IPY_MODEL_a3748b02076c46318d671545cd119f24"
       ],
       "layout": "IPY_MODEL_ec273272643e419f92a0f928b1e08057"
      }
     },
     "1d3a667dd6c24757a3d0481f12cd2df5": {
      "model_module": "@jupyter-widgets/controls",
      "model_module_version": "1.5.0",
      "model_name": "HTMLModel",
      "state": {
       "layout": "IPY_MODEL_8867771a6a1c4cecbbbd8feb164c78f1",
       "style": "IPY_MODEL_530d7f4047fd4c57821a075775f928b3",
       "value": " 1649664/? [00:00&lt;00:00, 6224955.05it/s]"
      }
     },
     "22d91202448848ec8ebf85a5eb80eb15": {
      "model_module": "@jupyter-widgets/base",
      "model_module_version": "1.2.0",
      "model_name": "LayoutModel",
      "state": {}
     },
     "26b1d22728ee4e13b84433fd53e70bd7": {
      "model_module": "@jupyter-widgets/base",
      "model_module_version": "1.2.0",
      "model_name": "LayoutModel",
      "state": {}
     },
     "2a5820102cd947069b7bbdec483395c0": {
      "model_module": "@jupyter-widgets/controls",
      "model_module_version": "1.5.0",
      "model_name": "DescriptionStyleModel",
      "state": {
       "description_width": ""
      }
     },
     "2a9aac247ebd4cad964b5a54a18ec0c9": {
      "model_module": "@jupyter-widgets/controls",
      "model_module_version": "1.5.0",
      "model_name": "FloatProgressModel",
      "state": {
       "bar_style": "success",
       "layout": "IPY_MODEL_9715e09ce9c04e35b40d42f3b4e0c535",
       "max": 4542,
       "style": "IPY_MODEL_3bca2ac8400b41f2a3a23156c730a2fd",
       "value": 4542
      }
     },
     "3301adadfa364cd3b9f841a88970b37e": {
      "model_module": "@jupyter-widgets/controls",
      "model_module_version": "1.5.0",
      "model_name": "ProgressStyleModel",
      "state": {
       "description_width": ""
      }
     },
     "33b29c7881e848c3963b6e5ce1bc51dc": {
      "model_module": "@jupyter-widgets/base",
      "model_module_version": "1.2.0",
      "model_name": "LayoutModel",
      "state": {}
     },
     "3678053a5f4a4ed6b556d6f16ac620b9": {
      "model_module": "@jupyter-widgets/controls",
      "model_module_version": "1.5.0",
      "model_name": "HTMLModel",
      "state": {
       "layout": "IPY_MODEL_507addbb6afb484fa13b7690eeb6cc54",
       "style": "IPY_MODEL_4864c6617b0440bbbf41ae10f69aabb2",
       "value": " 29696/? [00:00&lt;00:00, 770183.35it/s]"
      }
     },
     "38ca3d8820e348789199aec8f8c98b8c": {
      "model_module": "@jupyter-widgets/controls",
      "model_module_version": "1.5.0",
      "model_name": "HBoxModel",
      "state": {
       "children": [
        "IPY_MODEL_fd78ff00f5ac4ecd8f8e079b73ac58e2",
        "IPY_MODEL_2a9aac247ebd4cad964b5a54a18ec0c9",
        "IPY_MODEL_5b338c48ae3a4925880d8215571169f1"
       ],
       "layout": "IPY_MODEL_d16f58a1890f46daa45bcbaf3ae78a76"
      }
     },
     "3bca2ac8400b41f2a3a23156c730a2fd": {
      "model_module": "@jupyter-widgets/controls",
      "model_module_version": "1.5.0",
      "model_name": "ProgressStyleModel",
      "state": {
       "description_width": ""
      }
     },
     "3f08d531ffa844c8a3580697a3749bb5": {
      "model_module": "@jupyter-widgets/base",
      "model_module_version": "1.2.0",
      "model_name": "LayoutModel",
      "state": {}
     },
     "3fa5a348bb394922bdd2ee9a967f97f1": {
      "model_module": "@jupyter-widgets/controls",
      "model_module_version": "1.5.0",
      "model_name": "HTMLModel",
      "state": {
       "layout": "IPY_MODEL_22d91202448848ec8ebf85a5eb80eb15",
       "style": "IPY_MODEL_da9952c8fe73418d8e2247d1a169263e"
      }
     },
     "4864c6617b0440bbbf41ae10f69aabb2": {
      "model_module": "@jupyter-widgets/controls",
      "model_module_version": "1.5.0",
      "model_name": "DescriptionStyleModel",
      "state": {
       "description_width": ""
      }
     },
     "4e5ff5467c674a5cae010f0653b81b17": {
      "model_module": "@jupyter-widgets/controls",
      "model_module_version": "1.5.0",
      "model_name": "DescriptionStyleModel",
      "state": {
       "description_width": ""
      }
     },
     "501cfca8634e4c0589fa94c4a2e1ebf3": {
      "model_module": "@jupyter-widgets/controls",
      "model_module_version": "1.5.0",
      "model_name": "HTMLModel",
      "state": {
       "layout": "IPY_MODEL_09b9aaed1c4f41b885f5d616ebb90e28",
       "style": "IPY_MODEL_98e9a461f1114765b52084be4c294bff"
      }
     },
     "507addbb6afb484fa13b7690eeb6cc54": {
      "model_module": "@jupyter-widgets/base",
      "model_module_version": "1.2.0",
      "model_name": "LayoutModel",
      "state": {}
     },
     "530d7f4047fd4c57821a075775f928b3": {
      "model_module": "@jupyter-widgets/controls",
      "model_module_version": "1.5.0",
      "model_name": "DescriptionStyleModel",
      "state": {
       "description_width": ""
      }
     },
     "53c95dea66c1403aaa7021bf4cf4af57": {
      "model_module": "@jupyter-widgets/base",
      "model_module_version": "1.2.0",
      "model_name": "LayoutModel",
      "state": {}
     },
     "5b338c48ae3a4925880d8215571169f1": {
      "model_module": "@jupyter-widgets/controls",
      "model_module_version": "1.5.0",
      "model_name": "HTMLModel",
      "state": {
       "layout": "IPY_MODEL_af4145fd682b4e0b9acb0f93e8ffc14c",
       "style": "IPY_MODEL_2a5820102cd947069b7bbdec483395c0",
       "value": " 5120/? [00:00&lt;00:00, 118887.88it/s]"
      }
     },
     "6e791e5926c44297afae1ce544fca5bd": {
      "model_module": "@jupyter-widgets/base",
      "model_module_version": "1.2.0",
      "model_name": "LayoutModel",
      "state": {}
     },
     "71dc90d8091f4f4daf6d45911deabb70": {
      "model_module": "@jupyter-widgets/base",
      "model_module_version": "1.2.0",
      "model_name": "LayoutModel",
      "state": {}
     },
     "8867771a6a1c4cecbbbd8feb164c78f1": {
      "model_module": "@jupyter-widgets/base",
      "model_module_version": "1.2.0",
      "model_name": "LayoutModel",
      "state": {}
     },
     "8956eed275b7432eab1e7663190de45c": {
      "model_module": "@jupyter-widgets/controls",
      "model_module_version": "1.5.0",
      "model_name": "HTMLModel",
      "state": {
       "layout": "IPY_MODEL_6e791e5926c44297afae1ce544fca5bd",
       "style": "IPY_MODEL_4e5ff5467c674a5cae010f0653b81b17"
      }
     },
     "947044ea7b294207bc8518adb089a5c8": {
      "model_module": "@jupyter-widgets/base",
      "model_module_version": "1.2.0",
      "model_name": "LayoutModel",
      "state": {}
     },
     "9715e09ce9c04e35b40d42f3b4e0c535": {
      "model_module": "@jupyter-widgets/base",
      "model_module_version": "1.2.0",
      "model_name": "LayoutModel",
      "state": {}
     },
     "98e9a461f1114765b52084be4c294bff": {
      "model_module": "@jupyter-widgets/controls",
      "model_module_version": "1.5.0",
      "model_name": "DescriptionStyleModel",
      "state": {
       "description_width": ""
      }
     },
     "a3748b02076c46318d671545cd119f24": {
      "model_module": "@jupyter-widgets/controls",
      "model_module_version": "1.5.0",
      "model_name": "HTMLModel",
      "state": {
       "layout": "IPY_MODEL_33b29c7881e848c3963b6e5ce1bc51dc",
       "style": "IPY_MODEL_d696f83cd36f4dec8324fc5721a08c82",
       "value": " 9913344/? [00:01&lt;00:00, 6360666.61it/s]"
      }
     },
     "af4145fd682b4e0b9acb0f93e8ffc14c": {
      "model_module": "@jupyter-widgets/base",
      "model_module_version": "1.2.0",
      "model_name": "LayoutModel",
      "state": {}
     },
     "b42999f3c6fb441db2889aad48d0f762": {
      "model_module": "@jupyter-widgets/controls",
      "model_module_version": "1.5.0",
      "model_name": "HBoxModel",
      "state": {
       "children": [
        "IPY_MODEL_501cfca8634e4c0589fa94c4a2e1ebf3",
        "IPY_MODEL_f1540d798d764dbd84de6740973e6b88",
        "IPY_MODEL_3678053a5f4a4ed6b556d6f16ac620b9"
       ],
       "layout": "IPY_MODEL_ef53577691454deda8b8e12277931e82"
      }
     },
     "b473279274d9428d8b0338622a410c33": {
      "model_module": "@jupyter-widgets/controls",
      "model_module_version": "1.5.0",
      "model_name": "HBoxModel",
      "state": {
       "children": [
        "IPY_MODEL_8956eed275b7432eab1e7663190de45c",
        "IPY_MODEL_0bd6f2030cd44817a0d644b2e0a24171",
        "IPY_MODEL_1d3a667dd6c24757a3d0481f12cd2df5"
       ],
       "layout": "IPY_MODEL_26b1d22728ee4e13b84433fd53e70bd7"
      }
     },
     "c648c86af68e4102b80d8f5d57e18062": {
      "model_module": "@jupyter-widgets/controls",
      "model_module_version": "1.5.0",
      "model_name": "FloatProgressModel",
      "state": {
       "bar_style": "success",
       "layout": "IPY_MODEL_53c95dea66c1403aaa7021bf4cf4af57",
       "max": 9912422,
       "style": "IPY_MODEL_0f5f819d6209467c8e23d431408fd368",
       "value": 9912422
      }
     },
     "d16f58a1890f46daa45bcbaf3ae78a76": {
      "model_module": "@jupyter-widgets/base",
      "model_module_version": "1.2.0",
      "model_name": "LayoutModel",
      "state": {}
     },
     "d696f83cd36f4dec8324fc5721a08c82": {
      "model_module": "@jupyter-widgets/controls",
      "model_module_version": "1.5.0",
      "model_name": "DescriptionStyleModel",
      "state": {
       "description_width": ""
      }
     },
     "da9952c8fe73418d8e2247d1a169263e": {
      "model_module": "@jupyter-widgets/controls",
      "model_module_version": "1.5.0",
      "model_name": "DescriptionStyleModel",
      "state": {
       "description_width": ""
      }
     },
     "ec273272643e419f92a0f928b1e08057": {
      "model_module": "@jupyter-widgets/base",
      "model_module_version": "1.2.0",
      "model_name": "LayoutModel",
      "state": {}
     },
     "ef53577691454deda8b8e12277931e82": {
      "model_module": "@jupyter-widgets/base",
      "model_module_version": "1.2.0",
      "model_name": "LayoutModel",
      "state": {}
     },
     "f1540d798d764dbd84de6740973e6b88": {
      "model_module": "@jupyter-widgets/controls",
      "model_module_version": "1.5.0",
      "model_name": "FloatProgressModel",
      "state": {
       "bar_style": "success",
       "layout": "IPY_MODEL_71dc90d8091f4f4daf6d45911deabb70",
       "max": 28881,
       "style": "IPY_MODEL_034ed7de914d4e479a55f05878159312",
       "value": 28881
      }
     },
     "fd78ff00f5ac4ecd8f8e079b73ac58e2": {
      "model_module": "@jupyter-widgets/controls",
      "model_module_version": "1.5.0",
      "model_name": "HTMLModel",
      "state": {
       "layout": "IPY_MODEL_3f08d531ffa844c8a3580697a3749bb5",
       "style": "IPY_MODEL_febd9217de164a28be375c610bfd89f1"
      }
     },
     "febd9217de164a28be375c610bfd89f1": {
      "model_module": "@jupyter-widgets/controls",
      "model_module_version": "1.5.0",
      "model_name": "DescriptionStyleModel",
      "state": {
       "description_width": ""
      }
     }
    },
    "version_major": 2,
    "version_minor": 0
   }
  }
 },
 "nbformat": 4,
 "nbformat_minor": 4
}
