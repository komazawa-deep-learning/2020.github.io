{
  "nbformat": 4,
  "nbformat_minor": 0,
  "metadata": {
    "colab": {
      "name": "2020-0605face_detection_demo.ipynb",
      "provenance": [],
      "private_outputs": true,
      "include_colab_link": true
    },
    "kernelspec": {
      "name": "python3",
      "display_name": "Python 3"
    },
    "accelerator": "GPU"
  },
  "cells": [
    {
      "cell_type": "markdown",
      "metadata": {
        "id": "view-in-github",
        "colab_type": "text"
      },
      "source": [
        "<a href=\"https://colab.research.google.com/github/komazawa-deep-learning/komazawa-deep-learning.github.io/blob/master/notebooks/2020_0605face_detection_demo.ipynb\" target=\"_parent\"><img src=\"https://colab.research.google.com/assets/colab-badge.svg\" alt=\"Open In Colab\"/></a>"
      ]
    },
    {
      "cell_type": "markdown",
      "metadata": {
        "id": "-TzXNGcT5C5F",
        "colab_type": "text"
      },
      "source": [
        "<div align=\"center\">\n",
        "<img src=\"https://koma-sso.komazawa-u.ac.jp/idp/images/header_logo.png\">\n",
        "</div>\n",
        "\n",
        "# 顔検出デモ\n",
        "\n",
        "- date: 2020-0529\n",
        "- author: 浅川伸一\n",
        "\n",
        "<div align='right'>\n",
        "<a href='mailto:educ0233@komazawa-u.ac.jp'>Shin Aasakawa</a>, all rights reserved.<br>\n",
        "Date: 29/May/2020<br/>\n",
        "Appache 2.0 license<br/>\n",
        "</div>\n"
      ]
    },
    {
      "cell_type": "code",
      "metadata": {
        "id": "1KM3DIdcYy49",
        "colab_type": "code",
        "colab": {}
      },
      "source": [
        "import cv2\n",
        "import numpy as np\n",
        "import matplotlib.pyplot as plt\n",
        "import dlib"
      ],
      "execution_count": 0,
      "outputs": []
    },
    {
      "cell_type": "markdown",
      "metadata": {
        "id": "F1L7mfotex5j",
        "colab_type": "text"
      },
      "source": [
        "-  外部から画像を読み込みには `!wget <URL>`\n",
        "- あるいは自分の PC からアップロードするには以下のセルを参照してください"
      ]
    },
    {
      "cell_type": "code",
      "metadata": {
        "id": "66Y4GewbcScm",
        "colab_type": "code",
        "colab": {}
      },
      "source": [
        "from google.colab import files\n",
        "files.upload()"
      ],
      "execution_count": 0,
      "outputs": []
    },
    {
      "cell_type": "code",
      "metadata": {
        "id": "0UU-VDNieNs9",
        "colab_type": "code",
        "colab": {}
      },
      "source": [
        "# 上でアップロードしたファイルのファイル名を `face.jpg` というファイル名に変更します\n",
        "!mv 19960222_004.jpg face.jpg"
      ],
      "execution_count": 0,
      "outputs": []
    },
    {
      "cell_type": "code",
      "metadata": {
        "id": "h11g_DGNepNU",
        "colab_type": "code",
        "colab": {}
      },
      "source": [
        "# 画像を表示してみます\n",
        "img = plt.imread('face.jpg')\n",
        "plt.figure(figsize=(12,12))\n",
        "plt.imshow(img)\n",
        "plt.show()"
      ],
      "execution_count": 0,
      "outputs": []
    },
    {
      "cell_type": "code",
      "metadata": {
        "id": "t-QO5UD9hYM1",
        "colab_type": "code",
        "colab": {}
      },
      "source": [
        "# 訓練済の顔検出データを持って，解凍します\n",
        "#!wget https://github.com/davisking/dlib-models/blob/master/mmod_human_face_detector.dat.bz2\n",
        "!wget https://github.com/davisking/dlib-models/raw/master/mmod_human_face_detector.dat.bz2\n",
        "!bunzip2 mmod_human_face_detector.dat.bz2"
      ],
      "execution_count": 0,
      "outputs": []
    },
    {
      "cell_type": "code",
      "metadata": {
        "id": "dHistlItnILV",
        "colab_type": "code",
        "colab": {}
      },
      "source": [
        "dnnFaceDetector = dlib.cnn_face_detection_model_v1(\"./mmod_human_face_detector.dat\")\n",
        "\n",
        "# 顔領域を検出します。\n",
        "rects = dnnFaceDetector(img, 1)\n",
        "    \n",
        "# 検出した顔領域にバウンディングボックスを描きます\n",
        "for (i, rect) in enumerate(rects):\n",
        "\n",
        "    x1 = rect.rect.left()\n",
        "    y1 = rect.rect.top()\n",
        "    x2 = rect.rect.right()\n",
        "    y2 = rect.rect.bottom()\n",
        "        \n",
        "    # Rectangle around the face\n",
        "    cv2.rectangle(img, (x1, y1), (x2, y2), (255, 255, 255), 3)"
      ],
      "execution_count": 0,
      "outputs": []
    },
    {
      "cell_type": "code",
      "metadata": {
        "id": "7WsSLiv2pdgV",
        "colab_type": "code",
        "colab": {}
      },
      "source": [
        "# 結果を表示します\n",
        "plt.figure(figsize=(12,12))\n",
        "plt.imshow(img)\n",
        "plt.show()"
      ],
      "execution_count": 0,
      "outputs": []
    },
    {
      "cell_type": "code",
      "metadata": {
        "id": "v7-t_DZTrtpu",
        "colab_type": "code",
        "colab": {}
      },
      "source": [
        ""
      ],
      "execution_count": 0,
      "outputs": []
    }
  ]
}