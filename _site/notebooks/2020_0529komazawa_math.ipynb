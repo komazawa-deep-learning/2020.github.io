{
  "nbformat": 4,
  "nbformat_minor": 0,
  "metadata": {
    "colab": {
      "name": "2020-0529komazawa_math.ipynb",
      "provenance": [],
      "private_outputs": true,
      "collapsed_sections": [],
      "authorship_tag": "ABX9TyMpkkRKfvircTC+mMXrkvKH",
      "include_colab_link": true
    },
    "kernelspec": {
      "name": "python3",
      "display_name": "Python 3"
    }
  },
  "cells": [
    {
      "cell_type": "markdown",
      "metadata": {
        "id": "view-in-github",
        "colab_type": "text"
      },
      "source": [
        "<a href=\"https://colab.research.google.com/github/komazawa-deep-learning/komazawa-deep-learning.github.io/blob/master/notebooks/2020_0529komazawa_math.ipynb\" target=\"_parent\"><img src=\"https://colab.research.google.com/assets/colab-badge.svg\" alt=\"Open In Colab\"/></a>"
      ]
    },
    {
      "cell_type": "markdown",
      "metadata": {
        "id": "xzwjEJ0arDJv",
        "colab_type": "text"
      },
      "source": [
        "# ニューラルネットワークに関連の深い数学(者)\n",
        "\n",
        "- [アイザック ニュートン(1643-1727)](https://en.wikipedia.org/wiki/File:GodfreyKneller-IsaacNewton-1689.jpg): ペストの流行時に田舎に引きこもって，大発見。微分，変分，: 元禄年間 17世紀後半 松尾芭蕉と同世代\n",
        "- [レオンハルト オイラー(1707-1783)](https://en.wikipedia.org/wiki/File:Leonhard_Euler.jpg) : 天才的，多産な数学者。惑星の軌道を計算。 日本の小説，映画 ［博士の愛した数式］(https://www.shinchosha.co.jp/book/401303/) に出てくる数式は，彼 Euler に因みます:\n",
        "\n",
        "$$\n",
        "    e^{i\\pi}=-1\n",
        "$$\n",
        "\n",
        "この式を美しいと言い出した人は，リチャード ファインマン (下にリンクがあります) でしょう。\n",
        "\n",
        "- [ジョセフ=ルイ ラグランジェ(1736-1813)](https://upload.wikimedia.org/wikipedia/commons/1/19/Lagrange_portrait.jpg) イタリア人。主にフランスで活躍。フランス革命，ナポレオン世代。解析力学。ラグランジェの未定乗数法。条件付き最適化。変分原理。\n",
        "<!-- https://www.space.com/30302-lagrange-points.html -->\n",
        "- [ヘルマン フォン ヘルムホルツ(1821-1894)](https://upload.wikimedia.org/wikipedia/commons/c/c7/Hermann_von_Helmholtz.jpg): ヘルムホルツの自由エネルギー\n",
        "- [ルートビッヒ ボルツマン(1844-1906)](https://upload.wikimedia.org/wikipedia/commons/thumb/a/ad/Boltzmann2.jpg/450px-Boltzmann2.jpg)： ボルツマン分布，熱力学。同時代人は，乃木希典，東郷平八郎。\n",
        "- [リチャード ファインマン(1918-1988)](https://upload.wikimedia.org/wikipedia/en/4/42/Richard_Feynman_Nobel.jpg) 20世紀の物理学者，USA の人。田中角栄と同じ年に生まれている。\n",
        "    - If you can’t explain something in simple terms, you don’t understand it. (ELI5 の語源?) 同じ内容を アインシュタインも言っているようです (You do not really understand something unless you can explain it to your grandmother.)\n",
        "    - What I cannot create, I do not understand.\t\n",
        "\n",
        "---\n",
        "\n",
        "1. 最小二乗法から，誤差逆伝播法へ\n",
        "2. 誤差逆伝播法 (合成関数の微分) 偏微分\n",
        "3. 制約付き最適化. KKT 条件\n",
        "\n",
        "\n",
        "\n"
      ]
    },
    {
      "cell_type": "markdown",
      "metadata": {
        "id": "DJnO4_AIIJ1p",
        "colab_type": "text"
      },
      "source": [
        "```javascript\n",
        "function ClickConnect(){\n",
        "    console.log(\"Clicked on connect button\"); \n",
        "    document.querySelector(\"colab-connect-button\").click()\n",
        "}\n",
        "setInterval(ClickConnect,60000)\n",
        "```"
      ]
    },
    {
      "cell_type": "code",
      "metadata": {
        "id": "sRcw69hksJpD",
        "colab_type": "code",
        "colab": {}
      },
      "source": [
        "from IPython.display import YouTubeVideo, display\n",
        "# ひどいね。この人，f(x) をエフエックスって言ってしまっている。\n",
        "video = YouTubeVideo(\"2EmTFX2T050\", width=600, height=4"
      ],
      "execution_count": 0,
      "outputs": []
    }
  ]
}