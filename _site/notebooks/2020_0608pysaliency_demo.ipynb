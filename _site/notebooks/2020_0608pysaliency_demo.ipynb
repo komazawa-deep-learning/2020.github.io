{
 "cells": [
  {
   "cell_type": "markdown",
   "metadata": {
    "colab_type": "text",
    "id": "view-in-github"
   },
   "source": [
    "<a href=\"https://colab.research.google.com/github/komazawa-deep-learning/komazawa-deep-learning.github.io/blob/master/notebooks/2020_0608pysaliency_demo.ipynb\" target=\"_parent\"><img src=\"https://colab.research.google.com/assets/colab-badge.svg\" alt=\"Open In Colab\"/></a>"
   ]
  },
  {
   "cell_type": "code",
   "execution_count": null,
   "metadata": {
    "colab": {},
    "colab_type": "code",
    "id": "lB4Yiy3t8WxU"
   },
   "outputs": [],
   "source": [
    "#!dpkg --configure -a"
   ]
  },
  {
   "cell_type": "code",
   "execution_count": null,
   "metadata": {
    "colab": {},
    "colab_type": "code",
    "id": "R6N1s7vQ8KZE"
   },
   "outputs": [],
   "source": [
    "!apt-get install octave > /dev/null\n",
    "!apt-get install octave-image > /dev/null\n",
    "!apt-get install octave-statistics > /dev/null\n",
    "!apt-get install liboctave-dev > /dev/null"
   ]
  },
  {
   "cell_type": "code",
   "execution_count": null,
   "metadata": {
    "colab": {},
    "colab_type": "code",
    "id": "pyy3Inxt8Njt"
   },
   "outputs": [],
   "source": [
    "!pip install --upgrade pysaliency > /dev/null"
   ]
  },
  {
   "cell_type": "code",
   "execution_count": 1,
   "metadata": {
    "colab": {},
    "colab_type": "code",
    "id": "-ukEJ6jRbni8"
   },
   "outputs": [],
   "source": [
    "import matplotlib.pyplot as plt\n",
    "import os\n",
    "import numpy as np"
   ]
  },
  {
   "cell_type": "code",
   "execution_count": 2,
   "metadata": {
    "colab": {},
    "colab_type": "code",
    "id": "I7qn6XgX_ZpF"
   },
   "outputs": [
    {
     "name": "stderr",
     "output_type": "stream",
     "text": [
      "Downloading file: 11.9MB [00:16, 710kB/s]                                                                        \n"
     ]
    },
    {
     "name": "stdout",
     "output_type": "stream",
     "text": [
      "Checking md5 sum...\n",
      "Extracting\n"
     ]
    }
   ],
   "source": [
    "import pysaliency\n",
    "import pysaliency.external_datasets\n",
    "\n",
    "#data_location = 'test_datasets'\n",
    "\n",
    "#mit_stimuli, mit_fixations = pysaliency.external_datasets.get_mit1003(location=data_location) # これが動かないから別のデータセットで\n",
    "#mit_stimuli, mit_fixations = pysaliency.external_datasets.get_OSIE(location=data_location)  # OK\n",
    "#mit_stimuli, mit_fixations = pysaliency.external_datasets.get_NUSEF_public(location=data_location)  # NG\n",
    "mit_stimuli, mit_fixations = pysaliency.external_datasets.get_toronto()  # location=data_location)  "
   ]
  },
  {
   "cell_type": "code",
   "execution_count": null,
   "metadata": {
    "colab": {},
    "colab_type": "code",
    "id": "312CsKvLXh7H"
   },
   "outputs": [
    {
     "name": "stderr",
     "output_type": "stream",
     "text": [
      " 41%|██████████████████████████████▎                                           | 287/700 [03:59<06:47,  1.01it/s]"
     ]
    }
   ],
   "source": [
    "import pysaliency\n",
    "\n",
    "#dataset_location = 'datasets'\n",
    "#model_location = 'models'\n",
    "\n",
    "#mit_stimuli, mit_fixations = pysaliency.external_datasets.get_mit1003()  # location=dataset_location)\n",
    "mit_stimuli, mit_fixations = pysaliency.external_datasets.get_OSIE()\n",
    "aim = pysaliency.AIM()  # location=model_location)\n",
    "saliency_map = aim.saliency_map(mit_stimuli.stimuli[0])\n",
    "\n",
    "plt.imshow(saliency_map)\n",
    "\n",
    "auc = aim.AUC(mit_stimuli, mit_fixations)"
   ]
  },
  {
   "cell_type": "code",
   "execution_count": null,
   "metadata": {
    "colab": {},
    "colab_type": "code",
    "id": "b9ZpqU10WvTZ"
   },
   "outputs": [],
   "source": [
    "index = 6\n",
    "plt.figure(figsize=(14,10))\n",
    "plt.imshow(mit_stimuli.stimuli[index])\n",
    "f = mit_fixations[mit_fixations.n == index]\n",
    "plt.scatter(f.x, f.y, color='r')\n",
    "_ = plt.axis('off')"
   ]
  },
  {
   "cell_type": "code",
   "execution_count": null,
   "metadata": {
    "colab": {},
    "colab_type": "code",
    "id": "BKqVlqp_bj2Z"
   },
   "outputs": [],
   "source": [
    "from IPython.display import YouTubeVideo, display\n",
    "video_id = 'egs0XN-xjA0'  # detectron2 \n",
    "display(YouTubeVideo(video_id, width=600, height=400))"
   ]
  }
 ],
 "metadata": {
  "colab": {
   "authorship_tag": "ABX9TyOzijRcH5Y0yoaHKcyxppTn",
   "collapsed_sections": [],
   "include_colab_link": true,
   "name": "2020-0608pysaliency_demo.ipynb",
   "private_outputs": true,
   "provenance": []
  },
  "kernelspec": {
   "display_name": "Python 3 (ipykernel)",
   "language": "python",
   "name": "python3"
  },
  "language_info": {
   "codemirror_mode": {
    "name": "ipython",
    "version": 3
   },
   "file_extension": ".py",
   "mimetype": "text/x-python",
   "name": "python",
   "nbconvert_exporter": "python",
   "pygments_lexer": "ipython3",
   "version": "3.9.12"
  },
  "widgets": {
   "application/vnd.jupyter.widget-state+json": {
    "state": {},
    "version_major": 2,
    "version_minor": 0
   }
  }
 },
 "nbformat": 4,
 "nbformat_minor": 4
}
