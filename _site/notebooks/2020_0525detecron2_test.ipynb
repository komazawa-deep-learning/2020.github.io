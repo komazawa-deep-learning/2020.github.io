{
  "nbformat": 4,
  "nbformat_minor": 0,
  "metadata": {
    "kernelspec": {
      "display_name": "Python 3",
      "language": "python",
      "name": "python3"
    },
    "language_info": {
      "codemirror_mode": {
        "name": "ipython",
        "version": 3
      },
      "file_extension": ".py",
      "mimetype": "text/x-python",
      "name": "python",
      "nbconvert_exporter": "python",
      "pygments_lexer": "ipython3",
      "version": "3.7.7"
    },
    "colab": {
      "name": "2020-0525detecron2_test.ipynb",
      "provenance": [],
      "include_colab_link": true
    }
  },
  "cells": [
    {
      "cell_type": "markdown",
      "metadata": {
        "id": "view-in-github",
        "colab_type": "text"
      },
      "source": [
        "<a href=\"https://colab.research.google.com/github/komazawa-deep-learning/komazawa-deep-learning.github.io/blob/master/notebooks/2020_0525detecron2_test.ipynb\" target=\"_parent\"><img src=\"https://colab.research.google.com/assets/colab-badge.svg\" alt=\"Open In Colab\"/></a>"
      ]
    },
    {
      "cell_type": "markdown",
      "metadata": {
        "id": "a7zLitJGZKTg",
        "colab_type": "text"
      },
      "source": [
        "- source https://colab.research.google.com/drive/16jcaJoc6bCFAQ96jDe2HwtXj7BMD_-m5#scrollTo=9_FzH13EjseR\n"
      ]
    },
    {
      "cell_type": "code",
      "metadata": {
        "id": "yszCwQZ3ZJnL",
        "colab_type": "code",
        "colab": {
          "base_uri": "https://localhost:8080/",
          "height": 833
        },
        "outputId": "20a9883e-dc72-4793-bb62-95970c99dd7a"
      },
      "source": [
        "# install dependencies: (use cu101 because colab has CUDA 10.1)\n",
        "!pip install -U torch==1.5 torchvision==0.6 -f https://download.pytorch.org/whl/cu101/torch_stable.html \n",
        "!pip install cython pyyaml==5.1\n",
        "!pip install -U 'git+https://github.com/cocodataset/cocoapi.git#subdirectory=PythonAPI'\n",
        "import torch, torchvision\n",
        "print(torch.__version__, torch.cuda.is_available())\n",
        "!gcc --version\n",
        "# opencv is pre-installed on colab"
      ],
      "execution_count": 3,
      "outputs": [
        {
          "output_type": "stream",
          "text": [
            "Looking in links: https://download.pytorch.org/whl/cu101/torch_stable.html\n",
            "Requirement already up-to-date: torch==1.5 in /usr/local/lib/python3.6/dist-packages (1.5.0+cu101)\n",
            "Requirement already up-to-date: torchvision==0.6 in /usr/local/lib/python3.6/dist-packages (0.6.0+cu101)\n",
            "Requirement already satisfied, skipping upgrade: future in /usr/local/lib/python3.6/dist-packages (from torch==1.5) (0.16.0)\n",
            "Requirement already satisfied, skipping upgrade: numpy in /usr/local/lib/python3.6/dist-packages (from torch==1.5) (1.18.4)\n",
            "Requirement already satisfied, skipping upgrade: pillow>=4.1.1 in /usr/local/lib/python3.6/dist-packages (from torchvision==0.6) (7.0.0)\n",
            "Requirement already satisfied: cython in /usr/local/lib/python3.6/dist-packages (0.29.18)\n",
            "Collecting pyyaml==5.1\n",
            "\u001b[?25l  Downloading https://files.pythonhosted.org/packages/9f/2c/9417b5c774792634834e730932745bc09a7d36754ca00acf1ccd1ac2594d/PyYAML-5.1.tar.gz (274kB)\n",
            "\u001b[K     |████████████████████████████████| 276kB 4.8MB/s \n",
            "\u001b[?25hBuilding wheels for collected packages: pyyaml\n",
            "  Building wheel for pyyaml (setup.py) ... \u001b[?25l\u001b[?25hdone\n",
            "  Created wheel for pyyaml: filename=PyYAML-5.1-cp36-cp36m-linux_x86_64.whl size=44074 sha256=cd144f79e38cd8ef8b21c537e9647f603bd28f3c726acd9270d5964a6467dd65\n",
            "  Stored in directory: /root/.cache/pip/wheels/ad/56/bc/1522f864feb2a358ea6f1a92b4798d69ac783a28e80567a18b\n",
            "Successfully built pyyaml\n",
            "Installing collected packages: pyyaml\n",
            "  Found existing installation: PyYAML 3.13\n",
            "    Uninstalling PyYAML-3.13:\n",
            "      Successfully uninstalled PyYAML-3.13\n",
            "Successfully installed pyyaml-5.1\n",
            "Collecting git+https://github.com/cocodataset/cocoapi.git#subdirectory=PythonAPI\n",
            "  Cloning https://github.com/cocodataset/cocoapi.git to /tmp/pip-req-build-4n2e0gus\n",
            "  Running command git clone -q https://github.com/cocodataset/cocoapi.git /tmp/pip-req-build-4n2e0gus\n",
            "Requirement already satisfied, skipping upgrade: setuptools>=18.0 in /usr/local/lib/python3.6/dist-packages (from pycocotools==2.0) (46.3.0)\n",
            "Requirement already satisfied, skipping upgrade: cython>=0.27.3 in /usr/local/lib/python3.6/dist-packages (from pycocotools==2.0) (0.29.18)\n",
            "Requirement already satisfied, skipping upgrade: matplotlib>=2.1.0 in /usr/local/lib/python3.6/dist-packages (from pycocotools==2.0) (3.2.1)\n",
            "Requirement already satisfied, skipping upgrade: python-dateutil>=2.1 in /usr/local/lib/python3.6/dist-packages (from matplotlib>=2.1.0->pycocotools==2.0) (2.8.1)\n",
            "Requirement already satisfied, skipping upgrade: pyparsing!=2.0.4,!=2.1.2,!=2.1.6,>=2.0.1 in /usr/local/lib/python3.6/dist-packages (from matplotlib>=2.1.0->pycocotools==2.0) (2.4.7)\n",
            "Requirement already satisfied, skipping upgrade: kiwisolver>=1.0.1 in /usr/local/lib/python3.6/dist-packages (from matplotlib>=2.1.0->pycocotools==2.0) (1.2.0)\n",
            "Requirement already satisfied, skipping upgrade: cycler>=0.10 in /usr/local/lib/python3.6/dist-packages (from matplotlib>=2.1.0->pycocotools==2.0) (0.10.0)\n",
            "Requirement already satisfied, skipping upgrade: numpy>=1.11 in /usr/local/lib/python3.6/dist-packages (from matplotlib>=2.1.0->pycocotools==2.0) (1.18.4)\n",
            "Requirement already satisfied, skipping upgrade: six>=1.5 in /usr/local/lib/python3.6/dist-packages (from python-dateutil>=2.1->matplotlib>=2.1.0->pycocotools==2.0) (1.12.0)\n",
            "Building wheels for collected packages: pycocotools\n",
            "  Building wheel for pycocotools (setup.py) ... \u001b[?25l\u001b[?25hdone\n",
            "  Created wheel for pycocotools: filename=pycocotools-2.0-cp36-cp36m-linux_x86_64.whl size=267011 sha256=d8bed0974a23776f16388b6735492178356f03bcf35f7df53290e92d3b900e81\n",
            "  Stored in directory: /tmp/pip-ephem-wheel-cache-f8eor82m/wheels/90/51/41/646daf401c3bc408ff10de34ec76587a9b3ebfac8d21ca5c3a\n",
            "Successfully built pycocotools\n",
            "Installing collected packages: pycocotools\n",
            "  Found existing installation: pycocotools 2.0.0\n",
            "    Uninstalling pycocotools-2.0.0:\n",
            "      Successfully uninstalled pycocotools-2.0.0\n",
            "Successfully installed pycocotools-2.0\n",
            "1.5.0+cu101 False\n",
            "gcc (Ubuntu 7.5.0-3ubuntu1~18.04) 7.5.0\n",
            "Copyright (C) 2017 Free Software Foundation, Inc.\n",
            "This is free software; see the source for copying conditions.  There is NO\n",
            "warranty; not even for MERCHANTABILITY or FITNESS FOR A PARTICULAR PURPOSE.\n",
            "\n"
          ],
          "name": "stdout"
        }
      ]
    },
    {
      "cell_type": "code",
      "metadata": {
        "id": "cpRyyMzmZWoj",
        "colab_type": "code",
        "colab": {
          "base_uri": "https://localhost:8080/",
          "height": 1000
        },
        "outputId": "762840fa-bbbc-4133-f551-6692b818044c"
      },
      "source": [
        "# install detectron2:\n",
        "!pip install detectron2==0.1.3 -f https://dl.fbaipublicfiles.com/detectron2/wheels/cu101/index.html"
      ],
      "execution_count": 4,
      "outputs": [
        {
          "output_type": "stream",
          "text": [
            "Looking in links: https://dl.fbaipublicfiles.com/detectron2/wheels/cu101/index.html\n",
            "Collecting detectron2==0.1.3\n",
            "\u001b[?25l  Downloading https://dl.fbaipublicfiles.com/detectron2/wheels/cu101/torch1.5/detectron2-0.1.3%2Bcu101-cp36-cp36m-linux_x86_64.whl (6.2MB)\n",
            "\u001b[K     |████████████████████████████████| 6.2MB 1.9MB/s \n",
            "\u001b[?25hRequirement already satisfied: pydot in /usr/local/lib/python3.6/dist-packages (from detectron2==0.1.3) (1.3.0)\n",
            "Requirement already satisfied: matplotlib in /usr/local/lib/python3.6/dist-packages (from detectron2==0.1.3) (3.2.1)\n",
            "Requirement already satisfied: Pillow in /usr/local/lib/python3.6/dist-packages (from detectron2==0.1.3) (7.0.0)\n",
            "Collecting fvcore>=0.1.1\n",
            "  Downloading https://files.pythonhosted.org/packages/43/3a/50bb1e1b1acbf5e9b79f9f0c078cd3e9694e453a61cd0f07cc8dd1e1872f/fvcore-0.1.1.post200513.tar.gz\n",
            "Requirement already satisfied: future in /usr/local/lib/python3.6/dist-packages (from detectron2==0.1.3) (0.16.0)\n",
            "Requirement already satisfied: termcolor>=1.1 in /usr/local/lib/python3.6/dist-packages (from detectron2==0.1.3) (1.1.0)\n",
            "Requirement already satisfied: cloudpickle in /usr/local/lib/python3.6/dist-packages (from detectron2==0.1.3) (1.3.0)\n",
            "Requirement already satisfied: tabulate in /usr/local/lib/python3.6/dist-packages (from detectron2==0.1.3) (0.8.7)\n",
            "Requirement already satisfied: tqdm>4.29.0 in /usr/local/lib/python3.6/dist-packages (from detectron2==0.1.3) (4.41.1)\n",
            "Collecting mock\n",
            "  Downloading https://files.pythonhosted.org/packages/cd/74/d72daf8dff5b6566db857cfd088907bb0355f5dd2914c4b3ef065c790735/mock-4.0.2-py3-none-any.whl\n",
            "Requirement already satisfied: tensorboard in /usr/local/lib/python3.6/dist-packages (from detectron2==0.1.3) (2.2.1)\n",
            "Collecting yacs>=0.1.6\n",
            "  Downloading https://files.pythonhosted.org/packages/81/3b/40e876afde9f5ffa1cfdce10565aba85b0dc2e067ed551dfb566cfee6d4d/yacs-0.1.7-py3-none-any.whl\n",
            "Requirement already satisfied: pyparsing>=2.1.4 in /usr/local/lib/python3.6/dist-packages (from pydot->detectron2==0.1.3) (2.4.7)\n",
            "Requirement already satisfied: kiwisolver>=1.0.1 in /usr/local/lib/python3.6/dist-packages (from matplotlib->detectron2==0.1.3) (1.2.0)\n",
            "Requirement already satisfied: cycler>=0.10 in /usr/local/lib/python3.6/dist-packages (from matplotlib->detectron2==0.1.3) (0.10.0)\n",
            "Requirement already satisfied: numpy>=1.11 in /usr/local/lib/python3.6/dist-packages (from matplotlib->detectron2==0.1.3) (1.18.4)\n",
            "Requirement already satisfied: python-dateutil>=2.1 in /usr/local/lib/python3.6/dist-packages (from matplotlib->detectron2==0.1.3) (2.8.1)\n",
            "Requirement already satisfied: pyyaml>=5.1 in /usr/local/lib/python3.6/dist-packages (from fvcore>=0.1.1->detectron2==0.1.3) (5.1)\n",
            "Collecting portalocker\n",
            "  Downloading https://files.pythonhosted.org/packages/53/84/7b3146ec6378d28abc73ab484f09f47dfa008ad6f03f33d90a369f880e25/portalocker-1.7.0-py2.py3-none-any.whl\n",
            "Requirement already satisfied: setuptools>=41.0.0 in /usr/local/lib/python3.6/dist-packages (from tensorboard->detectron2==0.1.3) (46.3.0)\n",
            "Requirement already satisfied: werkzeug>=0.11.15 in /usr/local/lib/python3.6/dist-packages (from tensorboard->detectron2==0.1.3) (1.0.1)\n",
            "Requirement already satisfied: requests<3,>=2.21.0 in /usr/local/lib/python3.6/dist-packages (from tensorboard->detectron2==0.1.3) (2.23.0)\n",
            "Requirement already satisfied: six>=1.10.0 in /usr/local/lib/python3.6/dist-packages (from tensorboard->detectron2==0.1.3) (1.12.0)\n",
            "Requirement already satisfied: google-auth-oauthlib<0.5,>=0.4.1 in /usr/local/lib/python3.6/dist-packages (from tensorboard->detectron2==0.1.3) (0.4.1)\n",
            "Requirement already satisfied: grpcio>=1.24.3 in /usr/local/lib/python3.6/dist-packages (from tensorboard->detectron2==0.1.3) (1.29.0)\n",
            "Requirement already satisfied: markdown>=2.6.8 in /usr/local/lib/python3.6/dist-packages (from tensorboard->detectron2==0.1.3) (3.2.2)\n",
            "Requirement already satisfied: tensorboard-plugin-wit>=1.6.0 in /usr/local/lib/python3.6/dist-packages (from tensorboard->detectron2==0.1.3) (1.6.0.post3)\n",
            "Requirement already satisfied: absl-py>=0.4 in /usr/local/lib/python3.6/dist-packages (from tensorboard->detectron2==0.1.3) (0.9.0)\n",
            "Requirement already satisfied: wheel>=0.26; python_version >= \"3\" in /usr/local/lib/python3.6/dist-packages (from tensorboard->detectron2==0.1.3) (0.34.2)\n",
            "Requirement already satisfied: google-auth<2,>=1.6.3 in /usr/local/lib/python3.6/dist-packages (from tensorboard->detectron2==0.1.3) (1.7.2)\n",
            "Requirement already satisfied: protobuf>=3.6.0 in /usr/local/lib/python3.6/dist-packages (from tensorboard->detectron2==0.1.3) (3.10.0)\n",
            "Requirement already satisfied: urllib3!=1.25.0,!=1.25.1,<1.26,>=1.21.1 in /usr/local/lib/python3.6/dist-packages (from requests<3,>=2.21.0->tensorboard->detectron2==0.1.3) (1.24.3)\n",
            "Requirement already satisfied: idna<3,>=2.5 in /usr/local/lib/python3.6/dist-packages (from requests<3,>=2.21.0->tensorboard->detectron2==0.1.3) (2.9)\n",
            "Requirement already satisfied: certifi>=2017.4.17 in /usr/local/lib/python3.6/dist-packages (from requests<3,>=2.21.0->tensorboard->detectron2==0.1.3) (2020.4.5.1)\n",
            "Requirement already satisfied: chardet<4,>=3.0.2 in /usr/local/lib/python3.6/dist-packages (from requests<3,>=2.21.0->tensorboard->detectron2==0.1.3) (3.0.4)\n",
            "Requirement already satisfied: requests-oauthlib>=0.7.0 in /usr/local/lib/python3.6/dist-packages (from google-auth-oauthlib<0.5,>=0.4.1->tensorboard->detectron2==0.1.3) (1.3.0)\n",
            "Requirement already satisfied: importlib-metadata; python_version < \"3.8\" in /usr/local/lib/python3.6/dist-packages (from markdown>=2.6.8->tensorboard->detectron2==0.1.3) (1.6.0)\n",
            "Requirement already satisfied: rsa<4.1,>=3.1.4 in /usr/local/lib/python3.6/dist-packages (from google-auth<2,>=1.6.3->tensorboard->detectron2==0.1.3) (4.0)\n",
            "Requirement already satisfied: cachetools<3.2,>=2.0.0 in /usr/local/lib/python3.6/dist-packages (from google-auth<2,>=1.6.3->tensorboard->detectron2==0.1.3) (3.1.1)\n",
            "Requirement already satisfied: pyasn1-modules>=0.2.1 in /usr/local/lib/python3.6/dist-packages (from google-auth<2,>=1.6.3->tensorboard->detectron2==0.1.3) (0.2.8)\n",
            "Requirement already satisfied: oauthlib>=3.0.0 in /usr/local/lib/python3.6/dist-packages (from requests-oauthlib>=0.7.0->google-auth-oauthlib<0.5,>=0.4.1->tensorboard->detectron2==0.1.3) (3.1.0)\n",
            "Requirement already satisfied: zipp>=0.5 in /usr/local/lib/python3.6/dist-packages (from importlib-metadata; python_version < \"3.8\"->markdown>=2.6.8->tensorboard->detectron2==0.1.3) (3.1.0)\n",
            "Requirement already satisfied: pyasn1>=0.1.3 in /usr/local/lib/python3.6/dist-packages (from rsa<4.1,>=3.1.4->google-auth<2,>=1.6.3->tensorboard->detectron2==0.1.3) (0.4.8)\n",
            "Building wheels for collected packages: fvcore\n",
            "  Building wheel for fvcore (setup.py) ... \u001b[?25l\u001b[?25hdone\n",
            "  Created wheel for fvcore: filename=fvcore-0.1.1.post200513-cp36-none-any.whl size=40893 sha256=eb33698f29acc1819d84ce6f883fd5947bc9448c05cb590068342f98925331e6\n",
            "  Stored in directory: /root/.cache/pip/wheels/a2/f6/77/551770c4b8cd75e9335cd0acf59c08d60a8684048b19da6702\n",
            "Successfully built fvcore\n",
            "Installing collected packages: yacs, portalocker, fvcore, mock, detectron2\n",
            "Successfully installed detectron2-0.1.3+cu101 fvcore-0.1.1.post200513 mock-4.0.2 portalocker-1.7.0 yacs-0.1.7\n"
          ],
          "name": "stdout"
        }
      ]
    },
    {
      "cell_type": "code",
      "metadata": {
        "id": "hBzZkqcSYRLx",
        "colab_type": "code",
        "colab": {}
      },
      "source": [
        "import glob\n",
        "import multiprocessing as mp\n",
        "import os\n",
        "import time\n",
        "import cv2\n",
        "import tqdm\n",
        "\n",
        "import PIL.Image\n",
        "from IPython.display import clear_output, Image, display"
      ],
      "execution_count": 0,
      "outputs": []
    },
    {
      "cell_type": "code",
      "metadata": {
        "id": "kgz1NHe2ZhFb",
        "colab_type": "code",
        "colab": {}
      },
      "source": [
        "# You may need to restart your runtime prior to this, to let your installation take effect\n",
        "# Some basic setup:\n",
        "# Setup detectron2 logger\n",
        "import detectron2\n",
        "from detectron2.utils.logger import setup_logger\n",
        "setup_logger()\n",
        "\n",
        "# import some common libraries\n",
        "import numpy as np\n",
        "import cv2\n",
        "import random\n",
        "from google.colab.patches import cv2_imshow\n",
        "\n",
        "# import some common detectron2 utilities\n",
        "from detectron2 import model_zoo\n",
        "from detectron2.engine import DefaultPredictor\n",
        "from detectron2.config import get_cfg\n",
        "from detectron2.utils.visualizer import Visualizer\n",
        "from detectron2.data import MetadataCatalog"
      ],
      "execution_count": 0,
      "outputs": []
    },
    {
      "cell_type": "code",
      "metadata": {
        "id": "jLcfQyGnYRL1",
        "colab_type": "code",
        "colab": {
          "base_uri": "https://localhost:8080/",
          "height": 334
        },
        "outputId": "94636d72-e7d5-4138-a64c-a7c927682a3a"
      },
      "source": [
        "from detectron2.config import get_cfg\n",
        "from detectron2.data.detection_utils import read_image\n",
        "from detectron2.utils.logger import setup_logger\n",
        "\n",
        "from detectron2.demo.predictor import VisualizationDemo"
      ],
      "execution_count": 8,
      "outputs": [
        {
          "output_type": "error",
          "ename": "ModuleNotFoundError",
          "evalue": "ignored",
          "traceback": [
            "\u001b[0;31m---------------------------------------------------------------------------\u001b[0m",
            "\u001b[0;31mModuleNotFoundError\u001b[0m                       Traceback (most recent call last)",
            "\u001b[0;32m<ipython-input-8-e37d68dc0227>\u001b[0m in \u001b[0;36m<module>\u001b[0;34m()\u001b[0m\n\u001b[1;32m      3\u001b[0m \u001b[0;32mfrom\u001b[0m \u001b[0mdetectron2\u001b[0m\u001b[0;34m.\u001b[0m\u001b[0mutils\u001b[0m\u001b[0;34m.\u001b[0m\u001b[0mlogger\u001b[0m \u001b[0;32mimport\u001b[0m \u001b[0msetup_logger\u001b[0m\u001b[0;34m\u001b[0m\u001b[0;34m\u001b[0m\u001b[0m\n\u001b[1;32m      4\u001b[0m \u001b[0;34m\u001b[0m\u001b[0m\n\u001b[0;32m----> 5\u001b[0;31m \u001b[0;32mfrom\u001b[0m \u001b[0mdetectron2\u001b[0m\u001b[0;34m.\u001b[0m\u001b[0mdemo\u001b[0m\u001b[0;34m.\u001b[0m\u001b[0mpredictor\u001b[0m \u001b[0;32mimport\u001b[0m \u001b[0mVisualizationDemo\u001b[0m\u001b[0;34m\u001b[0m\u001b[0;34m\u001b[0m\u001b[0m\n\u001b[0m",
            "\u001b[0;31mModuleNotFoundError\u001b[0m: No module named 'detectron2.demo'",
            "",
            "\u001b[0;31m---------------------------------------------------------------------------\u001b[0;32m\nNOTE: If your import is failing due to a missing package, you can\nmanually install dependencies using either !pip or !apt.\n\nTo view examples of installing some common dependencies, click the\n\"Open Examples\" button below.\n\u001b[0;31m---------------------------------------------------------------------------\u001b[0m\n"
          ]
        }
      ]
    },
    {
      "cell_type": "code",
      "metadata": {
        "id": "2mJyIat2byTx",
        "colab_type": "code",
        "colab": {
          "base_uri": "https://localhost:8080/",
          "height": 34
        },
        "outputId": "102655be-be9d-47da-e43f-e8b33570273e"
      },
      "source": [
        "#!find /usr/local/lib/python3.6/dist-packages/detectron2/ -name 'predictor*'\n",
        "!ls /usr/local/lib/python3.6/dist-packages/detectron2/config/\n"
      ],
      "execution_count": 20,
      "outputs": [
        {
          "output_type": "stream",
          "text": [
            "compat.py  config.py  defaults.py  __init__.py\t__pycache__\n"
          ],
          "name": "stdout"
        }
      ]
    },
    {
      "cell_type": "code",
      "metadata": {
        "id": "C6OPa-SqYRL4",
        "colab_type": "code",
        "colab": {}
      },
      "source": [
        "def setup_cfg(config_file, opts, confidence_threshold=0.5):\n",
        "    # load config from file and command-line arguments\n",
        "    cfg = get_cfg()\n",
        "    cfg.merge_from_file(config_file)\n",
        "    cfg.merge_from_list(opts)\n",
        "    # Set score_threshold for builtin models\n",
        "    cfg.MODEL.RETINANET.SCORE_THRESH_TEST = confidence_threshold\n",
        "    cfg.MODEL.ROI_HEADS.SCORE_THRESH_TEST = confidence_threshold\n",
        "    cfg.MODEL.PANOPTIC_FPN.COMBINE.INSTANCES_CONFIDENCE_THRESH = confidence_threshold\n",
        "    cfg.freeze()\n",
        "    return cfg\n"
      ],
      "execution_count": 0,
      "outputs": []
    },
    {
      "cell_type": "code",
      "metadata": {
        "id": "pwN-JYNsYRL6",
        "colab_type": "code",
        "colab": {
          "base_uri": "https://localhost:8080/",
          "height": 358
        },
        "outputId": "052c2d1c-67ee-4df2-8468-855230b198bb"
      },
      "source": [
        "base = '/usr/local/lib/python3.6/dist-packages/detectron2/'\n",
        "detectron_base = base \n",
        "\n",
        "# for instance segmentation\n",
        "config_file = os.path.join(detectron_base,'config/quick_schedules/mask_rcnn_R_50_FPN_inference_acc_test.yaml')\n",
        "opts = ['MODEL.WEIGHTS', 'detectron2://COCO-InstanceSegmentation/mask_rcnn_R_50_FPN_3x/137849600/model_final_f10217.pkl', 'MODEL.DEVICE', 'cpu'] \n",
        "cfg = setup_cfg(config_file, opts)\n",
        "demo = VisualizationDemo(cfg)"
      ],
      "execution_count": 24,
      "outputs": [
        {
          "output_type": "error",
          "ename": "AssertionError",
          "evalue": "ignored",
          "traceback": [
            "\u001b[0;31m---------------------------------------------------------------------------\u001b[0m",
            "\u001b[0;31mAssertionError\u001b[0m                            Traceback (most recent call last)",
            "\u001b[0;32m<ipython-input-24-8fe8badf77ee>\u001b[0m in \u001b[0;36m<module>\u001b[0;34m()\u001b[0m\n\u001b[1;32m      5\u001b[0m \u001b[0mconfig_file\u001b[0m \u001b[0;34m=\u001b[0m \u001b[0mos\u001b[0m\u001b[0;34m.\u001b[0m\u001b[0mpath\u001b[0m\u001b[0;34m.\u001b[0m\u001b[0mjoin\u001b[0m\u001b[0;34m(\u001b[0m\u001b[0mdetectron_base\u001b[0m\u001b[0;34m,\u001b[0m\u001b[0;34m'config/quick_schedules/mask_rcnn_R_50_FPN_inference_acc_test.yaml'\u001b[0m\u001b[0;34m)\u001b[0m\u001b[0;34m\u001b[0m\u001b[0;34m\u001b[0m\u001b[0m\n\u001b[1;32m      6\u001b[0m \u001b[0mopts\u001b[0m \u001b[0;34m=\u001b[0m \u001b[0;34m[\u001b[0m\u001b[0;34m'MODEL.WEIGHTS'\u001b[0m\u001b[0;34m,\u001b[0m \u001b[0;34m'detectron2://COCO-InstanceSegmentation/mask_rcnn_R_50_FPN_3x/137849600/model_final_f10217.pkl'\u001b[0m\u001b[0;34m,\u001b[0m \u001b[0;34m'MODEL.DEVICE'\u001b[0m\u001b[0;34m,\u001b[0m \u001b[0;34m'cpu'\u001b[0m\u001b[0;34m]\u001b[0m\u001b[0;34m\u001b[0m\u001b[0;34m\u001b[0m\u001b[0m\n\u001b[0;32m----> 7\u001b[0;31m \u001b[0mcfg\u001b[0m \u001b[0;34m=\u001b[0m \u001b[0msetup_cfg\u001b[0m\u001b[0;34m(\u001b[0m\u001b[0mconfig_file\u001b[0m\u001b[0;34m,\u001b[0m \u001b[0mopts\u001b[0m\u001b[0;34m)\u001b[0m\u001b[0;34m\u001b[0m\u001b[0;34m\u001b[0m\u001b[0m\n\u001b[0m\u001b[1;32m      8\u001b[0m \u001b[0mdemo\u001b[0m \u001b[0;34m=\u001b[0m \u001b[0mVisualizationDemo\u001b[0m\u001b[0;34m(\u001b[0m\u001b[0mcfg\u001b[0m\u001b[0;34m)\u001b[0m\u001b[0;34m\u001b[0m\u001b[0;34m\u001b[0m\u001b[0m\n",
            "\u001b[0;32m<ipython-input-22-693267145a93>\u001b[0m in \u001b[0;36msetup_cfg\u001b[0;34m(config_file, opts, confidence_threshold)\u001b[0m\n\u001b[1;32m      2\u001b[0m     \u001b[0;31m# load config from file and command-line arguments\u001b[0m\u001b[0;34m\u001b[0m\u001b[0;34m\u001b[0m\u001b[0;34m\u001b[0m\u001b[0m\n\u001b[1;32m      3\u001b[0m     \u001b[0mcfg\u001b[0m \u001b[0;34m=\u001b[0m \u001b[0mget_cfg\u001b[0m\u001b[0;34m(\u001b[0m\u001b[0;34m)\u001b[0m\u001b[0;34m\u001b[0m\u001b[0;34m\u001b[0m\u001b[0m\n\u001b[0;32m----> 4\u001b[0;31m     \u001b[0mcfg\u001b[0m\u001b[0;34m.\u001b[0m\u001b[0mmerge_from_file\u001b[0m\u001b[0;34m(\u001b[0m\u001b[0mconfig_file\u001b[0m\u001b[0;34m)\u001b[0m\u001b[0;34m\u001b[0m\u001b[0;34m\u001b[0m\u001b[0m\n\u001b[0m\u001b[1;32m      5\u001b[0m     \u001b[0mcfg\u001b[0m\u001b[0;34m.\u001b[0m\u001b[0mmerge_from_list\u001b[0m\u001b[0;34m(\u001b[0m\u001b[0mopts\u001b[0m\u001b[0;34m)\u001b[0m\u001b[0;34m\u001b[0m\u001b[0;34m\u001b[0m\u001b[0m\n\u001b[1;32m      6\u001b[0m     \u001b[0;31m# Set score_threshold for builtin models\u001b[0m\u001b[0;34m\u001b[0m\u001b[0;34m\u001b[0m\u001b[0;34m\u001b[0m\u001b[0m\n",
            "\u001b[0;32m/usr/local/lib/python3.6/dist-packages/detectron2/config/config.py\u001b[0m in \u001b[0;36mmerge_from_file\u001b[0;34m(self, cfg_filename, allow_unsafe)\u001b[0m\n\u001b[1;32m     23\u001b[0m     \u001b[0;31m# Note that the default value of allow_unsafe is changed to True\u001b[0m\u001b[0;34m\u001b[0m\u001b[0;34m\u001b[0m\u001b[0;34m\u001b[0m\u001b[0m\n\u001b[1;32m     24\u001b[0m     \u001b[0;32mdef\u001b[0m \u001b[0mmerge_from_file\u001b[0m\u001b[0;34m(\u001b[0m\u001b[0mself\u001b[0m\u001b[0;34m,\u001b[0m \u001b[0mcfg_filename\u001b[0m\u001b[0;34m:\u001b[0m \u001b[0mstr\u001b[0m\u001b[0;34m,\u001b[0m \u001b[0mallow_unsafe\u001b[0m\u001b[0;34m:\u001b[0m \u001b[0mbool\u001b[0m \u001b[0;34m=\u001b[0m \u001b[0;32mTrue\u001b[0m\u001b[0;34m)\u001b[0m \u001b[0;34m->\u001b[0m \u001b[0;32mNone\u001b[0m\u001b[0;34m:\u001b[0m\u001b[0;34m\u001b[0m\u001b[0;34m\u001b[0m\u001b[0m\n\u001b[0;32m---> 25\u001b[0;31m         \u001b[0;32massert\u001b[0m \u001b[0mPathManager\u001b[0m\u001b[0;34m.\u001b[0m\u001b[0misfile\u001b[0m\u001b[0;34m(\u001b[0m\u001b[0mcfg_filename\u001b[0m\u001b[0;34m)\u001b[0m\u001b[0;34m,\u001b[0m \u001b[0;34mf\"Config file '{cfg_filename}' does not exist!\"\u001b[0m\u001b[0;34m\u001b[0m\u001b[0;34m\u001b[0m\u001b[0m\n\u001b[0m\u001b[1;32m     26\u001b[0m         \u001b[0mloaded_cfg\u001b[0m \u001b[0;34m=\u001b[0m \u001b[0m_CfgNode\u001b[0m\u001b[0;34m.\u001b[0m\u001b[0mload_yaml_with_base\u001b[0m\u001b[0;34m(\u001b[0m\u001b[0mcfg_filename\u001b[0m\u001b[0;34m,\u001b[0m \u001b[0mallow_unsafe\u001b[0m\u001b[0;34m=\u001b[0m\u001b[0mallow_unsafe\u001b[0m\u001b[0;34m)\u001b[0m\u001b[0;34m\u001b[0m\u001b[0;34m\u001b[0m\u001b[0m\n\u001b[1;32m     27\u001b[0m         \u001b[0mloaded_cfg\u001b[0m \u001b[0;34m=\u001b[0m \u001b[0mtype\u001b[0m\u001b[0;34m(\u001b[0m\u001b[0mself\u001b[0m\u001b[0;34m)\u001b[0m\u001b[0;34m(\u001b[0m\u001b[0mloaded_cfg\u001b[0m\u001b[0;34m)\u001b[0m\u001b[0;34m\u001b[0m\u001b[0;34m\u001b[0m\u001b[0m\n",
            "\u001b[0;31mAssertionError\u001b[0m: Config file '/usr/local/lib/python3.6/dist-packages/detectron2/config/quick_schedules/mask_rcnn_R_50_FPN_inference_acc_test.yaml' does not exist!"
          ]
        }
      ]
    },
    {
      "cell_type": "code",
      "metadata": {
        "id": "70BRmb8dYRL8",
        "colab_type": "code",
        "colab": {}
      },
      "source": [
        "# for keypoints detection\n",
        "config_file = os.path.join(detectron_base,'configs/quick_schedules/keypoint_rcnn_R_50_FPN_inference_acc_test.yaml')\n",
        "opts = ['MODEL.WEIGHTS', 'detectron2://COCO-Keypoints/keypoint_rcnn_R_50_FPN_3x/137849621/model_final_a6e10b.pkl', 'MODEL.DEVICE', 'cpu']\n",
        "cfg = setup_cfg(config_file, opts)\n",
        "demo = VisualizationDemo(cfg)"
      ],
      "execution_count": 0,
      "outputs": []
    },
    {
      "cell_type": "code",
      "metadata": {
        "id": "DoHsUJk-YRL-",
        "colab_type": "code",
        "colab": {}
      },
      "source": [
        "# for panoptic segmentation\n",
        "config_file = os.path.join(detectron_base,'configs/quick_schedules/panoptic_fpn_R_50_training_acc_test.yaml')\n",
        "opts = ['MODEL.WEIGHTS', \"detectron2://COCO-PanopticSegmentation/panoptic_fpn_R_50_3x/139514569/model_final_c10459.pkl\", 'MODEL.DEVICE', 'cpu']\n",
        "cfg = setup_cfg(config_file, opts)\n",
        "demo = VisualizationDemo(cfg)"
      ],
      "execution_count": 0,
      "outputs": []
    },
    {
      "cell_type": "code",
      "metadata": {
        "id": "3x_bLGazYRMB",
        "colab_type": "code",
        "colab": {}
      },
      "source": [
        "output = None\n",
        "video_input = None\n",
        "webcam = False\n",
        "\n",
        "mp.set_start_method(\"spawn\", force=True)"
      ],
      "execution_count": 0,
      "outputs": []
    },
    {
      "cell_type": "code",
      "metadata": {
        "id": "e5EmOkMYYRMD",
        "colab_type": "code",
        "colab": {}
      },
      "source": [
        "cfg = setup_cfg(config_file, opts)\n",
        "demo = VisualizationDemo(cfg)"
      ],
      "execution_count": 0,
      "outputs": []
    },
    {
      "cell_type": "code",
      "metadata": {
        "id": "6K92RJdjYRMG",
        "colab_type": "code",
        "colab": {},
        "outputId": "e5fe0db4-df4f-4481-d51e-025ae25114bb"
      },
      "source": [
        "inputs = [\n",
        "#    \"/Users/asakawa/Pictures/19960222_002.jpg\", \n",
        "    \"1996Jerusalem_wall_of_tears.png\",\n",
        "#    \"/Users/asakawa/Pictures/19960222_004.jpg\",\n",
        "#    \"/Users/asakawa/Pictures/19960222_006.jpg\",\n",
        "]\n",
        "#output = \"2020-0426keypoint_detection.jpg\"\n",
        "output = \"2020-0426panoptic_segmentation.jpg\"\n",
        "#output = \"2020-0426instance_segmentation.jpg\"\n",
        "#output = None\n",
        "\n",
        "for path in tqdm.tqdm(inputs):\n",
        "    img = read_image(path, format=\"BGR\")\n",
        "    start_time = time.time()\n",
        "    predictions, visualized_output = demo.run_on_image(img)\n",
        "    if output:\n",
        "        if os.path.isdir(output):\n",
        "            assert os.path.isdir(output), output\n",
        "            out_filename = os.path.join(args.output, os.path.basename(path))\n",
        "        else:\n",
        "            assert len(inputs) == 1, \"Please specify a directory with output\"\n",
        "            out_filename = output\n",
        "            visualized_output.save(out_filename)\n",
        "    else:\n",
        "        img = (visualized_output.get_image()[:, :, ::-1])\n",
        "        display(PIL.Image.fromarray(img))\n"
      ],
      "execution_count": 0,
      "outputs": [
        {
          "output_type": "stream",
          "text": [
            "100%|██████████| 1/1 [00:06<00:00,  6.39s/it]\n"
          ],
          "name": "stderr"
        }
      ]
    },
    {
      "cell_type": "code",
      "metadata": {
        "id": "ShVzXdW9YRMI",
        "colab_type": "code",
        "colab": {}
      },
      "source": [
        "import detectron2.model_zoo as model_zoo\n",
        "\n",
        "help(model_zoo.get) # config_path, trained: bool = False)\n",
        "model_zoo.get('../configs/quick_schedules/semantic_R_50_FPN_inference_acc_test.yaml', trained=False)\n"
      ],
      "execution_count": 0,
      "outputs": []
    },
    {
      "cell_type": "code",
      "metadata": {
        "id": "kAcsXO58YRMK",
        "colab_type": "code",
        "colab": {}
      },
      "source": [
        "\"\"\"\n",
        "    CONFIG_PATH_TO_URL_SUFFIX = {\n",
        "        # COCO Detection with Faster R-CNN\n",
        "        \"COCO-Detection/faster_rcnn_R_50_C4_1x.yaml\": \"137257644/model_final_721ade.pkl\",\n",
        "        \"COCO-Detection/faster_rcnn_R_50_DC5_1x.yaml\": \"137847829/model_final_51d356.pkl\",\n",
        "        \"COCO-Detection/faster_rcnn_R_50_FPN_1x.yaml\": \"137257794/model_final_b275ba.pkl\",\n",
        "        \"COCO-Detection/faster_rcnn_R_50_C4_3x.yaml\": \"137849393/model_final_f97cb7.pkl\",\n",
        "        \"COCO-Detection/faster_rcnn_R_50_DC5_3x.yaml\": \"137849425/model_final_68d202.pkl\",\n",
        "        \"COCO-Detection/faster_rcnn_R_50_FPN_3x.yaml\": \"137849458/model_final_280758.pkl\",\n",
        "        \"COCO-Detection/faster_rcnn_R_101_C4_3x.yaml\": \"138204752/model_final_298dad.pkl\",\n",
        "        \"COCO-Detection/faster_rcnn_R_101_DC5_3x.yaml\": \"138204841/model_final_3e0943.pkl\",\n",
        "        \"COCO-Detection/faster_rcnn_R_101_FPN_3x.yaml\": \"137851257/model_final_f6e8b1.pkl\",\n",
        "        \"COCO-Detection/faster_rcnn_X_101_32x8d_FPN_3x.yaml\": \"139173657/model_final_68b088.pkl\",\n",
        "        # COCO Detection with RetinaNet\n",
        "        \"COCO-Detection/retinanet_R_50_FPN_1x.yaml\": \"137593951/model_final_b796dc.pkl\",\n",
        "        \"COCO-Detection/retinanet_R_50_FPN_3x.yaml\": \"137849486/model_final_4cafe0.pkl\",\n",
        "        \"COCO-Detection/retinanet_R_101_FPN_3x.yaml\": \"138363263/model_final_59f53c.pkl\",\n",
        "        # COCO Detection with RPN and Fast R-CNN\n",
        "        \"COCO-Detection/rpn_R_50_C4_1x.yaml\": \"137258005/model_final_450694.pkl\",\n",
        "        \"COCO-Detection/rpn_R_50_FPN_1x.yaml\": \"137258492/model_final_02ce48.pkl\",\n",
        "        \"COCO-Detection/fast_rcnn_R_50_FPN_1x.yaml\": \"137635226/model_final_e5f7ce.pkl\",\n",
        "        # COCO Instance Segmentation Baselines with Mask R-CNN\n",
        "        \"COCO-InstanceSegmentation/mask_rcnn_R_50_C4_1x.yaml\": \"137259246/model_final_9243eb.pkl\",\n",
        "        \"COCO-InstanceSegmentation/mask_rcnn_R_50_DC5_1x.yaml\": \"137260150/model_final_4f86c3.pkl\",\n",
        "        \"COCO-InstanceSegmentation/mask_rcnn_R_50_FPN_1x.yaml\": \"137260431/model_final_a54504.pkl\",\n",
        "        \"COCO-InstanceSegmentation/mask_rcnn_R_50_C4_3x.yaml\": \"137849525/model_final_4ce675.pkl\",\n",
        "        \"COCO-InstanceSegmentation/mask_rcnn_R_50_DC5_3x.yaml\": \"137849551/model_final_84107b.pkl\",\n",
        "        \"COCO-InstanceSegmentation/mask_rcnn_R_50_FPN_3x.yaml\": \"137849600/model_final_f10217.pkl\",\n",
        "        \"COCO-InstanceSegmentation/mask_rcnn_R_101_C4_3x.yaml\": \"138363239/model_final_a2914c.pkl\",\n",
        "        \"COCO-InstanceSegmentation/mask_rcnn_R_101_DC5_3x.yaml\": \"138363294/model_final_0464b7.pkl\",\n",
        "        \"COCO-InstanceSegmentation/mask_rcnn_R_101_FPN_3x.yaml\": \"138205316/model_final_a3ec72.pkl\",\n",
        "        \"COCO-InstanceSegmentation/mask_rcnn_X_101_32x8d_FPN_3x.yaml\": \"139653917/model_final_2d9806.pkl\",  # noqa\n",
        "        # COCO Person Keypoint Detection Baselines with Keypoint R-CNN\n",
        "        \"COCO-Keypoints/keypoint_rcnn_R_50_FPN_1x.yaml\": \"137261548/model_final_04e291.pkl\",\n",
        "        \"COCO-Keypoints/keypoint_rcnn_R_50_FPN_3x.yaml\": \"137849621/model_final_a6e10b.pkl\",\n",
        "        \"COCO-Keypoints/keypoint_rcnn_R_101_FPN_3x.yaml\": \"138363331/model_final_997cc7.pkl\",\n",
        "        \"COCO-Keypoints/keypoint_rcnn_X_101_32x8d_FPN_3x.yaml\": \"139686956/model_final_5ad38f.pkl\",\n",
        "        # COCO Panoptic Segmentation Baselines with Panoptic FPN\n",
        "        \"COCO-PanopticSegmentation/panoptic_fpn_R_50_1x.yaml\": \"139514544/model_final_dbfeb4.pkl\",\n",
        "        \"COCO-PanopticSegmentation/panoptic_fpn_R_50_3x.yaml\": \"139514569/model_final_c10459.pkl\",\n",
        "        \"COCO-PanopticSegmentation/panoptic_fpn_R_101_3x.yaml\": \"139514519/model_final_cafdb1.pkl\",\n",
        "        # LVIS Instance Segmentation Baselines with Mask R-CNN\n",
        "        \"LVIS-InstanceSegmentation/mask_rcnn_R_50_FPN_1x.yaml\": \"144219072/model_final_571f7c.pkl\",\n",
        "        \"LVIS-InstanceSegmentation/mask_rcnn_R_101_FPN_1x.yaml\": \"144219035/model_final_824ab5.pkl\",\n",
        "        \"LVIS-InstanceSegmentation/mask_rcnn_X_101_32x8d_FPN_1x.yaml\": \"144219108/model_final_5e3439.pkl\",  # noqa\n",
        "        # Cityscapes & Pascal VOC Baselines\n",
        "        \"Cityscapes/mask_rcnn_R_50_FPN.yaml\": \"142423278/model_final_af9cf5.pkl\",\n",
        "        \"PascalVOC-Detection/faster_rcnn_R_50_C4.yaml\": \"142202221/model_final_b1acc2.pkl\",\n",
        "        # Other Settings\n",
        "        \"Misc/mask_rcnn_R_50_FPN_1x_dconv_c3-c5.yaml\": \"138602867/model_final_65c703.pkl\",\n",
        "        \"Misc/mask_rcnn_R_50_FPN_3x_dconv_c3-c5.yaml\": \"144998336/model_final_821d0b.pkl\",\n",
        "        \"Misc/cascade_mask_rcnn_R_50_FPN_1x.yaml\": \"138602847/model_final_e9d89b.pkl\",\n",
        "        \"Misc/cascade_mask_rcnn_R_50_FPN_3x.yaml\": \"144998488/model_final_480dd8.pkl\",\n",
        "        \"Misc/mask_rcnn_R_50_FPN_3x_syncbn.yaml\": \"169527823/model_final_3b3c51.pkl\",\n",
        "        \"Misc/mask_rcnn_R_50_FPN_3x_gn.yaml\": \"138602888/model_final_dc5d9e.pkl\",\n",
        "        \"Misc/scratch_mask_rcnn_R_50_FPN_3x_gn.yaml\": \"138602908/model_final_01ca85.pkl\",\n",
        "        \"Misc/panoptic_fpn_R_101_dconv_cascade_gn_3x.yaml\": \"139797668/model_final_be35db.pkl\",\n",
        "        \"Misc/cascade_mask_rcnn_X_152_32x8d_FPN_IN5k_gn_dconv.yaml\": \"18131413/model_0039999_e76410.pkl\",  # noqa\n",
        "        # D1 Comparisons\n",
        "        \"Detectron1-Comparisons/faster_rcnn_R_50_FPN_noaug_1x.yaml\": \"137781054/model_final_7ab50c.pkl\",  # noqa\n",
        "\"\"\""
      ],
      "execution_count": 0,
      "outputs": []
    },
    {
      "cell_type": "markdown",
      "metadata": {
        "id": "AFhfsgJUYRMN",
        "colab_type": "text"
      },
      "source": [
        "```bash\n",
        "ls ../configs/quick_schedules \n",
        "README.md                                                 mask_rcnn_R_50_FPN_inference_acc_test.yaml\n",
        "fast_rcnn_R_50_FPN_inference_acc_test.yaml                mask_rcnn_R_50_FPN_instant_test.yaml\n",
        "fast_rcnn_R_50_FPN_instant_test.yaml                      mask_rcnn_R_50_FPN_training_acc_test.yaml\n",
        "keypoint_rcnn_R_50_FPN_inference_acc_test.yaml            panoptic_fpn_R_50_inference_acc_test.yaml\n",
        "keypoint_rcnn_R_50_FPN_instant_test.yaml                  panoptic_fpn_R_50_instant_test.yaml\n",
        "keypoint_rcnn_R_50_FPN_normalized_training_acc_test.yaml  panoptic_fpn_R_50_training_acc_test.yaml\n",
        "keypoint_rcnn_R_50_FPN_training_acc_test.yaml             retinanet_R_50_FPN_inference_acc_test.yaml\n",
        "mask_rcnn_R_50_C4_GCN_instant_test.yaml                   retinanet_R_50_FPN_instant_test.yaml\n",
        "mask_rcnn_R_50_C4_GCV_instant_test.yaml                   rpn_R_50_FPN_inference_acc_test.yaml\n",
        "mask_rcnn_R_50_C4_inference_acc_test.yaml                 rpn_R_50_FPN_instant_test.yaml\n",
        "mask_rcnn_R_50_C4_instant_test.yaml                       semantic_R_50_FPN_inference_acc_test.yaml\n",
        "mask_rcnn_R_50_C4_training_acc_test.yaml                  semantic_R_50_FPN_instant_test.yaml\n",
        "mask_rcnn_R_50_DC5_inference_acc_test.yaml                semantic_R_50_FPN_training_acc_test.yaml\n",
        "```"
      ]
    },
    {
      "cell_type": "code",
      "metadata": {
        "id": "yavemT9NYRMN",
        "colab_type": "code",
        "colab": {}
      },
      "source": [
        ""
      ],
      "execution_count": 0,
      "outputs": []
    }
  ]
}