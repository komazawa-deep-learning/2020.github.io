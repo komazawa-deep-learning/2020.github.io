{
  "nbformat": 4,
  "nbformat_minor": 0,
  "metadata": {
    "kernelspec": {
      "display_name": "Python 3",
      "language": "python",
      "name": "python3"
    },
    "language_info": {
      "codemirror_mode": {
        "name": "ipython",
        "version": 3
      },
      "file_extension": ".py",
      "mimetype": "text/x-python",
      "name": "python",
      "nbconvert_exporter": "python",
      "pygments_lexer": "ipython3",
      "version": "3.7.7"
    },
    "colab": {
      "name": "Copy of 2020-0512covid-19_demo.ipynb",
      "provenance": [],
      "include_colab_link": true
    }
  },
  "cells": [
    {
      "cell_type": "markdown",
      "metadata": {
        "id": "view-in-github",
        "colab_type": "text"
      },
      "source": [
        "<a href=\"https://colab.research.google.com/github/komazawa-deep-learning/komazawa-deep-learning.github.io/blob/master/notebooks/2020_0512covid_19_demo.ipynb\" target=\"_parent\"><img src=\"https://colab.research.google.com/assets/colab-badge.svg\" alt=\"Open In Colab\"/></a>"
      ]
    },
    {
      "cell_type": "markdown",
      "metadata": {
        "id": "eZijuBok3Koa",
        "colab_type": "text"
      },
      "source": [
        "# 中国共産党ウィルス covid-19 の動向を知りながら colab に慣れよう\n",
        "- date: 2020-0518\n",
        "- author: 浅川伸一\n",
        "- source: https://towardsdatascience.com/say-goodbye-to-excel-a-simple-evaluation-of-python-grid-studio-using-covid-19-data-90624f322b81\n",
        "- note: 駒澤大学 2020 年度教材"
      ]
    },
    {
      "cell_type": "markdown",
      "metadata": {
        "id": "UbLQzgIu3Kob",
        "colab_type": "text"
      },
      "source": [
        "# まずは世界編"
      ]
    },
    {
      "cell_type": "code",
      "metadata": {
        "id": "XFSkuoAk3Kob",
        "colab_type": "code",
        "colab": {}
      },
      "source": [
        "import numpy as np\n",
        "import pandas as pd\n",
        "import json"
      ],
      "execution_count": null,
      "outputs": []
    },
    {
      "cell_type": "code",
      "metadata": {
        "id": "qvwL6e5z3Kof",
        "colab_type": "code",
        "colab": {
          "base_uri": "https://localhost:8080/",
          "height": 153
        },
        "outputId": "e85953d4-4c97-4740-cb33-ae25b9f27dfb"
      },
      "source": [
        "# Read all data\n",
        "df = pd.read_csv(\"https://opendata.ecdc.europa.eu/covid19/casedistribution/csv\").dropna()\n",
        "print(df.head())"
      ],
      "execution_count": null,
      "outputs": [
        {
          "output_type": "stream",
          "text": [
            "      dateRep  ...  Cumulative_number_for_14_days_of_COVID-19_cases_per_100000\n",
            "0  27/07/2020  ...                                           4.763187         \n",
            "1  26/07/2020  ...                                           4.484546         \n",
            "2  25/07/2020  ...                                           4.389913         \n",
            "3  24/07/2020  ...                                           5.309955         \n",
            "4  23/07/2020  ...                                           5.946098         \n",
            "\n",
            "[5 rows x 12 columns]\n"
          ],
          "name": "stdout"
        }
      ]
    },
    {
      "cell_type": "code",
      "metadata": {
        "id": "RIOAym2L3Koi",
        "colab_type": "code",
        "colab": {}
      },
      "source": [
        "# Convert date to integer (because of Grid Studio limitation)\n",
        "df.dateRep = pd.to_datetime(df.dateRep, format='%d/%m/%Y').dt.strftime('%Y%m%d').astype(int)"
      ],
      "execution_count": null,
      "outputs": []
    },
    {
      "cell_type": "code",
      "metadata": {
        "id": "GKadYqBN3Kok",
        "colab_type": "code",
        "colab": {
          "base_uri": "https://localhost:8080/",
          "height": 456
        },
        "outputId": "3d0bb28b-4a2b-4e2b-e5bf-cd8fc59a7d3d"
      },
      "source": [
        "# 日本のデータを表示\n",
        "df_jp = df[df.countriesAndTerritories == 'Japan']\n",
        "df_jp"
      ],
      "execution_count": null,
      "outputs": [
        {
          "output_type": "execute_result",
          "data": {
            "text/html": [
              "<div>\n",
              "<style scoped>\n",
              "    .dataframe tbody tr th:only-of-type {\n",
              "        vertical-align: middle;\n",
              "    }\n",
              "\n",
              "    .dataframe tbody tr th {\n",
              "        vertical-align: top;\n",
              "    }\n",
              "\n",
              "    .dataframe thead th {\n",
              "        text-align: right;\n",
              "    }\n",
              "</style>\n",
              "<table border=\"1\" class=\"dataframe\">\n",
              "  <thead>\n",
              "    <tr style=\"text-align: right;\">\n",
              "      <th></th>\n",
              "      <th>dateRep</th>\n",
              "      <th>day</th>\n",
              "      <th>month</th>\n",
              "      <th>year</th>\n",
              "      <th>cases</th>\n",
              "      <th>deaths</th>\n",
              "      <th>countriesAndTerritories</th>\n",
              "      <th>geoId</th>\n",
              "      <th>countryterritoryCode</th>\n",
              "      <th>popData2019</th>\n",
              "      <th>continentExp</th>\n",
              "      <th>Cumulative_number_for_14_days_of_COVID-19_cases_per_100000</th>\n",
              "    </tr>\n",
              "  </thead>\n",
              "  <tbody>\n",
              "    <tr>\n",
              "      <th>15726</th>\n",
              "      <td>20200727</td>\n",
              "      <td>27</td>\n",
              "      <td>7</td>\n",
              "      <td>2020</td>\n",
              "      <td>607</td>\n",
              "      <td>0</td>\n",
              "      <td>Japan</td>\n",
              "      <td>JP</td>\n",
              "      <td>JPN</td>\n",
              "      <td>126860299.0</td>\n",
              "      <td>Asia</td>\n",
              "      <td>6.401530</td>\n",
              "    </tr>\n",
              "    <tr>\n",
              "      <th>15727</th>\n",
              "      <td>20200726</td>\n",
              "      <td>26</td>\n",
              "      <td>7</td>\n",
              "      <td>2020</td>\n",
              "      <td>596</td>\n",
              "      <td>3</td>\n",
              "      <td>Japan</td>\n",
              "      <td>JP</td>\n",
              "      <td>JPN</td>\n",
              "      <td>126860299.0</td>\n",
              "      <td>Asia</td>\n",
              "      <td>6.211557</td>\n",
              "    </tr>\n",
              "    <tr>\n",
              "      <th>15728</th>\n",
              "      <td>20200725</td>\n",
              "      <td>25</td>\n",
              "      <td>7</td>\n",
              "      <td>2020</td>\n",
              "      <td>830</td>\n",
              "      <td>1</td>\n",
              "      <td>Japan</td>\n",
              "      <td>JP</td>\n",
              "      <td>JPN</td>\n",
              "      <td>126860299.0</td>\n",
              "      <td>Asia</td>\n",
              "      <td>6.035773</td>\n",
              "    </tr>\n",
              "    <tr>\n",
              "      <th>15729</th>\n",
              "      <td>20200724</td>\n",
              "      <td>24</td>\n",
              "      <td>7</td>\n",
              "      <td>2020</td>\n",
              "      <td>927</td>\n",
              "      <td>2</td>\n",
              "      <td>Japan</td>\n",
              "      <td>JP</td>\n",
              "      <td>JPN</td>\n",
              "      <td>126860299.0</td>\n",
              "      <td>Asia</td>\n",
              "      <td>5.704700</td>\n",
              "    </tr>\n",
              "    <tr>\n",
              "      <th>15730</th>\n",
              "      <td>20200723</td>\n",
              "      <td>23</td>\n",
              "      <td>7</td>\n",
              "      <td>2020</td>\n",
              "      <td>726</td>\n",
              "      <td>1</td>\n",
              "      <td>Japan</td>\n",
              "      <td>JP</td>\n",
              "      <td>JPN</td>\n",
              "      <td>126860299.0</td>\n",
              "      <td>Asia</td>\n",
              "      <td>5.248293</td>\n",
              "    </tr>\n",
              "    <tr>\n",
              "      <th>...</th>\n",
              "      <td>...</td>\n",
              "      <td>...</td>\n",
              "      <td>...</td>\n",
              "      <td>...</td>\n",
              "      <td>...</td>\n",
              "      <td>...</td>\n",
              "      <td>...</td>\n",
              "      <td>...</td>\n",
              "      <td>...</td>\n",
              "      <td>...</td>\n",
              "      <td>...</td>\n",
              "      <td>...</td>\n",
              "    </tr>\n",
              "    <tr>\n",
              "      <th>15918</th>\n",
              "      <td>20200117</td>\n",
              "      <td>17</td>\n",
              "      <td>1</td>\n",
              "      <td>2020</td>\n",
              "      <td>0</td>\n",
              "      <td>0</td>\n",
              "      <td>Japan</td>\n",
              "      <td>JP</td>\n",
              "      <td>JPN</td>\n",
              "      <td>126860299.0</td>\n",
              "      <td>Asia</td>\n",
              "      <td>0.000788</td>\n",
              "    </tr>\n",
              "    <tr>\n",
              "      <th>15919</th>\n",
              "      <td>20200116</td>\n",
              "      <td>16</td>\n",
              "      <td>1</td>\n",
              "      <td>2020</td>\n",
              "      <td>0</td>\n",
              "      <td>0</td>\n",
              "      <td>Japan</td>\n",
              "      <td>JP</td>\n",
              "      <td>JPN</td>\n",
              "      <td>126860299.0</td>\n",
              "      <td>Asia</td>\n",
              "      <td>0.000788</td>\n",
              "    </tr>\n",
              "    <tr>\n",
              "      <th>15920</th>\n",
              "      <td>20200115</td>\n",
              "      <td>15</td>\n",
              "      <td>1</td>\n",
              "      <td>2020</td>\n",
              "      <td>1</td>\n",
              "      <td>0</td>\n",
              "      <td>Japan</td>\n",
              "      <td>JP</td>\n",
              "      <td>JPN</td>\n",
              "      <td>126860299.0</td>\n",
              "      <td>Asia</td>\n",
              "      <td>0.000788</td>\n",
              "    </tr>\n",
              "    <tr>\n",
              "      <th>15921</th>\n",
              "      <td>20200114</td>\n",
              "      <td>14</td>\n",
              "      <td>1</td>\n",
              "      <td>2020</td>\n",
              "      <td>0</td>\n",
              "      <td>0</td>\n",
              "      <td>Japan</td>\n",
              "      <td>JP</td>\n",
              "      <td>JPN</td>\n",
              "      <td>126860299.0</td>\n",
              "      <td>Asia</td>\n",
              "      <td>0.000000</td>\n",
              "    </tr>\n",
              "    <tr>\n",
              "      <th>15922</th>\n",
              "      <td>20200113</td>\n",
              "      <td>13</td>\n",
              "      <td>1</td>\n",
              "      <td>2020</td>\n",
              "      <td>0</td>\n",
              "      <td>0</td>\n",
              "      <td>Japan</td>\n",
              "      <td>JP</td>\n",
              "      <td>JPN</td>\n",
              "      <td>126860299.0</td>\n",
              "      <td>Asia</td>\n",
              "      <td>0.000000</td>\n",
              "    </tr>\n",
              "  </tbody>\n",
              "</table>\n",
              "<p>197 rows × 12 columns</p>\n",
              "</div>"
            ],
            "text/plain": [
              "        dateRep  ...  Cumulative_number_for_14_days_of_COVID-19_cases_per_100000\n",
              "15726  20200727  ...                                           6.401530         \n",
              "15727  20200726  ...                                           6.211557         \n",
              "15728  20200725  ...                                           6.035773         \n",
              "15729  20200724  ...                                           5.704700         \n",
              "15730  20200723  ...                                           5.248293         \n",
              "...         ...  ...                                                ...         \n",
              "15918  20200117  ...                                           0.000788         \n",
              "15919  20200116  ...                                           0.000788         \n",
              "15920  20200115  ...                                           0.000788         \n",
              "15921  20200114  ...                                           0.000000         \n",
              "15922  20200113  ...                                           0.000000         \n",
              "\n",
              "[197 rows x 12 columns]"
            ]
          },
          "metadata": {
            "tags": []
          },
          "execution_count": 4
        }
      ]
    },
    {
      "cell_type": "code",
      "metadata": {
        "id": "kRRskU-A3Kon",
        "colab_type": "code",
        "colab": {
          "base_uri": "https://localhost:8080/",
          "height": 215
        },
        "outputId": "17f71f97-d571-4fa5-c868-8cd34a6c9b4b"
      },
      "source": [
        "#df_jp['cases'].plot()\n",
        "import matplotlib.pyplot as plt\n",
        "\n",
        "last = 100\n",
        "d = [x for x in range(len(df_jp['dateRep'][:last]))]\n",
        "plt.plot(df_jp['deaths'][:last])  # 死者数のプロット"
      ],
      "execution_count": null,
      "outputs": [
        {
          "output_type": "error",
          "ename": "NameError",
          "evalue": "ignored",
          "traceback": [
            "\u001b[0;31m---------------------------------------------------------------------------\u001b[0m",
            "\u001b[0;31mNameError\u001b[0m                                 Traceback (most recent call last)",
            "\u001b[0;32m<ipython-input-20-a4900d7c7af3>\u001b[0m in \u001b[0;36m<module>\u001b[0;34m()\u001b[0m\n\u001b[1;32m      3\u001b[0m \u001b[0;34m\u001b[0m\u001b[0m\n\u001b[1;32m      4\u001b[0m \u001b[0mlast\u001b[0m \u001b[0;34m=\u001b[0m \u001b[0;36m100\u001b[0m\u001b[0;34m\u001b[0m\u001b[0;34m\u001b[0m\u001b[0m\n\u001b[0;32m----> 5\u001b[0;31m \u001b[0md\u001b[0m \u001b[0;34m=\u001b[0m \u001b[0;34m[\u001b[0m\u001b[0mx\u001b[0m \u001b[0;32mfor\u001b[0m \u001b[0mx\u001b[0m \u001b[0;32min\u001b[0m \u001b[0mrange\u001b[0m\u001b[0;34m(\u001b[0m\u001b[0mlen\u001b[0m\u001b[0;34m(\u001b[0m\u001b[0mdf_jp\u001b[0m\u001b[0;34m[\u001b[0m\u001b[0;34m'dateRep'\u001b[0m\u001b[0;34m]\u001b[0m\u001b[0;34m[\u001b[0m\u001b[0;34m:\u001b[0m\u001b[0mlast\u001b[0m\u001b[0;34m]\u001b[0m\u001b[0;34m)\u001b[0m\u001b[0;34m)\u001b[0m\u001b[0;34m]\u001b[0m\u001b[0;34m\u001b[0m\u001b[0;34m\u001b[0m\u001b[0m\n\u001b[0m\u001b[1;32m      6\u001b[0m \u001b[0mplt\u001b[0m\u001b[0;34m.\u001b[0m\u001b[0mplot\u001b[0m\u001b[0;34m(\u001b[0m\u001b[0mdf_jp\u001b[0m\u001b[0;34m[\u001b[0m\u001b[0;34m'deaths'\u001b[0m\u001b[0;34m]\u001b[0m\u001b[0;34m[\u001b[0m\u001b[0;34m:\u001b[0m\u001b[0mlast\u001b[0m\u001b[0;34m]\u001b[0m\u001b[0;34m)\u001b[0m  \u001b[0;31m# 死者数のプロット\u001b[0m\u001b[0;34m\u001b[0m\u001b[0;34m\u001b[0m\u001b[0m\n",
            "\u001b[0;31mNameError\u001b[0m: name 'df_jp' is not defined"
          ]
        }
      ]
    },
    {
      "cell_type": "code",
      "metadata": {
        "id": "3TkGNcgA3Kop",
        "colab_type": "code",
        "colab": {
          "base_uri": "https://localhost:8080/",
          "height": 34
        },
        "outputId": "a3b80373-2cf3-49d2-c7c5-40e20f2ade9c"
      },
      "source": [
        "df_jp['deaths'].sum()  # 死者数総計"
      ],
      "execution_count": null,
      "outputs": [
        {
          "output_type": "execute_result",
          "data": {
            "text/plain": [
              "996"
            ]
          },
          "metadata": {
            "tags": []
          },
          "execution_count": 8
        }
      ]
    },
    {
      "cell_type": "code",
      "metadata": {
        "id": "1F1KiNbV3Kos",
        "colab_type": "code",
        "colab": {
          "base_uri": "https://localhost:8080/",
          "height": 34
        },
        "outputId": "2764f1e1-45e2-45a0-e172-ca6b440819bc"
      },
      "source": [
        "df['deaths'].sum()  # 全世界の死者数総計"
      ],
      "execution_count": null,
      "outputs": [
        {
          "output_type": "execute_result",
          "data": {
            "text/plain": [
              "648985"
            ]
          },
          "metadata": {
            "tags": []
          },
          "execution_count": 9
        }
      ]
    },
    {
      "cell_type": "code",
      "metadata": {
        "id": "wUKkpn-43Kou",
        "colab_type": "code",
        "colab": {
          "base_uri": "https://localhost:8080/",
          "height": 221
        },
        "outputId": "1d4d1755-d1c2-452c-94bc-f313defe97ce"
      },
      "source": [
        "#df[df.countriesAndTerritories == 'Japan']['deaths'].sum()\n",
        "df[df.countriesAndTerritories == 'Japan']['popData2019']  # 日本の人口数を表示"
      ],
      "execution_count": null,
      "outputs": [
        {
          "output_type": "execute_result",
          "data": {
            "text/plain": [
              "15726    126860299.0\n",
              "15727    126860299.0\n",
              "15728    126860299.0\n",
              "15729    126860299.0\n",
              "15730    126860299.0\n",
              "            ...     \n",
              "15918    126860299.0\n",
              "15919    126860299.0\n",
              "15920    126860299.0\n",
              "15921    126860299.0\n",
              "15922    126860299.0\n",
              "Name: popData2019, Length: 197, dtype: float64"
            ]
          },
          "metadata": {
            "tags": []
          },
          "execution_count": 10
        }
      ]
    },
    {
      "cell_type": "code",
      "metadata": {
        "id": "KgZ9Gpad3Kox",
        "colab_type": "code",
        "colab": {
          "base_uri": "https://localhost:8080/",
          "height": 394
        },
        "outputId": "d3d4a277-d78f-48bf-8867-2029b1222d53"
      },
      "source": [
        "countries = set(sorted(df.countriesAndTerritories))\n",
        "# 登録されている国名を表示\n",
        "for i, c in  enumerate(sorted(countries)):\n",
        "    if (i+1) % 10  == 0:\n",
        "        print('')\n",
        "    print(c,end=\" \")"
      ],
      "execution_count": null,
      "outputs": [
        {
          "output_type": "stream",
          "text": [
            "Afghanistan Albania Algeria Andorra Angola Anguilla Antigua_and_Barbuda Argentina Armenia \n",
            "Aruba Australia Austria Azerbaijan Bahamas Bahrain Bangladesh Barbados Belarus Belgium \n",
            "Belize Benin Bermuda Bhutan Bolivia Bonaire, Saint Eustatius and Saba Bosnia_and_Herzegovina Botswana Brazil British_Virgin_Islands \n",
            "Brunei_Darussalam Bulgaria Burkina_Faso Burundi Cambodia Cameroon Canada Cape_Verde Cayman_Islands Central_African_Republic \n",
            "Chad Chile China Colombia Comoros Congo Costa_Rica Cote_dIvoire Croatia Cuba \n",
            "Curaçao Cyprus Czechia Democratic_Republic_of_the_Congo Denmark Djibouti Dominica Dominican_Republic Ecuador Egypt \n",
            "El_Salvador Equatorial_Guinea Eritrea Estonia Eswatini Ethiopia Falkland_Islands_(Malvinas) Faroe_Islands Fiji Finland \n",
            "France French_Polynesia Gabon Gambia Georgia Germany Ghana Gibraltar Greece Greenland \n",
            "Grenada Guam Guatemala Guernsey Guinea Guinea_Bissau Guyana Haiti Holy_See Honduras \n",
            "Hungary Iceland India Indonesia Iran Iraq Ireland Isle_of_Man Israel Italy \n",
            "Jamaica Japan Jersey Jordan Kazakhstan Kenya Kosovo Kuwait Kyrgyzstan Laos \n",
            "Latvia Lebanon Lesotho Liberia Libya Liechtenstein Lithuania Luxembourg Madagascar Malawi \n",
            "Malaysia Maldives Mali Malta Mauritania Mauritius Mexico Moldova Monaco Mongolia \n",
            "Montenegro Montserrat Morocco Mozambique Myanmar Nepal Netherlands New_Caledonia New_Zealand Nicaragua \n",
            "Niger Nigeria North_Macedonia Northern_Mariana_Islands Norway Oman Pakistan Palestine Panama Papua_New_Guinea \n",
            "Paraguay Peru Philippines Poland Portugal Puerto_Rico Qatar Romania Russia Rwanda \n",
            "Saint_Kitts_and_Nevis Saint_Lucia Saint_Vincent_and_the_Grenadines San_Marino Sao_Tome_and_Principe Saudi_Arabia Senegal Serbia Seychelles Sierra_Leone \n",
            "Singapore Sint_Maarten Slovakia Slovenia Somalia South_Africa South_Korea South_Sudan Spain Sri_Lanka \n",
            "Sudan Suriname Sweden Switzerland Syria Taiwan Tajikistan Thailand Timor_Leste Togo \n",
            "Trinidad_and_Tobago Tunisia Turkey Turks_and_Caicos_islands Uganda Ukraine United_Arab_Emirates United_Kingdom United_Republic_of_Tanzania United_States_Virgin_Islands \n",
            "United_States_of_America Uruguay Uzbekistan Venezuela Vietnam Western_Sahara Yemen Zambia Zimbabwe "
          ],
          "name": "stdout"
        }
      ]
    },
    {
      "cell_type": "code",
      "metadata": {
        "id": "SdUM8PuV3Koz",
        "colab_type": "code",
        "colab": {
          "base_uri": "https://localhost:8080/",
          "height": 102
        },
        "outputId": "76f3209d-4a31-46b1-9a22-0f04b4dd84f5"
      },
      "source": [
        "unit = 10000  # 単位を 1 万人あたりの死者数に変換するための数\n",
        "for c in ['Japan', 'Taiwan', 'United_States_of_America', 'Spain', 'Italy']:\n",
        "    death_total = df[df.countriesAndTerritories == c]['deaths'].sum()\n",
        "    population =  df[df.countriesAndTerritories == c]['popData2019'].iloc[0]\n",
        "    death_ratio = death_total / population * unit\n",
        "    print('{0:24s} {1:7d} {2:10d} {3:7.4f}'.format(c, death_total, int(population), death_ratio))"
      ],
      "execution_count": null,
      "outputs": [
        {
          "output_type": "stream",
          "text": [
            "Japan                        996  126860299  0.0785\n",
            "Taiwan                         7   23773881  0.0029\n",
            "United_States_of_America  146935  329064917  4.4652\n",
            "Spain                      28432   46937060  6.0575\n",
            "Italy                      35107   60359546  5.8163\n"
          ],
          "name": "stdout"
        }
      ]
    },
    {
      "cell_type": "markdown",
      "metadata": {
        "id": "9wx4zu793Ko1",
        "colab_type": "text"
      },
      "source": [
        "# ここから先は東京都のデータ"
      ]
    },
    {
      "cell_type": "code",
      "metadata": {
        "id": "VXS_NR1Z3Ko1",
        "colab_type": "code",
        "colab": {}
      },
      "source": [
        "import json\n",
        "import urllib.request\n",
        "\n",
        "# 東京都の感染者数は https://dev-covid19-tokyo.netlify.app/ で日々公開されている \n",
        "# このサイトのソースコードは以下の GitHub で公開されているので利用させていただく\n",
        "# source: https://github.com/tokyo-metropolitan-gov/covid19\n",
        "tokyo_json_file = 'https://raw.githubusercontent.com/tokyo-metropolitan-gov/covid19/development/data/data.json'\n",
        "\n",
        "# 実際のデータ入手\n",
        "req = urllib.request.Request(tokyo_json_file)\n",
        "with urllib.request.urlopen(req) as response:\n",
        "    data = json.load(response)"
      ],
      "execution_count": null,
      "outputs": []
    },
    {
      "cell_type": "code",
      "metadata": {
        "id": "3WdxXuLA3Ko4",
        "colab_type": "code",
        "colab": {
          "base_uri": "https://localhost:8080/",
          "height": 187
        },
        "outputId": "122037e6-7633-4492-f858-3b798aeaead9"
      },
      "source": [
        "# 入手したデータの中身を確認\n",
        "for k in data.keys():\n",
        "    print(k)"
      ],
      "execution_count": null,
      "outputs": [
        {
          "output_type": "stream",
          "text": [
            "contacts\n",
            "querents\n",
            "patients\n",
            "patients_summary\n",
            "discharges_summary\n",
            "inspections_summary\n",
            "inspection_persons\n",
            "inspection_status_summary\n",
            "lastUpdate\n",
            "main_summary\n"
          ],
          "name": "stdout"
        }
      ]
    },
    {
      "cell_type": "code",
      "metadata": {
        "id": "gQI4CLTe5FIV",
        "colab_type": "code",
        "colab": {
          "base_uri": "https://localhost:8080/",
          "height": 272
        },
        "outputId": "f9ce60c2-e181-431e-dd0c-b1595803613b"
      },
      "source": [
        "# いくつかのデータを表示\n",
        "print(data['lastUpdate'])\n",
        "data['main_summary']"
      ],
      "execution_count": null,
      "outputs": [
        {
          "output_type": "stream",
          "text": [
            "2020/07/27 20:30\n"
          ],
          "name": "stdout"
        },
        {
          "output_type": "execute_result",
          "data": {
            "text/plain": [
              "{'attr': '検査実施人数',\n",
              " 'children': [{'attr': '陽性患者数',\n",
              "   'children': [{'attr': '入院中',\n",
              "     'children': [{'attr': '軽症・中等症', 'value': 1241},\n",
              "      {'attr': '重症', 'value': 19}],\n",
              "     'value': 1260},\n",
              "    {'attr': '退院', 'value': 8464},\n",
              "    {'attr': '死亡', 'value': 328},\n",
              "    {'attr': '宿泊療養', 'value': 212},\n",
              "    {'attr': '自宅療養', 'value': 483},\n",
              "    {'attr': '調査中', 'value': 598}],\n",
              "   'date': '2020/7/27 20:30',\n",
              "   'value': 11345}],\n",
              " 'value': 16351}"
            ]
          },
          "metadata": {
            "tags": []
          },
          "execution_count": 15
        }
      ]
    },
    {
      "cell_type": "code",
      "metadata": {
        "id": "m95s704H3Ko6",
        "colab_type": "code",
        "colab": {
          "base_uri": "https://localhost:8080/",
          "height": 221
        },
        "outputId": "507d9b83-1d9f-484e-d916-d20d6e2b8bce"
      },
      "source": [
        "# 別のデータを表示\n",
        "data['main_summary']['children']"
      ],
      "execution_count": null,
      "outputs": [
        {
          "output_type": "execute_result",
          "data": {
            "text/plain": [
              "[{'attr': '陽性患者数',\n",
              "  'children': [{'attr': '入院中',\n",
              "    'children': [{'attr': '軽症・中等症', 'value': 1241},\n",
              "     {'attr': '重症', 'value': 19}],\n",
              "    'value': 1260},\n",
              "   {'attr': '退院', 'value': 8464},\n",
              "   {'attr': '死亡', 'value': 328},\n",
              "   {'attr': '宿泊療養', 'value': 212},\n",
              "   {'attr': '自宅療養', 'value': 483},\n",
              "   {'attr': '調査中', 'value': 598}],\n",
              "  'date': '2020/7/27 20:30',\n",
              "  'value': 11345}]"
            ]
          },
          "metadata": {
            "tags": []
          },
          "execution_count": 16
        }
      ]
    },
    {
      "cell_type": "code",
      "metadata": {
        "id": "XaiB73po3Ko8",
        "colab_type": "code",
        "colab": {
          "base_uri": "https://localhost:8080/",
          "height": 34
        },
        "outputId": "54728552-d305-4098-86f9-b6f112b1e128"
      },
      "source": [
        "# 過去 n_last 日分の感染者データを表示\n",
        "n_last = 14\n",
        "data['patients_summary']['data'][-n_last:]\n",
        "for x in data['patients_summary']['data'][-n_last:]:\n",
        "    print(x['小計'], end=\", \")"
      ],
      "execution_count": null,
      "outputs": [
        {
          "output_type": "stream",
          "text": [
            "143, 165, 286, 293, 290, 188, 168, 237, 238, 366, 260, 295, 239, 131, "
          ],
          "name": "stdout"
        }
      ]
    },
    {
      "cell_type": "code",
      "metadata": {
        "id": "jowVeB3X3Ko-",
        "colab_type": "code",
        "colab": {
          "base_uri": "https://localhost:8080/",
          "height": 374
        },
        "outputId": "48e807d7-054b-49ef-90fd-bb80ab4b6d11"
      },
      "source": [
        "# 過去 n_last 日分の感染者数を描画\n",
        "n_last = 150\n",
        "\n",
        "plt.figure(figsize=(22, 6)) # 画像のサイズ指定 (横(インチ), 縦(インチ))\n",
        "patients_ = [x['小計'] for x in data['patients_summary']['data'][-n_last:]]\n",
        "#plt.plot(patients_)\n",
        "plt.bar(range(len(patients_)), patients_)\n",
        "save_file_name = '2020-0518Tokyo_covid19_patients_summary.png'\n",
        "plt.savefig(save_file_name)"
      ],
      "execution_count": null,
      "outputs": [
        {
          "output_type": "display_data",
          "data": {
            "image/png": "[encoded data removed]",
            "text/plain": [
              "<Figure size 1584x432 with 1 Axes>"
            ]
          },
          "metadata": {
            "tags": [],
            "needs_background": "light"
          }
        }
      ]
    },
    {
      "cell_type": "code",
      "metadata": {
        "id": "-QRJCmHH6tf-",
        "colab_type": "code",
        "colab": {}
      },
      "source": [
        "# 自分の PC にグラフをダウンロード\n",
        "from google.colab import files\n",
        "files.download(save_file_name)"
      ],
      "execution_count": null,
      "outputs": []
    },
    {
      "cell_type": "code",
      "metadata": {
        "id": "9Q9XqI-w3KpA",
        "colab_type": "code",
        "colab": {}
      },
      "source": [
        "plt.plot(patients_)"
      ],
      "execution_count": null,
      "outputs": []
    },
    {
      "cell_type": "code",
      "metadata": {
        "id": "F8Mo45Cg3KpG",
        "colab_type": "code",
        "colab": {}
      },
      "source": [
        "tokyo_json_file2 = 'https://raw.githubusercontent.com/tokyo-metropolitan-gov/covid19/development/data/positive_status.json'\n",
        "\n",
        "# 実際のデータ入手\n",
        "req = urllib.request.Request(tokyo_json_file2)\n",
        "with urllib.request.urlopen(req) as response:\n",
        "    data2 = json.load(response)"
      ],
      "execution_count": null,
      "outputs": []
    },
    {
      "cell_type": "code",
      "metadata": {
        "id": "qWIQX2UQpWC9",
        "colab_type": "code",
        "colab": {
          "base_uri": "https://localhost:8080/",
          "height": 326
        },
        "outputId": "d6c0de64-7eaa-4310-9e9f-ea43859bd5b2"
      },
      "source": [
        "!pip install japanize_matplotlib"
      ],
      "execution_count": null,
      "outputs": [
        {
          "output_type": "stream",
          "text": [
            "Collecting japanize_matplotlib\n",
            "\u001b[?25l  Downloading https://files.pythonhosted.org/packages/2c/aa/3b24d54bd02e25d63c8f23bb316694e1aad7ffdc07ba296e7c9be2f6837d/japanize-matplotlib-1.1.2.tar.gz (4.1MB)\n",
            "\u001b[K     |████████████████████████████████| 4.1MB 2.6MB/s \n",
            "\u001b[?25hRequirement already satisfied: matplotlib in /usr/local/lib/python3.6/dist-packages (from japanize_matplotlib) (3.2.2)\n",
            "Requirement already satisfied: cycler>=0.10 in /usr/local/lib/python3.6/dist-packages (from matplotlib->japanize_matplotlib) (0.10.0)\n",
            "Requirement already satisfied: python-dateutil>=2.1 in /usr/local/lib/python3.6/dist-packages (from matplotlib->japanize_matplotlib) (2.8.1)\n",
            "Requirement already satisfied: numpy>=1.11 in /usr/local/lib/python3.6/dist-packages (from matplotlib->japanize_matplotlib) (1.18.5)\n",
            "Requirement already satisfied: kiwisolver>=1.0.1 in /usr/local/lib/python3.6/dist-packages (from matplotlib->japanize_matplotlib) (1.2.0)\n",
            "Requirement already satisfied: pyparsing!=2.0.4,!=2.1.2,!=2.1.6,>=2.0.1 in /usr/local/lib/python3.6/dist-packages (from matplotlib->japanize_matplotlib) (2.4.7)\n",
            "Requirement already satisfied: six in /usr/local/lib/python3.6/dist-packages (from cycler>=0.10->matplotlib->japanize_matplotlib) (1.15.0)\n",
            "Building wheels for collected packages: japanize-matplotlib\n",
            "  Building wheel for japanize-matplotlib (setup.py) ... \u001b[?25l\u001b[?25hdone\n",
            "  Created wheel for japanize-matplotlib: filename=japanize_matplotlib-1.1.2-cp36-none-any.whl size=4120191 sha256=55e12896c0ee7f94213c94792e4957047d4d888486eddd8236477444ab09bce0\n",
            "  Stored in directory: /root/.cache/pip/wheels/9c/f9/fc/bc052ce743a03f94ccc7fda73d1d389ce98216c6ffaaf65afc\n",
            "Successfully built japanize-matplotlib\n",
            "Installing collected packages: japanize-matplotlib\n",
            "Successfully installed japanize-matplotlib-1.1.2\n"
          ],
          "name": "stdout"
        }
      ]
    },
    {
      "cell_type": "code",
      "metadata": {
        "id": "LRRBBGgyjIU9",
        "colab_type": "code",
        "colab": {
          "base_uri": "https://localhost:8080/",
          "height": 456
        },
        "outputId": "7765d0ff-9c59-4176-9c55-784c38b900c0"
      },
      "source": [
        "import japanize_matplotlib\n",
        "\n",
        "len(data2['data'])  # 154\n",
        "type(data2['data'][-3:])  # list\n",
        "#print(data2['data'][-3:]['severe_case'])\n",
        "\n",
        "plt.figure(figsize=(20, 6)) # 画像のサイズ指定 (横(インチ), 縦(インチ))\n",
        "n_last = 120\n",
        "severe_cases = [x['severe_case'] for x in data2['data']]\n",
        "plt.bar(range(len(severe_cases[-n_last:])), severe_cases[-n_last:])\n",
        "plt.title('重症者数の推移')\n"
      ],
      "execution_count": null,
      "outputs": [
        {
          "output_type": "stream",
          "text": [
            "/usr/local/lib/python3.6/dist-packages/japanize_matplotlib/japanize_matplotlib.py:15: MatplotlibDeprecationWarning: \n",
            "The createFontList function was deprecated in Matplotlib 3.2 and will be removed two minor releases later. Use FontManager.addfont instead.\n",
            "  font_list = font_manager.createFontList(font_files)\n"
          ],
          "name": "stderr"
        },
        {
          "output_type": "execute_result",
          "data": {
            "text/plain": [
              "Text(0.5, 1.0, '重症者数の推移')"
            ]
          },
          "metadata": {
            "tags": []
          },
          "execution_count": 52
        },
        {
          "output_type": "display_data",
          "data": {
            "image/png": "[encoded data removed]",
            "text/plain": [
              "<Figure size 1440x432 with 1 Axes>"
            ]
          },
          "metadata": {
            "tags": [],
            "needs_background": "light"
          }
        }
      ]
    },
    {
      "cell_type": "code",
      "metadata": {
        "id": "9v6ACkbejJKA",
        "colab_type": "code",
        "colab": {
          "base_uri": "https://localhost:8080/",
          "height": 282
        },
        "outputId": "17788171-bd05-493f-948b-ad3e5b64f520"
      },
      "source": [
        "hosp = [x['hospitalized'] for x in data2['data']]  # ['hospitalized']\n",
        "plt.plot(hosp[-n_last:])"
      ],
      "execution_count": null,
      "outputs": [
        {
          "output_type": "execute_result",
          "data": {
            "text/plain": [
              "[<matplotlib.lines.Line2D at 0x7f10e78695c0>]"
            ]
          },
          "metadata": {
            "tags": []
          },
          "execution_count": 39
        },
        {
          "output_type": "display_data",
          "data": {
            "image/png": "[encoded data removed]",
            "text/plain": [
              "<Figure size 432x288 with 1 Axes>"
            ]
          },
          "metadata": {
            "tags": [],
            "needs_background": "light"
          }
        }
      ]
    },
    {
      "cell_type": "code",
      "metadata": {
        "id": "vzsVymn8lFwm",
        "colab_type": "code",
        "colab": {}
      },
      "source": [
        ""
      ],
      "execution_count": null,
      "outputs": []
    }
  ]
}