{
  "nbformat": 4,
  "nbformat_minor": 0,
  "metadata": {
    "colab": {
      "name": "2020-0624BERTja_test.ipynb",
      "private_outputs": true,
      "provenance": [],
      "authorship_tag": "ABX9TyOz5ejOAOpPO3n5UoiuXUwC",
      "include_colab_link": true
    },
    "kernelspec": {
      "name": "python3",
      "display_name": "Python 3"
    }
  },
  "cells": [
    {
      "cell_type": "markdown",
      "metadata": {
        "id": "view-in-github",
        "colab_type": "text"
      },
      "source": [
        "<a href=\"https://colab.research.google.com/github/komazawa-deep-learning/komazawa-deep-learning.github.io/blob/master/notebooks/2020_0624BERTja_test.ipynb\" target=\"_parent\"><img src=\"https://colab.research.google.com/assets/colab-badge.svg\" alt=\"Open In Colab\"/></a>"
      ]
    },
    {
      "cell_type": "markdown",
      "metadata": {
        "id": "m6rzcDCA2vT4"
      },
      "source": [
        "# juman and bert \n",
        "from https://yag-ays.github.io/project/pytorch_bert_japanese/\n",
        "\n",
        "## 注意\n",
        "- 必要なファイルのダウンロードに時間がかかります。\n",
        "- 自習時間に実行してください。\n",
        "- 通信環境によっては数時間必要です。3時間以上かかる場合もあると予想します。\n",
        "- 放っておくと colab の接続が切断してしまうので，30 分以上放置しないようにしてください。\n",
        "- 切断してしまうと，もう一度最初からやり直しかも知れません"
      ]
    },
    {
      "cell_type": "code",
      "metadata": {
        "id": "CemrRklc2YBT"
      },
      "source": [
        "# 日本語分かち書きのための juman のソースコードをダウンロード\n",
        "!wget http://lotus.kuee.kyoto-u.ac.jp/nl-resource/jumanpp/jumanpp-1.01.tar.xz   "
      ],
      "execution_count": null,
      "outputs": []
    },
    {
      "cell_type": "code",
      "metadata": {
        "id": "Q66Zg-Mv2ZLw"
      },
      "source": [
        "# 上でダウンロードしたファイルを解凍\n",
        "!tar xJvf jumanpp-1.01.tar.xz > /dev/null"
      ],
      "execution_count": null,
      "outputs": []
    },
    {
      "cell_type": "code",
      "metadata": {
        "id": "dsW1ajFoTYjt"
      },
      "source": [
        "!ls jumanpp-1.01"
      ],
      "execution_count": null,
      "outputs": []
    },
    {
      "cell_type": "code",
      "metadata": {
        "id": "-SRqGFF04RHS"
      },
      "source": [
        "# 上で解凍したファイルをコンパイルして juman を作成\n",
        "!(cd jumanpp-1.01; ./configure; make install) > /dev/null"
      ],
      "execution_count": null,
      "outputs": []
    },
    {
      "cell_type": "code",
      "metadata": {
        "id": "Tx9q4Dkn29Ym"
      },
      "source": [
        "# 上で作成した juman の 動作確認\n",
        "#!find jumanpp-1.01 -name jumanpp  # jumanpp-1.01/src/jumanpp\n",
        "#!echo $PATH\n",
        "#!export PATH=`echo $PHATH /content/jumanpp-1.01/src/`\n",
        "!echo \"私もあさって日曜最終日\" | jumanpp\n",
        "#!which jumanpp  # /usr/local/bin/jumanpp"
      ],
      "execution_count": null,
      "outputs": []
    },
    {
      "cell_type": "code",
      "metadata": {
        "id": "-n6CROBd9zYh"
      },
      "source": [
        "# 日本語化した BERT のダウンロード special thanks to 京都大学 黒橋，村脇研究室\n",
        "# ここに時間がかかります。\n",
        "!wget http://nlp.ist.i.kyoto-u.ac.jp/DLcounter/lime.cgi?down=http://nlp.ist.i.kyoto-u.ac.jp/nl-resource/JapaneseBertPretrainedModel/Japanese_L-12_H-768_A-12_E-30_BPE.zip&name=Japanese_L-12_H-768_A-12_E-30_BPE.zip"
      ],
      "execution_count": null,
      "outputs": []
    },
    {
      "cell_type": "code",
      "metadata": {
        "id": "VJi6JCCjPcNN"
      },
      "source": [
        "# 上でダウンロードした日本語化 BERT の解凍\n",
        "#!ls -l\n",
        "!mv 'lime.cgi?down=http:%2F%2Fnlp.ist.i.kyoto-u.ac.jp%2Fnl-resource%2FJapaneseBertPretrainedModel%2FJapanese_L-12_H-768_A-12_E-30_BPE.zip' Japanese_L-12_H-768_A-12_E-30_BPE.zip\n",
        "!unzip Japanese_L-12_H-768_A-12_E-30_BPE.zip"
      ],
      "execution_count": null,
      "outputs": []
    },
    {
      "cell_type": "code",
      "metadata": {
        "id": "XTGBmdk_89k2"
      },
      "source": [
        "# PyTorch 版の BERT をインストール\n",
        "!pip install pytorch-pretrained-bert\n",
        "!pip install pyknp"
      ],
      "execution_count": null,
      "outputs": []
    },
    {
      "cell_type": "code",
      "metadata": {
        "id": "ujwtkbj-292H"
      },
      "source": [
        "# 日本語化 BERT を扱うためのコードをダウンロード\n",
        "!git clone https://github.com/yagays/pytorch_bert_japanese.git"
      ],
      "execution_count": null,
      "outputs": []
    },
    {
      "cell_type": "code",
      "metadata": {
        "id": "QNu4RejC73bB"
      },
      "source": [
        "# 上でダウンロードしたファイルを適切な場所に移動する\n",
        "!cp pytorch_bert_japanese/bert_juman.py ."
      ],
      "execution_count": null,
      "outputs": []
    },
    {
      "cell_type": "code",
      "metadata": {
        "id": "OwoYgEQf75Kp"
      },
      "source": [
        "# 上でダウンロードしたファイルを輸入して準備作業はおしまい\n",
        "from bert_juman import BertWithJumanModel\n",
        "\n",
        "# 日本語化 BERT の読み込み\n",
        "bert = BertWithJumanModel(\"Japanese_L-12_H-768_A-12_E-30_BPE\")\n",
        "\n",
        "# 実験 ベクトル表現が出力されます\n",
        "bert.get_sentence_embedding(\"吾輩は猫である。\")"
      ],
      "execution_count": null,
      "outputs": []
    },
    {
      "cell_type": "code",
      "metadata": {
        "id": "xFKWD_uJ9h0v"
      },
      "source": [
        "# この下に自分でサンプル文章を入力して確認\n",
        "from scipy.spatial import distance"
      ],
      "execution_count": null,
      "outputs": []
    },
    {
      "cell_type": "code",
      "metadata": {
        "id": "m89ddqxFYN-E"
      },
      "source": [
        "# 比喩理解のデモ 文例は 中本・楠見 (2004) 比喩材料文の心理特性と分類，より\n",
        "sentence1 = '笑顔は花のようだ'\n",
        "sentence2 = '花は笑顔のようだ'\n",
        "bert1 = bert.get_sentence_embedding(sentence1)\n",
        "bert2 = bert.get_sentence_embedding(sentence2)\n",
        "print(f'文1:『{sentence1}』 と 文2:『{sentence2}』 とのコサイン距離: {distance.cosine(bert1,bert2):7.3f}')"
      ],
      "execution_count": null,
      "outputs": []
    },
    {
      "cell_type": "code",
      "metadata": {
        "id": "vdWctwyyYPCV"
      },
      "source": [
        "sentence1 = '朝顔はトランペットのようだ'\n",
        "sentence2 = 'トランペットは朝顔のようだ'\n",
        "bert1 = bert.get_sentence_embedding(sentence1)\n",
        "bert2 = bert.get_sentence_embedding(sentence2)\n",
        "print(f'文1:『{sentence1}』 と 文2:『{sentence2}』 とのコサイン距離: {distance.cosine(bert1,bert2):7.3f}')"
      ],
      "execution_count": null,
      "outputs": []
    },
    {
      "cell_type": "code",
      "metadata": {
        "id": "PXgFJNqAuOin"
      },
      "source": [
        "sentence1 = '壁ドンしてもトキメイてくれない。どうしよう'\n",
        "sentence2 = '壁ドンして告ったら付き合うことになった'\n",
        "\n",
        "bert1 = bert.get_sentence_embedding(sentence1)\n",
        "bert2 = bert.get_sentence_embedding(sentence2)\n",
        "print(f'文1:『{sentence1}』 と 文2:『{sentence2}』 とのコサイン距離: {distance.cosine(bert1,bert2):7.3f}')"
      ],
      "execution_count": null,
      "outputs": []
    },
    {
      "cell_type": "code",
      "metadata": {
        "id": "t5mWln3Dulip"
      },
      "source": [
        "sentence1 = '鳥の羽と飛行機の羽と空力学の関係性'\n",
        "sentence2 = '人間の脳とディープラーニングモデルと知性の関係性'\n",
        "\n",
        "bert1 = bert.get_sentence_embedding(sentence1)\n",
        "bert2 = bert.get_sentence_embedding(sentence2)\n",
        "print(f'文1:『{sentence1}』 と 文2:『{sentence2}』 とのコサイン距離: {distance.cosine(bert1,bert2):7.3f}')"
      ],
      "execution_count": null,
      "outputs": []
    },
    {
      "cell_type": "code",
      "metadata": {
        "id": "4i846MYzvNQN"
      },
      "source": [
        ""
      ],
      "execution_count": null,
      "outputs": []
    }
  ]
}