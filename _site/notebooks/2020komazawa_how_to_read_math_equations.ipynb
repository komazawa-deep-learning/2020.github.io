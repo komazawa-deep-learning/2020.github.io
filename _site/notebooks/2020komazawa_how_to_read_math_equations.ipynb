{
  "nbformat": 4,
  "nbformat_minor": 0,
  "metadata": {
    "colab": {
      "name": "2020komazawa_how_to_read_math_equations.ipynb",
      "provenance": [],
      "private_outputs": true,
      "collapsed_sections": [],
      "authorship_tag": "ABX9TyPRs7QHdqTHXbcpoVz0L+gs",
      "include_colab_link": true
    },
    "kernelspec": {
      "name": "python3",
      "display_name": "Python 3"
    }
  },
  "cells": [
    {
      "cell_type": "markdown",
      "metadata": {
        "id": "view-in-github",
        "colab_type": "text"
      },
      "source": [
        "<a href=\"https://colab.research.google.com/github/komazawa-deep-learning/komazawa-deep-learning.github.io/blob/master/notebooks/2020komazawa_how_to_read_math_equations.ipynb\" target=\"_parent\"><img src=\"https://colab.research.google.com/assets/colab-badge.svg\" alt=\"Open In Colab\"/></a>"
      ]
    },
    {
      "cell_type": "markdown",
      "metadata": {
        "id": "Ui6g897VkukX",
        "colab_type": "text"
      },
      "source": [
        "- date: 2020-0526\n",
        "- author: 浅川伸一\n",
        "− note: GitHub.io では数式の表示がなされない場合があるので colab にしました。\n",
        "\n",
        "# 数式の読み方\n",
        "\n",
        "- 数式の  の読み方，発音についての小ネタです。\n",
        "$f(x)$ はどのように発音すればよいのでしょうか？\n",
        "某有名教育系ユーチューバー(複数確認済) も 読み方を間違っています。\n",
        "恥をかかないように，正しく発音するようにしましょう。\n",
        "\n",
        "- $f(x)$ は **エフオブエックス** と発音します。\n",
        "エフエックスではありません。\n",
        "\n",
        "- エフエックス と発音するのは人たちは，ほぼ確実にノンネイティブ，あるいは一般常識を知らない，ナイーブ （本来の意味です。常識を知らない，経験のないド素人なという意味）な人だけでしょう。\n",
        "\n",
        "- 海外の学会で参加者と会話すると，英語が母国語である研究者は，ほぼ 100 パーセント，**エフオブエックス** と発音します。\n",
        "\n",
        "- 調べてみると，韓流アイドルグループに $f(x)$ なる [kpop グループ](http://fx.smtown.com/) があるらしいです。\n",
        "このグループは エフエックス と発音するのだそうです。無知を曝け出しています。\n",
        "\n",
        "もう少し脱線してこの授業に即して言います。\n",
        "\n",
        "## ベイズの定理\n",
        "$p(x\\vert y)$ は，$y$ が与えられたときの $x$ の値，あるいは関数 $p$ を意味します。\n",
        "この場合は **ピー オブ エックス ギブン ワイ** (f of x given y) と発音します。\n",
        "$p(x,y)$ は **ピー オブ エックス アンド ワイ** です。\n",
        "\n",
        "あるデータ $X$ が与えられたときに，仮説 $H$ が正しいかどうかを判断するためには，\n",
        "\n",
        "$$\n",
        "p(H\\vert X)=\\frac{P(H,X)}{P(X)} = \\frac{P(X\\vert H) P(H)}{\\int P(X\\vert H)P(H)\\;dH}\n",
        "$$\n",
        "\n",
        "上式を発音できますか？\n"
      ]
    },
    {
      "cell_type": "code",
      "metadata": {
        "id": "ymXx_YCKkr5N",
        "colab_type": "code",
        "colab": {}
      },
      "source": [
        ""
      ],
      "execution_count": 0,
      "outputs": []
    }
  ]
}