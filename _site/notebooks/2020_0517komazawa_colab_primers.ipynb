{
 "cells": [
  {
   "cell_type": "markdown",
   "metadata": {
    "colab_type": "text",
    "id": "view-in-github"
   },
   "source": [
    "<a href=\"https://colab.research.google.com/github/komazawa-deep-learning/komazawa-deep-learning.github.io/blob/master/notebooks/2020_0517komazawa_colab_primers.ipynb\" target=\"_parent\"><img src=\"https://colab.research.google.com/assets/colab-badge.svg\" alt=\"Open In Colab\"/></a>"
   ]
  },
  {
   "cell_type": "markdown",
   "metadata": {
    "colab_type": "text",
    "id": "DtE6_e6TVIkt"
   },
   "source": [
    "# 駒澤大学 2020年度開講 心理学特講IIIA\n",
    "- author: 浅川伸一\n",
    "- date: 2020-0517\n",
    "- note: colab の基本操作"
   ]
  },
  {
   "cell_type": "markdown",
   "metadata": {
    "colab_type": "text",
    "id": "YOnstcZa2TaK"
   },
   "source": [
    "<!--img src=\"https://koma-sso.komazawa-u.ac.jp/idp/images/header_logo.png\"-->\n",
    "![駒澤大学ロゴ](https://koma-sso.komazawa-u.ac.jp/idp/images/header_logo.png)\n",
    "\n",
    "---"
   ]
  },
  {
   "cell_type": "code",
   "execution_count": null,
   "metadata": {
    "colab": {},
    "colab_type": "code",
    "id": "aSFQ8OSNh_Dr"
   },
   "outputs": [],
   "source": [
    "import IPython\n",
    "IPython.display.Image(url=\"https://koma-sso.komazawa-u.ac.jp/idp/images/header_logo.png\")"
   ]
  },
  {
   "cell_type": "markdown",
   "metadata": {
    "colab_type": "text",
    "id": "M2lLl5gYPZ3D"
   },
   "source": [
    "# `コード` と `テキスト` の挿入\n",
    "\n",
    "# マークダウン\n",
    "\n",
    "# コピー アンド ペースト\n",
    "- Mac: Cmd + c, Cmd + v\n",
    "- Windows: Cntrl + c, Cntl + v\n",
    "\n",
    "## 行頭の `!` の意味\n",
    "\t`ls`, `pwd`, `wget`\n",
    "\n",
    "- `import colab` による download, upload\n",
    "- matplotlib PIL IPython.Image\t\n",
    "\n",
    "## ローカル ファイル システムからファイルをアップロードする\n",
    "\n",
    "```python\n",
    "from google.colab import files\n",
    "uploaded = files.upload()\n",
    "```\n",
    "\n",
    "## ローカル ファイル システムにファイルをダウンロードする\n",
    "\n",
    "```python\n",
    "from google.colab import files\n",
    "\n",
    "files.download('example.txt')\n",
    "```\n",
    "\n",
    "## Google ドライブをローカルにマウントする\n",
    "\n",
    "```python\n",
    "from google.colab import drive\n",
    "drive.mount('/content/drive')\n",
    "```\n",
    "\n",
    "## matplotlib.pyplot, IPython, cv2\n",
    "\n",
    "```python\n",
    "import cv2\n",
    "import numpy as np\n",
    "from PIL import Image\n",
    "\n",
    "img = cv2.imread(\"path/to/img.png\")\n",
    "\n",
    "# You may need to convert the color.\n",
    "img = cv2.cvtColor(img, cv2.COLOR_BGR2RGB)\n",
    "im_pil = Image.fromarray(img)\n",
    "\n",
    "# For reversing the operation:\n",
    "im_np = np.asarray(im_pil)\n",
    "```\n"
   ]
  },
  {
   "cell_type": "code",
   "execution_count": null,
   "metadata": {
    "colab": {},
    "colab_type": "code",
    "id": "OdAF0y9NQMFy"
   },
   "outputs": [],
   "source": [
    "import IPython"
   ]
  },
  {
   "cell_type": "code",
   "execution_count": null,
   "metadata": {
    "colab": {},
    "colab_type": "code",
    "id": "7TS86QCoRCyJ"
   },
   "outputs": [],
   "source": [
    "#help(IPython)\n",
    "#help(IPython.display)\n",
    "#print(dir(IPython.display))\n",
    "#help(IPython.display.Image)"
   ]
  },
  {
   "cell_type": "code",
   "execution_count": null,
   "metadata": {
    "colab": {},
    "colab_type": "code",
    "id": "KSRBj4ugRGk6"
   },
   "outputs": [],
   "source": [
    "#!wget https://upload.wikimedia.org/wikipedia/en/b/ba/Ex-machina-uk-poster.jpg\n",
    "#IPython.display.Image(filename='Ex-machina-uk-poster.jpg')"
   ]
  },
  {
   "cell_type": "code",
   "execution_count": null,
   "metadata": {
    "colab": {},
    "colab_type": "code",
    "id": "qGSplsD2R7P_"
   },
   "outputs": [],
   "source": [
    "#import matplotlib.pyplot as plt\n",
    "# #hlep(plt.imshow)\n",
    "# #help(plt.imread)\n",
    "#plt.imshow(plt.imread(fname='Ex-machina-uk-poster.jpg'))"
   ]
  },
  {
   "cell_type": "code",
   "execution_count": null,
   "metadata": {
    "colab": {},
    "colab_type": "code",
    "id": "GR4fHsAwSCYu"
   },
   "outputs": [],
   "source": [
    "import cv2"
   ]
  },
  {
   "cell_type": "code",
   "execution_count": null,
   "metadata": {
    "colab": {},
    "colab_type": "code",
    "id": "ZvFwCuuwSgaB"
   },
   "outputs": [],
   "source": [
    "#help(cv2)\n",
    "#print(dir(cv2))"
   ]
  },
  {
   "cell_type": "code",
   "execution_count": null,
   "metadata": {
    "colab": {},
    "colab_type": "code",
    "id": "fZIePZLAShoq"
   },
   "outputs": [],
   "source": [
    "from google.colab.patches import cv2_imshow\n",
    "img = cv2.imread('Ex-machina-uk-poster.jpg',0)\n",
    "#cv2.imshow(img)\n",
    "cv2_imshow(img)"
   ]
  },
  {
   "cell_type": "markdown",
   "metadata": {
    "colab_type": "text",
    "id": "U80goooyU11A"
   },
   "source": [
    "## CV2 Images について\n",
    "- source: https://colab.research.google.com/notebooks/snippets/advanced_outputs.ipynb#scrollTo=zo9YYDL4SYZr\n",
    "\n",
    "`cv2.imshow()` と `cv.imshow()` は Jupyter notebook と互換性がありません (参照 https://github.com/jupyter/notebook/issues/3935)\n",
    "従って以下のような互換コマンドを使います。\n",
    "\n",
    "```python\n",
    "from google.colab.patches import cv2_imshow\n",
    "import cv2\n",
    "img = cv2.imread('画像のファイル名', cv2.IMREAD_UNCHANGED)\n",
    "cv2_imshow(img)\n",
    "```\n"
   ]
  },
  {
   "cell_type": "code",
   "execution_count": null,
   "metadata": {
    "colab": {},
    "colab_type": "code",
    "id": "K_lClIyMTO5_"
   },
   "outputs": [],
   "source": [
    "from google.colab.patches import cv2_imshow\n",
    "!curl -o logo.png https://colab.research.google.com/img/colab_favicon_256px.png\n",
    "import cv2\n",
    "img = cv2.imread('logo.png', cv2.IMREAD_UNCHANGED)\n",
    "cv2_imshow(img)"
   ]
  },
  {
   "cell_type": "code",
   "execution_count": null,
   "metadata": {
    "colab": {},
    "colab_type": "code",
    "id": "b67OTwJhTgdo"
   },
   "outputs": [],
   "source": [
    "import os\n",
    "from google.colab import drive\n",
    "drive.mount(\"/content/gdrive\")\n",
    "os.listdir(\"/content/gdrive/My Drive/\")\n"
   ]
  },
  {
   "cell_type": "code",
   "execution_count": null,
   "metadata": {
    "colab": {},
    "colab_type": "code",
    "id": "EJTCd9web0vS"
   },
   "outputs": [],
   "source": [
    "!pip install PyDrive"
   ]
  },
  {
   "cell_type": "code",
   "execution_count": null,
   "metadata": {
    "colab": {},
    "colab_type": "code",
    "id": "slsC3onOcrDY"
   },
   "outputs": [],
   "source": [
    "#import authentication modules\n",
    "from pydrive.auth import GoogleAuth\n",
    "from pydrive.drive import GoogleDrive\n",
    "from google.colab import auth\n",
    "from oauth2client.client import GoogleCredentials"
   ]
  },
  {
   "cell_type": "code",
   "execution_count": null,
   "metadata": {
    "colab": {},
    "colab_type": "code",
    "id": "Tca-ITqQcu3G"
   },
   "outputs": [],
   "source": [
    "#Authenticate and create the PyDrive client\n",
    "auth.authenticate_user()\n",
    "gauth = GoogleAuth()\n",
    "gauth.credentials = GoogleCredentials.get_application_default()\n",
    "drive = GoogleDrive(gauth)"
   ]
  },
  {
   "cell_type": "code",
   "execution_count": null,
   "metadata": {
    "colab": {},
    "colab_type": "code",
    "id": "QWpqnHBxc8by"
   },
   "outputs": [],
   "source": [
    "#https://drive.google.com/open?id=1OarkTI7WiLeVOMpVKsNJ2v04hX-RGORO\n",
    "downloaded = drive.CreateFile({'id':\"1OarkTI7WiLeVOMpVKsNJ2v04hX-RGORO\"})   # replace the id with id of file you want to access\n",
    "downloaded.GetContentFile('imagenet_sample_imgs.tgz')   "
   ]
  },
  {
   "cell_type": "code",
   "execution_count": null,
   "metadata": {
    "colab": {},
    "colab_type": "code",
    "id": "lcDSRWLRdauP"
   },
   "outputs": [],
   "source": [
    "#!ls *.tgz\n",
    "#!mkdir data\n",
    "#!tar xzf imagenet_sample_imgs.tgz\n",
    "!mv *.JPEG data"
   ]
  },
  {
   "cell_type": "code",
   "execution_count": null,
   "metadata": {
    "colab": {},
    "colab_type": "code",
    "id": "nGisZ3pOhq-B"
   },
   "outputs": [],
   "source": [
    "import matplotlib.pyplot as plt"
   ]
  },
  {
   "cell_type": "code",
   "execution_count": null,
   "metadata": {
    "colab": {},
    "colab_type": "code",
    "id": "TYn3wOIkedb8"
   },
   "outputs": [],
   "source": [
    "import glob\n",
    "a = glob.glob('data/*.JPEG')\n",
    "for f in a[3:7]:\n",
    "    print(f)\n",
    "    #IPython.display.Image(filename=f)\n",
    "    plt.imshow(plt.imread(f))\n",
    "    plt.show()"
   ]
  },
  {
   "cell_type": "code",
   "execution_count": null,
   "metadata": {
    "colab": {},
    "colab_type": "code",
    "id": "_GLQTCWtet9j"
   },
   "outputs": [],
   "source": [
    "IPython.display.Image(filename='data/ILSVRC2012_val_00000051.JPEG')"
   ]
  },
  {
   "cell_type": "code",
   "execution_count": null,
   "metadata": {
    "colab": {},
    "colab_type": "code",
    "id": "OGV8IxIzhHPo"
   },
   "outputs": [],
   "source": []
  }
 ],
 "metadata": {
  "colab": {
   "include_colab_link": true,
   "name": "2020-0517_test.ipynb",
   "private_outputs": true,
   "provenance": []
  },
  "kernelspec": {
   "display_name": "Python 3",
   "language": "python",
   "name": "python3"
  },
  "language_info": {
   "codemirror_mode": {
    "name": "ipython",
    "version": 3
   },
   "file_extension": ".py",
   "mimetype": "text/x-python",
   "name": "python",
   "nbconvert_exporter": "python",
   "pygments_lexer": "ipython3",
   "version": "3.7.7"
  }
 },
 "nbformat": 4,
 "nbformat_minor": 4
}
