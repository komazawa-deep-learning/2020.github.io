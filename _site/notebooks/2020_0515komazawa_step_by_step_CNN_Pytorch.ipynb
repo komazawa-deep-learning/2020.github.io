{
  "nbformat": 4,
  "nbformat_minor": 0,
  "metadata": {
    "colab": {
      "name": "2020-0515komazawa_step-by-step-CNN-Pytorch.ipynb",
      "provenance": [],
      "include_colab_link": true
    },
    "kernelspec": {
      "display_name": "Python 3",
      "language": "python",
      "name": "python3"
    },
    "language_info": {
      "codemirror_mode": {
        "name": "ipython",
        "version": 3
      },
      "file_extension": ".py",
      "mimetype": "text/x-python",
      "name": "python",
      "nbconvert_exporter": "python",
      "pygments_lexer": "ipython3",
      "version": "3.7.7"
    }
  },
  "cells": [
    {
      "cell_type": "markdown",
      "metadata": {
        "id": "view-in-github",
        "colab_type": "text"
      },
      "source": [
        "<a href=\"https://colab.research.google.com/github/komazawa-deep-learning/komazawa-deep-learning.github.io/blob/master/notebooks/2020_0515komazawa_step_by_step_CNN_Pytorch.ipynb\" target=\"_parent\"><img src=\"https://colab.research.google.com/assets/colab-badge.svg\" alt=\"Open In Colab\"/></a>"
      ]
    },
    {
      "cell_type": "markdown",
      "metadata": {
        "colab_type": "text",
        "id": "Pys6dGWIpGGt"
      },
      "source": [
        "# ステップ・バイ・ステップで画像認識の基礎\n",
        "\n",
        "<font color=\"teal\" size=\"+3\"><strong>PyTorch 編</strong></font>\n",
        "\n",
        "- Date: 2020-0320\n",
        "- Author: Shin Asakawa <asakawa@ieee.org>\n",
        "- Filename: 2020-0515komazawa_step-by-step-CNN-PyTorch.ipynb\n",
        "<!--- note: Original がどこかにあるはずなのだが，忘れた。見つからない 2020-0513-->"
      ]
    },
    {
      "cell_type": "code",
      "metadata": {
        "colab_type": "code",
        "id": "_Qn8Mq1lpGGu",
        "colab": {}
      },
      "source": [
        "import numpy as np\n",
        "import PIL\n",
        "import matplotlib.pyplot as plt\n",
        "%matplotlib inline"
      ],
      "execution_count": 0,
      "outputs": []
    },
    {
      "cell_type": "code",
      "metadata": {
        "colab_type": "code",
        "id": "w4ZZoJ-JpGGx",
        "outputId": "b42c60b2-2c42-4fff-a4a7-122734bfab63",
        "colab": {
          "base_uri": "https://localhost:8080/",
          "height": 34
        }
      },
      "source": [
        "import torch\n",
        "import torchvision\n",
        "print(torch.__version__, torchvision.__version__)"
      ],
      "execution_count": 2,
      "outputs": [
        {
          "output_type": "stream",
          "text": [
            "1.5.0+cu101 0.6.0+cu101\n"
          ],
          "name": "stdout"
        }
      ]
    },
    {
      "cell_type": "code",
      "metadata": {
        "colab_type": "code",
        "id": "YJfEEwVGpGGz",
        "colab": {}
      },
      "source": [
        "#help(torchvision.models._utils)\n",
        "#help(torchvision.models.alexnet)\n",
        "alex = torchvision.models.alexnet(pretrained=True)"
      ],
      "execution_count": 0,
      "outputs": []
    },
    {
      "cell_type": "code",
      "metadata": {
        "colab_type": "code",
        "id": "_dO-WbSMpGG2",
        "colab": {}
      },
      "source": [
        "import IPython.display\n",
        "filename=\"https://miro.medium.com/max/2812/1*bD_DMBtKwveuzIkQTwjKQQ.png\"\n",
        "IPython.display.Image(url=filename)\n",
        "# from https://towardsdatascience.com/the-w3h-of-alexnet-vggnet-resnet-and-inception-7baaaecccc96"
      ],
      "execution_count": 0,
      "outputs": []
    },
    {
      "cell_type": "code",
      "metadata": {
        "colab_type": "code",
        "id": "yr43vwuCpGG4",
        "colab": {}
      },
      "source": [
        "#filename=\"https://miro.medium.com/max/3684/1*vXBvV_Unz3JAxytc5iSeoQ.png\"\n",
        "#IPython.display.Image(url=filename)"
      ],
      "execution_count": 0,
      "outputs": []
    },
    {
      "cell_type": "code",
      "metadata": {
        "colab_type": "code",
        "id": "oNr4ODTBpGG6",
        "colab": {}
      },
      "source": [
        "#help(alex)\n",
        "print(alex)"
      ],
      "execution_count": 0,
      "outputs": []
    },
    {
      "cell_type": "markdown",
      "metadata": {
        "colab_type": "text",
        "id": "PFUSF4ULpGG8"
      },
      "source": [
        "- 下から上に昇って見ていくと Linear は通常の全結合数であるので in_features=4096 out_features=100 だから，4096 ニューロンを 1000 ニューロンに変換している\n",
        "- その上は 4096 から 4096 に変換\n",
        "- 次の (avgpool) のところで出力サイズが (6,6) になっているので penultimate 層では x=6, y=6, チャンネル数（特徴数）= 256 である。\n",
        "したがって $256\\times 6 \\times 6 = 9126$ となる。ただし原著論文では平均プーリングではなく最大値プーリングである。\n",
        "\n",
        "np.sqrt(9216 / 256)"
      ]
    },
    {
      "cell_type": "code",
      "metadata": {
        "colab_type": "code",
        "id": "e2idv8UvpGG9",
        "colab": {}
      },
      "source": [
        "import torchsummary"
      ],
      "execution_count": 0,
      "outputs": []
    },
    {
      "cell_type": "code",
      "metadata": {
        "colab_type": "code",
        "id": "k1ljmBY3pGHA",
        "colab": {}
      },
      "source": [
        "torchsummary.summary(alex,input_size=(3,224,224))"
      ],
      "execution_count": 0,
      "outputs": []
    },
    {
      "cell_type": "code",
      "metadata": {
        "colab_type": "code",
        "id": "FpXjwRGipT6z",
        "colab": {}
      },
      "source": [
        "!pip install torchviz"
      ],
      "execution_count": 0,
      "outputs": []
    },
    {
      "cell_type": "code",
      "metadata": {
        "colab_type": "code",
        "id": "S-8fDuVvpGHC",
        "colab": {
          "base_uri": "https://localhost:8080/",
          "height": 1000
        },
        "outputId": "2f0169ae-bd6e-4537-9cd6-6e4d2b067011"
      },
      "source": [
        "import torchviz\n",
        "\n",
        "#help(torchviz.make_dot)\n",
        "x = torch.rand([1,3,255,255])\n",
        "y = alex.forward(x)\n",
        "torchviz.make_dot(y.mean(), params=dict(alex.named_parameters()))"
      ],
      "execution_count": 10,
      "outputs": [
        {
          "output_type": "execute_result",
          "data": {
            "text/plain": [
              "<graphviz.dot.Digraph at 0x7fb83e22d390>"
            ],
            "image/svg+xml": "<?xml version=\"1.0\" encoding=\"UTF-8\" standalone=\"no\"?>\n<!DOCTYPE svg PUBLIC \"-//W3C//DTD SVG 1.1//EN\"\n \"http://www.w3.org/Graphics/SVG/1.1/DTD/svg11.dtd\">\n<!-- Generated by graphviz version 2.40.1 (20161225.0304)\n -->\n<!-- Title: %3 Pages: 1 -->\n<svg width=\"504pt\" height=\"896pt\"\n viewBox=\"0.00 0.00 504.19 896.00\" xmlns=\"http://www.w3.org/2000/svg\" xmlns:xlink=\"http://www.w3.org/1999/xlink\">\n<g id=\"graph0\" class=\"graph\" transform=\"scale(.6042 .6042) rotate(0) translate(4 1479)\">\n<title>%3</title>\n<polygon fill=\"#ffffff\" stroke=\"transparent\" points=\"-4,4 -4,-1479 830.5,-1479 830.5,4 -4,4\"/>\n<!-- 140429293179736 -->\n<g id=\"node1\" class=\"node\">\n<title>140429293179736</title>\n<polygon fill=\"#caff70\" stroke=\"#000000\" points=\"709,-21 611,-21 611,0 709,0 709,-21\"/>\n<text text-anchor=\"middle\" x=\"660\" y=\"-7.4\" font-family=\"Times,serif\" font-size=\"12.00\" fill=\"#000000\">MeanBackward0</text>\n</g>\n<!-- 140429293179680 -->\n<g id=\"node2\" class=\"node\">\n<title>140429293179680</title>\n<polygon fill=\"#d3d3d3\" stroke=\"#000000\" points=\"712,-78 608,-78 608,-57 712,-57 712,-78\"/>\n<text text-anchor=\"middle\" x=\"660\" y=\"-64.4\" font-family=\"Times,serif\" font-size=\"12.00\" fill=\"#000000\">AddmmBackward</text>\n</g>\n<!-- 140429293179680&#45;&gt;140429293179736 -->\n<g id=\"edge1\" class=\"edge\">\n<title>140429293179680&#45;&gt;140429293179736</title>\n<path fill=\"none\" stroke=\"#000000\" d=\"M660,-56.7787C660,-49.6134 660,-39.9517 660,-31.3097\"/>\n<polygon fill=\"#000000\" stroke=\"#000000\" points=\"663.5001,-31.1732 660,-21.1732 656.5001,-31.1732 663.5001,-31.1732\"/>\n</g>\n<!-- 140429293179288 -->\n<g id=\"node3\" class=\"node\">\n<title>140429293179288</title>\n<polygon fill=\"#add8e6\" stroke=\"#000000\" points=\"595,-148 507,-148 507,-114 595,-114 595,-148\"/>\n<text text-anchor=\"middle\" x=\"551\" y=\"-134.4\" font-family=\"Times,serif\" font-size=\"12.00\" fill=\"#000000\">classifier.6.bias</text>\n<text text-anchor=\"middle\" x=\"551\" y=\"-121.4\" font-family=\"Times,serif\" font-size=\"12.00\" fill=\"#000000\"> (1000)</text>\n</g>\n<!-- 140429293179288&#45;&gt;140429293179680 -->\n<g id=\"edge2\" class=\"edge\">\n<title>140429293179288&#45;&gt;140429293179680</title>\n<path fill=\"none\" stroke=\"#000000\" d=\"M580.21,-113.9832C596.5516,-104.4631 616.7911,-92.6722 632.7964,-83.3479\"/>\n<polygon fill=\"#000000\" stroke=\"#000000\" points=\"634.7906,-86.2369 641.6694,-78.1788 631.2669,-80.1884 634.7906,-86.2369\"/>\n</g>\n<!-- 140431112069416 -->\n<g id=\"node4\" class=\"node\">\n<title>140431112069416</title>\n<polygon fill=\"#d3d3d3\" stroke=\"#000000\" points=\"707,-141.5 613,-141.5 613,-120.5 707,-120.5 707,-141.5\"/>\n<text text-anchor=\"middle\" x=\"660\" y=\"-127.9\" font-family=\"Times,serif\" font-size=\"12.00\" fill=\"#000000\">ReluBackward1</text>\n</g>\n<!-- 140431112069416&#45;&gt;140429293179680 -->\n<g id=\"edge3\" class=\"edge\">\n<title>140431112069416&#45;&gt;140429293179680</title>\n<path fill=\"none\" stroke=\"#000000\" d=\"M660,-120.2281C660,-111.5091 660,-98.9699 660,-88.3068\"/>\n<polygon fill=\"#000000\" stroke=\"#000000\" points=\"663.5001,-88.1128 660,-78.1128 656.5001,-88.1129 663.5001,-88.1128\"/>\n</g>\n<!-- 140431111643600 -->\n<g id=\"node5\" class=\"node\">\n<title>140431111643600</title>\n<polygon fill=\"#d3d3d3\" stroke=\"#000000\" points=\"707,-211.5 603,-211.5 603,-190.5 707,-190.5 707,-211.5\"/>\n<text text-anchor=\"middle\" x=\"655\" y=\"-197.9\" font-family=\"Times,serif\" font-size=\"12.00\" fill=\"#000000\">AddmmBackward</text>\n</g>\n<!-- 140431111643600&#45;&gt;140431112069416 -->\n<g id=\"edge4\" class=\"edge\">\n<title>140431111643600&#45;&gt;140431112069416</title>\n<path fill=\"none\" stroke=\"#000000\" d=\"M655.7594,-190.3685C656.4862,-180.1925 657.6028,-164.5606 658.5078,-151.8912\"/>\n<polygon fill=\"#000000\" stroke=\"#000000\" points=\"662.012,-151.9555 659.2335,-141.7315 655.0298,-151.4567 662.012,-151.9555\"/>\n</g>\n<!-- 140431111644384 -->\n<g id=\"node6\" class=\"node\">\n<title>140431111644384</title>\n<polygon fill=\"#add8e6\" stroke=\"#000000\" points=\"591,-288 503,-288 503,-254 591,-254 591,-288\"/>\n<text text-anchor=\"middle\" x=\"547\" y=\"-274.4\" font-family=\"Times,serif\" font-size=\"12.00\" fill=\"#000000\">classifier.4.bias</text>\n<text text-anchor=\"middle\" x=\"547\" y=\"-261.4\" font-family=\"Times,serif\" font-size=\"12.00\" fill=\"#000000\"> (4096)</text>\n</g>\n<!-- 140431111644384&#45;&gt;140431111643600 -->\n<g id=\"edge5\" class=\"edge\">\n<title>140431111644384&#45;&gt;140431111643600</title>\n<path fill=\"none\" stroke=\"#000000\" d=\"M573.4198,-253.8761C590.5968,-242.7428 612.8632,-228.3109 629.7931,-217.3378\"/>\n<polygon fill=\"#000000\" stroke=\"#000000\" points=\"632.0955,-220.0165 638.5834,-211.6404 628.2882,-214.1424 632.0955,-220.0165\"/>\n</g>\n<!-- 140431111644944 -->\n<g id=\"node7\" class=\"node\">\n<title>140431111644944</title>\n<polygon fill=\"#d3d3d3\" stroke=\"#000000\" points=\"700.5,-281.5 609.5,-281.5 609.5,-260.5 700.5,-260.5 700.5,-281.5\"/>\n<text text-anchor=\"middle\" x=\"655\" y=\"-267.9\" font-family=\"Times,serif\" font-size=\"12.00\" fill=\"#000000\">MulBackward0</text>\n</g>\n<!-- 140431111644944&#45;&gt;140431111643600 -->\n<g id=\"edge6\" class=\"edge\">\n<title>140431111644944&#45;&gt;140431111643600</title>\n<path fill=\"none\" stroke=\"#000000\" d=\"M655,-260.3685C655,-250.1925 655,-234.5606 655,-221.8912\"/>\n<polygon fill=\"#000000\" stroke=\"#000000\" points=\"658.5001,-221.7315 655,-211.7315 651.5001,-221.7316 658.5001,-221.7315\"/>\n</g>\n<!-- 140431111646400 -->\n<g id=\"node8\" class=\"node\">\n<title>140431111646400</title>\n<polygon fill=\"#d3d3d3\" stroke=\"#000000\" points=\"698,-351.5 604,-351.5 604,-330.5 698,-330.5 698,-351.5\"/>\n<text text-anchor=\"middle\" x=\"651\" y=\"-337.9\" font-family=\"Times,serif\" font-size=\"12.00\" fill=\"#000000\">ReluBackward1</text>\n</g>\n<!-- 140431111646400&#45;&gt;140431111644944 -->\n<g id=\"edge7\" class=\"edge\">\n<title>140431111646400&#45;&gt;140431111644944</title>\n<path fill=\"none\" stroke=\"#000000\" d=\"M651.6075,-330.3685C652.189,-320.1925 653.0822,-304.5606 653.8062,-291.8912\"/>\n<polygon fill=\"#000000\" stroke=\"#000000\" points=\"657.3105,-291.915 654.3868,-281.7315 650.3219,-291.5156 657.3105,-291.915\"/>\n</g>\n<!-- 140429284749440 -->\n<g id=\"node9\" class=\"node\">\n<title>140429284749440</title>\n<polygon fill=\"#d3d3d3\" stroke=\"#000000\" points=\"703,-415 599,-415 599,-394 703,-394 703,-415\"/>\n<text text-anchor=\"middle\" x=\"651\" y=\"-401.4\" font-family=\"Times,serif\" font-size=\"12.00\" fill=\"#000000\">AddmmBackward</text>\n</g>\n<!-- 140429284749440&#45;&gt;140431111646400 -->\n<g id=\"edge8\" class=\"edge\">\n<title>140429284749440&#45;&gt;140431111646400</title>\n<path fill=\"none\" stroke=\"#000000\" d=\"M651,-393.7281C651,-385.0091 651,-372.4699 651,-361.8068\"/>\n<polygon fill=\"#000000\" stroke=\"#000000\" points=\"654.5001,-361.6128 651,-351.6128 647.5001,-361.6129 654.5001,-361.6128\"/>\n</g>\n<!-- 140429284750392 -->\n<g id=\"node10\" class=\"node\">\n<title>140429284750392</title>\n<polygon fill=\"#add8e6\" stroke=\"#000000\" points=\"587,-485 499,-485 499,-451 587,-451 587,-485\"/>\n<text text-anchor=\"middle\" x=\"543\" y=\"-471.4\" font-family=\"Times,serif\" font-size=\"12.00\" fill=\"#000000\">classifier.1.bias</text>\n<text text-anchor=\"middle\" x=\"543\" y=\"-458.4\" font-family=\"Times,serif\" font-size=\"12.00\" fill=\"#000000\"> (4096)</text>\n</g>\n<!-- 140429284750392&#45;&gt;140429284749440 -->\n<g id=\"edge9\" class=\"edge\">\n<title>140429284750392&#45;&gt;140429284749440</title>\n<path fill=\"none\" stroke=\"#000000\" d=\"M571.942,-450.9832C588.1337,-441.4631 608.1875,-429.6722 624.046,-420.3479\"/>\n<polygon fill=\"#000000\" stroke=\"#000000\" points=\"625.9912,-423.2645 632.8376,-415.1788 622.4432,-417.2302 625.9912,-423.2645\"/>\n</g>\n<!-- 140429284750448 -->\n<g id=\"node11\" class=\"node\">\n<title>140429284750448</title>\n<polygon fill=\"#d3d3d3\" stroke=\"#000000\" points=\"696.5,-478.5 605.5,-478.5 605.5,-457.5 696.5,-457.5 696.5,-478.5\"/>\n<text text-anchor=\"middle\" x=\"651\" y=\"-464.9\" font-family=\"Times,serif\" font-size=\"12.00\" fill=\"#000000\">MulBackward0</text>\n</g>\n<!-- 140429284750448&#45;&gt;140429284749440 -->\n<g id=\"edge10\" class=\"edge\">\n<title>140429284750448&#45;&gt;140429284749440</title>\n<path fill=\"none\" stroke=\"#000000\" d=\"M651,-457.2281C651,-448.5091 651,-435.9699 651,-425.3068\"/>\n<polygon fill=\"#000000\" stroke=\"#000000\" points=\"654.5001,-425.1128 651,-415.1128 647.5001,-425.1129 654.5001,-425.1128\"/>\n</g>\n<!-- 140429284750616 -->\n<g id=\"node12\" class=\"node\">\n<title>140429284750616</title>\n<polygon fill=\"#d3d3d3\" stroke=\"#000000\" points=\"693.5,-548.5 602.5,-548.5 602.5,-527.5 693.5,-527.5 693.5,-548.5\"/>\n<text text-anchor=\"middle\" x=\"648\" y=\"-534.9\" font-family=\"Times,serif\" font-size=\"12.00\" fill=\"#000000\">ViewBackward</text>\n</g>\n<!-- 140429284750616&#45;&gt;140429284750448 -->\n<g id=\"edge11\" class=\"edge\">\n<title>140429284750616&#45;&gt;140429284750448</title>\n<path fill=\"none\" stroke=\"#000000\" d=\"M648.4556,-527.3685C648.8917,-517.1925 649.5617,-501.5606 650.1047,-488.8912\"/>\n<polygon fill=\"#000000\" stroke=\"#000000\" points=\"653.6086,-488.8723 650.5401,-478.7315 646.615,-488.5725 653.6086,-488.8723\"/>\n</g>\n<!-- 140429284750728 -->\n<g id=\"node13\" class=\"node\">\n<title>140429284750728</title>\n<polygon fill=\"#d3d3d3\" stroke=\"#000000\" points=\"731,-612 565,-612 565,-591 731,-591 731,-612\"/>\n<text text-anchor=\"middle\" x=\"648\" y=\"-598.4\" font-family=\"Times,serif\" font-size=\"12.00\" fill=\"#000000\">AdaptiveAvgPool2DBackward</text>\n</g>\n<!-- 140429284750728&#45;&gt;140429284750616 -->\n<g id=\"edge12\" class=\"edge\">\n<title>140429284750728&#45;&gt;140429284750616</title>\n<path fill=\"none\" stroke=\"#000000\" d=\"M648,-590.7281C648,-582.0091 648,-569.4699 648,-558.8068\"/>\n<polygon fill=\"#000000\" stroke=\"#000000\" points=\"651.5001,-558.6128 648,-548.6128 644.5001,-558.6129 651.5001,-558.6128\"/>\n</g>\n<!-- 140429284750840 -->\n<g id=\"node14\" class=\"node\">\n<title>140429284750840</title>\n<polygon fill=\"#d3d3d3\" stroke=\"#000000\" points=\"738,-669 558,-669 558,-648 738,-648 738,-669\"/>\n<text text-anchor=\"middle\" x=\"648\" y=\"-655.4\" font-family=\"Times,serif\" font-size=\"12.00\" fill=\"#000000\">MaxPool2DWithIndicesBackward</text>\n</g>\n<!-- 140429284750840&#45;&gt;140429284750728 -->\n<g id=\"edge13\" class=\"edge\">\n<title>140429284750840&#45;&gt;140429284750728</title>\n<path fill=\"none\" stroke=\"#000000\" d=\"M648,-647.7787C648,-640.6134 648,-630.9517 648,-622.3097\"/>\n<polygon fill=\"#000000\" stroke=\"#000000\" points=\"651.5001,-622.1732 648,-612.1732 644.5001,-622.1732 651.5001,-622.1732\"/>\n</g>\n<!-- 140429284750952 -->\n<g id=\"node15\" class=\"node\">\n<title>140429284750952</title>\n<polygon fill=\"#d3d3d3\" stroke=\"#000000\" points=\"695,-726 601,-726 601,-705 695,-705 695,-726\"/>\n<text text-anchor=\"middle\" x=\"648\" y=\"-712.4\" font-family=\"Times,serif\" font-size=\"12.00\" fill=\"#000000\">ReluBackward1</text>\n</g>\n<!-- 140429284750952&#45;&gt;140429284750840 -->\n<g id=\"edge14\" class=\"edge\">\n<title>140429284750952&#45;&gt;140429284750840</title>\n<path fill=\"none\" stroke=\"#000000\" d=\"M648,-704.7787C648,-697.6134 648,-687.9517 648,-679.3097\"/>\n<polygon fill=\"#000000\" stroke=\"#000000\" points=\"651.5001,-679.1732 648,-669.1732 644.5001,-679.1732 651.5001,-679.1732\"/>\n</g>\n<!-- 140429284751064 -->\n<g id=\"node16\" class=\"node\">\n<title>140429284751064</title>\n<polygon fill=\"#d3d3d3\" stroke=\"#000000\" points=\"729,-783 567,-783 567,-762 729,-762 729,-783\"/>\n<text text-anchor=\"middle\" x=\"648\" y=\"-769.4\" font-family=\"Times,serif\" font-size=\"12.00\" fill=\"#000000\">MkldnnConvolutionBackward</text>\n</g>\n<!-- 140429284751064&#45;&gt;140429284750952 -->\n<g id=\"edge15\" class=\"edge\">\n<title>140429284751064&#45;&gt;140429284750952</title>\n<path fill=\"none\" stroke=\"#000000\" d=\"M648,-761.7787C648,-754.6134 648,-744.9517 648,-736.3097\"/>\n<polygon fill=\"#000000\" stroke=\"#000000\" points=\"651.5001,-736.1732 648,-726.1732 644.5001,-736.1732 651.5001,-736.1732\"/>\n</g>\n<!-- 140429284751176 -->\n<g id=\"node17\" class=\"node\">\n<title>140429284751176</title>\n<polygon fill=\"#d3d3d3\" stroke=\"#000000\" points=\"578,-846.5 484,-846.5 484,-825.5 578,-825.5 578,-846.5\"/>\n<text text-anchor=\"middle\" x=\"531\" y=\"-832.9\" font-family=\"Times,serif\" font-size=\"12.00\" fill=\"#000000\">ReluBackward1</text>\n</g>\n<!-- 140429284751176&#45;&gt;140429284751064 -->\n<g id=\"edge16\" class=\"edge\">\n<title>140429284751176&#45;&gt;140429284751064</title>\n<path fill=\"none\" stroke=\"#000000\" d=\"M550.5832,-825.3715C569.3966,-815.1608 598.0379,-799.6162 619.402,-788.0212\"/>\n<polygon fill=\"#000000\" stroke=\"#000000\" points=\"621.2335,-791.0094 628.3529,-783.1631 617.8944,-784.8571 621.2335,-791.0094\"/>\n</g>\n<!-- 140429284751400 -->\n<g id=\"node18\" class=\"node\">\n<title>140429284751400</title>\n<polygon fill=\"#d3d3d3\" stroke=\"#000000\" points=\"612,-910 450,-910 450,-889 612,-889 612,-910\"/>\n<text text-anchor=\"middle\" x=\"531\" y=\"-896.4\" font-family=\"Times,serif\" font-size=\"12.00\" fill=\"#000000\">MkldnnConvolutionBackward</text>\n</g>\n<!-- 140429284751400&#45;&gt;140429284751176 -->\n<g id=\"edge17\" class=\"edge\">\n<title>140429284751400&#45;&gt;140429284751176</title>\n<path fill=\"none\" stroke=\"#000000\" d=\"M531,-888.7281C531,-880.0091 531,-867.4699 531,-856.8068\"/>\n<polygon fill=\"#000000\" stroke=\"#000000\" points=\"534.5001,-856.6128 531,-846.6128 527.5001,-856.6129 534.5001,-856.6128\"/>\n</g>\n<!-- 140429284751512 -->\n<g id=\"node19\" class=\"node\">\n<title>140429284751512</title>\n<polygon fill=\"#d3d3d3\" stroke=\"#000000\" points=\"464,-973.5 370,-973.5 370,-952.5 464,-952.5 464,-973.5\"/>\n<text text-anchor=\"middle\" x=\"417\" y=\"-959.9\" font-family=\"Times,serif\" font-size=\"12.00\" fill=\"#000000\">ReluBackward1</text>\n</g>\n<!-- 140429284751512&#45;&gt;140429284751400 -->\n<g id=\"edge18\" class=\"edge\">\n<title>140429284751512&#45;&gt;140429284751400</title>\n<path fill=\"none\" stroke=\"#000000\" d=\"M436.081,-952.3715C454.3299,-942.2066 482.0689,-926.7555 502.8548,-915.1774\"/>\n<polygon fill=\"#000000\" stroke=\"#000000\" points=\"504.8237,-918.087 511.8567,-910.1631 501.4174,-911.9717 504.8237,-918.087\"/>\n</g>\n<!-- 140429284751736 -->\n<g id=\"node20\" class=\"node\">\n<title>140429284751736</title>\n<polygon fill=\"#d3d3d3\" stroke=\"#000000\" points=\"498,-1037 336,-1037 336,-1016 498,-1016 498,-1037\"/>\n<text text-anchor=\"middle\" x=\"417\" y=\"-1023.4\" font-family=\"Times,serif\" font-size=\"12.00\" fill=\"#000000\">MkldnnConvolutionBackward</text>\n</g>\n<!-- 140429284751736&#45;&gt;140429284751512 -->\n<g id=\"edge19\" class=\"edge\">\n<title>140429284751736&#45;&gt;140429284751512</title>\n<path fill=\"none\" stroke=\"#000000\" d=\"M417,-1015.7281C417,-1007.0091 417,-994.4699 417,-983.8068\"/>\n<polygon fill=\"#000000\" stroke=\"#000000\" points=\"420.5001,-983.6128 417,-973.6128 413.5001,-983.6129 420.5001,-983.6128\"/>\n</g>\n<!-- 140429284751848 -->\n<g id=\"node21\" class=\"node\">\n<title>140429284751848</title>\n<polygon fill=\"#d3d3d3\" stroke=\"#000000\" points=\"350,-1100.5 170,-1100.5 170,-1079.5 350,-1079.5 350,-1100.5\"/>\n<text text-anchor=\"middle\" x=\"260\" y=\"-1086.9\" font-family=\"Times,serif\" font-size=\"12.00\" fill=\"#000000\">MaxPool2DWithIndicesBackward</text>\n</g>\n<!-- 140429284751848&#45;&gt;140429284751736 -->\n<g id=\"edge20\" class=\"edge\">\n<title>140429284751848&#45;&gt;140429284751736</title>\n<path fill=\"none\" stroke=\"#000000\" d=\"M286.2783,-1079.3715C312.3946,-1068.8086 352.6242,-1052.5374 381.5559,-1040.8357\"/>\n<polygon fill=\"#000000\" stroke=\"#000000\" points=\"382.9396,-1044.0515 390.8977,-1037.0573 380.3149,-1037.5622 382.9396,-1044.0515\"/>\n</g>\n<!-- 140429284752072 -->\n<g id=\"node22\" class=\"node\">\n<title>140429284752072</title>\n<polygon fill=\"#d3d3d3\" stroke=\"#000000\" points=\"307,-1164 213,-1164 213,-1143 307,-1143 307,-1164\"/>\n<text text-anchor=\"middle\" x=\"260\" y=\"-1150.4\" font-family=\"Times,serif\" font-size=\"12.00\" fill=\"#000000\">ReluBackward1</text>\n</g>\n<!-- 140429284752072&#45;&gt;140429284751848 -->\n<g id=\"edge21\" class=\"edge\">\n<title>140429284752072&#45;&gt;140429284751848</title>\n<path fill=\"none\" stroke=\"#000000\" d=\"M260,-1142.7281C260,-1134.0091 260,-1121.4699 260,-1110.8068\"/>\n<polygon fill=\"#000000\" stroke=\"#000000\" points=\"263.5001,-1110.6128 260,-1100.6128 256.5001,-1110.6129 263.5001,-1110.6128\"/>\n</g>\n<!-- 140429284752184 -->\n<g id=\"node23\" class=\"node\">\n<title>140429284752184</title>\n<polygon fill=\"#d3d3d3\" stroke=\"#000000\" points=\"341,-1221 179,-1221 179,-1200 341,-1200 341,-1221\"/>\n<text text-anchor=\"middle\" x=\"260\" y=\"-1207.4\" font-family=\"Times,serif\" font-size=\"12.00\" fill=\"#000000\">MkldnnConvolutionBackward</text>\n</g>\n<!-- 140429284752184&#45;&gt;140429284752072 -->\n<g id=\"edge22\" class=\"edge\">\n<title>140429284752184&#45;&gt;140429284752072</title>\n<path fill=\"none\" stroke=\"#000000\" d=\"M260,-1199.7787C260,-1192.6134 260,-1182.9517 260,-1174.3097\"/>\n<polygon fill=\"#000000\" stroke=\"#000000\" points=\"263.5001,-1174.1732 260,-1164.1732 256.5001,-1174.1732 263.5001,-1174.1732\"/>\n</g>\n<!-- 140429284752352 -->\n<g id=\"node24\" class=\"node\">\n<title>140429284752352</title>\n<polygon fill=\"#d3d3d3\" stroke=\"#000000\" points=\"193,-1284.5 13,-1284.5 13,-1263.5 193,-1263.5 193,-1284.5\"/>\n<text text-anchor=\"middle\" x=\"103\" y=\"-1270.9\" font-family=\"Times,serif\" font-size=\"12.00\" fill=\"#000000\">MaxPool2DWithIndicesBackward</text>\n</g>\n<!-- 140429284752352&#45;&gt;140429284752184 -->\n<g id=\"edge23\" class=\"edge\">\n<title>140429284752352&#45;&gt;140429284752184</title>\n<path fill=\"none\" stroke=\"#000000\" d=\"M129.2783,-1263.3715C155.3946,-1252.8086 195.6242,-1236.5374 224.5559,-1224.8357\"/>\n<polygon fill=\"#000000\" stroke=\"#000000\" points=\"225.9396,-1228.0515 233.8977,-1221.0573 223.3149,-1221.5622 225.9396,-1228.0515\"/>\n</g>\n<!-- 140429284752576 -->\n<g id=\"node25\" class=\"node\">\n<title>140429284752576</title>\n<polygon fill=\"#d3d3d3\" stroke=\"#000000\" points=\"150,-1348 56,-1348 56,-1327 150,-1327 150,-1348\"/>\n<text text-anchor=\"middle\" x=\"103\" y=\"-1334.4\" font-family=\"Times,serif\" font-size=\"12.00\" fill=\"#000000\">ReluBackward1</text>\n</g>\n<!-- 140429284752576&#45;&gt;140429284752352 -->\n<g id=\"edge24\" class=\"edge\">\n<title>140429284752576&#45;&gt;140429284752352</title>\n<path fill=\"none\" stroke=\"#000000\" d=\"M103,-1326.7281C103,-1318.0091 103,-1305.4699 103,-1294.8068\"/>\n<polygon fill=\"#000000\" stroke=\"#000000\" points=\"106.5001,-1294.6128 103,-1284.6128 99.5001,-1294.6129 106.5001,-1294.6128\"/>\n</g>\n<!-- 140429284752744 -->\n<g id=\"node26\" class=\"node\">\n<title>140429284752744</title>\n<polygon fill=\"#d3d3d3\" stroke=\"#000000\" points=\"184,-1405 22,-1405 22,-1384 184,-1384 184,-1405\"/>\n<text text-anchor=\"middle\" x=\"103\" y=\"-1391.4\" font-family=\"Times,serif\" font-size=\"12.00\" fill=\"#000000\">MkldnnConvolutionBackward</text>\n</g>\n<!-- 140429284752744&#45;&gt;140429284752576 -->\n<g id=\"edge25\" class=\"edge\">\n<title>140429284752744&#45;&gt;140429284752576</title>\n<path fill=\"none\" stroke=\"#000000\" d=\"M103,-1383.7787C103,-1376.6134 103,-1366.9517 103,-1358.3097\"/>\n<polygon fill=\"#000000\" stroke=\"#000000\" points=\"106.5001,-1358.1732 103,-1348.1732 99.5001,-1358.1732 106.5001,-1358.1732\"/>\n</g>\n<!-- 140429284752912 -->\n<g id=\"node27\" class=\"node\">\n<title>140429284752912</title>\n<polygon fill=\"#add8e6\" stroke=\"#000000\" points=\"98,-1475 0,-1475 0,-1441 98,-1441 98,-1475\"/>\n<text text-anchor=\"middle\" x=\"49\" y=\"-1461.4\" font-family=\"Times,serif\" font-size=\"12.00\" fill=\"#000000\">features.0.weight</text>\n<text text-anchor=\"middle\" x=\"49\" y=\"-1448.4\" font-family=\"Times,serif\" font-size=\"12.00\" fill=\"#000000\"> (64, 3, 11, 11)</text>\n</g>\n<!-- 140429284752912&#45;&gt;140429284752744 -->\n<g id=\"edge26\" class=\"edge\">\n<title>140429284752912&#45;&gt;140429284752744</title>\n<path fill=\"none\" stroke=\"#000000\" d=\"M63.471,-1440.9832C70.7629,-1432.4085 79.6213,-1421.9916 87.1026,-1413.1942\"/>\n<polygon fill=\"#000000\" stroke=\"#000000\" points=\"89.9454,-1415.254 93.7574,-1405.3687 84.6128,-1410.7192 89.9454,-1415.254\"/>\n</g>\n<!-- 140429284752968 -->\n<g id=\"node28\" class=\"node\">\n<title>140429284752968</title>\n<polygon fill=\"#add8e6\" stroke=\"#000000\" points=\"200,-1475 116,-1475 116,-1441 200,-1441 200,-1475\"/>\n<text text-anchor=\"middle\" x=\"158\" y=\"-1461.4\" font-family=\"Times,serif\" font-size=\"12.00\" fill=\"#000000\">features.0.bias</text>\n<text text-anchor=\"middle\" x=\"158\" y=\"-1448.4\" font-family=\"Times,serif\" font-size=\"12.00\" fill=\"#000000\"> (64)</text>\n</g>\n<!-- 140429284752968&#45;&gt;140429284752744 -->\n<g id=\"edge27\" class=\"edge\">\n<title>140429284752968&#45;&gt;140429284752744</title>\n<path fill=\"none\" stroke=\"#000000\" d=\"M143.261,-1440.9832C135.8341,-1432.4085 126.8116,-1421.9916 119.1918,-1413.1942\"/>\n<polygon fill=\"#000000\" stroke=\"#000000\" points=\"121.6065,-1410.6361 112.4138,-1405.3687 116.3153,-1415.219 121.6065,-1410.6361\"/>\n</g>\n<!-- 140429284752408 -->\n<g id=\"node29\" class=\"node\">\n<title>140429284752408</title>\n<polygon fill=\"#add8e6\" stroke=\"#000000\" points=\"309,-1291 211,-1291 211,-1257 309,-1257 309,-1291\"/>\n<text text-anchor=\"middle\" x=\"260\" y=\"-1277.4\" font-family=\"Times,serif\" font-size=\"12.00\" fill=\"#000000\">features.3.weight</text>\n<text text-anchor=\"middle\" x=\"260\" y=\"-1264.4\" font-family=\"Times,serif\" font-size=\"12.00\" fill=\"#000000\"> (192, 64, 5, 5)</text>\n</g>\n<!-- 140429284752408&#45;&gt;140429284752184 -->\n<g id=\"edge28\" class=\"edge\">\n<title>140429284752408&#45;&gt;140429284752184</title>\n<path fill=\"none\" stroke=\"#000000\" d=\"M260,-1256.9832C260,-1249.1157 260,-1239.6973 260,-1231.4019\"/>\n<polygon fill=\"#000000\" stroke=\"#000000\" points=\"263.5001,-1231.3686 260,-1221.3687 256.5001,-1231.3687 263.5001,-1231.3686\"/>\n</g>\n<!-- 140429284752464 -->\n<g id=\"node30\" class=\"node\">\n<title>140429284752464</title>\n<polygon fill=\"#add8e6\" stroke=\"#000000\" points=\"411,-1291 327,-1291 327,-1257 411,-1257 411,-1291\"/>\n<text text-anchor=\"middle\" x=\"369\" y=\"-1277.4\" font-family=\"Times,serif\" font-size=\"12.00\" fill=\"#000000\">features.3.bias</text>\n<text text-anchor=\"middle\" x=\"369\" y=\"-1264.4\" font-family=\"Times,serif\" font-size=\"12.00\" fill=\"#000000\"> (192)</text>\n</g>\n<!-- 140429284752464&#45;&gt;140429284752184 -->\n<g id=\"edge29\" class=\"edge\">\n<title>140429284752464&#45;&gt;140429284752184</title>\n<path fill=\"none\" stroke=\"#000000\" d=\"M339.79,-1256.9832C323.4484,-1247.4631 303.2089,-1235.6722 287.2036,-1226.3479\"/>\n<polygon fill=\"#000000\" stroke=\"#000000\" points=\"288.7331,-1223.1884 278.3306,-1221.1788 285.2094,-1229.2369 288.7331,-1223.1884\"/>\n</g>\n<!-- 140429284751904 -->\n<g id=\"node31\" class=\"node\">\n<title>140429284751904</title>\n<polygon fill=\"#add8e6\" stroke=\"#000000\" points=\"466,-1107 368,-1107 368,-1073 466,-1073 466,-1107\"/>\n<text text-anchor=\"middle\" x=\"417\" y=\"-1093.4\" font-family=\"Times,serif\" font-size=\"12.00\" fill=\"#000000\">features.6.weight</text>\n<text text-anchor=\"middle\" x=\"417\" y=\"-1080.4\" font-family=\"Times,serif\" font-size=\"12.00\" fill=\"#000000\"> (384, 192, 3, 3)</text>\n</g>\n<!-- 140429284751904&#45;&gt;140429284751736 -->\n<g id=\"edge30\" class=\"edge\">\n<title>140429284751904&#45;&gt;140429284751736</title>\n<path fill=\"none\" stroke=\"#000000\" d=\"M417,-1072.9832C417,-1065.1157 417,-1055.6973 417,-1047.4019\"/>\n<polygon fill=\"#000000\" stroke=\"#000000\" points=\"420.5001,-1047.3686 417,-1037.3687 413.5001,-1047.3687 420.5001,-1047.3686\"/>\n</g>\n<!-- 140429284751960 -->\n<g id=\"node32\" class=\"node\">\n<title>140429284751960</title>\n<polygon fill=\"#add8e6\" stroke=\"#000000\" points=\"568,-1107 484,-1107 484,-1073 568,-1073 568,-1107\"/>\n<text text-anchor=\"middle\" x=\"526\" y=\"-1093.4\" font-family=\"Times,serif\" font-size=\"12.00\" fill=\"#000000\">features.6.bias</text>\n<text text-anchor=\"middle\" x=\"526\" y=\"-1080.4\" font-family=\"Times,serif\" font-size=\"12.00\" fill=\"#000000\"> (384)</text>\n</g>\n<!-- 140429284751960&#45;&gt;140429284751736 -->\n<g id=\"edge31\" class=\"edge\">\n<title>140429284751960&#45;&gt;140429284751736</title>\n<path fill=\"none\" stroke=\"#000000\" d=\"M496.79,-1072.9832C480.4484,-1063.4631 460.2089,-1051.6722 444.2036,-1042.3479\"/>\n<polygon fill=\"#000000\" stroke=\"#000000\" points=\"445.7331,-1039.1884 435.3306,-1037.1788 442.2094,-1045.2369 445.7331,-1039.1884\"/>\n</g>\n<!-- 140429284751568 -->\n<g id=\"node33\" class=\"node\">\n<title>140429284751568</title>\n<polygon fill=\"#add8e6\" stroke=\"#000000\" points=\"580,-980 482,-980 482,-946 580,-946 580,-980\"/>\n<text text-anchor=\"middle\" x=\"531\" y=\"-966.4\" font-family=\"Times,serif\" font-size=\"12.00\" fill=\"#000000\">features.8.weight</text>\n<text text-anchor=\"middle\" x=\"531\" y=\"-953.4\" font-family=\"Times,serif\" font-size=\"12.00\" fill=\"#000000\"> (256, 384, 3, 3)</text>\n</g>\n<!-- 140429284751568&#45;&gt;140429284751400 -->\n<g id=\"edge32\" class=\"edge\">\n<title>140429284751568&#45;&gt;140429284751400</title>\n<path fill=\"none\" stroke=\"#000000\" d=\"M531,-945.9832C531,-938.1157 531,-928.6973 531,-920.4019\"/>\n<polygon fill=\"#000000\" stroke=\"#000000\" points=\"534.5001,-920.3686 531,-910.3687 527.5001,-920.3687 534.5001,-920.3686\"/>\n</g>\n<!-- 140429284751624 -->\n<g id=\"node34\" class=\"node\">\n<title>140429284751624</title>\n<polygon fill=\"#add8e6\" stroke=\"#000000\" points=\"682,-980 598,-980 598,-946 682,-946 682,-980\"/>\n<text text-anchor=\"middle\" x=\"640\" y=\"-966.4\" font-family=\"Times,serif\" font-size=\"12.00\" fill=\"#000000\">features.8.bias</text>\n<text text-anchor=\"middle\" x=\"640\" y=\"-953.4\" font-family=\"Times,serif\" font-size=\"12.00\" fill=\"#000000\"> (256)</text>\n</g>\n<!-- 140429284751624&#45;&gt;140429284751400 -->\n<g id=\"edge33\" class=\"edge\">\n<title>140429284751624&#45;&gt;140429284751400</title>\n<path fill=\"none\" stroke=\"#000000\" d=\"M610.79,-945.9832C594.4484,-936.4631 574.2089,-924.6722 558.2036,-915.3479\"/>\n<polygon fill=\"#000000\" stroke=\"#000000\" points=\"559.7331,-912.1884 549.3306,-910.1788 556.2094,-918.2369 559.7331,-912.1884\"/>\n</g>\n<!-- 140429284751232 -->\n<g id=\"node35\" class=\"node\">\n<title>140429284751232</title>\n<polygon fill=\"#add8e6\" stroke=\"#000000\" points=\"700,-853 596,-853 596,-819 700,-819 700,-853\"/>\n<text text-anchor=\"middle\" x=\"648\" y=\"-839.4\" font-family=\"Times,serif\" font-size=\"12.00\" fill=\"#000000\">features.10.weight</text>\n<text text-anchor=\"middle\" x=\"648\" y=\"-826.4\" font-family=\"Times,serif\" font-size=\"12.00\" fill=\"#000000\"> (256, 256, 3, 3)</text>\n</g>\n<!-- 140429284751232&#45;&gt;140429284751064 -->\n<g id=\"edge34\" class=\"edge\">\n<title>140429284751232&#45;&gt;140429284751064</title>\n<path fill=\"none\" stroke=\"#000000\" d=\"M648,-818.9832C648,-811.1157 648,-801.6973 648,-793.4019\"/>\n<polygon fill=\"#000000\" stroke=\"#000000\" points=\"651.5001,-793.3686 648,-783.3687 644.5001,-793.3687 651.5001,-793.3686\"/>\n</g>\n<!-- 140429284751288 -->\n<g id=\"node36\" class=\"node\">\n<title>140429284751288</title>\n<polygon fill=\"#add8e6\" stroke=\"#000000\" points=\"808,-853 718,-853 718,-819 808,-819 808,-853\"/>\n<text text-anchor=\"middle\" x=\"763\" y=\"-839.4\" font-family=\"Times,serif\" font-size=\"12.00\" fill=\"#000000\">features.10.bias</text>\n<text text-anchor=\"middle\" x=\"763\" y=\"-826.4\" font-family=\"Times,serif\" font-size=\"12.00\" fill=\"#000000\"> (256)</text>\n</g>\n<!-- 140429284751288&#45;&gt;140429284751064 -->\n<g id=\"edge35\" class=\"edge\">\n<title>140429284751288&#45;&gt;140429284751064</title>\n<path fill=\"none\" stroke=\"#000000\" d=\"M732.1821,-818.9832C714.7798,-809.3741 693.1879,-797.4516 676.2287,-788.0872\"/>\n<polygon fill=\"#000000\" stroke=\"#000000\" points=\"677.7856,-784.9487 667.3396,-783.1788 674.4019,-791.0766 677.7856,-784.9487\"/>\n</g>\n<!-- 140429284750504 -->\n<g id=\"node37\" class=\"node\">\n<title>140429284750504</title>\n<polygon fill=\"#d3d3d3\" stroke=\"#000000\" points=\"794.5,-478.5 721.5,-478.5 721.5,-457.5 794.5,-457.5 794.5,-478.5\"/>\n<text text-anchor=\"middle\" x=\"758\" y=\"-464.9\" font-family=\"Times,serif\" font-size=\"12.00\" fill=\"#000000\">TBackward</text>\n</g>\n<!-- 140429284750504&#45;&gt;140429284749440 -->\n<g id=\"edge36\" class=\"edge\">\n<title>140429284750504&#45;&gt;140429284749440</title>\n<path fill=\"none\" stroke=\"#000000\" d=\"M739.8489,-457.2281C722.7601,-447.0866 696.9618,-431.7764 677.5599,-420.2622\"/>\n<polygon fill=\"#000000\" stroke=\"#000000\" points=\"679.2689,-417.2065 668.883,-415.1128 675.6964,-423.2263 679.2689,-417.2065\"/>\n</g>\n<!-- 140429284750672 -->\n<g id=\"node38\" class=\"node\">\n<title>140429284750672</title>\n<polygon fill=\"#add8e6\" stroke=\"#000000\" points=\"812.5,-555 711.5,-555 711.5,-521 812.5,-521 812.5,-555\"/>\n<text text-anchor=\"middle\" x=\"762\" y=\"-541.4\" font-family=\"Times,serif\" font-size=\"12.00\" fill=\"#000000\">classifier.1.weight</text>\n<text text-anchor=\"middle\" x=\"762\" y=\"-528.4\" font-family=\"Times,serif\" font-size=\"12.00\" fill=\"#000000\"> (4096, 9216)</text>\n</g>\n<!-- 140429284750672&#45;&gt;140429284750504 -->\n<g id=\"edge37\" class=\"edge\">\n<title>140429284750672&#45;&gt;140429284750504</title>\n<path fill=\"none\" stroke=\"#000000\" d=\"M761.0112,-520.6966C760.4608,-511.0634 759.7716,-499.003 759.1915,-488.8518\"/>\n<polygon fill=\"#000000\" stroke=\"#000000\" points=\"762.6815,-488.5753 758.6166,-478.7913 755.6929,-488.9747 762.6815,-488.5753\"/>\n</g>\n<!-- 140431111646288 -->\n<g id=\"node39\" class=\"node\">\n<title>140431111646288</title>\n<polygon fill=\"#d3d3d3\" stroke=\"#000000\" points=\"799.5,-281.5 726.5,-281.5 726.5,-260.5 799.5,-260.5 799.5,-281.5\"/>\n<text text-anchor=\"middle\" x=\"763\" y=\"-267.9\" font-family=\"Times,serif\" font-size=\"12.00\" fill=\"#000000\">TBackward</text>\n</g>\n<!-- 140431111646288&#45;&gt;140431111643600 -->\n<g id=\"edge38\" class=\"edge\">\n<title>140431111646288&#45;&gt;140431111643600</title>\n<path fill=\"none\" stroke=\"#000000\" d=\"M746.5971,-260.3685C728.8119,-248.841 700.2246,-230.3123 679.7161,-217.0197\"/>\n<polygon fill=\"#000000\" stroke=\"#000000\" points=\"681.4986,-214.0041 671.2034,-211.5022 677.6913,-219.8782 681.4986,-214.0041\"/>\n</g>\n<!-- 140429284749384 -->\n<g id=\"node40\" class=\"node\">\n<title>140429284749384</title>\n<polygon fill=\"#add8e6\" stroke=\"#000000\" points=\"817.5,-358 716.5,-358 716.5,-324 817.5,-324 817.5,-358\"/>\n<text text-anchor=\"middle\" x=\"767\" y=\"-344.4\" font-family=\"Times,serif\" font-size=\"12.00\" fill=\"#000000\">classifier.4.weight</text>\n<text text-anchor=\"middle\" x=\"767\" y=\"-331.4\" font-family=\"Times,serif\" font-size=\"12.00\" fill=\"#000000\"> (4096, 4096)</text>\n</g>\n<!-- 140429284749384&#45;&gt;140431111646288 -->\n<g id=\"edge39\" class=\"edge\">\n<title>140429284749384&#45;&gt;140431111646288</title>\n<path fill=\"none\" stroke=\"#000000\" d=\"M766.0112,-323.6966C765.4608,-314.0634 764.7716,-302.003 764.1915,-291.8518\"/>\n<polygon fill=\"#000000\" stroke=\"#000000\" points=\"767.6815,-291.5753 763.6166,-281.7913 760.6929,-291.9747 767.6815,-291.5753\"/>\n</g>\n<!-- 140431112142408 -->\n<g id=\"node41\" class=\"node\">\n<title>140431112142408</title>\n<polygon fill=\"#d3d3d3\" stroke=\"#000000\" points=\"807.5,-141.5 734.5,-141.5 734.5,-120.5 807.5,-120.5 807.5,-141.5\"/>\n<text text-anchor=\"middle\" x=\"771\" y=\"-127.9\" font-family=\"Times,serif\" font-size=\"12.00\" fill=\"#000000\">TBackward</text>\n</g>\n<!-- 140431112142408&#45;&gt;140429293179680 -->\n<g id=\"edge40\" class=\"edge\">\n<title>140431112142408&#45;&gt;140429293179680</title>\n<path fill=\"none\" stroke=\"#000000\" d=\"M752.4211,-120.3715C734.6525,-110.2066 707.6434,-94.7555 687.4046,-83.1774\"/>\n<polygon fill=\"#000000\" stroke=\"#000000\" points=\"689.0575,-80.0908 678.6395,-78.1631 685.5816,-86.1668 689.0575,-80.0908\"/>\n</g>\n<!-- 140431111644160 -->\n<g id=\"node42\" class=\"node\">\n<title>140431111644160</title>\n<polygon fill=\"#add8e6\" stroke=\"#000000\" points=\"826.5,-218 725.5,-218 725.5,-184 826.5,-184 826.5,-218\"/>\n<text text-anchor=\"middle\" x=\"776\" y=\"-204.4\" font-family=\"Times,serif\" font-size=\"12.00\" fill=\"#000000\">classifier.6.weight</text>\n<text text-anchor=\"middle\" x=\"776\" y=\"-191.4\" font-family=\"Times,serif\" font-size=\"12.00\" fill=\"#000000\"> (1000, 4096)</text>\n</g>\n<!-- 140431111644160&#45;&gt;140431112142408 -->\n<g id=\"edge41\" class=\"edge\">\n<title>140431111644160&#45;&gt;140431112142408</title>\n<path fill=\"none\" stroke=\"#000000\" d=\"M774.764,-183.6966C774.076,-174.0634 773.2145,-162.003 772.4894,-151.8518\"/>\n<polygon fill=\"#000000\" stroke=\"#000000\" points=\"775.9745,-151.5165 771.7708,-141.7913 768.9923,-152.0153 775.9745,-151.5165\"/>\n</g>\n</g>\n</svg>\n"
          },
          "metadata": {
            "tags": []
          },
          "execution_count": 10
        }
      ]
    },
    {
      "cell_type": "code",
      "metadata": {
        "colab_type": "code",
        "id": "Yiic1IyRpGHE",
        "colab": {}
      },
      "source": [
        "import random\n",
        "import torch.nn as nn"
      ],
      "execution_count": 0,
      "outputs": []
    },
    {
      "cell_type": "code",
      "metadata": {
        "colab_type": "code",
        "id": "b1mr3jKfpGHG",
        "colab": {}
      },
      "source": [
        "random.seed(1)\n",
        "torch.manual_seed(1)\n",
        "gpu = False\n",
        "alex.cpu()\n",
        "torch.no_grad()\n",
        "alex.eval()"
      ],
      "execution_count": 0,
      "outputs": []
    },
    {
      "cell_type": "code",
      "metadata": {
        "colab_type": "code",
        "id": "YgYEwgmJpdJJ",
        "colab": {}
      },
      "source": [
        "from google.colab import files\n",
        "uploaded = files.upload()"
      ],
      "execution_count": 0,
      "outputs": []
    },
    {
      "cell_type": "code",
      "metadata": {
        "colab_type": "code",
        "id": "gpcRZkA-pGHS",
        "colab": {}
      },
      "source": [
        "!wget https://blog.counselor.or.jp/wp-content/uploads/2019/06/image001-20.jpg\n",
        "!mv image001-20.jpg cat.jpg\n"
      ],
      "execution_count": 0,
      "outputs": []
    },
    {
      "cell_type": "code",
      "metadata": {
        "colab_type": "code",
        "id": "AI8DpaHGpGHU",
        "colab": {}
      },
      "source": [
        "jpg_file = 'cat.jpg'\n",
        "#IPython.display.Image(jpg_file)\n",
        "plt.figure(figsize=(10,8))\n",
        "plt.axis(False)\n",
        "plt.imshow(plt.imread(jpg_file))"
      ],
      "execution_count": 0,
      "outputs": []
    },
    {
      "cell_type": "code",
      "metadata": {
        "colab_type": "code",
        "id": "rAGI8gflpGHV",
        "colab": {}
      },
      "source": [
        "img = Image.open(jpg_file)"
      ],
      "execution_count": 0,
      "outputs": []
    },
    {
      "cell_type": "code",
      "metadata": {
        "colab_type": "code",
        "id": "eg2dyV8MpGHX",
        "colab": {}
      },
      "source": [
        "from torchvision import transforms"
      ],
      "execution_count": 0,
      "outputs": []
    },
    {
      "cell_type": "code",
      "metadata": {
        "colab_type": "code",
        "id": "AvK_53YppGHY",
        "colab": {}
      },
      "source": [
        "class BaseTransform():\n",
        "    \"\"\"\n",
        "    画像のサイズをリサイズし、色を標準化する。\n",
        "\n",
        "    Attributes\n",
        "    ----------\n",
        "    sizes : int\n",
        "        リサイズ先の画像の大きさ。\n",
        "    mean : (R, G, B)\n",
        "        各色チャネルの平均値。\n",
        "    std : (R, G, B)\n",
        "        各色チャネルの標準偏差。\n",
        "    \"\"\"\n",
        "\n",
        "    def __init__(self, sizes, mean, std):\n",
        "        self.base_transform = transforms.Compose([\n",
        "            transforms.Resize(sizes),  # 短い辺の長さがresizeの大きさになる\n",
        "            transforms.CenterCrop(sizes),  # 画像中央をresize × resizeで切り取り\n",
        "            transforms.ToTensor(),  # Torchテンソルに変換\n",
        "            transforms.Normalize(mean, std)  # 色情報の標準化\n",
        "        ])\n",
        "\n",
        "    def __call__(self, img):\n",
        "        return self.base_transform(img)"
      ],
      "execution_count": 0,
      "outputs": []
    },
    {
      "cell_type": "code",
      "metadata": {
        "colab_type": "code",
        "id": "OyIKdfa-pGHa",
        "colab": {}
      },
      "source": [
        "# 3. 画像の前処理と処理済み画像の表示\n",
        "resize = 224\n",
        "mean = (0.485, 0.456, 0.406)\n",
        "std = (0.229, 0.224, 0.225)\n",
        "transform = BaseTransform(resize, mean, std)\n",
        "img_transformed = transform(img)  # torch.Size([3, 224, 224])\n"
      ],
      "execution_count": 0,
      "outputs": []
    },
    {
      "cell_type": "code",
      "metadata": {
        "colab_type": "code",
        "id": "hLvRx3P0pGHf",
        "colab": {}
      },
      "source": [
        "#IPython.display.Image(img_transformed.numpy())\n",
        "type(img_transformed)\n",
        "img_transformed.size()"
      ],
      "execution_count": 0,
      "outputs": []
    },
    {
      "cell_type": "code",
      "metadata": {
        "colab_type": "code",
        "id": "bDtDl1CIpGHg",
        "colab": {}
      },
      "source": [
        "a = img_transformed.numpy().transpose((1,2,0))\n",
        "a = np.clip(a, 0, 1)\n",
        "plt.axis(False)\n",
        "plt.imshow(a)"
      ],
      "execution_count": 0,
      "outputs": []
    },
    {
      "cell_type": "code",
      "metadata": {
        "colab_type": "code",
        "id": "2McY1MVmpGHi",
        "colab": {}
      },
      "source": [
        "#IPython.display.display(PIL.Image.fromarray(a.transpose(2,0,1)))\n",
        "#IPython.display.display(a.transpose((2,0,1)))\n",
        "#from ipython_display import imshow\n",
        "#imshow(a)\n",
        "#a.transpose((2,0,1)).shape\n",
        "#a.shape\n",
        "#IPython.display.display(IPython.display.Image(data=a))  # ValueError: ndarray is not C-contiguous\n",
        "#IPython.display.display(a)  # nG\n",
        "#IPython.display.display(PIL.Image.fromarray(a))"
      ],
      "execution_count": 0,
      "outputs": []
    },
    {
      "cell_type": "code",
      "metadata": {
        "colab_type": "code",
        "id": "wQPs7680pGHk",
        "colab": {}
      },
      "source": [
        "plt.axis(False)\n",
        "plt.imshow(img)"
      ],
      "execution_count": 0,
      "outputs": []
    },
    {
      "cell_type": "code",
      "metadata": {
        "colab_type": "code",
        "id": "FMh3JrCNpGHm",
        "colab": {}
      },
      "source": [
        "# 前処理の後、バッチサイズの次元を追加する\n",
        "transform = BaseTransform(resize, mean, std)  # 前処理クラス作成\n",
        "img_transformed = transform(img)  # torch.Size([3, 224, 224])\n",
        "inputs = img_transformed.unsqueeze_(0)  # torch.Size([1, 3, 224, 224])"
      ],
      "execution_count": 0,
      "outputs": []
    },
    {
      "cell_type": "code",
      "metadata": {
        "colab_type": "code",
        "id": "oVYVF1ZgpGHo",
        "colab": {}
      },
      "source": [
        "# モデルに入力し、モデル出力をラベルに変換する\n",
        "out = alex(inputs)  # torch.Size([1, 1000])"
      ],
      "execution_count": 0,
      "outputs": []
    },
    {
      "cell_type": "code",
      "metadata": {
        "colab_type": "code",
        "id": "Q8T2vIPIpGHp",
        "colab": {}
      },
      "source": [
        "out.detach().numpy().argmax()"
      ],
      "execution_count": 0,
      "outputs": []
    },
    {
      "cell_type": "code",
      "metadata": {
        "colab_type": "code",
        "id": "Z5dPHGx7qowQ",
        "colab": {}
      },
      "source": [
        "import json\n",
        "!wget https://gist.githubusercontent.com/PonDad/4dcb4b242b9358e524b4ddecbee385e9/raw/dda9454f74aa4fafee991ca8b848c9ab6ae0e732/imagenet_class_index.json\n",
        "\n",
        "# ImageNet のラベル一覧の読み込み\n",
        "with open('imagenet_class_index.json') as f:\n",
        "    data = json.load(f)\n",
        "    class_names = np.array([row['ja'] for row in data])"
      ],
      "execution_count": 0,
      "outputs": []
    },
    {
      "cell_type": "code",
      "metadata": {
        "colab_type": "code",
        "id": "z9oy_10ppGHr",
        "colab": {}
      },
      "source": [
        "# ILSVRCのラベル情報をロードし辞意書型変数を生成します\n",
        "import json\n",
        "ILSVRC_class_index = json.load(open('imagenet_class_index.json', 'r'))\n",
        "#print(ILSVRC_class_index)\n",
        "len(ILSVRC_class_index)\n",
        "ILSVRC_class_index[285]"
      ],
      "execution_count": 0,
      "outputs": []
    },
    {
      "cell_type": "code",
      "metadata": {
        "colab_type": "code",
        "id": "aH91hIyqpGHt",
        "colab": {}
      },
      "source": [
        "test_img = np.random.random((224,224,3))\n",
        "#test_img = PIL.Image.fromarray(test_img)\n",
        "#plt.imshow(test_img)\n",
        "#img_transformed2 = transform(test_img)\n",
        "#inputs = img_transformed.unsqueeze_(0)\n",
        "inputs = torch.from_numpy(test_img).unsqueeze_(0)"
      ],
      "execution_count": 0,
      "outputs": []
    },
    {
      "cell_type": "code",
      "metadata": {
        "colab_type": "code",
        "id": "X84mZFbGpGHu",
        "colab": {}
      },
      "source": [
        "#inputs.size()\n",
        "#out = alex.forward(inputs)\n",
        "a = torch.rand([1,3,224,224])\n",
        "out = alex.forward(a)\n",
        "#alex.forward(torch.from_numpy(np.random.random((1,224,224,3))))"
      ],
      "execution_count": 0,
      "outputs": []
    },
    {
      "cell_type": "code",
      "metadata": {
        "colab_type": "code",
        "id": "ErcHiWR-pGHw",
        "colab": {}
      },
      "source": [
        "ILSVRC_class_index[out.detach().numpy().argmax()]"
      ],
      "execution_count": 0,
      "outputs": []
    },
    {
      "cell_type": "code",
      "metadata": {
        "colab_type": "code",
        "id": "xPrDo1-SpGHx",
        "colab": {}
      },
      "source": [
        "!wget https://blog.counselor.or.jp/wp-content/uploads/2019/06/image001-20.jpg\n",
        "!mv image001-20.jpg cat.jpg\n"
      ],
      "execution_count": 0,
      "outputs": []
    },
    {
      "cell_type": "code",
      "metadata": {
        "colab_type": "code",
        "id": "Bqlckl5fpGHz",
        "colab": {}
      },
      "source": [
        "jpg_file = 'cat.jpg'\n",
        "\n",
        "#IPython.display.Image(jpg_file)\n",
        "img = Image.open(jpg_file)\n",
        "img_transformed = transform(img)  # torch.Size([3, 224, 224])\n",
        "inputs = img_transformed.unsqueeze_(0)  # torch.Size([1, 3, 224, 224])\n",
        "out = alex(inputs)  # torch.Size([1, 1000])"
      ],
      "execution_count": 0,
      "outputs": []
    },
    {
      "cell_type": "code",
      "metadata": {
        "colab_type": "code",
        "id": "yP37kfzMpGH0",
        "colab": {}
      },
      "source": [
        "ILSVRC_class_index[out.detach().numpy().argmax()]"
      ],
      "execution_count": 0,
      "outputs": []
    },
    {
      "cell_type": "code",
      "metadata": {
        "id": "ABg5hlVsFdPL",
        "colab_type": "code",
        "colab": {}
      },
      "source": [
        ""
      ],
      "execution_count": 0,
      "outputs": []
    }
  ]
}