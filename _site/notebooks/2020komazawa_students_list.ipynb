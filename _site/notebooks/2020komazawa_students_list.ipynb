{
  "nbformat": 4,
  "nbformat_minor": 0,
  "metadata": {
    "colab": {
      "name": "2020komazawa_students_list.ipynb",
      "provenance": [],
      "private_outputs": true,
      "authorship_tag": "ABX9TyOyvapK6E2PiY0lUFEi3KK4",
      "include_colab_link": true
    },
    "kernelspec": {
      "name": "python3",
      "display_name": "Python 3"
    }
  },
  "cells": [
    {
      "cell_type": "markdown",
      "metadata": {
        "id": "view-in-github",
        "colab_type": "text"
      },
      "source": [
        "<a href=\"https://colab.research.google.com/github/komazawa-deep-learning/komazawa-deep-learning.github.io/blob/master/notebooks/2020komazawa_students_list.ipynb\" target=\"_parent\"><img src=\"https://colab.research.google.com/assets/colab-badge.svg\" alt=\"Open In Colab\"/></a>"
      ]
    },
    {
      "cell_type": "code",
      "metadata": {
        "id": "2FqKwYmlj-F_",
        "colab_type": "code",
        "colab": {}
      },
      "source": [
        "students= {\n",
        "    0:{'name':'武田 練', 'ID':'NB9005'},\n",
        "    1:{'name':'海保 智也', 'ID':'NB9029'},\n",
        "    2:{'name':'古賀 萌樹', 'ID':'NB9048'},\n",
        "    3:{'name':'鷲谷 佳佑', 'ID':'NB9072'},\n",
        "    4:{'name':'宮脇 忠義', 'ID':'NB9076'},\n",
        "    5:{'name':'坂本 麗安', 'ID':'NB9077'},\n",
        "    6:{'name':'上田 陸斗', 'ID':'NB9079'},\n",
        "    7:{'name':'蕪木 沙都', 'ID':'NB9087'},\n",
        "    8:{'name':'横山 亜仁衣', 'ID':'NB9092'},\n",
        "    9:{'name':'後藤 一平', 'ID':'NB8009'},\n",
        "    10:{'name':'安齊 真子', 'ID':'NB8017'},\n",
        "    11:{'name':'稲葉 雅人', 'ID':'NB8034'},\n",
        "    12:{'name':'鶴岡 怜', 'ID':'NB8054'},\n",
        "    13:{'name':'大久保 莉佳', 'ID':'NB8062'},\n",
        "    14:{'name':'仲上 風花', 'ID':'NB8078'},\n",
        "    15:{'name':'三ツ井 将生', 'ID':'NB7033'},\n",
        "    16:{'name':'岩本 真歩', 'ID':'NB7086'},\n",
        "    17:{'name':'小林カイト', 'ID':'EX8107'}, \n",
        "    18:{'name':'桑原慎吾', 'ID':'EX8076'},\n",
        "    19:{'name':'しゅうよく', 'ID':'3319104'},\n",
        "    20:{'name':'濱野兆', 'ID':'3310101'}\n",
        "}"
      ],
      "execution_count": 0,
      "outputs": []
    },
    {
      "cell_type": "code",
      "metadata": {
        "id": "kcoRw1DilqcM",
        "colab_type": "code",
        "colab": {}
      },
      "source": [
        "students"
      ],
      "execution_count": 0,
      "outputs": []
    },
    {
      "cell_type": "code",
      "metadata": {
        "id": "RBVTxlJvlrHu",
        "colab_type": "code",
        "colab": {}
      },
      "source": [
        "#import pandas as pd\n",
        "import numpy as np\n",
        "import time"
      ],
      "execution_count": 0,
      "outputs": []
    },
    {
      "cell_type": "code",
      "metadata": {
        "id": "LpfStCeTmDGC",
        "colab_type": "code",
        "colab": {}
      },
      "source": [
        "np.random.seed(int(time.time()))\n",
        "#np.random.seed(3)\n",
        "choice = np.argmax(np.random.random_sample(size=len(students)))\n",
        "print(choice, students[choice]['name'], students[choice]['ID'])"
      ],
      "execution_count": 0,
      "outputs": []
    },
    {
      "cell_type": "code",
      "metadata": {
        "id": "47p1JzQrmjN7",
        "colab_type": "code",
        "colab": {}
      },
      "source": [
        "order = np.random.permutation(range(len(students)))"
      ],
      "execution_count": 0,
      "outputs": []
    },
    {
      "cell_type": "code",
      "metadata": {
        "id": "6dV57qz7m3KL",
        "colab_type": "code",
        "colab": {}
      },
      "source": [
        "for choice in order[:7]:\n",
        "    print(choice, students[choice]['name'], students[choice]['ID'])"
      ],
      "execution_count": 0,
      "outputs": []
    },
    {
      "cell_type": "code",
      "metadata": {
        "id": "myvasbHinHnS",
        "colab_type": "code",
        "colab": {}
      },
      "source": [
        ""
      ],
      "execution_count": 0,
      "outputs": []
    }
  ]
}