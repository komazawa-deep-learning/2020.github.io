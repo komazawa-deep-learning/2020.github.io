{
 "cells": [
  {
   "cell_type": "markdown",
   "metadata": {
    "colab_type": "text",
    "id": "view-in-github"
   },
   "source": [
    "<a href=\"https://colab.research.google.com/github/komazawa-deep-learning/komazawa-deep-learning.github.io/blob/master/2022notebooks/2022_0616muler_lyer_test.ipynb\" target=\"_parent\"><img src=\"https://colab.research.google.com/assets/colab-badge.svg\" alt=\"Open In Colab\"/></a>"
   ]
  },
  {
   "cell_type": "code",
   "execution_count": 1,
   "metadata": {
    "id": "878NIOciEsVc"
   },
   "outputs": [
    {
     "name": "stdout",
     "output_type": "stream",
     "text": [
      "日付: \u001b[1m\u001b[32m2022-07-07\u001b[0m\n",
      "HOSTNAME: \u001b[1m\u001b[32mSinope\u001b[0m\n",
      "ユーザ名: \u001b[1m\u001b[32m_asakawa\u001b[0m\n",
      "HOME: \u001b[1m\u001b[32m/Users/_asakawa\u001b[0m\n",
      "ファイル名: \u001b[1m\u001b[32mstudy/2022komazawa-deep-learning_komazawa-deep-learning.github.io/2022notebooks/2022_0616muler_lyer_test.ipynb\u001b[0m\n",
      "torch.__version__: \u001b[1m\u001b[32m1.12.0\u001b[0m\n"
     ]
    }
   ],
   "source": [
    "%config InlineBackend.figure_format = 'retina'\n",
    "import torch    \n",
    "    \n",
    "try:\n",
    "    import bit\n",
    "except ImportError:\n",
    "    !pip install ipynbname --upgrade > /dev/null 2>&1\n",
    "    import os\n",
    "    import shutil\n",
    "    if os.path.exists('bit'):\n",
    "        shutil.rmtree('bit')\n",
    "    !git clone https://github.com/ShinAsakawa/bit.git\n",
    "import bit\n",
    "isColab = bit.isColab\n",
    "HOME = bit.HOME\n",
    "# 以下を import bit の前に持ってくるとエラーになる\n",
    "#%matplotlib inline\n",
    "\n",
    "try:\n",
    "    import japanize_matplotlib\n",
    "except ImportError:\n",
    "    !pip install japanize_matplotlib\n",
    "    import japanize_matplotlib\n",
    "    "
   ]
  },
  {
   "cell_type": "code",
   "execution_count": 2,
   "metadata": {
    "id": "DUbCXb_nElbF"
   },
   "outputs": [],
   "source": [
    "import typing\n",
    "import os\n",
    "import random\n",
    "import numpy as np\n",
    "from glob import glob\n",
    "\n",
    "import matplotlib.pyplot as plt\n",
    "\n",
    "import PIL\n",
    "from PIL import Image\n",
    "from PIL import ImageDraw\n",
    "from PIL import ImageFont"
   ]
  },
  {
   "cell_type": "code",
   "execution_count": 3,
   "metadata": {
    "id": "UNBSXgJHEnno"
   },
   "outputs": [],
   "source": [
    "DEFAULT_CANVAS_WIDTH = 224\n",
    "DEFAULT_CANVAS_HEIGHT = 224\n",
    "DEFAULT_LINE_LENGTH = int((DEFAULT_CANVAS_WIDTH >> 2) * 3)\n",
    "DEFAULT_LINE_WIDTH = 3\n",
    "DEFAULT_FIN_LENGTH = int((DEFAULT_LINE_LENGTH >> 2))\n",
    "\n",
    "def make_a_canvas(width:int=DEFAULT_CANVAS_WIDTH,\n",
    "                  height:int=DEFAULT_CANVAS_HEIGHT,\n",
    "                  color:tuple=(255,255,255), # 真っ白な (255,255,255) 画像\n",
    "                  )->PIL.Image.Image:\n",
    "    '''刺激を描くためのキャンバスを作成して返す'''\n",
    "    print(f'width:{width}, height:{height}')\n",
    "    img = Image.new(mode='RGB', \n",
    "                    size=(width, height), \n",
    "                    color=color)  \n",
    "    draw = ImageDraw.Draw(img)  # draw オブジェクト ある種のキャンバスを生成\n",
    "    return img, draw\n",
    "    \n",
    "def set_new_canvas(width:int=DEFAULT_CANVAS_WIDTH,\n",
    "                   height:int=DEFAULT_CANVAS_HEIGHT):\n",
    "    canvas, draw = make_a_canvas(width=width, height=height)\n",
    "    return canvas, draw\n",
    "\n",
    "def draw_a_line_(draw:PIL.ImageDraw.ImageDraw=None,\n",
    "                 x0:int=0,                         # 主線の開始座標 x\n",
    "                 y0:int=0,                         # 主線の開始座標 y\n",
    "                 fin_length=DEFAULT_FIN_LENGTH,    # 矢羽の長さ\n",
    "                 theta:float=np.pi / 4,            # 矢羽の主線に対する角度，単位ラジアン\n",
    "                 _length:int=DEFAULT_LINE_LENGTH,  # 主線の長さ\n",
    "                 _width:int=DEFAULT_LINE_WIDTH,    # 主線の幅\n",
    "                 _color=None)->PIL.ImageDraw.ImageDraw:  # 主線の色\n",
    "    '''線分を PIL.Image.Image に書き込む'''\n",
    "\n",
    "    assert isinstance(draw, PIL.ImageDraw.ImageDraw), 'draw が定義されていません'\n",
    "    x0_org = x0\n",
    "    color = (10,10,10) if _color == None else _color\n",
    "    print(f'x0:{x0} y0:{y0}',\n",
    "          f'theta:{theta:.3f}',\n",
    "          f'fin_length:{fin_length}',\n",
    "          f'line_length:{_length}', \n",
    "          f'line_width:{_width} color={color}')\n",
    "    # 主線の描画\n",
    "    draw.line(xy=[(x0, y0), (x0 + _length, y0)], width=_width, fill=color)\n",
    "\n",
    "    # 左矢羽 fin の描画\n",
    "    x1 = +int(fin_length * np.cos(theta))\n",
    "    y1 = -int(fin_length * np.sin(theta))\n",
    "    draw.line(xy=[(x0, y0), (x0 + x1, y0 + y1)], width=_width, fill=color)\n",
    "    y1 = +int(fin_length * np.sin(theta))\n",
    "    draw.line(xy=[(x0, y0), (x0 + x1, y0 + y1)], width=_width, fill=color)\n",
    "    \n",
    "    # 右矢羽の描画\n",
    "    x0 += _length\n",
    "    x1 = +int(fin_length * np.cos(np.pi - theta))\n",
    "    y1 = -int(fin_length * np.sin(np.pi - theta))\n",
    "    draw.line(xy=[(x0, y0), (x0 + x1 ,y0 + y1)], width=_width, fill=color)\n",
    "    y1 = +int(fin_length * np.sin(np.pi - theta))\n",
    "    draw.line(xy=[(x0, y0), (x0 + x1, y0 + y1)], width=_width, fill=color)\n",
    "    \n",
    "    return draw\n"
   ]
  },
  {
   "cell_type": "code",
   "execution_count": 8,
   "metadata": {
    "colab": {
     "base_uri": "https://localhost:8080/",
     "height": 649
    },
    "id": "RO1mxUpmFAO0",
    "outputId": "811610cb-a3f8-4ec7-e572-c72c3435edf5"
   },
   "outputs": [
    {
     "name": "stdout",
     "output_type": "stream",
     "text": [
      "width:512, height:512\n",
      "x0:110 y0:100 theta:0.524 fin_length:80 line_length:300 line_width:5 color=(255, 0, 0)\n",
      "x0:100 y0:200 theta:2.618 fin_length:80 line_length:300 line_width:5 color=(10, 10, 10)\n"
     ]
    },
    {
     "data": {
      "text/plain": [
       "<matplotlib.image.AxesImage at 0x7fe2d2d87730>"
      ]
     },
     "execution_count": 8,
     "metadata": {},
     "output_type": "execute_result"
    },
    {
     "data": {
      "image/png": "[encoded data removed]",
      "text/plain": [
       "<Figure size 432x432 with 1 Axes>"
      ]
     },
     "metadata": {
      "image/png": {
       "height": 359,
       "width": 344
      }
     },
     "output_type": "display_data"
    }
   ],
   "source": [
    "img, draw = make_a_canvas(width=512,height=512)\n",
    "draw = draw_a_line_(theta=np.pi/6, draw=draw, x0=110, y0=100, _width=5, _length=300, fin_length=80, _color=(255,0,0))\n",
    "draw = draw_a_line_(draw=draw, x0=100, y0=200, _width=5, _length=300, fin_length=80, theta=np.pi/6*5)\n",
    "plt.figure(figsize=(6,6))\n",
    "#plt.ticks('off')\n",
    "#plt.xticks([])\n",
    "plt.xticks([]),plt.yticks([])\n",
    "plt.title('ミューラー・リヤーの錯視')\n",
    "plt.imshow(img)"
   ]
  },
  {
   "cell_type": "code",
   "execution_count": null,
   "metadata": {
    "id": "P2xQ6b0YFemI"
   },
   "outputs": [],
   "source": []
  }
 ],
 "metadata": {
  "colab": {
   "include_colab_link": true,
   "name": "2022_0616muler_lyer_test.ipynb",
   "provenance": []
  },
  "kernelspec": {
   "display_name": "Python 3 (ipykernel)",
   "language": "python",
   "name": "python3"
  },
  "language_info": {
   "codemirror_mode": {
    "name": "ipython",
    "version": 3
   },
   "file_extension": ".py",
   "mimetype": "text/x-python",
   "name": "python",
   "nbconvert_exporter": "python",
   "pygments_lexer": "ipython3",
   "version": "3.9.12"
  },
  "widgets": {
   "application/vnd.jupyter.widget-state+json": {
    "state": {},
    "version_major": 2,
    "version_minor": 0
   }
  }
 },
 "nbformat": 4,
 "nbformat_minor": 4
}
