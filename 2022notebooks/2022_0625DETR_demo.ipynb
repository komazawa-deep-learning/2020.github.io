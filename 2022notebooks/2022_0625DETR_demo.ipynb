{
  "cells": [
    {
      "cell_type": "markdown",
      "metadata": {
        "id": "view-in-github",
        "colab_type": "text"
      },
      "source": [
        "<a href=\"https://colab.research.google.com/github/komazawa-deep-learning/komazawa-deep-learning.github.io/blob/master/2022notebooks/2022_0625DETR_demo.ipynb\" target=\"_parent\"><img src=\"https://colab.research.google.com/assets/colab-badge.svg\" alt=\"Open In Colab\"/></a>"
      ]
    },
    {
      "cell_type": "markdown",
      "metadata": {
        "id": "fzkJUMTxn8hB"
      },
      "source": [
        "# DETR を用いた領域切り出し\n",
        "\n",
        "ここでは，バウンディングボックス，画像から注目する領域の四角形を切り出しと，パノプティック切り出しを行う。\n",
        "\n",
        "[DETR](https://arxiv.org/pdf/2005.12872) とは，トランスフォーマーを用いた符号化器-復号化器 (encoder-decoder) モデルである。\n"
      ]
    },
    {
      "cell_type": "markdown",
      "metadata": {
        "id": "-y8-ObRY1Ir-"
      },
      "source": [
        "<center>\n",
        "<img src=\"https://komazawa-deep-learning.github.io/2022assets/2020Carion_DETR_fig2ja.png\" width=\"88%\"><br/>\n",
        "<!-- <img src=\"https://komazawa-deep-learning.github.io/2022assets/2020Carion_DETR_fig2.svg\" width=\"88%\"><br/> -->\n",
        "</center>\n",
        "\n"
      ]
    },
    {
      "cell_type": "markdown",
      "metadata": {
        "id": "D94dCpHipOx6"
      },
      "source": [
        "## 準備作業"
      ]
    },
    {
      "cell_type": "code",
      "execution_count": 1,
      "metadata": {
        "colab": {
          "base_uri": "https://localhost:8080/"
        },
        "id": "4b8OrPiUm3hD",
        "outputId": "b08138e5-36cd-40f5-b898-f1695f657fff"
      },
      "outputs": [
        {
          "output_type": "stream",
          "name": "stdout",
          "text": [
            "日付: \u001b[1m\u001b[32m2022-06-23\u001b[0m\n",
            "HOSTNAME: \u001b[1m\u001b[32m71a312c6370d\u001b[0m\n",
            "ユーザ名: \u001b[1m\u001b[32mroot\u001b[0m\n",
            "HOME: \u001b[1m\u001b[32m/root\u001b[0m\n",
            "ファイル名: \u001b[1m\u001b[32m/fileId=1r7e8KEIyinaaO4ADE8IHEIOsFc7fj07t\u001b[0m\n",
            "torch.__version__: \u001b[1m\u001b[32m1.11.0+cu113\u001b[0m\n"
          ]
        }
      ],
      "source": [
        "%config InlineBackend.figure_format = 'retina'\n",
        "import IPython\n",
        "isColab = 'google.colab' in str(IPython.get_ipython())\n",
        "\n",
        "from termcolor import colored\n",
        "import platform\n",
        "HOSTNAME = platform.node().split('.')[0]\n",
        "\n",
        "import os\n",
        "HOME = os.environ['HOME']\n",
        "\n",
        "try:\n",
        "    import ipynbname\n",
        "except ImportError:\n",
        "    !pip install ipynbname > /dev/null\n",
        "import ipynbname\n",
        "FILEPATH = str(ipynbname.path()).replace(HOME+'/','')\n",
        "\n",
        "import pwd\n",
        "USER=pwd.getpwuid(os.geteuid())[0]\n",
        "\n",
        "from datetime import date\n",
        "TODAY=date.today()\n",
        "\n",
        "import torch\n",
        "TORCH_VERSION = torch.__version__\n",
        "\n",
        "color = 'green'\n",
        "print('日付:',colored(f'{TODAY}', color=color, attrs=['bold']))\n",
        "print('HOSTNAME:',colored(f'{HOSTNAME}', color=color, attrs=['bold']))\n",
        "print('ユーザ名:',colored(f'{USER}', color=color, attrs=['bold']))\n",
        "print('HOME:',colored(f'{HOME}', color=color,attrs=['bold']))\n",
        "print('ファイル名:',colored(f'{FILEPATH}', color=color, attrs=['bold']))\n",
        "print('torch.__version__:',colored(f'{TORCH_VERSION}', color=color, attrs=['bold']))"
      ]
    },
    {
      "cell_type": "code",
      "execution_count": 3,
      "metadata": {
        "id": "WCXaQ4VaJXv0",
        "colab": {
          "base_uri": "https://localhost:8080/"
        },
        "outputId": "8b0b22b5-6d5c-4caf-8442-7c174dbf4d18"
      },
      "outputs": [
        {
          "output_type": "stream",
          "name": "stdout",
          "text": [
            "Looking in indexes: https://pypi.org/simple, https://us-python.pkg.dev/colab-wheels/public/simple/\n",
            "Collecting japanize_matplotlib\n",
            "  Downloading japanize-matplotlib-1.1.3.tar.gz (4.1 MB)\n",
            "\u001b[K     |████████████████████████████████| 4.1 MB 8.5 MB/s \n",
            "\u001b[?25hRequirement already satisfied: matplotlib in /usr/local/lib/python3.7/dist-packages (from japanize_matplotlib) (3.2.2)\n",
            "Requirement already satisfied: numpy>=1.11 in /usr/local/lib/python3.7/dist-packages (from matplotlib->japanize_matplotlib) (1.21.6)\n",
            "Requirement already satisfied: kiwisolver>=1.0.1 in /usr/local/lib/python3.7/dist-packages (from matplotlib->japanize_matplotlib) (1.4.3)\n",
            "Requirement already satisfied: pyparsing!=2.0.4,!=2.1.2,!=2.1.6,>=2.0.1 in /usr/local/lib/python3.7/dist-packages (from matplotlib->japanize_matplotlib) (3.0.9)\n",
            "Requirement already satisfied: python-dateutil>=2.1 in /usr/local/lib/python3.7/dist-packages (from matplotlib->japanize_matplotlib) (2.8.2)\n",
            "Requirement already satisfied: cycler>=0.10 in /usr/local/lib/python3.7/dist-packages (from matplotlib->japanize_matplotlib) (0.11.0)\n",
            "Requirement already satisfied: typing-extensions in /usr/local/lib/python3.7/dist-packages (from kiwisolver>=1.0.1->matplotlib->japanize_matplotlib) (4.1.1)\n",
            "Requirement already satisfied: six>=1.5 in /usr/local/lib/python3.7/dist-packages (from python-dateutil>=2.1->matplotlib->japanize_matplotlib) (1.15.0)\n",
            "Building wheels for collected packages: japanize-matplotlib\n",
            "  Building wheel for japanize-matplotlib (setup.py) ... \u001b[?25l\u001b[?25hdone\n",
            "  Created wheel for japanize-matplotlib: filename=japanize_matplotlib-1.1.3-py3-none-any.whl size=4120275 sha256=33e49a20c4bde2d919430ca734b0f25c742d726128d70a6b387341b5616e3f48\n",
            "  Stored in directory: /root/.cache/pip/wheels/83/97/6b/e9e0cde099cc40f972b8dd23367308f7705ae06cd6d4714658\n",
            "Successfully built japanize-matplotlib\n",
            "Installing collected packages: japanize-matplotlib\n",
            "Successfully installed japanize-matplotlib-1.1.3\n"
          ]
        }
      ],
      "source": [
        "from PIL import Image\n",
        "import requests\n",
        "import io\n",
        "import math\n",
        "import matplotlib.pyplot as plt\n",
        "try:\n",
        "    import japanize_matplotlib\n",
        "except ImportError:    \n",
        "    !pip install japanize_matplotlib\n",
        "import japanize_matplotlib\n",
        "\n",
        "import torch\n",
        "from torch import nn\n",
        "#from torchvision.models import resnet50\n",
        "import torchvision.transforms as T\n",
        "import numpy\n",
        "torch.set_grad_enabled(False);"
      ]
    },
    {
      "cell_type": "markdown",
      "metadata": {
        "id": "QtMDds6mpwfn"
      },
      "source": [
        "パノプティック 切り出しのための API をインストール"
      ]
    },
    {
      "cell_type": "code",
      "execution_count": 4,
      "metadata": {
        "id": "0Ys8lZhFCwXe",
        "colab": {
          "base_uri": "https://localhost:8080/"
        },
        "outputId": "9399bde9-2086-4134-97d0-de39c22ba730"
      },
      "outputs": [
        {
          "output_type": "stream",
          "name": "stdout",
          "text": [
            "Looking in indexes: https://pypi.org/simple, https://us-python.pkg.dev/colab-wheels/public/simple/\n",
            "Collecting git+https://github.com/cocodataset/panopticapi.git\n",
            "  Cloning https://github.com/cocodataset/panopticapi.git to /tmp/pip-req-build-jemrtiv4\n",
            "  Running command git clone -q https://github.com/cocodataset/panopticapi.git /tmp/pip-req-build-jemrtiv4\n",
            "Requirement already satisfied: numpy in /usr/local/lib/python3.7/dist-packages (from panopticapi==0.1) (1.21.6)\n",
            "Requirement already satisfied: Pillow in /usr/local/lib/python3.7/dist-packages (from panopticapi==0.1) (7.1.2)\n",
            "Building wheels for collected packages: panopticapi\n",
            "  Building wheel for panopticapi (setup.py) ... \u001b[?25l\u001b[?25hdone\n",
            "  Created wheel for panopticapi: filename=panopticapi-0.1-py3-none-any.whl size=8306 sha256=54d4f44f2ca074899a3f809a80faf1ac7e10bdef1d7cf570a2839e8cafdae7ce\n",
            "  Stored in directory: /tmp/pip-ephem-wheel-cache-e0tjmuxx/wheels/ad/89/b8/b66cce9246af3d71d65d72c85ab993fd28e7578e1b0ed197f1\n",
            "Successfully built panopticapi\n",
            "Installing collected packages: panopticapi\n",
            "Successfully installed panopticapi-0.1\n"
          ]
        }
      ],
      "source": [
        "try:\n",
        "    import panopticapi\n",
        "except ImportError:\n",
        "    !pip install git+https://github.com/cocodataset/panopticapi.git --upgrade\n",
        "\n",
        "import panopticapi\n",
        "from panopticapi.utils import id2rgb, rgb2id"
      ]
    },
    {
      "cell_type": "code",
      "execution_count": 5,
      "metadata": {
        "id": "QD4mQxHIqGCr"
      },
      "outputs": [],
      "source": [
        "# MS COCO のクラス\n",
        "CLASSES = [\n",
        "    'N/A', '人', '自転車', '車', 'バイク', '飛行機', 'バス',\n",
        "    '電車', 'トラック', 'ボート', '信号機', '消火栓', 'N/A',\n",
        "    '停止サイン', '駐車メータ', 'ベンチ', '鳥', 'ネコ', 'イヌ', '馬',\n",
        "    '羊', '牛', '象', '熊', 'シマウマ', 'キリン', 'N/A', 'バックパック',\n",
        "    '傘', 'N/A', 'N/A', 'ハンドバッグ', 'ネクタイ', 'スーツケース', 'フリスビー', 'スキー',\n",
        "    'スノーボード', 'sports ball', '凧', '野球のバット', '野球のグラブ',\n",
        "    'スケートボード', 'サーフボード', 'テニスラケット', 'ボトル', 'N/A', 'ワイングラス',\n",
        "    'カップ', 'フォーク', 'ナイフ', 'スプーン', 'ボウル', 'バナナ', 'りんご', 'サンドウィッチ',\n",
        "    'オレンジ', 'ブロッコリ', 'ニンジン', 'ホットドッグ', 'ピザ', 'ドーナッツ', 'ケーキ',\n",
        "    'イス', 'ソファ', '鉢植え', 'ベッド', 'N/A', 'ダイニングテーブル', 'N/A',\n",
        "    'N/A', 'トイレ', 'N/A', 'テレビ', 'ラップトップ', 'マウス', 'リモコン', 'キーボード',\n",
        "    '携帯電話', '電子レンジ', 'コンロ', 'トースター', '洗面台', '冷蔵庫', 'N/A',\n",
        "    '本', '時計', '花瓶', 'ハサミ', 'テディベア', 'ドライヤー',\n",
        "    '歯ブラシ'\n",
        "]\n",
        "\n",
        "\n",
        "# 視覚化のための色定義\n",
        "COLORS = [[0.000, 0.447, 0.741], [0.850, 0.325, 0.098], [0.929, 0.694, 0.125],\n",
        "          [0.494, 0.184, 0.556], [0.466, 0.674, 0.188], [0.301, 0.745, 0.933]]\n",
        "\n",
        "# 平均と標準偏差を用いて入力画像を正規化\n",
        "transform = T.Compose([\n",
        "    T.Resize(800),\n",
        "    T.ToTensor(),\n",
        "    T.Normalize([0.485, 0.456, 0.406], [0.229, 0.224, 0.225])\n",
        "])\n",
        "\n",
        "\n",
        "# バウンディングボックスの前処理。\n",
        "# バウンディングボックスの中心座標と幅から，左，上，右，下座標を計算する\n",
        "def box_cxcywh_to_xyxy(x):\n",
        "    x_c, y_c, w, h = x.unbind(1)\n",
        "    b = [(x_c - 0.5 * w), (y_c - 0.5 * h),\n",
        "         (x_c + 0.5 * w), (y_c + 0.5 * h)]\n",
        "    return torch.stack(b, dim=1)\n",
        "\n",
        "\n",
        "def rescale_bboxes(out_bbox, size):\n",
        "    img_w, img_h = size\n",
        "    b = box_cxcywh_to_xyxy(out_bbox)\n",
        "    b = b * torch.tensor([img_w, img_h, img_w, img_h], dtype=torch.float32)\n",
        "    return b\n",
        "\n",
        "\n",
        "def plot_results(pil_img, prob, boxes):\n",
        "    plt.figure(figsize=(16,10))\n",
        "    plt.imshow(pil_img)\n",
        "    ax = plt.gca()\n",
        "    colors = COLORS * 100\n",
        "    for p, (xmin, ymin, xmax, ymax), c in zip(prob, boxes.tolist(), colors):\n",
        "        ax.add_patch(plt.Rectangle((xmin, ymin), xmax - xmin, ymax - ymin,\n",
        "                                   fill=False, color=c, linewidth=3))\n",
        "        cl = p.argmax()\n",
        "        text = f'{CLASSES[cl]}: {p[cl]:0.2f}'\n",
        "        ax.text(xmin, ymin, text, fontsize=15,\n",
        "                bbox=dict(facecolor='yellow', alpha=0.5))\n",
        "    plt.axis('off')\n",
        "    plt.show()\n",
        "    \n",
        "# Detectron2 と クラスの定義が異なるため，その差異を吸収するため\n",
        "coco2d2 = {}\n",
        "count = 0\n",
        "for i, c in enumerate(CLASSES):\n",
        "    if c != \"N/A\":\n",
        "        coco2d2[i] = count\n",
        "    count+=1\n",
        "\n",
        "# 唯一の前処理 平均を引いて標準偏差で割る標準化\n",
        "transform = T.Compose([\n",
        "    T.Resize(800),\n",
        "    T.ToTensor(),\n",
        "    T.Normalize([0.485, 0.456, 0.406], [0.229, 0.224, 0.225])\n",
        "])"
      ]
    },
    {
      "cell_type": "markdown",
      "metadata": {
        "id": "OMFPx33oqjl-"
      },
      "source": [
        "## モデルハブから訓練済の結合係数を取得\n"
      ]
    },
    {
      "cell_type": "code",
      "execution_count": 6,
      "metadata": {
        "colab": {
          "base_uri": "https://localhost:8080/",
          "height": 202,
          "referenced_widgets": [
            "07ba1be1c23a4bb2b38ae33aa56461d7",
            "06353425aff54db1a5293c69745efbcf",
            "bb42cc356ccc4ce6a459c1f805feb3d5",
            "1d8d790e51f141d3b9d42151981babc6",
            "bddb7943dd2348589cf51f51e4460b47",
            "1400c3a711f54366bcf1e4efa2e9609a",
            "c2307b66b8db4d26946f46e61ba616e0",
            "3cd94e18a0c14ffb9e1caa4134946722",
            "4040f2c85f7a4aba835468c62b7792aa",
            "14497feae1204ca7957b3c102d3050ae",
            "6104d3a6f17f4e12a38df7e26a83bbeb",
            "9114d3389f57495f8532da1b8d623729",
            "8f128e87a16e4f739334c0ac4de8acc2",
            "e92e1f767c664aad88171a7c8893cabf",
            "81f273dcd36a4c2ab1c6a0eb34ec9eca",
            "a6ffec219b494fa1986d87ff02461670",
            "a073fe8587994ab4a10251f70536b869",
            "f74b6f04d8da4f7d917259245da99d9c",
            "0912261f85224b1d90bba3cb9089cf20",
            "fb66556549204444bc7de8cbe85c50f6",
            "2d4ef31e0fbe423bbbdca66c012c1d2f",
            "16f9b1b499bb4f66b07010fe3948fc8a",
            "e09590da9543422f90eea3471edf4ba9",
            "41d973e53bdc4f3095d405fc661f63b2",
            "ac36c517d4454744baefa853d6e8941a",
            "1c8e1ea8ae734cadb5fea2fb11ae1da4",
            "51aa85b9a2b74983b7b860b14f5d54cd",
            "dd26b7556192451aa69c8b1c17f10007",
            "f4f081abe3384a9d9f252954f8b4b4c8",
            "c2dbdb2fee9f43c18d382cbb71091057",
            "473724ff3ce841db9ddb8e182456c416",
            "478db9772fac4d4fb0c9c7007684a9c1",
            "5ba21634ade24ceb81438e3fc3e6196a"
          ]
        },
        "id": "VjMduGgp1IsC",
        "outputId": "30853be6-9535-488b-f700-c228960c4923"
      },
      "outputs": [
        {
          "output_type": "stream",
          "name": "stderr",
          "text": [
            "Downloading: \"https://github.com/facebookresearch/detr/archive/main.zip\" to /root/.cache/torch/hub/main.zip\n",
            "Downloading: \"https://download.pytorch.org/models/resnet50-0676ba61.pth\" to /root/.cache/torch/hub/checkpoints/resnet50-0676ba61.pth\n"
          ]
        },
        {
          "output_type": "display_data",
          "data": {
            "text/plain": [
              "  0%|          | 0.00/97.8M [00:00<?, ?B/s]"
            ],
            "application/vnd.jupyter.widget-view+json": {
              "version_major": 2,
              "version_minor": 0,
              "model_id": "07ba1be1c23a4bb2b38ae33aa56461d7"
            }
          },
          "metadata": {}
        },
        {
          "output_type": "stream",
          "name": "stderr",
          "text": [
            "Downloading: \"https://dl.fbaipublicfiles.com/detr/detr-r50-e632da11.pth\" to /root/.cache/torch/hub/checkpoints/detr-r50-e632da11.pth\n"
          ]
        },
        {
          "output_type": "display_data",
          "data": {
            "text/plain": [
              "  0%|          | 0.00/159M [00:00<?, ?B/s]"
            ],
            "application/vnd.jupyter.widget-view+json": {
              "version_major": 2,
              "version_minor": 0,
              "model_id": "9114d3389f57495f8532da1b8d623729"
            }
          },
          "metadata": {}
        },
        {
          "output_type": "stream",
          "name": "stderr",
          "text": [
            "Using cache found in /root/.cache/torch/hub/facebookresearch_detr_main\n",
            "Downloading: \"https://dl.fbaipublicfiles.com/detr/detr-r50-panoptic-00ce5173.pth\" to /root/.cache/torch/hub/checkpoints/detr-r50-panoptic-00ce5173.pth\n"
          ]
        },
        {
          "output_type": "display_data",
          "data": {
            "text/plain": [
              "  0%|          | 0.00/164M [00:00<?, ?B/s]"
            ],
            "application/vnd.jupyter.widget-view+json": {
              "version_major": 2,
              "version_minor": 0,
              "model_id": "e09590da9543422f90eea3471edf4ba9"
            }
          },
          "metadata": {}
        }
      ],
      "source": [
        "detr_resnet = torch.hub.load(repo_or_dir='facebookresearch/detr', \n",
        "                             model='detr_resnet50', \n",
        "                             pretrained=True)\n",
        "\n",
        "detr_resnet_panoptic, postprocessor0 = torch.hub.load(\n",
        "    repo_or_dir='facebookresearch/detr', \n",
        "    model='detr_resnet50_panoptic', \n",
        "    pretrained=True,\n",
        "    return_postprocessor=True,\n",
        "    num_classes=250)\n"
      ]
    },
    {
      "cell_type": "markdown",
      "metadata": {
        "id": "ocODwfQCrdMJ"
      },
      "source": [
        "COCO 検証用データセットから画像を取得"
      ]
    },
    {
      "cell_type": "code",
      "execution_count": null,
      "metadata": {
        "id": "m0nBn09S1IsD"
      },
      "outputs": [],
      "source": [
        "if not os.path.exists('000000039769.jpg'):\n",
        "    !wget http://images.cocodataset.org/val2017/000000039769.jpg\n",
        "im = Image.open('000000039769.jpg')\n",
        "IPython.display.Image('000000039769.jpg')"
      ]
    },
    {
      "cell_type": "markdown",
      "metadata": {
        "id": "qYcbaKb21IsD"
      },
      "source": [
        "* 前処理を，各データに施し，予測をフィルタリング\n",
        "* クラスの信頼度が しきい値 (0.9) よりも高い物体のみを保存する\n",
        " (非オブジェクトの予測は除外)。\n",
        "* より多くの予測を得たい場合は，この閾値を下げる\n"
      ]
    },
    {
      "cell_type": "code",
      "execution_count": 8,
      "metadata": {
        "colab": {
          "base_uri": "https://localhost:8080/"
        },
        "id": "3200ocl31IsD",
        "outputId": "2bff20fb-9303-46e9-bda7-69fa22b31e57"
      },
      "outputs": [
        {
          "output_type": "stream",
          "name": "stderr",
          "text": [
            "/root/.cache/torch/hub/facebookresearch_detr_main/models/position_encoding.py:41: UserWarning: __floordiv__ is deprecated, and its behavior will change in a future version of pytorch. It currently rounds toward 0 (like the 'trunc' function NOT 'floor'). This results in incorrect rounding for negative values. To keep the current behavior, use torch.div(a, b, rounding_mode='trunc'), or for actual floor division, use torch.div(a, b, rounding_mode='floor').\n",
            "  dim_t = self.temperature ** (2 * (dim_t // 2) / self.num_pos_feats)\n"
          ]
        }
      ],
      "source": [
        "# 平均を引いて，標準偏差で割る正規化をバッチサイズ 1 の入力画像に対して行う\n",
        "img = transform(im).unsqueeze(0)\n",
        "outputs = detr_resnet(img) # model に通して出力を得る\n",
        "\n",
        "# 確信度 0.9 以上の予測値だけを考慮する。\n",
        "probas = outputs['pred_logits'].softmax(-1)[0, :, :-1]\n",
        "keep = probas.max(-1).values > 0.9\n",
        "\n",
        "# バウンディングボックス(注目する画像の矩形領域) を縮尺に合わせて拡大\n",
        "bboxes_scaled = rescale_bboxes(outputs['pred_boxes'][0, keep], im.size)"
      ]
    },
    {
      "cell_type": "code",
      "execution_count": null,
      "metadata": {
        "id": "VVw4eyiQ1IsD"
      },
      "outputs": [],
      "source": [
        "plot_results(im, probas[keep], bboxes_scaled) # 結果の描画"
      ]
    },
    {
      "cell_type": "markdown",
      "metadata": {
        "id": "TuatckKM1IsD"
      },
      "source": [
        "## パノプティック切り出し"
      ]
    },
    {
      "cell_type": "code",
      "execution_count": null,
      "metadata": {
        "id": "Op0dsKy51IsE"
      },
      "outputs": [],
      "source": [
        "import os\n",
        "img_fname = '000000281759.jpg'\n",
        "if not os.path.exists(img_fname):\n",
        "    !wget http://images.cocodataset.org/val2017/000000281759.jpg -O 000000281759.jpg\n",
        "im = Image.open(img_fname)\n",
        "IPython.display.Image(img_fname)"
      ]
    },
    {
      "cell_type": "markdown",
      "metadata": {
        "id": "-teJ9yAUryIG"
      },
      "source": [
        "検出の実施"
      ]
    },
    {
      "cell_type": "code",
      "execution_count": 11,
      "metadata": {
        "colab": {
          "base_uri": "https://localhost:8080/"
        },
        "id": "h3oUWwJCKIlD",
        "outputId": "06d75239-6b81-48d2-cd0d-6ba5fccfe569"
      },
      "outputs": [
        {
          "output_type": "stream",
          "name": "stderr",
          "text": [
            "/root/.cache/torch/hub/facebookresearch_detr_main/models/position_encoding.py:41: UserWarning: __floordiv__ is deprecated, and its behavior will change in a future version of pytorch. It currently rounds toward 0 (like the 'trunc' function NOT 'floor'). This results in incorrect rounding for negative values. To keep the current behavior, use torch.div(a, b, rounding_mode='trunc'), or for actual floor division, use torch.div(a, b, rounding_mode='floor').\n",
            "  dim_t = self.temperature ** (2 * (dim_t // 2) / self.num_pos_feats)\n"
          ]
        }
      ],
      "source": [
        "img = transform(im).unsqueeze(0)\n",
        "out = detr_resnet_panoptic(img)"
      ]
    },
    {
      "cell_type": "markdown",
      "metadata": {
        "id": "is76xRRYsC3y"
      },
      "source": [
        "これは各クエリのマスクを返すので、信頼度の高いものを可視化してみましょう。\n",
        "<!-- This returns a mask for each query, let us visualize the high confidence ones -->"
      ]
    },
    {
      "cell_type": "code",
      "execution_count": null,
      "metadata": {
        "id": "BbnfNJti1IsE"
      },
      "outputs": [],
      "source": [
        "# compute the scores, excluding the \"no-object\" class (the last one)\n",
        "scores = out[\"pred_logits\"].softmax(-1)[..., :-1].max(-1)[0]\n",
        "# threshold the confidence\n",
        "keep = scores > 0.85\n",
        "\n",
        "# Plot all the remaining masks\n",
        "ncols = 5\n",
        "fig, axs = plt.subplots(ncols=ncols, nrows=math.ceil(keep.sum().item() / ncols), figsize=(18, 10))\n",
        "for line in axs:\n",
        "    for a in line:\n",
        "        a.axis('off')\n",
        "for i, mask in enumerate(out[\"pred_masks\"][keep]):\n",
        "    ax = axs[i // ncols, i % ncols]\n",
        "    ax.imshow(mask, cmap=\"cividis\")\n",
        "    ax.axis('off')\n",
        "fig.tight_layout()"
      ]
    },
    {
      "cell_type": "markdown",
      "metadata": {
        "id": "fjDRLX3yDrlH"
      },
      "source": [
        "個々のマスクが揃ったので、予測を統合して統一されたパノプティックセグメンテーションにすることができます。\n",
        "そのためにDETRのポストプロセッサーを使用します。\n",
        "<!-- Now that we have the individual masks, we can merge the predictions into a unified panoptic segmentation. \n",
        "We use DETR's postprocessor for that. -->"
      ]
    },
    {
      "cell_type": "code",
      "execution_count": 13,
      "metadata": {
        "id": "LurQI5Z-Ay1Z"
      },
      "outputs": [],
      "source": [
        "# the post-processor expects as input the target size of the predictions (which we set here to the image size)\n",
        "result = postprocessor0(out, torch.as_tensor(img.shape[-2:]).unsqueeze(0))[0]"
      ]
    },
    {
      "cell_type": "markdown",
      "metadata": {
        "id": "GSrX5h15EU-O"
      },
      "source": [
        "簡単な結果の表示"
      ]
    },
    {
      "cell_type": "code",
      "execution_count": null,
      "metadata": {
        "id": "LAjJjP9kAHhA"
      },
      "outputs": [],
      "source": [
        "import itertools\n",
        "import seaborn as sns\n",
        "palette = itertools.cycle(sns.color_palette())\n",
        "\n",
        "# The segmentation is stored in a special-format png\n",
        "panoptic_seg = Image.open(io.BytesIO(result['png_string']))\n",
        "panoptic_seg = numpy.array(panoptic_seg, dtype=numpy.uint8).copy()\n",
        "# We retrieve the ids corresponding to each mask\n",
        "panoptic_seg_id = rgb2id(panoptic_seg)\n",
        "\n",
        "# Finally we color each mask individually\n",
        "panoptic_seg[:, :, :] = 0\n",
        "for id in range(panoptic_seg_id.max() + 1):\n",
        "    panoptic_seg[panoptic_seg_id == id] = numpy.asarray(next(palette)) * 255\n",
        "plt.figure(figsize=(15,15))\n",
        "plt.imshow(panoptic_seg)\n",
        "plt.axis('off')\n",
        "plt.show()"
      ]
    },
    {
      "cell_type": "markdown",
      "metadata": {
        "id": "YKxteXUKvQZ-"
      },
      "source": [
        "## Detectron2 を用いた視覚化"
      ]
    },
    {
      "cell_type": "code",
      "execution_count": null,
      "metadata": {
        "id": "CvW8Nws31IsF"
      },
      "outputs": [],
      "source": [
        "try:\n",
        "    import detectron2\n",
        "except ImportError:\n",
        "    !pip install 'git+https://github.com/facebookresearch/detectron2.git'\n",
        "    #!pip install detectron2==0.1.3 -f https://dl.fbaipublicfiles.com/detectron2/wheels/cu101/torch1.5/index.html\n",
        "\n",
        "import detectron2\n",
        "detectron2.__version__"
      ]
    },
    {
      "cell_type": "code",
      "execution_count": 16,
      "metadata": {
        "id": "KRG38DsytU7G"
      },
      "outputs": [],
      "source": [
        "from detectron2.config import get_cfg\n",
        "from detectron2.utils.visualizer import Visualizer\n",
        "from detectron2.data import MetadataCatalog\n",
        "if isColab:\n",
        "    from google.colab.patches import cv2_imshow"
      ]
    },
    {
      "cell_type": "markdown",
      "metadata": {
        "id": "NEZkdoc-wC7m"
      },
      "source": [
        "結果の表示"
      ]
    },
    {
      "cell_type": "code",
      "execution_count": null,
      "metadata": {
        "id": "rYoKWqFyBWE9"
      },
      "outputs": [],
      "source": [
        "from copy import deepcopy\n",
        "\n",
        "# We extract the segments info and the panoptic result from DETR's prediction\n",
        "segments_info = deepcopy(result[\"segments_info\"])\n",
        "\n",
        "# Panoptic predictions are stored in a special format png\n",
        "panoptic_seg = Image.open(io.BytesIO(result['png_string']))\n",
        "final_w, final_h = panoptic_seg.size\n",
        "\n",
        "# We convert the png into an segment id map\n",
        "panoptic_seg = numpy.array(panoptic_seg, dtype=numpy.uint8)\n",
        "panoptic_seg = torch.from_numpy(rgb2id(panoptic_seg))\n",
        "\n",
        "    \n",
        "# Detectron2 uses a different numbering of coco classes, here we convert the class ids accordingly\n",
        "meta = MetadataCatalog.get(\"coco_2017_val_panoptic_separated\")\n",
        "for i in range(len(segments_info)):\n",
        "    c = segments_info[i][\"category_id\"]\n",
        "    segments_info[i][\"category_id\"] = meta.thing_dataset_id_to_contiguous_id[c] if segments_info[i][\"isthing\"] else meta.stuff_dataset_id_to_contiguous_id[c]\n",
        "\n",
        "    \n",
        "# Finally we visualize the prediction\n",
        "v = Visualizer(numpy.array(im.copy().resize((final_w, final_h)))[:, :, ::-1], meta, scale=1.0)\n",
        "v._default_font_size = 20\n",
        "v = v.draw_panoptic_seg_predictions(panoptic_seg, segments_info, area_threshold=0)\n",
        "if isColab:\n",
        "    cv2_imshow(v.get_image())\n",
        "else:\n",
        "    plt.figure(figsize=(20,20))\n",
        "    plt.imshow(v.get_image()[:,:,::-1])\n",
        "    plt.show()"
      ]
    },
    {
      "cell_type": "code",
      "execution_count": null,
      "metadata": {
        "id": "xEzXCJZwBRBF"
      },
      "outputs": [],
      "source": [
        ""
      ]
    }
  ],
  "metadata": {
    "colab": {
      "name": "2022_0625DETR_demo.ipynb",
      "provenance": [],
      "toc_visible": true,
      "include_colab_link": true
    },
    "kernelspec": {
      "display_name": "Python 3 (ipykernel)",
      "language": "python",
      "name": "python3"
    },
    "language_info": {
      "codemirror_mode": {
        "name": "ipython",
        "version": 3
      },
      "file_extension": ".py",
      "mimetype": "text/x-python",
      "name": "python",
      "nbconvert_exporter": "python",
      "pygments_lexer": "ipython3",
      "version": "3.9.12"
    },
    "widgets": {
      "application/vnd.jupyter.widget-state+json": {
        "07ba1be1c23a4bb2b38ae33aa56461d7": {
          "model_module": "@jupyter-widgets/controls",
          "model_name": "HBoxModel",
          "model_module_version": "1.5.0",
          "state": {
            "_dom_classes": [],
            "_model_module": "@jupyter-widgets/controls",
            "_model_module_version": "1.5.0",
            "_model_name": "HBoxModel",
            "_view_count": null,
            "_view_module": "@jupyter-widgets/controls",
            "_view_module_version": "1.5.0",
            "_view_name": "HBoxView",
            "box_style": "",
            "children": [
              "IPY_MODEL_06353425aff54db1a5293c69745efbcf",
              "IPY_MODEL_bb42cc356ccc4ce6a459c1f805feb3d5",
              "IPY_MODEL_1d8d790e51f141d3b9d42151981babc6"
            ],
            "layout": "IPY_MODEL_bddb7943dd2348589cf51f51e4460b47"
          }
        },
        "06353425aff54db1a5293c69745efbcf": {
          "model_module": "@jupyter-widgets/controls",
          "model_name": "HTMLModel",
          "model_module_version": "1.5.0",
          "state": {
            "_dom_classes": [],
            "_model_module": "@jupyter-widgets/controls",
            "_model_module_version": "1.5.0",
            "_model_name": "HTMLModel",
            "_view_count": null,
            "_view_module": "@jupyter-widgets/controls",
            "_view_module_version": "1.5.0",
            "_view_name": "HTMLView",
            "description": "",
            "description_tooltip": null,
            "layout": "IPY_MODEL_1400c3a711f54366bcf1e4efa2e9609a",
            "placeholder": "​",
            "style": "IPY_MODEL_c2307b66b8db4d26946f46e61ba616e0",
            "value": "100%"
          }
        },
        "bb42cc356ccc4ce6a459c1f805feb3d5": {
          "model_module": "@jupyter-widgets/controls",
          "model_name": "FloatProgressModel",
          "model_module_version": "1.5.0",
          "state": {
            "_dom_classes": [],
            "_model_module": "@jupyter-widgets/controls",
            "_model_module_version": "1.5.0",
            "_model_name": "FloatProgressModel",
            "_view_count": null,
            "_view_module": "@jupyter-widgets/controls",
            "_view_module_version": "1.5.0",
            "_view_name": "ProgressView",
            "bar_style": "success",
            "description": "",
            "description_tooltip": null,
            "layout": "IPY_MODEL_3cd94e18a0c14ffb9e1caa4134946722",
            "max": 102530333,
            "min": 0,
            "orientation": "horizontal",
            "style": "IPY_MODEL_4040f2c85f7a4aba835468c62b7792aa",
            "value": 102530333
          }
        },
        "1d8d790e51f141d3b9d42151981babc6": {
          "model_module": "@jupyter-widgets/controls",
          "model_name": "HTMLModel",
          "model_module_version": "1.5.0",
          "state": {
            "_dom_classes": [],
            "_model_module": "@jupyter-widgets/controls",
            "_model_module_version": "1.5.0",
            "_model_name": "HTMLModel",
            "_view_count": null,
            "_view_module": "@jupyter-widgets/controls",
            "_view_module_version": "1.5.0",
            "_view_name": "HTMLView",
            "description": "",
            "description_tooltip": null,
            "layout": "IPY_MODEL_14497feae1204ca7957b3c102d3050ae",
            "placeholder": "​",
            "style": "IPY_MODEL_6104d3a6f17f4e12a38df7e26a83bbeb",
            "value": " 97.8M/97.8M [00:01&lt;00:00, 138MB/s]"
          }
        },
        "bddb7943dd2348589cf51f51e4460b47": {
          "model_module": "@jupyter-widgets/base",
          "model_name": "LayoutModel",
          "model_module_version": "1.2.0",
          "state": {
            "_model_module": "@jupyter-widgets/base",
            "_model_module_version": "1.2.0",
            "_model_name": "LayoutModel",
            "_view_count": null,
            "_view_module": "@jupyter-widgets/base",
            "_view_module_version": "1.2.0",
            "_view_name": "LayoutView",
            "align_content": null,
            "align_items": null,
            "align_self": null,
            "border": null,
            "bottom": null,
            "display": null,
            "flex": null,
            "flex_flow": null,
            "grid_area": null,
            "grid_auto_columns": null,
            "grid_auto_flow": null,
            "grid_auto_rows": null,
            "grid_column": null,
            "grid_gap": null,
            "grid_row": null,
            "grid_template_areas": null,
            "grid_template_columns": null,
            "grid_template_rows": null,
            "height": null,
            "justify_content": null,
            "justify_items": null,
            "left": null,
            "margin": null,
            "max_height": null,
            "max_width": null,
            "min_height": null,
            "min_width": null,
            "object_fit": null,
            "object_position": null,
            "order": null,
            "overflow": null,
            "overflow_x": null,
            "overflow_y": null,
            "padding": null,
            "right": null,
            "top": null,
            "visibility": null,
            "width": null
          }
        },
        "1400c3a711f54366bcf1e4efa2e9609a": {
          "model_module": "@jupyter-widgets/base",
          "model_name": "LayoutModel",
          "model_module_version": "1.2.0",
          "state": {
            "_model_module": "@jupyter-widgets/base",
            "_model_module_version": "1.2.0",
            "_model_name": "LayoutModel",
            "_view_count": null,
            "_view_module": "@jupyter-widgets/base",
            "_view_module_version": "1.2.0",
            "_view_name": "LayoutView",
            "align_content": null,
            "align_items": null,
            "align_self": null,
            "border": null,
            "bottom": null,
            "display": null,
            "flex": null,
            "flex_flow": null,
            "grid_area": null,
            "grid_auto_columns": null,
            "grid_auto_flow": null,
            "grid_auto_rows": null,
            "grid_column": null,
            "grid_gap": null,
            "grid_row": null,
            "grid_template_areas": null,
            "grid_template_columns": null,
            "grid_template_rows": null,
            "height": null,
            "justify_content": null,
            "justify_items": null,
            "left": null,
            "margin": null,
            "max_height": null,
            "max_width": null,
            "min_height": null,
            "min_width": null,
            "object_fit": null,
            "object_position": null,
            "order": null,
            "overflow": null,
            "overflow_x": null,
            "overflow_y": null,
            "padding": null,
            "right": null,
            "top": null,
            "visibility": null,
            "width": null
          }
        },
        "c2307b66b8db4d26946f46e61ba616e0": {
          "model_module": "@jupyter-widgets/controls",
          "model_name": "DescriptionStyleModel",
          "model_module_version": "1.5.0",
          "state": {
            "_model_module": "@jupyter-widgets/controls",
            "_model_module_version": "1.5.0",
            "_model_name": "DescriptionStyleModel",
            "_view_count": null,
            "_view_module": "@jupyter-widgets/base",
            "_view_module_version": "1.2.0",
            "_view_name": "StyleView",
            "description_width": ""
          }
        },
        "3cd94e18a0c14ffb9e1caa4134946722": {
          "model_module": "@jupyter-widgets/base",
          "model_name": "LayoutModel",
          "model_module_version": "1.2.0",
          "state": {
            "_model_module": "@jupyter-widgets/base",
            "_model_module_version": "1.2.0",
            "_model_name": "LayoutModel",
            "_view_count": null,
            "_view_module": "@jupyter-widgets/base",
            "_view_module_version": "1.2.0",
            "_view_name": "LayoutView",
            "align_content": null,
            "align_items": null,
            "align_self": null,
            "border": null,
            "bottom": null,
            "display": null,
            "flex": null,
            "flex_flow": null,
            "grid_area": null,
            "grid_auto_columns": null,
            "grid_auto_flow": null,
            "grid_auto_rows": null,
            "grid_column": null,
            "grid_gap": null,
            "grid_row": null,
            "grid_template_areas": null,
            "grid_template_columns": null,
            "grid_template_rows": null,
            "height": null,
            "justify_content": null,
            "justify_items": null,
            "left": null,
            "margin": null,
            "max_height": null,
            "max_width": null,
            "min_height": null,
            "min_width": null,
            "object_fit": null,
            "object_position": null,
            "order": null,
            "overflow": null,
            "overflow_x": null,
            "overflow_y": null,
            "padding": null,
            "right": null,
            "top": null,
            "visibility": null,
            "width": null
          }
        },
        "4040f2c85f7a4aba835468c62b7792aa": {
          "model_module": "@jupyter-widgets/controls",
          "model_name": "ProgressStyleModel",
          "model_module_version": "1.5.0",
          "state": {
            "_model_module": "@jupyter-widgets/controls",
            "_model_module_version": "1.5.0",
            "_model_name": "ProgressStyleModel",
            "_view_count": null,
            "_view_module": "@jupyter-widgets/base",
            "_view_module_version": "1.2.0",
            "_view_name": "StyleView",
            "bar_color": null,
            "description_width": ""
          }
        },
        "14497feae1204ca7957b3c102d3050ae": {
          "model_module": "@jupyter-widgets/base",
          "model_name": "LayoutModel",
          "model_module_version": "1.2.0",
          "state": {
            "_model_module": "@jupyter-widgets/base",
            "_model_module_version": "1.2.0",
            "_model_name": "LayoutModel",
            "_view_count": null,
            "_view_module": "@jupyter-widgets/base",
            "_view_module_version": "1.2.0",
            "_view_name": "LayoutView",
            "align_content": null,
            "align_items": null,
            "align_self": null,
            "border": null,
            "bottom": null,
            "display": null,
            "flex": null,
            "flex_flow": null,
            "grid_area": null,
            "grid_auto_columns": null,
            "grid_auto_flow": null,
            "grid_auto_rows": null,
            "grid_column": null,
            "grid_gap": null,
            "grid_row": null,
            "grid_template_areas": null,
            "grid_template_columns": null,
            "grid_template_rows": null,
            "height": null,
            "justify_content": null,
            "justify_items": null,
            "left": null,
            "margin": null,
            "max_height": null,
            "max_width": null,
            "min_height": null,
            "min_width": null,
            "object_fit": null,
            "object_position": null,
            "order": null,
            "overflow": null,
            "overflow_x": null,
            "overflow_y": null,
            "padding": null,
            "right": null,
            "top": null,
            "visibility": null,
            "width": null
          }
        },
        "6104d3a6f17f4e12a38df7e26a83bbeb": {
          "model_module": "@jupyter-widgets/controls",
          "model_name": "DescriptionStyleModel",
          "model_module_version": "1.5.0",
          "state": {
            "_model_module": "@jupyter-widgets/controls",
            "_model_module_version": "1.5.0",
            "_model_name": "DescriptionStyleModel",
            "_view_count": null,
            "_view_module": "@jupyter-widgets/base",
            "_view_module_version": "1.2.0",
            "_view_name": "StyleView",
            "description_width": ""
          }
        },
        "9114d3389f57495f8532da1b8d623729": {
          "model_module": "@jupyter-widgets/controls",
          "model_name": "HBoxModel",
          "model_module_version": "1.5.0",
          "state": {
            "_dom_classes": [],
            "_model_module": "@jupyter-widgets/controls",
            "_model_module_version": "1.5.0",
            "_model_name": "HBoxModel",
            "_view_count": null,
            "_view_module": "@jupyter-widgets/controls",
            "_view_module_version": "1.5.0",
            "_view_name": "HBoxView",
            "box_style": "",
            "children": [
              "IPY_MODEL_8f128e87a16e4f739334c0ac4de8acc2",
              "IPY_MODEL_e92e1f767c664aad88171a7c8893cabf",
              "IPY_MODEL_81f273dcd36a4c2ab1c6a0eb34ec9eca"
            ],
            "layout": "IPY_MODEL_a6ffec219b494fa1986d87ff02461670"
          }
        },
        "8f128e87a16e4f739334c0ac4de8acc2": {
          "model_module": "@jupyter-widgets/controls",
          "model_name": "HTMLModel",
          "model_module_version": "1.5.0",
          "state": {
            "_dom_classes": [],
            "_model_module": "@jupyter-widgets/controls",
            "_model_module_version": "1.5.0",
            "_model_name": "HTMLModel",
            "_view_count": null,
            "_view_module": "@jupyter-widgets/controls",
            "_view_module_version": "1.5.0",
            "_view_name": "HTMLView",
            "description": "",
            "description_tooltip": null,
            "layout": "IPY_MODEL_a073fe8587994ab4a10251f70536b869",
            "placeholder": "​",
            "style": "IPY_MODEL_f74b6f04d8da4f7d917259245da99d9c",
            "value": "100%"
          }
        },
        "e92e1f767c664aad88171a7c8893cabf": {
          "model_module": "@jupyter-widgets/controls",
          "model_name": "FloatProgressModel",
          "model_module_version": "1.5.0",
          "state": {
            "_dom_classes": [],
            "_model_module": "@jupyter-widgets/controls",
            "_model_module_version": "1.5.0",
            "_model_name": "FloatProgressModel",
            "_view_count": null,
            "_view_module": "@jupyter-widgets/controls",
            "_view_module_version": "1.5.0",
            "_view_name": "ProgressView",
            "bar_style": "success",
            "description": "",
            "description_tooltip": null,
            "layout": "IPY_MODEL_0912261f85224b1d90bba3cb9089cf20",
            "max": 166618694,
            "min": 0,
            "orientation": "horizontal",
            "style": "IPY_MODEL_fb66556549204444bc7de8cbe85c50f6",
            "value": 166618694
          }
        },
        "81f273dcd36a4c2ab1c6a0eb34ec9eca": {
          "model_module": "@jupyter-widgets/controls",
          "model_name": "HTMLModel",
          "model_module_version": "1.5.0",
          "state": {
            "_dom_classes": [],
            "_model_module": "@jupyter-widgets/controls",
            "_model_module_version": "1.5.0",
            "_model_name": "HTMLModel",
            "_view_count": null,
            "_view_module": "@jupyter-widgets/controls",
            "_view_module_version": "1.5.0",
            "_view_name": "HTMLView",
            "description": "",
            "description_tooltip": null,
            "layout": "IPY_MODEL_2d4ef31e0fbe423bbbdca66c012c1d2f",
            "placeholder": "​",
            "style": "IPY_MODEL_16f9b1b499bb4f66b07010fe3948fc8a",
            "value": " 159M/159M [00:01&lt;00:00, 89.6MB/s]"
          }
        },
        "a6ffec219b494fa1986d87ff02461670": {
          "model_module": "@jupyter-widgets/base",
          "model_name": "LayoutModel",
          "model_module_version": "1.2.0",
          "state": {
            "_model_module": "@jupyter-widgets/base",
            "_model_module_version": "1.2.0",
            "_model_name": "LayoutModel",
            "_view_count": null,
            "_view_module": "@jupyter-widgets/base",
            "_view_module_version": "1.2.0",
            "_view_name": "LayoutView",
            "align_content": null,
            "align_items": null,
            "align_self": null,
            "border": null,
            "bottom": null,
            "display": null,
            "flex": null,
            "flex_flow": null,
            "grid_area": null,
            "grid_auto_columns": null,
            "grid_auto_flow": null,
            "grid_auto_rows": null,
            "grid_column": null,
            "grid_gap": null,
            "grid_row": null,
            "grid_template_areas": null,
            "grid_template_columns": null,
            "grid_template_rows": null,
            "height": null,
            "justify_content": null,
            "justify_items": null,
            "left": null,
            "margin": null,
            "max_height": null,
            "max_width": null,
            "min_height": null,
            "min_width": null,
            "object_fit": null,
            "object_position": null,
            "order": null,
            "overflow": null,
            "overflow_x": null,
            "overflow_y": null,
            "padding": null,
            "right": null,
            "top": null,
            "visibility": null,
            "width": null
          }
        },
        "a073fe8587994ab4a10251f70536b869": {
          "model_module": "@jupyter-widgets/base",
          "model_name": "LayoutModel",
          "model_module_version": "1.2.0",
          "state": {
            "_model_module": "@jupyter-widgets/base",
            "_model_module_version": "1.2.0",
            "_model_name": "LayoutModel",
            "_view_count": null,
            "_view_module": "@jupyter-widgets/base",
            "_view_module_version": "1.2.0",
            "_view_name": "LayoutView",
            "align_content": null,
            "align_items": null,
            "align_self": null,
            "border": null,
            "bottom": null,
            "display": null,
            "flex": null,
            "flex_flow": null,
            "grid_area": null,
            "grid_auto_columns": null,
            "grid_auto_flow": null,
            "grid_auto_rows": null,
            "grid_column": null,
            "grid_gap": null,
            "grid_row": null,
            "grid_template_areas": null,
            "grid_template_columns": null,
            "grid_template_rows": null,
            "height": null,
            "justify_content": null,
            "justify_items": null,
            "left": null,
            "margin": null,
            "max_height": null,
            "max_width": null,
            "min_height": null,
            "min_width": null,
            "object_fit": null,
            "object_position": null,
            "order": null,
            "overflow": null,
            "overflow_x": null,
            "overflow_y": null,
            "padding": null,
            "right": null,
            "top": null,
            "visibility": null,
            "width": null
          }
        },
        "f74b6f04d8da4f7d917259245da99d9c": {
          "model_module": "@jupyter-widgets/controls",
          "model_name": "DescriptionStyleModel",
          "model_module_version": "1.5.0",
          "state": {
            "_model_module": "@jupyter-widgets/controls",
            "_model_module_version": "1.5.0",
            "_model_name": "DescriptionStyleModel",
            "_view_count": null,
            "_view_module": "@jupyter-widgets/base",
            "_view_module_version": "1.2.0",
            "_view_name": "StyleView",
            "description_width": ""
          }
        },
        "0912261f85224b1d90bba3cb9089cf20": {
          "model_module": "@jupyter-widgets/base",
          "model_name": "LayoutModel",
          "model_module_version": "1.2.0",
          "state": {
            "_model_module": "@jupyter-widgets/base",
            "_model_module_version": "1.2.0",
            "_model_name": "LayoutModel",
            "_view_count": null,
            "_view_module": "@jupyter-widgets/base",
            "_view_module_version": "1.2.0",
            "_view_name": "LayoutView",
            "align_content": null,
            "align_items": null,
            "align_self": null,
            "border": null,
            "bottom": null,
            "display": null,
            "flex": null,
            "flex_flow": null,
            "grid_area": null,
            "grid_auto_columns": null,
            "grid_auto_flow": null,
            "grid_auto_rows": null,
            "grid_column": null,
            "grid_gap": null,
            "grid_row": null,
            "grid_template_areas": null,
            "grid_template_columns": null,
            "grid_template_rows": null,
            "height": null,
            "justify_content": null,
            "justify_items": null,
            "left": null,
            "margin": null,
            "max_height": null,
            "max_width": null,
            "min_height": null,
            "min_width": null,
            "object_fit": null,
            "object_position": null,
            "order": null,
            "overflow": null,
            "overflow_x": null,
            "overflow_y": null,
            "padding": null,
            "right": null,
            "top": null,
            "visibility": null,
            "width": null
          }
        },
        "fb66556549204444bc7de8cbe85c50f6": {
          "model_module": "@jupyter-widgets/controls",
          "model_name": "ProgressStyleModel",
          "model_module_version": "1.5.0",
          "state": {
            "_model_module": "@jupyter-widgets/controls",
            "_model_module_version": "1.5.0",
            "_model_name": "ProgressStyleModel",
            "_view_count": null,
            "_view_module": "@jupyter-widgets/base",
            "_view_module_version": "1.2.0",
            "_view_name": "StyleView",
            "bar_color": null,
            "description_width": ""
          }
        },
        "2d4ef31e0fbe423bbbdca66c012c1d2f": {
          "model_module": "@jupyter-widgets/base",
          "model_name": "LayoutModel",
          "model_module_version": "1.2.0",
          "state": {
            "_model_module": "@jupyter-widgets/base",
            "_model_module_version": "1.2.0",
            "_model_name": "LayoutModel",
            "_view_count": null,
            "_view_module": "@jupyter-widgets/base",
            "_view_module_version": "1.2.0",
            "_view_name": "LayoutView",
            "align_content": null,
            "align_items": null,
            "align_self": null,
            "border": null,
            "bottom": null,
            "display": null,
            "flex": null,
            "flex_flow": null,
            "grid_area": null,
            "grid_auto_columns": null,
            "grid_auto_flow": null,
            "grid_auto_rows": null,
            "grid_column": null,
            "grid_gap": null,
            "grid_row": null,
            "grid_template_areas": null,
            "grid_template_columns": null,
            "grid_template_rows": null,
            "height": null,
            "justify_content": null,
            "justify_items": null,
            "left": null,
            "margin": null,
            "max_height": null,
            "max_width": null,
            "min_height": null,
            "min_width": null,
            "object_fit": null,
            "object_position": null,
            "order": null,
            "overflow": null,
            "overflow_x": null,
            "overflow_y": null,
            "padding": null,
            "right": null,
            "top": null,
            "visibility": null,
            "width": null
          }
        },
        "16f9b1b499bb4f66b07010fe3948fc8a": {
          "model_module": "@jupyter-widgets/controls",
          "model_name": "DescriptionStyleModel",
          "model_module_version": "1.5.0",
          "state": {
            "_model_module": "@jupyter-widgets/controls",
            "_model_module_version": "1.5.0",
            "_model_name": "DescriptionStyleModel",
            "_view_count": null,
            "_view_module": "@jupyter-widgets/base",
            "_view_module_version": "1.2.0",
            "_view_name": "StyleView",
            "description_width": ""
          }
        },
        "e09590da9543422f90eea3471edf4ba9": {
          "model_module": "@jupyter-widgets/controls",
          "model_name": "HBoxModel",
          "model_module_version": "1.5.0",
          "state": {
            "_dom_classes": [],
            "_model_module": "@jupyter-widgets/controls",
            "_model_module_version": "1.5.0",
            "_model_name": "HBoxModel",
            "_view_count": null,
            "_view_module": "@jupyter-widgets/controls",
            "_view_module_version": "1.5.0",
            "_view_name": "HBoxView",
            "box_style": "",
            "children": [
              "IPY_MODEL_41d973e53bdc4f3095d405fc661f63b2",
              "IPY_MODEL_ac36c517d4454744baefa853d6e8941a",
              "IPY_MODEL_1c8e1ea8ae734cadb5fea2fb11ae1da4"
            ],
            "layout": "IPY_MODEL_51aa85b9a2b74983b7b860b14f5d54cd"
          }
        },
        "41d973e53bdc4f3095d405fc661f63b2": {
          "model_module": "@jupyter-widgets/controls",
          "model_name": "HTMLModel",
          "model_module_version": "1.5.0",
          "state": {
            "_dom_classes": [],
            "_model_module": "@jupyter-widgets/controls",
            "_model_module_version": "1.5.0",
            "_model_name": "HTMLModel",
            "_view_count": null,
            "_view_module": "@jupyter-widgets/controls",
            "_view_module_version": "1.5.0",
            "_view_name": "HTMLView",
            "description": "",
            "description_tooltip": null,
            "layout": "IPY_MODEL_dd26b7556192451aa69c8b1c17f10007",
            "placeholder": "​",
            "style": "IPY_MODEL_f4f081abe3384a9d9f252954f8b4b4c8",
            "value": "100%"
          }
        },
        "ac36c517d4454744baefa853d6e8941a": {
          "model_module": "@jupyter-widgets/controls",
          "model_name": "FloatProgressModel",
          "model_module_version": "1.5.0",
          "state": {
            "_dom_classes": [],
            "_model_module": "@jupyter-widgets/controls",
            "_model_module_version": "1.5.0",
            "_model_name": "FloatProgressModel",
            "_view_count": null,
            "_view_module": "@jupyter-widgets/controls",
            "_view_module_version": "1.5.0",
            "_view_name": "ProgressView",
            "bar_style": "success",
            "description": "",
            "description_tooltip": null,
            "layout": "IPY_MODEL_c2dbdb2fee9f43c18d382cbb71091057",
            "max": 172126309,
            "min": 0,
            "orientation": "horizontal",
            "style": "IPY_MODEL_473724ff3ce841db9ddb8e182456c416",
            "value": 172126309
          }
        },
        "1c8e1ea8ae734cadb5fea2fb11ae1da4": {
          "model_module": "@jupyter-widgets/controls",
          "model_name": "HTMLModel",
          "model_module_version": "1.5.0",
          "state": {
            "_dom_classes": [],
            "_model_module": "@jupyter-widgets/controls",
            "_model_module_version": "1.5.0",
            "_model_name": "HTMLModel",
            "_view_count": null,
            "_view_module": "@jupyter-widgets/controls",
            "_view_module_version": "1.5.0",
            "_view_name": "HTMLView",
            "description": "",
            "description_tooltip": null,
            "layout": "IPY_MODEL_478db9772fac4d4fb0c9c7007684a9c1",
            "placeholder": "​",
            "style": "IPY_MODEL_5ba21634ade24ceb81438e3fc3e6196a",
            "value": " 164M/164M [00:08&lt;00:00, 86.9MB/s]"
          }
        },
        "51aa85b9a2b74983b7b860b14f5d54cd": {
          "model_module": "@jupyter-widgets/base",
          "model_name": "LayoutModel",
          "model_module_version": "1.2.0",
          "state": {
            "_model_module": "@jupyter-widgets/base",
            "_model_module_version": "1.2.0",
            "_model_name": "LayoutModel",
            "_view_count": null,
            "_view_module": "@jupyter-widgets/base",
            "_view_module_version": "1.2.0",
            "_view_name": "LayoutView",
            "align_content": null,
            "align_items": null,
            "align_self": null,
            "border": null,
            "bottom": null,
            "display": null,
            "flex": null,
            "flex_flow": null,
            "grid_area": null,
            "grid_auto_columns": null,
            "grid_auto_flow": null,
            "grid_auto_rows": null,
            "grid_column": null,
            "grid_gap": null,
            "grid_row": null,
            "grid_template_areas": null,
            "grid_template_columns": null,
            "grid_template_rows": null,
            "height": null,
            "justify_content": null,
            "justify_items": null,
            "left": null,
            "margin": null,
            "max_height": null,
            "max_width": null,
            "min_height": null,
            "min_width": null,
            "object_fit": null,
            "object_position": null,
            "order": null,
            "overflow": null,
            "overflow_x": null,
            "overflow_y": null,
            "padding": null,
            "right": null,
            "top": null,
            "visibility": null,
            "width": null
          }
        },
        "dd26b7556192451aa69c8b1c17f10007": {
          "model_module": "@jupyter-widgets/base",
          "model_name": "LayoutModel",
          "model_module_version": "1.2.0",
          "state": {
            "_model_module": "@jupyter-widgets/base",
            "_model_module_version": "1.2.0",
            "_model_name": "LayoutModel",
            "_view_count": null,
            "_view_module": "@jupyter-widgets/base",
            "_view_module_version": "1.2.0",
            "_view_name": "LayoutView",
            "align_content": null,
            "align_items": null,
            "align_self": null,
            "border": null,
            "bottom": null,
            "display": null,
            "flex": null,
            "flex_flow": null,
            "grid_area": null,
            "grid_auto_columns": null,
            "grid_auto_flow": null,
            "grid_auto_rows": null,
            "grid_column": null,
            "grid_gap": null,
            "grid_row": null,
            "grid_template_areas": null,
            "grid_template_columns": null,
            "grid_template_rows": null,
            "height": null,
            "justify_content": null,
            "justify_items": null,
            "left": null,
            "margin": null,
            "max_height": null,
            "max_width": null,
            "min_height": null,
            "min_width": null,
            "object_fit": null,
            "object_position": null,
            "order": null,
            "overflow": null,
            "overflow_x": null,
            "overflow_y": null,
            "padding": null,
            "right": null,
            "top": null,
            "visibility": null,
            "width": null
          }
        },
        "f4f081abe3384a9d9f252954f8b4b4c8": {
          "model_module": "@jupyter-widgets/controls",
          "model_name": "DescriptionStyleModel",
          "model_module_version": "1.5.0",
          "state": {
            "_model_module": "@jupyter-widgets/controls",
            "_model_module_version": "1.5.0",
            "_model_name": "DescriptionStyleModel",
            "_view_count": null,
            "_view_module": "@jupyter-widgets/base",
            "_view_module_version": "1.2.0",
            "_view_name": "StyleView",
            "description_width": ""
          }
        },
        "c2dbdb2fee9f43c18d382cbb71091057": {
          "model_module": "@jupyter-widgets/base",
          "model_name": "LayoutModel",
          "model_module_version": "1.2.0",
          "state": {
            "_model_module": "@jupyter-widgets/base",
            "_model_module_version": "1.2.0",
            "_model_name": "LayoutModel",
            "_view_count": null,
            "_view_module": "@jupyter-widgets/base",
            "_view_module_version": "1.2.0",
            "_view_name": "LayoutView",
            "align_content": null,
            "align_items": null,
            "align_self": null,
            "border": null,
            "bottom": null,
            "display": null,
            "flex": null,
            "flex_flow": null,
            "grid_area": null,
            "grid_auto_columns": null,
            "grid_auto_flow": null,
            "grid_auto_rows": null,
            "grid_column": null,
            "grid_gap": null,
            "grid_row": null,
            "grid_template_areas": null,
            "grid_template_columns": null,
            "grid_template_rows": null,
            "height": null,
            "justify_content": null,
            "justify_items": null,
            "left": null,
            "margin": null,
            "max_height": null,
            "max_width": null,
            "min_height": null,
            "min_width": null,
            "object_fit": null,
            "object_position": null,
            "order": null,
            "overflow": null,
            "overflow_x": null,
            "overflow_y": null,
            "padding": null,
            "right": null,
            "top": null,
            "visibility": null,
            "width": null
          }
        },
        "473724ff3ce841db9ddb8e182456c416": {
          "model_module": "@jupyter-widgets/controls",
          "model_name": "ProgressStyleModel",
          "model_module_version": "1.5.0",
          "state": {
            "_model_module": "@jupyter-widgets/controls",
            "_model_module_version": "1.5.0",
            "_model_name": "ProgressStyleModel",
            "_view_count": null,
            "_view_module": "@jupyter-widgets/base",
            "_view_module_version": "1.2.0",
            "_view_name": "StyleView",
            "bar_color": null,
            "description_width": ""
          }
        },
        "478db9772fac4d4fb0c9c7007684a9c1": {
          "model_module": "@jupyter-widgets/base",
          "model_name": "LayoutModel",
          "model_module_version": "1.2.0",
          "state": {
            "_model_module": "@jupyter-widgets/base",
            "_model_module_version": "1.2.0",
            "_model_name": "LayoutModel",
            "_view_count": null,
            "_view_module": "@jupyter-widgets/base",
            "_view_module_version": "1.2.0",
            "_view_name": "LayoutView",
            "align_content": null,
            "align_items": null,
            "align_self": null,
            "border": null,
            "bottom": null,
            "display": null,
            "flex": null,
            "flex_flow": null,
            "grid_area": null,
            "grid_auto_columns": null,
            "grid_auto_flow": null,
            "grid_auto_rows": null,
            "grid_column": null,
            "grid_gap": null,
            "grid_row": null,
            "grid_template_areas": null,
            "grid_template_columns": null,
            "grid_template_rows": null,
            "height": null,
            "justify_content": null,
            "justify_items": null,
            "left": null,
            "margin": null,
            "max_height": null,
            "max_width": null,
            "min_height": null,
            "min_width": null,
            "object_fit": null,
            "object_position": null,
            "order": null,
            "overflow": null,
            "overflow_x": null,
            "overflow_y": null,
            "padding": null,
            "right": null,
            "top": null,
            "visibility": null,
            "width": null
          }
        },
        "5ba21634ade24ceb81438e3fc3e6196a": {
          "model_module": "@jupyter-widgets/controls",
          "model_name": "DescriptionStyleModel",
          "model_module_version": "1.5.0",
          "state": {
            "_model_module": "@jupyter-widgets/controls",
            "_model_module_version": "1.5.0",
            "_model_name": "DescriptionStyleModel",
            "_view_count": null,
            "_view_module": "@jupyter-widgets/base",
            "_view_module_version": "1.2.0",
            "_view_name": "StyleView",
            "description_width": ""
          }
        }
      }
    }
  },
  "nbformat": 4,
  "nbformat_minor": 0
}