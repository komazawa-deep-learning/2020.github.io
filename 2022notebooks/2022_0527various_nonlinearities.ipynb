{
  "nbformat": 4,
  "nbformat_minor": 0,
  "metadata": {
    "colab": {
      "name": "2022_0527various_nonlinearities.ipynb",
      "private_outputs": true,
      "provenance": [],
      "authorship_tag": "ABX9TyN4X5PpDwrrtBr3n69cuTBc",
      "include_colab_link": true
    },
    "kernelspec": {
      "name": "python3",
      "display_name": "Python 3"
    },
    "language_info": {
      "name": "python"
    }
  },
  "cells": [
    {
      "cell_type": "markdown",
      "metadata": {
        "id": "view-in-github",
        "colab_type": "text"
      },
      "source": [
        "<a href=\"https://colab.research.google.com/github/komazawa-deep-learning/komazawa-deep-learning.github.io/blob/master/2022notebooks/2022_0527various_nonlinearities.ipynb\" target=\"_parent\"><img src=\"https://colab.research.google.com/assets/colab-badge.svg\" alt=\"Open In Colab\"/></a>"
      ]
    },
    {
      "cell_type": "code",
      "execution_count": null,
      "metadata": {
        "id": "0TPVkjRUr7Ma"
      },
      "outputs": [],
      "source": [
        "import IPython\n",
        "isColab = 'google.colab' in str(IPython.get_ipython())\n",
        "if isColab:\n",
        "    !pip install japanize_matplotlib\n",
        "\n",
        "import numpy as np\n",
        "import matplotlib.pyplot as plt\n",
        "import japanize_matplotlib\n",
        "%config InlineBackend.figure_format = 'retina'\n",
        "\n",
        "# 様々な出力関数の描画\n",
        "x = np.linspace(-3, 4, 100)                                        # 定義域 x の設定，本例の場合 [-3,4) を 100 刻み\n",
        "relu = lambda x: np.maximum(0, x)                                  # 整流線形化関数 ReLU の定義\n",
        "leaky_relu = lambda x: np.maximum(0, x) + 0.1 * np.minimum(0, x)   # リーキー ReLU の定義\n",
        "elu = lambda x: (x > 0)*x + (1 - (x > 0)) * (np.exp(x) - 1)        # elu の定義\n",
        "sigmoid = lambda x: (1+np.exp(-x))**(-1)                           # シグモイド関数の定義\n",
        "\n",
        "def softmax(w, t = 1.0):                                           \n",
        "    \"\"\"ソフトマックス関数の定義\"\"\"\n",
        "    e = np.exp(w)\n",
        "    dist = e / np.sum(e)\n",
        "    return dist\n",
        "\n",
        "x_softmax = softmax(x)\n",
        "\n",
        "plt.figure(figsize=(8,6))\n",
        "plt.plot(x, relu(x), label='ReLU', lw=2)\n",
        "plt.plot(x, leaky_relu(x), label='Leaky ReLU',lw=2)\n",
        "plt.plot(x, elu(x), label='Elu', lw=2)\n",
        "plt.plot(x, sigmoid(x), label='シグモイド関数',lw=2)\n",
        "plt.legend(loc=2, fontsize=16)\n",
        "plt.title('様々な活性化関数', fontsize=20)\n",
        "plt.ylim([-2, 4])\n",
        "plt.xlim([-3, 3])\n",
        "plt.show()\n"
      ]
    },
    {
      "cell_type": "code",
      "source": [
        ""
      ],
      "metadata": {
        "id": "SqrxE-FNr8Oo"
      },
      "execution_count": null,
      "outputs": []
    }
  ]
}