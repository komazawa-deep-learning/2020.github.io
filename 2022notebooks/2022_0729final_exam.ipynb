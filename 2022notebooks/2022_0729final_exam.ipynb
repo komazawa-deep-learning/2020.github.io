{
  "cells": [
    {
      "cell_type": "markdown",
      "metadata": {
        "id": "view-in-github",
        "colab_type": "text"
      },
      "source": [
        "<a href=\"https://colab.research.google.com/github/komazawa-deep-learning/komazawa-deep-learning.github.io/blob/master/2022notebooks/2022_0729final_exam.ipynb\" target=\"_parent\"><img src=\"https://colab.research.google.com/assets/colab-badge.svg\" alt=\"Open In Colab\"/></a>"
      ]
    },
    {
      "cell_type": "markdown",
      "id": "5b6c5209-f322-42b7-ac5f-1962a45d3eb8",
      "metadata": {
        "id": "5b6c5209-f322-42b7-ac5f-1962a45d3eb8"
      },
      "source": [
        "# 2022 年度前期試験問題\n",
        "\n",
        "- 学部学科: 文学部心理学科\n",
        "- 科目名: 心理学特講IIIB\n",
        "- 担当者: 浅川伸一\n",
        "- 年月: 2022年07月29日\n",
        "- 時間: 09:30 - 10:30\n",
        "- 場所: 3 号館 202 教場\n"
      ]
    },
    {
      "cell_type": "code",
      "source": [
        "#@title # フェイスシート： 氏名 学生番号 記入欄 { run: \"auto\", vertical-output: true, display-mode: \"form\" }\n",
        "date = '2022-07-29'  #@param {type: \"date\"}\n",
        "name = '氏名: '  #@param {type: \"string\"}\n",
        "id = '学生番号: '  #@param {type: \"string\"}"
      ],
      "metadata": {
        "id": "5zsfJ9dZx9sf"
      },
      "id": "5zsfJ9dZx9sf",
      "execution_count": null,
      "outputs": []
    },
    {
      "cell_type": "markdown",
      "id": "0ab9ca9b-efb3-417d-8126-082b8b2bb8a8",
      "metadata": {
        "id": "0ab9ca9b-efb3-417d-8126-082b8b2bb8a8"
      },
      "source": [
        "# 0. 本試験の解答提出方法\n",
        "\n",
        "1. このファイルの自分の Google Drive に保存する (ウィンドウ左上の「ファイル」メニューから「ドライブにコピーを保存」を選ぶ)\n",
        "1. 上で保存したファイル名を次のように変更する '2022_0729-自分の学生番号(NBから始まる全6桁).ipynb' \n",
        "2. ブラウザのメニュー左上にある「ファイル」をクリックすると表示されるメニュー上から 9 行目を選んで自分の Google ドライブに保存する\n",
        "3. 下の課題をすべて解く\n",
        "4. ブラウザのメニュー左上にある「ファイル」をクリックすると表示されるメニュー下から 2 行目の「ダウンロード」をクリックする。\n",
        "    * 表示されるメニューの中から 「.ipynb をダウンロード」を選ぶ\n",
        "    * 自分の PC に保存したファイルを添付ファイルとして educ0233@komazawa-u.ac.jp へ送信する。"
      ]
    },
    {
      "cell_type": "code",
      "execution_count": null,
      "id": "28df954b-7b28-47ad-b491-231fde81927e",
      "metadata": {
        "id": "28df954b-7b28-47ad-b491-231fde81927e"
      },
      "outputs": [],
      "source": [
        "#@title # 問題 1 次の問に答えなさい { run: \"auto\", vertical-output: true, form-width: \"250px\", display-mode: \"form\" }\n",
        "\n",
        "#@markdown ### 問 1.1 ワンホットベクトルとは, 何か。以下の選択肢の中から, 当てはまるものを選んで答えよ。\n",
        "#@markdown 1. すべての要素が 1 であるベクトル\n",
        "#@markdown 2. 一つの要素が 1 で, 他はすべて 0 であるベクトル\n",
        "#@markdown 3. 一つの要素が 0 で, 他はすべて 1 であるベクトル\n",
        "#@markdown 4. すべての要素が 0 であるベクトル\n",
        "A3_1 = 1 #@param [\"1\", \"2\", \"3\", \"4\"] {type:\"raw\"}\n",
        "\n",
        "\n",
        "#@markdown ---\n",
        "#@markdown ### 問 1.2 畳み込みニューラルネットワークの構成要素に含まれないものは どれか。 以下の選択肢の中から最も適切なものを選んで答えよ。\n",
        "#@markdown 1. プーリング層\n",
        "#@markdown 2. 全結合層\n",
        "#@markdown 3. 畳み込み層\n",
        "#@markdown 4. リカレント層\n",
        "A1_2 = 1 #@param [\"1\", \"2\", \"3\", \"4\"] {type:\"raw\", allow-input: true}\n",
        "\n",
        "\n",
        "#@markdown ---\n"
      ]
    },
    {
      "cell_type": "markdown",
      "id": "32407bab-1650-47b8-85a8-e443f882aa04",
      "metadata": {
        "id": "32407bab-1650-47b8-85a8-e443f882aa04"
      },
      "source": [
        "## 問題 2 CNN を用いた心理実験計画を一つ立案せよ。\n",
        "\n",
        "実験計画には，検証すべき仮説と，その仮説を検証するための工夫が記述されていなければならない。\n",
        "実験立案にあたっては，以下の レベル1 と レベル0 の応用とが区別される。レベル0 応用の方が評価点は高い。\n",
        "\n",
        "* レベル1: CNN の画像認識精度を用いって特定の仮説を検証しようとするレベル。CNN を使って eコマースサイトを運用するような，CNN の本質を考えずに，表層的レベルの応用にとどまるもの。\n",
        "* レベル0: CNN を人間の画像認識機構のモデルとして用いる。人間の認識機構を CNN モデルと比較することで理解しようとする試み。CNN と人間の認識機構の本質に迫るもの。\n"
      ]
    },
    {
      "cell_type": "code",
      "execution_count": 1,
      "id": "7064f65a-a763-46bf-8198-1f29a0d01eb6",
      "metadata": {
        "cellView": "form",
        "id": "7064f65a-a763-46bf-8198-1f29a0d01eb6"
      },
      "outputs": [],
      "source": [
        "#@title ## 問題 2 回答欄\n",
        "\n",
        "A2 = '' #@param {type:\"string\"}\n"
      ]
    },
    {
      "cell_type": "code",
      "source": [
        "#@title ## 問題 3 勾配降下法について，簡単に説明せよ { run: \"auto\", vertical-output: true, form-width: \"250px\", display-mode: \"form\" }\n",
        "#@markdown ---\n",
        "\n",
        "#@markdown \n",
        "\n",
        "A3 = '' #@param {tye:\"string\"}\n"
      ],
      "metadata": {
        "id": "vwrlhzvOy6YY"
      },
      "id": "vwrlhzvOy6YY",
      "execution_count": null,
      "outputs": []
    },
    {
      "cell_type": "code",
      "source": [
        "#@markdown ---\n",
        "#@markdown ## 問 4. 次のモデルを提案された順古いものから新しいものへ順に並べよ。\n",
        "#@markdown 1. ResNet\n",
        "#@markdown 2. AlexNet\n",
        "#@markdown 3. LeNet\n",
        "#@markdown 4. Inception\n",
        "A4 = '' #@param {type:\"string\"}\n"
      ],
      "metadata": {
        "cellView": "form",
        "id": "ieVUCi8l8jcW"
      },
      "id": "ieVUCi8l8jcW",
      "execution_count": null,
      "outputs": []
    },
    {
      "cell_type": "markdown",
      "id": "3848db23-316f-4bbc-b786-33cb80fc3d1a",
      "metadata": {
        "id": "3848db23-316f-4bbc-b786-33cb80fc3d1a"
      },
      "source": [
        "# <font color=\"red\" size=\"+2\">救済問題</font>\n",
        "\n",
        "- 出席や課題提出に不安のある履修者向け。\n",
        "- 以下の文献資料のうち，一つを選んで要約を書いてください。\n",
        "    * 回答は 1 つだけです。2 つ書いてはいけません。\n",
        "    * 自分の感想を書いてはいけません。求められているものは, 要約です。\n",
        "    * 文献資料は以下のとおりです:\n",
        "        * [Senjowski, Unreasonable effectiveness of deep learning in artificial intelligence, 2020\n",
        "](https://komazawa-deep-learning.github.io/2021/2020Sejnowski_Unreasonable_effectiveness_of_deep_learning_in_artificial_intelligence.pdf)\n",
        "        * [Storrs ら, Neural Network Models and Deep Learning, 2019](https://komazawa-deep-learning.github.io/2021/2019Storrs_Golan_Kriegeskorte_Neural_network_models_and_deep_learning.pdf)\n",
        "    \n",
        "* 提出期限: 2022年08月4日 23:59\n",
        "* 提出方法: メール 添付書類または，メール本文に直接記入しても良い。メールの件名は `2022final_exam_helpme` とし，同時に必ず自分宛てに Cc: (カーボンコピー) を送信。\n"
      ]
    },
    {
      "cell_type": "code",
      "execution_count": null,
      "id": "abb1fa74-b803-4dc8-96b2-bcc91dd69101",
      "metadata": {
        "id": "abb1fa74-b803-4dc8-96b2-bcc91dd69101"
      },
      "outputs": [],
      "source": [
        ""
      ]
    }
  ],
  "metadata": {
    "kernelspec": {
      "display_name": "Python 3 (ipykernel)",
      "language": "python",
      "name": "python3"
    },
    "language_info": {
      "codemirror_mode": {
        "name": "ipython",
        "version": 3
      },
      "file_extension": ".py",
      "mimetype": "text/x-python",
      "name": "python",
      "nbconvert_exporter": "python",
      "pygments_lexer": "ipython3",
      "version": "3.9.12"
    },
    "colab": {
      "name": "2022_0729final_exam.ipynb",
      "provenance": [],
      "collapsed_sections": [],
      "include_colab_link": true
    }
  },
  "nbformat": 4,
  "nbformat_minor": 5
}