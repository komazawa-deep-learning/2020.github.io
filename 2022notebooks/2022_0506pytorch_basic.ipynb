{
  "cells": [
    {
      "cell_type": "markdown",
      "metadata": {
        "id": "view-in-github",
        "colab_type": "text"
      },
      "source": [
        "<a href=\"https://colab.research.google.com/github/komazawa-deep-learning/komazawa-deep-learning.github.io/blob/master/2022notebooks/2022_0506pytorch_basic.ipynb\" target=\"_parent\"><img src=\"https://colab.research.google.com/assets/colab-badge.svg\" alt=\"Open In Colab\"/></a>"
      ]
    },
    {
      "cell_type": "markdown",
      "metadata": {
        "id": "rDLy54guU_QZ"
      },
      "source": [
        "# PyTorch の基礎\n",
        "\n",
        "- Date: 2022-0506\n",
        "- Author: 浅川伸一 asakawa@ieee.org\n",
        "\n",
        "## PyTorch の特徴\n",
        "<!-- ## Features of PyTorch-->\n",
        "\n",
        "- 実行による定義 `define by run` (Chainer から継承) 記号的プログラミングではなく，命令的プログラミング\n",
        "- 自動微分 Atuorgrad\n",
        "- 最近のエコシステムで多くサポートされている、例えば\n",
        "    - GPU フレンドリ\n",
        "    - numpy フレンドリ\n",
        "\n",
        "- [Stackoverflow の言語トレンド](https://insights.stackoverflow.com/trends?tags=python%2Cjavascript%2Cjava%2Cc%23%2Cphp%2Cc%2B%2B)\n",
        "- [TensorFlow と PyTorch の人気比較](http://horace.io/pytorch-vs-tensorflow/)\n",
        "- [Google トレンド](https://trends.google.com/trends/explore?q=pytorch,keras,tensorflow)\n",
        "\n",
        "## 前提知識 (常識的な意味で)\n",
        "\n",
        "- [Google colab](https://colab.research.google.com/notebooks/intro.ipynb), [jupyter notebook](https://jupyter.org/) のクラウドコンピューティング実装.  \n",
        "    - `Jupyter notebook` は [ipython](https://ipython.org/) の Web 版実装.  \n",
        "    - Ipython  [Python](https://www.python.org/) は対話型実行環境.\n",
        "    - Python は reddit や stackoverflow などの機械学習コミュニティで最も人気のあるプログラミング言語の 1 つです。\n",
        "\n",
        "- Python を知らない？ それはもう問題ではありません。\n",
        "- 機械学習 を知らない？ もう選択の余地がありません。\n",
        "- ディープラーニング を知らない？ もう常識です\n",
        "\n",
        "<!-- - Not familiar with Python?  It doesn't matter now.\n",
        "- Not familiar with machine learning? It doesn't matter now.\n",
        "- Not familiar with deep learning? It's the main subject of today's talk!  You can feel ease with it when your going to bed tonight.\n",
        "-->\n",
        "\n",
        "\n",
        "## jupyter notebook の使用法\n",
        "<!-- ## How to use jupyter notebook.-->\n",
        "\n",
        "- [Chrome](https://www.google.com/chrome/) ブラウザ上で`colab`を実行する必要があります。 \n",
        "OS は問いません。\n",
        "スマートフォンでも `Colab` ファイルを実行することができます。\n",
        "- `Colab` は Chrom の タブ内にある複数のセルから構成されています。\n",
        "- セルを実行するにはシフトキーを押しながらエンターキーを押す。\n",
        "または，セル左上の 黒丸の中に白い三角` のアイコンを押下します。\n",
        "\n",
        "\n",
        "## 参考\n",
        "\n",
        "- ツィッター: https://twitter.com/PyTorch\n",
        "- Forum: https://discuss.pytorch.org/\n",
        "- チュートリアル: https://pytorch.org/tutorials/\n",
        "- コード例: https://github.com/pytorch/examples\n",
        "- API Reference: https://pytorch.org/docs/stable/index.html\n",
        "- Torchvision: https://pytorch.org/docs/stable/torchvision/index.html\n",
        "- PyTorch Text: https://github.com/pytorch/text\n",
        "- PyTorch Audio: https://github.com/pytorch/audio\n",
        "- AllenNLP: https://allennlp.org/\n",
        "- 物体検出/領域切り出し: https://github.com/facebookresearch/maskrcnn-benchmark\n",
        "- フェイスブック人工知能研究所 (FAIR) Sequence-to-Sequence Toolkit written in PyTorch: https://github.com/pytorch/fairseq\n",
        "- FastAI http://www.fast.ai/\n",
        "- スタンフォード大学のディープラーニング講義ノート https://cs230-stanford.github.io\n",
        "- OpenAI: https://openai.com/research/\n"
      ]
    },
    {
      "cell_type": "markdown",
      "metadata": {
        "id": "gry2z3cfU_Qc"
      },
      "source": [
        "## 初期設定 Initialization"
      ]
    },
    {
      "cell_type": "code",
      "execution_count": null,
      "metadata": {
        "id": "2dPqwgtTU_Qc"
      },
      "outputs": [],
      "source": [
        "import numpy as np \n",
        "# ほぼすべてのニューラルネットワーク，機械学習系ライブラリは numpy および scipy に依存しています\n",
        "\n",
        "import matplotlib.pyplot as plt\n",
        "%matplotlib inline\n",
        "# 描画ライブラリ\n",
        "\n",
        "import IPython\n",
        "isColab = 'google.colab' in str(IPython.get_ipython())\n",
        "if isColab:\n",
        "    !pip install japanize_matplotlib\n",
        "import japanize_matplotlib"
      ]
    },
    {
      "cell_type": "code",
      "execution_count": 2,
      "metadata": {
        "id": "m3804he7U_Qc"
      },
      "outputs": [],
      "source": [
        "import torch\n",
        "import torchvision\n",
        "import torch.nn as nn\n",
        "import torch.nn.functional as F\n",
        "import torch.optim as optim\n",
        "\n",
        "DEVICE = torch.device(\"cuda:0\" if torch.cuda.is_available() else \"cpu\")"
      ]
    },
    {
      "cell_type": "code",
      "execution_count": null,
      "metadata": {
        "id": "4TPuwntpU_Qd"
      },
      "outputs": [],
      "source": [
        "np.eye(3)  # numpy での単位行列"
      ]
    },
    {
      "cell_type": "code",
      "execution_count": null,
      "metadata": {
        "id": "UWwlT0yVU_Qd"
      },
      "outputs": [],
      "source": [
        "torch.eye(3)  # PyTorch での単位行列"
      ]
    },
    {
      "cell_type": "code",
      "execution_count": null,
      "metadata": {
        "id": "FonoF87UU_Qd"
      },
      "outputs": [],
      "source": [
        "X = np.random.random([4, 3])  # numpy による 4 行 3 列の乱数行列\n",
        "X"
      ]
    },
    {
      "cell_type": "code",
      "execution_count": null,
      "metadata": {
        "id": "Gv6zQHUdU_Qd"
      },
      "outputs": [],
      "source": [
        "X_ = torch.rand([4, 3])  # PyTorch による 4 行 3 列の乱数行列\n",
        "X_"
      ]
    },
    {
      "cell_type": "code",
      "execution_count": null,
      "metadata": {
        "id": "hK9Qlq_CU_Qe"
      },
      "outputs": [],
      "source": [
        "#X.shape\n",
        "X.ndim"
      ]
    },
    {
      "cell_type": "code",
      "execution_count": null,
      "metadata": {
        "id": "UJdzZN0CU_Qe"
      },
      "outputs": [],
      "source": [
        "from sklearn.datasets import make_regression\n",
        "\n",
        "n_features = 1\n",
        "n_samples = 100\n",
        "\n",
        "X, y = make_regression(\n",
        "    n_samples=n_samples,\n",
        "    n_features=n_features,\n",
        "    noise=20,\n",
        "    random_state=42,\n",
        ")\n",
        "\n",
        "fix, ax = plt.subplots()\n",
        "ax.set_title('回帰分析結果')\n",
        "ax.plot(X, y, \".\")\n"
      ]
    },
    {
      "cell_type": "code",
      "execution_count": 9,
      "metadata": {
        "id": "QaeMGLihU_Qe"
      },
      "outputs": [],
      "source": [
        "X = torch.from_numpy(X).float()\n",
        "y = torch.from_numpy(y.reshape((n_samples, n_features))).float()"
      ]
    },
    {
      "cell_type": "code",
      "execution_count": 10,
      "metadata": {
        "id": "AMD8gnW0U_Qe"
      },
      "outputs": [],
      "source": [
        "class LinReg(nn.Module):\n",
        "    def __init__(self, input_dim):\n",
        "        super().__init__()\n",
        "        self.beta = nn.Linear(input_dim, 1)\n",
        "        \n",
        "    def forward(self, X):\n",
        "        return self.beta(X)"
      ]
    },
    {
      "cell_type": "code",
      "execution_count": 11,
      "metadata": {
        "id": "BFJVHFYtU_Qe"
      },
      "outputs": [],
      "source": [
        "model = LinReg(n_features).to(DEVICE)\n",
        "loss_fn = nn.MSELoss()\n",
        "optimizer = optim.SGD(model.parameters(), lr=0.1)\n",
        "X, y = X.to(DEVICE), y.to(DEVICE)"
      ]
    },
    {
      "cell_type": "code",
      "execution_count": null,
      "metadata": {
        "id": "vFR_secdU_Qf"
      },
      "outputs": [],
      "source": [
        "# Train step\n",
        "model.train()  # 訓練モード，すなわちパラメータの更新を行う\n",
        "optimizer.zero_grad()\n",
        "\n",
        "y_ = model(X)\n",
        "loss = loss_fn(y_, y)\n",
        "\n",
        "loss.backward()   # 一度だけ学習を行うため損失値を計算\n",
        "optimizer.step()  # 損失値に基づいてパラメータの更新，すなわち学習\n",
        "\n",
        "# Eval\n",
        "model.eval()  # 評価モード，すなわちパラメータの更新を行わない\n",
        "with torch.no_grad():\n",
        "    y_ = model(X)    \n",
        "\n",
        "# 結果の視覚化\n",
        "fig, ax = plt.subplots()\n",
        "ax.plot(X.cpu().numpy(), y_.cpu().numpy(), \".\", label=\"予測値\")\n",
        "ax.plot(X.cpu().numpy(), y.cpu().numpy(), \".\", label=\"データ\")\n",
        "ax.set_title(f\"平均自乗誤差 MSE: {loss.item():0.1f}\")\n",
        "ax.legend();"
      ]
    },
    {
      "cell_type": "code",
      "execution_count": null,
      "metadata": {
        "id": "FGSs4XAGU_Qf"
      },
      "outputs": [],
      "source": [
        "# 学習させてみる\n",
        "model.train()\n",
        "losses = []\n",
        "for i in range(20):\n",
        "    _y = model(X)\n",
        "    loss = loss_fn(_y, y)\n",
        "    losses.append(loss.item())\n",
        "    print(loss.item())\n",
        "    loss.backward()\n",
        "    optimizer.step()\n",
        "\n",
        "# 結果の視覚化\n",
        "fig, ax = plt.subplots()\n",
        "ax.plot(X.cpu().numpy(), _y.detach().numpy(), \".\", label=\"予測値\")\n",
        "ax.plot(X.cpu().numpy(), y.detach().numpy(), \".\", label=\"データ\")\n",
        "ax.set_title(f\"MSE: {loss.item():0.1f}\")\n",
        "ax.legend();    "
      ]
    },
    {
      "cell_type": "code",
      "execution_count": null,
      "metadata": {
        "id": "ePTr39KLU_Qf"
      },
      "outputs": [],
      "source": [
        "print(losses)"
      ]
    },
    {
      "cell_type": "code",
      "execution_count": null,
      "metadata": {
        "id": "EdPZHAqKU_Qf"
      },
      "outputs": [],
      "source": [
        ""
      ]
    }
  ],
  "metadata": {
    "kernelspec": {
      "display_name": "Python 3 (ipykernel)",
      "language": "python",
      "name": "python3"
    },
    "language_info": {
      "codemirror_mode": {
        "name": "ipython",
        "version": 3
      },
      "file_extension": ".py",
      "mimetype": "text/x-python",
      "name": "python",
      "nbconvert_exporter": "python",
      "pygments_lexer": "ipython3",
      "version": "3.9.12"
    },
    "colab": {
      "name": "2022_0506pytorch_basic.ipynb",
      "provenance": [],
      "collapsed_sections": [],
      "include_colab_link": true
    }
  },
  "nbformat": 4,
  "nbformat_minor": 0
}