{
  "nbformat": 4,
  "nbformat_minor": 0,
  "metadata": {
    "colab": {
      "name": "2022_0114final_exam.ipynb",
      "provenance": [],
      "include_colab_link": true
    },
    "kernelspec": {
      "name": "python3",
      "display_name": "Python 3"
    }
  },
  "cells": [
    {
      "cell_type": "markdown",
      "metadata": {
        "id": "view-in-github",
        "colab_type": "text"
      },
      "source": [
        "<a href=\"https://colab.research.google.com/github/komazawa-deep-learning/komazawa-deep-learning.github.io/blob/master/2021notebooks/2022_0114final_exam.ipynb\" target=\"_parent\"><img src=\"https://colab.research.google.com/assets/colab-badge.svg\" alt=\"Open In Colab\"/></a>"
      ]
    },
    {
      "cell_type": "markdown",
      "metadata": {
        "id": "mYiWt0BTIQoO"
      },
      "source": [
        "# 2021 年度後期試験問題\n",
        "\n",
        "- 学部学科: 文学部心理学科\n",
        "- 科目名: 心理学特講IIIB\n",
        "- 担当者: 浅川伸一\n",
        "- 年月: 2022年01月14日\n",
        "- 時間: 09:00 - 10:00\n"
      ]
    },
    {
      "cell_type": "code",
      "metadata": {
        "id": "mMjjpJ5ZJCjS"
      },
      "source": [
        "#@title # フェイスシート： 氏名 学生番号 記入欄 { run: \"auto\", vertical-output: true, display-mode: \"form\" }\n",
        "date = '2022-01-14'  #@param {type: \"date\"}\n",
        "name = '氏名: '  #@param {type: \"string\"}\n",
        "id = '学生番号: '  #@param {type: \"string\"}"
      ],
      "execution_count": null,
      "outputs": []
    },
    {
      "cell_type": "markdown",
      "metadata": {
        "id": "iutYBk_VJWEC"
      },
      "source": [
        "# 0. 本試験の解答提出方法\n",
        "\n",
        "1. このファイルの自分の Google Drive に保存する (ウィンドウ左上の「ファイル」メニューから「ドライブにコピーを保存」を選ぶ)\n",
        "1. 上で保存したファイル名を次のように変更する '2022_0114自分の学生番号.ipynb' \n",
        "2. ブラウザのメニュー左上にある「ファイル」をクリックすると表示されるメニュー上から 9 行目を選んで自分の Google ドライブに保存する\n",
        "3. 下の課題をすべて解く\n",
        "4. ブラウザのメニュー左上にある「ファイル」をクリックすると表示されるメニュー下から 2 行目の「ダウンロード」をクリックする。\n",
        "    * 表示されるメニューの中から 「.ipynb をダウンロード」を選ぶ\n",
        "    * 自分の PC に保存したファイルを次の URL にアップロードする。\n",
        "    * [回答送信用URL](https://forms.gle/s4PhEicnyM5qKW3D8)\n"
      ]
    },
    {
      "cell_type": "markdown",
      "metadata": {
        "id": "nX2J7To_P8Ga"
      },
      "source": [
        "### 問1 次の語群の中には，一つだけ無関連な用語が含まれている。その一つを指摘し，かつ，なぜその一つが無関連だと考えられるかを，下欄に略述せよ。\n"
      ]
    },
    {
      "cell_type": "code",
      "source": [
        "#markdonwn ---\n",
        "#@title ## 問 1.1 BERT について\n",
        "#@markdown ### 語群\n",
        "#@markdown 1. MHSA (多頭自己注意: multi-head self attention)\n",
        "#@markdown 2. PE (位置符号化器) position encoders\n",
        "#@markdown 3. MLM (マスク化言語モデル) masked language modeling\n",
        "#@markdown 4. LSTM (長-短期記憶) long short-term memory\n",
        "\n",
        "A1_01 = 1 #@param [\"1\", \"2\", \"3\", \"4\"] {type:\"raw\"}\n",
        "#@markdown ### 選定理由 \n",
        "A1_02 = ''#@param {type:\"string\"}\n",
        "\n",
        "#@markdown ---\n",
        "#@markdown ## 問 1.2 DQN について\n",
        "#@markdown ### 語群\n",
        "#@markdown 1. ベルマン方程式 Bellman equations\n",
        "#@markdown 2. マルコフ決定過程 Markov decision processes\n",
        "#@markdown 3. 行動価値関数 (Q 関数) action value functions (Q functions)\n",
        "#@markdown 4. 経験再生 experience reply\n",
        "\n",
        "A1_03 = 1 #@param [\"1\", \"2\", \"3\", \"4\"] {type:\"raw\"}\n",
        "#@markdown ### 選定理由 \n",
        "A1_04 = ''#@param {type:\"string\"}\n",
        "\n",
        "#@markdown ---\n",
        "#@markdown ## 問 1.3 ソフトマックス関数について\n",
        "#@markdown 1. ロジット比 (確率比) を与える\n",
        "#@markdown 2. 出力関数の一種である\n",
        "#@markdown 3. 注意機構の実装に用いられる\n",
        "#@markdown 4. シグモイド関数の特殊な場合である\n",
        "\n",
        "A1_05 = 1 #@param [\"1\", \"2\", \"3\", \"4\"] {type:\"raw\"}\n",
        "#@markdown ### 選定理由 \n",
        "A1_06 = ''#@param {type:\"string\"}\n",
        "\n",
        "#@markdown ---\n",
        "#@markdown ## 問 1.4 Seq2seq モデルについて\n",
        "#@markdown 1. リカレントニューラルネットワーク\n",
        "#@markdown 2. 注意機構\n",
        "#@markdown 3. 翻訳モデル\n",
        "#@markdown 4. 誤差逆伝播法\n",
        "A1_07 = 1 #@param [\"1\", \"2\", \"3\", \"4\"] {type:\"raw\", allow-input: true}\n",
        "#@markdown ### 選定理由 \n",
        "A1_08 = ''#@param {type:\"string\"}\n",
        "\n",
        "#@markdown ---\n",
        "#@markdown ## 問 1.5 転移学習 transfer learning ついて\n",
        "#@markdown 1. 微調整 fine tuning\n",
        "#@markdown 2. 蒸溜 distillation \n",
        "#@markdown 3. BERT (Bidirectional Embedding recurrent transformers)\n",
        "#@markdown 4. 自然言語処理 natural language processings \n",
        "A1_09 = 1 #@param [\"1\", \"2\", \"3\", \"4\"] {type:\"raw\", allow-input: true}\n",
        "#@markdown ### 選定理由 \n",
        "A1_10 = ''#@param {type:\"string\"}\n",
        "\n",
        "\n",
        "#@markdown ---\n",
        "#@markdown ## 問 1.6 GLUE について\n",
        "#@markdown 1. SQuAD \n",
        "#@markdown 2. 文章要約\n",
        "#@markdown 3. 極性判断\n",
        "#@markdown 4. SARSA\n",
        "A1_11 = 1 #@param [\"1\", \"2\", \"3\", \"4\"] {type:\"raw\", allow-input: true}\n",
        "#@markdown ### 選定理由 \n",
        "A1_12 = ''#@param {type:\"string\"}\n",
        "\n",
        "#@markdown ---\n",
        "#@markdown ## 問 1.7 Agent57 について\n",
        "#@markdown 1. 優先度つき経験再生\n",
        "#@markdown 2. エピソード記憶\n",
        "#@markdown 3. アドバンテージ関数\n",
        "#@markdown 4. 二重 Q 関数\n",
        "#@markdown 5. Never Giveup\n",
        "\n",
        "A1_13 = 1 #@param [\"1\", \"2\", \"3\", \"4\"] {type:\"raw\", allow-input: true}\n",
        "#@markdown ### 選定理由 \n",
        "A1_14 = ''#@param {type:\"string\"}\n",
        "\n",
        "#@markdown ---\n",
        "#@markdown ## 問 1.8 精神疾患モデルと強化学習との関係について\n",
        "#@markdown 1. 強化学習\n",
        "#@markdown 2. EM アルゴリズム \n",
        "#@markdown 3. カルバック・ライブラー・ダイバージェンス\n",
        "#@markdown 4. 最大値プーリング\n",
        "\n",
        "A1_14 = 1 #@param [\"1\", \"2\", \"3\", \"4\"] {type:\"raw\", allow-input: true}\n",
        "#@markdown ### 選定理由 \n",
        "A1_15 = ''#@param {type:\"string\"}\n",
        "\n"
      ],
      "metadata": {
        "id": "zXlqgOQvvllR",
        "cellView": "form"
      },
      "execution_count": null,
      "outputs": []
    },
    {
      "cell_type": "code",
      "metadata": {
        "id": "h_phBvx9XaSs",
        "cellView": "form"
      },
      "source": [
        "#@title # 問題 2\n",
        "\n",
        "#@markdown [このページ](https://komazawa-deep-learning.github.io/2021/2021lect27/) の最後に挙げられている用語集と，こちらの [用語集](https://komazawa-deep-learning.github.io/2021cogpsy/glossary/) に挙げられている用語から，それぞれ 1 つづ項目を選び，選んだ 2 つの用語を用いて，それら用語の関係を略説する文章を書け。\n",
        "\n",
        "A2 = '' #@param {type:\"string\"}\n"
      ],
      "execution_count": null,
      "outputs": []
    },
    {
      "cell_type": "markdown",
      "metadata": {
        "id": "vqEsfp-vTGUB"
      },
      "source": [
        "# <font color=\"red\" size=\"+4\">救済問題</font>\n",
        "\n",
        "- 出席や課題提出に不安のある履修者向け。\n",
        "\n",
        "神経科学，心理学の観点から，AI の進歩に恐れを抱く人たちに対して不安を取り除くための文章を書いて提出せよ。\n",
        "文中には，本授業で取り上げた話題について具体例を挙げて言及し，それらの社会的影響についても考察を加えること。\n",
        "\n",
        "* 提出期限: 2022年01月21日 23:59\n",
        "* 提出方法: メール 添付書類または，メール本文に直接記入しても良い。メールの件名は `2021final_\b\bexam_helpme` とし，同時に必ず自分宛てに Cc: (カーボンコピー) を送信せよ。\n"
      ]
    },
    {
      "cell_type": "markdown",
      "metadata": {
        "id": "xhkd3JQj54G3"
      },
      "source": [
        "<!-- # 問題 2 以下の文献資料のうち，一つを選んで要約を書いてください。\n",
        "* 回答は 1 つだけです。 2 つ書いてはいけません。\n",
        "* 自分の感想を書いてはいけません。求められているものは, 要約です。\n",
        "* 文献資料は以下のとおりです:\n",
        "    * [Senjowski, Unreasonable effectiveness of deep learning in artificial intelligence, 2020\n",
        "](https://komazawa-deep-learning.github.io/2021/2020Sejnowski_Unreasonable_effectiveness_of_deep_learning_in_artificial_intelligence.pdf)\n",
        "    * [Storrs ら, Neural Network Models and Deep Learning, 2019](https://komazawa-deep-learning.github.io/2021/2019Storrs_Golan_Kriegeskorte_Neural_network_models_and_deep_learning.pdf) -->"
      ]
    },
    {
      "cell_type": "code",
      "source": [
        ""
      ],
      "metadata": {
        "id": "IqqYOF687iex"
      },
      "execution_count": null,
      "outputs": []
    }
  ]
}