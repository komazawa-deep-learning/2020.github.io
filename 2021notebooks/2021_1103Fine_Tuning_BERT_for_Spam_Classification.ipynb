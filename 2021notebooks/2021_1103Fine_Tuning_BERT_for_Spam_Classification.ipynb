{
  "nbformat": 4,
  "nbformat_minor": 0,
  "metadata": {
    "accelerator": "GPU",
    "colab": {
      "name": "2021_1103Fine_Tuning_BERT_for_Spam_Classification.ipynb",
      "provenance": [],
      "toc_visible": true,
      "include_colab_link": true
    },
    "kernelspec": {
      "display_name": "Python 3 (ipykernel)",
      "language": "python",
      "name": "python3"
    },
    "language_info": {
      "codemirror_mode": {
        "name": "ipython",
        "version": 3
      },
      "file_extension": ".py",
      "mimetype": "text/x-python",
      "name": "python",
      "nbconvert_exporter": "python",
      "pygments_lexer": "ipython3",
      "version": "3.8.12"
    }
  },
  "cells": [
    {
      "cell_type": "markdown",
      "metadata": {
        "id": "view-in-github",
        "colab_type": "text"
      },
      "source": [
        "<a href=\"https://colab.research.google.com/github/komazawa-deep-learning/komazawa-deep-learning.github.io/blob/master/2021notebooks/2021_1103Fine_Tuning_BERT_for_Spam_Classification.ipynb\" target=\"_parent\"><img src=\"https://colab.research.google.com/assets/colab-badge.svg\" alt=\"Open In Colab\"/></a>"
      ]
    },
    {
      "cell_type": "markdown",
      "metadata": {
        "id": "-VlE-_rY5rON"
      },
      "source": [
        "---\n",
        "* source: https://www.analyticsvidhya.com/blog/2020/07/transfer-learning-for-nlp-fine-tuning-bert-for-text-classification/\n",
        "* date: 2021_1103\n",
        "* BERT の fine-turing コード\n",
        "---\n"
      ]
    },
    {
      "cell_type": "markdown",
      "metadata": {
        "id": "OFOTiqrtNvyy"
      },
      "source": [
        "# Transfomers ライブラリのインストール\n",
        "<!-- Install Transformers Library-->"
      ]
    },
    {
      "cell_type": "markdown",
      "metadata": {
        "id": "3kkx6o3cId-m"
      },
      "source": [
        "# 1. はじめに\n",
        "<!-- # Introduction -->\n",
        "\n",
        "深層学習の進歩に伴い，リカレント・ニューラル・ネットワーク (RNN および LSTM) や畳み込みニューラル・ネットワーク (CNN) などのニューラル・ネットワーク・アーキテクチャは，テキスト分類，言語モデリング，機械翻訳など，いくつかの自然言語処理 (NLP) 課題を解決する上で，それなりの性能向上を示している。\n",
        "<!-- With the advancement in deep learning, neural network architectures like recurrent neural networks (RNN and LSTM) and convolutional neural networks (CNN) have shown a decent improvement in performance in solving several Natural Language Processing (NLP) tasks like text classification, language modeling, machine translation, etc. -->\n",
        "\n",
        "しかし，このような NLP における深層学習モデルの性能は，コンピュータビジョンにおける深層学習の性能に比べて見劣りします。\n",
        "<!-- However, this performance of deep learning models in NLP pales in comparison to the performance of deep learning in Computer Vision.  -->\n",
        "\n",
        "このように進歩が遅れている主な理由の一つは，大規模なラベル付きテキストデータセットがないことであると考えられる。\n",
        "ほとんどのラベル付きテキストデータセットは，ディープニューラルネットワークを学習するのに十分な大きさではありません。\n",
        "なぜなら，ディープニューラルネットワークは膨大な数のパラメータを持っており，小さなデータセットでそのようなネットワークを学習すると，過学習が発生するからです。\n",
        "<!-- One of the main reasons for this slow progress could be the lack of large labeled text datasets. \n",
        "Most of the labeled text datasets are not big enough to train deep neural networks because these networks have a huge number of parameters and training such networks on small datasets will cause overfitting.-->\n",
        "\n",
        "NLP がコンピュータビジョンに遅れをとっているもう一つの重要な理由は，NLP における転移学習の欠如です。\n",
        "コンピュータビジョンにおける深層学習の成功には，転移学習が大きく貢献しています。\n",
        "これは，Imagenet のような巨大なラベル付きデータセットが利用可能であり，その上で CNN ベースの深層学習モデルが学習され，その後，幅広いコンピュータビジョン課題のための事前学習済みモデルとして使用されたためです。\n",
        "<!-- Another quite important reason for NLP lagging behind computer vision was the lack of transfer learning in NLP. \n",
        "Transfer learning has been instrumental in the success of deep learning in computer vision. This happened due to the availability of huge labeled datasets like Imagenet on which deep CNN based models were trained and later they were used as pre-trained models for a wide range of computer vision tasks. -->\n",
        "\n",
        "それが NLP では，2018 年に Google 転移モデルを導入するまでは，そうではありませんでした。\n",
        "それ以来，NLP の転移学習は多くの課題を最先端の成績で解決するのに役立っています。\n",
        "<!-- That was not the case with NLP until 2018 when the transformer model was introduced by Google. \n",
        "Ever since the transfer learning in NLP is helping in solving many tasks with state of the art performance. -->\n",
        "\n",
        "この記事では，テキスト分類のために BERT をどのように微調整するかを説明します。\n",
        "<!-- In this article, I explain how do we fine-tune BERT for text classification. -->\n",
        "\n",
        "NLP を一から学びたい方は，[Python を使った自然言語処理 (NLP) コース](https://courses.analyticsvidhya.com/courses/natural-language-processing-nlp?utm_source=blog&utm_medium=fine_tune_BERT) をご覧ください。\n",
        "<!-- If you want to learn NLP from scratch, check out our course – Natural Language Processing (NLP) Using Python -->\n",
        "\n",
        "\n",
        "# 2. NLPにおける転移学習\n",
        "<!-- # Transfer Learning in NLP -->\n",
        "\n",
        "転移学習とは，大規模なデータセットで学習した深層学習モデルを用いて，別のデータセットで同様の課題を実行する手法です。\n",
        "このような深層学習モデルを事前訓練済みモデルと呼びます。\n",
        "事前訓練されたモデルの最も有名な例は，[ImageNet データセット](https://www.analyticsvidhya.com/blog/2020/02/learn-image-classification-cnn-convolutional-neural-networks-3-datasets/?utm_source=blog&utm_medium=fine_tune_BERT) で学習されたコンピュータビジョンの深層学習モデルです。\n",
        "そのため，ゼロからモデルを構築するのではなく，問題を解決するための出発点として，事前学習済みモデルを使用するのが良いでしょう。\n",
        "<!-- Transfer learning is a technique where a deep learning model trained on a large dataset is used to perform similar tasks on another dataset. \n",
        "We call such a deep learning model a pre-trained model. \n",
        "The most renowned examples of pre-trained models are the computer vision deep learning models trained on the ImageNet dataset. \n",
        "So, it is better to use a pre-trained model as a starting point to solve a problem rather than building a model from scratch. -->\n",
        "\n",
        "<center>\n",
        "<img src=\"https://cdn.analyticsvidhya.com/wp-content/uploads/2020/07/transfer-learning.jpeg\">\n",
        "</center>\n",
        "\n",
        "このコンピュータビジョンにおける転移学習のブレークスルーは，2012 年から 13 年にかけて起こったものです。\n",
        "しかし，最近の NLP の進歩により，NLP でも転移学習が有効な選択肢となってきました。\n",
        "<!-- This breakthrough of transfer learning in computer vision occurred in the year 2012-13. \n",
        "However, with recent advances in NLP, transfer learning has become a viable option in this NLP as well.-->\n",
        "\n",
        "テキスト分類，言語モデリング，機械翻訳など，NLP 課題のほとんどは系列モデリング課題です。\n",
        "従来の機械学習モデルやニューラルネットワークでは，テキストに存在する連続した情報を捉えることができません。\n",
        "そこで，リカレント・ニューラル・ネットワーク (RNN や LSTM) を使うようになりました。\n",
        "<!-- Most of the tasks in NLP such as text classification, language modeling, machine translation, etc. are sequence modeling tasks. \n",
        "The traditional machine learning models and neural networks cannot capture the sequential information present in the text. \n",
        "Therefore, people started using recurrent neural networks (RNN and LSTM) because these architectures can model sequential information present in the text. -->\n",
        "\n",
        "<center>\n",
        "<img src=\"https://cdn.analyticsvidhya.com/wp-content/uploads/2020/07/RNN.png\"><br/>\n",
        "    典型的な RNN \n",
        "</center>\n",
        "\n",
        "しかし，このリカレント・ニューラル・ネットワークにも問題があります。\n",
        "大きな問題の 1 つは，RNN は一度に 1 つの入力を取るため，並列化できないことです。\n",
        "文字列の場合，RNN や LSTM は，一度に 1 つのトークンを入力として受け取ります。\n",
        "つまり，トークンごとに系列を通過することになります。\n",
        "そのため，このようなモデルを大規模なデータセットで学習するには，膨大な時間がかかります。\n",
        "<!-- However, these recurrent neural networks have their own set of problems. \n",
        "One major issue is that RNNs can not be parallelized because they take one input at a time. \n",
        "In the case of a text sequence, an RNN or LSTM would take one token at a time as input. \n",
        "So, it will pass through the sequence token by token. \n",
        "Hence, training such a model on a big dataset will take a lot of time.-->\n",
        "\n",
        "そのため，NLP における転移学習の必要性が高まっていたのです。\n",
        "2018 年，Google が Attention is All You Need という論文の中で転移学習を導入し，それがNLP の画期的な一里塚となりました。\n",
        "<!-- So, the need for transfer learning in NLP was at an all-time high. \n",
        "In 2018, the transformer was introduced by Google in the paper “Attention is All You Need” which turned out to be a groundbreaking milestone in NLP. -->\n",
        "\n",
        "<center>\n",
        "<img src=\"https://cdn.analyticsvidhya.com/wp-content/uploads/2020/07/transformer.png\"><br/>\n",
        "トランスフォーマーモデル (Source: https://arxiv.org/abs/1706.03762)\n",
        "</center>\n",
        "\n",
        "ほどなく，さまざまな NLP 課題のために，さまざまなトランスフォーマーベースのモデルが登場し始めました。\n",
        "トランスフォーマーベースのモデルを使用することには複数の利点がありますが，最も重要なものは以下の通りです。\n",
        "<!-- Soon a wide range of transformer-based models started coming up for different NLP tasks. \n",
        "There are multiple advantages of using transformer-based models, but the most important ones are:-->\n",
        "\n",
        "* 第 1 の利点\n",
        "<!-- * First Benefit -->\n",
        "\n",
        "これらのモデルは，入力系列をトークンごとに処理するのではなく，系列全体を一度に入力とします。\n",
        "これは RNN ベースのモデルに比べて大幅に改善されています。\n",
        "<!-- These models do not process an input sequence token by token rather they take the entire sequence as input in one go which is a big improvement over RNN based models because now the model can be accelerated by the GPUs. -->\n",
        "\n",
        "* 第 2 の利点\n",
        "<!-- * 2nd Benefit -->\n",
        "\n",
        "これらのモデルを事前に学習させるためのラベル付きデータは必要ありません。\n",
        "つまり，膨大な量のラベルのないテキストデータを提供するだけで，トランスフォーマーベースのモデルを学習することができます。\n",
        "この学習されたモデルは、テキスト分類、名前付きエンティティ認識、テキスト生成など、他の NLP 課題に使用することができます。\n",
        "これが NLP における伝達学習の仕組みです。\n",
        "<!-- We don’t need labeled data to pre-train these models. \n",
        "It means that we have to just provide a huge amount of unlabeled text data to train a transformer-based model. \n",
        "We can use this trained model for other NLP tasks like text classification, named entity recognition, text generation, etc. \n",
        "This is how transfer learning works in NLP. -->\n",
        "\n",
        "BERT と GPT-2 は，最も一般的な変換器ベースのモデルであり，この記事では，BERT に焦点を当て，事前に訓練された BERT モデルを使用してテキスト分類を行う方法を学びます。\n",
        "<!-- BERT and GPT-2 are the most popular transformer-based models and in this article, we will focus on BERT and learn how we can use a pre-trained BERT model to perform text classification. -->\n"
      ]
    },
    {
      "cell_type": "markdown",
      "metadata": {
        "id": "ZWLvTOaLId-p"
      },
      "source": [
        "# 3. モデルのファイン・チューニングとは何か？\n",
        "<!-- # 3. What is Model Fine-Tuning?-->\n",
        "\n",
        "BERT (Bidirectional Encoder Representations from Transformers) は，大規模なニューラルネットワークアーキテクチャであり，1 億から 3 億を超える膨大な数のパラメータを持っています。\n",
        "そのため，小さなデータセットで BERT モデルをゼロから訓練すると，過学習になってしまいます。\n",
        "<!--\n",
        "BERT (Bidirectional Encoder Representations from Transformers) is a big neural network architecture, with a huge number of parameters, that can range from 100 million to over 300 million. \n",
        "So, training a BERT model from scratch on a small dataset would result in overfitting.-->\n",
        "\n",
        "そのため，巨大なデータセットで事前に訓練された BERT モデルを出発点として使用するのがよいでしょう。\n",
        "その後，比較的小さいデータセットでモデルをさらに訓練することができ，この過程はモデルのファインチューニングとして知られています。\n",
        "<!-- So, it is better to use a pre-trained BERT model that was trained on a huge dataset, as a starting point. \n",
        "We can then further train the model on our relatively smaller dataset and this process is known as model fine-tuning. -->\n",
        " \n",
        "## 3.1 さまざまな微調整の手法\n",
        "<!-- ## 3.1 Different Fine-Tuning Techniques -->\n",
        "\n",
        "* アーキテクチャー全体の学習 - 事前に学習したモデル全体をデータセットでさらに学習し，その出力をソフトマックス層に与えることができます。\n",
        "この場合，エラーはアーキテクチャ全体にバックプロパゲーションされ，事前に学習したモデルの重みが新しいデータセットに基づいて更新されます。\n",
        "<!-- * Train the entire architecture – We can further train the entire pre-trained model on our dataset and feed the output to a softmax layer. In this case, the error is back-propagated through the entire architecture and the pre-trained weights of the model are updated based on the new dataset. -->\n",
        "* 一部の層を学習し，他の層は凍結する - 学習済みのモデルを使用するもう一つの方法は，部分的に学習することです。\n",
        "モデルの初期層の重みを固定したまま，上位層のみを再学習することができます。\n",
        "数層の結合係数を凍結し，他の数層の結合係数を訓練するかを試してみましょう。\n",
        "<!-- * Train some layers while freezing others – Another way to use a pre-trained model is to train it partially. What we can do is keep the weights of initial layers of the model frozen while we retrain only the higher layers. We can try and test as to how many layers to be frozen and how many to be trained. -->\n",
        "* アーキテクチャ全体の凍結 - モデルのすべての層を凍結し，独自のニューラルネットワーク層をいくつか追加して，この新しいモデルを訓練することもできます。\n",
        "なお、モデルの訓練中は，接続された層の結合係数のみが更新されます。\n",
        "<!-- * Freeze the entire architecture – We can even freeze all the layers of the model and attach a few neural network layers of our own and train this new model. Note that the weights of only the attached layers will be updated during model training. -->\n",
        "\n",
        "このチュートリアルでは，3 つ目の方法を使います。\n",
        "微調整中の BERT の全ての層を凍結し，アーキテクチャに密な層とソフトマックス層を追加します。\n",
        "<!-- In this tutorial, we will use the third approach. We will freeze all the layers of BERT during fine-tuning and append a dense layer and a softmax layer to the architecture. -->\n"
      ]
    },
    {
      "cell_type": "markdown",
      "metadata": {
        "id": "pczyPJI1Id-p"
      },
      "source": [
        "# 4. BERT の概要\n",
        "<!-- # 4. Overview of BERT -->\n",
        "\n",
        "BERT について聞いたことがあり，それがいかに驚異的であるか，そしてそれがいかに NLP の状況を変える可能性があるかについて読んだことがあるでしょう。\n",
        "しかし，そもそも BERT とは何でしょうか？\n",
        "<!-- You’ve heard about BERT, you’ve read about how incredible it is, and how it’s potentially changing the NLP landscape. \n",
        "But what is BERT in the first place? -->\n",
        "\n",
        "BERT を開発した研究チームは，NLP の枠組みについてこう説明しています。\n",
        "<!-- Here’s how the research team behind BERT describes the NLP framework: -->\n",
        "\n",
        "> BERTとは，Bidirectional Encoder Representations from Transformers の略です。\n",
        "これは，左右両方の文脈を共同で条件付けすることにより，ラベルのないテキストから深層双方向表現を事前に学習するように設計されています。\n",
        "その結果，事前学習された BERT モデルは，たった 1 つの出力層を追加するだけで微調整が可能となり，幅広い NLP 課題に対応した最先端のモデルを作成することができます。\n",
        "<!-- “BERT stands for Bidirectional Encoder Representations from Transformers. \n",
        "It is designed to pre-train deep bidirectional representations from unlabeled text by jointly conditioning on both left and right context. \n",
        "As a result, the pre-trained BERT model can be fine-tuned with just one additional output layer to create state-of-the-art models for a wide range of NLP tasks.” -->\n",
        "\n",
        "出発点としてはあまりにも複雑に聞こえますね。\n",
        "しかし，これは BERT の機能をうまくまとめているので，それを分解してみましょう。\n",
        "<!-- That sounds way too complex as a starting point. \n",
        "But it does summarize what BERT does pretty well so let’s break it down. -->\n",
        "\n",
        "まず BERT とは Bidirectional Encoder Representations from Transformers の略です。\n",
        "ここでの各単語には意味があり，本記事ではそれを 1 つずつ紹介していきます。\n",
        "今のところ，この行から得られる重要なポイントは 「BERT は Transformer のアーキテクチャに基づいている」ということです。\n",
        "次に BERT は，Wikipedia全 体 (25億語！) と Book Corpus (8億語) を含む，ラベル付けされていないテキストの大規模なコーパスで事前学習されています。\n",
        "<!-- Firstly, BERT stands for Bidirectional Encoder Representations from Transformers. \n",
        "Each word here has a meaning to it and we will encounter that one by one in this article. \n",
        "For now, the key takeaway from this line is – BERT is based on the Transformer architecture. \n",
        "Secondly, BERT is pre-trained on a large corpus of unlabelled text including the entire Wikipedia (that’s 2,500 million words!) and Book Corpus (800 million words). -->\n",
        "\n",
        "この事前学習ステップは BERT の成功を支える魔法のようなものです。\n",
        "なぜなら，大規模なテキストコーパスでモデルを訓練すると，モデルは，言語がどのように機能するかについて，より深く親密な理解を得られるようになるからです。\n",
        "この知識は，ほとんどすべての NLP 課題に役立つスイスアーミーナイフです。\n",
        "<!-- This pre-training step is half the magic behind BERT’s success. \n",
        "This is because as we train a model on a large text corpus, our model starts to pick up the deeper and intimate understandings of how the language works. \n",
        "This knowledge is the swiss army knife that is useful for almost any NLP task. -->\n",
        "\n",
        "第 3 に，BERT は「深層双方向」モデルです。\n",
        "双方向とは、BERT が学習段階において、トークンの文脈の左側と右側の両方から情報を学習することを意味します。\n",
        "<!-- Third, BERT is a “deep bidirectional” model. \n",
        "Bidirectional means that BERT learns information from both the left and the right side of a token’s context during the training phase. -->\n",
        "\n",
        "BERTのアーキテクチャと学習前のタスクについて詳しく知りたい方は、以下の記事をご覧ください。\n",
        "<!-- To learn more about the BERT architecture and its pre-training tasks, then you may like to read the below article: -->\n",
        "\n",
        "[BERT の神秘化：画期的な NLP フレームワークへの包括的ガイド](https://www.analyticsvidhya.com/blog/2019/09/demystifying-bert-groundbreaking-nlp-framework/?utm_source=blog&utm_medium=fine_tune_BERT)\n",
        "<!-- Demystifying BERT: A Comprehensive Guide to the Groundbreaking NLP Framework -->"
      ]
    },
    {
      "cell_type": "markdown",
      "metadata": {
        "id": "qwMyJgkxId-q"
      },
      "source": [
        "# 5. スパム分類のための BERT の微調整\n",
        "<!-- # 5. Fine-Tune BERT for Spam Classification -->\n",
        "\n",
        "ここでは Transformer ライブラリを使用して，テキスト分類を行うために BERT モデルを微調整します。\n",
        "PyTorch でのニューラルネットワークモデルの定義，訓練，評価の基本的な理解が必要です。\n",
        "もし PyTorch について簡単に復習したい場合は，以下の記事をご覧ください。\n",
        "<!-- Now we will fine-tune a BERT model to perform text classification with the help of the Transformers library. \n",
        "You should have a basic understanding of defining, training, and evaluating neural network models in PyTorch. \n",
        "If you want a quick refresher on PyTorch then you can go through the article below: -->\n",
        "\n",
        "* [初心者のためのPyTorchガイドとスクラッチでの動作方法](https://www.analyticsvidhya.com/blog/2019/09/introduction-to-pytorch-from-scratch/?utm_source=blog&utm_medium=fine_tune_BERT)\n",
        "<!-- * A Beginner-Friendly Guide to PyTorch and How it Works from Scratch -->\n",
        "\n",
        "[Colab Notebook](https://github.com/prateekjoshi565/Fine-Tuning-BERT/blob/master/Fine_Tuning_BERT_for_Spam_Classification.ipynb) へのリンク\n",
        "<!-- Link to Colab Notebook -->\n",
        "\n",
        "## 5.1 問題提起\n",
        "<!-- ## 5.1 Problem Statement -->\n",
        "\n",
        "我々は SMS メッセージのコレクションを持っている。\n",
        "これらのメッセージの一部はスパムであり，残りは本物である。\n",
        "我々の課題は，あるメッセージがスパムかどうかを自動的に検出するシステムを構築することです。\n",
        "<!-- We have a collection of SMS messages. \n",
        "Some of these messages are spam and the rest are genuine. \n",
        "Our task is to build a system that would automatically detect whether a message is spam or not. -->\n",
        "\n",
        "このユースケースで使用するデータセットは，ここからダウンロードできます (右クリックして「Save link as...」をクリックしてください)。\n",
        "<!-- The dataset that we will be using for this use case can be downloaded from here (right-click and click on “Save link as…”). -->\n",
        "\n",
        "この課題を実行するには GPU を使用できるように Google Colab を使用することをお勧めします。\n",
        "まず Colab の Runtime → Change runtime type → Select GPU をクリックして，GPU ランタイムを有効にします。\n",
        "<!-- I suggest you use Google Colab to perform this task so that you can use the GPU. Firstly, activate the GPU runtime on Colab by clicking on Runtime -> Change runtime type -> Select GPU. -->"
      ]
    },
    {
      "cell_type": "code",
      "metadata": {
        "id": "1hkhc10wNrGt"
      },
      "source": [
        "import platform\n",
        "isMac = True if platform.system() == 'Darwin' else None\n",
        "if not isMac:\n",
        "    !pip install transformers > /dev/null 2>&1 "
      ],
      "execution_count": null,
      "outputs": []
    },
    {
      "cell_type": "code",
      "metadata": {
        "id": "x4giRzM7NtHJ"
      },
      "source": [
        "import numpy as np\n",
        "import pandas as pd\n",
        "import torch\n",
        "import torch.nn as nn\n",
        "from sklearn.model_selection import train_test_split\n",
        "from sklearn.metrics import classification_report\n",
        "import transformers\n",
        "from transformers import AutoModel, BertTokenizerFast\n",
        "\n",
        "# specify GPU\n",
        "#device = torch.device(\"cuda\")\n",
        "device = torch.device('cuda' if torch.cuda.is_available() else 'cpu')  # GPU が利用可能であれば GPU にセット"
      ],
      "execution_count": null,
      "outputs": []
    },
    {
      "cell_type": "markdown",
      "metadata": {
        "id": "kKd-Tj3hOMsZ"
      },
      "source": [
        "# 6. データセットの読み込み\n",
        "<!--Load Dataset-->"
      ]
    },
    {
      "cell_type": "code",
      "metadata": {
        "id": "cwJrQFQgN_BE"
      },
      "source": [
        "# サンプルデータのダウンロード\n",
        "\n",
        "if not isMac:\n",
        "    !wget https://raw.githubusercontent.com/prateekjoshi565/Fine-Tuning-BERT/master/spamdata_v2.csv\n",
        "    #!ls /content/drive/MyDrive\n",
        "df = pd.read_csv(\"spamdata_v2.csv\")\n",
        "df.head()"
      ],
      "execution_count": null,
      "outputs": []
    },
    {
      "cell_type": "code",
      "metadata": {
        "id": "fzPPOrVQWiW5"
      },
      "source": [
        "df.shape"
      ],
      "execution_count": null,
      "outputs": []
    },
    {
      "cell_type": "code",
      "metadata": {
        "id": "676DPU1BOPdp"
      },
      "source": [
        "# check class distribution\n",
        "df['label'].value_counts(normalize = True)"
      ],
      "execution_count": null,
      "outputs": []
    },
    {
      "cell_type": "markdown",
      "metadata": {
        "id": "MKfWnApvOoE7"
      },
      "source": [
        "# 7. データセットを分割して，訓練データとテストデータにする\n",
        "<!-- # Split train dataset into train, validation and test sets -->"
      ]
    },
    {
      "cell_type": "code",
      "metadata": {
        "id": "mfhSPF5jOWb7"
      },
      "source": [
        "# 以下の `random_state` の設定は任意です。再現性を担保するために，乱数の種を指定します。\n",
        "# テストデータの割合を 0.3 にしていますが，これも任意です。\n",
        "# 別の指定方法としては `train_size=0.9` みたいに訓練データの方を指定する方法もあります\n",
        "train_text, temp_text, train_labels, temp_labels = train_test_split(df['text'], df['label'], \n",
        "                                                                    random_state=2018, \n",
        "                                                                    test_size=0.3, \n",
        "                                                                    stratify = df['label'])\n",
        "\n",
        "# temp_labels は妥当性検証のために使います。ここでは，temp_labels を 半分に分割して，\n",
        "# 検証データ val_ と test_ にしています\n",
        "# we will use temp_text and temp_labels to create validation and test set\n",
        "val_text, test_text, val_labels, test_labels = train_test_split(temp_text, temp_labels, \n",
        "                                                                random_state=2018, \n",
        "                                                                test_size=0.5, \n",
        "                                                                stratify=temp_labels)"
      ],
      "execution_count": null,
      "outputs": []
    },
    {
      "cell_type": "markdown",
      "metadata": {
        "id": "n7hsdLoCO7uB"
      },
      "source": [
        "# 8. BERT モデルとトークナイザ を輸入 import する\n",
        "<!-- # Import BERT Model and BERT Tokenizer -->"
      ]
    },
    {
      "cell_type": "code",
      "metadata": {
        "id": "S1kY3gZjO2RE"
      },
      "source": [
        "# import BERT-base pretrained model\n",
        "bert = AutoModel.from_pretrained('bert-base-uncased')\n",
        "\n",
        "# Load the BERT tokenizer\n",
        "tokenizer = BertTokenizerFast.from_pretrained('bert-base-uncased')"
      ],
      "execution_count": null,
      "outputs": []
    },
    {
      "cell_type": "code",
      "metadata": {
        "id": "_zOKeOMeO-DT"
      },
      "source": [
        "# サンプルデータの設定\n",
        "text = [\"this is a bert model tutorial\", \"we will fine-tune a bert model\"]\n",
        "\n",
        "# 直上のデータをトークン ID 化\n",
        "sent_id = tokenizer.batch_encode_plus(text, padding=True, return_token_type_ids=False)"
      ],
      "execution_count": null,
      "outputs": []
    },
    {
      "cell_type": "code",
      "metadata": {
        "id": "oAH73n39PHLw"
      },
      "source": [
        "# 直上セルで得たトークンID を印字\n",
        "print(sent_id)"
      ],
      "execution_count": null,
      "outputs": []
    },
    {
      "cell_type": "markdown",
      "metadata": {
        "id": "8wIYaWI_Prg8"
      },
      "source": [
        "ご覧の通り，出力は 2 つの項目からなる辞書です。\n",
        "<!-- As you can see the output is a dictionary of two items. -->\n",
        "\n",
        "input_ids には，入力文の整数列が入っています。\n",
        "整数の 101 と 102 は特別なトークンです。\n",
        "これらは両方の配列に追加され 0 はパディングトークンを表しています。\n",
        "attention_mask は 1 と 0 を含みます。\n",
        "これは，マスク値 1 に対応するトークンに注意を払い，それ以外は無視するようにモデルに指示します。\n",
        "<!-- ‘input_ids’ contains the integer sequences of the input sentences. \n",
        "The integers 101 and 102 are special tokens. \n",
        "We add them to both the sequences, and 0 represents the padding token.\n",
        "‘attention_mask’ contains 1’s and 0’s. \n",
        "It tells the model to pay attention to the tokens corresponding to the mask value of 1 and ignore the rest. -->\n",
        "\n",
        "# 9. トークン化\n",
        "<!-- # Tokenization -->\n",
        "\n",
        "\n",
        "## 9.1 文のトークン化\n",
        "<!-- ## Tokenize the Sentences -->\n",
        "\n",
        "データセットに含まれるメッセージ (テキスト) の長さはまちまちなので，すべてのメッセージが同じ長さになるようにパディングを行います。\n",
        "メッセージのパディングには，最大配列長を使うことができます。\n",
        "しかし，訓練セットの配列長の分布を見て，適切なパディングの長さを見つけることもできます。\n",
        "<!-- Since the messages (text) in the dataset are of varying length, therefore we will use padding to make all the messages have the same length. \n",
        "We can use the maximum sequence length to pad the messages. \n",
        "However, we can also have a look at the distribution of the sequence lengths in the train set to find the right padding length. -->"
      ]
    },
    {
      "cell_type": "code",
      "metadata": {
        "id": "yKwbpeN_PMiu"
      },
      "source": [
        "# 全データの長さ (一文あたりのトークン数) のヒストグラムを作成\n",
        "# get length of all the messages in the train set\n",
        "seq_len = [len(i.split()) for i in train_text]\n",
        "\n",
        "pd.Series(seq_len).hist(bins = 30)"
      ],
      "execution_count": null,
      "outputs": []
    },
    {
      "cell_type": "markdown",
      "metadata": {
        "id": "98W6UHKEId-u"
      },
      "source": [
        "ほとんどのメッセージの長さが 25 語以下であることがはっきりとわかります。\n",
        "一方，最大の長さは 175 です。\n",
        "そこで，パディング長を 175 に設定すると，すべての入力配列の長さが 175 になり，それらの配列に含まれるトークンのほとんどがパディングトークンになります。\n",
        "<!-- We can clearly see that most of the messages have a length of 25 words or less. \n",
        "Whereas the maximum length is 175. \n",
        "So, if we select 175 as the padding length then all the input sequences will have length 175 and most of the tokens in those sequences will be padding tokens which are not going to help the model learn anything useful and on top of that, it will make the training slower.-->\n",
        "\n",
        "そこで，パディングの長さを 25 に設定します。\n",
        "<!-- Therefore, we will set 25 as the padding length. -->"
      ]
    },
    {
      "cell_type": "code",
      "metadata": {
        "id": "OXcswEIRPvGe"
      },
      "source": [
        "max_seq_len = 25"
      ],
      "execution_count": null,
      "outputs": []
    },
    {
      "cell_type": "code",
      "metadata": {
        "id": "tk5S7DWaP2t6"
      },
      "source": [
        "# 訓練データのトークン化と系列の符号化\n",
        "# tokenize and encode sequences in the training set\n",
        "tokens_train = tokenizer.batch_encode_plus(\n",
        "    train_text.tolist(),\n",
        "    max_length = max_seq_len,\n",
        "    #pad_to_max_length=True,  # 最新バージョンの padding 指定方法が変更になったため，直下行へと書き換えた\n",
        "    padding = 'longest',\n",
        "    truncation=True,\n",
        "    return_token_type_ids=False\n",
        ")\n",
        "\n",
        "# 検証データのトークン化と系列の符号化\n",
        "# tokenize and encode sequences in the validation set\n",
        "tokens_val = tokenizer.batch_encode_plus(\n",
        "    val_text.tolist(),\n",
        "    max_length = max_seq_len,\n",
        "    #pad_to_max_length=True,  # 最新バージョンの padding 指定方法が変更になったため，直下行へと書き換えた\n",
        "    padding = 'longest',\n",
        "    truncation=True,\n",
        "    return_token_type_ids=False\n",
        ")\n",
        "\n",
        "# テストデータのトークン化と系列の符号化\n",
        "# tokenize and encode sequences in the test set\n",
        "tokens_test = tokenizer.batch_encode_plus(\n",
        "    test_text.tolist(),\n",
        "    max_length = max_seq_len,\n",
        "    #pad_to_max_length=True,  # 最新バージョンの padding 指定方法が変更になったため，直下行へと書き換えた\n",
        "    padding = 'longest',\n",
        "    truncation=True,\n",
        "    return_token_type_ids=False\n",
        ")"
      ],
      "execution_count": null,
      "outputs": []
    },
    {
      "cell_type": "markdown",
      "metadata": {
        "id": "x1vo35AVId-v"
      },
      "source": [
        "これで 訓練，検証，テストの各データセットに含まれるメッセージが，それぞれ 25 トークンの長さの整数列に変換されたことになります。\n",
        "<!-- So, we have now converted the messages in train, validation, and test set to integer sequences of length 25 tokens each.-->\n",
        "\n",
        "次に，この整数列をテンソルに変換してみましょう。\n",
        "<!-- Next, we will convert the integer sequences to tensors. -->"
      ]
    },
    {
      "cell_type": "markdown",
      "metadata": {
        "id": "Wsm8bkRZQTw9"
      },
      "source": [
        "# 10. 整数系列ベクトルをテンソルへと変換\n",
        "<!-- # Convert Integer Sequences to Tensors -->"
      ]
    },
    {
      "cell_type": "code",
      "metadata": {
        "id": "QR-lXwmzQPd6"
      },
      "source": [
        "# 訓練データ\n",
        "train_seq = torch.tensor(tokens_train['input_ids'])\n",
        "train_mask = torch.tensor(tokens_train['attention_mask'])\n",
        "train_y = torch.tensor(train_labels.tolist())\n",
        "\n",
        "# 検証データ\n",
        "val_seq = torch.tensor(tokens_val['input_ids'])\n",
        "val_mask = torch.tensor(tokens_val['attention_mask'])\n",
        "val_y = torch.tensor(val_labels.tolist())\n",
        "\n",
        "# テストデータ\n",
        "test_seq = torch.tensor(tokens_test['input_ids'])\n",
        "test_mask = torch.tensor(tokens_test['attention_mask'])\n",
        "test_y = torch.tensor(test_labels.tolist())"
      ],
      "execution_count": null,
      "outputs": []
    },
    {
      "cell_type": "markdown",
      "metadata": {
        "id": "1Kj3uhlKId-v"
      },
      "source": [
        "ここで，訓練セットと検証セットの両方のデータローダを作成します。\n",
        "これらのデータローダは，学習段階でモデルへの入力として訓練データと検証データのバッチを渡します。\n",
        "<!-- Now we will create dataloaders for both train and validation set. \n",
        "These dataloaders will pass batches of train data and validation data as input to the model during the training phase. -->"
      ]
    },
    {
      "cell_type": "markdown",
      "metadata": {
        "id": "Ov1cOBlcRLuk"
      },
      "source": [
        "# 11. データローダ Dataloader の作成\n",
        "<!-- # Create DataLoaders -->"
      ]
    },
    {
      "cell_type": "code",
      "metadata": {
        "id": "qUy9JKFYQYLp"
      },
      "source": [
        "from torch.utils.data import TensorDataset, DataLoader, RandomSampler, SequentialSampler\n",
        "\n",
        "batch_size = 32  #ミニバッチサイズの定義 define a batch size\n",
        "\n",
        "train_data = TensorDataset(train_seq, train_mask, train_y)  # テンソルを包み込んでデータセット化\n",
        "train_sampler = RandomSampler(train_data)                   # 訓練データからランダムサンプリング\n",
        "\n",
        "# 訓練データセットの定義 dataLoader for train set\n",
        "train_dataloader = DataLoader(train_data, \n",
        "                              sampler=train_sampler, \n",
        "                              batch_size=batch_size)\n",
        "\n",
        "val_data = TensorDataset(val_seq, val_mask, val_y)          # テンソルを包み込んでデータセット化 wrap tensors\n",
        "val_sampler = SequentialSampler(val_data)                   # 訓練中に検証データから逐次サンプリング sampler for sampling the data during training\n",
        "\n",
        "# 検証データセットの定義 dataLoader for validation set\n",
        "val_dataloader = DataLoader(val_data, \n",
        "                            sampler = val_sampler, \n",
        "                            batch_size=batch_size)"
      ],
      "execution_count": null,
      "outputs": []
    },
    {
      "cell_type": "markdown",
      "metadata": {
        "id": "K2HZc5ZYRV28"
      },
      "source": [
        "# 12. モデルのアーキテクチャを定義する\n",
        "<!-- # Define Model Architecture -->\n",
        "\n",
        "思い出していただければ，以前，この記事の中で，モデルのすべてのレイヤーを凍結させてからファインチューニングを行うと書きました。\n",
        "では，まずそれをやってみましょう。\n",
        "<!-- If you can recall, earlier I mentioned in this article that I would freeze all the layers of the model before fine-tuning it. \n",
        "So, let’s do it first. -->\n",
        "\n",
        "# 13. パラメータの凍結"
      ]
    },
    {
      "cell_type": "code",
      "metadata": {
        "id": "wHZ0MC00RQA_"
      },
      "source": [
        "# freeze all the parameters\n",
        "for param in bert.parameters():\n",
        "    param.requires_grad = False"
      ],
      "execution_count": null,
      "outputs": []
    },
    {
      "cell_type": "markdown",
      "metadata": {
        "id": "33lt56axId-w"
      },
      "source": [
        "これにより，微調整中にモデルの重みが更新されるのを防ぐことができる。\n",
        "BERT モデルの事前学習済みの重みを微調整したい場合は，上記のコードを実行しないでください。\n",
        "\n",
        "次は，モデルのアーキテクチャを定義しましょう。\n",
        "<!-- This will prevent updating of model weights during fine-tuning. \n",
        "If you wish to fine-tune even the pre-trained weights of the BERT model then you should not execute the code above.\n",
        "\n",
        "Moving on we will now let’s define our model architecture. -->"
      ]
    },
    {
      "cell_type": "code",
      "metadata": {
        "id": "b3iEtGyYRd0A"
      },
      "source": [
        "class BERT_Arch(nn.Module):\n",
        "    def __init__(self, bert):\n",
        "        super(BERT_Arch, self).__init__()\n",
        "        self.bert = bert\n",
        "        self.dropout = nn.Dropout(0.1)  # ドロップアウト\n",
        "        self.relu =  nn.ReLU()          # 活性化関数として整流線形化 ReLU を定義\n",
        "        self.fc1 = nn.Linear(768,512)   # 全結合層 1 dense layer 1\n",
        "        self.fc2 = nn.Linear(512,2)     # 全結合層 2 (出力) dense layer 2 (Output layer)\n",
        "        self.softmax = nn.LogSoftmax(dim=1)  # ソフトマックス関数 #softmax activation function\n",
        "        \n",
        "    def forward(self, sent_id, mask):\n",
        "        # pass the inputs to the model  \n",
        "        # このままでは動作しないので，下記を参照した\n",
        "        #source: https://stackoverflow.com/questions/66846030/typeerror-linear-argument-input-position-1-must-be-tensor-not-str\n",
        "        #I've been working on this repo too. \n",
        "        # Motivated by the answer provided on this link. \n",
        "        #There is a class probably named Bert_Arch that inherits the nn.Module and this class has a overriden method named forward. \n",
        "        #Inside forward method just add the parameter 'return_dict=False' to the self.bert() method call. Like so:\n",
        "        # ```_, cls_hs = self.bert(sent_id, attention_mask=mask, return_dict=False)```\n",
        "        _, cls_hs = self.bert(sent_id, attention_mask=mask, return_dict=False)\n",
        "        \n",
        "        #_, cls_hs = self.bert(sent_id, attention_mask=mask)\n",
        "        x = self.fc1(cls_hs)\n",
        "        x = self.relu(x)\n",
        "        x = self.dropout(x)\n",
        "        # output layer\n",
        "        x = self.fc2(x)\n",
        "        # apply softmax activation\n",
        "        return x"
      ],
      "execution_count": null,
      "outputs": []
    },
    {
      "cell_type": "code",
      "metadata": {
        "id": "cBAJJVuJRliv"
      },
      "source": [
        "model = BERT_Arch(bert)  # 訓練済モデルを設定する pass the pre-trained BERT to our define architecture\n",
        "model = model.to(device) # GPU の設定 push the model to GPU"
      ],
      "execution_count": null,
      "outputs": []
    },
    {
      "cell_type": "code",
      "metadata": {
        "id": "taXS0IilRn9J"
      },
      "source": [
        "from transformers import AdamW  # 最適化関数を huggingface に基づき設定 optimizer from hugging face transformers\n",
        "optimizer = AdamW(model.parameters(), lr = 1e-3)  # define the optimizer"
      ],
      "execution_count": null,
      "outputs": []
    },
    {
      "cell_type": "markdown",
      "metadata": {
        "id": "j9CDpoMQR_rK"
      },
      "source": [
        "# 14. クラス重みを見つける\n",
        "<!-- # Find Class Weights -->"
      ]
    },
    {
      "cell_type": "code",
      "metadata": {
        "colab": {
          "base_uri": "https://localhost:8080/"
        },
        "id": "izY5xH5eR7Ur",
        "outputId": "e4dab95a-473a-408f-da4e-94b6a9cfe9ff"
      },
      "source": [
        "from sklearn.utils.class_weight import compute_class_weight\n",
        "\n",
        "# クラス重みを計算 Compute the class weights\n",
        "class_wts = compute_class_weight(class_weight='balanced', classes=np.unique(train_labels), y=train_labels)\n",
        "print(class_wts)"
      ],
      "execution_count": null,
      "outputs": [
        {
          "output_type": "stream",
          "name": "stdout",
          "text": [
            "[0.57743559 3.72848948]\n"
          ]
        }
      ]
    },
    {
      "cell_type": "code",
      "metadata": {
        "id": "r1WvfY2vSGKi"
      },
      "source": [
        "# convert class weights to tensor\n",
        "weights = torch.tensor(class_wts,dtype=torch.float)\n",
        "weights = weights.to(device)\n",
        "\n",
        "cross_entropy = nn.NLLLoss(weight=weights)  # 損失関数の定義 loss function\n",
        "epochs = 10                                 # 訓練エポック数の設定 number of training epochs"
      ],
      "execution_count": null,
      "outputs": []
    },
    {
      "cell_type": "markdown",
      "metadata": {
        "id": "My4CA0qaShLq"
      },
      "source": [
        "# 15. BERT のファインチューニング(微調整)\n",
        "<!-- # Fine-Tune BERT -->"
      ]
    },
    {
      "cell_type": "code",
      "metadata": {
        "id": "rskLk8R_SahS"
      },
      "source": [
        "def train():\n",
        "    \"\"\"function to train the model\"\"\"\n",
        "    model.train()\n",
        "    total_loss, total_accuracy = 0, 0\n",
        "    total_preds = []  # モデルの予測を格納するためのリストを初期化 empty list to save model predictions\n",
        "  \n",
        "    for step,batch in enumerate(train_dataloader):  # ミニバッチを繰り返し iterate over batches\n",
        "        # 50 回ごとに表示 progress update after every 50 batches.\n",
        "        if step % 50 == 0 and not step == 0:\n",
        "            print('  Batch {:>5,}  of  {:>5,}.'.format(step, len(train_dataloader)))\n",
        "\n",
        "        batch = [r.to(device) for r in batch]  # device へ転送 push the batch to gpu\n",
        "        sent_id, mask, labels = batch\n",
        "        model.zero_grad()                       # 勾配の初期化 clear previously calculated gradients\n",
        "        preds = model(sent_id, mask)            # モデルから予測を preds に代入 get model predictions for the current batch\n",
        "        loss = cross_entropy(preds, labels)     # 損失関数を計算 compute the loss between actual and predicted values\n",
        "        total_loss = total_loss + loss.item()   # 全損失に追加 add on to the total loss\n",
        "        loss.backward()                         # 勾配を誤差逆伝播 backward pass to calculate the gradients\n",
        "\n",
        "        # 勾配クリップ 勾配爆発を避けるため clip the the gradients to 1.0. It helps in preventing the exploding gradient problem\n",
        "        torch.nn.utils.clip_grad_norm_(model.parameters(), 1.0)\n",
        "        optimizer.step()                        # パラメータの更新 update parameters\n",
        "        preds=preds.detach().cpu().numpy()      # model predictions are stored on GPU. So, push it to CPU\n",
        "        total_preds.append(preds)               # append the model predictions\n",
        "    \n",
        "    avg_loss = total_loss / len(train_dataloader)  # compute the training loss of the epoch\n",
        "  \n",
        "    # 予測値は (バッチ数, バッチサイズ,クラス数) の形式\n",
        "    # 予測値を (サンプル数, クラス数)の 形に整形\n",
        "    total_preds  = np.concatenate(total_preds, axis=0)\n",
        "    return avg_loss, total_preds  #returns the loss and predictions"
      ],
      "execution_count": null,
      "outputs": []
    },
    {
      "cell_type": "code",
      "metadata": {
        "id": "yGXovFDlSxB5"
      },
      "source": [
        "def evaluate():\n",
        "    \"\"\"function for evaluating the model\"\"\"\n",
        "    print(\"\\nEvaluating...\")\n",
        "    model.eval()  # deactivate dropout layers\n",
        "    total_loss, total_accuracy = 0, 0\n",
        "    total_preds = []  # empty list to save the model predictions\n",
        "\n",
        "    for step,batch in enumerate(val_dataloader):  # iterate over batches\n",
        "        if step % 50 == 0 and not step == 0:  # Progress update every 50 batches.\n",
        "            elapsed = format_time(time.time() - t0)  # Calculate elapsed time in minutes.\n",
        "            print('  Batch {:>5,}  of  {:>5,}.'.format(step, len(val_dataloader)))  # Report progress.\n",
        "\n",
        "        batch = [t.to(device) for t in batch]  # push the batch to gpu\n",
        "        sent_id, mask, labels = batch\n",
        "\n",
        "        with torch.no_grad():  # deactivate autograd\n",
        "            preds = model(sent_id, mask)  # model predictions\n",
        "\n",
        "            # compute the validation loss between actual and predicted values\n",
        "            loss = cross_entropy(preds,labels)\n",
        "            total_loss = total_loss + loss.item()\n",
        "            preds = preds.detach().cpu().numpy()\n",
        "            total_preds.append(preds)\n",
        "    \n",
        "    avg_loss = total_loss / len(val_dataloader)  # compute the validation loss of the epoch\n",
        "\n",
        "    # reshape the predictions in form of (number of samples, no. of classes)\n",
        "    total_preds  = np.concatenate(total_preds, axis=0)\n",
        "    return avg_loss, total_preds"
      ],
      "execution_count": null,
      "outputs": []
    },
    {
      "cell_type": "markdown",
      "metadata": {
        "id": "9KZEgxRRTLXG"
      },
      "source": [
        "# 16. 訓練の開始\n",
        "<!-- # Start Model Training -->"
      ]
    },
    {
      "cell_type": "code",
      "metadata": {
        "id": "k1USGTntS3TS"
      },
      "source": [
        "best_valid_loss = float('inf')       #set initial loss to infinite\n",
        "train_losses, valid_losses = [], []  #empty lists to store training and validation loss of each epoch\n",
        "\n",
        "\n",
        "for epoch in range(epochs):\n",
        "    print('\\n Epoch {:} / {:}'.format(epoch + 1, epochs))  #for each epoch\n",
        "    train_loss, _ = train()           #train model\n",
        "    valid_loss, _ = evaluate()        #evaluate model\n",
        "    if valid_loss < best_valid_loss:  #save the best model\n",
        "        best_valid_loss = valid_loss\n",
        "        torch.save(model.state_dict(), 'saved_weights.pt')\n",
        "    \n",
        "    # append training and validation loss\n",
        "    train_losses.append(train_loss)\n",
        "    valid_losses.append(valid_loss)\n",
        "    \n",
        "    print(f'\\nTraining Loss: {train_loss:.3f}')\n",
        "    print(f'Validation Loss: {valid_loss:.3f}')"
      ],
      "execution_count": null,
      "outputs": []
    },
    {
      "cell_type": "markdown",
      "metadata": {
        "id": "_yrhUc9kTI5a"
      },
      "source": [
        "# 17. 保存したモデルの読み込み\n",
        "<!-- # Load Saved Model -->"
      ]
    },
    {
      "cell_type": "code",
      "metadata": {
        "id": "OacxUyizS8d1"
      },
      "source": [
        "#load weights of best model\n",
        "path = 'saved_weights.pt'\n",
        "model.load_state_dict(torch.load(path))"
      ],
      "execution_count": null,
      "outputs": []
    },
    {
      "cell_type": "markdown",
      "metadata": {
        "id": "x4SVftkkTZXA"
      },
      "source": [
        "# 18. テストデータの予測\n",
        "<!-- # Get Predictions for Test Data -->"
      ]
    },
    {
      "cell_type": "code",
      "metadata": {
        "id": "NZl0SZmFTRQA"
      },
      "source": [
        "# get predictions for test data\n",
        "with torch.no_grad():\n",
        "    preds = model(test_seq.to(device), test_mask.to(device))\n",
        "    preds = preds.detach().cpu().numpy()"
      ],
      "execution_count": null,
      "outputs": []
    },
    {
      "cell_type": "code",
      "metadata": {
        "id": "Ms1ObHZxTYSI"
      },
      "source": [
        "# モデルの成績を表示する model's performance\n",
        "preds = np.argmax(preds, axis = 1)\n",
        "print(classification_report(test_y, preds))"
      ],
      "execution_count": null,
      "outputs": []
    },
    {
      "cell_type": "code",
      "metadata": {
        "id": "YqzLS7rHTp4T"
      },
      "source": [
        "# confusion matrix\n",
        "pd.crosstab(test_y, preds)"
      ],
      "execution_count": null,
      "outputs": []
    },
    {
      "cell_type": "code",
      "metadata": {
        "id": "jpX1uTwjUPY6"
      },
      "source": [
        ""
      ],
      "execution_count": null,
      "outputs": []
    }
  ]
}