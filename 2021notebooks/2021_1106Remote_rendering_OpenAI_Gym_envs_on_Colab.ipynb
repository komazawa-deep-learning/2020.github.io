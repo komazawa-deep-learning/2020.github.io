{
  "nbformat": 4,
  "nbformat_minor": 0,
  "metadata": {
    "kernelspec": {
      "display_name": "Python 3",
      "language": "python",
      "name": "python3"
    },
    "language_info": {
      "codemirror_mode": {
        "name": "ipython",
        "version": 3
      },
      "file_extension": ".py",
      "mimetype": "text/x-python",
      "name": "python",
      "nbconvert_exporter": "python",
      "pygments_lexer": "ipython3",
      "version": "3.7.6"
    },
    "colab": {
      "name": "2021_1106Remote-rendering-OpenAI_Gym-envs_on_Colab.ipynb",
      "provenance": [],
      "toc_visible": true,
      "include_colab_link": true
    }
  },
  "cells": [
    {
      "cell_type": "markdown",
      "metadata": {
        "id": "view-in-github",
        "colab_type": "text"
      },
      "source": [
        "<a href=\"https://colab.research.google.com/github/komazawa-deep-learning/komazawa-deep-learning.github.io/blob/master/2021notebooks/2021_1106Remote_rendering_OpenAI_Gym_envs_on_Colab.ipynb\" target=\"_parent\"><img src=\"https://colab.research.google.com/assets/colab-badge.svg\" alt=\"Open In Colab\"/></a>"
      ]
    },
    {
      "cell_type": "markdown",
      "metadata": {
        "id": "sGmnwKuCrHM_"
      },
      "source": [
        "# Google Colab で OpenAI の Gym 環境を動かすための下準備\n",
        "\n",
        "---\n",
        "- source: https://davidrpugh.github.io/stochastic-expatriate-descent/openai/binder/google-colab/2020/04/16/remote-rendering-gym-envs.html\n",
        "- date: 2021-1106\n",
        "- transrator: Shin Asakawa <asakawa@ieee.org>\n",
        "---"
      ]
    },
    {
      "cell_type": "markdown",
      "metadata": {
        "id": "ZXNCQccUlzao"
      },
      "source": [
        "# 1. Binder と Google Colab で OpenAI Gym Envs をレンダリング\n",
        "\n",
        "軽度の退屈だけど，重要な問題を解決するためのメモ\n",
        "\n",
        "<!-- Getting OpenAI Gym environments to render properly in remote environments such as Google Colab and Binder turned out to be more challenging than I expected. \n",
        "In this post I lay out my solution in the hopes that I might save others time and effort to work it out independently. -->\n",
        "\n",
        "\n",
        "<!-- # Rendering OpenAI Gym Envs on Binder and Google Colab \n",
        "> Notes on solving a mildly tedious (but important) problem\n",
        "-->\n",
        "- branch: 2020-04-16-remote-rendering-gym-envs\n",
        "- badges: true\n",
        "- image: images/gym-colab-binder.png\n",
        "- comments: true\n",
        "- author: David R. Pugh\n",
        "- categories: [openai, binder, google-colab]\n"
      ]
    },
    {
      "cell_type": "markdown",
      "metadata": {
        "id": "sbGDgtXPlzap"
      },
      "source": [
        "[OpenAI](https://openai.com/) の  [Gym](https://gym.openai.com/docs/) 環境を\n",
        " [Google Colab](https://colab.research.google.com/notebooks/intro.ipynb) や [Binder]((https://mybinder.org/) のようなリモート環境で OpenAI Gym 環境を適切にレンダリングすることは，想像以上に難しい。\n",
        "ここでは， 他の人が独自解決するための時間と労力を節約できるように解決策を紹介します。\n",
        "<!-- \n",
        "Getting [OpenAI](https://openai.com/) [Gym](https://gym.openai.com/docs/) environments to render properly in remote environments such as [Google Colab](https://colab.research.google.com/notebooks/intro.ipynb) and [Binder](https://mybinder.org/) turned out to be more challenging than I expected. In this post I lay out my solution in the hopes that I might save others time and effort to work it out independently. -->"
      ]
    },
    {
      "cell_type": "markdown",
      "metadata": {
        "id": "RMIhp3CUlzar"
      },
      "source": [
        "## 1.1 X11 システムの依存関係のインストール\n",
        "\n",
        "必要な [X11](https://en.wikipedia.org/wiki/X_Window_System) 依存関係をインストールします。\n",
        "特に [Xvfb](https://www.x.org/releases/X11R7.7/doc/man/man1/Xvfb.1.xhtml) は，ディスプレイハードウェアや物理的な入力デバイスがないマシンでも動作する X サーバです。\n",
        "<!-- ## Install X11 system dependencies\n",
        "\n",
        "Install necessary [X11](https://en.wikipedia.org/wiki/X_Window_System) dependencies, in particular [Xvfb](https://www.x.org/releases/X11R7.7/doc/man/man1/Xvfb.1.xhtml), which is an X server that can run on machines with no display hardware and no physical input devices.  -->"
      ]
    },
    {
      "cell_type": "code",
      "metadata": {
        "id": "3oV0YbSIlzar"
      },
      "source": [
        "!apt-get install -y xvfb x11-utils"
      ],
      "execution_count": null,
      "outputs": []
    },
    {
      "cell_type": "markdown",
      "metadata": {
        "id": "WZ7d7ea-lzay"
      },
      "source": [
        "# 1.2 追加のPython依存関係のインストール\n",
        "\n",
        "Xvfb をインストールしたので Python の中から Xvfb の仮想ディスプレイを操作するために Python のラッパー[pyvirtualdisplay](https://github.com/ponty/PyVirtualDisplay) をインストールする必要があります。\n",
        "\n",
        "次に [OpenGL](https://www.opengl.org/) の Python バインディングをインストールする必要があります。[PyOpenGL](http://pyopengl.sourceforge.net/) と [PyOpenGL-accelerate](https://pypi.org/project/PyOpenGL-accelerate/) です。\n",
        "\n",
        "前者は実際の Python バインディングで， 後者はオプションの C (Cyson)  拡張セットであり PyOpenGL 3.x の遅い点に対する一般的な操作の加速を提供します。\n",
        "<!-- ## Install additional Python dependencies\n",
        "\n",
        "Now that you have installed Xvfb, you need to install a Python wrapper [`pyvirtualdisplay`](https://github.com/ponty/PyVirtualDisplay) in order to interact with Xvfb virtual displays from within Python. \n",
        "Next you need to install the Python bindings for [OpenGL](https://www.opengl.org/): [PyOpenGL](http://pyopengl.sourceforge.net/) and [PyOpenGL-accelerate](https://pypi.org/project/PyOpenGL-accelerate/). \n",
        "The former are the actual Python bindings, the latter is and optional set of C (Cython) extensions providing acceleration of common operations for slow points in PyOpenGL 3.x. -->"
      ]
    },
    {
      "cell_type": "code",
      "metadata": {
        "id": "3rZuPKpFlzaz"
      },
      "source": [
        "!pip install pyvirtualdisplay==0.2.* PyOpenGL==3.1.* PyOpenGL-accelerate==3.1.*"
      ],
      "execution_count": null,
      "outputs": []
    },
    {
      "cell_type": "markdown",
      "metadata": {
        "id": "qlEDXVAvlza1"
      },
      "source": [
        "# 1.3 OpenAI Gym のインストール\n",
        "\n",
        "次に OpenAI Gym のパッケージをインストールします。\n",
        "ただし， 使用する Gym の環境によっては， 依存関係を追加する必要があります。\n",
        "下のデモでは `LunarLander-v2` の環境をシミュレートするので [Box2D](https://box2d.org/) 物理シミュレータに依存する Gym 環境を有効にする `box2d` を追加インストールする必要があります。\n",
        "<!-- ## Install OpenAI Gym\n",
        "\n",
        "Next you need to install the OpenAI Gym package. \n",
        "Note that depending on which Gym environment you are interested in working with you may need to add additional dependencies. \n",
        "Since I am going to simulate the LunarLander-v2 environment in my demo below I need to install the `box2d` extra which enables Gym environments that depend on the [Box2D](https://box2d.org/) physics simulator. -->\n"
      ]
    },
    {
      "cell_type": "code",
      "metadata": {
        "id": "3YNQlqywlza2"
      },
      "source": [
        "!pip install gym[box2d]==0.17.* "
      ],
      "execution_count": null,
      "outputs": []
    },
    {
      "cell_type": "markdown",
      "metadata": {
        "id": "KtPAg2_Dlza4"
      },
      "source": [
        "## 1.4 仮想ディスプレイの背景を作成\n",
        "\n",
        "次に Gym Envs がレンダリングのために接続できる仮想ディスプレイをバックグラウンドに作成する必要があります。 \n",
        "現在ディスプレイがないことは， 環境変数 [DISPLAY](https://askubuntu.com/questions/432255/what-is-the-display-environment-variable) の値がまだ設定されていないことで確認することができます。\n",
        "<!-- ## Create a virtual display in the background\n",
        "\n",
        "Next you need to create a virtual display in the background which the Gym Envs can connect to for rendering purposes. You can check that there is no display at present by confirming that the value of the [`DISPLAY`](https://askubuntu.com/questions/432255/what-is-the-display-environment-variable) environment variable has not yet been set.  -->"
      ]
    },
    {
      "cell_type": "code",
      "metadata": {
        "id": "6u96pTAClza4",
        "colab": {
          "base_uri": "https://localhost:8080/"
        },
        "outputId": "b6ce1ce6-a407-4604-8e8d-340e029a0048"
      },
      "source": [
        "!echo $DISPLAY"
      ],
      "execution_count": null,
      "outputs": [
        {
          "output_type": "stream",
          "name": "stdout",
          "text": [
            ":1009\n"
          ]
        }
      ]
    },
    {
      "cell_type": "markdown",
      "metadata": {
        "id": "56X_c4h-lza7"
      },
      "source": [
        "直下セルのコードは， Gym Envs がレンダリングのために接続できる仮想ディスプレイを背景に作成します。\n",
        "仮想バッファの `size` は自由に調整できますが Xvfb で作業する際には`visible=False` を設定する必要があります。\n",
        "\n",
        "**このコードは、ディスプレイを起動するために 1 セッションにつき 1 回だけ実行する必要があります。**\n",
        "\n",
        "<!-- The code in the cell below creates a virtual display in the background that your Gym Envs can connect to for rendering. \n",
        "You can adjust the `size` of the virtual buffer as you like but you must set `visible=False` when working with Xvfb. \n",
        "\n",
        "**This code only needs to be run once per session to start the display.** -->"
      ]
    },
    {
      "cell_type": "code",
      "metadata": {
        "id": "o4Epdi8Dlza7"
      },
      "source": [
        "import pyvirtualdisplay\n",
        "\n",
        "_display = pyvirtualdisplay.Display(visible=False,  # use False with Xvfb\n",
        "                                    size=(1400, 900))\n",
        "_ = _display.start()"
      ],
      "execution_count": null,
      "outputs": []
    },
    {
      "cell_type": "markdown",
      "metadata": {
        "id": "4oPSztBJlza9"
      },
      "source": [
        "上のセルを実行した後，環境変数 `DISPLAY` の値を再度表示させ，ディスプレイが動作していることが確認できます。\n",
        "<!-- After running the cell above you can echo out the value of the `DISPLAY` environment variable again to confirm that you now have a display running. -->"
      ]
    },
    {
      "cell_type": "code",
      "metadata": {
        "id": "lX_YMRTHlza-",
        "colab": {
          "base_uri": "https://localhost:8080/"
        },
        "outputId": "c383fbdc-5b2b-4ff7-a809-77e8dcd49c5b"
      },
      "source": [
        "!echo $DISPLAY"
      ],
      "execution_count": null,
      "outputs": [
        {
          "output_type": "stream",
          "name": "stdout",
          "text": [
            ":1001\n"
          ]
        }
      ]
    },
    {
      "cell_type": "markdown",
      "metadata": {
        "id": "ya31Vk5alzbA"
      },
      "source": [
        "便宜上，上記の手順を 2 つのセルにまとめましたので， コピーして Google Colab のノートブックのトップに貼り付けてください。\n",
        "<!-- For convenience I have gathered the above steps into two cells that you can copy and paste into the top of you Google Colab notebooks. -->"
      ]
    },
    {
      "cell_type": "code",
      "metadata": {
        "id": "Sc1v98eHlzbB"
      },
      "source": [
        "%%bash\n",
        "\n",
        "# install required system dependencies\n",
        "apt-get install -y xvfb x11-utils\n",
        "\n",
        "# install required python dependencies (might need to install additional gym extras depending)\n",
        "pip install gym[box2d]==0.17.* pyvirtualdisplay==0.2.* PyOpenGL==3.1.* PyOpenGL-accelerate==3.1.*"
      ],
      "execution_count": null,
      "outputs": []
    },
    {
      "cell_type": "code",
      "metadata": {
        "id": "SzpXTvAnlzbD"
      },
      "source": [
        "import pyvirtualdisplay\n",
        "\n",
        "_display = pyvirtualdisplay.Display(visible=False,  # use False with Xvfb\n",
        "                                    size=(1400, 900))\n",
        "_ = _display.start()"
      ],
      "execution_count": null,
      "outputs": []
    },
    {
      "cell_type": "markdown",
      "metadata": {
        "id": "-JdjkbtOlzbV"
      },
      "source": [
        "# 2. デモ\n",
        "\n",
        "上記の設定が先述のように動作することを証明するため， 簡単なシミュレーションを行ってみます。\n",
        "まず， 可能な行動集合からランダムに行動を選択する「エージェント」を定義し， そのエージェントを作成するための関数を定義します。\n",
        "<!-- # 2. Demo\n",
        "\n",
        "Just to prove that the above setup works as advertised I will run a short simulation. \n",
        "First I will define an `Agent` that chooses an action randomly from the set of possible actions and the define a function that can be used to create such agents. -->\n"
      ]
    },
    {
      "cell_type": "code",
      "metadata": {
        "id": "hfXJY4B1lzbV"
      },
      "source": [
        "import typing\n",
        "import numpy as np\n",
        "\n",
        "# 状態を配列で表現し，行動を整数で表現する\n",
        "State = np.array\n",
        "Action = int\n",
        "\n",
        "# エージェントはただの機能\n",
        "Agent = typing.Callable[[State], Action]\n",
        "\n",
        "def uniform_random_policy(state: State,\n",
        "                          number_actions: int,\n",
        "                          random_state: np.random.RandomState) -> Action:\n",
        "    \"\"\"実行可能な行動集合からランダムに行動を選択\"\"\"\n",
        "    feasible_actions = np.arange(number_actions)\n",
        "    probs = np.ones(number_actions) / number_actions\n",
        "    action = random_state.choice(feasible_actions, p=probs)\n",
        "    return action\n",
        "\n",
        "\n",
        "def make_random_agent(number_actions: int,\n",
        "                      random_state: np.random.RandomState = None) -> Agent:\n",
        "    \"\"\"エージェント作成のためファクトリ\"\"\"    \n",
        "    _random_state = np.random.RandomState() if random_state is None else random_state\n",
        "    return lambda state: uniform_random_policy(state, number_actions, _random_state)\n",
        "    "
      ],
      "execution_count": null,
      "outputs": []
    },
    {
      "cell_type": "markdown",
      "metadata": {
        "id": "cTWnD2R2lzbY"
      },
      "source": [
        "下のセルでは OpenAI Gym 環境の 1 つのエピソードをシミュレートするためのコードをまとめています。\n",
        "この実装は， 提供された環境が `rgb_array`  レンダリングをサポートしていることを前提としていることに注意してください (すべての Gym 環境がサポートしているわけではありません！)。\n",
        "<!-- In the cell below I wrap up the code to simulate a single epsiode of an OpenAI Gym environment. \n",
        "Note that the implementation assumes that the provided environment supports `rgb_array` rendering (which not all Gym environments support!). -->"
      ]
    },
    {
      "cell_type": "code",
      "metadata": {
        "id": "ZSMUFL2RlzbY"
      },
      "source": [
        "import gym\n",
        "import matplotlib.pyplot as plt\n",
        "from IPython import display\n",
        "\n",
        "def simulate(agent: Agent, env: gym.Env) -> None:\n",
        "    state = env.reset()\n",
        "    img = plt.imshow(env.render(mode='rgb_array'))\n",
        "    done = False\n",
        "    while not done:\n",
        "        action = agent(state)\n",
        "        img.set_data(env.render(mode='rgb_array')) \n",
        "        plt.axis('off')\n",
        "        display.display(plt.gcf())\n",
        "        display.clear_output(wait=True)\n",
        "        state, reward, done, _ = env.step(action)       \n",
        "    env.close()\n",
        "    \n"
      ],
      "execution_count": null,
      "outputs": []
    },
    {
      "cell_type": "markdown",
      "metadata": {
        "id": "xP_xVrb_lzba"
      },
      "source": [
        "最後に シミュレーションしたい環境を設定します...\n",
        "<!-- Finally you can setup your desired environment... -->"
      ]
    },
    {
      "cell_type": "code",
      "metadata": {
        "id": "hRwel4LAlzba"
      },
      "source": [
        "# 月面着陸ゲーム LunarLander\n",
        "lunar_lander_v2 = gym.make('LunarLander-v2')\n",
        "_ = lunar_lander_v2.seed(42)"
      ],
      "execution_count": null,
      "outputs": []
    },
    {
      "cell_type": "markdown",
      "metadata": {
        "id": "PvzyU3ROlzbc"
      },
      "source": [
        "以下で，シミュレーションの実行します\n",
        "<!-- ...and run a simulation! -->"
      ]
    },
    {
      "cell_type": "code",
      "metadata": {
        "id": "3bcUMtdJlzbd"
      },
      "source": [
        "random_agent = make_random_agent(lunar_lander_v2.action_space.n, random_state=None)\n",
        "\n",
        "simulate(random_agent, lunar_lander_v2)"
      ],
      "execution_count": null,
      "outputs": []
    },
    {
      "cell_type": "markdown",
      "metadata": {
        "id": "3gpKaZd_lzbf"
      },
      "source": [
        "現在のところ， シミュレーション中に些細な量のちらつきが発生しているようです。\n",
        "何がこの望ましくない動作を引き起こしているのか， まったくわかりません。\n",
        "もし， この問題を改善する方法があれば， コメントをお願いします。\n",
        "良い修正方法が見つかったら， この記事を適宜更新していきます。\n",
        "<!-- Currently there appears to be a non-trivial amount of flickering during the simulation. \n",
        "Not entirely sure what is causing this undesireable behavior. \n",
        "If you have any idea how to improve this, please leave a comment below. \n",
        "I will be sure to update this post accordingly if I find a good fix. -->"
      ]
    },
    {
      "cell_type": "markdown",
      "metadata": {
        "id": "wluZiz1EdCFo"
      },
      "source": [
        "次に倒立振子 `cartpole` 環境を試してみましょう"
      ]
    },
    {
      "cell_type": "code",
      "metadata": {
        "id": "fj5HYbKmprNe"
      },
      "source": [
        "cartpole = gym.make('CartPole-v0')\n",
        "_ = cartpole.seed(42)\n"
      ],
      "execution_count": null,
      "outputs": []
    },
    {
      "cell_type": "code",
      "metadata": {
        "id": "N_1OYQ9zqDOd"
      },
      "source": [
        "random_agent = make_random_agent(cartpole.action_space.n, random_state=None)\n",
        "simulate(random_agent, cartpole)"
      ],
      "execution_count": null,
      "outputs": []
    },
    {
      "cell_type": "code",
      "metadata": {
        "id": "LtvdTi65qNSL"
      },
      "source": [
        ""
      ],
      "execution_count": null,
      "outputs": []
    }
  ]
}