{
  "cells": [
    {
      "cell_type": "markdown",
      "metadata": {
        "id": "view-in-github",
        "colab_type": "text"
      },
      "source": [
        "<a href=\"https://colab.research.google.com/github/komazawa-deep-learning/komazawa-deep-learning.github.io/blob/master/2021notebooks/2021_1221Lime_face_and_GradBoost.ipynb\" target=\"_parent\"><img src=\"https://colab.research.google.com/assets/colab-badge.svg\" alt=\"Open In Colab\"/></a>"
      ]
    },
    {
      "cell_type": "markdown",
      "source": [
        "- date: 2021_1221\n",
        "- author: Shin Asakawa <asakawa@ieee.org>\n",
        "- filename: 2021_1221Lime_face_and_GradBoost.ipynb\n",
        "- source: https://github.com/marcotcr/lime/blob/master/doc/notebooks/Tutorial%20-%20Faces%20and%20GradBoost.ipynb\n",
        "\n",
        "# LIME による顔認識のデモ\n",
        "\n",
        "上記ソースがそのままでは動かないので，若干修正した。"
      ],
      "metadata": {
        "id": "aa5QFcbNz-Y-"
      }
    },
    {
      "cell_type": "code",
      "source": [
        "# LIME のインストール\n",
        "!pip install lime > /dev/null 2>&1 "
      ],
      "metadata": {
        "id": "FMoeaqBSuD4A"
      },
      "execution_count": null,
      "outputs": []
    },
    {
      "cell_type": "markdown",
      "metadata": {
        "id": "iJZaetIBtNtd"
      },
      "source": [
        "# 概要\n",
        "<!-- # Overview -->\n",
        "\n",
        "このノートブックでは、`lime_image` ツールを Olivetti Faces のような少し大きなデータセットに適用する方法を説明します。\n",
        "このデータセットは非常に低解像度で，かなりの高速反復が可能です。\n",
        "<!-- \n",
        "The notebook shows how the ```lime_image``` tools can be applied to a slightly larger dataset like the Olivetti Faces. \n",
        "The dataset is very low resolution and allows quite a bit of rapid-iteration. -->"
      ]
    },
    {
      "cell_type": "code",
      "execution_count": null,
      "metadata": {
        "id": "S1SNG3altNtf"
      },
      "outputs": [],
      "source": [
        "import numpy as np\n",
        "import matplotlib.pyplot as plt\n",
        "from skimage.color import gray2rgb, rgb2gray # since the code wants color images\n",
        "\n",
        "# `montage2d` のインストール元を変更\n",
        "#from skimage.util.montage import montage2d # to make a nice montage of the images\n",
        "from skimage.util import montage as montage2d"
      ]
    },
    {
      "cell_type": "code",
      "execution_count": null,
      "metadata": {
        "id": "Qepy3leftNtg"
      },
      "outputs": [],
      "source": [
        "# オリベッティ顔データセットの入手\n",
        "from sklearn.datasets import fetch_olivetti_faces\n",
        "faces = fetch_olivetti_faces()\n",
        "# make each image color so lime_image works correctly\n",
        "X_vec = np.stack([gray2rgb(iimg) for iimg in faces.data.reshape((-1, 64, 64))],0)\n",
        "y_vec = faces.target.astype(np.uint8)"
      ]
    },
    {
      "cell_type": "code",
      "execution_count": null,
      "metadata": {
        "id": "LNOCu8ektNtg"
      },
      "outputs": [],
      "source": [
        "# データセットの表示\n",
        "%matplotlib inline\n",
        "fig, ax1 = plt.subplots(1,1, figsize = (20,20))\n",
        "ax1.imshow(montage2d(X_vec[:,:,:,0]), cmap='gray', interpolation = 'none')\n",
        "ax1.set_title('All Faces')\n",
        "ax1.axis('off')"
      ]
    },
    {
      "cell_type": "markdown",
      "metadata": {
        "id": "nSD-xeWHtNth"
      },
      "source": [
        "# パイプラインの設定\n",
        "<!-- # Setup a Pipeline -->\n",
        "\n",
        "ここでは，画像を処理するためのパイプラインを作成します．基本的には，画像を 1 次元ベクトルに平坦化し，RandomForest クラス分類器を利用します．\n",
        "<!-- \n",
        "Here we make a pipeline for processing the images where basically we flatten the image back to 1d vectors and then use a RandomForest Classifier -->"
      ]
    },
    {
      "cell_type": "code",
      "execution_count": null,
      "metadata": {
        "id": "HUHLIRW5tNth"
      },
      "outputs": [],
      "source": [
        "from sklearn.pipeline import Pipeline\n",
        "from sklearn.ensemble import RandomForestClassifier\n",
        "from sklearn.ensemble import GradientBoostingClassifier\n",
        "from sklearn.preprocessing import Normalizer\n",
        "from sklearn.decomposition import PCA\n",
        "\n",
        "class PipeStep(object):\n",
        "    \"\"\"\n",
        "    Wrapper for turning functions into pipeline transforms (no-fitting)\n",
        "    \"\"\"\n",
        "    def __init__(self, step_func):\n",
        "        self._step_func=step_func\n",
        "    def fit(self,*args):\n",
        "        return self\n",
        "    def transform(self,X):\n",
        "        return self._step_func(X)\n",
        "\n",
        "makegray_step = PipeStep(lambda img_list: [rgb2gray(img) for img in img_list])\n",
        "flatten_step = PipeStep(lambda img_list: [img.ravel() for img in img_list])\n",
        "\n",
        "simple_rf_pipeline = Pipeline([\n",
        "    ('Make Gray', makegray_step),\n",
        "    ('Flatten Image', flatten_step),\n",
        "    ('Normalize', Normalizer()),\n",
        "    ('PCA', PCA(25)),\n",
        "    ('XGBoost', GradientBoostingClassifier())\n",
        "                              ])"
      ]
    },
    {
      "cell_type": "code",
      "execution_count": null,
      "metadata": {
        "id": "ecgQ8lT4tNti"
      },
      "outputs": [],
      "source": [
        "from sklearn.model_selection import train_test_split\n",
        "X_train, X_test, y_train, y_test = train_test_split(X_vec, y_vec,\n",
        "                                                    train_size=0.70)"
      ]
    },
    {
      "cell_type": "code",
      "execution_count": null,
      "metadata": {
        "id": "vO8sCBSBtNti"
      },
      "outputs": [],
      "source": [
        "simple_rf_pipeline.fit(X_train, y_train)"
      ]
    },
    {
      "cell_type": "markdown",
      "metadata": {
        "id": "aCT6yvLwtNtj"
      },
      "source": [
        "# モデルのスコアリング\n",
        "<!-- # Scoring the Model -->\n",
        "\n",
        "テストデータに対するモデルのスコアリングを表示し、その効果を確認します。\n",
        "<!-- We show the scoring of the model on the test data to see how well it works -->\n"
      ]
    },
    {
      "cell_type": "code",
      "execution_count": null,
      "metadata": {
        "id": "hPgVHK30tNtj"
      },
      "outputs": [],
      "source": [
        "# compute on remaining test data\n",
        "pipe_pred_test = simple_rf_pipeline.predict(X_test)\n",
        "pipe_pred_prop = simple_rf_pipeline.predict_proba(X_test)\n",
        "from sklearn.metrics import classification_report\n",
        "print(classification_report(y_true=y_test, y_pred = pipe_pred_test))"
      ]
    },
    {
      "cell_type": "code",
      "execution_count": null,
      "metadata": {
        "id": "NRY3ICGHtNtk"
      },
      "outputs": [],
      "source": [
        "# %load_ext autoreload\n",
        "# %autoreload 2\n",
        "import os,sys\n",
        "try:\n",
        "    import lime\n",
        "except:\n",
        "    sys.path.append(os.path.join('..', '..')) # add the current directory\n",
        "    import lime"
      ]
    },
    {
      "cell_type": "code",
      "source": [
        "from lime import lime_image"
      ],
      "metadata": {
        "id": "nsYSSjY3vIpr"
      },
      "execution_count": null,
      "outputs": []
    },
    {
      "cell_type": "code",
      "execution_count": null,
      "metadata": {
        "collapsed": true,
        "id": "tZZe5n6ntNtk"
      },
      "outputs": [],
      "source": [
        "from lime.wrappers.scikit_image import SegmentationAlgorithm\n",
        "#explainer = lime_image.LimeImageExplainer(verbose = False)\n",
        "explainer = lime_image.LimeImageExplainer(verbose = True)\n",
        "segmenter = SegmentationAlgorithm('slic', n_segments=100, compactness=1, sigma=1)"
      ]
    },
    {
      "cell_type": "code",
      "execution_count": null,
      "metadata": {
        "scrolled": true,
        "id": "hYfXxl6BtNtk"
      },
      "outputs": [],
      "source": [
        "%%time\n",
        "explanation = explainer.explain_instance(X_test[0], \n",
        "                                         classifier_fn = simple_rf_pipeline.predict_proba, \n",
        "                                         top_labels=6, hide_color=0, num_samples=10000, segmentation_fn=segmenter)"
      ]
    },
    {
      "cell_type": "code",
      "execution_count": null,
      "metadata": {
        "id": "NASsCSTvtNtl"
      },
      "outputs": [],
      "source": [
        "# 動かないので，直下セルのように書き換えた\n",
        "\n",
        "# from skimage.color import label2rgb\n",
        "# temp, mask = explanation.get_image_and_mask(y_test[0], positive_only=True, num_features=5, hide_rest=False)\n",
        "# fig, (ax1, ax2) = plt.subplots(1,2, figsize = (8, 4))\n",
        "# ax1.imshow(label2rgb(mask,temp, bg_label = 0), interpolation = 'nearest')\n",
        "# ax1.set_title('Positive Regions for {}'.format(y_test[0]))\n",
        "# temp, mask = explanation.get_image_and_mask(y_test[0], positive_only=False, num_features=10, hide_rest=False)\n",
        "# ax2.imshow(label2rgb(3-mask,temp, bg_label = 0), interpolation = 'nearest')\n",
        "# ax2.set_title('Positive/Negative Regions for {}'.format(y_test[0]))"
      ]
    },
    {
      "cell_type": "code",
      "source": [
        "from skimage.color import label2rgb\n",
        "N = explanation.top_labels[0]\n",
        "temp, mask = explanation.get_image_and_mask(N, positive_only=True, num_features=5, hide_rest=False)\n",
        "fig, (ax1, ax2) = plt.subplots(1,2, figsize = (8, 4))\n",
        "ax1.imshow(label2rgb(mask,temp, bg_label = 0), interpolation = 'nearest')\n",
        "ax1.set_title('Positive Regions for {}'.format(N))\n",
        "temp, mask = explanation.get_image_and_mask(N, positive_only=False, num_features=10, hide_rest=False)\n",
        "ax2.imshow(label2rgb(3-mask,temp, bg_label = 0), interpolation = 'nearest')\n",
        "ax2.set_title('Positive/Negative Regions for {}'.format(N))"
      ],
      "metadata": {
        "id": "mMYBisbTzhkS"
      },
      "execution_count": null,
      "outputs": []
    },
    {
      "cell_type": "code",
      "execution_count": null,
      "metadata": {
        "id": "FQcRbXentNtl"
      },
      "outputs": [],
      "source": [
        "# now show them for each class\n",
        "fig, m_axs = plt.subplots(2,6, figsize = (12,4))\n",
        "for i, (c_ax, gt_ax) in zip(explanation.top_labels, m_axs.T):\n",
        "    temp, mask = explanation.get_image_and_mask(i, positive_only=True, num_features=5, hide_rest=False, min_weight=0.01)\n",
        "    c_ax.imshow(label2rgb(mask,temp, bg_label = 0), interpolation = 'nearest')\n",
        "    c_ax.set_title('Positive for {}\\nScore:{:2.2f}%'.format(i, 100*pipe_pred_prop[0, i]))\n",
        "    c_ax.axis('off')\n",
        "    face_id = np.random.choice(np.where(y_train==i)[0])\n",
        "    gt_ax.imshow(X_train[face_id])\n",
        "    gt_ax.set_title('Example of {}'.format(i))\n",
        "    gt_ax.axis('off')"
      ]
    },
    {
      "cell_type": "markdown",
      "metadata": {
        "id": "xcplEQFytNtl"
      },
      "source": [
        "# 洞察の獲得\n",
        "<!-- # Gaining Insight-->\n",
        "\n",
        "アルゴリズムが間違えた分類の説明を見つけられるか\n",
        "<!-- Can we find an explanation for a classification the algorithm got wrong -->"
      ]
    },
    {
      "cell_type": "code",
      "execution_count": null,
      "metadata": {
        "colab": {
          "base_uri": "https://localhost:8080/"
        },
        "id": "FxJXmj5NtNtl",
        "outputId": "936668c2-4514-49c0-abc7-3f2e6d0f7544"
      },
      "outputs": [
        {
          "output_type": "stream",
          "name": "stdout",
          "text": [
            "41 番目のデータを使用してみる。正解ラベルが 3 だったけれど，予測ラベルが 12 であったので\n"
          ]
        }
      ],
      "source": [
        "wrong_idx = np.random.choice(np.where(pipe_pred_test!=y_test)[0])\n",
        "\n",
        "#print('Using #{} where the label was {} and the pipeline predicted {}'.format(wrong_idx, y_test[wrong_idx], pipe_pred_test[wrong_idx]))\n",
        "print('{} 番目のデータを使用してみる。正解ラベルが {} だったけれど，予測ラベルが {} であったので'.format(wrong_idx, y_test[wrong_idx], pipe_pred_test[wrong_idx]))"
      ]
    },
    {
      "cell_type": "code",
      "execution_count": null,
      "metadata": {
        "colab": {
          "base_uri": "https://localhost:8080/",
          "height": 451,
          "referenced_widgets": [
            "6ceaf6997b734cdda6ee4479992ee947",
            "9040d0420ba4494ab3f7306556a1a99f",
            "2dd9e169193b4d66b757793dbadec86d",
            "1717cfc977b3423987f2d3c41a411d60",
            "4a13936c11794169ac6033f5ce862aac",
            "baf9176182fe4c83a3f5bb4f897eaa39",
            "4d9aafbb480c465997a036e17bf3cc30",
            "0d909efb9aa244568ba03c707aaf17a1",
            "75ef1fda48a246d2a9c74400d16bf317",
            "7d03e9a8f45d4789a1e52be5eeeccc80",
            "df220620380b47b3aefd1fe51a595814"
          ]
        },
        "id": "IsL2VL7dtNtl",
        "outputId": "c662a307-be22-4a77-ba20-0c7d8e8f7867"
      },
      "outputs": [
        {
          "output_type": "stream",
          "name": "stderr",
          "text": [
            "/usr/local/lib/python3.7/dist-packages/lime/wrappers/scikit_image.py:117: FutureWarning: skimage.measure.label's indexing starts from 0. In future version it will start from 1. To disable this warning, explicitely set the `start_label` parameter to 1.\n",
            "  return self.target_fn(args[0], **self.target_params)\n"
          ]
        },
        {
          "output_type": "display_data",
          "data": {
            "application/vnd.jupyter.widget-view+json": {
              "model_id": "6ceaf6997b734cdda6ee4479992ee947",
              "version_minor": 0,
              "version_major": 2
            },
            "text/plain": [
              "  0%|          | 0/10000 [00:00<?, ?it/s]"
            ]
          },
          "metadata": {}
        },
        {
          "output_type": "stream",
          "name": "stdout",
          "text": [
            "Intercept -0.010579914804595138\n",
            "Prediction_local [0.02389628]\n",
            "Right: 0.01378783399462539\n",
            "Intercept -0.016798572309566245\n",
            "Prediction_local [0.37034592]\n",
            "Right: 0.016785849443355844\n",
            "Intercept 0.0017896845904993247\n",
            "Prediction_local [0.00367947]\n",
            "Right: 0.08181574337097498\n",
            "Intercept -0.005636884816377536\n",
            "Prediction_local [0.01075137]\n",
            "Right: 0.08893167825888507\n",
            "Intercept 0.005489360512966603\n",
            "Prediction_local [0.00164778]\n",
            "Right: 0.09818637098283214\n",
            "Intercept -0.005125698434939239\n",
            "Prediction_local [0.01098969]\n",
            "Right: 0.3928685960627638\n",
            "CPU times: user 15.2 s, sys: 12.1 s, total: 27.3 s\n",
            "Wall time: 15.2 s\n"
          ]
        }
      ],
      "source": [
        "%%time\n",
        "explanation = explainer.explain_instance(X_test[wrong_idx], \n",
        "                                         classifier_fn = simple_rf_pipeline.predict_proba, \n",
        "                                         top_labels=6, hide_color=0, num_samples=10000, segmentation_fn=segmenter)"
      ]
    },
    {
      "cell_type": "code",
      "execution_count": null,
      "metadata": {
        "id": "1Gb4nQ1_tNtm"
      },
      "outputs": [],
      "source": [
        "# now show them for each class\n",
        "fig, m_axs = plt.subplots(2,6, figsize = (24,8))\n",
        "for i, (c_ax, gt_ax) in zip(explanation.top_labels, m_axs.T):\n",
        "    temp, mask = explanation.get_image_and_mask(i, positive_only=True, num_features=5, hide_rest=False, min_weight=0.01)\n",
        "    c_ax.imshow(label2rgb(mask,temp, bg_label = 0), interpolation = 'nearest')\n",
        "    c_ax.set_title('Positive for {}\\nScore:{:2.2f}%'.format(i, 100*pipe_pred_prop[wrong_idx, i]))\n",
        "    c_ax.axis('off')\n",
        "    face_id = np.random.choice(np.where(y_train==i)[0])\n",
        "    gt_ax.imshow(X_train[face_id])\n",
        "    gt_ax.set_title('Example of {}'.format(i))\n",
        "    gt_ax.axis('off')"
      ]
    },
    {
      "cell_type": "code",
      "execution_count": null,
      "metadata": {
        "collapsed": true,
        "id": "tfjikzcBtNtm"
      },
      "outputs": [],
      "source": [
        ""
      ]
    }
  ],
  "metadata": {
    "kernelspec": {
      "display_name": "tf-backup",
      "language": "python",
      "name": "tf-backup"
    },
    "language_info": {
      "codemirror_mode": {
        "name": "ipython",
        "version": 3
      },
      "file_extension": ".py",
      "mimetype": "text/x-python",
      "name": "python",
      "nbconvert_exporter": "python",
      "pygments_lexer": "ipython3",
      "version": "3.5.2"
    },
    "colab": {
      "name": "2021_1221Lime_face_and_GradBoost.ipynb",
      "provenance": [],
      "include_colab_link": true
    },
    "widgets": {
      "application/vnd.jupyter.widget-state+json": {
        "6ceaf6997b734cdda6ee4479992ee947": {
          "model_module": "@jupyter-widgets/controls",
          "model_name": "HBoxModel",
          "model_module_version": "1.5.0",
          "state": {
            "_view_name": "HBoxView",
            "_dom_classes": [],
            "_model_name": "HBoxModel",
            "_view_module": "@jupyter-widgets/controls",
            "_model_module_version": "1.5.0",
            "_view_count": null,
            "_view_module_version": "1.5.0",
            "box_style": "",
            "layout": "IPY_MODEL_9040d0420ba4494ab3f7306556a1a99f",
            "_model_module": "@jupyter-widgets/controls",
            "children": [
              "IPY_MODEL_2dd9e169193b4d66b757793dbadec86d",
              "IPY_MODEL_1717cfc977b3423987f2d3c41a411d60",
              "IPY_MODEL_4a13936c11794169ac6033f5ce862aac"
            ]
          }
        },
        "9040d0420ba4494ab3f7306556a1a99f": {
          "model_module": "@jupyter-widgets/base",
          "model_name": "LayoutModel",
          "model_module_version": "1.2.0",
          "state": {
            "_view_name": "LayoutView",
            "grid_template_rows": null,
            "right": null,
            "justify_content": null,
            "_view_module": "@jupyter-widgets/base",
            "overflow": null,
            "_model_module_version": "1.2.0",
            "_view_count": null,
            "flex_flow": null,
            "width": null,
            "min_width": null,
            "border": null,
            "align_items": null,
            "bottom": null,
            "_model_module": "@jupyter-widgets/base",
            "top": null,
            "grid_column": null,
            "overflow_y": null,
            "overflow_x": null,
            "grid_auto_flow": null,
            "grid_area": null,
            "grid_template_columns": null,
            "flex": null,
            "_model_name": "LayoutModel",
            "justify_items": null,
            "grid_row": null,
            "max_height": null,
            "align_content": null,
            "visibility": null,
            "align_self": null,
            "height": null,
            "min_height": null,
            "padding": null,
            "grid_auto_rows": null,
            "grid_gap": null,
            "max_width": null,
            "order": null,
            "_view_module_version": "1.2.0",
            "grid_template_areas": null,
            "object_position": null,
            "object_fit": null,
            "grid_auto_columns": null,
            "margin": null,
            "display": null,
            "left": null
          }
        },
        "2dd9e169193b4d66b757793dbadec86d": {
          "model_module": "@jupyter-widgets/controls",
          "model_name": "HTMLModel",
          "model_module_version": "1.5.0",
          "state": {
            "_view_name": "HTMLView",
            "style": "IPY_MODEL_baf9176182fe4c83a3f5bb4f897eaa39",
            "_dom_classes": [],
            "description": "",
            "_model_name": "HTMLModel",
            "placeholder": "​",
            "_view_module": "@jupyter-widgets/controls",
            "_model_module_version": "1.5.0",
            "value": "100%",
            "_view_count": null,
            "_view_module_version": "1.5.0",
            "description_tooltip": null,
            "_model_module": "@jupyter-widgets/controls",
            "layout": "IPY_MODEL_4d9aafbb480c465997a036e17bf3cc30"
          }
        },
        "1717cfc977b3423987f2d3c41a411d60": {
          "model_module": "@jupyter-widgets/controls",
          "model_name": "FloatProgressModel",
          "model_module_version": "1.5.0",
          "state": {
            "_view_name": "ProgressView",
            "style": "IPY_MODEL_0d909efb9aa244568ba03c707aaf17a1",
            "_dom_classes": [],
            "description": "",
            "_model_name": "FloatProgressModel",
            "bar_style": "success",
            "max": 10000,
            "_view_module": "@jupyter-widgets/controls",
            "_model_module_version": "1.5.0",
            "value": 10000,
            "_view_count": null,
            "_view_module_version": "1.5.0",
            "orientation": "horizontal",
            "min": 0,
            "description_tooltip": null,
            "_model_module": "@jupyter-widgets/controls",
            "layout": "IPY_MODEL_75ef1fda48a246d2a9c74400d16bf317"
          }
        },
        "4a13936c11794169ac6033f5ce862aac": {
          "model_module": "@jupyter-widgets/controls",
          "model_name": "HTMLModel",
          "model_module_version": "1.5.0",
          "state": {
            "_view_name": "HTMLView",
            "style": "IPY_MODEL_7d03e9a8f45d4789a1e52be5eeeccc80",
            "_dom_classes": [],
            "description": "",
            "_model_name": "HTMLModel",
            "placeholder": "​",
            "_view_module": "@jupyter-widgets/controls",
            "_model_module_version": "1.5.0",
            "value": " 10000/10000 [00:14&lt;00:00, 658.64it/s]",
            "_view_count": null,
            "_view_module_version": "1.5.0",
            "description_tooltip": null,
            "_model_module": "@jupyter-widgets/controls",
            "layout": "IPY_MODEL_df220620380b47b3aefd1fe51a595814"
          }
        },
        "baf9176182fe4c83a3f5bb4f897eaa39": {
          "model_module": "@jupyter-widgets/controls",
          "model_name": "DescriptionStyleModel",
          "model_module_version": "1.5.0",
          "state": {
            "_view_name": "StyleView",
            "_model_name": "DescriptionStyleModel",
            "description_width": "",
            "_view_module": "@jupyter-widgets/base",
            "_model_module_version": "1.5.0",
            "_view_count": null,
            "_view_module_version": "1.2.0",
            "_model_module": "@jupyter-widgets/controls"
          }
        },
        "4d9aafbb480c465997a036e17bf3cc30": {
          "model_module": "@jupyter-widgets/base",
          "model_name": "LayoutModel",
          "model_module_version": "1.2.0",
          "state": {
            "_view_name": "LayoutView",
            "grid_template_rows": null,
            "right": null,
            "justify_content": null,
            "_view_module": "@jupyter-widgets/base",
            "overflow": null,
            "_model_module_version": "1.2.0",
            "_view_count": null,
            "flex_flow": null,
            "width": null,
            "min_width": null,
            "border": null,
            "align_items": null,
            "bottom": null,
            "_model_module": "@jupyter-widgets/base",
            "top": null,
            "grid_column": null,
            "overflow_y": null,
            "overflow_x": null,
            "grid_auto_flow": null,
            "grid_area": null,
            "grid_template_columns": null,
            "flex": null,
            "_model_name": "LayoutModel",
            "justify_items": null,
            "grid_row": null,
            "max_height": null,
            "align_content": null,
            "visibility": null,
            "align_self": null,
            "height": null,
            "min_height": null,
            "padding": null,
            "grid_auto_rows": null,
            "grid_gap": null,
            "max_width": null,
            "order": null,
            "_view_module_version": "1.2.0",
            "grid_template_areas": null,
            "object_position": null,
            "object_fit": null,
            "grid_auto_columns": null,
            "margin": null,
            "display": null,
            "left": null
          }
        },
        "0d909efb9aa244568ba03c707aaf17a1": {
          "model_module": "@jupyter-widgets/controls",
          "model_name": "ProgressStyleModel",
          "model_module_version": "1.5.0",
          "state": {
            "_view_name": "StyleView",
            "_model_name": "ProgressStyleModel",
            "description_width": "",
            "_view_module": "@jupyter-widgets/base",
            "_model_module_version": "1.5.0",
            "_view_count": null,
            "_view_module_version": "1.2.0",
            "bar_color": null,
            "_model_module": "@jupyter-widgets/controls"
          }
        },
        "75ef1fda48a246d2a9c74400d16bf317": {
          "model_module": "@jupyter-widgets/base",
          "model_name": "LayoutModel",
          "model_module_version": "1.2.0",
          "state": {
            "_view_name": "LayoutView",
            "grid_template_rows": null,
            "right": null,
            "justify_content": null,
            "_view_module": "@jupyter-widgets/base",
            "overflow": null,
            "_model_module_version": "1.2.0",
            "_view_count": null,
            "flex_flow": null,
            "width": null,
            "min_width": null,
            "border": null,
            "align_items": null,
            "bottom": null,
            "_model_module": "@jupyter-widgets/base",
            "top": null,
            "grid_column": null,
            "overflow_y": null,
            "overflow_x": null,
            "grid_auto_flow": null,
            "grid_area": null,
            "grid_template_columns": null,
            "flex": null,
            "_model_name": "LayoutModel",
            "justify_items": null,
            "grid_row": null,
            "max_height": null,
            "align_content": null,
            "visibility": null,
            "align_self": null,
            "height": null,
            "min_height": null,
            "padding": null,
            "grid_auto_rows": null,
            "grid_gap": null,
            "max_width": null,
            "order": null,
            "_view_module_version": "1.2.0",
            "grid_template_areas": null,
            "object_position": null,
            "object_fit": null,
            "grid_auto_columns": null,
            "margin": null,
            "display": null,
            "left": null
          }
        },
        "7d03e9a8f45d4789a1e52be5eeeccc80": {
          "model_module": "@jupyter-widgets/controls",
          "model_name": "DescriptionStyleModel",
          "model_module_version": "1.5.0",
          "state": {
            "_view_name": "StyleView",
            "_model_name": "DescriptionStyleModel",
            "description_width": "",
            "_view_module": "@jupyter-widgets/base",
            "_model_module_version": "1.5.0",
            "_view_count": null,
            "_view_module_version": "1.2.0",
            "_model_module": "@jupyter-widgets/controls"
          }
        },
        "df220620380b47b3aefd1fe51a595814": {
          "model_module": "@jupyter-widgets/base",
          "model_name": "LayoutModel",
          "model_module_version": "1.2.0",
          "state": {
            "_view_name": "LayoutView",
            "grid_template_rows": null,
            "right": null,
            "justify_content": null,
            "_view_module": "@jupyter-widgets/base",
            "overflow": null,
            "_model_module_version": "1.2.0",
            "_view_count": null,
            "flex_flow": null,
            "width": null,
            "min_width": null,
            "border": null,
            "align_items": null,
            "bottom": null,
            "_model_module": "@jupyter-widgets/base",
            "top": null,
            "grid_column": null,
            "overflow_y": null,
            "overflow_x": null,
            "grid_auto_flow": null,
            "grid_area": null,
            "grid_template_columns": null,
            "flex": null,
            "_model_name": "LayoutModel",
            "justify_items": null,
            "grid_row": null,
            "max_height": null,
            "align_content": null,
            "visibility": null,
            "align_self": null,
            "height": null,
            "min_height": null,
            "padding": null,
            "grid_auto_rows": null,
            "grid_gap": null,
            "max_width": null,
            "order": null,
            "_view_module_version": "1.2.0",
            "grid_template_areas": null,
            "object_position": null,
            "object_fit": null,
            "grid_auto_columns": null,
            "margin": null,
            "display": null,
            "left": null
          }
        }
      }
    }
  },
  "nbformat": 4,
  "nbformat_minor": 0
}