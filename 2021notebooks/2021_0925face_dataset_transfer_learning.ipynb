{
  "nbformat": 4,
  "nbformat_minor": 0,
  "metadata": {
    "colab": {
      "name": "2021_0925face_dataset_transfer_learning.ipynb",
      "private_outputs": true,
      "provenance": [],
      "collapsed_sections": [],
      "authorship_tag": "ABX9TyN5LPyaNtRmkL/h/yO7hpsS",
      "include_colab_link": true
    },
    "kernelspec": {
      "name": "python3",
      "display_name": "Python 3"
    },
    "language_info": {
      "name": "python"
    },
    "accelerator": "GPU"
  },
  "cells": [
    {
      "cell_type": "markdown",
      "metadata": {
        "id": "view-in-github",
        "colab_type": "text"
      },
      "source": [
        "<a href=\"https://colab.research.google.com/github/komazawa-deep-learning/komazawa-deep-learning.github.io/blob/master/2021notebooks/2021_0925face_dataset_transfer_learning.ipynb\" target=\"_parent\"><img src=\"https://colab.research.google.com/assets/colab-badge.svg\" alt=\"Open In Colab\"/></a>"
      ]
    },
    {
      "cell_type": "code",
      "metadata": {
        "id": "e17NdrfUqK-p"
      },
      "source": [
        "# -*- coding: utf8 -*-"
      ],
      "execution_count": null,
      "outputs": []
    },
    {
      "cell_type": "markdown",
      "metadata": {
        "id": "CLDLzOJyptSV"
      },
      "source": [
        "---\n",
        "* License: BSD\n",
        "* Author: Sasank Chilamkurthy\n",
        "* 顔，非顔判別データセットを用いた顔認識モデルのデモ\n",
        "---\n",
        "\n",
        "- source: file:///Users/asakawa/study/2020pytorch_tutorials.git/beginner_source/transfer_learning_tutorial.py\n",
        "- data: 2021_0924\n",
        "- author: 浅川伸一\n",
        "- memo: 駒澤で来週相貌の話をするかも知れない。\n",
        "竹市先生が，今週 2021_0924 紡錘状回の話をしたから.\n",
        "\n",
        "\n",
        "<!-- # Transfer Learning for Computer Vision Tutorial \n",
        "* Author: [Sasank Chilamkurthy](https://chsasank.github.io)\n",
        "-->\n",
        "\n",
        "このチュートリアルでは、転移学習を使って画像分類用の畳み込みニューラルネットワークを学習する方法を学びます。\n",
        "転移学習については [cs231n notes](https://cs231n.github.io/transfer-learning/)で詳しく紹介されている。\n",
        "<!-- In this tutorial, you will learn how to train a convolutional neural network for image classification using transfer learning. You can read more about the transfer learning at [cs231n notes](https://cs231n.github.io/transfer-learning/) -->\n",
        "\n",
        "Quoting these notes,\n",
        "\n",
        "> 実際には， 十分なサイズのデータセットを持つことは比較的まれであるため， 最初から (ランダムな初期化を行って) 畳み込みニューラルネットワーク全体を学習する人はほとんどいない。その代わり， 非常に大規模なデータセット (例えば 120 万枚の画像と 1000 カテゴリの ImageNet) で ConvNet を事前学習し， その ConvNet を初期化または目的の課題のための固定の特徴抽出器として使用するのが一般的である。\n",
        "<!-- In practice, very few people train an entire Convolutional Network from scratch (with random initialization), because it is relatively     rare to have a dataset of sufficient size. \n",
        "    Instead, it is common to pretrain a ConvNet on a very large dataset (e.g. ImageNet, which contains 1.2 million images with 1000 categories), and then use the ConvNet either as an initialization or a fixed feature extractor for the task of interest.   -->\n",
        "\n",
        "この 2 つの主要な転移学習シナリオは以下のようになる:\n",
        "\n",
        "- **畳み込みニューラルネットワークの初期化**  詳細学習畳み込みニューラルネットワーク**：ランダムな初期化の代わりに imagenet  1000 データセットで学習されたような， 事前学習されたネットワークでネットワークを初期化する。\n",
        "その後の学習は通常通りである。\n",
        "- **固定特徴抽出器としての畳み込みニューラルネットワーク**。ここでは， 最後の完全連結層を除いて，すべてのネットワークの重みを固定する。\n",
        "この最終完全連結層は， ランダムな重みを持つ新しい層に置き換えられ，この層だけが学習される。\n",
        "\n",
        "<!-- These two major transfer learning scenarios look as follows:\n",
        "\n",
        "- **Finetuning the convnet**: Instead of random initialization, we initialize the network with a pretrained network, like the one that is    trained on imagenet 1000 dataset. \n",
        "Rest of the training looks as usual.\n",
        "- **ConvNet as fixed feature extractor**: Here, we will freeze the weights for all of the network except that of the final fully connected    layer. \n",
        "This last fully connected layer is replaced with a new one with random weights and only this layer is trained.\n",
        " -->\n"
      ]
    },
    {
      "cell_type": "code",
      "metadata": {
        "id": "7Lqyz2ezqu0M"
      },
      "source": [
        "!wget https://komazawa-deep-learning.github.io/2021komazawa_faces.tgz -O 2021komazawa_faces.tgz\n",
        "!tar xzf 2021komazawa_faces.tgz"
      ],
      "execution_count": null,
      "outputs": []
    },
    {
      "cell_type": "code",
      "metadata": {
        "id": "648YtQOXqsot"
      },
      "source": [
        "import torch\n",
        "import torch.nn as nn\n",
        "import torch.optim as optim\n",
        "from torch.optim import lr_scheduler\n",
        "import numpy as np\n",
        "import torchvision\n",
        "from torchvision import datasets, models, transforms\n",
        "import matplotlib.pyplot as plt\n",
        "import time\n",
        "import os\n",
        "import copy\n",
        "\n",
        "plt.ion()   # interactive mode"
      ],
      "execution_count": null,
      "outputs": []
    },
    {
      "cell_type": "code",
      "metadata": {
        "id": "lCtopGsPqV3O"
      },
      "source": [
        "# 訓練データに対しては，データ拡張と正規化を行い\n",
        "# 検証データに対しては，正規化を行う\n",
        "data_transforms = {\n",
        "    'train': transforms.Compose([\n",
        "        #transforms.RandomResizedCrop(224),  # \n",
        "        transforms.RandomHorizontalFlip(),  # ランダムに左右反転\n",
        "        transforms.ToTensor(),\n",
        "        transforms.Normalize([0.485, 0.456, 0.406], [0.229, 0.224, 0.225])\n",
        "    ]),\n",
        "    'val': transforms.Compose([\n",
        "        transforms.Resize(256),\n",
        "        transforms.CenterCrop(224),\n",
        "        transforms.ToTensor(),\n",
        "        transforms.Normalize([0.485, 0.456, 0.406], [0.229, 0.224, 0.225])\n",
        "    ]),\n",
        "}\n",
        "\n",
        "#data_dir = 'data/hymenoptera_data'\n",
        "#data_dir = 'trainingdata'\n",
        "data_dir = 'data'\n",
        "image_datasets = {x: datasets.ImageFolder(os.path.join(data_dir, x),\n",
        "                                          data_transforms[x])\n",
        "                  for x in ['train', 'val']}\n",
        "dataloaders = {x: torch.utils.data.DataLoader(image_datasets[x], batch_size=4,\n",
        "                                             shuffle=True, num_workers=4)\n",
        "              for x in ['train', 'val']}\n",
        "dataset_sizes = {x: len(image_datasets[x]) for x in ['train', 'val']}\n",
        "class_names = image_datasets['train'].classes\n",
        "\n",
        "device = torch.device(\"cuda:0\" if torch.cuda.is_available() else \"cpu\")"
      ],
      "execution_count": null,
      "outputs": []
    },
    {
      "cell_type": "code",
      "metadata": {
        "id": "OPixW8wLwD9w"
      },
      "source": [
        "print(f'class_names:{class_names}')\n",
        "print(f'dataset_sizes:{dataset_sizes}')"
      ],
      "execution_count": null,
      "outputs": []
    },
    {
      "cell_type": "markdown",
      "metadata": {
        "id": "PEOcR49MzAlV"
      },
      "source": [
        "# 1. データの可視化"
      ]
    },
    {
      "cell_type": "code",
      "metadata": {
        "id": "eiWcAnqUzDaa"
      },
      "source": [
        "def imshow(inp, title=None):\n",
        "    \"\"\"Imshow for Tensor.\"\"\"\n",
        "    inp = inp.numpy().transpose((1, 2, 0))\n",
        "    mean = np.array([0.485, 0.456, 0.406])\n",
        "    std = np.array([0.229, 0.224, 0.225])\n",
        "    inp = std * inp + mean\n",
        "    inp = np.clip(inp, 0, 1)\n",
        "    plt.figure(figsize=(10,10))\n",
        "    plt.imshow(inp)\n",
        "    if title is not None:\n",
        "        plt.title(title)\n",
        "    plt.pause(0.001)  # pause a bit so that plots are updated\n",
        "\n",
        "\n",
        "# Get a batch of training data\n",
        "inputs, classes = next(iter(dataloaders['train']))\n",
        "\n",
        "# Make a grid from batch\n",
        "out = torchvision.utils.make_grid(inputs)\n",
        "\n",
        "imshow(out, title=[class_names[x] for x in classes])\n",
        "print(classes)"
      ],
      "execution_count": null,
      "outputs": []
    },
    {
      "cell_type": "markdown",
      "metadata": {
        "id": "3cYdCpAFzNWN"
      },
      "source": [
        "# 2. # モデルの訓練\n",
        "\n",
        "モデルを訓練するための一般的な関数を書いてみましょう。\n",
        "\n",
        "- 学習率のスケジューリング\n",
        "- ベストモデルの保存\n",
        "\n",
        "以下では パラメータ ``scheduler`` に ``torch.optim.lr_scheduler`` の LR スケジューラオブジェクトを指定しています。\n",
        "<!-- Now, let's write a general function to train a model. \n",
        "Here, we will illustrate:\n",
        "\n",
        "-  Scheduling the learning rate\n",
        "-  Saving the best model\n",
        "\n",
        "In the following, parameter ``scheduler`` is an LR scheduler object from ``torch.optim.lr_scheduler``. -->"
      ]
    },
    {
      "cell_type": "code",
      "metadata": {
        "id": "ew8JNOnUzE-_"
      },
      "source": [
        "def train_model(model, criterion, optimizer, scheduler, num_epochs=25):\n",
        "    since = time.time()\n",
        "\n",
        "    best_model_wts = copy.deepcopy(model.state_dict())\n",
        "    best_acc = 0.0\n",
        "\n",
        "    for epoch in range(num_epochs):\n",
        "        print(f'Epoch {epoch}/{num_epochs - 1}')\n",
        "\n",
        "        # Each epoch has a training and validation phase\n",
        "        for phase in ['train', 'val']:\n",
        "            if phase == 'train':\n",
        "                model.train()  # Set model to training mode\n",
        "            else:\n",
        "                model.eval()   # Set model to evaluate mode\n",
        "\n",
        "            running_loss = 0.0\n",
        "            running_corrects = 0\n",
        "\n",
        "            # Iterate over data.\n",
        "            for inputs, labels in dataloaders[phase]:\n",
        "                inputs = inputs.to(device)\n",
        "                labels = labels.to(device)\n",
        "\n",
        "                # zero the parameter gradients\n",
        "                optimizer.zero_grad()\n",
        "\n",
        "                # forward\n",
        "                # track history if only in train\n",
        "                with torch.set_grad_enabled(phase == 'train'):\n",
        "                    outputs = model(inputs)\n",
        "                    _, preds = torch.max(outputs, 1)\n",
        "                    loss = criterion(outputs, labels)\n",
        "\n",
        "                    # backward + optimize only if in training phase\n",
        "                    if phase == 'train':\n",
        "                        loss.backward()\n",
        "                        optimizer.step()\n",
        "\n",
        "                # statistics\n",
        "                running_loss += loss.item() * inputs.size(0)\n",
        "                running_corrects += torch.sum(preds == labels.data)\n",
        "            if phase == 'train':\n",
        "                scheduler.step()\n",
        "\n",
        "            epoch_loss = running_loss / dataset_sizes[phase]\n",
        "            epoch_acc = running_corrects.double() / dataset_sizes[phase]\n",
        "\n",
        "            print(f'{phase} 損失: {epoch_loss:.4f} 精度: {epoch_acc:.4f}')\n",
        "\n",
        "            # deep copy the model\n",
        "            if phase == 'val' and epoch_acc > best_acc:\n",
        "                best_acc = epoch_acc\n",
        "                best_model_wts = copy.deepcopy(model.state_dict())\n",
        "\n",
        "        #print()\n",
        "\n",
        "    time_elapsed = time.time() - since\n",
        "    print('Training complete in {:.0f}m {:.0f}s'.format(\n",
        "        time_elapsed // 60, time_elapsed % 60))\n",
        "    print('Best val Acc: {:4f}'.format(best_acc))\n",
        "\n",
        "    # load best model weights\n",
        "    model.load_state_dict(best_model_wts)\n",
        "    return model"
      ],
      "execution_count": null,
      "outputs": []
    },
    {
      "cell_type": "markdown",
      "metadata": {
        "id": "teydeagWzW_p"
      },
      "source": [
        "# 2. モデル予測の視覚化\n",
        "\n",
        "<!-- # Visualizing the model predictions --->\n",
        "<!--\n",
        "# Generic function to display predictions for a few images\n",
        "-->"
      ]
    },
    {
      "cell_type": "code",
      "metadata": {
        "id": "2GKeihL9zUBI"
      },
      "source": [
        "def visualize_model(model, num_images=6):\n",
        "    was_training = model.training\n",
        "    model.eval()\n",
        "    images_so_far = 0\n",
        "    fig = plt.figure()\n",
        "\n",
        "    with torch.no_grad():\n",
        "        for i, (inputs, labels) in enumerate(dataloaders['val']):\n",
        "            inputs = inputs.to(device)\n",
        "            labels = labels.to(device)\n",
        "\n",
        "            outputs = model(inputs)\n",
        "            _, preds = torch.max(outputs, 1)\n",
        "\n",
        "            for j in range(inputs.size()[0]):\n",
        "                images_so_far += 1\n",
        "                ax = plt.subplot(num_images//2, 2, images_so_far)\n",
        "                ax.axis('off')\n",
        "                ax.set_title('predicted: {}'.format(class_names[preds[j]]))\n",
        "                imshow(inputs.cpu().data[j])\n",
        "\n",
        "                if images_so_far == num_images:\n",
        "                    model.train(mode=was_training)\n",
        "                    return\n",
        "        model.train(mode=was_training)"
      ],
      "execution_count": null,
      "outputs": []
    },
    {
      "cell_type": "markdown",
      "metadata": {
        "id": "7igwaTLAzd_k"
      },
      "source": [
        "# 3. 詳細チューニング\n",
        "\n",
        "<!-- # Finetuning the convnet\n",
        "# ----------------------\n",
        "#\n",
        "# Load a pretrained model and reset final fully connected layer.\n",
        "-->\n"
      ]
    },
    {
      "cell_type": "code",
      "metadata": {
        "id": "8KL3yDrhzaRU"
      },
      "source": [
        "model_ft = models.resnet18(pretrained=True)\n",
        "num_ftrs = model_ft.fc.in_features\n",
        "# 最終層のニューロン数を 2 に付け替えます。\n",
        "# Here the size of each output sample is set to 2.\n",
        "# Alternatively, it can be generalized to nn.Linear(num_ftrs, len(class_names)).\n",
        "model_ft.fc = nn.Linear(num_ftrs, 2)\n",
        "model_ft = model_ft.to(device)\n",
        "\n",
        "criterion = nn.CrossEntropyLoss()\n",
        "\n",
        "# Observe that all parameters are being optimized\n",
        "optimizer_ft = optim.SGD(model_ft.parameters(), lr=0.001, momentum=0.9)\n",
        "\n",
        "# Decay LR by a factor of 0.1 every 7 epochs\n",
        "exp_lr_scheduler = lr_scheduler.StepLR(optimizer_ft, step_size=1, gamma=0.1)"
      ],
      "execution_count": null,
      "outputs": []
    },
    {
      "cell_type": "code",
      "metadata": {
        "id": "6DUZkHiJzh0p"
      },
      "source": [
        "######################################################################\n",
        "# Train and evaluate\n",
        "# ^^^^^^^^^^^^^^^^^^\n",
        "#\n",
        "# It should take around 15-25 min on CPU. On GPU though, it takes less than a\n",
        "# minute.\n",
        "#\n",
        "\n",
        "model_ft = train_model(model_ft, criterion, optimizer_ft, exp_lr_scheduler,\n",
        "                       num_epochs=3)"
      ],
      "execution_count": null,
      "outputs": []
    },
    {
      "cell_type": "code",
      "metadata": {
        "id": "YWXHrq7uzmsz"
      },
      "source": [
        "visualize_model(model_ft)"
      ],
      "execution_count": null,
      "outputs": []
    },
    {
      "cell_type": "markdown",
      "metadata": {
        "id": "LrwBvgSpz4-q"
      },
      "source": [
        "# 5. 固定特徴検出器としての畳み込みニューラルネットワーク\n",
        "\n",
        "<!--\n",
        "# ConvNet as fixed feature extractor\n",
        "# ----------------------------------\n",
        "-->\n",
        "\n",
        "ここでは， 最終層を除くすべてのネットワークを凍結させる必要があります。\n",
        "また  ``requires_grad == False``  を設定してパラメータを固定し，  ``backward()``  で勾配が計算されないようにする必要があります。\n",
        "\n",
        "これについての詳細は，以下の文書をご覧ください:\n",
        "<https://pytorch.org/docs/notes/autograd.html#excluding-subgraphs-from-backward>\n",
        "<!-- Here, we need to freeze all the network except the final layer. \n",
        "We need to set ``requires_grad == False`` to freeze the parameters so that the gradients are not computed in ``backward()``.\n",
        "\n",
        "You can read more about this in the documentation \n",
        "`here <https://pytorch.org/docs/notes/autograd.html#excluding-subgraphs-from-backward>`. -->"
      ]
    },
    {
      "cell_type": "code",
      "metadata": {
        "id": "9iqyt_Otzss-"
      },
      "source": [
        "model_conv = torchvision.models.resnet18(pretrained=True)\n",
        "for param in model_conv.parameters():\n",
        "    param.requires_grad = False\n",
        "\n",
        "# Parameters of newly constructed modules have requires_grad=True by default\n",
        "num_ftrs = model_conv.fc.in_features\n",
        "model_conv.fc = nn.Linear(num_ftrs, 2)\n",
        "\n",
        "model_conv = model_conv.to(device)\n",
        "\n",
        "criterion = nn.CrossEntropyLoss()\n",
        "\n",
        "# Observe that only parameters of final layer are being optimized as\n",
        "# opposed to before.\n",
        "optimizer_conv = optim.SGD(model_conv.fc.parameters(), lr=0.001, momentum=0.9)\n",
        "\n",
        "# Decay LR by a factor of 0.1 every 7 epochs\n",
        "exp_lr_scheduler = lr_scheduler.StepLR(optimizer_conv, step_size=7, gamma=0.1)"
      ],
      "execution_count": null,
      "outputs": []
    },
    {
      "cell_type": "markdown",
      "metadata": {
        "id": "whgPGE8Pz92X"
      },
      "source": [
        "# 6. 訓練と評価\n",
        "<!-- # Train and evaluate -->\n",
        "\n",
        "CPU では 先ほどのシナリオと比べて約半分の時間で済みます。\n",
        "これは， ネットワークのほとんどの部分で勾配を計算する必要がないことから予想されます。\n",
        "しかし，前向き計算は実行する必要があります。\n",
        "<!-- On CPU this will take about half the time compared to previous scenario.\n",
        "This is expected as gradients don't need to be computed for most of the network. \n",
        "However, forward does need to be computed.\n",
        " -->"
      ]
    },
    {
      "cell_type": "code",
      "metadata": {
        "id": "szTRxZNUz_kE"
      },
      "source": [
        "model_conv = train_model(model_conv, \n",
        "                         criterion, \n",
        "                         optimizer_conv,\n",
        "                         exp_lr_scheduler, \n",
        "                         num_epochs=5)"
      ],
      "execution_count": null,
      "outputs": []
    },
    {
      "cell_type": "code",
      "metadata": {
        "id": "0N5R70P30B7q"
      },
      "source": [
        "visualize_model(model_conv)\n",
        "\n",
        "plt.ioff()\n",
        "plt.show()"
      ],
      "execution_count": null,
      "outputs": []
    },
    {
      "cell_type": "code",
      "metadata": {
        "id": "7Qd8y0YU0LRa"
      },
      "source": [
        ""
      ],
      "execution_count": null,
      "outputs": []
    }
  ]
}