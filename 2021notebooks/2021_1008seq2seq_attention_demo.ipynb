{
  "nbformat": 4,
  "nbformat_minor": 5,
  "metadata": {
    "kernelspec": {
      "display_name": "Python 3 (ipykernel)",
      "language": "python",
      "name": "python3"
    },
    "language_info": {
      "codemirror_mode": {
        "name": "ipython",
        "version": 3
      },
      "file_extension": ".py",
      "mimetype": "text/x-python",
      "name": "python",
      "nbconvert_exporter": "python",
      "pygments_lexer": "ipython3",
      "version": "3.8.11"
    },
    "colab": {
      "name": "2021_1008seq2seq_attention_demo.ipynb",
      "private_outputs": true,
      "provenance": [],
      "include_colab_link": true
    },
    "accelerator": "GPU"
  },
  "cells": [
    {
      "cell_type": "markdown",
      "metadata": {
        "id": "view-in-github",
        "colab_type": "text"
      },
      "source": [
        "<a href=\"https://colab.research.google.com/github/komazawa-deep-learning/komazawa-deep-learning.github.io/blob/master/2021notebooks/2021_1008seq2seq_attention_demo.ipynb\" target=\"_parent\"><img src=\"https://colab.research.google.com/assets/colab-badge.svg\" alt=\"Open In Colab\"/></a>"
      ]
    },
    {
      "cell_type": "code",
      "metadata": {
        "id": "c2ae3e1b-db5c-4548-9989-71714740d5fd"
      },
      "source": [
        "# -*- coding: utf-8 -*-\n",
        "# Google Colaboratory では GPU モードで実行してください"
      ],
      "id": "c2ae3e1b-db5c-4548-9989-71714740d5fd",
      "execution_count": null,
      "outputs": []
    },
    {
      "cell_type": "markdown",
      "metadata": {
        "id": "NQ0ecBzQIytZ"
      },
      "source": [
        "---\n",
        "title: NLP From Scratch: Translation with a sequence to sequence network and attention\n",
        "original: [Sean Robertson](https://github.com/spro/practical-pytorch)\n",
        "URL: https://pytorch.org/tutorials/intermediate/seq2seq_translation_tutorial.html\n",
        "\n",
        "---\n",
        "\n",
        "# Seq2seq モデル による翻訳デモ 注意付きリカレントニューラルネットワーク\n",
        "\n",
        "<center>\n",
        "<img src=\"https://komazawa-deep-learning.github.io/assets/2015Bahdanau_attention.jpg\" width=\"25%\">\n",
        "<img src=\"https://komazawa-deep-learning.github.io/assets/2015Loung_fig2.svg\" width=\"28%\">\n",
        "<img src=\"https://komazawa-deep-learning.github.io/assets/2015Loung_fig3.svg\" width=\"28%\"><br/>\n",
        "左: Bahdanau (2014) Fig.1, 中，右: Loung (2015) Fig. 2, Fig. 3\n",
        "<!--\n",
        "    右: Itti & Koch (1998) Fig. 1\n",
        "-->\n",
        "<!--\n",
        "<img src=\"https://komazawa-deep-learning.github.io/assets/1998IttiKoch_fig1.jpg\" width=\"44%\"><br/>\n",
        "-->\n",
        "</center>                                                                                \n",
        "<!-- https://github.com/komazawa-deep-learning/komazawa-deep-learning.github.io/blob/master/assets/2015Bahdanau_attention.jpg  -->\n",
        "\n",
        "\n",
        "Loung (2015) Fig. 2: 大域注意モデル - 各時間ステップ $t$ において， モデルは現在の標的状態 $h_t$ とすべてのソース状態 $h_s$ に基づいて， 可変長の配置重みベクトル $a_t$ を推論する。\n",
        "大域文脈ベクトル $c_t$ は， 加重平均として計算される。\n",
        "すべてのソースの状態に対する $a_t$ に基づく加重平均として計算される。\n",
        "\n",
        "Loung (2015) Fig. 3: 局所的注意モデル - このモデルはまず， 現在の標的単語の単一の整列した位置 $p_t$ を予測する。\n",
        "次に，ソースポジション $p_t$  を中心としたウィンドウを使用して， ウィンドウ内のソース隠れ状態の加重平均である文脈ベクトル $c_t$ を計算する。\n",
        "重み $a_t$ は， 現在の標的状態 $h_t$ と窓の中のソースの状態 $h_s$ から推測される。\n",
        "\n",
        "<center>\n",
        "<img src=\"https://komazawa-deep-learning.github.io/assets/2015Greff_LSTM_ja.svg\" width=\"25%\"><br/>\n",
        "</center>\n",
        "\n",
        "- [オリジナル Sean Robertson](https://github.com/spro/practical-pytorch)\n",
        "\n",
        "## 0.1 文献\n",
        "\n",
        "- [Cho et. al., (2014) Learning Phrase Representations using RNN Encoder-Decoder for Statistical Machine Translation](https://arxiv.org/abs/1406.1078)\n",
        "- [Sutskever et. al.,(2014) Sequence to Sequence Learning with Neural Networks](https://arxiv.org/abs/1409.3215)\n",
        "- [Bahdanau et. al., (2014) Neural Machine Translation by Jointly Learning to Align and Translate](https://arxiv.org/abs/1409.0473)\n",
        "- [Vinyals (2015) A Neural Conversational Model](https://arxiv.org/abs/1506.05869)\n",
        "- [Luong et. al (2015) Effective Approaches to Attention-based Neural Machine Translation](https://arxiv.org/bs/1508.04025)\n",
        "\n",
        "## 0.2 翻訳データセット\n",
        "\n",
        "- https://tatoeba.org/eng/downloads\n",
        "- 言語ペアを個々のテキストファイルに分割する作業を以下のサイトで実施してくれている方がいます https://www.manythings.org/anki/\n"
      ],
      "id": "NQ0ecBzQIytZ"
    },
    {
      "cell_type": "code",
      "metadata": {
        "id": "740f3679-174e-4b99-9ce9-b2d845f5dce5"
      },
      "source": [
        "# -*- coding: utf-8 -*-\n",
        "import torch\n",
        "import torch.nn as nn\n",
        "from torch import optim\n",
        "import torch.nn.functional as F\n",
        "import random\n",
        "\n",
        "device = torch.device(\"cuda\" if torch.cuda.is_available() else \"cpu\")"
      ],
      "id": "740f3679-174e-4b99-9ce9-b2d845f5dce5",
      "execution_count": null,
      "outputs": []
    },
    {
      "cell_type": "code",
      "metadata": {
        "id": "f3dccfb4-4894-41e9-bab4-cac4920437a5"
      },
      "source": [
        "import sys\n",
        "import requests\n",
        "url_base = 'https://komazawa-deep-learning.github.io/2021/'\n",
        "jpntxt = 'eng-jpn.txt'\n",
        "chntxt = 'eng-chn.txt'\n",
        "for _lang in [jpntxt,chntxt]:\n",
        "    r = requests.get(url_base+_lang, _lang)\n",
        "    with open('___'+_lang, 'wb') as f:\n",
        "        f.write(r.content)\n",
        "\n",
        "!mkdir data        \n",
        "!wget https://komazawa-deep-learning.github.io/2021/lang_dict.py -O data/lang_dict.py\n",
        "!wget https://komazawa-deep-learning.github.io/2021/eng-jpn_normalized.txt -O data/eng-jpn_normalized.txt\n",
        "!wget https://komazawa-deep-learning.github.io/2021/eng-chn_normalized.txt -O data/eng-chn_normalized.txt\n",
        "\n",
        "%load_ext autoreload\n",
        "%autoreload 2\n",
        "import data.lang_dict\n",
        "\n",
        "C2E_dict = data.lang_dict.C2E_dict\n",
        "E2C_dict = data.lang_dict.E2C_dict\n",
        "J2E_dict = data.lang_dict.J2E_dict\n",
        "E2J_dict = data.lang_dict.E2J_dict\n",
        "jpn = data.lang_dict.jpn\n",
        "chn = data.lang_dict.chn\n",
        "E2J_pairs = data.lang_dict.E2J_pairs\n",
        "E2C_pairs = data.lang_dict.E2C_pairs\n",
        "print(E2J_pairs[:5])\n",
        "\n",
        "MAX_LENGTH = data.lang_dict.MAX_LENGTH\n",
        "teacher_forcing_ratio = 0.5\n",
        "SOS_token = 1\n",
        "EOS_token = 0"
      ],
      "id": "f3dccfb4-4894-41e9-bab4-cac4920437a5",
      "execution_count": null,
      "outputs": []
    },
    {
      "cell_type": "code",
      "metadata": {
        "id": "6bacd37c-f881-4c47-b51c-a1693bff2d64"
      },
      "source": [
        "class EncoderRNN(nn.Module):\n",
        "    def __init__(self, n_inp, n_hid, dropout_p=0.1):\n",
        "        super(EncoderRNN, self).__init__()\n",
        "        self.n_hid = n_hid\n",
        "        self.embed = nn.Embedding(n_inp, n_hid)\n",
        "        #self.rnn = nn.LSTM(n_hid, n_hid)\n",
        "        self.rnn = nn.GRU(n_hid, n_hid)\n",
        "        self.dropout = nn.Dropout(dropout_p)\n",
        "\n",
        "    def forward(self, inp, hid):\n",
        "        embed = self.embed(inp).view(1, 1, -1)\n",
        "        out = self.dropout(embed)\n",
        "        #out, (C, hid) = self.rnn(out, hid)\n",
        "        out, hid = self.rnn(out, hid)\n",
        "        out = self.dropout(out)\n",
        "        return out, hid\n",
        "\n",
        "    def initHidden(self):\n",
        "        weight = next(self.parameters())\n",
        "        return weight.new_zeros(1, 1, self.n_hid)\n",
        "    "
      ],
      "id": "6bacd37c-f881-4c47-b51c-a1693bff2d64",
      "execution_count": null,
      "outputs": []
    },
    {
      "cell_type": "code",
      "metadata": {
        "id": "93f1ffb3-958f-4ec4-9de4-4203dfe63995"
      },
      "source": [
        "class AttnDecoderRNN(nn.Module):\n",
        "    def __init__(self, n_hid, output_size, dropout_p=0.1, max_length=MAX_LENGTH):\n",
        "        super(AttnDecoderRNN, self).__init__()\n",
        "        self.n_hid = n_hid\n",
        "        self.output_size = output_size\n",
        "        self.dropout_p = dropout_p\n",
        "        self.max_length = max_length\n",
        "\n",
        "        self.embedding = nn.Embedding(self.output_size, self.n_hid)\n",
        "        self.attn = nn.Linear(self.n_hid * 2, self.max_length)\n",
        "        self.attn_combine = nn.Linear(self.n_hid * 2, self.n_hid)\n",
        "        self.dropout = nn.Dropout(self.dropout_p)\n",
        "        self.gru = nn.GRU(self.n_hid, self.n_hid)\n",
        "        self.out = nn.Linear(self.n_hid, self.output_size)\n",
        "\n",
        "    def forward(self, input, hidden, encoder_outputs):\n",
        "        embedded = self.embedding(input).view(1, 1, -1)\n",
        "        embedded = self.dropout(embedded)\n",
        "\n",
        "        attn_weights = F.softmax(\n",
        "            self.attn(torch.cat((embedded[0], hidden[0]), 1)), dim=1)\n",
        "        attn_applied = torch.bmm(attn_weights.unsqueeze(0),\n",
        "                                 encoder_outputs.unsqueeze(0))\n",
        "\n",
        "        output = torch.cat((embedded[0], attn_applied[0]), 1)\n",
        "        output = self.attn_combine(output).unsqueeze(0)\n",
        "\n",
        "        output = F.relu(output)\n",
        "        output, hidden = self.gru(output, hidden)\n",
        "\n",
        "        output = F.log_softmax(self.out(output[0]), dim=1)\n",
        "        return output, hidden, attn_weights\n",
        "\n",
        "    def initHidden(self):\n",
        "        return torch.zeros(1, 1, self.n_hid, device=device)"
      ],
      "id": "93f1ffb3-958f-4ec4-9de4-4203dfe63995",
      "execution_count": null,
      "outputs": []
    },
    {
      "cell_type": "code",
      "metadata": {
        "id": "b30df7e7-5e2f-47b3-a2d9-2f6cec9efb0f"
      },
      "source": [
        "def indexesFromSentence(lang, sentence):\n",
        "    return [lang.wrd2idx[word] for word in sentence.split(' ')]\n",
        "\n",
        "\n",
        "def tensorFromSentence(lang, sentence):\n",
        "    indexes = indexesFromSentence(lang, sentence)\n",
        "    indexes.append(EOS_token)\n",
        "    return torch.tensor(indexes, dtype=torch.long, device=device).view(-1, 1)\n",
        "\n",
        "\n",
        "def tensorsFromPair(pair):\n",
        "    input_tensor = tensorFromSentence(E2J_dict, pair[0])\n",
        "    target_tensor = tensorFromSentence(J2E_dict, pair[1])\n",
        "    return (input_tensor, target_tensor)"
      ],
      "id": "b30df7e7-5e2f-47b3-a2d9-2f6cec9efb0f",
      "execution_count": null,
      "outputs": []
    },
    {
      "cell_type": "code",
      "metadata": {
        "id": "81b1c388-ba8b-4a92-ad76-bcce85a44315"
      },
      "source": [
        "teacher_forcing_ratio = 0.5\n",
        "\n",
        "\n",
        "def train(input_tensor, target_tensor, encoder, decoder, encoder_optimizer, decoder_optimizer, criterion, max_length=MAX_LENGTH):\n",
        "    encoder_hidden = encoder.initHidden()\n",
        "\n",
        "    encoder_optimizer.zero_grad()\n",
        "    decoder_optimizer.zero_grad()\n",
        "\n",
        "    input_length = input_tensor.size(0)\n",
        "    target_length = target_tensor.size(0)\n",
        "\n",
        "    encoder_outputs = torch.zeros(max_length, encoder.n_hid, device=device)\n",
        "\n",
        "    loss = 0\n",
        "\n",
        "    for ei in range(input_length):\n",
        "        encoder_output, encoder_hidden = encoder(\n",
        "            input_tensor[ei], encoder_hidden)\n",
        "        encoder_outputs[ei] = encoder_output[0, 0]\n",
        "\n",
        "    decoder_input = torch.tensor([[SOS_token]], device=device)\n",
        "\n",
        "    decoder_hidden = encoder_hidden\n",
        "\n",
        "    use_teacher_forcing = True if random.random() < teacher_forcing_ratio else False\n",
        "\n",
        "    if use_teacher_forcing:\n",
        "        # Teacher forcing: Feed the target as the next input\n",
        "        for di in range(target_length):\n",
        "            decoder_output, decoder_hidden, decoder_attention = decoder(\n",
        "                decoder_input, decoder_hidden, encoder_outputs)\n",
        "            loss += criterion(decoder_output, target_tensor[di])\n",
        "            decoder_input = target_tensor[di]  # Teacher forcing\n",
        "\n",
        "    else:\n",
        "        # Without teacher forcing: use its own predictions as the next input\n",
        "        for di in range(target_length):\n",
        "            decoder_output, decoder_hidden, decoder_attention = decoder(\n",
        "                decoder_input, decoder_hidden, encoder_outputs)\n",
        "            topv, topi = decoder_output.topk(1)\n",
        "            decoder_input = topi.squeeze().detach()  # detach from history as input\n",
        "\n",
        "            loss += criterion(decoder_output, target_tensor[di])\n",
        "            if decoder_input.item() == EOS_token:\n",
        "                break\n",
        "\n",
        "    loss.backward()\n",
        "\n",
        "    encoder_optimizer.step()\n",
        "    decoder_optimizer.step()\n",
        "\n",
        "    return loss.item() / target_length"
      ],
      "id": "81b1c388-ba8b-4a92-ad76-bcce85a44315",
      "execution_count": null,
      "outputs": []
    },
    {
      "cell_type": "code",
      "metadata": {
        "id": "176e4d4e-3812-4906-beb3-76d21ac44df7"
      },
      "source": [
        "import time\n",
        "import math\n",
        "\n",
        "def asMinutes(s):\n",
        "    m = math.floor(s / 60)\n",
        "    s -= m * 60\n",
        "    return '%dm %ds' % (m, s)\n",
        "\n",
        "\n",
        "def timeSince(since, percent):\n",
        "    now = time.time()\n",
        "    s = now - since\n",
        "    es = s / (percent)\n",
        "    rs = es - s\n",
        "    return '経過時間:%s (残り時間:%s)' % (asMinutes(s), asMinutes(rs))\n"
      ],
      "id": "176e4d4e-3812-4906-beb3-76d21ac44df7",
      "execution_count": null,
      "outputs": []
    },
    {
      "cell_type": "code",
      "metadata": {
        "id": "e534b3a8-bcf3-4e99-9bf8-9437dd8644c5"
      },
      "source": [
        "def trainIters(encoder, decoder, \n",
        "               SRC, DST,\n",
        "               pairs=E2J_pairs,\n",
        "               train_f=train,\n",
        "               n_iters=75000, \n",
        "               print_interval=1000, plot_interval=100, \n",
        "               lr=0.01):\n",
        "    \"\"\"\n",
        "    引数:\n",
        "    encoder: nn.Module.RNNmodel\n",
        "        符号化器。ソース言語\n",
        "    decoder: nn.Module.RNNmodel\n",
        "        復号化器。ターゲット言語\n",
        "    n_iters: int\n",
        "        反復回数\n",
        "    \"\"\"\n",
        "    start = time.time()\n",
        "\n",
        "    # 損失関数の値を初期化\n",
        "    plot_losses = []\n",
        "    print_loss_total = 0  # printする度にリセット\n",
        "    plot_loss_total = 0   # plot_everyごとにリセット\n",
        "\n",
        "    encoder_optimizer = optim.Adam(encoder.parameters(), lr=lr)\n",
        "    decoder_optimizer = optim.Adam(decoder.parameters(), lr=lr)\n",
        "    #encoder_optimizer = optim.SGD(encoder.parameters(), lr=lr)\n",
        "    #decoder_optimizer = optim.SGD(decoder.parameters(), lr=lr)\n",
        "    #training_pairs = [tensorsFromPair(random.choice(pairs), SRC, DST)\n",
        "    training_pairs = [tensorsFromPair(random.choice(pairs))\n",
        "                      for i in range(n_iters)]\n",
        "    criterion = nn.NLLLoss()\n",
        "\n",
        "    for iter in range(1, n_iters + 1):\n",
        "        training_pair = training_pairs[iter - 1]\n",
        "        input_tensor = training_pair[0]\n",
        "        target_tensor = training_pair[1]\n",
        "\n",
        "        loss = train(input_tensor, target_tensor, \n",
        "                     encoder, decoder, \n",
        "                     encoder_optimizer, decoder_optimizer, criterion)\n",
        "        print_loss_total += loss\n",
        "        plot_loss_total += loss\n",
        "\n",
        "        if iter % print_interval == 0:\n",
        "            print_loss_avg = print_loss_total / print_interval\n",
        "            print_loss_total = 0\n",
        "            print(f'平均損失: {print_loss_avg:.3f}',\n",
        "                  f'(反復回数: {iter:5d} {iter/n_iters * 100}%)',\n",
        "                  f'{timeSince(start, iter / n_iters)}'\n",
        "                 )\n",
        "\n",
        "        if iter % plot_interval == 0:\n",
        "            plot_loss_avg = plot_loss_total / plot_interval\n",
        "            plot_losses.append(plot_loss_avg)\n",
        "            plot_loss_total = 0\n",
        "\n",
        "    showPlot(plot_losses)"
      ],
      "id": "e534b3a8-bcf3-4e99-9bf8-9437dd8644c5",
      "execution_count": null,
      "outputs": []
    },
    {
      "cell_type": "code",
      "metadata": {
        "id": "ce18ecfc-e56a-4a87-9767-20fea5f943a6"
      },
      "source": [
        "import matplotlib.pyplot as plt\n",
        "# 目盛りの調整のため matplotlib.ticker を使用\n",
        "import matplotlib.ticker as ticker\n",
        "!pip install japanize_matplotlib\n",
        "import japanize_matplotlib\n",
        "import numpy as np\n",
        "\n",
        "def showPlot(points):\n",
        "    plt.figure()\n",
        "    fig, ax = plt.subplots()\n",
        "    loc = ticker.MultipleLocator(base=0.25) # 等間隔で tic を設定\n",
        "    ax.yaxis.set_major_locator(loc)\n",
        "    plt.plot(points)"
      ],
      "id": "ce18ecfc-e56a-4a87-9767-20fea5f943a6",
      "execution_count": null,
      "outputs": []
    },
    {
      "cell_type": "code",
      "metadata": {
        "id": "47f92855-b7ff-45ab-b441-e0bcbf5e60bb"
      },
      "source": [
        "def evaluate(encoder, decoder, sentence, max_length=MAX_LENGTH, \n",
        "             input_lang=E2J_dict, output_lang=J2E_dict):\n",
        "    with torch.no_grad():\n",
        "        input_tensor = tensorFromSentence(input_lang, sentence)\n",
        "        input_length = input_tensor.size()[0]\n",
        "        encoder_hidden = encoder.initHidden()\n",
        "\n",
        "        encoder_outputs = torch.zeros(max_length, encoder.n_hid, device=device)\n",
        "\n",
        "        for ei in range(input_length):\n",
        "            encoder_output, encoder_hidden = encoder(input_tensor[ei],\n",
        "                                                     encoder_hidden)\n",
        "            encoder_outputs[ei] += encoder_output[0, 0]\n",
        "\n",
        "        decoder_input = torch.tensor([[SOS_token]], device=device)  # SOS\n",
        "\n",
        "        decoder_hidden = encoder_hidden\n",
        "\n",
        "        decoded_words = []\n",
        "        decoder_attentions = torch.zeros(max_length, max_length)\n",
        "\n",
        "        for di in range(max_length):\n",
        "            decoder_output, decoder_hidden, decoder_attention = decoder(\n",
        "                decoder_input, decoder_hidden, encoder_outputs)\n",
        "            decoder_attentions[di] = decoder_attention.data\n",
        "            topv, topi = decoder_output.data.topk(1)\n",
        "            if topi.item() == EOS_token:\n",
        "                decoded_words.append('<EOS>')\n",
        "                break\n",
        "            else:\n",
        "                decoded_words.append(output_lang.idx2wrd[topi.item()])\n",
        "\n",
        "            decoder_input = topi.squeeze().detach()\n",
        "\n",
        "        return decoded_words, decoder_attentions[:di + 1]"
      ],
      "id": "47f92855-b7ff-45ab-b441-e0bcbf5e60bb",
      "execution_count": null,
      "outputs": []
    },
    {
      "cell_type": "code",
      "metadata": {
        "id": "99d47b89-32f3-4d17-813d-87a9b6cec673"
      },
      "source": [
        "def evaluateRandomly(encoder, decoder, pairs=E2J_pairs, n=10, \n",
        "                     input_lang=E2J_dict, output_lang=J2E_dict):\n",
        "    for i in range(n):\n",
        "        pair = random.choice(pairs)\n",
        "        print('>', pair[0])\n",
        "        print('=', pair[1])\n",
        "        output_words, attentions = evaluate(encoder, decoder, pair[0], input_lang=input_lang)\n",
        "        output_sentence = ' '.join(output_words)\n",
        "        print('<', output_sentence)\n",
        "        print('')"
      ],
      "id": "99d47b89-32f3-4d17-813d-87a9b6cec673",
      "execution_count": null,
      "outputs": []
    },
    {
      "cell_type": "code",
      "metadata": {
        "id": "934845f2-a6da-41f0-97d8-bbf57fc9c4b1"
      },
      "source": [
        "n_hid = 64\n",
        "\n",
        "encoder = EncoderRNN(E2J_dict.n_words, n_hid).to(device)\n",
        "attn_decoder = AttnDecoderRNN(n_hid, J2E_dict.n_words, dropout_p=0.1).to(device)\n",
        "\n",
        "#trainIters(encoder, attn_decoder, 15000, print_every=2500)\n",
        "_ = trainIters(encoder, attn_decoder, E2J_dict, J2E_dict, pairs=E2J_pairs, n_iters=1000, \n",
        "               print_interval=250)"
      ],
      "id": "934845f2-a6da-41f0-97d8-bbf57fc9c4b1",
      "execution_count": null,
      "outputs": []
    },
    {
      "cell_type": "code",
      "source": [
        "_ = trainIters(encoder, attn_decoder, E2J_dict, J2E_dict, pairs=E2J_pairs, n_iters=20000, print_interval=250)"
      ],
      "metadata": {
        "id": "ZJJIpiD00dOm"
      },
      "id": "ZJJIpiD00dOm",
      "execution_count": null,
      "outputs": []
    },
    {
      "cell_type": "code",
      "metadata": {
        "id": "6eae7cf8-d3ac-402d-9a40-4c800278e84c"
      },
      "source": [
        "evaluateRandomly(encoder, attn_decoder, input_lang=E2J_dict, output_lang=J2E_dict)"
      ],
      "id": "6eae7cf8-d3ac-402d-9a40-4c800278e84c",
      "execution_count": null,
      "outputs": []
    },
    {
      "cell_type": "code",
      "metadata": {
        "id": "04c2e678-c765-48ba-a684-f712768712a9"
      },
      "source": [
        "def showAttention(input_sentence, output_words, attentions):\n",
        "    # Set up figure with colorbar\n",
        "    fig = plt.figure()\n",
        "    ax = fig.add_subplot(111)\n",
        "    cax = ax.matshow(attentions.numpy(), cmap='bone')\n",
        "    fig.colorbar(cax)\n",
        "\n",
        "    # Set up axes\n",
        "    ax.set_xticklabels([''] + input_sentence.split(' ') +\n",
        "                       ['<EOS>'], rotation=90)\n",
        "    ax.set_yticklabels([''] + output_words)\n",
        "\n",
        "    # Show label at every tick\n",
        "    ax.xaxis.set_major_locator(ticker.MultipleLocator(1))\n",
        "    ax.yaxis.set_major_locator(ticker.MultipleLocator(1))\n",
        "    plt.show()\n",
        "\n",
        "\n",
        "def evaluateAndShowAttention(SRC, DST, input_sentence, \n",
        "                             encoder=encoder,\n",
        "                             decoder=attn_decoder):\n",
        "    output_words, attentions = evaluate(\n",
        "        encoder, decoder, input_sentence)\n",
        "    print('input =', input_sentence)\n",
        "    print('output =', ' '.join(output_words))\n",
        "    showAttention(input_sentence, output_words, attentions)\n",
        "\n",
        "\n",
        "evaluateAndShowAttention(E2J_dict, J2E_dict, \"are you serious ?\", \n",
        "                         encoder=encoder, decoder=attn_decoder)"
      ],
      "id": "04c2e678-c765-48ba-a684-f712768712a9",
      "execution_count": null,
      "outputs": []
    },
    {
      "cell_type": "code",
      "metadata": {
        "id": "df72f2a5-9005-490c-b5f7-7c42dc060e45"
      },
      "source": [
        ""
      ],
      "id": "df72f2a5-9005-490c-b5f7-7c42dc060e45",
      "execution_count": null,
      "outputs": []
    }
  ]
}