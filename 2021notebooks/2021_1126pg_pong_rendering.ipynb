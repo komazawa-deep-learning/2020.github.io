{
  "nbformat": 4,
  "nbformat_minor": 0,
  "metadata": {
    "colab": {
      "name": "2021_1126pg-pong_rendering.ipynb",
      "private_outputs": true,
      "provenance": [],
      "include_colab_link": true
    },
    "kernelspec": {
      "name": "python3",
      "display_name": "Python 3"
    },
    "accelerator": "GPU"
  },
  "cells": [
    {
      "cell_type": "markdown",
      "metadata": {
        "id": "view-in-github",
        "colab_type": "text"
      },
      "source": [
        "<a href=\"https://colab.research.google.com/github/komazawa-deep-learning/komazawa-deep-learning.github.io/blob/master/2021notebooks/2021_1126pg_pong_rendering.ipynb\" target=\"_parent\"><img src=\"https://colab.research.google.com/assets/colab-badge.svg\" alt=\"Open In Colab\"/></a>"
      ]
    },
    {
      "cell_type": "markdown",
      "metadata": {
        "id": "_hJRDBFyqpFn"
      },
      "source": [
        "# 2022年度駒澤大学心理学特講 IIIB\n",
        "- 浅川伸一\n",
        "- date: 2022_1118\n",
        "\n",
        "- [OpenAI の開発した強化学習環境 gym](http://gym.openai.com/)\n",
        "- [starai による Google Colab 上で Gym をレンダリングする環境 ](https://star-ai.github.io/Rendering-OpenAi-Gym-in-Colaboratory/) \n",
        "\n",
        "上記 2 つの環境整備により実習が可能となります。すぐれた環境を提供してくれたすべての関係者に感謝いたします。"
      ]
    },
    {
      "cell_type": "markdown",
      "metadata": {
        "id": "odNaDE1zyrL2"
      },
      "source": [
        "# Gym とレンダリング環境が依存するライブラリのインストール\n",
        "\n"
      ]
    },
    {
      "cell_type": "code",
      "metadata": {
        "id": "8-AxnvAVyzQQ"
      },
      "source": [
        "#何が起こっているかを知りたい場合には下のコマンド中不等号以下をremove \" > /dev/null 2>&1\" を削除してください\n",
        "!pip install gym pyvirtualdisplay > /dev/null 2>&1\n",
        "!apt-get install -y xvfb python-opengl ffmpeg > /dev/null 2>&1"
      ],
      "execution_count": null,
      "outputs": []
    },
    {
      "cell_type": "markdown",
      "metadata": {
        "id": "8A-1LTSH88EE"
      },
      "source": [
        "更に下準備"
      ]
    },
    {
      "cell_type": "code",
      "metadata": {
        "id": "TCelFzWY9MBI"
      },
      "source": [
        "!apt-get update > /dev/null 2>&1\n",
        "!apt-get install cmake > /dev/null 2>&1\n",
        "!pip install --upgrade setuptools 2>&1\n",
        "#!pip install ez_setup > /dev/null 2>&1"
      ],
      "execution_count": null,
      "outputs": []
    },
    {
      "cell_type": "code",
      "metadata": {
        "id": "_B0vfEksRrfR"
      },
      "source": [
        "import urllib.request\n",
        "urllib.request.urlretrieve('http://www.atarimania.com/roms/Roms.rar','Roms.rar')\n",
        "!pip install unrar\n",
        "!unrar x Roms.rar\n",
        "!mkdir rars\n",
        "!mv HC\\ ROMS.zip   rars\n",
        "!mv ROMS.zip  rars\n",
        "!python -m atari_py.import_roms rars"
      ],
      "execution_count": null,
      "outputs": []
    },
    {
      "cell_type": "markdown",
      "metadata": {
        "id": "APXSx7hg19TH"
      },
      "source": [
        "# 必要なヘルパ関数やライブラリをインポート\n"
      ]
    },
    {
      "cell_type": "code",
      "metadata": {
        "id": "pdb2JwZy4jGj"
      },
      "source": [
        "from six.moves import xrange\n",
        "import gym\n",
        "from gym import logger as gymlogger\n",
        "from gym.wrappers import Monitor\n",
        "gymlogger.set_level(40) #error only\n",
        "import tensorflow as tf\n",
        "import numpy as np\n",
        "import random\n",
        "import matplotlib\n",
        "import matplotlib.pyplot as plt\n",
        "%matplotlib inline\n",
        "import math\n",
        "import glob\n",
        "import io\n",
        "import base64\n",
        "from IPython.display import HTML\n",
        "\n",
        "from IPython import display as ipythondisplay"
      ],
      "execution_count": null,
      "outputs": []
    },
    {
      "cell_type": "code",
      "metadata": {
        "id": "nQEtc28G4niA"
      },
      "source": [
        "from pyvirtualdisplay import Display\n",
        "display = Display(visible=0, size=(1400, 900))\n",
        "display.start()"
      ],
      "execution_count": null,
      "outputs": []
    },
    {
      "cell_type": "code",
      "metadata": {
        "id": "G9UWeToN4r7D"
      },
      "source": [
        "\"\"\"\n",
        "Utility functions to enable video recording of gym environment and displaying it\n",
        "To enable video, just do \"env = wrap_env(env)\"\"\n",
        "\"\"\"\n",
        "\n",
        "def show_video():\n",
        "  mp4list = glob.glob('video/*.mp4')\n",
        "  if len(mp4list) > 0:\n",
        "    mp4 = mp4list[0]\n",
        "    video = io.open(mp4, 'r+b').read()\n",
        "    encoded = base64.b64encode(video)\n",
        "    ipythondisplay.display(HTML(data='''<video alt=\"test\" autoplay \n",
        "                loop controls style=\"height: 400px;\">\n",
        "                <source src=\"data:video/mp4;base64,{0}\" type=\"video/mp4\" />\n",
        "             </video>'''.format(encoded.decode('ascii'))))\n",
        "  else: \n",
        "    print(\"Could not find video\")\n",
        "    \n",
        "\n",
        "def wrap_env(env):\n",
        "  env = Monitor(env, './video', force=True)\n",
        "  return env"
      ],
      "execution_count": null,
      "outputs": []
    },
    {
      "cell_type": "markdown",
      "metadata": {
        "id": "W3BGbWOu179M"
      },
      "source": [
        "# いろいろ遊んでみよう！"
      ]
    },
    {
      "cell_type": "code",
      "metadata": {
        "id": "UFV4jr60wJZM"
      },
      "source": [
        "# hyperparameters\n",
        "H = 200 # number of hidden layer neurons\n",
        "batch_size = 10 # every how many episodes to do a param update?\n",
        "learning_rate = 1e-4\n",
        "gamma = 0.99 # discount factor for reward\n",
        "decay_rate = 0.99 # decay factor for RMSProp leaky sum of grad^2\n",
        "resume = False # resume from previous checkpoint?\n",
        "render = False\n"
      ],
      "execution_count": null,
      "outputs": []
    },
    {
      "cell_type": "code",
      "metadata": {
        "id": "0tpf3TPxwQNz"
      },
      "source": [
        "# model initialization\n",
        "D = 80 * 80 # input dimensionality: 80x80 grid\n",
        "if resume:\n",
        "    model = pickle.load(open('save.p', 'rb'))\n",
        "else:\n",
        "    model = {}\n",
        "    model['W1'] = np.random.randn(H,D) / np.sqrt(D) # \"Xavier\" initialization\n",
        "    model['W2'] = np.random.randn(H) / np.sqrt(H)\n",
        "  \n",
        "grad_buffer = { k : np.zeros_like(v) for k,v in model.items() } # update buffers that add up gradients over a batch\n",
        "rmsprop_cache = { k : np.zeros_like(v) for k,v in model.items() } # rmsprop memory\n",
        "\n",
        "def sigmoid(x): \n",
        "    return 1.0 / (1.0 + np.exp(-x)) # sigmoid \"squashing\" function to interval [0,1]\n",
        "\n",
        "def prepro(I):\n",
        "    \"\"\" prepro 210x160x3 uint8 frame into 6400 (80x80) 1D float vector \"\"\"\n",
        "    I = I[35:195] # crop\n",
        "    I = I[::2,::2,0] # downsample by factor of 2\n",
        "    I[I == 144] = 0 # erase background (background type 1)\n",
        "    I[I == 109] = 0 # erase background (background type 2)\n",
        "    I[I != 0] = 1 # everything else (paddles, ball) just set to 1\n",
        "    return I.astype(np.float).ravel()\n",
        "\n",
        "def discount_rewards(r):\n",
        "    \"\"\" take 1D float array of rewards and compute discounted reward \"\"\"\n",
        "    discounted_r = np.zeros_like(r)\n",
        "    running_add = 0\n",
        "    for t in reversed(xrange(0, r.size)):\n",
        "        if r[t] != 0: running_add = 0 # reset the sum, since this was a game boundary (pong specific!)\n",
        "        running_add = running_add * gamma + r[t]\n",
        "        discounted_r[t] = running_add\n",
        "    return discounted_r\n",
        "\n",
        "def policy_forward(x):\n",
        "    h = np.dot(model['W1'], x)\n",
        "    h[h<0] = 0 # ReLU nonlinearity\n",
        "    logp = np.dot(model['W2'], h)\n",
        "    p = sigmoid(logp)\n",
        "    return p, h # return probability of taking action 2, and hidden state\n",
        "\n",
        "def policy_backward(eph, epdlogp):\n",
        "    \"\"\" backward pass. (eph is array of intermediate hidden states) \"\"\"\n",
        "    dW2 = np.dot(eph.T, epdlogp).ravel()\n",
        "    dh = np.outer(epdlogp, model['W2'])\n",
        "    dh[eph <= 0] = 0 # backpro prelu\n",
        "    dW1 = np.dot(dh.T, epx)\n",
        "    return {'W1':dW1, 'W2':dW2}\n",
        "\n"
      ],
      "execution_count": null,
      "outputs": []
    },
    {
      "cell_type": "code",
      "metadata": {
        "id": "duc7aF3qw4VB"
      },
      "source": [
        "env = gym.make(\"Pong-v0\")\n",
        "observation = env.reset()\n",
        "prev_x = None # used in computing the difference frame\n",
        "xs,hs,dlogps,drs = [],[],[],[]\n",
        "running_reward = None\n",
        "reward_sum = 0\n",
        "episode_number = 0\n",
        "while True:\n",
        "    if render:\n",
        "        env.render()\n",
        "\n",
        "    # preprocess the observation, set input to network to be difference image\n",
        "    cur_x = prepro(observation)\n",
        "    x = cur_x - prev_x if prev_x is not None else np.zeros(D)\n",
        "    prev_x = cur_x\n",
        "\n",
        "    # forward the policy network and sample an action from the returned probability\n",
        "    aprob, h = policy_forward(x)\n",
        "    action = 2 if np.random.uniform() < aprob else 3 # roll the dice!\n",
        "\n",
        "    # record various intermediates (needed later for backprop)\n",
        "    xs.append(x) # observation\n",
        "    hs.append(h) # hidden state\n",
        "    y = 1 if action == 2 else 0 # a \"fake label\"\n",
        "    dlogps.append(y - aprob) # grad that encourages the action that was taken to be taken (see http://cs231n.github.io/neural-networks-2/#losses if confused)\n",
        "\n",
        "    # step the environment and get new measurements\n",
        "    observation, reward, done, info = env.step(action)\n",
        "    reward_sum += reward\n",
        "\n",
        "    drs.append(reward) # record reward (has to be done after we call step() to get reward for previous action)\n",
        "\n",
        "    if done: # an episode finished\n",
        "        episode_number += 1\n",
        "        break\n",
        "        #env.close()\n",
        "        #show_video()\n",
        "\n",
        "    # stack together all inputs, hidden states, action gradients, and rewards for this episode\n",
        "    epx = np.vstack(xs)\n",
        "    eph = np.vstack(hs)\n",
        "    epdlogp = np.vstack(dlogps)\n",
        "    epr = np.vstack(drs)\n",
        "    xs,hs,dlogps,drs = [],[],[],[] # reset array memory\n",
        "\n",
        "    # compute the discounted reward backwards through time\n",
        "    discounted_epr = discount_rewards(epr)\n",
        "    # standardize the rewards to be unit normal (helps control the gradient estimator variance)\n",
        "    discounted_epr -= np.mean(discounted_epr)\n",
        "    discounted_epr /= np.std(discounted_epr)\n",
        "\n",
        "    epdlogp *= discounted_epr # modulate the gradient with advantage (PG magic happens right here.)\n",
        "    grad = policy_backward(eph, epdlogp)\n",
        "    for k in model: \n",
        "        grad_buffer[k] += grad[k] # accumulate grad over batch\n",
        "\n",
        "    # perform rmsprop parameter update every batch_size episodes\n",
        "    if episode_number % batch_size == 0:\n",
        "        for k,v in model.items():\n",
        "            g = grad_buffer[k] # gradient\n",
        "            rmsprop_cache[k] = decay_rate * rmsprop_cache[k] + (1 - decay_rate) * g**2\n",
        "            model[k] += learning_rate * g / (np.sqrt(rmsprop_cache[k]) + 1e-5)\n",
        "            grad_buffer[k] = np.zeros_like(v) # reset batch gradient buffer\n",
        "\n",
        "    # boring book-keeping\n",
        "    running_reward = reward_sum if running_reward is None else running_reward * 0.99 + reward_sum * 0.01\n",
        "    #print('resetting env. episode reward total was %f. running mean: %f' % (reward_sum, running_reward))\n",
        "    #if episode_number % 100 == 0: \n",
        "    #    pickle.dump(model, open('save.p', 'wb'))\n",
        "    reward_sum = 0\n",
        "    observation = env.reset() # reset env\n",
        "    prev_x = None\n",
        "\n",
        "    if reward != 0: # Pong has either +1 or -1 reward exactly when game ends.\n",
        "        if reward != -1:\n",
        "            print('ep {0:d}: game finished, reward: {1:f}'.format(episode_number, reward), end='\\r')\n",
        "    \n",
        "env.close()\n",
        "show_video()"
      ],
      "execution_count": null,
      "outputs": []
    },
    {
      "cell_type": "code",
      "metadata": {
        "id": "8nj5sjsk15IT"
      },
      "source": [
        "observation = env.reset()\n",
        "\n",
        "while True:\n",
        "  \n",
        "    env.render()\n",
        "    \n",
        "    #your agent goes here\n",
        "    action = env.action_space.sample() \n",
        "         \n",
        "    observation, reward, done, info = env.step(action) \n",
        "   \n",
        "        \n",
        "    if done: \n",
        "      break;\n",
        "            \n",
        "env.close()\n",
        "show_video()"
      ],
      "execution_count": null,
      "outputs": []
    },
    {
      "cell_type": "code",
      "metadata": {
        "id": "mMcsESZ0lqTY"
      },
      "source": [
        "\"\"\" Trains an agent with (stochastic) Policy Gradients on Pong. Uses OpenAI Gym. \"\"\"\n",
        "# source: https://gist.github.com/karpathy/a4166c7fe253700972fcbc77e4ea32c5\n",
        "import numpy as np\n",
        "import pickle\n",
        "import gym\n",
        "\n",
        "# hyperparameters\n",
        "H = 200 # number of hidden layer neurons\n",
        "batch_size = 10 # every how many episodes to do a param update?\n",
        "learning_rate = 1e-4\n",
        "gamma = 0.99 # discount factor for reward\n",
        "decay_rate = 0.99 # decay factor for RMSProp leaky sum of grad^2\n",
        "resume = False # resume from previous checkpoint?\n",
        "render = False\n",
        "\n",
        "# model initialization\n",
        "D = 80 * 80 # input dimensionality: 80x80 grid\n",
        "if resume:\n",
        "    model = pickle.load(open('save.p', 'rb'))\n",
        "else:\n",
        "    model = {}\n",
        "    model['W1'] = np.random.randn(H,D) / np.sqrt(D) # \"Xavier\" initialization\n",
        "    model['W2'] = np.random.randn(H) / np.sqrt(H)\n",
        "  \n",
        "grad_buffer = { k : np.zeros_like(v) for k,v in model.items() } # update buffers that add up gradients over a batch\n",
        "grad_buffer = { k : np.zeros_like(v) for k,v in model.items() } # update buffers that add up gradients over a batch\n",
        "rmsprop_cache = { k : np.zeros_like(v) for k,v in model.items() } # rmsprop memory\n",
        "\n",
        "def sigmoid(x): \n",
        "    return 1.0 / (1.0 + np.exp(-x))  # sigmoid \"squashing\" function to interval [0,1]\n",
        "\n",
        "def prepro(I):\n",
        "    \"\"\" prepro 210x160x3 uint8 frame into 6400 (80x80) 1D float vector \"\"\"\n",
        "    I = I[35:195] # crop\n",
        "    I = I[::2,::2,0] # downsample by factor of 2\n",
        "    I[I == 144] = 0 # erase background (background type 1)\n",
        "    I[I == 109] = 0 # erase background (background type 2)\n",
        "    I[I != 0] = 1 # everything else (paddles, ball) just set to 1\n",
        "    return I.astype(np.float).ravel()\n",
        "\n",
        "def discount_rewards(r):\n",
        "    \"\"\" take 1D float array of rewards and compute discounted reward \"\"\"\n",
        "    discounted_r = np.zeros_like(r)\n",
        "    running_add = 0\n",
        "    for t in reversed(range(0, r.size)):\n",
        "        if r[t] != 0: \n",
        "            running_add = 0 # reset the sum, since this was a game boundary (pong specific!)\n",
        "        running_add = running_add * gamma + r[t]\n",
        "    discounted_r[t] = running_add\n",
        "    return discounted_r\n",
        "\n",
        "def policy_forward(x):\n",
        "    h = np.dot(model['W1'], x)\n",
        "    h[h<0] = 0 # ReLU nonlinearity\n",
        "    logp = np.dot(model['W2'], h)\n",
        "    p = sigmoid(logp)\n",
        "    return p, h # return probability of taking action 2, and hidden state\n",
        "\n",
        "def policy_backward(eph, epdlogp):\n",
        "    \"\"\" backward pass. (eph is array of intermediate hidden states) \"\"\"\n",
        "    dW2 = np.dot(eph.T, epdlogp).ravel()\n",
        "    dh = np.outer(epdlogp, model['W2'])\n",
        "    dh[eph <= 0] = 0 # backpro prelu\n",
        "    dW1 = np.dot(dh.T, epx)\n",
        "    return {'W1':dW1, 'W2':dW2}\n",
        "\n",
        "\n",
        "env = gym.make(\"Pong-v0\")\n",
        "observation = env.reset()\n",
        "prev_x = None # used in computing the difference frame\n",
        "xs,hs,dlogps,drs = [],[],[],[]\n",
        "running_reward = None\n",
        "reward_sum = 0\n",
        "episode_number = 0\n",
        "\n",
        "while True:\n",
        "    if render: env.render()\n",
        "\n",
        "    # preprocess the observation, set input to network to be difference image\n",
        "    cur_x = prepro(observation)\n",
        "    x = cur_x - prev_x if prev_x is not None else np.zeros(D)\n",
        "    prev_x = cur_x\n",
        "\n",
        "    # forward the policy network and sample an action from the returned probability\n",
        "    aprob, h = policy_forward(x)\n",
        "    action = 2 if np.random.uniform() < aprob else 3 # roll the dice!\n",
        "\n",
        "    # record various intermediates (needed later for backprop)\n",
        "    xs.append(x) # observation\n",
        "    hs.append(h) # hidden state\n",
        "    y = 1 if action == 2 else 0 # a \"fake label\"\n",
        "    dlogps.append(y - aprob) # grad that encourages the action that was taken to be taken (see http://cs231n.github.io/neural-networks-2/#losses if confused)\n",
        "\n",
        "    # step the environment and get new measurements\n",
        "    observation, reward, done, info = env.step(action)\n",
        "    reward_sum += reward\n",
        "\n",
        "    drs.append(reward) # record reward (has to be done after we call step() to get reward for previous action)\n",
        "\n",
        "    if done: # an episode finished\n",
        "        episode_number += 1\n",
        "\n",
        "        # stack together all inputs, hidden states, action gradients, and rewards for this episode\n",
        "        epx = np.vstack(xs)\n",
        "        eph = np.vstack(hs)\n",
        "        epdlogp = np.vstack(dlogps)\n",
        "        epr = np.vstack(drs)\n",
        "        xs,hs,dlogps,drs = [],[],[],[] # reset array memory\n",
        "\n",
        "        # compute the discounted reward backwards through time\n",
        "        discounted_epr = discount_rewards(epr)\n",
        "        # standardize the rewards to be unit normal (helps control the gradient estimator variance)\n",
        "        discounted_epr -= np.mean(discounted_epr)\n",
        "        discounted_epr /= np.std(discounted_epr)\n",
        "\n",
        "        epdlogp *= discounted_epr # modulate the gradient with advantage (PG magic happens right here.)\n",
        "        grad = policy_backward(eph, epdlogp)\n",
        "        for k in model: \n",
        "            grad_buffer[k] += grad[k] # accumulate grad over batch\n",
        "\n",
        "        # perform rmsprop parameter update every batch_size episodes\n",
        "        if episode_number % batch_size == 0:\n",
        "            for k,v in model.items():\n",
        "                g = grad_buffer[k] # gradient\n",
        "                rmsprop_cache[k] = decay_rate * rmsprop_cache[k] + (1 - decay_rate) * g**2\n",
        "                model[k] += learning_rate * g / (np.sqrt(rmsprop_cache[k]) + 1e-5)\n",
        "                grad_buffer[k] = np.zeros_like(v) # reset batch gradient buffer\n",
        "\n",
        "        # boring book-keeping\n",
        "        running_reward = reward_sum if running_reward is None else running_reward * 0.99 + reward_sum * 0.01\n",
        "        print(f'環境のリセット episode 総報酬 {reward_sum:.2f}. 移動平均報酬:{running_reward:.2f}', end='                         \\r')\n",
        "        if episode_number % 100 == 0:\n",
        "            pickle.dump(model, open('save.p', 'wb'))\n",
        "        reward_sum = 0\n",
        "        observation = env.reset() # reset env\n",
        "        prev_x = None\n",
        "\n",
        "    if reward != 0: # Pong has either +1 or -1 reward exactly when game ends.\n",
        "        if reward == -1:\n",
        "            print(f'エピソード:{episode_number}: ゲーム終了時の報酬: {reward}', end=\"   \\r\")\n",
        "        else:\n",
        "            print('!!!!!', end='                                                         \\r')\n",
        "        #print('ep %d: game finished, reward: %f' % (episode_number, reward)) + ('' if reward == -1 else ' !!!!!!!!')\n"
      ],
      "execution_count": null,
      "outputs": []
    },
    {
      "cell_type": "code",
      "metadata": {
        "id": "61a3OLjBUScN"
      },
      "source": [],
      "execution_count": null,
      "outputs": []
    }
  ]
}