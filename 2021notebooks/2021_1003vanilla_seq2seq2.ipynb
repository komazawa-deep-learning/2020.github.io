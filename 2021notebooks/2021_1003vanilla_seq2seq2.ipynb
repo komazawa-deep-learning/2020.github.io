{
  "nbformat": 4,
  "nbformat_minor": 0,
  "metadata": {
    "kernelspec": {
      "display_name": "Python 3 (ipykernel)",
      "language": "python",
      "name": "python3"
    },
    "language_info": {
      "codemirror_mode": {
        "name": "ipython",
        "version": 3
      },
      "file_extension": ".py",
      "mimetype": "text/x-python",
      "name": "python",
      "nbconvert_exporter": "python",
      "pygments_lexer": "ipython3",
      "version": "3.8.11"
    },
    "colab": {
      "name": "2021_1003vanilla_seq2seq2.ipynb",
      "provenance": [],
      "include_colab_link": true
    },
    "accelerator": "GPU"
  },
  "cells": [
    {
      "cell_type": "markdown",
      "metadata": {
        "id": "view-in-github",
        "colab_type": "text"
      },
      "source": [
        "<a href=\"https://colab.research.google.com/github/komazawa-deep-learning/komazawa-deep-learning.github.io/blob/master/2021notebooks/2021_1003vanilla_seq2seq2.ipynb\" target=\"_parent\"><img src=\"https://colab.research.google.com/assets/colab-badge.svg\" alt=\"Open In Colab\"/></a>"
      ]
    },
    {
      "cell_type": "code",
      "metadata": {
        "id": "saqHljekLEHQ"
      },
      "source": [
        "# -*- coding: utf-8 -*-\n",
        "# Google Colaboratory では GPU モードで実行してください"
      ],
      "execution_count": null,
      "outputs": []
    },
    {
      "cell_type": "markdown",
      "metadata": {
        "id": "N2LII2UkLCyu"
      },
      "source": [
        "- date: 2021_1003\n",
        "- author: 浅川伸一\n",
        "- licese: MIT\n",
        "- filename: 2021_1003vanilla_seq2seq.ipynb\n",
        "\n",
        "# バニラ seq2seq\n",
        "\n"
      ]
    },
    {
      "cell_type": "code",
      "metadata": {
        "id": "pK1reEH1LCyx"
      },
      "source": [
        "import torch\n",
        "import torch.nn as nn\n",
        "from torch import optim\n",
        "import torch.nn.functional as F\n",
        "import random\n",
        "\n",
        "device = torch.device(\"cuda\" if torch.cuda.is_available() else \"cpu\")"
      ],
      "execution_count": 1,
      "outputs": []
    },
    {
      "cell_type": "code",
      "metadata": {
        "colab": {
          "base_uri": "https://localhost:8080/"
        },
        "id": "oeeERuBaLCyz",
        "outputId": "08ace2e0-0e8b-4f0c-b90e-54467f3872d2"
      },
      "source": [
        "import sys\n",
        "import requests\n",
        "url_base = 'https://komazawa-deep-learning.github.io/2021/'\n",
        "jpntxt = 'eng-jpn.txt'\n",
        "chntxt = 'eng-chn.txt'\n",
        "for _lang in [jpntxt,chntxt]:\n",
        "    r = requests.get(url_base+_lang, _lang)\n",
        "    with open('___'+_lang, 'wb') as f:\n",
        "        f.write(r.content)\n",
        "\n",
        "!mkdir data        \n",
        "!wget https://komazawa-deep-learning.github.io/2021/lang_dict.py -O data/lang_dict.py\n",
        "!wget https://komazawa-deep-learning.github.io/2021/eng-jpn_normalized.txt -O data/eng-jpn_normalized.txt\n",
        "!wget https://komazawa-deep-learning.github.io/2021/eng-chn_normalized.txt -O data/eng-chn_normalized.txt\n",
        "\n",
        "%load_ext autoreload\n",
        "%autoreload 2\n",
        "import data.lang_dict\n",
        "\n",
        "C2E_dict = data.lang_dict.C2E_dict\n",
        "E2C_dict = data.lang_dict.E2C_dict\n",
        "J2E_dict = data.lang_dict.J2E_dict\n",
        "E2J_dict = data.lang_dict.E2J_dict\n",
        "jpn = data.lang_dict.jpn\n",
        "chn = data.lang_dict.chn\n",
        "E2J_pairs = data.lang_dict.E2J_pairs\n",
        "E2C_pairs = data.lang_dict.E2C_pairs\n",
        "print(E2J_pairs[:5])\n",
        "\n",
        "MAX_LENGTH = data.lang_dict.MAX_LENGTH\n",
        "teacher_forcing_ratio = 0.5\n",
        "SOS_token = 1\n",
        "EOS_token = 0"
      ],
      "execution_count": 2,
      "outputs": [
        {
          "output_type": "stream",
          "name": "stdout",
          "text": [
            "--2021-10-07 23:53:53--  https://komazawa-deep-learning.github.io/2021/lang_dict.py\n",
            "Resolving komazawa-deep-learning.github.io (komazawa-deep-learning.github.io)... 185.199.108.153, 185.199.109.153, 185.199.110.153, ...\n",
            "Connecting to komazawa-deep-learning.github.io (komazawa-deep-learning.github.io)|185.199.108.153|:443... connected.\n",
            "HTTP request sent, awaiting response... 200 OK\n",
            "Length: 2218 (2.2K) [application/octet-stream]\n",
            "Saving to: ‘data/lang_dict.py’\n",
            "\n",
            "data/lang_dict.py   100%[===================>]   2.17K  --.-KB/s    in 0s      \n",
            "\n",
            "2021-10-07 23:53:53 (26.0 MB/s) - ‘data/lang_dict.py’ saved [2218/2218]\n",
            "\n",
            "--2021-10-07 23:53:53--  https://komazawa-deep-learning.github.io/2021/eng-jpn_normalized.txt\n",
            "Resolving komazawa-deep-learning.github.io (komazawa-deep-learning.github.io)... 185.199.108.153, 185.199.109.153, 185.199.110.153, ...\n",
            "Connecting to komazawa-deep-learning.github.io (komazawa-deep-learning.github.io)|185.199.108.153|:443... connected.\n",
            "HTTP request sent, awaiting response... 200 OK\n",
            "Length: 6936078 (6.6M) [text/plain]\n",
            "Saving to: ‘data/eng-jpn_normalized.txt’\n",
            "\n",
            "data/eng-jpn_normal 100%[===================>]   6.61M  --.-KB/s    in 0.09s   \n",
            "\n",
            "2021-10-07 23:53:53 (74.5 MB/s) - ‘data/eng-jpn_normalized.txt’ saved [6936078/6936078]\n",
            "\n",
            "--2021-10-07 23:53:53--  https://komazawa-deep-learning.github.io/2021/eng-chn_normalized.txt\n",
            "Resolving komazawa-deep-learning.github.io (komazawa-deep-learning.github.io)... 185.199.108.153, 185.199.109.153, 185.199.110.153, ...\n",
            "Connecting to komazawa-deep-learning.github.io (komazawa-deep-learning.github.io)|185.199.108.153|:443... connected.\n",
            "HTTP request sent, awaiting response... 200 OK\n",
            "Length: 1820197 (1.7M) [text/plain]\n",
            "Saving to: ‘data/eng-chn_normalized.txt’\n",
            "\n",
            "data/eng-chn_normal 100%[===================>]   1.74M  --.-KB/s    in 0.06s   \n",
            "\n",
            "2021-10-07 23:53:54 (30.4 MB/s) - ‘data/eng-chn_normalized.txt’ saved [1820197/1820197]\n",
            "\n",
            "総語彙数: 英2日:8306, 日2英:12945\n",
            "総語彙数: 英2中:6356, 中2英:13246\n",
            "出力サンプル [['she s as busy as tom .', '彼女 は トム と 同じ くらい 忙しい 。'], ['this coffee tastes bitter .', 'この コーヒー は ビター テイスト だ ね 。'], ['what did you have for lunch today ?', '今日 の お 昼 は 何 食べ た ？'], ['i ll tell you where it is .', 'どこ に ある か 教える よ 。'], ['don t throw stones .', '石 を 投げ ちゃ 駄目 だ から ね 。']]\n",
            "出力サンプル [['water is indispensable to life .', '水 是 生命 所 不可 缺少 的 。'], ['the drug problem is international .', '毒品 问题 是 国际性 的 。'], ['she married a rich old man .', '她 嫁給 了 一 個 富有 的 老 男人 。'], ['tom didn t think that anybody would recognize mary .', '汤姆 不 认为 有 人 会认出 玛丽 。'], ['there are only three girls in the class .', '這 個 班 只 有 三 個 女生 。']]\n",
            "[['go .', '行け 。'], ['go .', '行き なさい 。'], ['hi .', 'こんにちは 。'], ['hi .', 'もしもし 。'], ['hi .', 'やっほー 。']]\n"
          ]
        }
      ]
    },
    {
      "cell_type": "code",
      "metadata": {
        "id": "EYNTwUeVLCy0"
      },
      "source": [
        "import time\n",
        "import math\n",
        "\n",
        "def asMinutes(s):\n",
        "    m = math.floor(s / 60)\n",
        "    s -= m * 60\n",
        "    return '%02dm %02ds' % (m, s)\n",
        "\n",
        "def timeSince(since, percent):\n",
        "    now = time.time()\n",
        "    s = now - since\n",
        "    es = s / (percent)\n",
        "    rs = es - s\n",
        "    return '経過時間:%s (残り時間:%s)' % (asMinutes(s), asMinutes(rs))"
      ],
      "execution_count": 3,
      "outputs": []
    },
    {
      "cell_type": "code",
      "metadata": {
        "id": "zsnMrM3oLCy1"
      },
      "source": [
        "import torch.nn as nn  # 冗長に import するのは教育的配慮からである\n",
        "\n",
        "class EncoderRNN(nn.Module):\n",
        "    def __init__(self, n_inp, n_hid, dropout_p=0.1):\n",
        "        super(EncoderRNN, self).__init__()\n",
        "        self.n_hid = n_hid\n",
        "        self.embed = nn.Embedding(n_inp, n_hid)\n",
        "        self.rnn = nn.LSTM(n_hid, n_hid)\n",
        "        self.dropout = nn.Dropout(dropout_p)\n",
        "\n",
        "    def forward(self, inp, hid):\n",
        "        embed = self.embed(inp).view(1, 1, -1)\n",
        "        out = self.dropout(embed)\n",
        "        out, (C, hid) = self.rnn(out, hid)\n",
        "        out = self.dropout(out)\n",
        "        return out, (C, hid)\n",
        "\n",
        "    def initHidden(self):\n",
        "        weight = next(self.parameters())\n",
        "        return (weight.new_zeros(1, 1, self.n_hid),\n",
        "                weight.new_zeros(1, 1, self.n_hid))\n",
        "\n",
        "    \n",
        "\n",
        "class DecoderRNN(nn.Module):\n",
        "    def __init__(self, n_hid, n_out, dropout_p=0.1):\n",
        "        super(DecoderRNN, self).__init__()\n",
        "        self.n_hid = n_hid\n",
        "\n",
        "        self.embed = nn.Embedding(n_out, n_hid)\n",
        "        self.rnn = nn.LSTM(n_hid, n_hid)\n",
        "        self.out = nn.Linear(n_hid, n_out)\n",
        "        self.softmax = nn.LogSoftmax(dim=1)\n",
        "        self.dropout = nn.Dropout(dropout_p)\n",
        "\n",
        "    def forward(self, input, hidden):\n",
        "        output = self.embed(input).view(1, 1, -1)\n",
        "        output = self.dropout(output)\n",
        "        output = F.relu(output)\n",
        "        output, (C, hidden) = self.rnn(output, hidden)\n",
        "        output = self.softmax(self.out(output[0]))\n",
        "        return output, (C, hidden)\n",
        "\n",
        "    def initHidden(self):\n",
        "        weight = next(self.parameters())\n",
        "        return (weight.new_zeros(1, 1, self.n_hid),\n",
        "                weight.new_zeros(1, 1, self.n_hid))\n",
        "        "
      ],
      "execution_count": 4,
      "outputs": []
    },
    {
      "cell_type": "markdown",
      "metadata": {
        "id": "p8VWA_uRLCy2"
      },
      "source": [
        "# 2. 訓練\n",
        "\n",
        "## 2.1 訓練データの作成\n",
        "\n",
        "モデルを訓練するには、(英語, 他の言語)という言語対ごとに、入力データのテンソル（入力文に含まれる単語のインデックス）と正解データのテンソル（正解文に含まれる単語のインデックス）が必要となります。\n",
        "入力データと正解データのテンソルを作成する処理のなかで、EOS（End of Sentence）トークンを入力データ， 正解データの各シーケンスに追加する処理も行います。\n"
      ]
    },
    {
      "cell_type": "code",
      "metadata": {
        "id": "iR35PseJLCy2"
      },
      "source": [
        "def indexesFromSentence(lang_dict, sentence):\n",
        "    return [lang_dict.wrd2idx[word] for word in sentence.split(' ')]\n",
        "\n",
        "\n",
        "def tensorFromSentence(lang_dict, sentence):\n",
        "    indexes = indexesFromSentence(lang_dict, sentence)\n",
        "    indexes.append(lang_dict.wrd2idx['EOS'])\n",
        "    return torch.tensor(indexes, dtype=torch.long, device=device).view(-1, 1)\n",
        "\n",
        "\n",
        "def tensorsFromPair(pair, SRC, DST):\n",
        "    input_tensor = tensorFromSentence(SRC, pair[0])\n",
        "    target_tensor = tensorFromSentence(DST, pair[1])\n",
        "    return (input_tensor, target_tensor)\n"
      ],
      "execution_count": 5,
      "outputs": []
    },
    {
      "cell_type": "markdown",
      "metadata": {
        "id": "FGltsJGeLCy3"
      },
      "source": [
        "## 2.2 モデルの訓練\n",
        "\n",
        "* 訓練するには、入力文を符号化器に投入して実行し、実行の過程のすべての出力と、一番最後の隠れ状態を記録します。\n",
        "* 続いて、復号化器には最初の入力として トークンが渡され、また、エンコーダの最後の隠れ状態が、デコーダの最初の隠れ状態として渡されます。\n",
        "* ここで、教師強制（Teacher forcing）と呼ばれるアイデアを紹介します。\n",
        "* 「教師強制」は 復号化器の推論結果を次のステップの RNN への入力として使用するのではなく、次のステップでは、実際の正解データを RNN への入力として使用するという手法です。\n",
        "* 教師強制を使用すると、より速く収束しますが、訓練されたネットワークが悪用されると不安定になり問題になることがあります.\n",
        "* 教師強制のネットワークの出力は、文法的には正しくても、正しい翻訳からはかけ離れたものになることがあります。\n",
        "* 教師強制の直感的な理解としては、以下のようなものとなります。\n",
        "* まず、教師強制は「文法」を表現することを学習させています。\n",
        "* また、正しい翻訳の最初の数語を伝えればそこから意味を「拾う」ことはできます。\n",
        "* しかし、そもそも翻訳で文章を作る方法をきちんと学べてはいません。\n",
        "* PyTorch の `autograd` の自由度のおかげで、単純な if 文だけで、教師強制を使うか使わないかをランダムに選択することができます。\n",
        "* `teacher_forcing_ratio` の値を上げると、より頻繁に教師強制を使うようになります。"
      ]
    },
    {
      "cell_type": "code",
      "metadata": {
        "id": "Kgfgsu93LCy3"
      },
      "source": [
        "MAX_LENGTH = data.lang_dict.MAX_LENGTH\n",
        "teacher_forcing_ratio = 0.5\n",
        "SOS_token = 1\n",
        "EOS_token = 0"
      ],
      "execution_count": 6,
      "outputs": []
    },
    {
      "cell_type": "code",
      "metadata": {
        "id": "uUNQrL9jLCy4"
      },
      "source": [
        "def vanilla_train(input_tensor, target_tensor, \n",
        "                  encoder, decoder, \n",
        "                  encoder_optimizer, decoder_optimizer, \n",
        "                  criterion, max_length=MAX_LENGTH,\n",
        "                  teacher_forcing_ratio = 0.5\n",
        "                 ):\n",
        "    encoder_hidden = encoder.initHidden()\n",
        "    encoder_optimizer.zero_grad()\n",
        "    decoder_optimizer.zero_grad()\n",
        "    \n",
        "    input_length = input_tensor.size(0)\n",
        "    target_length = target_tensor.size(0)\n",
        "    encoder_outputs = torch.zeros(max_length, encoder.n_hid, device=device)\n",
        "\n",
        "    loss = 0\n",
        "    \n",
        "    # 符号化器側の処理\n",
        "    for ei in range(input_length):\n",
        "        encoder_output, encoder_hidden = encoder(\n",
        "            input_tensor[ei], encoder_hidden)\n",
        "        encoder_outputs[ei] = encoder_output[0, 0]\n",
        "\n",
        "   \n",
        "    decoder_input = torch.tensor([[SOS_token]], device=device)\n",
        "    \n",
        "    # 符号化器の中間層の状態を復号化器の中間層状態に接続する\n",
        "    decoder_hidden = encoder_hidden\n",
        "    \n",
        "    # 復号化器側の処理\n",
        "    # 教師強制をするか，否か，の判断\n",
        "    use_teacher_forcing = True if random.random() < teacher_forcing_ratio else False\n",
        "    \n",
        "    if use_teacher_forcing:\n",
        "        # 教師強制の場合：次の入力として正解データを渡す。\n",
        "        for di in range(target_length):\n",
        "            decoder_output, decoder_hidden = decoder(\n",
        "                decoder_input, decoder_hidden)\n",
        "            loss += criterion(decoder_output, target_tensor[di])\n",
        "            decoder_input = target_tensor[di]  # Teacher forcing\n",
        "\n",
        "    else:\n",
        "         # 教師強制を使わない：自分の予測を次の入力として使用する\n",
        "        for di in range(target_length):\n",
        "            decoder_output, decoder_hidden = decoder(\n",
        "                decoder_input, decoder_hidden)\n",
        "            topv, topi = decoder_output.topk(1)\n",
        "            decoder_input = topi.squeeze().detach()  # 入力として使用するために、計算グラフから切り離す\n",
        "\n",
        "            loss += criterion(decoder_output, target_tensor[di])\n",
        "            if decoder_input.item() == EOS_token:\n",
        "                break\n",
        "\n",
        "    loss.backward()\n",
        "    encoder_optimizer.step()\n",
        "    decoder_optimizer.step()\n",
        "\n",
        "    return loss.item() / target_length"
      ],
      "execution_count": 7,
      "outputs": []
    },
    {
      "cell_type": "code",
      "metadata": {
        "id": "vLoN0fHmLCy5"
      },
      "source": [
        "import matplotlib.pyplot as plt\n",
        "\n",
        "# 目盛りの調整のたｍ matplotlib.ticker を使用\n",
        "import matplotlib.ticker as ticker\n",
        "\n",
        "! pip install japanize_matplotlib\n",
        "import japanize_matplotlib\n",
        "import numpy as np\n",
        "\n",
        "def draw_curve(points, figsize=(5,5)):\n",
        "    plt.figure(figsize=figsize)\n",
        "    fig, ax = plt.subplots()\n",
        "    loc = ticker.MultipleLocator(base=0.25) # 等間隔で tic を設定\n",
        "    ax.yaxis.set_major_locator(loc)\n",
        "    plt.plot(points)\n"
      ],
      "execution_count": null,
      "outputs": []
    },
    {
      "cell_type": "code",
      "metadata": {
        "id": "K5ch5AHiLCy5"
      },
      "source": [
        "def trainIters(encoder, decoder, \n",
        "               SRC, DST,\n",
        "               pairs=E2J_pairs,\n",
        "               train_f=vanilla_train, \n",
        "               n_iters=75000, \n",
        "               print_interval=1000, plot_interval=100, \n",
        "               learning_ratio=0.01):\n",
        "    \"\"\"\n",
        "    引数:\n",
        "    encoder: nn.Module.RNNmodel\n",
        "        符号化器。ソース言語\n",
        "    decoder: nn.Module.RNNmodel\n",
        "        復号化器。ターゲット言語\n",
        "    n_iters: int\n",
        "        反復回数\n",
        "    \n",
        "    注: ミニバッチを用いずにオンライン学習によって学習を行う。\n",
        "    \"\"\"\n",
        "    \n",
        "    start = time.time()  # 開始時刻を保存しておく\n",
        "\n",
        "    # 損失関数の値を初期化\n",
        "    plot_losses = []\n",
        "    print_loss_total = 0  # printする度にリセット\n",
        "    plot_loss_total = 0   # plot_everyごとにリセット\n",
        "\n",
        "    encoder_optimizer = optim.SGD(encoder.parameters(), lr=learning_ratio)\n",
        "    decoder_optimizer = optim.SGD(decoder.parameters(), lr=learning_ratio)\n",
        "    \n",
        "    # 乱数を用いて訓練データを選択。ここは perminatation した方が良さそうだな\n",
        "    # 加えてこれは，エポックにしてないな\n",
        "    training_pairs = [tensorsFromPair(random.choice(pairs), SRC, DST)\n",
        "                      for i in range(n_iters)]\n",
        "    \n",
        "    criterion = nn.NLLLoss()  # 負の対数尤度を学習基準とする\n",
        "\n",
        "    for iter in range(1, n_iters + 1):\n",
        "        training_pair = training_pairs[iter - 1]\n",
        "        input_tensor = training_pair[0]\n",
        "        target_tensor = training_pair[1]\n",
        "\n",
        "        loss = train_f(input_tensor, target_tensor, encoder,\n",
        "                       decoder, encoder_optimizer, decoder_optimizer, criterion)\n",
        "        print_loss_total += loss\n",
        "        plot_loss_total += loss\n",
        "\n",
        "        if iter % print_interval == 0:\n",
        "            print_loss_avg = print_loss_total / print_interval\n",
        "            print_loss_total = 0\n",
        "            print(f'平均損失: {print_loss_avg:.3f}',\n",
        "                  f'(反復回数: {iter:5d} {iter/n_iters * 100:5.2f}%)',\n",
        "                  f'{timeSince(start, iter / n_iters)}'\n",
        "                 )\n",
        "\n",
        "        if iter % plot_interval == 0:\n",
        "            plot_loss_avg = plot_loss_total / plot_interval\n",
        "            plot_losses.append(plot_loss_avg)\n",
        "            plot_loss_total = 0\n",
        "\n",
        "    draw_curve(plot_losses)\n",
        "    return plot_losses\n"
      ],
      "execution_count": 10,
      "outputs": []
    },
    {
      "cell_type": "code",
      "metadata": {
        "id": "-rJHpCkNLCy5"
      },
      "source": [
        "n_hid = 64\n",
        "\n",
        "encoder = EncoderRNN(E2J_dict.n_words, n_hid).to(device)\n",
        "decoder = DecoderRNN(n_hid, J2E_dict.n_words, dropout_p = 0.1).to(device)\n",
        "_ = trainIters(encoder, decoder, E2J_dict, J2E_dict, pairs=E2J_pairs, \n",
        "               n_iters=2000, print_interval=500, learning_ratio=0.001)"
      ],
      "execution_count": null,
      "outputs": []
    },
    {
      "cell_type": "code",
      "metadata": {
        "id": "nrRbWbIyLCy6"
      },
      "source": [
        "_ = trainIters(encoder, decoder, E2J_dict, J2E_dict, pairs=E2J_pairs, n_iters=20000, print_interval=5000, learning_ratio=0.0001)"
      ],
      "execution_count": null,
      "outputs": []
    },
    {
      "cell_type": "code",
      "metadata": {
        "id": "Boad4NwBLCy6",
        "outputId": "ec652429-7a8a-4de9-b975-4b22ae893363"
      },
      "source": [
        "# 読み出し\n",
        "cptfile = '2021_1003valina_seq2seq2.cpt'\n",
        "cpt = torch.load(cptfile)\n",
        "encoder_sd = cpt['encoder_state_dict']\n",
        "decoder_sd = cpt['decoder_state_dict']\n",
        "encoder.load_state_dict(encoder_sd)\n",
        "decoder.load_state_dict(decoder_sd)"
      ],
      "execution_count": null,
      "outputs": [
        {
          "data": {
            "text/plain": [
              "<All keys matched successfully>"
            ]
          },
          "execution_count": 11,
          "metadata": {},
          "output_type": "execute_result"
        }
      ]
    },
    {
      "cell_type": "code",
      "metadata": {
        "id": "aIgUT6nbLCy6"
      },
      "source": [
        "trainIters(encoder, decoder, E2J_dict, J2E_dict, pairs=E2J_pairs, n_iters=1000, print_interval=250)"
      ],
      "execution_count": null,
      "outputs": []
    },
    {
      "cell_type": "code",
      "metadata": {
        "id": "isyfHl2CLCy7"
      },
      "source": [
        "losses = trainIters(encoder, decoder, E2J_dict, J2E_dict, pairs=E2J_pairs, n_iters=1000, print_interval=100, plot_interval=50)"
      ],
      "execution_count": null,
      "outputs": []
    },
    {
      "cell_type": "markdown",
      "metadata": {
        "id": "f4ucazjJLCy7"
      },
      "source": [
        "# 3. 評価\n",
        "\n",
        "評価はモデルの訓練とほとんど同じですが、正解データがないので、各ステップごとにデコーダの予測値を自分自身にフィードバックします。\n",
        "復号化器が単語を予測するたびに， それを出力文字列に追加します。\n",
        "そして予測結果が EOS トークンとなった場合には， そこで予測を停止します。\n",
        "さらに、表示用に復号化器の注意を保存します"
      ]
    },
    {
      "cell_type": "code",
      "metadata": {
        "id": "Y7TFeJKXLCy7"
      },
      "source": [
        "def evaluate(encoder, decoder, SRC, DST, sentence, max_length=MAX_LENGTH):\n",
        "    with torch.no_grad():\n",
        "        input_tensor = tensorFromSentence(SRC, sentence)\n",
        "        input_length = input_tensor.size()[0]\n",
        "        encoder_hidden = encoder.initHidden()\n",
        "\n",
        "        encoder_outputs = torch.zeros(max_length, encoder.n_hid, device=device)\n",
        "\n",
        "        for ei in range(input_length):\n",
        "            encoder_output, encoder_hidden = encoder(input_tensor[ei], encoder_hidden)\n",
        "            encoder_outputs[ei] += encoder_output[0, 0]\n",
        "\n",
        "        decoder_input = torch.tensor([[SOS_token]], device=device)  # SOS\n",
        "        decoder_hidden = encoder_hidden\n",
        "        decoded_words = []\n",
        "\n",
        "        for di in range(max_length):\n",
        "            decoder_output, decoder_hidden = decoder(\n",
        "                decoder_input, decoder_hidden)\n",
        "            topv, topi = decoder_output.data.topk(1)\n",
        "            if topi.item() == EOS_token:\n",
        "                decoded_words.append('<EOS>')\n",
        "                break\n",
        "            else:\n",
        "                decoded_words.append(DST.idx2wrd[topi.item()])\n",
        "\n",
        "            decoder_input = topi.squeeze().detach()\n",
        "\n",
        "        return decoded_words"
      ],
      "execution_count": null,
      "outputs": []
    },
    {
      "cell_type": "code",
      "metadata": {
        "id": "ziS8x6UBLCy7"
      },
      "source": [
        "def evaluateRandomly(encoder, decoder, SRC, DST, n=10):\n",
        "    outs = []\n",
        "    for i in range(n):\n",
        "        pair = random.choice(E2J_pairs)\n",
        "        print(f'ソース< {pair[0]}')\n",
        "        print(f':正解= { pair[1]}')\n",
        "        output_words = evaluate(encoder, decoder, SRC, DST, pair[0])\n",
        "        output_sentence = ' '.join(output_words)\n",
        "        print(f':翻訳> {output_sentence}\\n')\n",
        "        outs.append((pair[0],output_sentence))\n",
        "    return outs"
      ],
      "execution_count": null,
      "outputs": []
    },
    {
      "cell_type": "code",
      "metadata": {
        "id": "jE422U5bLCy8"
      },
      "source": [
        "_ = evaluateRandomly(encoder, decoder, E2J_dict, J2E_dict, n=3)"
      ],
      "execution_count": null,
      "outputs": []
    },
    {
      "cell_type": "code",
      "metadata": {
        "id": "9JMXGid2LCy8"
      },
      "source": [
        "cpt_fname = '2021_1008valina_seq2seq.cpt'\n",
        "torch.save({'encoder_state_dict': encoder.state_dict(),\n",
        "            'decoder_state_dict': decoder.state_dict(),\n",
        "            #'loss': losses,\n",
        "            'E2J_dict': E2J_dict, \n",
        "            'J2E_dict': J2E_dict, \n",
        "            'pairs': E2J_pairs,\n",
        "           }, cpt_fname)"
      ],
      "execution_count": null,
      "outputs": []
    }
  ]
}