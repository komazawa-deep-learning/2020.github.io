{
  "nbformat": 4,
  "nbformat_minor": 0,
  "metadata": {
    "colab": {
      "name": "2021_0930viola_jones.ipynb.ipynb",
      "private_outputs": true,
      "provenance": [],
      "collapsed_sections": [],
      "authorship_tag": "ABX9TyP1OFbyTVZdK/srxw+TSNbO",
      "include_colab_link": true
    },
    "kernelspec": {
      "name": "python3",
      "display_name": "Python 3"
    },
    "language_info": {
      "name": "python"
    }
  },
  "cells": [
    {
      "cell_type": "markdown",
      "metadata": {
        "id": "view-in-github",
        "colab_type": "text"
      },
      "source": [
        "<a href=\"https://colab.research.google.com/github/komazawa-deep-learning/komazawa-deep-learning.github.io/blob/master/2021notebooks/2021_0930viola_jones_ipynb.ipynb\" target=\"_parent\"><img src=\"https://colab.research.google.com/assets/colab-badge.svg\" alt=\"Open In Colab\"/></a>"
      ]
    },
    {
      "cell_type": "markdown",
      "metadata": {
        "id": "LBPM2RKvhJPH"
      },
      "source": [
        "# ヴィオラ=ジョーンズ アルゴリズム (従来手法) による顔認識実験\n",
        "\n",
        "- author: 浅川伸一\n",
        "- date: 2021_0930\n",
        "- filename: 2021_0930viola_jones.ipynb\n",
        "- licence: MIT license\n",
        "- original dataset: http://www.ai.mit.edu/courses/6.899/lectures/faces.tar.gz"
      ]
    },
    {
      "cell_type": "code",
      "metadata": {
        "id": "8NVK3kRWPIa_"
      },
      "source": [
        "# ライブラリの読み込み\n",
        "!git clone https://github.com/Simon-Hohberg/Viola-Jones.git\n",
        "!mv Viola-Jones/violajones .\n",
        "\n",
        "# データの読み込み\n",
        "# 元データは http://www.ai.mit.edu/courses/6.899/lectures/faces.tar.gz\n",
        "# 授業用にデータ数を少なくしてあります\n",
        "!wget https://komazawa-deep-learning.github.io/2021komazawa_faces.tgz -O 2021komazawa_faces.tgz\n",
        "!tar xzf 2021komazawa_faces.tgz"
      ],
      "execution_count": null,
      "outputs": []
    },
    {
      "cell_type": "code",
      "metadata": {
        "id": "AR6kJkwkc-Me"
      },
      "source": [
        "import violajones.IntegralImage as integralimage\n",
        "import violajones.AdaBoost as adaboost\n",
        "#import violajones.Utils as utils\n",
        "from IPython.core.display import Image, display"
      ],
      "execution_count": null,
      "outputs": []
    },
    {
      "cell_type": "code",
      "metadata": {
        "id": "7OS8RPBndCj2"
      },
      "source": [
        "# test/non-face のデータが 23k もあって時間がかかるので，0.1 倍にした\n",
        "pos_training_path = 'data/train/face'\n",
        "neg_training_path = 'data/train/non-face'\n",
        "pos_testing_path = 'data/test/face'\n",
        "neg_testing_path = 'data/test/non-face'\n",
        "\n",
        "num_classifiers = 20\n",
        "# For performance reasons restricting feature size\n",
        "min_feature_height = 4\n",
        "max_feature_height = 10\n",
        "min_feature_width = 4\n",
        "max_feature_width = 10\n",
        "\n",
        "import os\n",
        "import numpy as np\n",
        "from PIL import Image\n",
        "\n",
        "def _load_images(path):\n",
        "    images = []\n",
        "    fnames = []\n",
        "    for _file in os.listdir(path):\n",
        "        if _file.endswith('.png'):\n",
        "            fnames.append(_file)\n",
        "            img_arr = np.array(Image.open((os.path.join(path, _file))), dtype=float)\n",
        "            img_arr /= img_arr.max()\n",
        "            images.append(img_arr)\n",
        "    return images, fnames\n",
        "\n",
        "print('訓練用顔画像の読み込み...', end=\"\")\n",
        "faces_training, train_pos_fnames = _load_images(pos_training_path)\n",
        "faces_ii_training = list(map(integralimage.to_integral_image, faces_training))\n",
        "print(f'..done. {len(faces_training)} 枚の顔画像を読み込みました.')\n",
        "print('訓練用非顔画像の読み込み...', end=\"\")\n",
        "non_faces_training, train_neg_fnames = _load_images(neg_training_path)\n",
        "non_faces_ii_training = list(map(integralimage.to_integral_image, non_faces_training))\n",
        "print(f'..done. {len(non_faces_training)} 枚の非顔画像を読み込みました.')\n",
        "\n",
        "print('検証用顔画像の読み込み..', end=\"\")\n",
        "faces_testing, test_pos_fnames = _load_images(pos_testing_path)\n",
        "faces_ii_testing = list(map(integralimage.to_integral_image, faces_testing))\n",
        "print(f'..done. {len(faces_testing)} 枚の顔画像を読み込みました.')\n",
        "print('検証用非顔画像の読み込み..', end=\"\")\n",
        "non_faces_testing, test_neg_fnames = _load_images(neg_testing_path)\n",
        "non_faces_ii_testing = list(map(integralimage.to_integral_image, non_faces_testing))\n",
        "print(f'..done. {len(non_faces_testing)} 枚の非顔画像を読み込みました.')    "
      ],
      "execution_count": null,
      "outputs": []
    },
    {
      "cell_type": "markdown",
      "metadata": {
        "id": "2XuE_cO-fIji"
      },
      "source": [
        "##  Haar 特徴を用いた Ada-boost による分類器の学習"
      ]
    },
    {
      "cell_type": "code",
      "metadata": {
        "id": "i8-obHkedLXV"
      },
      "source": [
        "# このセルを実行すると時間がかかります 20−30 分くらい\n",
        "classifiers = adaboost.learn(faces_ii_training, non_faces_ii_training, \n",
        "                             num_classifiers, \n",
        "                             min_feature_height, max_feature_height, \n",
        "                             min_feature_width, max_feature_width)"
      ],
      "execution_count": null,
      "outputs": []
    },
    {
      "cell_type": "markdown",
      "metadata": {
        "id": "piOBEHegfew-"
      },
      "source": [
        "## 検証"
      ]
    },
    {
      "cell_type": "code",
      "metadata": {
        "id": "cKqAHyu9fcUq"
      },
      "source": [
        "print('Testing selected classifiers..', end=\"\")\n",
        "correct_faces = sum(utils.ensemble_vote_all(faces_ii_testing, classifiers))\n",
        "correct_non_faces = len(non_faces_testing) - sum(utils.ensemble_vote_all(non_faces_ii_testing, classifiers))\n",
        "print('..done.)\n",
        "\n",
        "print('Result:')\n",
        "print(f'  顔: {correct_faces:>5d}/{len(faces_testing):>5d}',\n",
        "      f'({float(correct_faces)/len(faces_testing) * 100:.3f}%)')\n",
        "print(f' 非顔: {correct_non_faces:>5d}/{len(non_faces_testing):>5d}',\n",
        "      f'({float(correct_non_faces)/len(non_faces_testing) * 100:.3f}%)')\n",
        "\n",
        "tp = correct_faces\n",
        "fp = len(non_faces_testing) - correct_non_faces\n",
        "fn = len(face_testing) - correct_faces\n",
        "precision = tp / (tp + fp)\n",
        "recall = tp / (tp + fp)\n",
        "f1 = 1/(1/precision + 1/recall))\n",
        "\n",
        "print(f'精度: {precision:.3f}')\n",
        "print(f'再現率: {recall:.3f}')\n",
        "print(f'F1 値: {f1:.3f}')\n",
        "\n"
      ],
      "execution_count": null,
      "outputs": []
    },
    {
      "cell_type": "markdown",
      "metadata": {
        "id": "9P-OrhTQfz9a"
      },
      "source": [
        "# 精度，再現率，F 値 の計算\n",
        "\n",
        "精度 \b(precision), 再現率 (recall), F-1 値 を計算します\n",
        "\n",
        "- 精度は，正しいの正例数 true positive と 偽の正例数 false positive との比 $tp / (tp + fp)$ で表されます。\n",
        "- 再現率は，正しい正例数 を 正しい正例数と誤った負例値 の和で除したものです $tp/(tp+fn)$\n",
        "- F1 値は，精度と再現率の調和平均です\n",
        "\n",
        "- [Wikipedia entry for the Precision and recall](https://en.wikipedia.org/wiki/Precision_and_recall)\n",
        "- [Wikipedia entry for the F1-score](https://en.wikipedia.org/wiki/F1_score)\n"
      ]
    }
  ]
}