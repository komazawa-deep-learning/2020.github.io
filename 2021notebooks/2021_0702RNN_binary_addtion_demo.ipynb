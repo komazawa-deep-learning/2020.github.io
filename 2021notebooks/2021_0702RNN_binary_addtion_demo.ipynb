{
  "nbformat": 4,
  "nbformat_minor": 0,
  "metadata": {
    "colab": {
      "name": "2021_0702RNN_binary_addtion_demo.ipynb",
      "private_outputs": true,
      "provenance": [],
      "authorship_tag": "ABX9TyOmzDk0urP/UmO0qtc3MYDh",
      "include_colab_link": true
    },
    "kernelspec": {
      "name": "python3",
      "display_name": "Python 3"
    },
    "language_info": {
      "name": "python"
    }
  },
  "cells": [
    {
      "cell_type": "markdown",
      "metadata": {
        "id": "view-in-github",
        "colab_type": "text"
      },
      "source": [
        "<a href=\"https://colab.research.google.com/github/komazawa-deep-learning/komazawa-deep-learning.github.io/blob/master/2021notebooks/2021_0702RNN_binary_addtion_demo.ipynb\" target=\"_parent\"><img src=\"https://colab.research.google.com/assets/colab-badge.svg\" alt=\"Open In Colab\"/></a>"
      ]
    },
    {
      "cell_type": "markdown",
      "metadata": {
        "id": "KV2zzJGmf3Pu"
      },
      "source": [
        "# リカレントニューラルネットワークによる足し算のデモ\n"
      ]
    },
    {
      "cell_type": "code",
      "metadata": {
        "id": "AJEMtS7rWKJz"
      },
      "source": [
        "import numpy as np\n",
        "import sys\n",
        "import copy    # for deepcopy"
      ],
      "execution_count": null,
      "outputs": []
    },
    {
      "cell_type": "code",
      "metadata": {
        "id": "XTU-E7UfWNCe"
      },
      "source": [
        "def sigmoid(x):\n",
        "    return 1./(1.+np.exp(-x))\n",
        "\n",
        "def d_sigmoid(x):\n",
        "    return x * (1.-x)\n",
        "\n",
        "int2binary = {}\n",
        "binary_dim = 8\n",
        "\n",
        "largest_number = pow(2,binary_dim)\n",
        "binary = np.unpackbits(\n",
        "    np.array([range(largest_number)], dtype=np.uint8).T, axis=1)\n",
        "\n",
        "for i in range(largest_number):\n",
        "    int2binary[i] = binary[i]\n",
        "\n",
        "### hyperparameters\n",
        "lr = 0.1\n",
        "iter_max = 2 * 10 ** 4\n",
        "interval = iter_max >> 3\n",
        "n_inp = 2  #入力層ニューロン数\n",
        "n_hid = 8  #中間層ニューロン数\n",
        "n_out = 1  #出力層ニューロン数\n",
        "\n",
        "W_ih = 2 * np.random.random((n_inp, n_hid)) - 1.\n",
        "W_ho = 2 * np.random.random((n_hid, n_out)) - 1.\n",
        "W_hh = 2 * np.random.random((n_hid, n_hid)) - 1.\n",
        "\n",
        "dW_ih = np.zeros_like(W_ih)\n",
        "dW_ho = np.zeros_like(W_ho)\n",
        "dW_hh = np.zeros_like(W_hh)"
      ],
      "execution_count": null,
      "outputs": []
    },
    {
      "cell_type": "code",
      "metadata": {
        "id": "sI8OoqXaWPsG"
      },
      "source": [
        "for i in range(iter_max):\n",
        "    a_int = np.random.randint(largest_number / 2)\n",
        "    a = int2binary[a_int]\n",
        "    b_int = np.random.randint(largest_number / 2)\n",
        "    b = int2binary[b_int]\n",
        "    c_int = a_int + b_int\n",
        "    c = int2binary[c_int]\n",
        "    d = np.zeros_like(c)\n",
        "\n",
        "    total_err = 0\n",
        "    O_deltas = list()\n",
        "    H_list = list()\n",
        "    H_list.append(np.zeros(n_hid))\n",
        "\n",
        "    # forward prop\n",
        "    for pos in range(binary_dim):\n",
        "        k = binary_dim - pos - 1\n",
        "        X = np.array([[a[k], b[k]]])\n",
        "        y = np.array([[c[k]]]).T\n",
        "\n",
        "        H = sigmoid(np.dot(X, W_ih) + np.dot(H_list[-1], W_hh))\n",
        "        O = sigmoid(np.dot(H, W_ho))\n",
        "\n",
        "        Delta = y - O  #誤差の計算 \n",
        "        O_deltas.append((Delta) * d_sigmoid(O))\n",
        "        total_err += np.abs(Delta[0])\n",
        "        \n",
        "        d[k] = np.round(O[0][0])  #予測出力のために d に予測値を保存\n",
        "        H_list.append(copy.deepcopy(H))  # 次の時刻の処理のために中間層の値を保存\n",
        "\n",
        "    # back prop\n",
        "    future_H_delta = np.zeros(n_hid)\n",
        "    for pos in range(binary_dim):\n",
        "        X        = np.array([[a[pos], b[pos]]])\n",
        "        H      = H_list[- pos - 1]\n",
        "        H_prev = H_list[- pos - 2]\n",
        "\n",
        "        O_delta = O_deltas[- pos - 1]\n",
        "        H_delta = (future_H_delta.dot(W_hh.T) + O_delta.dot(W_ho.T)) * d_sigmoid(H)\n",
        "\n",
        "        dW_ho += np.atleast_2d(     H).T.dot(O_delta)\n",
        "        dW_hh += np.atleast_2d(H_prev).T.dot(H_delta)\n",
        "        dW_ih += X.T.dot(H_delta)\n",
        "\n",
        "        future_H_delta = H_delta\n",
        "\n",
        "    W_ho += lr * dW_ho\n",
        "    W_hh += lr * dW_hh\n",
        "    W_ih += lr * dW_ih\n",
        "\n",
        "    dW_ho = 0\n",
        "    dW_hh = 0\n",
        "    dW_ih = 0\n",
        "\n",
        "    if i % interval == 0:\n",
        "        out = 0\n",
        "        for index, x in enumerate(reversed(d)):\n",
        "            out += x * pow(2,index)\n",
        "        print(f'{i:>5d} 誤差: {total_err[0]:.3f}', end=': ')\n",
        "        print(f'{str(a_int)} + {str(b_int)} = {str(out)}')\n",
        "        print(f'予測: {str(d)}')\n",
        "        print(f'正解: {str(c)}')"
      ],
      "execution_count": null,
      "outputs": []
    },
    {
      "cell_type": "code",
      "metadata": {
        "id": "1-cKmgXXXaaW"
      },
      "source": [
        ""
      ],
      "execution_count": null,
      "outputs": []
    },
    {
      "cell_type": "code",
      "metadata": {
        "id": "0GrfhyC3cVIS"
      },
      "source": [
        ""
      ],
      "execution_count": null,
      "outputs": []
    }
  ]
}