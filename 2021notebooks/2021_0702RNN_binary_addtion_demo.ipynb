{
  "nbformat": 4,
  "nbformat_minor": 0,
  "metadata": {
    "colab": {
      "name": "2021_0702RNN_binary_addtion_demo.ipynb",
      "private_outputs": true,
      "provenance": [],
      "authorship_tag": "ABX9TyNXvueAf11dUd1rSVsHEmwP",
      "include_colab_link": true
    },
    "kernelspec": {
      "name": "python3",
      "display_name": "Python 3"
    },
    "language_info": {
      "name": "python"
    }
  },
  "cells": [
    {
      "cell_type": "markdown",
      "metadata": {
        "id": "view-in-github",
        "colab_type": "text"
      },
      "source": [
        "<a href=\"https://colab.research.google.com/github/komazawa-deep-learning/komazawa-deep-learning.github.io/blob/master/2021notebooks/2021_0702RNN_binary_addtion_demo.ipynb\" target=\"_parent\"><img src=\"https://colab.research.google.com/assets/colab-badge.svg\" alt=\"Open In Colab\"/></a>"
      ]
    },
    {
      "cell_type": "markdown",
      "metadata": {
        "id": "KV2zzJGmf3Pu"
      },
      "source": [
        "# リカレントニューラルネットワークによる足し算のデモ\n",
        "\n",
        "- author: 浅川伸一\n",
        "- date: 2021_0702\n",
        "- filename: 2021_0702RNN_binary_addtion_demo.ipynb\n",
        "\n",
        "a + b = ? という足し算を計算する問題\n"
      ]
    },
    {
      "cell_type": "code",
      "metadata": {
        "id": "AJEMtS7rWKJz"
      },
      "source": [
        "import numpy as np\n",
        "import sys\n",
        "import copy    # for deepcopy"
      ],
      "execution_count": null,
      "outputs": []
    },
    {
      "cell_type": "code",
      "metadata": {
        "id": "XTU-E7UfWNCe"
      },
      "source": [
        "def sigmoid(x):\n",
        "    \"\"\"シグモイド関数\"\"\"\n",
        "    return 1./(1.+np.exp(-x))\n",
        "\n",
        "def d_sigmoid(x):\n",
        "    \"\"\"シグモイド関数の微分\"\"\"\n",
        "    return x * (1.-x)\n",
        "\n",
        "binary_dim = 8                       # 2 の 8 乗 = 256 までの自然数について計算する\n",
        "int2bin = {}\n",
        "largest_number = pow(2, binary_dim)  # 最大値\n",
        "binary = np.unpackbits(              # 最大値までを 2 進数として表現しておく\n",
        "    np.array([range(largest_number)], dtype=np.uint8).T, axis=1)\n",
        "\n",
        "for i in range(largest_number):\n",
        "    int2bin[i] = binary[i]\n",
        "\n",
        "# ハイパーパラメータ\n",
        "lr = 0.5     # 学習率 learning ratio\n",
        "iter_max = 5 * 10 ** 3  # 最大繰り返し数\n",
        "interval = iter_max >> 5\n",
        "n_inp = 2    #入力層ニューロン数\n",
        "n_hid = 8    #中間層ニューロン数\n",
        "n_out = 1    #出力層ニューロン数\n",
        "\n",
        "# 推定すべきパラメータ，結合係数の初期値を乱数で初期値\n",
        "W_ih = 2 * np.random.random((n_inp, n_hid)) - 1.  # 入力層から中間層への結合係数\n",
        "W_ho = 2 * np.random.random((n_hid, n_out)) - 1.  # 中間層から出力層への結合係数\n",
        "W_hh = 2 * np.random.random((n_hid, n_hid)) - 1.  # 中間層から中間層への再帰結合\n",
        "\n",
        "# 勾配 (微分) を保存しておくための領域\n",
        "dW_ih = np.zeros_like(W_ih)\n",
        "dW_ho = np.zeros_like(W_ho)\n",
        "dW_hh = np.zeros_like(W_hh)"
      ],
      "execution_count": null,
      "outputs": []
    },
    {
      "cell_type": "code",
      "metadata": {
        "id": "sI8OoqXaWPsG"
      },
      "source": [
        "for i in range(iter_max):\n",
        "    # 乱数を発生させて a, b を定める\n",
        "    a_int = np.random.randint(largest_number / 2)\n",
        "    a = int2bin[a_int]\n",
        "    b_int = np.random.randint(largest_number / 2)\n",
        "    b = int2bin[b_int]\n",
        "    c_int = a_int + b_int  # c 正解\n",
        "    c = int2bin[c_int]\n",
        "    d = np.zeros_like(c)\n",
        "\n",
        "    total_err = 0\n",
        "    O_deltas = list()\n",
        "    H_list = list()\n",
        "    H_list.append(np.zeros(n_hid))\n",
        "\n",
        "    # 前向き処理\n",
        "    for pos in range(binary_dim):\n",
        "        k = binary_dim - pos - 1\n",
        "        X = np.array([[a[k], b[k]]])     # X 入力層表現\n",
        "        y = np.array([[c[k]]]).T         # y 出力層表現\n",
        "\n",
        "        # H 中間層\n",
        "        H = sigmoid(np.dot(X, W_ih) + np.dot(H_list[-1], W_hh))\n",
        "        O = sigmoid(np.dot(H, W_ho))     # O 出力\n",
        "\n",
        "        Delta = y - O                    # 誤差の計算 \n",
        "        O_deltas.append((Delta) * d_sigmoid(O))\n",
        "        total_err += np.mean(Delta[0] ** 2)\n",
        "        \n",
        "        d[k] = np.round(O[0][0])         # 予測出力のために d に予測値を保存\n",
        "        H_list.append(copy.deepcopy(H))  # 次の時刻の処理のために中間層の値を保存\n",
        "\n",
        "    # バックプロパーゲションによる学習\n",
        "    future_H_delta = np.zeros(n_hid)\n",
        "    for pos in range(binary_dim):\n",
        "        X      = np.array([[a[pos], b[pos]]])\n",
        "        H      = H_list[- pos - 1]\n",
        "        H_prev = H_list[- pos - 2]\n",
        "\n",
        "        O_delta = O_deltas[- pos - 1]\n",
        "        H_delta = (future_H_delta.dot(W_hh.T) + O_delta.dot(W_ho.T)) * d_sigmoid(H)\n",
        "\n",
        "        dW_ho += np.atleast_2d(     H).T.dot(O_delta)\n",
        "        dW_hh += np.atleast_2d(H_prev).T.dot(H_delta)\n",
        "        dW_ih += X.T.dot(H_delta)\n",
        "\n",
        "        future_H_delta = H_delta\n",
        "\n",
        "    W_ho += lr * dW_ho  # 結合係数の更新 中間層から出力層への結合係数\n",
        "    W_hh += lr * dW_hh  # 中間層から中間層への結合係数\n",
        "    W_ih += lr * dW_ih  # 入力層から中間層への結合係数\n",
        "\n",
        "    dW_ho, dW_hh, dW_ih = 0, 0, 0  # 再初期化\n",
        "\n",
        "    if i % interval == 0:\n",
        "        out = 0\n",
        "        for index, x in enumerate(reversed(d)):\n",
        "            out += x * pow(2,index)\n",
        "        print(f'反復回数:{i:>5d}, 誤差: {total_err:.3f}', end=' ')\n",
        "        print(f'問題: {a_int} + {b_int} = {c_int}, 予測:{out}') "
      ],
      "execution_count": null,
      "outputs": []
    },
    {
      "cell_type": "code",
      "metadata": {
        "id": "juCE8oNk7OX2"
      },
      "source": [
        ""
      ],
      "execution_count": null,
      "outputs": []
    }
  ]
}