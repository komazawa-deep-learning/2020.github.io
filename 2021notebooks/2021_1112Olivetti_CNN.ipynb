{
 "cells": [
  {
   "cell_type": "markdown",
   "metadata": {
    "colab_type": "text",
    "id": "view-in-github"
   },
   "source": [
    "<a href=\"https://colab.research.google.com/github/komazawa-deep-learning/komazawa-deep-learning.github.io/blob/master/2021notebooks/2021_1112Olivetti_CNN.ipynb\" target=\"_parent\"><img src=\"https://colab.research.google.com/assets/colab-badge.svg\" alt=\"Open In Colab\"/></a>"
   ]
  },
  {
   "cell_type": "markdown",
   "metadata": {
    "id": "yCxEpSiL4EqD"
   },
   "source": [
    "---\n",
    "date: 2021_1112\n",
    "source: https://qiita.com/takubb/items/7d45ae701390912c7629\n",
    "\n",
    "---\n",
    "\n"
   ]
  },
  {
   "cell_type": "code",
   "execution_count": 10,
   "metadata": {
    "id": "10UTMhEV2sm3"
   },
   "outputs": [],
   "source": [
    "import platform\n",
    "isColab = True if platform.system() == 'Linux' else False\n",
    "if isColab:\n",
    "    !pip install japanize_matplotlib > /dev/null 2>&1\n",
    "    !pip install torchsummary > /dev/null 2>&1\n",
    "    !pip install torchviz > /dev/null 2>&1\n",
    "\n",
    "import matplotlib.pyplot as plt\n",
    "import japanize_matplotlib\n",
    "%config InlineBackend.figure_format = 'retina'\n",
    "%matplotlib inline    "
   ]
  },
  {
   "cell_type": "markdown",
   "metadata": {
    "id": "ztPvlhNP3dt3"
   },
   "source": [
    "<center>\n",
    "<img src=\"https://komazawa-deep-learning.github.io/assets/Neocognitron.svg\" width=\"49%\">\n",
    "<img src=\"https://komazawa-deep-learning.github.io/assets/Fukushima.jpeg\" width=\"19%\"><br/>\n",
    "<font size=\"+2\" color=\"blue\">ネオコグニトロン (Fukushima, 1979)</font><br/>\n",
    "</center>    \n",
    "\n",
    "<center>\n",
    "<img src=\"https://komazawa-deep-learning.github.io/assets/1998LeCun_Fig2_CNN.svg\" width=\"66%\"><br/>\n",
    "<font size=\"+2\" color=\"blue\">LeNet5(LeCun, 1998)</font><br/>\n",
    "</center>    \n",
    "\n",
    "<center>\n",
    "<img src=\"https://komazawa-deep-learning.github.io/assets/2012AlexNet_2.svg\" width=\"66%\"><br/>\n",
    "<!-- <img src=\"https://miro.medium.com/max/2812/1*bD_DMBtKwveuzIkQTwjKQQ.png\" width=\"66%\"><br/> -->\n",
    "<font size=\"+2\" color=\"blue\">アレックスネット (Krizensky, et al., 2012)</font><br/>\n",
    "</center>\n",
    "\n",
    "<center>\n",
    "<img src=\"https://komazawa-deep-learning.github.io/assets/imagenet_result2017.png\" width=\"49%\"><br/>\n",
    "<font size=\"+2\" color=\"blue\">年毎のイメージネットコンテストの結果，縦軸は優勝チームのエラー率</font><br/>\n",
    "</center>\n",
    "\n",
    "\n",
    "<!-- https://komazawa-deep-learning.github.io/assets/2019si_conv-demo.mp4 -->\n",
    "<!-- \n",
    "<video width=\"49%\" markdown=\"0\" controls>\n",
    "<source src=\"https://komazawa-deep-learning.github.io/assets/2019si_conv-demo.mp4\" type=\"video/mp4\" markdown=\"0\" >\n",
    "</video>\n",
    "-->\n",
    "\n",
    "<p>\n",
    "<center>\n",
    "<video controls loop>\n",
    "<source src=\"https://komazawa-deep-learning.github.io/assets/2019si_conv-demo.mp4\" type=\"video/mp4\" style=\"width:84%\">\n",
    "</video>\n",
    "</center>\n",
    "</p>"
   ]
  },
  {
   "cell_type": "markdown",
   "metadata": {
    "id": "grEpeaQC6p9-"
   },
   "source": [
    "## 1. CNNの構成\n",
    "\n",
    "CNN は以下のいずれかの層から構成される：\n",
    "\n",
    "* 畳込み層\n",
    "* プーリング層\n",
    "* 完全結合層（通常のニューラルネットワークと正確に同じもの，CNN では最終 1 層または最終 1,2 層に用いる）\n",
    "\n",
    "入力信号はパラメータの値が異なる活性化関数によって非線形変換される。 畳込み層とプーリング層と複数積み重ねることで多層化を実現し，深層ニューラルネットワークとなる。\n",
    "\n",
    "## 2. 畳み込み層\n",
    "\n",
    "`onv2d` のパラメータ: \n",
    "    * in_channels\n",
    "    * out_channels\n",
    "    * kernel_size\n",
    "    * stride\n",
    "    * padding\n",
    "    * dilation\n",
    "\n",
    "\n",
    "* 畳込み層のパラメータは学習可能なフィルタの組\n",
    "* 全フィルタは空間的に（幅と高さに沿って）小さくなる\n",
    "* フィルタは入力信号の深さと同一\n",
    "* 第1層のフィルタサイズは例えば 5×5×3（5 画素分の幅，高さ，と深さ 3（３原色の色チャンネル）\n",
    "* **ストライド**: 各層の順方向の計算は入力信号の幅と高さに沿って各フィルタを水平または垂直方向へスライド\n",
    "フィルタの各値と入力信号の特定の位置の信号との内積（ドット積）。\n",
    "入力信号に沿って水平，垂直方向にフィルタをスライド\n",
    "各空間位置でフィルタの応答を定める 2 次元の活性化地図が生成される\n",
    "学習の結果獲得されるフィルタの形状には、方位検出器，色ブロッブ，生理学的には視覚野のニューロンの応答特性に類似\n",
    "* 上位層のフィルタには複雑な視覚パタンに対応する表象が獲得される\n",
    "* 各畳込み層全体では学習すべき入力信号をすべて網羅するフィルタの集合が形成される\n",
    "* 各フィルタは相異なる 2 次元の活性化地図を形成\n",
    "* 各フィルタの応答特性とみなすことが可能な活性化地図\n",
    "* フィルタの奥行き次元に沿って荷重総和を計算し、出力信号を生成\n",
    "\n",
    "\n",
    "1. 深さ数(フィルタ数)\n",
    "2. ストライド幅\n",
    "3. ゼロパディング\n",
    "\n",
    "#### 1. 出力層ニューロン数のことを出力層の 深さ 数と呼ぶハイパーパラメータである。深さ数とはフィルタ数（カーネル数）とも呼ばれる。第 1 畳込み層が生画像であれば，奥行き次元を構成する各ニューロンによって種々の方位を持つ線分(エッジ検出細胞)や色ブロッブのような特徴表現を獲得可能となる。入力の同じ領域を 深さ列 とするニューロン集団を ファイバ ともいう。\n",
    "#### 2. フィルタを上下左右にずらす幅を ストライド幅 と呼ぶ。ストライド幅が 1 ならフィルタを 1 画素ずつ移動することを意味する。ストライドが 2ならフィルタは一度に 2 画素ずつジャンプさせる。ストライド幅が大きければ入力信号のサンプリング間隔が大きく広がることを意味する。ストライド幅が大きくなれば上位層のニューロン数は減少する。\n",
    "#### 3. 入力の境界上の値をゼロで埋め込むことがある。これを ゼロパディング という。ゼロパディングの量はハイパーパラメータである。ゼロパディングにより出力層ニューロンの数を制御できる。下位層の空間情報を正確に保存するには入力と出力の幅，高さは同じである必要がある。\n",
    "\n",
    "\n",
    "### プーリング\n",
    "\n",
    "CNN では，連続する畳込み層間にプーリング層を挿入するのが一般的。プーリング層の役割は，空間次元の大きさに減少させることである。パラメータ，すなわち計算量を減らし，過学習を制御できる。プーリング層は入力の各深さ毎に独立して動作する。最大値のみをとり他の値を捨てることを マックスプーリング と呼ぶ。サイズが 2x2 のフィルタによるプーリング層では，入力の深さごとに つのダウンサンプルを適用し、幅と高さに沿って2ずつ増やして75％の情報を破棄する。この場合 4 つの数値のうち最大値を採用することになる。\n",
    "\n",
    "<center>\n",
    "<img src=\"https://komazawa-deep-learning.github.io/assets/cnn/maxpool.jpeg\" width=\"49%\"><br/>\n",
    "</center>\n",
    "\n",
    "一般的なダウンサンプリング演算は マックスプーリング である。図では ストライド 2 すなわち 4 つの数値の中の最大値\n",
    "平均プーリング. マックスプーリングではなく L2正則化プーリング を行う場合もある。平均プーリングは歴史的な意味あいがあるがマックスプーリングの方が性能が良いとの報告がある。ある画像位置には物理的に一つの値だけが存在するという視覚情報処理が仮定すべき外界の物理的制約を反映していると文学的に解釈することも可能である。\n",
    "\n",
    "<center>\n",
    "<img src=\"https://komazawa-deep-learning.github.io/assets/cnn/pool.jpeg\" width=\"49%\"><br/>\n",
    "</center>"
   ]
  },
  {
   "cell_type": "code",
   "execution_count": null,
   "metadata": {
    "id": "tIHZH0yB4YKz"
   },
   "outputs": [],
   "source": [
    "import torch\n",
    "import torchvision\n",
    "\n",
    "alexnet = torchvision.models.alexnet(pretrained=True)\n",
    "\n",
    "import torchsummary\n",
    "#torchsummary.summary(alexnet, input_size=(3,224,224))\n",
    "\n",
    "import torchviz\n",
    "x = torch.rand([1,3,255,255])\n",
    "y = alexnet.forward(x)\n",
    "torchviz.make_dot(y.mean(), params=dict(alexnet.named_parameters()))"
   ]
  },
  {
   "cell_type": "code",
   "execution_count": 2,
   "metadata": {
    "id": "YJZrdGnR4Sr7"
   },
   "outputs": [
    {
     "name": "stdout",
     "output_type": "stream",
     "text": [
      "None\n"
     ]
    }
   ],
   "source": [
    "import torch\n",
    "import torch.nn as nn\n",
    "import torch.optim as optim\n",
    "import torch.nn.functional as F\n",
    "\n",
    "import random\n",
    "import numpy as np\n",
    "import matplotlib.pyplot as plt\n",
    "\n",
    "# from tqdm import tqdm  #コマンドラインで実行するとき\n",
    "from tqdm.notebook import tqdm  # jupyter で実行するとき\n",
    "\n",
    "# リソースの選択（CPU/GPU）\n",
    "device = torch.device(\"cuda:0\" if torch.cuda.is_available() else \"cpu\")\n",
    "\n",
    "# 乱数シード固定（再現性の担保）\n",
    "def fix_seed(seed):\n",
    "    random.seed(seed)\n",
    "    np.random.seed(seed)\n",
    "    torch.manual_seed(seed)\n",
    "    torch.cuda.manual_seed_all(seed)\n",
    "    torch.backends.cudnn.deterministic = True\n",
    "    torch.backends.cudnn.benchmark = False\n",
    "\n",
    "seed = 42\n",
    "fix_seed(seed)\n",
    "\n",
    "# データローダーのサブプロセスの乱数の seed を固定\n",
    "def worker_init_fn(worker_id):\n",
    "    np.random.seed(np.random.get_state()[1][0] + worker_id)\n",
    "\n",
    "print(worker_init_fn(1))"
   ]
  },
  {
   "cell_type": "code",
   "execution_count": 4,
   "metadata": {
    "id": "TO2mvOlo3sO5"
   },
   "outputs": [
    {
     "name": "stdout",
     "output_type": "stream",
     "text": [
      "X_train 訓練画像のサイズ: (320, 4096)\n",
      "y_train 教師信号データのサイズ: (320,)\n"
     ]
    }
   ],
   "source": [
    "import sys\n",
    "from sklearn.datasets import fetch_olivetti_faces\n",
    "\n",
    "data = fetch_olivetti_faces()\n",
    "X, y = data.data, data.target\n",
    "\n",
    "from sklearn.model_selection import train_test_split\n",
    "# split_ratio = 0.1 としているので，訓練データ対テストデータが 8:2 になります\n",
    "split_ratio = 0.2\n",
    "X_train, X_test, y_train, y_test = train_test_split(X, y,\n",
    "                                                    test_size=split_ratio, \n",
    "                                                    stratify=y,\n",
    "                                                    random_state=0)\n",
    "print(f'X_train 訓練画像のサイズ: {X_train.shape}')\n",
    "print(f'y_train 教師信号データのサイズ: {y_train.shape}')"
   ]
  },
  {
   "cell_type": "code",
   "execution_count": 5,
   "metadata": {
    "id": "MT_uPfD039dR"
   },
   "outputs": [],
   "source": [
    "# データセットの作成\n",
    "class Mydataset(torch.utils.data.Dataset):\n",
    "    def __init__(self, X, y):\n",
    "        self.X = X\n",
    "        self.y = y\n",
    "\n",
    "    def __len__(self):\n",
    "        return len(self.X)\n",
    "\n",
    "    def __getitem__(self, index):\n",
    "        feature = self.X[index]\n",
    "        label = self.y[index]\n",
    "        return feature, label\n",
    "\n",
    "\n",
    "X_ = torch.tensor(X_train).float()\n",
    "X_ = torch.reshape(torch.tensor(X_train).float(), (-1,1,64,64))\n",
    "y_ = torch.tensor(y_train).long()\n",
    "Xtest_ = torch.tensor(X_test).float().reshape(-1,1,64,64)\n",
    "ytest_ = torch.tensor(y_test).long()\n",
    "\n",
    "#train_dataset = Mydataset(train_X, train_y)\n",
    "#test_dataset = Mydataset(test_X, test_y)\n",
    "train_dataset = Mydataset(X_, y_)\n",
    "test_dataset = Mydataset(Xtest_, ytest_)\n",
    "\n",
    "# データローダーの作成\n",
    "train_dataloader = torch.utils.data.DataLoader(train_dataset,\n",
    "                                               batch_size=128,   # バッチサイズ\n",
    "                                               shuffle=True,     # データシャッフル\n",
    "                                               num_workers=0,    # 高速化\n",
    "                                               pin_memory=True,  # 高速化\n",
    "                                               worker_init_fn=worker_init_fn\n",
    "                                              )\n",
    "test_dataloader = torch.utils.data.DataLoader(test_dataset,\n",
    "                                              batch_size=128,\n",
    "                                              shuffle=False,\n",
    "                                              num_workers=0,\n",
    "                                              pin_memory=True,\n",
    "                                              worker_init_fn=worker_init_fn\n",
    "                                             )"
   ]
  },
  {
   "cell_type": "code",
   "execution_count": 6,
   "metadata": {
    "id": "xyZ0IBMT4z77"
   },
   "outputs": [],
   "source": [
    "# モデルの定義\n",
    "class Mymodel_olivetti(nn.Module):\n",
    "    def __init__(self):\n",
    "        super().__init__()\n",
    "        self.conv1 = torch.nn.Sequential(nn.Conv2d(in_channels=1, \n",
    "                                                   out_channels=16, \n",
    "                                                   kernel_size=3, \n",
    "                                                   stride=1,\n",
    "                                                   padding=1,\n",
    "                                                  ),\n",
    "                                         nn.BatchNorm2d(16),\n",
    "                                         nn.MaxPool2d(kernel_size=3, stride=1, padding=1),\n",
    "                                         nn.ReLU())\n",
    "        \n",
    "        self.conv2 = torch.nn.Sequential(nn.Conv2d(in_channels=16, \n",
    "                                                   out_channels=16, \n",
    "                                                   kernel_size=3, \n",
    "                                                   stride=1,\n",
    "                                                   padding=1,\n",
    "                                                  ),\n",
    "                                         nn.BatchNorm2d(16),\n",
    "                                         nn.MaxPool2d(kernel_size=3, stride=1, padding=1),\n",
    "                                         nn.ReLU())\n",
    "\n",
    "        self.fc1 = nn.Linear(16 * 64 * 64, 100)\n",
    "        self.dropout = nn.Dropout(0.5)\n",
    "        self.fc2 = torch.nn.Linear(100, 40)\n",
    "\n",
    "    def forward(self, x):\n",
    "        x = self.conv1(x)\n",
    "        x = self.conv2(x)\n",
    "        x = x.view(x.size(0), -1)\n",
    "        x = self.fc1(x)\n",
    "        x = self.dropout(x)\n",
    "        x = self.fc2(x)\n",
    "        return x"
   ]
  },
  {
   "cell_type": "code",
   "execution_count": null,
   "metadata": {
    "id": "b9esoj6644Tt"
   },
   "outputs": [],
   "source": [
    "model = Mymodel_olivetti()\n",
    "from torchsummary import summary\n",
    "#summary(model, input_size=(1, 64, 64))\n",
    "\n",
    "x = torch.rand([1,1,64,64])\n",
    "y = model.forward(x)\n",
    "torchviz.make_dot(y.mean(), params=dict(model.named_parameters()))"
   ]
  },
  {
   "cell_type": "code",
   "execution_count": 8,
   "metadata": {
    "id": "Nb4lYEUc469z"
   },
   "outputs": [],
   "source": [
    "# モデル・損失関数・最適化アルゴリスムの設定\n",
    "model = Mymodel_olivetti().to(device)\n",
    "loss_f = nn.CrossEntropyLoss()\n",
    "#optimizer = optim.SGD(model.parameters(), lr=0.01)\n",
    "optimizer = optim.Adam(model.parameters(), weight_decay=0.01)\n",
    "\n",
    "# モデル訓練関数\n",
    "def train_(model, train_loader, test_loader):\n",
    "    train_losses, test_losses = [], []\n",
    "\n",
    "    # Train loop ----------------------------\n",
    "    model.train()  # 学習モードをオン\n",
    "    for data, label in train_loader:\n",
    "        # device (CPU, GPU) への転送\n",
    "        data, label = data.to(device), label.to(device)\n",
    "        optimizer.zero_grad() # 1. 勾配のリセット\n",
    "        output = model(data) # 2. 推論\n",
    "        loss = loss_f(output, label) # 3. 誤差計算\n",
    "        loss.backward()  # 4. 誤差逆伝播\n",
    "        optimizer.step() # 5. パラメータ更新\n",
    "        train_losses.append(loss.item()) # train_lossの取得\n",
    "\n",
    "    # Test(val) loop ----------------------------\n",
    "    model.eval()  # 学習モードをオフ\n",
    "    with torch.no_grad():  # 勾配を計算なし\n",
    "        for data, label in test_loader:\n",
    "            data, label = data.to(device), label.to(device)\n",
    "            output = model(data)\n",
    "            loss = loss_f(output, label)\n",
    "            test_losses.append(loss.item())\n",
    "\n",
    "    return np.mean(train_losses), np.mean(test_losses)"
   ]
  },
  {
   "cell_type": "code",
   "execution_count": null,
   "metadata": {
    "id": "op5rN3qc49iL"
   },
   "outputs": [],
   "source": [
    "# 訓練の実行\n",
    "epoch = 20\n",
    "train_loss = []\n",
    "test_loss = []\n",
    "\n",
    "for epoch in tqdm(range(epoch)):\n",
    "    _train_loss, _test_loss = train_(model, train_dataloader, test_dataloader)\n",
    "    train_loss.append(_train_loss)\n",
    "    test_loss.append(_test_loss)\n",
    "\n",
    "\n",
    "# 学習進行状況の描画\n",
    "plt.plot(train_loss, label='訓練損失')\n",
    "plt.plot(test_loss, label='テスト損失')\n",
    "plt.legend()"
   ]
  },
  {
   "cell_type": "code",
   "execution_count": null,
   "metadata": {},
   "outputs": [],
   "source": []
  }
 ],
 "metadata": {
  "accelerator": "GPU",
  "colab": {
   "authorship_tag": "ABX9TyNx2eCkO67kWjec5+pg6ile",
   "include_colab_link": true,
   "name": "2021_1112Olivetti_CNN.ipynb",
   "private_outputs": true,
   "provenance": []
  },
  "kernelspec": {
   "display_name": "Python 3 (ipykernel)",
   "language": "python",
   "name": "python3"
  },
  "language_info": {
   "codemirror_mode": {
    "name": "ipython",
    "version": 3
   },
   "file_extension": ".py",
   "mimetype": "text/x-python",
   "name": "python",
   "nbconvert_exporter": "python",
   "pygments_lexer": "ipython3",
   "version": "3.9.12"
  },
  "widgets": {
   "application/vnd.jupyter.widget-state+json": {
    "state": {
     "0090b03cf9954e26a5492e56ceacbef2": {
      "model_module": "@jupyter-widgets/controls",
      "model_module_version": "1.5.0",
      "model_name": "FloatProgressModel",
      "state": {
       "bar_style": "success",
       "layout": "IPY_MODEL_6b06d622abdf4b129502da5e6fee3114",
       "max": 20,
       "style": "IPY_MODEL_c645439e81af4ce0baf2dfa2737204df",
       "value": 20
      }
     },
     "16785738efab431b831453823a590c73": {
      "model_module": "@jupyter-widgets/base",
      "model_module_version": "1.2.0",
      "model_name": "LayoutModel",
      "state": {}
     },
     "3528b9c3d23e4449bf4920c1caba5083": {
      "model_module": "@jupyter-widgets/base",
      "model_module_version": "1.2.0",
      "model_name": "LayoutModel",
      "state": {}
     },
     "6b06d622abdf4b129502da5e6fee3114": {
      "model_module": "@jupyter-widgets/base",
      "model_module_version": "1.2.0",
      "model_name": "LayoutModel",
      "state": {}
     },
     "9d3e76f5c4cc45a784b61e9be3409dda": {
      "model_module": "@jupyter-widgets/controls",
      "model_module_version": "1.5.0",
      "model_name": "DescriptionStyleModel",
      "state": {
       "description_width": ""
      }
     },
     "b4f661b77f5146f59ae9a0de64357a6a": {
      "model_module": "@jupyter-widgets/controls",
      "model_module_version": "1.5.0",
      "model_name": "HBoxModel",
      "state": {
       "children": [
        "IPY_MODEL_e0cbbd677df84043966c9fd5a1361474",
        "IPY_MODEL_0090b03cf9954e26a5492e56ceacbef2",
        "IPY_MODEL_d0f8e8ba11394217a125469aaedb9259"
       ],
       "layout": "IPY_MODEL_b584064a270e4d378ab536c54b695646"
      }
     },
     "b584064a270e4d378ab536c54b695646": {
      "model_module": "@jupyter-widgets/base",
      "model_module_version": "1.2.0",
      "model_name": "LayoutModel",
      "state": {}
     },
     "b6869be83e5c43339597ab6a2e07b7a7": {
      "model_module": "@jupyter-widgets/controls",
      "model_module_version": "1.5.0",
      "model_name": "DescriptionStyleModel",
      "state": {
       "description_width": ""
      }
     },
     "c645439e81af4ce0baf2dfa2737204df": {
      "model_module": "@jupyter-widgets/controls",
      "model_module_version": "1.5.0",
      "model_name": "ProgressStyleModel",
      "state": {
       "description_width": ""
      }
     },
     "d0f8e8ba11394217a125469aaedb9259": {
      "model_module": "@jupyter-widgets/controls",
      "model_module_version": "1.5.0",
      "model_name": "HTMLModel",
      "state": {
       "layout": "IPY_MODEL_3528b9c3d23e4449bf4920c1caba5083",
       "style": "IPY_MODEL_9d3e76f5c4cc45a784b61e9be3409dda",
       "value": " 20/20 [00:38&lt;00:00,  1.89s/it]"
      }
     },
     "e0cbbd677df84043966c9fd5a1361474": {
      "model_module": "@jupyter-widgets/controls",
      "model_module_version": "1.5.0",
      "model_name": "HTMLModel",
      "state": {
       "layout": "IPY_MODEL_16785738efab431b831453823a590c73",
       "style": "IPY_MODEL_b6869be83e5c43339597ab6a2e07b7a7",
       "value": "100%"
      }
     }
    },
    "version_major": 2,
    "version_minor": 0
   }
  }
 },
 "nbformat": 4,
 "nbformat_minor": 4
}
