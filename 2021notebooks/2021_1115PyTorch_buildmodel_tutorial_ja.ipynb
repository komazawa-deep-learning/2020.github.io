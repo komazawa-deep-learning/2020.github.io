{
  "cells": [
    {
      "cell_type": "markdown",
      "metadata": {
        "id": "view-in-github",
        "colab_type": "text"
      },
      "source": [
        "<a href=\"https://colab.research.google.com/github/komazawa-deep-learning/komazawa-deep-learning.github.io/blob/master/2021notebooks/2021_1115PyTorch_buildmodel_tutorial_ja.ipynb\" target=\"_parent\"><img src=\"https://colab.research.google.com/assets/colab-badge.svg\" alt=\"Open In Colab\"/></a>"
      ]
    },
    {
      "cell_type": "code",
      "execution_count": 2,
      "metadata": {
        "id": "SEO17a5-Au8r"
      },
      "outputs": [],
      "source": [
        "%matplotlib inline"
      ]
    },
    {
      "cell_type": "markdown",
      "metadata": {
        "id": "mLaaJ6wXAu8u"
      },
      "source": [
        "# ニューラルネットワークの構築\n",
        "<!-- # Build the Neural Network -->\n",
        "\n",
        "ニューラルネットワークは、データに対して演算を行う層やモジュールで構成されています。\n",
        "[torch.nn](https://pytorch.org/docs/stable/nn.html) 名前空間は、独自のニューラルネットワークを構築するために必要なすべてのビルディングブロックを提供します。\n",
        "独自のニューラルネットワークを構築するために必要なすべてのビルディングブロックを提供します。\n",
        "PyTorch の全てのモジュールは [nn.Module](https://pytorch.org/docs/stable/generated/torch.nn.Module.html) をサブクラス化しています。\n",
        "ニューラルネットワークは、モジュール自体が他のモジュール(層)で構成されています。\n",
        "この入れ子構造により、複雑なアーキテクチャを簡単に構築・管理することができます。\n",
        "\n",
        "次節では FashionMNIST データセットの画像を分類するためのニューラルネットワークを構築します。\n",
        "<!--\n",
        "Neural networks comprise of layers/modules that perform operations on data.\n",
        "The [torch.nn](https://pytorch.org/docs/stable/nn.html) namespace provides all the building blocks you need to\n",
        "build your own neural network.\n",
        "Every module in PyTorch subclasses the [nn.Module](https://pytorch.org/docs/stable/generated/torch.nn.Module.html).\n",
        "A neural network is a module itself that consists of other modules (layers).\n",
        "This nested structure allows for building and managing complex architectures easily.\n",
        "\n",
        "In the following sections, we'll build a neural network to classify images in the FashionMNIST dataset.\n",
        "-->\n"
      ]
    },
    {
      "cell_type": "code",
      "execution_count": 3,
      "metadata": {
        "id": "Mf2bZ2yKAu8v"
      },
      "outputs": [],
      "source": [
        "import os\n",
        "import torch\n",
        "from torch import nn\n",
        "from torch.utils.data import DataLoader\n",
        "from torchvision import datasets, transforms"
      ]
    },
    {
      "cell_type": "markdown",
      "metadata": {
        "id": "KS26YLwqAu8v"
      },
      "source": [
        "# 1. 学習用デバイスの入手\n",
        "<!-- # 1. Get Device for Training -->\n",
        "\n",
        "利用可能であれば ハードウェアアクセラレータ GPU でモデルを学習できるようにします。\n",
        "利用可能かどうか確認してみましょう。\n",
        "[torch.cuda](https://pytorch.org/docs/stable/notes/cuda.html)が利用可能かどうかを確認します。\n",
        "そうでなければ，引き続き CPU を使用します。\n",
        "<!--\n",
        "We want to be able to train our model on a hardware accelerator like the GPU,\n",
        "if it is available. Let's check to see if\n",
        "[torch.cuda](https://pytorch.org/docs/stable/notes/cuda.html) is available, else we continue to use the CPU.\n",
        "-->\n"
      ]
    },
    {
      "cell_type": "code",
      "execution_count": 4,
      "metadata": {
        "colab": {
          "base_uri": "https://localhost:8080/"
        },
        "id": "01ajvyc7Au8w",
        "outputId": "ab0b1437-5572-4d61-cbd9-947604f634b2"
      },
      "outputs": [
        {
          "output_type": "stream",
          "name": "stdout",
          "text": [
            "Using cpu device\n"
          ]
        }
      ],
      "source": [
        "device = 'cuda' if torch.cuda.is_available() else 'cpu'\n",
        "print(f'Using {device} device')"
      ]
    },
    {
      "cell_type": "markdown",
      "metadata": {
        "id": "IDCHHsYzAu8w"
      },
      "source": [
        "# 2. クラスの定義\n",
        "<!-- # Define the Class -->\n",
        "\n",
        "ニューラルネットワークを定義するには、`nn.Module`をサブクラス化し、`__init__`でニューラルネットワークの層を初期化します。\n",
        "すべての `nn.Module` サブクラスは、入力データに対する操作を `forward` メソッドで実装します。\n",
        "<!--\n",
        "We define our neural network by subclassing `nn.Module`, and initialize the neural network layers in `__init__`.\n",
        "Every `nn.Module` subclass implements the operations on input data in the `forward` method.\n",
        "-->\n",
        "\n"
      ]
    },
    {
      "cell_type": "code",
      "execution_count": 5,
      "metadata": {
        "id": "UpjlPyKyAu8w"
      },
      "outputs": [],
      "source": [
        "class NeuralNetwork(nn.Module):\n",
        "    def __init__(self):\n",
        "        super().__init__()\n",
        "        self.flatten = nn.Flatten()\n",
        "        self.linear_relu_stack = nn.Sequential(\n",
        "            nn.Linear(in_features=28*28, out_features=512),\n",
        "            nn.ReLU(),\n",
        "            nn.Linear(in_features=512, out_features=512),\n",
        "            nn.ReLU(),\n",
        "            nn.Linear(in_features=512, out_features=10),\n",
        "        )\n",
        "\n",
        "    def forward(self, x):\n",
        "        x = self.flatten(x)\n",
        "        logits = self.linear_relu_stack(x)\n",
        "        return logits"
      ]
    },
    {
      "cell_type": "markdown",
      "metadata": {
        "id": "icS5W9-FAu8x"
      },
      "source": [
        "`NeuralNetwork` の実体(インスタンス)を作成し，それを `デバイス` に移動させ，その構造を表示します。\n",
        "<!-- We create an instance of `NeuralNetwork`, and move it to the `device`, and print its structure. -->\n",
        "\n"
      ]
    },
    {
      "cell_type": "code",
      "execution_count": 6,
      "metadata": {
        "colab": {
          "base_uri": "https://localhost:8080/"
        },
        "id": "cb1qLzIGAu8x",
        "outputId": "9a774120-157d-4681-ad17-d6f55d4facda"
      },
      "outputs": [
        {
          "output_type": "stream",
          "name": "stdout",
          "text": [
            "NeuralNetwork(\n",
            "  (flatten): Flatten(start_dim=1, end_dim=-1)\n",
            "  (linear_relu_stack): Sequential(\n",
            "    (0): Linear(in_features=784, out_features=512, bias=True)\n",
            "    (1): ReLU()\n",
            "    (2): Linear(in_features=512, out_features=512, bias=True)\n",
            "    (3): ReLU()\n",
            "    (4): Linear(in_features=512, out_features=10, bias=True)\n",
            "  )\n",
            ")\n"
          ]
        }
      ],
      "source": [
        "model = NeuralNetwork().to(device)\n",
        "print(model)"
      ]
    },
    {
      "cell_type": "markdown",
      "metadata": {
        "id": "tsMdhfm4Au8x"
      },
      "source": [
        "モデルを使用するには，入力データを渡します。\n",
        "これにより，モデルの `forward` が実行されます。\n",
        "いくつかの [バックグラウンド操作](https://github.com/pytorch/pytorch/blob/270111b7b611d174967ed204776985cefca9c144/torch/nn/modules/module.py#L866) が実行されます。\n",
        "`model.forward()` を直接呼び出さない!\n",
        "\n",
        "入力に対してモデルを呼び出すと，各クラスの生の予測値を持つ 10 次元のテンソルが返されます。\n",
        "これを `nn.Softmax` モジュールのインスタンスに渡すことで，予測確率を得ることができます．\n",
        "\n",
        "<!-- To use the model, we pass it the input data.\n",
        "This executes the model's `forward`,\n",
        "along with some [background operations](https://github.com/pytorch/pytorch/blob/270111b7b611d174967ed204776985cefca9c144/torch/nn/modules/module.py#L866).\n",
        "Do not call `model.forward()` directly!\n",
        "\n",
        "Calling the model on the input returns a 10-dimensional tensor with raw predicted values for each class.\n",
        "We get the prediction probabilities by passing it through an instance of the `nn.Softmax` module.\n",
        "-->\n"
      ]
    },
    {
      "cell_type": "code",
      "execution_count": 7,
      "metadata": {
        "id": "BTW2fdBNAu8y",
        "outputId": "d95967f3-fe2c-4dcf-999a-56dbd71159fd",
        "colab": {
          "base_uri": "https://localhost:8080/"
        }
      },
      "outputs": [
        {
          "output_type": "stream",
          "name": "stdout",
          "text": [
            "Predicted class: tensor([1])\n"
          ]
        }
      ],
      "source": [
        "X = torch.rand(1, 28, 28, device=device)\n",
        "logits = model(X)\n",
        "pred_probab = nn.Softmax(dim=1)(logits)\n",
        "y_pred = pred_probab.argmax(1)\n",
        "print(f\"Predicted class: {y_pred}\")"
      ]
    },
    {
      "cell_type": "markdown",
      "metadata": {
        "id": "rmCYAUSQAu8y"
      },
      "source": [
        "# 3. モデルの層\n",
        "<!-- # 3. Model Layers -->\n",
        "\n",
        "FashionMNIST モデルの層を分解してみましょう。\n",
        "それを説明するために サイズ 28x28 の 3 枚の画像のサンプルミニバッチを取り，それをネットワークに通すとどうなるかを見てみましょう。\n",
        "<!--\n",
        "Let's break down the layers in the FashionMNIST model. To illustrate it, we will take a sample minibatch of 3 images of size 28x28 and see what happens to it as we pass it through the network.\n",
        "-->\n"
      ]
    },
    {
      "cell_type": "code",
      "execution_count": 8,
      "metadata": {
        "colab": {
          "base_uri": "https://localhost:8080/"
        },
        "id": "_CB3QM4hAu8z",
        "outputId": "6c3f9a90-d454-4831-8872-462a7ed44bd0"
      },
      "outputs": [
        {
          "output_type": "stream",
          "name": "stdout",
          "text": [
            "torch.Size([3, 28, 28])\n"
          ]
        }
      ],
      "source": [
        "input_image = torch.rand(3,28,28)\n",
        "print(input_image.size())"
      ]
    },
    {
      "cell_type": "markdown",
      "metadata": {
        "id": "XKb7lFyLAu8z"
      },
      "source": [
        "## 3.1 `nn.Flatten` (フラット化)\n",
        "<!-- ## 3.1 `nn.Flatten` -->\n",
        "\n",
        "[nn.Flatten](https://pytorch.org/docs/stable/generated/torch.nn.Flatten.html) 層を初期化して，各 2D 28x28 画像を 784 画素値の連続した配列に変換します (ミニバッチの次元(dim=0) は維持されます)。\n",
        "<!--\n",
        "We initialize the [nn.Flatten](https://pytorch.org/docs/stable/generated/torch.nn.Flatten.html) layer to convert each 2D 28x28 image into a contiguous array of 784 pixel values (the minibatch dimension (at dim=0) is maintained).\n",
        "-->\n"
      ]
    },
    {
      "cell_type": "code",
      "execution_count": 9,
      "metadata": {
        "id": "VDICdelyAu8z",
        "outputId": "c5d47d0d-a346-4a1e-fc90-8071a6c5b5c8",
        "colab": {
          "base_uri": "https://localhost:8080/"
        }
      },
      "outputs": [
        {
          "output_type": "stream",
          "name": "stdout",
          "text": [
            "torch.Size([3, 784])\n"
          ]
        }
      ],
      "source": [
        "flatten = nn.Flatten()\n",
        "flat_image = flatten(input_image)\n",
        "print(flat_image.size())"
      ]
    },
    {
      "cell_type": "markdown",
      "metadata": {
        "id": "muN1Gni0Au8z"
      },
      "source": [
        "## 3.2 `nn.Linear` (線形層)\n",
        "<!-- ## 3.2 `nn.Linear` -->\n",
        "\n",
        "[線形層 `nn.Linear`](https://pytorch.org/docs/stable/generated/torch.nn.Linear.html)は、保存されている重みとバイアスを使って、入力に線形変換を施すモジュールです。\n",
        "<!--\n",
        "The [linear layer](https://pytorch.org/docs/stable/generated/torch.nn.Linear.html) is a module that applies a linear transformation on the input using its stored weights and biases.\n",
        "-->\n"
      ]
    },
    {
      "cell_type": "code",
      "execution_count": 10,
      "metadata": {
        "id": "OpmVL_dVAu8z",
        "outputId": "5c9be0a2-9d33-430d-8afb-3f2199800635",
        "colab": {
          "base_uri": "https://localhost:8080/"
        }
      },
      "outputs": [
        {
          "output_type": "stream",
          "name": "stdout",
          "text": [
            "torch.Size([3, 20])\n"
          ]
        }
      ],
      "source": [
        "layer1 = nn.Linear(in_features=28*28, out_features=20)\n",
        "hidden1 = layer1(flat_image)\n",
        "print(hidden1.size())"
      ]
    },
    {
      "cell_type": "markdown",
      "metadata": {
        "id": "ksqEEdJ8Au80"
      },
      "source": [
        "## 3.3 `nn.ReLU`\n",
        "<!-- ## 3.3 `nn.ReLU` -->\n",
        "\n",
        "非線形活性化は、モデルの入力と出力の間の複雑なマッピングを作成するものです。\n",
        "非線形活性化は、線形変換の後に適用され **非線形性** を導入することで， ニューラルネットワークが様々な現象を学習するのに役立ちます。\n",
        "\n",
        "このモデルでは、線形層の間に[nn.ReLU](https://pytorch.org/docs/stable/generated/torch.nn.ReLU.html) を使用していますが、あなたのモデルに非線形性を導入するための他の活性化もあります。\n",
        "<!--\n",
        "Non-linear activations are what create the complex mappings between the model's inputs and outputs.\n",
        "They are applied after linear transformations to introduce *nonlinearity*, helping neural networks learn a wide variety of phenomena.\n",
        "\n",
        "In this model, we use [nn.ReLU](https://pytorch.org/docs/stable/generated/torch.nn.ReLU.html) between our linear layers, but there's other activations to introduce non-linearity in your model.\n",
        "-->\n"
      ]
    },
    {
      "cell_type": "code",
      "execution_count": 11,
      "metadata": {
        "id": "0_MO-xqYAu80",
        "outputId": "affd7c5b-b95e-45d0-8e8c-6656e56595d7",
        "colab": {
          "base_uri": "https://localhost:8080/"
        }
      },
      "outputs": [
        {
          "output_type": "stream",
          "name": "stdout",
          "text": [
            "Before ReLU: tensor([[ 0.0164,  0.0068, -0.0688, -0.3474,  1.0098,  0.3071,  0.0642,  0.1231,\n",
            "         -0.2681,  0.1012,  0.1702, -0.2182, -0.2421, -0.1387, -0.3107, -0.0147,\n",
            "         -0.8642, -0.0408,  0.2425,  0.1562],\n",
            "        [-0.0765,  0.0067, -0.1491, -0.2185,  0.8195,  0.2339, -0.1014,  0.1614,\n",
            "         -0.1320, -0.0910, -0.1317, -0.1122, -0.0556, -0.3113, -0.1277, -0.2402,\n",
            "         -0.5289,  0.0612,  0.0986,  0.4332],\n",
            "        [-0.0998,  0.0032, -0.1580, -0.1235,  0.8659,  0.3138, -0.0412,  0.1041,\n",
            "         -0.1272, -0.3823, -0.3463,  0.0685, -0.2107, -0.3384, -0.0709,  0.0417,\n",
            "         -0.8557,  0.1341,  0.3449,  0.4534]], grad_fn=<AddmmBackward0>)\n",
            "\n",
            "\n",
            "After ReLU: tensor([[0.0164, 0.0068, 0.0000, 0.0000, 1.0098, 0.3071, 0.0642, 0.1231, 0.0000,\n",
            "         0.1012, 0.1702, 0.0000, 0.0000, 0.0000, 0.0000, 0.0000, 0.0000, 0.0000,\n",
            "         0.2425, 0.1562],\n",
            "        [0.0000, 0.0067, 0.0000, 0.0000, 0.8195, 0.2339, 0.0000, 0.1614, 0.0000,\n",
            "         0.0000, 0.0000, 0.0000, 0.0000, 0.0000, 0.0000, 0.0000, 0.0000, 0.0612,\n",
            "         0.0986, 0.4332],\n",
            "        [0.0000, 0.0032, 0.0000, 0.0000, 0.8659, 0.3138, 0.0000, 0.1041, 0.0000,\n",
            "         0.0000, 0.0000, 0.0685, 0.0000, 0.0000, 0.0000, 0.0417, 0.0000, 0.1341,\n",
            "         0.3449, 0.4534]], grad_fn=<ReluBackward0>)\n"
          ]
        }
      ],
      "source": [
        "print(f\"Before ReLU: {hidden1}\\n\\n\")\n",
        "hidden1 = nn.ReLU()(hidden1)\n",
        "print(f\"After ReLU: {hidden1}\")"
      ]
    },
    {
      "cell_type": "markdown",
      "metadata": {
        "id": "jO1XAhBgAu80"
      },
      "source": [
        "## 3.4 `nn.Sequential`\n",
        "<!-- ## `nn.Sequential` -->\n",
        "\n",
        "[nn.Sequential](https://pytorch.org/docs/stable/generated/torch.nn.Sequential.html)は、モジュールの順序付きコンテナです。\n",
        "データは定義されているのと同じ順番ですべてのモジュールに渡されます。\n",
        "シーケンシャルコンテナを使って、`seq_modules`のような素早いネットワークを組むことができます。\n",
        "<!--\n",
        "[nn.Sequential](https://pytorch.org/docs/stable/generated/torch.nn.Sequential.html) is an ordered container of modules.\n",
        "The data is passed through all the modules in the same order as defined.\n",
        "You can use sequential containers to put together a quick network like `seq_modules`.\n",
        "-->\n"
      ]
    },
    {
      "cell_type": "code",
      "execution_count": 12,
      "metadata": {
        "id": "QW8hXBfJAu80"
      },
      "outputs": [],
      "source": [
        "seq_modules = nn.Sequential(\n",
        "    flatten,\n",
        "    layer1,\n",
        "    nn.ReLU(),\n",
        "    nn.Linear(20, 10)\n",
        ")\n",
        "input_image = torch.rand(3,28,28)\n",
        "logits = seq_modules(input_image)"
      ]
    },
    {
      "cell_type": "markdown",
      "metadata": {
        "id": "fYs72ijDAu80"
      },
      "source": [
        "## 3.5 `nn.Softmax`\n",
        "<!-- ## `nn.Softmax` -->\n",
        "\n",
        "ニューラルネットワークの最後の線形層は $[-\\infty, \\infty]$ の生の値である`logits`を返し，これは[nn.Softmax](https://pytorch.org/docs/stable/generated/torch.nn.Softmax.html) モジュールに渡されます。\n",
        "logits は，各クラスに対するモデルの予測確率を表す値 [0, 1] にスケーリングされます。\n",
        "`dim`パラメータは， 値の合計が 1 になるような次元を示します。\n",
        "<!--\n",
        "The last linear layer of the neural network returns `logits` - raw values in $[-\\infty, \\infty]$ - which are passed to the [nn.Softmax](https://pytorch.org/docs/stable/generated/torch.nn.Softmax.html) module.\n",
        "The logits are scaled to values [0, 1] representing the model's predicted probabilities for each class.\n",
        "`dim` parameter indicates the dimension along which the values must sum to 1.\n",
        "-->\n",
        "\n"
      ]
    },
    {
      "cell_type": "code",
      "execution_count": 13,
      "metadata": {
        "id": "5LXAbo0sAu80"
      },
      "outputs": [],
      "source": [
        "softmax = nn.Softmax(dim=1)\n",
        "pred_probab = softmax(logits)"
      ]
    },
    {
      "cell_type": "markdown",
      "metadata": {
        "id": "5jBMWYJ9Au81"
      },
      "source": [
        "# 4. モデルパラメータ\n",
        "<!-- # Model Parameters -->\n",
        "\n",
        "ニューラルネットワークの多くの層は、パラメータ化されています。つまり、学習時に最適化される重みやバイアスが関連付けられています。nn.Module`をサブクラス化すると、モデルオブジェクト内で定義されたすべてのフィールドが自動的に追跡され、モデルの`parameters()`や`named'\n",
        "モデルの `parameters()` や `named_parameters()` メソッドを使って、すべてのパラメータにアクセスできるようになります。\n",
        "\n",
        "この例では，各パラメータを繰り返し処理し，そのサイズと値のプレビューを表示しています．\n",
        "<!--\n",
        "Many layers inside a neural network are *parameterized*, i.e. have associated weights and biases that are optimized during training. Subclassing `nn.Module` automatically tracks all fields defined inside your model object, and makes all parameters\n",
        "accessible using your model's `parameters()` or `named_parameters()` methods.\n",
        "\n",
        "In this example, we iterate over each parameter, and print its size and a preview of its values.\n",
        "-->"
      ]
    },
    {
      "cell_type": "code",
      "execution_count": 14,
      "metadata": {
        "id": "Uj8SdK7aAu81",
        "outputId": "6327f82a-6b8b-4efa-b8b9-3f7f9707290c",
        "colab": {
          "base_uri": "https://localhost:8080/"
        }
      },
      "outputs": [
        {
          "output_type": "stream",
          "name": "stdout",
          "text": [
            "Model structure:  NeuralNetwork(\n",
            "  (flatten): Flatten(start_dim=1, end_dim=-1)\n",
            "  (linear_relu_stack): Sequential(\n",
            "    (0): Linear(in_features=784, out_features=512, bias=True)\n",
            "    (1): ReLU()\n",
            "    (2): Linear(in_features=512, out_features=512, bias=True)\n",
            "    (3): ReLU()\n",
            "    (4): Linear(in_features=512, out_features=10, bias=True)\n",
            "  )\n",
            ") \n",
            "\n",
            "\n",
            "Layer: linear_relu_stack.0.weight | Size: torch.Size([512, 784]) | Values : tensor([[ 0.0282, -0.0050,  0.0042,  ...,  0.0194,  0.0116, -0.0230],\n",
            "        [ 0.0221,  0.0282,  0.0008,  ..., -0.0308, -0.0311, -0.0300]],\n",
            "       grad_fn=<SliceBackward0>) \n",
            "\n",
            "Layer: linear_relu_stack.0.bias | Size: torch.Size([512]) | Values : tensor([-0.0318, -0.0277], grad_fn=<SliceBackward0>) \n",
            "\n",
            "Layer: linear_relu_stack.2.weight | Size: torch.Size([512, 512]) | Values : tensor([[ 0.0176, -0.0298, -0.0257,  ...,  0.0238, -0.0412, -0.0093],\n",
            "        [ 0.0057, -0.0297,  0.0008,  ...,  0.0438,  0.0334,  0.0141]],\n",
            "       grad_fn=<SliceBackward0>) \n",
            "\n",
            "Layer: linear_relu_stack.2.bias | Size: torch.Size([512]) | Values : tensor([0.0080, 0.0234], grad_fn=<SliceBackward0>) \n",
            "\n",
            "Layer: linear_relu_stack.4.weight | Size: torch.Size([10, 512]) | Values : tensor([[-0.0097, -0.0395, -0.0201,  ...,  0.0273, -0.0384, -0.0130],\n",
            "        [-0.0325,  0.0044,  0.0324,  ..., -0.0001, -0.0347,  0.0321]],\n",
            "       grad_fn=<SliceBackward0>) \n",
            "\n",
            "Layer: linear_relu_stack.4.bias | Size: torch.Size([10]) | Values : tensor([0.0264, 0.0314], grad_fn=<SliceBackward0>) \n",
            "\n"
          ]
        }
      ],
      "source": [
        "print(\"Model structure: \", model, \"\\n\\n\")\n",
        "\n",
        "for name, param in model.named_parameters():\n",
        "    print(f\"Layer: {name} | Size: {param.size()} | Values : {param[:2]} \\n\")"
      ]
    },
    {
      "cell_type": "markdown",
      "metadata": {
        "id": "7GIWi2imAu81"
      },
      "source": [
        "--------------\n",
        "\n",
        "\n"
      ]
    },
    {
      "cell_type": "markdown",
      "metadata": {
        "id": "obfYdVM1Au81"
      },
      "source": [
        "# Further Reading\n",
        "\n",
        "- [torch.nn API](https://pytorch.org/docs/stable/nn.html)\n",
        "\n"
      ]
    },
    {
      "cell_type": "code",
      "execution_count": null,
      "metadata": {
        "id": "oMBuAvSzA_yX"
      },
      "outputs": [],
      "source": []
    }
  ],
  "metadata": {
    "colab": {
      "name": "2021_1115PyTorch_buildmodel_tutorial_ja.ipynb",
      "provenance": [],
      "toc_visible": true,
      "include_colab_link": true
    },
    "kernelspec": {
      "display_name": "Python 3 (ipykernel)",
      "language": "python",
      "name": "python3"
    },
    "language_info": {
      "codemirror_mode": {
        "name": "ipython",
        "version": 3
      },
      "file_extension": ".py",
      "mimetype": "text/x-python",
      "name": "python",
      "nbconvert_exporter": "python",
      "pygments_lexer": "ipython3",
      "version": "3.9.13"
    }
  },
  "nbformat": 4,
  "nbformat_minor": 0
}