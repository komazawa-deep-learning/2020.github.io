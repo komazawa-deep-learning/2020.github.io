{
  "nbformat": 4,
  "nbformat_minor": 0,
  "metadata": {
    "kernelspec": {
      "display_name": "Python 3",
      "language": "python",
      "name": "python3"
    },
    "language_info": {
      "codemirror_mode": {
        "name": "ipython",
        "version": 3
      },
      "file_extension": ".py",
      "mimetype": "text/x-python",
      "name": "python",
      "nbconvert_exporter": "python",
      "pygments_lexer": "ipython3",
      "version": "3.6.13"
    },
    "colab": {
      "name": "2021_1115PyTorch_buildmodel_tutorial_ja.ipynb",
      "provenance": [],
      "toc_visible": true,
      "include_colab_link": true
    }
  },
  "cells": [
    {
      "cell_type": "markdown",
      "metadata": {
        "id": "view-in-github",
        "colab_type": "text"
      },
      "source": [
        "<a href=\"https://colab.research.google.com/github/komazawa-deep-learning/komazawa-deep-learning.github.io/blob/master/2021notebooks/2021_1115PyTorch_buildmodel_tutorial_ja.ipynb\" target=\"_parent\"><img src=\"https://colab.research.google.com/assets/colab-badge.svg\" alt=\"Open In Colab\"/></a>"
      ]
    },
    {
      "cell_type": "code",
      "metadata": {
        "id": "SEO17a5-Au8r"
      },
      "source": [
        "%matplotlib inline"
      ],
      "execution_count": null,
      "outputs": []
    },
    {
      "cell_type": "markdown",
      "metadata": {
        "id": "mLaaJ6wXAu8u"
      },
      "source": [
        "# ニューラルネットワークの構築\n",
        "<!-- # Build the Neural Network -->\n",
        "\n",
        "ニューラルネットワークは、データに対して演算を行う層やモジュールで構成されています。\n",
        "[torch.nn](https://pytorch.org/docs/stable/nn.html) 名前空間は、独自のニューラルネットワークを構築するために必要なすべてのビルディングブロックを提供します。\n",
        "独自のニューラルネットワークを構築するために必要なすべてのビルディングブロックを提供します。\n",
        "PyTorch の全てのモジュールは [nn.Module](https://pytorch.org/docs/stable/generated/torch.nn.Module.html) をサブクラス化しています。\n",
        "ニューラルネットワークは、モジュール自体が他のモジュール(層)で構成されています。\n",
        "この入れ子構造により、複雑なアーキテクチャを簡単に構築・管理することができます。\n",
        "\n",
        "次節では FashionMNIST データセットの画像を分類するためのニューラルネットワークを構築します。\n",
        "<!-- \n",
        "Neural networks comprise of layers/modules that perform operations on data.\n",
        "The [torch.nn](https://pytorch.org/docs/stable/nn.html) namespace provides all the building blocks you need to\n",
        "build your own neural network. \n",
        "Every module in PyTorch subclasses the [nn.Module](https://pytorch.org/docs/stable/generated/torch.nn.Module.html).\n",
        "A neural network is a module itself that consists of other modules (layers). \n",
        "This nested structure allows for building and managing complex architectures easily.\n",
        "\n",
        "In the following sections, we'll build a neural network to classify images in the FashionMNIST dataset.\n",
        "-->\n"
      ]
    },
    {
      "cell_type": "code",
      "metadata": {
        "id": "Mf2bZ2yKAu8v"
      },
      "source": [
        "import os\n",
        "import torch\n",
        "from torch import nn\n",
        "from torch.utils.data import DataLoader\n",
        "from torchvision import datasets, transforms"
      ],
      "execution_count": null,
      "outputs": []
    },
    {
      "cell_type": "markdown",
      "metadata": {
        "id": "KS26YLwqAu8v"
      },
      "source": [
        "# 1. 学習用デバイスの入手\n",
        "<!-- # 1. Get Device for Training -->\n",
        "\n",
        "利用可能であれば ハードウェアアクセラレータ GPU でモデルを学習できるようにします。\n",
        "利用可能かどうか確認してみましょう。\n",
        "[torch.cuda](https://pytorch.org/docs/stable/notes/cuda.html)が利用可能かどうかを確認します。\n",
        "そうでなければ，引き続き CPU を使用します。\n",
        "<!--\n",
        "We want to be able to train our model on a hardware accelerator like the GPU,\n",
        "if it is available. Let's check to see if\n",
        "[torch.cuda](https://pytorch.org/docs/stable/notes/cuda.html) is available, else we continue to use the CPU.\n",
        "-->\n"
      ]
    },
    {
      "cell_type": "code",
      "metadata": {
        "id": "01ajvyc7Au8w",
        "colab": {
          "base_uri": "https://localhost:8080/"
        },
        "outputId": "9af0c333-6e9a-4421-a349-bad9e4a1ef89"
      },
      "source": [
        "device = 'cuda' if torch.cuda.is_available() else 'cpu'\n",
        "print('Using {} device'.format(device))"
      ],
      "execution_count": null,
      "outputs": [
        {
          "output_type": "stream",
          "name": "stdout",
          "text": [
            "Using cpu device\n"
          ]
        }
      ]
    },
    {
      "cell_type": "markdown",
      "metadata": {
        "id": "IDCHHsYzAu8w"
      },
      "source": [
        "# 2. クラスの定義\n",
        "<!-- # Define the Class -->\n",
        "\n",
        "ニューラルネットワークを定義するには、`nn.Module`をサブクラス化し、`__init__`でニューラルネットワークの層を初期化します。\n",
        "すべての `nn.Module` サブクラスは、入力データに対する操作を `forward` メソッドで実装します。\n",
        "<!--\n",
        "We define our neural network by subclassing `nn.Module`, and initialize the neural network layers in `__init__`. \n",
        "Every `nn.Module` subclass implements the operations on input data in the `forward` method. \n",
        "-->\n",
        "\n"
      ]
    },
    {
      "cell_type": "code",
      "metadata": {
        "id": "UpjlPyKyAu8w"
      },
      "source": [
        "class NeuralNetwork(nn.Module):\n",
        "    def __init__(self):\n",
        "        super(NeuralNetwork, self).__init__()\n",
        "        self.flatten = nn.Flatten()\n",
        "        self.linear_relu_stack = nn.Sequential(\n",
        "            nn.Linear(28*28, 512),\n",
        "            nn.ReLU(),\n",
        "            nn.Linear(512, 512),\n",
        "            nn.ReLU(),\n",
        "            nn.Linear(512, 10),\n",
        "        )\n",
        "\n",
        "    def forward(self, x):\n",
        "        x = self.flatten(x)\n",
        "        logits = self.linear_relu_stack(x)\n",
        "        return logits"
      ],
      "execution_count": null,
      "outputs": []
    },
    {
      "cell_type": "markdown",
      "metadata": {
        "id": "icS5W9-FAu8x"
      },
      "source": [
        "`NeuralNetwork` の実体(インスタンス)を作成し，それを `デバイス` に移動させ，その構造を表示します。\n",
        "<!-- We create an instance of `NeuralNetwork`, and move it to the `device`, and print its structure. -->\n",
        "\n"
      ]
    },
    {
      "cell_type": "code",
      "metadata": {
        "id": "cb1qLzIGAu8x",
        "colab": {
          "base_uri": "https://localhost:8080/"
        },
        "outputId": "3c4b1834-8d9a-4d41-db47-9fb1218313b1"
      },
      "source": [
        "model = NeuralNetwork().to(device)\n",
        "print(model)"
      ],
      "execution_count": null,
      "outputs": [
        {
          "output_type": "stream",
          "name": "stdout",
          "text": [
            "NeuralNetwork(\n",
            "  (flatten): Flatten(start_dim=1, end_dim=-1)\n",
            "  (linear_relu_stack): Sequential(\n",
            "    (0): Linear(in_features=784, out_features=512, bias=True)\n",
            "    (1): ReLU()\n",
            "    (2): Linear(in_features=512, out_features=512, bias=True)\n",
            "    (3): ReLU()\n",
            "    (4): Linear(in_features=512, out_features=10, bias=True)\n",
            "  )\n",
            ")\n"
          ]
        }
      ]
    },
    {
      "cell_type": "markdown",
      "metadata": {
        "id": "tsMdhfm4Au8x"
      },
      "source": [
        "モデルを使用するには，入力データを渡します。\n",
        "これにより，モデルの `forward` が実行されます。\n",
        "いくつかの [バックグラウンド操作](https://github.com/pytorch/pytorch/blob/270111b7b611d174967ed204776985cefca9c144/torch/nn/modules/module.py#L866) が実行されます。\n",
        "`model.forward()` を直接呼び出さない!\n",
        "\n",
        "入力に対してモデルを呼び出すと，各クラスの生の予測値を持つ 10 次元のテンソルが返されます。\n",
        "これを `nn.Softmax` モジュールのインスタンスに渡すことで，予測確率を得ることができます．\n",
        "\n",
        "<!-- To use the model, we pass it the input data. \n",
        "This executes the model's `forward`,\n",
        "along with some [background operations](https://github.com/pytorch/pytorch/blob/270111b7b611d174967ed204776985cefca9c144/torch/nn/modules/module.py#L866).\n",
        "Do not call `model.forward()` directly!\n",
        "\n",
        "Calling the model on the input returns a 10-dimensional tensor with raw predicted values for each class.\n",
        "We get the prediction probabilities by passing it through an instance of the `nn.Softmax` module.\n",
        "-->\n"
      ]
    },
    {
      "cell_type": "code",
      "metadata": {
        "id": "BTW2fdBNAu8y"
      },
      "source": [
        "X = torch.rand(1, 28, 28, device=device)\n",
        "logits = model(X)\n",
        "pred_probab = nn.Softmax(dim=1)(logits)\n",
        "y_pred = pred_probab.argmax(1)\n",
        "print(f\"Predicted class: {y_pred}\")"
      ],
      "execution_count": null,
      "outputs": []
    },
    {
      "cell_type": "markdown",
      "metadata": {
        "id": "pnxSfTUiAu8y"
      },
      "source": [
        "--------------\n",
        "\n",
        "\n"
      ]
    },
    {
      "cell_type": "markdown",
      "metadata": {
        "id": "rmCYAUSQAu8y"
      },
      "source": [
        "# 3. モデルの層\n",
        "<!-- # 3. Model Layers -->\n",
        "\n",
        "FashionMNIST モデルの層を分解してみましょう。\n",
        "それを説明するために サイズ 28x28 の 3 枚の画像のサンプルミニバッチを取り，それをネットワークに通すとどうなるかを見てみましょう。\n",
        "<!--\n",
        "Let's break down the layers in the FashionMNIST model. To illustrate it, we will take a sample minibatch of 3 images of size 28x28 and see what happens to it as we pass it through the network.\n",
        "-->\n"
      ]
    },
    {
      "cell_type": "code",
      "metadata": {
        "id": "_CB3QM4hAu8z",
        "colab": {
          "base_uri": "https://localhost:8080/"
        },
        "outputId": "35e48368-d573-43fc-dc36-5cce56ab0c1a"
      },
      "source": [
        "input_image = torch.rand(3,28,28)\n",
        "print(input_image.size())"
      ],
      "execution_count": null,
      "outputs": [
        {
          "output_type": "stream",
          "name": "stdout",
          "text": [
            "torch.Size([3, 28, 28])\n"
          ]
        }
      ]
    },
    {
      "cell_type": "markdown",
      "metadata": {
        "id": "XKb7lFyLAu8z"
      },
      "source": [
        "## 3.1 `nn.Flatten` (フラット化)\n",
        "<!-- ## 3.1 `nn.Flatten` -->\n",
        "\n",
        "[nn.Flatten](https://pytorch.org/docs/stable/generated/torch.nn.Flatten.html) 層を初期化して，各 2D 28x28 画像を 784 画素値の連続した配列に変換します (ミニバッチの次元(dim=0) は維持されます)。\n",
        "<!--\n",
        "We initialize the [nn.Flatten](https://pytorch.org/docs/stable/generated/torch.nn.Flatten.html) layer to convert each 2D 28x28 image into a contiguous array of 784 pixel values (the minibatch dimension (at dim=0) is maintained).\n",
        "-->\n"
      ]
    },
    {
      "cell_type": "code",
      "metadata": {
        "id": "VDICdelyAu8z"
      },
      "source": [
        "flatten = nn.Flatten()\n",
        "flat_image = flatten(input_image)\n",
        "print(flat_image.size())"
      ],
      "execution_count": null,
      "outputs": []
    },
    {
      "cell_type": "markdown",
      "metadata": {
        "id": "muN1Gni0Au8z"
      },
      "source": [
        "## 3.2 `nn.Linear` (線形層)\n",
        "<!-- ## 3.2 `nn.Linear` -->\n",
        "\n",
        "[線形層 `nn.Linear`](https://pytorch.org/docs/stable/generated/torch.nn.Linear.html)は、保存されている重みとバイアスを使って、入力に線形変換を施すモジュールです。\n",
        "<!--\n",
        "The [linear layer](https://pytorch.org/docs/stable/generated/torch.nn.Linear.html) is a module that applies a linear transformation on the input using its stored weights and biases.\n",
        "-->\n"
      ]
    },
    {
      "cell_type": "code",
      "metadata": {
        "id": "OpmVL_dVAu8z"
      },
      "source": [
        "layer1 = nn.Linear(in_features=28*28, out_features=20)\n",
        "hidden1 = layer1(flat_image)\n",
        "print(hidden1.size())"
      ],
      "execution_count": null,
      "outputs": []
    },
    {
      "cell_type": "markdown",
      "metadata": {
        "id": "ksqEEdJ8Au80"
      },
      "source": [
        "## 3.3 `nn.ReLU`\n",
        "<!-- ## 3.3 `nn.ReLU` -->\n",
        "\n",
        "非線形活性化は、モデルの入力と出力の間の複雑なマッピングを作成するものです。\n",
        "非線形活性化は、線形変換の後に適用され **非線形性** を導入することで， ニューラルネットワークが様々な現象を学習するのに役立ちます。\n",
        "\n",
        "このモデルでは、線形層の間に[nn.ReLU](https://pytorch.org/docs/stable/generated/torch.nn.ReLU.html) を使用していますが、あなたのモデルに非線形性を導入するための他の活性化もあります。\n",
        "<!--\n",
        "Non-linear activations are what create the complex mappings between the model's inputs and outputs. \n",
        "They are applied after linear transformations to introduce *nonlinearity*, helping neural networks learn a wide variety of phenomena.\n",
        "\n",
        "In this model, we use [nn.ReLU](https://pytorch.org/docs/stable/generated/torch.nn.ReLU.html) between our linear layers, but there's other activations to introduce non-linearity in your model.\n",
        "-->\n"
      ]
    },
    {
      "cell_type": "code",
      "metadata": {
        "id": "0_MO-xqYAu80"
      },
      "source": [
        "print(f\"Before ReLU: {hidden1}\\n\\n\")\n",
        "hidden1 = nn.ReLU()(hidden1)\n",
        "print(f\"After ReLU: {hidden1}\")"
      ],
      "execution_count": null,
      "outputs": []
    },
    {
      "cell_type": "markdown",
      "metadata": {
        "id": "jO1XAhBgAu80"
      },
      "source": [
        "## 3.4 `nn.Sequential`\n",
        "<!-- ## `nn.Sequential` -->\n",
        "\n",
        "[nn.Sequential](https://pytorch.org/docs/stable/generated/torch.nn.Sequential.html)は、モジュールの順序付きコンテナです。\n",
        "データは定義されているのと同じ順番ですべてのモジュールに渡されます。\n",
        "シーケンシャルコンテナを使って、`seq_modules`のような素早いネットワークを組むことができます。\n",
        "<!--\n",
        "[nn.Sequential](https://pytorch.org/docs/stable/generated/torch.nn.Sequential.html) is an ordered container of modules. \n",
        "The data is passed through all the modules in the same order as defined. \n",
        "You can use sequential containers to put together a quick network like `seq_modules`.\n",
        "-->\n"
      ]
    },
    {
      "cell_type": "code",
      "metadata": {
        "id": "QW8hXBfJAu80"
      },
      "source": [
        "seq_modules = nn.Sequential(\n",
        "    flatten,\n",
        "    layer1,\n",
        "    nn.ReLU(),\n",
        "    nn.Linear(20, 10)\n",
        ")\n",
        "input_image = torch.rand(3,28,28)\n",
        "logits = seq_modules(input_image)"
      ],
      "execution_count": null,
      "outputs": []
    },
    {
      "cell_type": "markdown",
      "metadata": {
        "id": "fYs72ijDAu80"
      },
      "source": [
        "## 3.5 `nn.Softmax`\n",
        "<!-- ## `nn.Softmax` -->\n",
        "\n",
        "ニューラルネットワークの最後の線形層は $[-\\infty, \\infty]$ の生の値である`logits`を返し，これは[nn.Softmax](https://pytorch.org/docs/stable/generated/torch.nn.Softmax.html) モジュールに渡されます。\n",
        "logits は，各クラスに対するモデルの予測確率を表す値 [0, 1] にスケーリングされます。\n",
        "`dim`パラメータは， 値の合計が 1 になるような次元を示します。\n",
        "<!--\n",
        "The last linear layer of the neural network returns `logits` - raw values in $[-\\infty, \\infty]$ - which are passed to the [nn.Softmax](https://pytorch.org/docs/stable/generated/torch.nn.Softmax.html) module. \n",
        "The logits are scaled to values [0, 1] representing the model's predicted probabilities for each class. \n",
        "`dim` parameter indicates the dimension along which the values must sum to 1. \n",
        "-->\n",
        "\n"
      ]
    },
    {
      "cell_type": "code",
      "metadata": {
        "id": "5LXAbo0sAu80"
      },
      "source": [
        "softmax = nn.Softmax(dim=1)\n",
        "pred_probab = softmax(logits)"
      ],
      "execution_count": null,
      "outputs": []
    },
    {
      "cell_type": "markdown",
      "metadata": {
        "id": "5jBMWYJ9Au81"
      },
      "source": [
        "# 4. モデルパラメータ\n",
        "<!-- # Model Parameters -->\n",
        "\n",
        "ニューラルネットワークの多くの層は、パラメータ化されています。つまり、学習時に最適化される重みやバイアスが関連付けられています。nn.Module`をサブクラス化すると、モデルオブジェクト内で定義されたすべてのフィールドが自動的に追跡され、モデルの`parameters()`や`named'\n",
        "モデルの `parameters()` や `named_parameters()` メソッドを使って、すべてのパラメータにアクセスできるようになります。\n",
        "\n",
        "この例では，各パラメータを繰り返し処理し，そのサイズと値のプレビューを表示しています．\n",
        "<!--\n",
        "Many layers inside a neural network are *parameterized*, i.e. have associated weights and biases that are optimized during training. Subclassing `nn.Module` automatically tracks all fields defined inside your model object, and makes all parameters\n",
        "accessible using your model's `parameters()` or `named_parameters()` methods.\n",
        "\n",
        "In this example, we iterate over each parameter, and print its size and a preview of its values.\n",
        "-->"
      ]
    },
    {
      "cell_type": "code",
      "metadata": {
        "id": "Uj8SdK7aAu81"
      },
      "source": [
        "print(\"Model structure: \", model, \"\\n\\n\")\n",
        "\n",
        "for name, param in model.named_parameters():\n",
        "    print(f\"Layer: {name} | Size: {param.size()} | Values : {param[:2]} \\n\")"
      ],
      "execution_count": null,
      "outputs": []
    },
    {
      "cell_type": "markdown",
      "metadata": {
        "id": "7GIWi2imAu81"
      },
      "source": [
        "--------------\n",
        "\n",
        "\n"
      ]
    },
    {
      "cell_type": "markdown",
      "metadata": {
        "id": "obfYdVM1Au81"
      },
      "source": [
        "# Further Reading\n",
        "\n",
        "- [torch.nn API](https://pytorch.org/docs/stable/nn.html)\n",
        "\n"
      ]
    },
    {
      "cell_type": "code",
      "metadata": {
        "id": "oMBuAvSzA_yX"
      },
      "source": [
        ""
      ],
      "execution_count": null,
      "outputs": []
    }
  ]
}