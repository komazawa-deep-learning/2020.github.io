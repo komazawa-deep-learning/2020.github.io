{
  "nbformat": 4,
  "nbformat_minor": 0,
  "metadata": {
    "colab": {
      "name": "2021_0625 CycleGAN_demo.ipynb",
      "provenance": [],
      "collapsed_sections": [],
      "include_colab_link": true
    },
    "kernelspec": {
      "name": "python3",
      "display_name": "Python 3"
    },
    "accelerator": "GPU"
  },
  "cells": [
    {
      "cell_type": "markdown",
      "metadata": {
        "id": "view-in-github",
        "colab_type": "text"
      },
      "source": [
        "<a href=\"https://colab.research.google.com/github/komazawa-deep-learning/komazawa-deep-learning.github.io/blob/master/2021notebooks/2021_0625_CycleGAN_demo.ipynb\" target=\"_parent\"><img src=\"https://colab.research.google.com/assets/colab-badge.svg\" alt=\"Open In Colab\"/></a>"
      ]
    },
    {
      "cell_type": "markdown",
      "metadata": {
        "id": "5VIGyIus8Vr7"
      },
      "source": [
        "# CycleGAN による フェイク画像の生成\n",
        "- date: 2021_0625\n",
        "- Original: [repository](https://github.com/junyanz/pytorch-CycleGAN-and-pix2pix)"
      ]
    },
    {
      "cell_type": "markdown",
      "metadata": {
        "id": "7wNjDKdQy35h"
      },
      "source": [
        "# インストール (Install)"
      ]
    },
    {
      "cell_type": "code",
      "metadata": {
        "id": "TRm-USlsHgEV"
      },
      "source": [
        "#GitHub からコードを持ってきます\n",
        "!git clone https://github.com/junyanz/pytorch-CycleGAN-and-pix2pix"
      ],
      "execution_count": null,
      "outputs": []
    },
    {
      "cell_type": "code",
      "metadata": {
        "id": "Pt3igws3eiVp"
      },
      "source": [
        "#上で持ってきた GitHub のコードを用いて必要なライブラリをインストールする準備\n",
        "import os\n",
        "os.chdir('pytorch-CycleGAN-and-pix2pix/')"
      ],
      "execution_count": null,
      "outputs": []
    },
    {
      "cell_type": "code",
      "metadata": {
        "id": "z1EySlOXwwoa"
      },
      "source": [
        "#必要なライブラリのインストール\n",
        "!pip install -r requirements.txt"
      ],
      "execution_count": null,
      "outputs": []
    },
    {
      "cell_type": "markdown",
      "metadata": {
        "id": "8daqlgVhw29P"
      },
      "source": [
        "# データセットのダウンロード (Datasets)\n",
        "\n",
        "CycleGAN の公式データセット集からダウンロードします。\n",
        "ダウンロードできるデータセットは，以下のうちから一つ選びます:\n",
        "- apple2orange, リンゴからオレンジへの変換\n",
        "- summer2winter_yosemite,  ヨセミテ公園の夏から冬への変換\n",
        "- horse2zebra, ウマからシマウマへの変換\n",
        "- monet2photo, モネの絵画から写真への変換\n",
        "- cezanne2photo, セザンヌの絵画から写真への変換\n",
        "- ukiyoe2photo, 浮世絵から写真への変換\n",
        "- vangogh2photo, ゴッホの絵画から写真への変換\n",
        "- maps, 地図\n",
        "- cityscapes, 市街図\n",
        "- facades, ビルの正面図\n",
        "- iphone2dslr_flower, \n",
        "- ae_photos\n",
        "\n",
        "<!-- \n",
        "Download one of the official datasets with:\n",
        "\n",
        "-   `bash ./datasets/download_cyclegan_dataset.sh [apple2orange, orange2apple, summer2winter_yosemite, winter2summer_yosemite, horse2zebra, zebra2horse, monet2photo, style_monet, style_cezanne, style_ukiyoe, style_vangogh, sat2map, map2sat, cityscapes_photo2label, cityscapes_label2photo, facades_photo2label, facades_label2photo, iphone2dslr_flower]` \n",
        "-->\n",
        "\n",
        "あるいは，自分でデータを集めて試すこともできます。\n",
        "その場合には，次の手順が必要です:\n",
        "- `/dataset` フォルダの下に自分のデータセットフォルダを作成する\n",
        "- `testA`, `testB`, `trainA`, `trainB` という下位フォルダを作成する\n",
        "- a から b へ変換するための，訓練データ画像とテストデータ画像とを，上に挙げたの下位フォルダの下に置きます。\n",
        "\n",
        "<!-- Or use your own dataset by creating the appropriate folders and adding in the images.\n",
        "\n",
        "-   Create a dataset folder under `/dataset` for your dataset.\n",
        "-   Create subfolders `testA`, `testB`, `trainA`, and `trainB` under your dataset's folder. Place any images you want to transform from a to b (cat2dog) in the `testA` folder, images you want to transform from b to a (dog2cat) in the `testB` folder, and do the same for the `trainA` and `trainB` folders. -->"
      ]
    },
    {
      "cell_type": "code",
      "metadata": {
        "id": "vrdOettJxaCc"
      },
      "source": [
        "#!bash ./datasets/download_cyclegan_dataset.sh horse2zebra\n",
        "!bash ./datasets/download_cyclegan_dataset.sh ukiyoe2photo"
      ],
      "execution_count": null,
      "outputs": []
    },
    {
      "cell_type": "markdown",
      "metadata": {
        "id": "gdUz4116xhpm"
      },
      "source": [
        "# 訓練済モデルのダウンロード (Pretrained models)\n",
        "\n",
        "訓練済モデルをダウンロードします:\n",
        "ダウンロードするモデルは，上のデータセットに対応している必要があります\n",
        "\n",
        "<!-- Download one of the official pretrained models with:\n",
        "\n",
        "-   `bash ./scripts/download_cyclegan_model.sh [apple2orange, orange2apple, summer2winter_yosemite, winter2summer_yosemite, horse2zebra, zebra2horse, monet2photo, style_monet, style_cezanne, style_ukiyoe, style_vangogh, sat2map, map2sat, cityscapes_photo2label, cityscapes_label2photo, facades_photo2label, facades_label2photo, iphone2dslr_flower]` -->\n",
        "\n",
        "あるいは，自分のモデルを試す場合には，自分で訓練したパラメータファイルを `./checkpoints/{NAME}_pretrained/latest_net_G.pt`\n",
        "に置きます。\n",
        "\n",
        "<!-- \n",
        "Or add your own pretrained model to `./checkpoints/{NAME}_pretrained/latest_net_G.pt` -->\n",
        "\n",
        "浅川による注記: 2021年6月現在，以下の訓練済モデルが使えるようです:\n",
        "\n",
        "- http://efrosgans.eecs.berkeley.edu/cyclegan/pretrained_models/apple2orange.pth\n",
        "- http://efrosgans.eecs.berkeley.edu/cyclegan/pretrained_models/cityscapes_label2photo.pth\n",
        "- http://efrosgans.eecs.berkeley.edu/cyclegan/pretrained_models/cityscapes_photo2label.pth\n",
        "- http://efrosgans.eecs.berkeley.edu/cyclegan/pretrained_models/facades_label2photo.pth\n",
        "- http://efrosgans.eecs.berkeley.edu/cyclegan/pretrained_models/facades_photo2label.pth\n",
        "- http://efrosgans.eecs.berkeley.edu/cyclegan/pretrained_models/horse2zebra.pth\n",
        "- http://efrosgans.eecs.berkeley.edu/cyclegan/pretrained_models/iphone2dslr_flower.pth\n",
        "- http://efrosgans.eecs.berkeley.edu/cyclegan/pretrained_models/map2sat.pth\n",
        "- http://efrosgans.eecs.berkeley.edu/cyclegan/pretrained_models/monet2photo.pth\n",
        "- http://efrosgans.eecs.berkeley.edu/cyclegan/pretrained_models/orange2apple.pth\n",
        "- http://efrosgans.eecs.berkeley.edu/cyclegan/pretrained_models/sat2map.pth\n",
        "- http://efrosgans.eecs.berkeley.edu/cyclegan/pretrained_models/style_cezanne.pth\n",
        "- http://efrosgans.eecs.berkeley.edu/cyclegan/pretrained_models/style_monet.pth\n",
        "- http://efrosgans.eecs.berkeley.edu/cyclegan/pretrained_models/style_ukiyoe.pth\n",
        "- http://efrosgans.eecs.berkeley.edu/cyclegan/pretrained_models/style_vangogh.pth\n",
        "- http://efrosgans.eecs.berkeley.edu/cyclegan/pretrained_models/summer2winter_yosemite.pth\n",
        "- http://efrosgans.eecs.berkeley.edu/cyclegan/pretrained_models/winter2summer_yosemite.pth\n",
        "- http://efrosgans.eecs.berkeley.edu/cyclegan/pretrained_models/zebra2horse.pth\n"
      ]
    },
    {
      "cell_type": "code",
      "metadata": {
        "id": "B75UqtKhxznS"
      },
      "source": [
        "#!bash ./scripts/download_cyclegan_model.sh horse2zebra\n",
        "!bash ./scripts/download_cyclegan_model.sh style_ukiyoe"
      ],
      "execution_count": null,
      "outputs": []
    },
    {
      "cell_type": "markdown",
      "metadata": {
        "id": "yFw1kDQBx3LN"
      },
      "source": [
        "# 訓練 (Training)\n",
        "\n",
        "以下のオンラインコマンドを実行します\n",
        "\n",
        "-   `python train.py --dataroot ./datasets/horse2zebra --name horse2zebra --model cycle_gan`\n",
        "\n",
        "ここで，`--dataroot` と `--name` とを自分のモデルに合わせて変更してください。\n",
        "\n",
        "<!-- \n",
        "Change the `--dataroot` and `--name` to your own dataset's path and model's name. \n",
        "Use `--gpu_ids 0,1,..` to train on multiple GPUs and `--batch_size` to change the batch size. \n",
        "I've found that a batch size of 16 fits onto 4 V100s and can finish training an epoch in ~90s. -->\n",
        "\n",
        "\n",
        "モデルの訓練が終わったら，最後のチェックポイントを、テストモデルが自動的に検出できるフォーマットに上書きコピーします。\n",
        "\n",
        "- クラス A からクラス B に画像を変換したい場合は、`cp ./checkpoints/horse2zebra/latest_net_G_A.pth ./checkpoints/horse2zebra/latest_net_G.pth` としてください。\n",
        "- 反対に クラス B からクラス A に画像を変換したい場合は、`cp ./checkpoints/horse2zebra/latest_net_G_B.pth ./checkpoints/horse2zebra/latest_net_G.pth` としてください。\n",
        "\n",
        "<!-- \n",
        "Once your model has trained, copy over the last checkpoint to a format that the testing model can automatically detect:\n",
        "\n",
        "Use `cp ./checkpoints/horse2zebra/latest_net_G_A.pth ./checkpoints/horse2zebra/latest_net_G.pth` if you want to transform images from class A to class B and `cp ./checkpoints/horse2zebra/latest_net_G_B.pth ./checkpoints/horse2zebra/latest_net_G.pth` if you want to transform images from class B to class A. -->\n"
      ]
    },
    {
      "cell_type": "code",
      "metadata": {
        "id": "0sp7TCT2x9dB"
      },
      "source": [
        "# 今回は時間がかかるので訓練を行いません。\n",
        "# 次に進んでください。訓練を行う場合には，次行の行頭の # を削除して本セルを実行してください\n",
        "#!python train.py --dataroot ./datasets/horse2zebra --name horse2zebra --model cycle_gan"
      ],
      "execution_count": null,
      "outputs": []
    },
    {
      "cell_type": "markdown",
      "metadata": {
        "id": "9UkcaFZiyASl"
      },
      "source": [
        "# テストデータによる検証 (Testing)\n",
        "\n",
        "-   `python test.py --dataroot datasets/horse2zebra/testA --name horse2zebra_pretrained --model test --no_dropout`\n",
        "\n",
        "自分で選んだデータに合わせて，`--dataroot` と `--name` を変更してください\n",
        "\n",
        "<!-- Change the `--dataroot` and `--name` to be consistent with your trained model's configuration. -->\n",
        "\n",
        "> `https://github.com/junyanz/pytorch-CycleGAN-and-pix2pix` より引用:\n",
        "> `--model test` オプション を指定すると CycleGAN の結果を片側だけで生成します。\n",
        "このオプションを指定すると 自動的に `--dataset_mode single` が設定されます。\n",
        "この場合，片方のデータセットからのみ画像を読み込むようになります。\n",
        "逆に、`--model cycle_gan` オプションを使うと、両方向の結果をロードして生成する必要があります。\n",
        "ですが，このオプションは不要な場合もあります。\n",
        "結果は `./results/` フォルダに保存されます。\n",
        "結果のディレクトリを指定するには `--results_dir {結果を保存するフォルダ名}` を使います。\n",
        "\n",
        "<!-- \n",
        "> from https://github.com/junyanz/pytorch-CycleGAN-and-pix2pix:\n",
        "> The option --model test is used for generating results of CycleGAN only for one side. This option will automatically set --dataset_mode single, which only loads the images from one set. On the contrary, using --model cycle_gan requires loading and generating results in both directions, which is sometimes unnecessary. The results will be saved at ./results/. Use --results_dir {directory_path_to_save_result} to specify the results directory. -->\n",
        "\n",
        "> 自作のデータで実験するには --netG, --norm, --no_dropout を指定して、学習したモデルの生成器アーキテクチャに合わせるのもいいかもしれません。\n",
        "\n",
        "<!-- > For your own experiments, you might want to specify --netG, --norm, --no_dropout to match the generator architecture of the trained model. -->"
      ]
    },
    {
      "cell_type": "code",
      "metadata": {
        "id": "9K8nngcJ5WkX"
      },
      "source": [
        "#!ls -lt ../datasets/ukiyoe2photo/testA\n",
        "#!ls ../checkpoints"
      ],
      "execution_count": null,
      "outputs": []
    },
    {
      "cell_type": "code",
      "metadata": {
        "id": "uCsKkEq0yGh0"
      },
      "source": [
        "#!python test.py --dataroot datasets/horse2zebra/testA --name horse2zebra_pretrained --model test --no_dropout\n",
        "!python test.py --dataroot ../datasets/ukiyoe2photo/testA --name style_ukiyoe_pretrained --model test --no_dropout"
      ],
      "execution_count": null,
      "outputs": []
    },
    {
      "cell_type": "markdown",
      "metadata": {
        "id": "OzSKIPUByfiN"
      },
      "source": [
        "# 結果の視覚化 (Visualize)"
      ]
    },
    {
      "cell_type": "code",
      "metadata": {
        "id": "SQdjejoA9Yhq"
      },
      "source": [
        "!ls results/style_ukiyoe_pretrained/test_latest/images/"
      ],
      "execution_count": null,
      "outputs": []
    },
    {
      "cell_type": "code",
      "metadata": {
        "id": "9Mgg8raPyizq"
      },
      "source": [
        "import matplotlib.pyplot as plt\n",
        "\n",
        "img = plt.imread('./results/style_ukiyoe_pretrained/test_latest/images/01200_fake.png')\n",
        "#img = plt.imread('./results/horse2zebra_pretrained/test_latest/images/n02381460_1010_fake.png')\n",
        "plt.figure(figsize=(12,12))\n",
        "plt.axis('off')\n",
        "plt.title('fake image')\n",
        "plt.imshow(img)"
      ],
      "execution_count": null,
      "outputs": []
    },
    {
      "cell_type": "code",
      "metadata": {
        "id": "0G3oVH9DyqLQ"
      },
      "source": [
        "import matplotlib.pyplot as plt\n",
        "\n",
        "img = plt.imread('./results/style_ukiyoe_pretrained/test_latest/images/01200_real.png')\n",
        "#img = plt.imread('./results/horse2zebra_pretrained/test_latest/images/n02381460_1010_real.png')\n",
        "plt.figure(figsize=(12,12))\n",
        "plt.axis('off')\n",
        "plt.title('real image')\n",
        "plt.imshow(img)"
      ],
      "execution_count": null,
      "outputs": []
    }
  ]
}