{
  "nbformat": 4,
  "nbformat_minor": 0,
  "metadata": {
    "colab": {
      "provenance": [],
      "authorship_tag": "ABX9TyO55C9+x2LT3hwLELDGO8aR",
      "include_colab_link": true
    },
    "kernelspec": {
      "name": "python3",
      "display_name": "Python 3"
    },
    "language_info": {
      "name": "python"
    }
  },
  "cells": [
    {
      "cell_type": "markdown",
      "metadata": {
        "id": "view-in-github",
        "colab_type": "text"
      },
      "source": [
        "<a href=\"https://colab.research.google.com/github/komazawa-deep-learning/komazawa-deep-learning.github.io/blob/master/2021notebooks/2022_0916mecab_test.ipynb\" target=\"_parent\"><img src=\"https://colab.research.google.com/assets/colab-badge.svg\" alt=\"Open In Colab\"/></a>"
      ]
    },
    {
      "cell_type": "code",
      "execution_count": 8,
      "metadata": {
        "colab": {
          "base_uri": "https://localhost:8080/"
        },
        "id": "Bs7lE3J8x4bl",
        "outputId": "b3015416-cfd0-4645-89bf-23f3ad5b9c76"
      },
      "outputs": [
        {
          "output_type": "stream",
          "name": "stdout",
          "text": [
            "\n",
            "WARNING: apt does not have a stable CLI interface. Use with caution in scripts.\n",
            "\n"
          ]
        }
      ],
      "source": [
        "!apt install aptitude > /dev/null\n",
        "!aptitude install mecab libmecab-dev mecab-ipadic-utf8 git make curl xz-utils file -y > /dev/null\n",
        "!pip install mecab-python3==0.7 > /dev/null"
      ]
    },
    {
      "cell_type": "code",
      "source": [
        "import MeCab\n",
        "wakati = MeCab.Tagger('-Owakati')\n",
        "sent = 'すももも、もも。ももももも。ももにもいろいろある。'\n",
        "wakati.parse(sent)"
      ],
      "metadata": {
        "colab": {
          "base_uri": "https://localhost:8080/",
          "height": 35
        },
        "id": "MkbQUek1x5Sh",
        "outputId": "73b3fe0e-d1ef-4d63-b176-0ce4fbaad91b"
      },
      "execution_count": 16,
      "outputs": [
        {
          "output_type": "execute_result",
          "data": {
            "text/plain": [
              "'すもも も 、 もも 。 もも も もも 。 もも に も いろいろ ある 。 \\n'"
            ],
            "application/vnd.google.colaboratory.intrinsic+json": {
              "type": "string"
            }
          },
          "metadata": {},
          "execution_count": 16
        }
      ]
    },
    {
      "cell_type": "code",
      "source": [
        "tagger = MeCab.Tagger()\n",
        "[p.split('\\t') for p in tagger.parse(sent).strip().split('\\n')]\n"
      ],
      "metadata": {
        "colab": {
          "base_uri": "https://localhost:8080/"
        },
        "id": "iHEiCf1jyZXC",
        "outputId": "59f7ae3e-c022-44f2-89f4-50b7df8cc85f"
      },
      "execution_count": 17,
      "outputs": [
        {
          "output_type": "execute_result",
          "data": {
            "text/plain": [
              "[['すもも', '名詞,一般,*,*,*,*,すもも,スモモ,スモモ'],\n",
              " ['も', '助詞,係助詞,*,*,*,*,も,モ,モ'],\n",
              " ['、', '記号,読点,*,*,*,*,、,、,、'],\n",
              " ['もも', '名詞,一般,*,*,*,*,もも,モモ,モモ'],\n",
              " ['。', '記号,句点,*,*,*,*,。,。,。'],\n",
              " ['もも', '名詞,一般,*,*,*,*,もも,モモ,モモ'],\n",
              " ['も', '助詞,係助詞,*,*,*,*,も,モ,モ'],\n",
              " ['もも', '名詞,一般,*,*,*,*,もも,モモ,モモ'],\n",
              " ['。', '記号,句点,*,*,*,*,。,。,。'],\n",
              " ['もも', '名詞,一般,*,*,*,*,もも,モモ,モモ'],\n",
              " ['に', '助詞,格助詞,一般,*,*,*,に,ニ,ニ'],\n",
              " ['も', '助詞,係助詞,*,*,*,*,も,モ,モ'],\n",
              " ['いろいろ', '副詞,助詞類接続,*,*,*,*,いろいろ,イロイロ,イロイロ'],\n",
              " ['ある', '動詞,自立,*,*,五段・ラ行,基本形,ある,アル,アル'],\n",
              " ['。', '記号,句点,*,*,*,*,。,。,。'],\n",
              " ['EOS']]"
            ]
          },
          "metadata": {},
          "execution_count": 17
        }
      ]
    },
    {
      "cell_type": "code",
      "source": [],
      "metadata": {
        "id": "YWi1usjuzMTd"
      },
      "execution_count": null,
      "outputs": []
    }
  ]
}