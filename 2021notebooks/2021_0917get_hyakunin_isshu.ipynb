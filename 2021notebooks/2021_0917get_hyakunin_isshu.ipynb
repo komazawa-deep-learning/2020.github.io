{
  "nbformat": 4,
  "nbformat_minor": 0,
  "metadata": {
    "colab": {
      "name": "2021_0917get_hyakunin_isshu.ipynb",
      "private_outputs": true,
      "provenance": [],
      "authorship_tag": "ABX9TyOcNoEcW/m6OMC/mIAX+HTg",
      "include_colab_link": true
    },
    "kernelspec": {
      "name": "python3",
      "display_name": "Python 3"
    },
    "language_info": {
      "name": "python"
    }
  },
  "cells": [
    {
      "cell_type": "markdown",
      "metadata": {
        "id": "view-in-github",
        "colab_type": "text"
      },
      "source": [
        "<a href=\"https://colab.research.google.com/github/komazawa-deep-learning/komazawa-deep-learning.github.io/blob/master/2021notebooks/2021_0917get_hyakunin_isshu.ipynb\" target=\"_parent\"><img src=\"https://colab.research.google.com/assets/colab-badge.svg\" alt=\"Open In Colab\"/></a>"
      ]
    },
    {
      "cell_type": "code",
      "metadata": {
        "id": "Ik9mb5hZbBCL"
      },
      "source": [
        "# -*- coding: utf-8 -*-\n",
        "# 百人一首を用いた自然言語処理実習\n",
        "import sys\n",
        "import numpy as np\n",
        "import requests\n",
        "url = 'http://www.diana.dti.ne.jp/~fujikura/List/List.html'\n",
        "page = requests.get(url)  # url から内容を取得\n",
        "\n",
        "from bs4 import BeautifulSoup\n",
        "soup = BeautifulSoup(page.content, 'html.parser')\n",
        "# print(soup.prettify()) 確認のため表示\n",
        "body = list(soup.children)[0]"
      ],
      "execution_count": null,
      "outputs": []
    },
    {
      "cell_type": "code",
      "metadata": {
        "id": "HAq8Q-L1bDi5"
      },
      "source": [
        "i = 1\n",
        "# 最初と最後は百人一首の歌と無関係なため [1:-1] で除外\n",
        "\n",
        "for tanka in body.getText().split()[1:-1]:\n",
        "    mod = i % 7\n",
        "    if mod == 1:\n",
        "        print(tanka, end=\":\")\n",
        "    else:\n",
        "        print(tanka, end=\" \")\n",
        "    print() if mod == 0 else None\n",
        "    i += 1\n",
        "    "
      ],
      "execution_count": null,
      "outputs": []
    },
    {
      "cell_type": "code",
      "metadata": {
        "id": "W4_deuDhbGzg"
      },
      "source": [
        "all_hyakunin = soup.getText().split()[1:-1]\n",
        "print(len(all_hyakunin))\n",
        "songs = {}\n",
        "for song_n in range(len(all_hyakunin) // 7):\n",
        "    #print(song_n)\n",
        "    songs[song_n] = {\n",
        "        'kami': all_hyakunin[song_n * 7 + 2],\n",
        "        'simo' :all_hyakunin[song_n * 7 + 3],\n",
        "        'kami_yomi': all_hyakunin[song_n * 7 + 4],\n",
        "        'simo_yomi': all_hyakunin[song_n * 7 + 5],\n",
        "        'yomihito' : all_hyakunin[song_n * 7 + 6]\n",
        "    }\n",
        "\n",
        "#print(len(songs))\n",
        "#songs[0]"
      ],
      "execution_count": null,
      "outputs": []
    },
    {
      "cell_type": "code",
      "metadata": {
        "id": "sSkb1GvFbKQT"
      },
      "source": [
        "O = []    \n",
        "for x in songs:\n",
        "    O.append([c_ for c in [songs[x]['kami'], songs[x]['simo']] for c_ in c])\n",
        "\n",
        "out_fname = 'train.txt'\n",
        "with open(out_fname, 'w') as f:\n",
        "    for song in O:\n",
        "        for ch in song[:-1]:\n",
        "            f.write(ch + ' ')\n",
        "        f.write('\\n')\n"
      ],
      "execution_count": null,
      "outputs": []
    },
    {
      "cell_type": "code",
      "metadata": {
        "id": "s9Rm3gKVbONq"
      },
      "source": [
        "!head train.txt"
      ],
      "execution_count": null,
      "outputs": []
    },
    {
      "cell_type": "code",
      "metadata": {
        "id": "Klp3glg7bPtR"
      },
      "source": [
        ""
      ],
      "execution_count": null,
      "outputs": []
    }
  ]
}